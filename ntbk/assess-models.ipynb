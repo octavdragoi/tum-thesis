{
 "cells": [
  {
   "cell_type": "code",
   "execution_count": 1,
   "metadata": {},
   "outputs": [
    {
     "name": "stdout",
     "output_type": "stream",
     "text": [
      "/home/octav/gitrepos/tum-thesis\n"
     ]
    }
   ],
   "source": [
    "import os\n",
    "if \"ntbk\" in os.getcwd():\n",
    "    os.chdir(\"..\")\n",
    "print(os.getcwd())\n",
    "\n",
    "import sys\n",
    "sys.path.append(os.path.join(os.getcwd(), \"otgnn\"))\n",
    "\n",
    "\n",
    "%load_ext autoreload\n",
    "%autoreload 2"
   ]
  },
  {
   "cell_type": "code",
   "execution_count": 2,
   "metadata": {},
   "outputs": [],
   "source": [
    "from otgnn.models import GCN\n",
    "from otgnn.graph import MolGraph\n",
    "from otgnn.utils import save_model, load_model\n",
    "from otgnn.graph import SYMBOLS, FORMAL_CHARGES, BOND_TYPES\n",
    "\n",
    "\n",
    "from mol_opt.data_mol_opt import MolOptDataset\n",
    "from mol_opt.data_mol_opt import get_loader\n",
    "from mol_opt.arguments import get_args\n",
    "from mol_opt.train_mol_opt import main\n",
    "from mol_opt.mol_opt import MolOpt\n",
    "from mol_opt.decoder_mol_opt import MolOptDecoder\n",
    "from mol_opt.fgw import encode_target\n",
    "\n",
    "from molgen.dataloading.feat2smiles import feat2smiles\n",
    "from molgen.dataloading.mol_drawer import MolDrawer\n",
    "\n",
    "from rdkit.Chem import MolFromSmiles\n",
    "\n",
    "import torch\n",
    "import numpy as np\n",
    "import time"
   ]
  },
  {
   "cell_type": "code",
   "execution_count": 3,
   "metadata": {},
   "outputs": [],
   "source": [
    "sys.argv = [\"\", \"-cuda\"]\n",
    "args = get_args()\n",
    "args.output_dir = \"mol_opt/output/\""
   ]
  },
  {
   "cell_type": "code",
   "execution_count": 4,
   "metadata": {},
   "outputs": [
    {
     "data": {
      "text/plain": [
       "(MolOpt(\n",
       "   (GCN): GCN(\n",
       "     (W_message_i): Linear(in_features=100, out_features=50, bias=False)\n",
       "     (W_message_h): Linear(in_features=50, out_features=50, bias=False)\n",
       "     (W_message_o): Linear(in_features=143, out_features=50, bias=True)\n",
       "     (W_mol_h): Linear(in_features=50, out_features=100, bias=True)\n",
       "     (W_mol_o): Linear(in_features=100, out_features=1, bias=True)\n",
       "     (dropout_gcn): Dropout(p=0.0, inplace=False)\n",
       "     (dropout_ffn): Dropout(p=0.0, inplace=False)\n",
       "   )\n",
       "   (opt0): Linear(in_features=50, out_features=50, bias=True)\n",
       "   (opt1): Linear(in_features=50, out_features=50, bias=True)\n",
       " ),\n",
       " Namespace(agg_func='sum', batch_norm=False, cuda=True, device='cuda:0', dropout_ffn=0.0, dropout_gcn=0.0, ffn_activation='LeakyReLU', init_decoder_model='gcn3_decode', init_model='gcn3', linear_out=False, n_epochs=1, n_ffn_hidden=100, n_hidden=50, n_labels=1, n_layers=5, output_dir='mol_opt/output', pc_hidden=50, pred_hidden=50))"
      ]
     },
     "execution_count": 4,
     "metadata": {},
     "output_type": "execute_result"
    }
   ],
   "source": [
    "molopt, config = load_model(args.output_dir + \"model_gcn3_123\", MolOpt, args.device)\n",
    "molopt, config"
   ]
  },
  {
   "cell_type": "code",
   "execution_count": 5,
   "metadata": {},
   "outputs": [
    {
     "data": {
      "text/plain": [
       "(MolOptDecoder(\n",
       "   (fc1_SYMBOLS): Linear(in_features=50, out_features=50, bias=True)\n",
       "   (fc2_SYMBOLS): Linear(in_features=50, out_features=64, bias=True)\n",
       "   (fc1_CHARGES): Linear(in_features=50, out_features=50, bias=True)\n",
       "   (fc2_CHARGES): Linear(in_features=50, out_features=5, bias=True)\n",
       "   (fc1_BONDS): Linear(in_features=100, out_features=50, bias=True)\n",
       "   (fc2_BONDS): Linear(in_features=50, out_features=5, bias=True)\n",
       " ),\n",
       " Namespace(agg_func='sum', batch_norm=False, cuda=True, device='cuda:0', dropout_ffn=0.0, dropout_gcn=0.0, ffn_activation='LeakyReLU', init_decoder_model='gcn3_decode', init_model='gcn3', linear_out=False, n_epochs=1, n_ffn_hidden=100, n_hidden=50, n_labels=1, n_layers=5, output_dir='mol_opt/output', pc_hidden=50, pred_hidden=50))"
      ]
     },
     "execution_count": 5,
     "metadata": {},
     "output_type": "execute_result"
    }
   ],
   "source": [
    "molopt_decoder, config_decoder = load_model(args.output_dir + \"model_gcn3_decode_123\", MolOptDecoder, args.device)\n",
    "molopt_decoder, config_decoder"
   ]
  },
  {
   "cell_type": "code",
   "execution_count": 6,
   "metadata": {},
   "outputs": [],
   "source": [
    "train_data_loader = get_loader(\"iclr19-graph2graph/data/qed\", \"train\", 48, True)\n",
    "val_data_loader = get_loader(\"iclr19-graph2graph/data/qed\", \"val\", 48, True)"
   ]
  },
  {
   "cell_type": "code",
   "execution_count": 7,
   "metadata": {},
   "outputs": [],
   "source": [
    "for i in val_data_loader:\n",
    "    X = (MolGraph(i[0]))\n",
    "    Y = (MolGraph(i[1]))\n",
    "    break"
   ]
  },
  {
   "cell_type": "markdown",
   "metadata": {},
   "source": [
    "# Assess GCN"
   ]
  },
  {
   "cell_type": "code",
   "execution_count": 8,
   "metadata": {},
   "outputs": [],
   "source": [
    "x_embedding, x_delta_hat = molopt.forward(X)\n",
    "y_embedding = molopt.encode(Y)"
   ]
  },
  {
   "cell_type": "code",
   "execution_count": 9,
   "metadata": {},
   "outputs": [
    {
     "data": {
      "text/plain": [
       "tensor([[  54.4833,  -92.9698,   69.4455,  ...,  -48.8200,  -36.5185,\n",
       "           46.4153],\n",
       "        [  27.2280,  -87.4215,   63.3841,  ...,  -97.9667,  -75.4884,\n",
       "           52.1544],\n",
       "        [  38.0533,  -83.1627,   66.2401,  ...,  -81.5087,  -53.6912,\n",
       "           45.2554],\n",
       "        ...,\n",
       "        [  72.5814, -111.4858,   86.8763,  ...,  -38.2057,  -27.3535,\n",
       "           47.9529],\n",
       "        [  19.3477,  -31.8698,   58.0286,  ...,  -34.4822,  -66.1560,\n",
       "           36.3165],\n",
       "        [  28.4368,   29.2973,   86.1600,  ..., -113.5144,  -91.9907,\n",
       "           31.7262]], device='cuda:0', grad_fn=<AddBackward0>)"
      ]
     },
     "execution_count": 9,
     "metadata": {},
     "output_type": "execute_result"
    }
   ],
   "source": [
    "x_embedding + x_delta_hat"
   ]
  },
  {
   "cell_type": "code",
   "execution_count": 10,
   "metadata": {},
   "outputs": [
    {
     "data": {
      "text/plain": [
       "tensor([[  1.0275,   5.2332,   4.9076,  ...,  -0.1102,  -4.6409,   9.6365],\n",
       "        [ -3.7336,   3.8080,  -3.3415,  ...,   6.5349,  -3.4549,  12.3156],\n",
       "        [-11.5693,   6.7365,  -1.9683,  ...,  -3.5168,  -0.9344,   5.0738],\n",
       "        ...,\n",
       "        [  6.4145,   0.8702,   1.1931,  ...,   1.0504,  -7.6094,   6.8339],\n",
       "        [ -5.8024,  -0.3618,  -0.1412,  ...,  -0.3977,  -3.0978,   5.2975],\n",
       "        [ -3.4887,   0.1085,   1.1460,  ...,  -3.2997,  -4.6300,   3.2439]],\n",
       "       device='cuda:0', grad_fn=<AddmmBackward>)"
      ]
     },
     "execution_count": 10,
     "metadata": {},
     "output_type": "execute_result"
    }
   ],
   "source": [
    "y_embedding"
   ]
  },
  {
   "cell_type": "code",
   "execution_count": 11,
   "metadata": {},
   "outputs": [
    {
     "data": {
      "text/plain": [
       "tensor([[ 3.2541,  0.9079,  2.0818,  ..., -0.4530, -0.6870, 10.7181],\n",
       "        [-4.7226,  2.0234,  3.6004,  ..., -7.1243, -5.1279,  7.1974],\n",
       "        [-0.2887, -1.2837, 11.8498,  ..., -2.4560,  0.2970,  4.6080],\n",
       "        ...,\n",
       "        [ 5.3946, -1.4264,  3.0134,  ...,  4.3871, -0.7321,  1.6377],\n",
       "        [-5.1021,  2.7773,  3.5497,  ...,  1.3156, -6.4151,  7.3006],\n",
       "        [-5.5785,  2.6395,  2.6669,  ...,  1.7412, -5.4692,  8.5676]],\n",
       "       device='cuda:0', grad_fn=<AddmmBackward>)"
      ]
     },
     "execution_count": 11,
     "metadata": {},
     "output_type": "execute_result"
    }
   ],
   "source": [
    "x_embedding"
   ]
  },
  {
   "cell_type": "code",
   "execution_count": 12,
   "metadata": {},
   "outputs": [
    {
     "data": {
      "text/plain": [
       "tensor([[  51.2291,  -93.8777,   67.3637,  ...,  -48.3670,  -35.8315,\n",
       "           35.6972],\n",
       "        [  31.9506,  -89.4450,   59.7837,  ...,  -90.8423,  -70.3604,\n",
       "           44.9571],\n",
       "        [  38.3420,  -81.8791,   54.3903,  ...,  -79.0527,  -53.9882,\n",
       "           40.6473],\n",
       "        ...,\n",
       "        [  67.1868, -110.0594,   83.8629,  ...,  -42.5928,  -26.6214,\n",
       "           46.3152],\n",
       "        [  24.4498,  -34.6471,   54.4789,  ...,  -35.7978,  -59.7409,\n",
       "           29.0159],\n",
       "        [  34.0153,   26.6578,   83.4931,  ..., -115.2556,  -86.5215,\n",
       "           23.1586]], device='cuda:0', grad_fn=<AddmmBackward>)"
      ]
     },
     "execution_count": 12,
     "metadata": {},
     "output_type": "execute_result"
    }
   ],
   "source": [
    "x_delta_hat"
   ]
  },
  {
   "cell_type": "markdown",
   "metadata": {},
   "source": [
    "# Run all model, get some predictions"
   ]
  },
  {
   "cell_type": "code",
   "execution_count": 13,
   "metadata": {},
   "outputs": [],
   "source": [
    "for idx, i in enumerate(val_data_loader):\n",
    "    if idx == 1:\n",
    "        X = (MolGraph(i[0]))\n",
    "        Y = (MolGraph(i[1]))\n",
    "        break"
   ]
  },
  {
   "cell_type": "code",
   "execution_count": 14,
   "metadata": {},
   "outputs": [],
   "source": [
    "x_embedding, x_delta_hat = molopt.forward(X)\n",
    "results_logits = molopt_decoder.forward(x_embedding + x_delta_hat, X)\n",
    "results_labels = molopt_decoder.discretize(*results_logits)"
   ]
  },
  {
   "cell_type": "code",
   "execution_count": 15,
   "metadata": {},
   "outputs": [],
   "source": [
    "symbols_logits, charges_logits, bonds_logits = results_logits\n",
    "symbols_labels, charges_labels, bonds_labels = results_labels"
   ]
  },
  {
   "cell_type": "code",
   "execution_count": 16,
   "metadata": {},
   "outputs": [
    {
     "data": {
      "text/plain": [
       "tensor([2, 0, 0,  ..., 0, 0, 0], device='cuda:0', grad_fn=<NotImplemented>)"
      ]
     },
     "execution_count": 16,
     "metadata": {},
     "output_type": "execute_result"
    }
   ],
   "source": [
    "symbols_labels"
   ]
  },
  {
   "cell_type": "code",
   "execution_count": 17,
   "metadata": {},
   "outputs": [],
   "source": [
    "bonds_labels_arr = bonds_labels.cpu().numpy()"
   ]
  },
  {
   "cell_type": "code",
   "execution_count": 18,
   "metadata": {},
   "outputs": [
    {
     "data": {
      "text/plain": [
       "(array([0, 1, 2, 3, 4]), array([  302,    90,     4,   373, 21884]))"
      ]
     },
     "execution_count": 18,
     "metadata": {},
     "output_type": "execute_result"
    }
   ],
   "source": [
    "np.unique(bonds_labels_arr, return_counts=True)"
   ]
  },
  {
   "cell_type": "code",
   "execution_count": 19,
   "metadata": {},
   "outputs": [],
   "source": [
    "target_symbols, target_bonds = encode_target(Y)\n",
    "target_charges = target_symbols\n",
    "target_symbols_labels, target_charges_labels, target_bonds_labels = molopt_decoder.discretize(target_symbols, target_charges, target_bonds)"
   ]
  },
  {
   "cell_type": "code",
   "execution_count": 20,
   "metadata": {},
   "outputs": [
    {
     "name": "stdout",
     "output_type": "stream",
     "text": [
      "(array([0, 1, 2, 3, 4, 7, 8]), array([792, 113,  92,   7,  22,   5,   6]))\n",
      "(array([0, 1, 2, 3, 4, 7, 8]), array([805, 108,  91,   8,  16,   5,   4]))\n"
     ]
    }
   ],
   "source": [
    "print (np.unique(target_symbols_labels.cpu().numpy(), return_counts=True))\n",
    "print (np.unique(symbols_labels.cpu().numpy(), return_counts=True))"
   ]
  },
  {
   "cell_type": "code",
   "execution_count": 21,
   "metadata": {},
   "outputs": [
    {
     "name": "stdout",
     "output_type": "stream",
     "text": [
      "(array([0, 1, 2, 3, 4]), array([ 1164,   106,     4,   960, 20419]))\n",
      "(array([0, 1, 2, 3, 4]), array([  302,    90,     4,   373, 21884]))\n"
     ]
    }
   ],
   "source": [
    "print (np.unique(target_bonds_labels.cpu().numpy(), return_counts=True))\n",
    "print (np.unique(bonds_labels.cpu().numpy(), return_counts=True))"
   ]
  },
  {
   "cell_type": "code",
   "execution_count": 22,
   "metadata": {},
   "outputs": [
    {
     "data": {
      "text/plain": [
       "tensor([[ 1.8041e+01,  1.7211e+01,  2.5616e+01,  ..., -1.5842e+01,\n",
       "          7.7784e+00,  9.1317e+00],\n",
       "        [ 3.0312e+01,  1.6935e+01,  2.0793e+01,  ..., -1.1996e+01,\n",
       "          1.0808e+01,  9.5764e+00],\n",
       "        [ 3.2457e+01,  1.8741e+01,  1.5606e+01,  ...,  4.1714e+00,\n",
       "          6.2777e+00,  1.7968e+01],\n",
       "        ...,\n",
       "        [ 2.7157e+01,  1.7626e+01,  1.0654e+01,  ..., -4.2492e+00,\n",
       "          1.9643e+00,  4.4446e+00],\n",
       "        [ 2.0630e+01,  1.4614e+01,  1.2508e+01,  ..., -5.7855e+00,\n",
       "         -1.3627e-02,  6.4817e+00],\n",
       "        [ 3.2913e+01,  1.8050e+01,  1.4593e+01,  ...,  7.8303e-01,\n",
       "          4.1754e+00,  1.5034e+01]], device='cuda:0', grad_fn=<AddmmBackward>)"
      ]
     },
     "execution_count": 22,
     "metadata": {},
     "output_type": "execute_result"
    }
   ],
   "source": [
    "symbols_logits"
   ]
  },
  {
   "cell_type": "code",
   "execution_count": 23,
   "metadata": {},
   "outputs": [
    {
     "data": {
      "text/plain": [
       "tensor([2, 0, 0,  ..., 0, 0, 0], device='cuda:0', grad_fn=<NotImplemented>)"
      ]
     },
     "execution_count": 23,
     "metadata": {},
     "output_type": "execute_result"
    }
   ],
   "source": [
    "symbols_labels"
   ]
  },
  {
   "cell_type": "code",
   "execution_count": 24,
   "metadata": {},
   "outputs": [
    {
     "data": {
      "text/plain": [
       "'/home/octav/gitrepos/tum-thesis'"
      ]
     },
     "execution_count": 24,
     "metadata": {},
     "output_type": "execute_result"
    }
   ],
   "source": [
    "os.getcwd()"
   ]
  },
  {
   "cell_type": "markdown",
   "metadata": {},
   "source": [
    "# Visualize"
   ]
  },
  {
   "cell_type": "code",
   "execution_count": 25,
   "metadata": {},
   "outputs": [],
   "source": [
    "from tensorboardX import SummaryWriter\n",
    "tb_writer = SummaryWriter(logdir = \"mol_opt/logs\")\n",
    "\n",
    "mol_drawer = MolDrawer(tb_writer, SYMBOLS, BOND_TYPES, FORMAL_CHARGES)"
   ]
  },
  {
   "cell_type": "code",
   "execution_count": 32,
   "metadata": {},
   "outputs": [],
   "source": [
    "#preprocess\n",
    "from rdkit import Chem\n",
    "initial_smiles = [Chem.MolToSmiles(x) for x in X.rd_mols]\n",
    "target_smiles = [Chem.MolToSmiles(y) for y in Y.rd_mols]\n",
    "\n",
    "labels = (symbols_labels, charges_labels, bonds_labels)\n",
    "# labels = (target_symbols_labels, target_charges_labels, target_bonds_labels)\n",
    "prediction = (labels, None, Y.scope)"
   ]
  },
  {
   "cell_type": "code",
   "execution_count": 36,
   "metadata": {},
   "outputs": [],
   "source": [
    "mol_drawer.visualize_batch(prediction, target_smiles, 1, initial_smiles)"
   ]
  },
  {
   "cell_type": "code",
   "execution_count": 31,
   "metadata": {},
   "outputs": [],
   "source": [
    "import io"
   ]
  },
  {
   "cell_type": "code",
   "execution_count": null,
   "metadata": {},
   "outputs": [],
   "source": [
    "bonds_labels"
   ]
  },
  {
   "cell_type": "code",
   "execution_count": null,
   "metadata": {},
   "outputs": [],
   "source": []
  },
  {
   "cell_type": "code",
   "execution_count": null,
   "metadata": {},
   "outputs": [],
   "source": []
  }
 ],
 "metadata": {
  "kernelspec": {
   "display_name": "Python 3",
   "language": "python",
   "name": "python3"
  },
  "language_info": {
   "codemirror_mode": {
    "name": "ipython",
    "version": 3
   },
   "file_extension": ".py",
   "mimetype": "text/x-python",
   "name": "python",
   "nbconvert_exporter": "python",
   "pygments_lexer": "ipython3",
   "version": "3.6.8"
  }
 },
 "nbformat": 4,
 "nbformat_minor": 4
}
