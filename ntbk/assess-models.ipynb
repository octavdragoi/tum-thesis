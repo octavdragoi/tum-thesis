{
 "cells": [
  {
   "cell_type": "code",
   "execution_count": 1,
   "metadata": {},
   "outputs": [
    {
     "name": "stdout",
     "output_type": "stream",
     "text": [
      "/home/octav/gitrepos/tum-thesis\n"
     ]
    }
   ],
   "source": [
    "import os\n",
    "if \"ntbk\" in os.getcwd():\n",
    "    os.chdir(\"..\")\n",
    "print(os.getcwd())\n",
    "\n",
    "import sys\n",
    "sys.path.append(os.path.join(os.getcwd(), \"otgnn\"))\n",
    "\n",
    "\n",
    "%load_ext autoreload\n",
    "%autoreload 2"
   ]
  },
  {
   "cell_type": "code",
   "execution_count": 2,
   "metadata": {},
   "outputs": [],
   "source": [
    "from otgnn.models import GCN\n",
    "from otgnn.graph import MolGraph\n",
    "from otgnn.utils import save_model, load_model\n",
    "from otgnn.graph import SYMBOLS, FORMAL_CHARGES, BOND_TYPES\n",
    "\n",
    "\n",
    "from mol_opt.data_mol_opt import MolOptDataset\n",
    "from mol_opt.data_mol_opt import get_loader\n",
    "from mol_opt.arguments import get_args\n",
    "from mol_opt.train_mol_opt import main\n",
    "from mol_opt.mol_opt import MolOpt\n",
    "from mol_opt.decoder_mol_opt import MolOptDecoder\n",
    "from mol_opt.ot_utils import encode_target\n",
    "\n",
    "from molgen.dataloading.feat2smiles import feat2smiles\n",
    "from molgen.dataloading.mol_drawer import MolDrawer\n",
    "\n",
    "from rdkit.Chem import MolFromSmiles\n",
    "\n",
    "import torch\n",
    "import numpy as np\n",
    "import time"
   ]
  },
  {
   "cell_type": "code",
   "execution_count": 3,
   "metadata": {},
   "outputs": [],
   "source": [
    "sys.argv = [\"\", \"-cuda\"]\n",
    "args = get_args()\n",
    "args.output_dir = \"mol_opt/output/\""
   ]
  },
  {
   "cell_type": "code",
   "execution_count": 163,
   "metadata": {},
   "outputs": [
    {
     "data": {
      "text/plain": [
       "(MolOpt(\n",
       "   (GCN): GCN(\n",
       "     (W_message_i): Linear(in_features=100, out_features=50, bias=False)\n",
       "     (W_message_h): Linear(in_features=50, out_features=50, bias=False)\n",
       "     (W_message_o): Linear(in_features=143, out_features=50, bias=True)\n",
       "     (W_mol_h): Linear(in_features=50, out_features=100, bias=True)\n",
       "     (W_mol_o): Linear(in_features=100, out_features=1, bias=True)\n",
       "     (dropout_gcn): Dropout(p=0.0, inplace=False)\n",
       "     (dropout_ffn): Dropout(p=0.0, inplace=False)\n",
       "   )\n",
       "   (opt0): Linear(in_features=50, out_features=50, bias=True)\n",
       "   (opt1): Linear(in_features=50, out_features=50, bias=True)\n",
       " ),\n",
       " Namespace(N_transformer=6, agg_func='sum', batch_norm=False, cuda=True, device='cuda:0', dim_tangent_space=40, dropout_ffn=0.0, dropout_gcn=0.0, dropout_transformer=0.1, ffn_activation='LeakyReLU', init_decoder_model='transformer1_decode', init_model='transformer1', linear_out=False, n_epochs=40, n_ffn_hidden=100, n_ffn_transformer=100, n_heads_transformer=10, n_hidden=50, n_labels=1, n_layers=5, ot_solver='emd', output_dir='mol_opt/output', pc_hidden=50, penalty_lambda=0.015, pred_hidden=150, sinkhorn_entropy=0.1, sinkhorn_max_it=10000))"
      ]
     },
     "execution_count": 163,
     "metadata": {},
     "output_type": "execute_result"
    }
   ],
   "source": [
    "model = \"transformer1\"\n",
    "model_iter = 65 \n",
    "\n",
    "model_name = \"model_{}_{}\".format(model, model_iter)\n",
    "model_decode_name = \"model_{}_decode_{}\".format(model, model_iter)\n",
    "molopt, config = load_model(args.output_dir + model_name, MolOpt, args.device)\n",
    "molopt, config"
   ]
  },
  {
   "cell_type": "code",
   "execution_count": 164,
   "metadata": {},
   "outputs": [
    {
     "data": {
      "text/plain": [
       "(MolOptDecoder(\n",
       "   (fc1_SYMBOLS): Linear(in_features=50, out_features=150, bias=True)\n",
       "   (fc2_SYMBOLS): Linear(in_features=150, out_features=64, bias=True)\n",
       "   (fc1_CHARGES): Linear(in_features=50, out_features=150, bias=True)\n",
       "   (fc2_CHARGES): Linear(in_features=150, out_features=5, bias=True)\n",
       "   (fc1_BONDS): Linear(in_features=100, out_features=150, bias=True)\n",
       "   (fc2_BONDS): Linear(in_features=150, out_features=5, bias=True)\n",
       " ),\n",
       " Namespace(N_transformer=6, agg_func='sum', batch_norm=False, cuda=True, device='cuda:0', dim_tangent_space=40, dropout_ffn=0.0, dropout_gcn=0.0, dropout_transformer=0.1, ffn_activation='LeakyReLU', init_decoder_model='transformer1_decode', init_model='transformer1', linear_out=False, n_epochs=40, n_ffn_hidden=100, n_ffn_transformer=100, n_heads_transformer=10, n_hidden=50, n_labels=1, n_layers=5, ot_solver='emd', output_dir='mol_opt/output', pc_hidden=50, penalty_lambda=0.015, pred_hidden=150, sinkhorn_entropy=0.1, sinkhorn_max_it=10000))"
      ]
     },
     "execution_count": 164,
     "metadata": {},
     "output_type": "execute_result"
    }
   ],
   "source": [
    "molopt_decoder, config_decoder = load_model(args.output_dir + model_decode_name, MolOptDecoder, args.device)\n",
    "molopt_decoder, config_decoder"
   ]
  },
  {
   "cell_type": "code",
   "execution_count": 165,
   "metadata": {},
   "outputs": [],
   "source": [
    "train_data_loader = get_loader(\"iclr19-graph2graph/data/qed\", \"train\", 96, False)\n",
    "val_data_loader = get_loader(\"iclr19-graph2graph/data/qed\", \"val\", 96, False)"
   ]
  },
  {
   "cell_type": "code",
   "execution_count": 166,
   "metadata": {},
   "outputs": [],
   "source": [
    "for i in val_data_loader:\n",
    "    X = (MolGraph(i[0]))\n",
    "    Y = (MolGraph(i[1]))\n",
    "    break"
   ]
  },
  {
   "cell_type": "markdown",
   "metadata": {},
   "source": [
    "# Assess GCN"
   ]
  },
  {
   "cell_type": "code",
   "execution_count": 167,
   "metadata": {},
   "outputs": [],
   "source": [
    "x_embedding, x_delta_hat = molopt.forward(X)\n",
    "y_embedding = molopt.encode(Y)"
   ]
  },
  {
   "cell_type": "code",
   "execution_count": 168,
   "metadata": {},
   "outputs": [
    {
     "data": {
      "text/plain": [
       "tensor([[ 53.9534,  18.0619, 127.9203,  ..., 205.4508, -13.7877, 117.6844],\n",
       "        [  2.6774,   4.3066,  79.5204,  ..., 133.3041,  17.3828,  41.0220],\n",
       "        [ 19.5625, -13.5629,  46.0779,  ...,  70.5231,  18.2179,  24.8748],\n",
       "        ...,\n",
       "        [ 35.6772,  -8.8476,  94.7022,  ..., 180.1953,  -7.6483,  86.9991],\n",
       "        [  6.1454,  25.7984,  97.7587,  ..., 134.9748,   1.2747,  57.2661],\n",
       "        [ 30.6252,  27.5654, 138.7552,  ..., 164.7148, -17.5071, 104.5643]],\n",
       "       device='cuda:0', grad_fn=<AddBackward0>)"
      ]
     },
     "execution_count": 168,
     "metadata": {},
     "output_type": "execute_result"
    }
   ],
   "source": [
    "x_embedding + x_delta_hat"
   ]
  },
  {
   "cell_type": "code",
   "execution_count": 169,
   "metadata": {},
   "outputs": [
    {
     "data": {
      "text/plain": [
       "tensor([[ 0.1893,  0.5531, -0.6160,  ..., -0.0014, -0.2123,  1.0153],\n",
       "        [ 0.0498,  0.2393, -0.1993,  ..., -0.2156,  0.0070,  0.2408],\n",
       "        [ 0.0658,  0.0238, -0.0965,  ...,  0.0728,  0.1410,  0.0544],\n",
       "        ...,\n",
       "        [-0.0669,  0.3518,  0.0351,  ..., -0.1768, -0.0394,  0.4411],\n",
       "        [-0.0116,  0.1551, -0.3137,  ...,  0.0035,  0.0091,  0.3334],\n",
       "        [-0.1221, -0.0518,  0.0064,  ..., -0.1541,  0.0265,  0.2411]],\n",
       "       device='cuda:0', grad_fn=<CopySlices>)"
      ]
     },
     "execution_count": 169,
     "metadata": {},
     "output_type": "execute_result"
    }
   ],
   "source": [
    "y_embedding"
   ]
  },
  {
   "cell_type": "code",
   "execution_count": 170,
   "metadata": {},
   "outputs": [
    {
     "data": {
      "text/plain": [
       "tensor([[ 1.8826e-01,  5.5727e-01, -5.5762e-01,  ..., -4.1595e-02,\n",
       "         -2.2809e-01,  1.1088e+00],\n",
       "        [ 4.9842e-02,  2.3928e-01, -1.9931e-01,  ..., -2.1558e-01,\n",
       "          7.0240e-03,  2.4079e-01],\n",
       "        [ 5.1531e-02,  2.1008e-02, -2.0051e-01,  ...,  1.1533e-01,\n",
       "          1.5456e-01,  5.0281e-01],\n",
       "        ...,\n",
       "        [ 4.1171e-02,  2.1649e-01, -2.9196e-01,  ..., -1.8443e-01,\n",
       "          2.7536e-01,  3.4300e-01],\n",
       "        [-6.7063e-03,  1.3980e-01, -4.0490e-01,  ...,  3.2670e-02,\n",
       "          4.9516e-02,  4.7165e-01],\n",
       "        [-5.7216e-02, -1.1143e-01, -9.4287e-04,  ...,  1.7797e-02,\n",
       "         -5.7628e-02,  1.6475e-01]], device='cuda:0', grad_fn=<CopySlices>)"
      ]
     },
     "execution_count": 170,
     "metadata": {},
     "output_type": "execute_result"
    }
   ],
   "source": [
    "x_embedding"
   ]
  },
  {
   "cell_type": "code",
   "execution_count": 171,
   "metadata": {},
   "outputs": [
    {
     "data": {
      "text/plain": [
       "tensor([[ 53.7651,  17.5047, 128.4780,  ..., 205.4924, -13.5596, 116.5756],\n",
       "        [  2.6276,   4.0674,  79.7197,  ..., 133.5197,  17.3758,  40.7812],\n",
       "        [ 19.5109, -13.5839,  46.2784,  ...,  70.4078,  18.0634,  24.3720],\n",
       "        ...,\n",
       "        [ 35.6360,  -9.0641,  94.9942,  ..., 180.3797,  -7.9236,  86.6562],\n",
       "        [  6.1521,  25.6586,  98.1636,  ..., 134.9421,   1.2251,  56.7944],\n",
       "        [ 30.6825,  27.6768, 138.7562,  ..., 164.6970, -17.4495, 104.3995]],\n",
       "       device='cuda:0', grad_fn=<AddmmBackward>)"
      ]
     },
     "execution_count": 171,
     "metadata": {},
     "output_type": "execute_result"
    }
   ],
   "source": [
    "x_delta_hat"
   ]
  },
  {
   "cell_type": "markdown",
   "metadata": {},
   "source": [
    "# Run all model, get some predictions"
   ]
  },
  {
   "cell_type": "code",
   "execution_count": 172,
   "metadata": {},
   "outputs": [],
   "source": [
    "for idx, i in enumerate(val_data_loader):\n",
    "    if idx == 1:\n",
    "        X = (MolGraph(i[0]))\n",
    "        Y = (MolGraph(i[1]))\n",
    "        break"
   ]
  },
  {
   "cell_type": "code",
   "execution_count": 173,
   "metadata": {},
   "outputs": [],
   "source": [
    "x_embedding, x_delta_hat = molopt.forward(X)\n",
    "results_logits = molopt_decoder.forward(x_embedding + x_delta_hat, Y)\n",
    "results_labels = molopt_decoder.discretize(*results_logits)"
   ]
  },
  {
   "cell_type": "code",
   "execution_count": 174,
   "metadata": {},
   "outputs": [],
   "source": [
    "symbols_logits, charges_logits, bonds_logits = results_logits\n",
    "symbols_labels, charges_labels, bonds_labels = results_labels"
   ]
  },
  {
   "cell_type": "code",
   "execution_count": 175,
   "metadata": {},
   "outputs": [
    {
     "data": {
      "text/plain": [
       "tensor([0, 0, 0,  ..., 0, 0, 0], device='cuda:0', grad_fn=<NotImplemented>)"
      ]
     },
     "execution_count": 175,
     "metadata": {},
     "output_type": "execute_result"
    }
   ],
   "source": [
    "symbols_labels"
   ]
  },
  {
   "cell_type": "code",
   "execution_count": 176,
   "metadata": {},
   "outputs": [],
   "source": [
    "bonds_labels_arr = bonds_labels.cpu().numpy()"
   ]
  },
  {
   "cell_type": "code",
   "execution_count": 177,
   "metadata": {},
   "outputs": [
    {
     "data": {
      "text/plain": [
       "(array([0, 1, 4]), array([ 1686,    34, 41894]))"
      ]
     },
     "execution_count": 177,
     "metadata": {},
     "output_type": "execute_result"
    }
   ],
   "source": [
    "np.unique(bonds_labels_arr, return_counts=True)"
   ]
  },
  {
   "cell_type": "code",
   "execution_count": 178,
   "metadata": {},
   "outputs": [],
   "source": [
    "target_symbols, target_bonds = encode_target(Y)\n",
    "target_charges = target_symbols\n",
    "target_symbols_labels, target_charges_labels, target_bonds_labels = molopt_decoder.discretize(target_symbols, target_charges, target_bonds)"
   ]
  },
  {
   "cell_type": "code",
   "execution_count": 179,
   "metadata": {},
   "outputs": [
    {
     "name": "stdout",
     "output_type": "stream",
     "text": [
      "(array([0, 1, 2, 3, 4, 7, 8]), array([1528,  207,  198,   34,   44,   23,    4]))\n",
      "(array([0, 1, 2, 3, 4, 7]), array([1825,   66,   91,   38,   11,    7]))\n"
     ]
    }
   ],
   "source": [
    "print (np.unique(target_symbols_labels.cpu().numpy(), return_counts=True))\n",
    "print (np.unique(symbols_labels.cpu().numpy(), return_counts=True))"
   ]
  },
  {
   "cell_type": "code",
   "execution_count": 180,
   "metadata": {},
   "outputs": [
    {
     "name": "stdout",
     "output_type": "stream",
     "text": [
      "(array([0, 1, 2, 4]), array([ 3170,  1178,     6, 39260]))\n",
      "(array([0, 1, 4]), array([ 1686,    34, 41894]))\n"
     ]
    }
   ],
   "source": [
    "print (np.unique(target_bonds_labels.cpu().numpy(), return_counts=True))\n",
    "print (np.unique(bonds_labels.cpu().numpy(), return_counts=True))"
   ]
  },
  {
   "cell_type": "code",
   "execution_count": 181,
   "metadata": {},
   "outputs": [
    {
     "data": {
      "text/plain": [
       "torch.Size([43614, 5])"
      ]
     },
     "execution_count": 181,
     "metadata": {},
     "output_type": "execute_result"
    }
   ],
   "source": [
    "bonds_logits.shape"
   ]
  },
  {
   "cell_type": "code",
   "execution_count": 182,
   "metadata": {
    "scrolled": true
   },
   "outputs": [
    {
     "data": {
      "text/plain": [
       "tensor([[-4.5941, -1.2853,  0.6672, -1.0132, -3.0848, -1.0582, -0.9596, -1.2877,\n",
       "         -2.0035, -0.3495, -1.5174, -1.2257, -0.5620, -3.0364, -1.8199, -3.2407,\n",
       "         -1.9931, -0.9880, -0.6924, -1.8818, -2.0132,  1.2430],\n",
       "        [-1.2853,  0.5235,  2.2392,  1.3015, -0.7791,  1.4125,  1.1578,  0.9372,\n",
       "         -0.3207,  2.7516,  1.3966,  0.9763,  1.6980, -1.0303,  0.0609, -0.2833,\n",
       "          0.1017,  1.6357,  1.3332,  0.5854,  0.5896,  2.6972],\n",
       "        [ 0.6672,  2.2392,  4.4545,  2.3505,  1.4543,  2.1004,  1.9668,  2.6005,\n",
       "          1.0261,  3.9692,  2.7440,  2.7979,  2.5297,  0.3715,  1.3016,  1.9131,\n",
       "          1.9740,  2.9355,  2.2299,  1.3560,  2.9308,  4.0239],\n",
       "        [-1.0132,  1.3015,  2.3505, -1.5322, -0.4740, -1.7676, -1.9144,  0.3444,\n",
       "         -0.0493, -0.2057, -0.0849, -1.3990, -1.5436, -1.1994, -0.2244, -0.7022,\n",
       "          0.1230, -0.9142, -2.1428, -0.2162, -0.4140,  2.1123],\n",
       "        [-3.0848, -0.7791,  1.4543, -0.4740, -2.7137, -0.9476, -1.0215, -0.8737,\n",
       "         -0.7178,  0.2793, -1.0736, -0.2446,  0.5117, -2.4835, -0.6897, -2.3977,\n",
       "         -1.5898, -0.8805, -0.1541, -0.1735, -1.5334,  2.1046],\n",
       "        [-1.0582,  1.4125,  2.1004, -1.7676, -0.9476, -2.3608, -2.3009, -0.0529,\n",
       "          0.3377, -0.6256, -0.7859, -1.6995, -1.8150, -1.4612,  0.6993, -1.1087,\n",
       "         -0.2227, -1.6017, -2.0172,  1.0560, -1.4132,  2.2646],\n",
       "        [-0.9596,  1.1578,  1.9668, -1.9144, -1.0215, -2.3009, -2.6754, -0.0283,\n",
       "          0.0275, -0.3525, -0.7284, -2.4265, -2.8141, -1.5742,  0.1166, -1.1572,\n",
       "         -0.2291, -1.5286, -2.7661,  0.5969, -1.1668,  1.7625],\n",
       "        [-1.2877,  0.9372,  2.6005,  0.3444, -0.8737, -0.0529, -0.0283, -0.6197,\n",
       "          0.6660,  1.0029,  0.0570,  0.4087,  0.8309, -0.5276,  1.7308, -0.5916,\n",
       "         -0.2656, -0.2222,  0.1778,  0.6818, -0.7938,  2.7177],\n",
       "        [-2.0035, -0.3207,  1.0261, -0.0493, -0.7178,  0.3377,  0.0275,  0.6660,\n",
       "         -1.5086,  1.4351,  0.5497, -0.9541,  0.2776, -1.2630, -1.3400, -0.5130,\n",
       "          0.0422,  0.9726,  0.1043, -0.5701,  0.4609,  1.9556],\n",
       "        [-0.3495,  2.7516,  3.9692, -0.2057,  0.2793, -0.6256, -0.3525,  1.0029,\n",
       "          1.4351,  1.0851,  0.6041,  0.5310,  0.0434, -0.0545,  1.6003,  0.1447,\n",
       "          0.7644, -0.2699, -0.7184,  1.4126, -0.0658,  3.8984],\n",
       "        [-1.5174,  1.3966,  2.7440, -0.0849, -1.0736, -0.7859, -0.7284,  0.0570,\n",
       "          0.5497,  0.6041, -0.6954,  0.3145,  0.5922, -1.2387,  0.6954, -1.2689,\n",
       "         -0.3629, -0.3646, -0.2735,  0.5186, -0.8509,  3.3816],\n",
       "        [-1.2257,  0.9763,  2.7979, -1.3990, -0.2446, -1.6995, -2.4265,  0.4087,\n",
       "         -0.9541,  0.5310,  0.3145, -2.8258, -2.2231, -1.4724, -0.6659, -0.6820,\n",
       "          0.4855, -0.5145, -2.7058, -0.6547, -1.0913,  2.0995],\n",
       "        [-0.5620,  1.6980,  2.5297, -1.5436,  0.5117, -1.8150, -2.8141,  0.8309,\n",
       "          0.2776,  0.0434,  0.5922, -2.2231, -2.3751, -0.1874,  0.7836,  0.1977,\n",
       "          1.0005, -1.1654, -3.0679,  0.4149, -0.7593,  1.9631],\n",
       "        [-3.0364, -1.0303,  0.3715, -1.1994, -2.4835, -1.4612, -1.5742, -0.5276,\n",
       "         -1.2630, -0.0545, -1.2387, -1.4724, -0.1874, -2.9912, -1.6031, -2.2661,\n",
       "         -1.3911, -1.0933, -0.3574, -1.2422, -1.4307,  1.7604],\n",
       "        [-1.8199,  0.0609,  1.3016, -0.2244, -0.6897,  0.6993,  0.1166,  1.7308,\n",
       "         -1.3400,  1.6003,  0.6954, -0.6659,  0.7836, -1.6031, -0.5956, -0.4152,\n",
       "          0.1211,  1.2936,  0.2520, -0.0354,  0.8516,  1.7605],\n",
       "        [-3.2407, -0.2833,  1.9131, -0.7022, -2.3977, -1.1087, -1.1572, -0.5916,\n",
       "         -0.5130,  0.1447, -1.2689, -0.6820,  0.1977, -2.2661, -0.4152, -2.7396,\n",
       "         -1.4246, -0.9828, -0.4093, -0.2469, -1.7753,  2.4938],\n",
       "        [-1.9931,  0.1017,  1.9740,  0.1230, -1.5898, -0.2227, -0.2291, -0.2656,\n",
       "          0.0422,  0.7644, -0.3629,  0.4855,  1.0005, -1.3911,  0.1211, -1.4246,\n",
       "         -0.4760, -0.0947,  0.1183,  0.1543, -0.8264,  2.8198],\n",
       "        [-0.9880,  1.6357,  2.9355, -0.9142, -0.8805, -1.6017, -1.5286, -0.2222,\n",
       "          0.9726, -0.2699, -0.3646, -0.5145, -1.1654, -1.0933,  1.2936, -0.9828,\n",
       "         -0.0947, -1.2162, -1.5647,  1.2510, -1.2616,  3.0009],\n",
       "        [-0.6924,  1.3332,  2.2299, -2.1428, -0.1541, -2.0172, -2.7661,  0.1778,\n",
       "          0.1043, -0.7184, -0.2735, -2.7058, -3.0679, -0.3574,  0.2520, -0.4093,\n",
       "          0.1183, -1.5647, -3.8342,  0.2228, -0.5401,  2.0084],\n",
       "        [-1.8818,  0.5854,  1.3560, -0.2162, -0.1735,  1.0560,  0.5969,  0.6818,\n",
       "         -0.5701,  1.4126,  0.5186, -0.6547,  0.4149, -1.2422, -0.0354, -0.2469,\n",
       "          0.1543,  1.2510,  0.2228, -1.5316,  1.2808,  1.4067],\n",
       "        [-2.0132,  0.5896,  2.9308, -0.4140, -1.5334, -1.4132, -1.1668, -0.7938,\n",
       "          0.4609, -0.0658, -0.8509, -1.0913, -0.7593, -1.4307,  0.8516, -1.7753,\n",
       "         -0.8264, -1.2616, -0.5401,  1.2808, -1.8188,  2.9052],\n",
       "        [ 1.2430,  2.6972,  4.0239,  2.1123,  2.1046,  2.2646,  1.7625,  2.7177,\n",
       "          1.9556,  3.8984,  3.3816,  2.0995,  1.9631,  1.7604,  1.7605,  2.4938,\n",
       "          2.8198,  3.0009,  2.0084,  1.4067,  2.9052,  4.0844]],\n",
       "       device='cuda:0', grad_fn=<SelectBackward>)"
      ]
     },
     "execution_count": 182,
     "metadata": {},
     "output_type": "execute_result"
    }
   ],
   "source": [
    "lex = Y.scope[0][1]\n",
    "bonds_logits.narrow(0,0,lex ** 2).view(lex, lex, 5)[:,:,0]"
   ]
  },
  {
   "cell_type": "code",
   "execution_count": 183,
   "metadata": {},
   "outputs": [
    {
     "data": {
      "text/plain": [
       "tensor([0, 0, 0,  ..., 0, 0, 0], device='cuda:0', grad_fn=<NotImplemented>)"
      ]
     },
     "execution_count": 183,
     "metadata": {},
     "output_type": "execute_result"
    }
   ],
   "source": [
    "symbols_labels"
   ]
  },
  {
   "cell_type": "code",
   "execution_count": 184,
   "metadata": {},
   "outputs": [
    {
     "data": {
      "text/plain": [
       "'/home/octav/gitrepos/tum-thesis'"
      ]
     },
     "execution_count": 184,
     "metadata": {},
     "output_type": "execute_result"
    }
   ],
   "source": [
    "os.getcwd()"
   ]
  },
  {
   "cell_type": "markdown",
   "metadata": {},
   "source": [
    "# Visualize"
   ]
  },
  {
   "cell_type": "code",
   "execution_count": 185,
   "metadata": {},
   "outputs": [],
   "source": [
    "from tensorboardX import SummaryWriter\n",
    "tb_writer = SummaryWriter(logdir = \"mol_opt/logs\")\n",
    "\n",
    "mol_drawer = MolDrawer(tb_writer, SYMBOLS, BOND_TYPES, FORMAL_CHARGES)"
   ]
  },
  {
   "cell_type": "code",
   "execution_count": 186,
   "metadata": {},
   "outputs": [],
   "source": [
    "#preprocess\n",
    "from rdkit import Chem\n",
    "initial_smiles = [Chem.MolToSmiles(x) for x in X.rd_mols]\n",
    "target_smiles = [Chem.MolToSmiles(y) for y in Y.rd_mols]\n",
    "\n",
    "labels = (symbols_labels, charges_labels, bonds_labels)\n",
    "# labels = (target_symbols_labels, target_charges_labels, target_bonds_labels)\n",
    "prediction = (labels, None, Y.scope)"
   ]
  },
  {
   "cell_type": "code",
   "execution_count": 187,
   "metadata": {},
   "outputs": [
    {
     "data": {
      "text/plain": [
       "torch.Size([2038])"
      ]
     },
     "execution_count": 187,
     "metadata": {},
     "output_type": "execute_result"
    }
   ],
   "source": [
    "symbols_labels.shape"
   ]
  },
  {
   "cell_type": "code",
   "execution_count": 139,
   "metadata": {},
   "outputs": [
    {
     "data": {
      "text/plain": [
       "2038"
      ]
     },
     "execution_count": 139,
     "metadata": {},
     "output_type": "execute_result"
    }
   ],
   "source": [
    "sum([y for _, y in Y.scope])"
   ]
  },
  {
   "cell_type": "code",
   "execution_count": null,
   "metadata": {
    "scrolled": true
   },
   "outputs": [
    {
     "name": "stdout",
     "output_type": "stream",
     "text": [
      "0\n",
      "1\n",
      "2\n",
      "3\n",
      "4\n",
      "5\n",
      "6\n",
      "7\n",
      "8\n",
      "9\n",
      "10\n",
      "11\n",
      "12\n",
      "13\n",
      "14\n",
      "15\n",
      "16\n",
      "17\n",
      "18\n",
      "19\n",
      "20\n",
      "21\n",
      "22\n",
      "23\n",
      "24\n",
      "25\n",
      "26\n",
      "27\n",
      "28\n",
      "29\n",
      "30\n",
      "31\n",
      "32\n",
      "33\n",
      "34\n",
      "35\n",
      "36\n",
      "37\n",
      "38\n",
      "39\n",
      "40\n",
      "41\n",
      "42\n",
      "43\n",
      "44\n",
      "45\n",
      "46\n",
      "47\n",
      "48\n",
      "49\n",
      "50\n",
      "51\n",
      "52\n",
      "53\n",
      "54\n",
      "55\n",
      "56\n",
      "57\n",
      "58\n",
      "59\n",
      "60\n",
      "61\n",
      "62\n",
      "63\n",
      "64\n",
      "65\n"
     ]
    }
   ],
   "source": [
    "mol_drawer.visualize_batch(prediction, target_smiles, 8, initial_smiles)"
   ]
  },
  {
   "cell_type": "code",
   "execution_count": 33,
   "metadata": {},
   "outputs": [],
   "source": [
    "bond_idx = 1\n",
    "for idx, (stx, lex) in enumerate(Y.scope):\n",
    "    dev_sym = prediction[0][0].narrow(0, stx, lex).cpu().numpy()\n",
    "    np.savetxt('symbols.txt', dev_sym, fmt='%i')\n",
    "    np.savetxt('charges.txt', prediction[0][1].narrow(0, stx, lex).cpu().numpy(), fmt='%i')\n",
    "    \n",
    "    dev_bnd = prediction[0][2].narrow(0, bond_idx, lex*lex).view(lex, lex).cpu().numpy()\n",
    "    np.savetxt('bonds.txt', dev_bnd, fmt='%i')\n",
    "    bond_idx += lex * lex\n",
    "    \n",
    "    if idx == 0:\n",
    "        break"
   ]
  },
  {
   "cell_type": "code",
   "execution_count": 32,
   "metadata": {},
   "outputs": [
    {
     "data": {
      "image/png": "[encoded data removed]",
      "text/plain": [
       "<rdkit.Chem.rdchem.Mol at 0x7f3e784b9c10>"
      ]
     },
     "execution_count": 32,
     "metadata": {},
     "output_type": "execute_result"
    }
   ],
   "source": [
    "smiles = \"C.C.C.C.C.C.C.C=S(=C)(=C)N(C)(C)(C)c(Br)c(c)c.CC\"\n",
    "smiles = \"C.C.C.C.C.C.C.C.C=[SH](=C)N(C)(C)(C)c(Br)c(c)c.CC\"\n",
    "from rdkit import Chem\n",
    "\n",
    "from rdkit.Chem.Draw import IPythonConsole\n",
    "Chem.MolFromSmiles(smiles, sanitize = False)"
   ]
  },
  {
   "cell_type": "code",
   "execution_count": 43,
   "metadata": {},
   "outputs": [],
   "source": [
    "# Chem.MolFromSmiles(\"C.C.C.C.C.C.C.C.C=[SH](=C)N(C)(C)(C)c(Br)c(c)c.CC\")"
   ]
  },
  {
   "cell_type": "code",
   "execution_count": 379,
   "metadata": {},
   "outputs": [
    {
     "data": {
      "text/plain": [
       "'C.C.C.C.C.C.C.C.C=[SH](=C)N(C)(C)(C)c(Br)c(c)c.CC'"
      ]
     },
     "execution_count": 379,
     "metadata": {},
     "output_type": "execute_result"
    }
   ],
   "source": [
    "smiles"
   ]
  },
  {
   "cell_type": "code",
   "execution_count": 380,
   "metadata": {},
   "outputs": [
    {
     "data": {
      "text/plain": [
       "tensor([4, 4, 4,  ..., 4, 4, 4], device='cuda:0', grad_fn=<NotImplemented>)"
      ]
     },
     "execution_count": 380,
     "metadata": {},
     "output_type": "execute_result"
    }
   ],
   "source": [
    "bonds_labels"
   ]
  },
  {
   "cell_type": "code",
   "execution_count": 381,
   "metadata": {},
   "outputs": [
    {
     "data": {
      "text/plain": [
       "array([0, 0, 0, 0, 1, 0, 0, 0, 0, 0, 0, 0, 0, 0, 0, 0, 0, 0, 2, 2, 0, 0])"
      ]
     },
     "execution_count": 381,
     "metadata": {},
     "output_type": "execute_result"
    }
   ],
   "source": [
    "dev_sym"
   ]
  },
  {
   "cell_type": "code",
   "execution_count": 38,
   "metadata": {},
   "outputs": [],
   "source": [
    "mol = feat2smiles(SYMBOLS,None,BOND_TYPES,dev_sym, None, dev_bnd)"
   ]
  },
  {
   "cell_type": "code",
   "execution_count": 39,
   "metadata": {},
   "outputs": [
    {
     "data": {
      "image/png": "[encoded data removed]",
      "text/plain": [
       "<rdkit.Chem.rdchem.RWMol at 0x7f3e780a7df8>"
      ]
     },
     "execution_count": 39,
     "metadata": {},
     "output_type": "execute_result"
    }
   ],
   "source": [
    "mol"
   ]
  },
  {
   "cell_type": "code",
   "execution_count": 35,
   "metadata": {},
   "outputs": [
    {
     "ename": "AttributeError",
     "evalue": "'str' object has no attribute 'GetAtoms'",
     "output_type": "error",
     "traceback": [
      "\u001b[0;31m---------------------------------------------------------------------------\u001b[0m",
      "\u001b[0;31mAttributeError\u001b[0m                            Traceback (most recent call last)",
      "\u001b[0;32m<ipython-input-35-c7908bb81b5f>\u001b[0m in \u001b[0;36m<module>\u001b[0;34m\u001b[0m\n\u001b[0;32m----> 1\u001b[0;31m \u001b[0;32mfor\u001b[0m \u001b[0matom\u001b[0m \u001b[0;32min\u001b[0m \u001b[0mmol\u001b[0m\u001b[0;34m.\u001b[0m\u001b[0mGetAtoms\u001b[0m\u001b[0;34m(\u001b[0m\u001b[0;34m)\u001b[0m\u001b[0;34m:\u001b[0m\u001b[0;34m\u001b[0m\u001b[0;34m\u001b[0m\u001b[0m\n\u001b[0m\u001b[1;32m      2\u001b[0m     \u001b[0mprint\u001b[0m \u001b[0;34m(\u001b[0m\u001b[0matom\u001b[0m\u001b[0;34m.\u001b[0m\u001b[0mGetSymbol\u001b[0m\u001b[0;34m(\u001b[0m\u001b[0;34m)\u001b[0m\u001b[0;34m,\u001b[0m \u001b[0matom\u001b[0m\u001b[0;34m.\u001b[0m\u001b[0mGetFormalCharge\u001b[0m\u001b[0;34m(\u001b[0m\u001b[0;34m)\u001b[0m\u001b[0;34m,\u001b[0m \u001b[0matom\u001b[0m\u001b[0;34m.\u001b[0m\u001b[0mGetIsAromatic\u001b[0m\u001b[0;34m(\u001b[0m\u001b[0;34m)\u001b[0m\u001b[0;34m)\u001b[0m\u001b[0;34m\u001b[0m\u001b[0;34m\u001b[0m\u001b[0m\n",
      "\u001b[0;31mAttributeError\u001b[0m: 'str' object has no attribute 'GetAtoms'"
     ]
    }
   ],
   "source": [
    "for atom in mol.GetAtoms():\n",
    "    print (atom.GetSymbol(), atom.GetFormalCharge(), atom.GetIsAromatic())"
   ]
  },
  {
   "cell_type": "code",
   "execution_count": 384,
   "metadata": {},
   "outputs": [
    {
     "data": {
      "text/plain": [
       "'C.C.C.C.C.C.C.C.C.C.C.C.C.C.C.C.CC.CN.O.O'"
      ]
     },
     "execution_count": 384,
     "metadata": {},
     "output_type": "execute_result"
    }
   ],
   "source": [
    "Chem.MolToSmiles(mol)"
   ]
  },
  {
   "cell_type": "code",
   "execution_count": 341,
   "metadata": {},
   "outputs": [
    {
     "data": {
      "text/plain": [
       "'C.CCl'"
      ]
     },
     "execution_count": 341,
     "metadata": {},
     "output_type": "execute_result"
    }
   ],
   "source": [
    "Chem.MolToSmiles(Chem.MolFromSmiles(smiles))"
   ]
  },
  {
   "cell_type": "code",
   "execution_count": 342,
   "metadata": {},
   "outputs": [],
   "source": [
    "Chem.MolFromSmiles(Chem.MolToSmiles(mol), sanitize = False)"
   ]
  }
 ],
 "metadata": {
  "kernelspec": {
   "display_name": "Python 3",
   "language": "python",
   "name": "python3"
  },
  "language_info": {
   "codemirror_mode": {
    "name": "ipython",
    "version": 3
   },
   "file_extension": ".py",
   "mimetype": "text/x-python",
   "name": "python",
   "nbconvert_exporter": "python",
   "pygments_lexer": "ipython3",
   "version": "3.6.8"
  }
 },
 "nbformat": 4,
 "nbformat_minor": 4
}
