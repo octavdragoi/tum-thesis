{
 "cells": [
  {
   "cell_type": "code",
   "execution_count": 1,
   "metadata": {},
   "outputs": [
    {
     "name": "stdout",
     "output_type": "stream",
     "text": [
      "/home/octav/gitrepos/tum-thesis\n"
     ]
    }
   ],
   "source": [
    "import os\n",
    "if \"ntbk\" in os.getcwd():\n",
    "    os.chdir(\"..\")\n",
    "print(os.getcwd())\n",
    "\n",
    "import sys\n",
    "sys.path.append(os.path.join(os.getcwd(), \"otgnn\"))\n",
    "\n",
    "\n",
    "%load_ext autoreload\n",
    "%autoreload 2"
   ]
  },
  {
   "cell_type": "code",
   "execution_count": 2,
   "metadata": {},
   "outputs": [],
   "source": [
    "from otgnn.models import GCN\n",
    "from otgnn.graph import MolGraph\n",
    "from otgnn.utils import save_model, load_model\n",
    "from otgnn.graph import SYMBOLS, FORMAL_CHARGES, BOND_TYPES\n",
    "\n",
    "\n",
    "from mol_opt.data_mol_opt import MolOptDataset\n",
    "from mol_opt.data_mol_opt import get_loader\n",
    "from mol_opt.arguments import get_args\n",
    "from mol_opt.train_mol_opt import main\n",
    "from mol_opt.mol_opt import MolOpt\n",
    "from mol_opt.decoder_mol_opt import MolOptDecoder\n",
    "from mol_opt.ot_utils import encode_target\n",
    "\n",
    "from molgen.dataloading.feat2smiles import feat2smiles\n",
    "from molgen.dataloading.mol_drawer import MolDrawer\n",
    "\n",
    "from rdkit.Chem import MolFromSmiles\n",
    "\n",
    "import torch\n",
    "import numpy as np\n",
    "import time"
   ]
  },
  {
   "cell_type": "code",
   "execution_count": 3,
   "metadata": {},
   "outputs": [],
   "source": [
    "sys.argv = [\"\", \"-cuda\"]\n",
    "args = get_args()\n",
    "args.output_dir = \"mol_opt/output/\""
   ]
  },
  {
   "cell_type": "code",
   "execution_count": 4,
   "metadata": {},
   "outputs": [
    {
     "data": {
      "text/plain": [
       "(MolOpt(\n",
       "   (GCN): GCN(\n",
       "     (W_message_i): Linear(in_features=100, out_features=50, bias=False)\n",
       "     (W_message_h): Linear(in_features=50, out_features=50, bias=False)\n",
       "     (W_message_o): Linear(in_features=143, out_features=50, bias=True)\n",
       "     (W_mol_h): Linear(in_features=50, out_features=100, bias=True)\n",
       "     (W_mol_o): Linear(in_features=100, out_features=1, bias=True)\n",
       "     (dropout_gcn): Dropout(p=0.0, inplace=False)\n",
       "     (dropout_ffn): Dropout(p=0.0, inplace=False)\n",
       "   )\n",
       "   (opt0): Linear(in_features=50, out_features=50, bias=True)\n",
       "   (opt1): Linear(in_features=50, out_features=50, bias=True)\n",
       " ),\n",
       " Namespace(N_transformer=6, agg_func='sum', batch_norm=False, cuda=True, device='cuda:0', dim_tangent_space=40, dropout_ffn=0.0, dropout_gcn=0.0, dropout_transformer=0.1, ffn_activation='LeakyReLU', init_decoder_model='transformer1_decode', init_model='transformer1', linear_out=False, n_epochs=40, n_ffn_hidden=100, n_ffn_transformer=100, n_heads_transformer=10, n_hidden=50, n_labels=1, n_layers=5, ot_solver='emd', output_dir='mol_opt/output', pc_hidden=50, pred_hidden=150, sinkhorn_entropy=0.1, sinkhorn_max_it=10000))"
      ]
     },
     "execution_count": 4,
     "metadata": {},
     "output_type": "execute_result"
    }
   ],
   "source": [
    "model = \"transformer1\"\n",
    "model_iter = 1\n",
    "\n",
    "model_name = \"model_{}_{}\".format(model, model_iter)\n",
    "model_decode_name = \"model_{}_decode_{}\".format(model, model_iter)\n",
    "molopt, config = load_model(args.output_dir + model_name, MolOpt, args.device)\n",
    "molopt, config"
   ]
  },
  {
   "cell_type": "code",
   "execution_count": 5,
   "metadata": {},
   "outputs": [
    {
     "data": {
      "text/plain": [
       "(MolOptDecoder(\n",
       "   (fc1_SYMBOLS): Linear(in_features=50, out_features=150, bias=True)\n",
       "   (fc2_SYMBOLS): Linear(in_features=150, out_features=64, bias=True)\n",
       "   (fc1_CHARGES): Linear(in_features=50, out_features=150, bias=True)\n",
       "   (fc2_CHARGES): Linear(in_features=150, out_features=5, bias=True)\n",
       "   (fc1_BONDS): Linear(in_features=100, out_features=150, bias=True)\n",
       "   (fc2_BONDS): Linear(in_features=150, out_features=5, bias=True)\n",
       " ),\n",
       " Namespace(N_transformer=6, agg_func='sum', batch_norm=False, cuda=True, device='cuda:0', dim_tangent_space=40, dropout_ffn=0.0, dropout_gcn=0.0, dropout_transformer=0.1, ffn_activation='LeakyReLU', init_decoder_model='transformer1_decode', init_model='transformer1', linear_out=False, n_epochs=40, n_ffn_hidden=100, n_ffn_transformer=100, n_heads_transformer=10, n_hidden=50, n_labels=1, n_layers=5, ot_solver='emd', output_dir='mol_opt/output', pc_hidden=50, pred_hidden=150, sinkhorn_entropy=0.1, sinkhorn_max_it=10000))"
      ]
     },
     "execution_count": 5,
     "metadata": {},
     "output_type": "execute_result"
    }
   ],
   "source": [
    "molopt_decoder, config_decoder = load_model(args.output_dir + model_decode_name, MolOptDecoder, args.device)\n",
    "molopt_decoder, config_decoder"
   ]
  },
  {
   "cell_type": "code",
   "execution_count": 6,
   "metadata": {},
   "outputs": [],
   "source": [
    "train_data_loader = get_loader(\"iclr19-graph2graph/data/qed\", \"train\", 96, False)\n",
    "val_data_loader = get_loader(\"iclr19-graph2graph/data/qed\", \"val\", 96, False)"
   ]
  },
  {
   "cell_type": "code",
   "execution_count": 7,
   "metadata": {},
   "outputs": [],
   "source": [
    "for i in val_data_loader:\n",
    "    X = (MolGraph(i[0]))\n",
    "    Y = (MolGraph(i[1]))\n",
    "    break"
   ]
  },
  {
   "cell_type": "markdown",
   "metadata": {},
   "source": [
    "# Assess GCN"
   ]
  },
  {
   "cell_type": "code",
   "execution_count": 8,
   "metadata": {},
   "outputs": [],
   "source": [
    "x_embedding, x_delta_hat = molopt.forward(X)\n",
    "y_embedding = molopt.encode(Y)"
   ]
  },
  {
   "cell_type": "code",
   "execution_count": 9,
   "metadata": {},
   "outputs": [
    {
     "data": {
      "text/plain": [
       "tensor([[  6.1011, -17.3173,  -8.1689,  ...,   9.7493,  -8.2070, -14.2442],\n",
       "        [ -0.5036,  -6.9928,   9.0679,  ...,  18.6350,  15.2381,  -5.0824],\n",
       "        [  0.4959, -16.5815,   1.0548,  ...,  21.8699,   5.4606, -10.8815],\n",
       "        ...,\n",
       "        [-24.5036,   4.5038,  27.5806,  ...,  40.9691,  36.0237,   7.8554],\n",
       "        [-17.5467,   7.8412,  26.1060,  ...,  37.6846,  32.5689,   9.6147],\n",
       "        [  9.9412, -30.3590,   2.6873,  ...,  27.6739,  21.2154, -18.9911]],\n",
       "       device='cuda:0', grad_fn=<AddBackward0>)"
      ]
     },
     "execution_count": 9,
     "metadata": {},
     "output_type": "execute_result"
    }
   ],
   "source": [
    "x_embedding + x_delta_hat"
   ]
  },
  {
   "cell_type": "code",
   "execution_count": 10,
   "metadata": {},
   "outputs": [
    {
     "data": {
      "text/plain": [
       "tensor([[-0.0361, -0.0177,  0.0691,  ...,  0.0704, -0.0836,  0.0405],\n",
       "        [-0.1923,  0.2669,  0.0355,  ...,  0.1362,  0.1356,  0.1779],\n",
       "        [ 0.2283, -0.0384,  0.1441,  ..., -0.1121,  0.0645,  0.0371],\n",
       "        ...,\n",
       "        [-0.0809, -0.0752,  0.1038,  ...,  0.1667,  0.0061, -0.1234],\n",
       "        [-0.0375,  0.4229, -0.0194,  ..., -0.0448, -0.0349,  0.0422],\n",
       "        [-0.0617, -0.0700,  0.0009,  ...,  0.0454, -0.0325,  0.2737]],\n",
       "       device='cuda:0', grad_fn=<CopySlices>)"
      ]
     },
     "execution_count": 10,
     "metadata": {},
     "output_type": "execute_result"
    }
   ],
   "source": [
    "y_embedding"
   ]
  },
  {
   "cell_type": "code",
   "execution_count": 11,
   "metadata": {},
   "outputs": [
    {
     "data": {
      "text/plain": [
       "tensor([[-0.0361, -0.0177,  0.0691,  ...,  0.0704, -0.0836,  0.0405],\n",
       "        [-0.1923,  0.2669,  0.0355,  ...,  0.1362,  0.1356,  0.1779],\n",
       "        [ 0.2283, -0.0384,  0.1441,  ..., -0.1121,  0.0645,  0.0371],\n",
       "        ...,\n",
       "        [-0.0809, -0.0752,  0.1038,  ...,  0.1667,  0.0061, -0.1234],\n",
       "        [-0.0375,  0.4229, -0.0194,  ..., -0.0448, -0.0349,  0.0422],\n",
       "        [-0.0617, -0.0700,  0.0009,  ...,  0.0454, -0.0325,  0.2737]],\n",
       "       device='cuda:0', grad_fn=<CopySlices>)"
      ]
     },
     "execution_count": 11,
     "metadata": {},
     "output_type": "execute_result"
    }
   ],
   "source": [
    "x_embedding"
   ]
  },
  {
   "cell_type": "code",
   "execution_count": 12,
   "metadata": {},
   "outputs": [
    {
     "data": {
      "text/plain": [
       "tensor([[  6.1372, -17.2996,  -8.2380,  ...,   9.6789,  -8.1234, -14.2847],\n",
       "        [ -0.3113,  -7.2597,   9.0324,  ...,  18.4988,  15.1025,  -5.2603],\n",
       "        [  0.2677, -16.5431,   0.9107,  ...,  21.9820,   5.3961, -10.9186],\n",
       "        ...,\n",
       "        [-24.4227,   4.5791,  27.4769,  ...,  40.8024,  36.0176,   7.9788],\n",
       "        [-17.5092,   7.4183,  26.1254,  ...,  37.7295,  32.6038,   9.5725],\n",
       "        [ 10.0029, -30.2890,   2.6863,  ...,  27.6284,  21.2478, -19.2648]],\n",
       "       device='cuda:0', grad_fn=<AddmmBackward>)"
      ]
     },
     "execution_count": 12,
     "metadata": {},
     "output_type": "execute_result"
    }
   ],
   "source": [
    "x_delta_hat"
   ]
  },
  {
   "cell_type": "markdown",
   "metadata": {},
   "source": [
    "# Run all model, get some predictions"
   ]
  },
  {
   "cell_type": "code",
   "execution_count": 13,
   "metadata": {},
   "outputs": [],
   "source": [
    "for idx, i in enumerate(val_data_loader):\n",
    "    if idx == 1:\n",
    "        X = (MolGraph(i[0]))\n",
    "        Y = (MolGraph(i[1]))\n",
    "        break"
   ]
  },
  {
   "cell_type": "code",
   "execution_count": 14,
   "metadata": {},
   "outputs": [],
   "source": [
    "x_embedding, x_delta_hat = molopt.forward(X)\n",
    "results_logits = molopt_decoder.forward(x_embedding + x_delta_hat, Y)\n",
    "results_labels = molopt_decoder.discretize(*results_logits)"
   ]
  },
  {
   "cell_type": "code",
   "execution_count": 15,
   "metadata": {},
   "outputs": [],
   "source": [
    "symbols_logits, charges_logits, bonds_logits = results_logits\n",
    "symbols_labels, charges_labels, bonds_labels = results_labels"
   ]
  },
  {
   "cell_type": "code",
   "execution_count": 16,
   "metadata": {},
   "outputs": [
    {
     "data": {
      "text/plain": [
       "tensor([0, 1, 1,  ..., 0, 0, 2], device='cuda:0', grad_fn=<NotImplemented>)"
      ]
     },
     "execution_count": 16,
     "metadata": {},
     "output_type": "execute_result"
    }
   ],
   "source": [
    "symbols_labels"
   ]
  },
  {
   "cell_type": "code",
   "execution_count": 17,
   "metadata": {},
   "outputs": [],
   "source": [
    "bonds_labels_arr = bonds_labels.cpu().numpy()"
   ]
  },
  {
   "cell_type": "code",
   "execution_count": 18,
   "metadata": {},
   "outputs": [
    {
     "data": {
      "text/plain": [
       "(array([0, 1, 4]), array([ 9641,   246, 33727]))"
      ]
     },
     "execution_count": 18,
     "metadata": {},
     "output_type": "execute_result"
    }
   ],
   "source": [
    "np.unique(bonds_labels_arr, return_counts=True)"
   ]
  },
  {
   "cell_type": "code",
   "execution_count": 19,
   "metadata": {},
   "outputs": [],
   "source": [
    "target_symbols, target_bonds = encode_target(Y)\n",
    "target_charges = target_symbols\n",
    "target_symbols_labels, target_charges_labels, target_bonds_labels = molopt_decoder.discretize(target_symbols, target_charges, target_bonds)"
   ]
  },
  {
   "cell_type": "code",
   "execution_count": 20,
   "metadata": {},
   "outputs": [
    {
     "name": "stdout",
     "output_type": "stream",
     "text": [
      "(array([0, 1, 2, 3, 4, 7, 8]), array([1528,  207,  198,   34,   44,   23,    4]))\n",
      "(array([ 0,  1,  2,  7, 51]), array([1631,  121,  155,  123,    8]))\n"
     ]
    }
   ],
   "source": [
    "print (np.unique(target_symbols_labels.cpu().numpy(), return_counts=True))\n",
    "print (np.unique(symbols_labels.cpu().numpy(), return_counts=True))"
   ]
  },
  {
   "cell_type": "code",
   "execution_count": 21,
   "metadata": {},
   "outputs": [
    {
     "name": "stdout",
     "output_type": "stream",
     "text": [
      "(array([0, 1, 2, 4]), array([ 3170,  1178,     6, 39260]))\n",
      "(array([0, 1, 4]), array([ 9641,   246, 33727]))\n"
     ]
    }
   ],
   "source": [
    "print (np.unique(target_bonds_labels.cpu().numpy(), return_counts=True))\n",
    "print (np.unique(bonds_labels.cpu().numpy(), return_counts=True))"
   ]
  },
  {
   "cell_type": "code",
   "execution_count": 22,
   "metadata": {},
   "outputs": [
    {
     "data": {
      "text/plain": [
       "torch.Size([43614, 5])"
      ]
     },
     "execution_count": 22,
     "metadata": {},
     "output_type": "execute_result"
    }
   ],
   "source": [
    "bonds_logits.shape"
   ]
  },
  {
   "cell_type": "code",
   "execution_count": 23,
   "metadata": {
    "scrolled": true
   },
   "outputs": [
    {
     "data": {
      "text/plain": [
       "tensor([[ 6.3354,  5.1405,  8.5293,  6.3043,  6.1067,  7.6943,  4.9251,  5.2186,\n",
       "          7.8682,  7.3559,  7.2288,  5.2859,  6.7322,  7.2201,  9.7022,  5.7299,\n",
       "          7.7168,  6.6487,  4.1773,  6.5745, 10.1977,  8.1879],\n",
       "        [ 5.1405,  5.1758,  8.4643,  5.4418,  6.7388,  8.2612,  4.8140,  4.5426,\n",
       "          7.8491,  6.0311,  6.0868,  5.4523,  7.5747,  8.5516, 10.5646,  4.7835,\n",
       "          8.3432,  5.6202,  4.4195,  7.2226,  9.7541,  7.9035],\n",
       "        [ 8.5293,  8.4643, 10.8223,  8.1621,  8.5378,  9.8067,  7.5747,  7.4579,\n",
       "         10.2907,  9.3061,  9.2053,  8.3591,  9.2259, 10.3475, 12.1734,  8.1404,\n",
       "         10.5037,  8.9402,  6.9946,  9.3520, 12.2563, 10.5451],\n",
       "        [ 6.3043,  5.4418,  8.1621,  6.8874,  8.0523,  9.5792,  5.6668,  4.7334,\n",
       "          8.2318,  7.9529,  7.1471,  5.9850,  8.7211,  9.6162, 11.8414,  6.2263,\n",
       "          9.1085,  6.5202,  4.2572,  8.1030,  9.4230,  8.2220],\n",
       "        [ 6.1067,  6.7388,  8.5378,  8.0523,  7.7009,  9.0347,  7.0228,  6.7907,\n",
       "          8.7449,  7.5885,  7.5185,  7.0836,  7.8192,  9.0635, 11.4532,  7.1040,\n",
       "          8.0649,  7.4687,  6.4186,  8.6494,  9.5552,  7.9211],\n",
       "        [ 7.6943,  8.2612,  9.8067,  9.5792,  9.0347, 10.1275,  8.3529,  8.5959,\n",
       "          9.8676,  9.0196,  8.8241,  8.4831,  9.1185,  9.8864, 12.0368,  8.5786,\n",
       "          9.1266,  9.2028,  7.9390,  9.7370, 10.5106,  9.1350],\n",
       "        [ 4.9251,  4.8140,  7.5747,  5.6668,  7.0228,  8.3529,  4.4221,  3.5659,\n",
       "          7.1267,  6.9601,  6.0614,  6.3216,  7.0288,  8.5951, 11.2708,  5.2888,\n",
       "          8.6647,  5.6543,  3.0287,  8.0712,  9.0272,  7.1289],\n",
       "        [ 5.2186,  4.5426,  7.4579,  4.7334,  6.7907,  8.5959,  3.5659,  3.0206,\n",
       "          6.9774,  6.4314,  5.4511,  4.5298,  7.5758,  8.7862, 11.0226,  4.1726,\n",
       "          8.2244,  5.0778,  2.4073,  6.5825,  8.7579,  7.5046],\n",
       "        [ 7.8682,  7.8491, 10.2907,  8.2318,  8.7449,  9.8676,  7.1267,  6.9774,\n",
       "          8.7917,  8.9431,  7.9636,  8.0596,  7.7063, 10.1548, 13.0820,  7.3116,\n",
       "         11.0070,  8.4174,  5.9459,  9.4158, 11.7015, 10.3259],\n",
       "        [ 7.3559,  6.0311,  9.3061,  7.9529,  7.5885,  9.0196,  6.9601,  6.4314,\n",
       "          8.9431,  8.2031,  8.0147,  6.2847,  7.5718,  9.1603, 11.5849,  6.9628,\n",
       "          8.8883,  7.5529,  5.6884,  8.3560, 11.3771,  9.1467],\n",
       "        [ 7.2288,  6.0868,  9.2053,  7.1471,  7.5185,  8.8241,  6.0614,  5.4511,\n",
       "          7.9636,  8.0147,  7.2305,  6.5664,  7.0069,  9.3122, 12.3115,  6.3239,\n",
       "          9.7043,  7.0447,  4.4910,  8.3783, 11.2465,  9.1782],\n",
       "        [ 5.2859,  5.4523,  8.3591,  5.9850,  7.0836,  8.4831,  6.3216,  4.5298,\n",
       "          8.0596,  6.2847,  6.5664,  5.4744,  8.1027,  9.0626, 11.1730,  5.2803,\n",
       "          8.6724,  6.0272,  5.0123,  7.7391, 10.1161,  7.7978],\n",
       "        [ 6.7322,  7.5747,  9.2259,  8.7211,  7.8192,  9.1185,  7.0288,  7.5758,\n",
       "          7.7063,  7.5718,  7.0069,  8.1027,  7.6504,  9.3985, 11.9014,  7.1189,\n",
       "          8.9524,  8.2213,  6.7478,  9.0587,  9.8618,  8.4819],\n",
       "        [ 7.2201,  8.5516, 10.3475,  9.6162,  9.0635,  9.8864,  8.5951,  8.7862,\n",
       "         10.1548,  9.1603,  9.3122,  9.0626,  9.3985, 10.9516, 12.1209,  8.8541,\n",
       "          9.9483,  9.3082,  8.8837, 10.3619, 10.6217,  9.3888],\n",
       "        [ 9.7022, 10.5646, 12.1734, 11.8414, 11.4532, 12.0368, 11.2708, 11.0226,\n",
       "         13.0820, 11.5849, 12.3115, 11.1730, 11.9014, 12.1209, 12.1359, 11.3250,\n",
       "         11.7452, 11.6579, 11.1365, 12.3646, 11.8094, 11.5689],\n",
       "        [ 5.7299,  4.7835,  8.1404,  6.2263,  7.1040,  8.5786,  5.2888,  4.1726,\n",
       "          7.3116,  6.9628,  6.3239,  5.2803,  7.1189,  8.8541, 11.3250,  5.2023,\n",
       "          8.7253,  5.6326,  3.9695,  7.6344,  9.7763,  8.1209],\n",
       "        [ 7.7168,  8.3432, 10.5037,  9.1085,  8.0649,  9.1266,  8.6647,  8.2244,\n",
       "         11.0070,  8.8883,  9.7043,  8.6724,  8.9524,  9.9483, 11.7452,  8.7253,\n",
       "         10.1201,  9.1067,  8.1853,  9.2792, 11.3011,  9.8696],\n",
       "        [ 6.6487,  5.6202,  8.9402,  6.5202,  7.4687,  9.2028,  5.6543,  5.0778,\n",
       "          8.4174,  7.5529,  7.0447,  6.0272,  8.2213,  9.3082, 11.6579,  5.6326,\n",
       "          9.1067,  6.5154,  4.6626,  7.7625, 10.4070,  9.1634],\n",
       "        [ 4.1773,  4.4195,  6.9946,  4.2572,  6.4186,  7.9390,  3.0287,  2.4073,\n",
       "          5.9459,  5.6884,  4.4910,  5.0123,  6.7478,  8.8837, 11.1365,  3.9695,\n",
       "          8.1853,  4.6626,  2.1488,  7.0247,  8.3519,  6.7246],\n",
       "        [ 6.5745,  7.2226,  9.3520,  8.1030,  8.6494,  9.7370,  8.0712,  6.5825,\n",
       "          9.4158,  8.3560,  8.3783,  7.7391,  9.0587, 10.3619, 12.3646,  7.6344,\n",
       "          9.2792,  7.7625,  7.0247,  9.2191, 10.7732,  8.8219],\n",
       "        [10.1977,  9.7541, 12.2563,  9.4230,  9.5552, 10.5106,  9.0272,  8.7579,\n",
       "         11.7015, 11.3771, 11.2465, 10.1161,  9.8618, 10.6217, 11.8094,  9.7763,\n",
       "         11.3011, 10.4070,  8.3519, 10.7732, 12.7714, 12.0473],\n",
       "        [ 8.1879,  7.9035, 10.5451,  8.2220,  7.9211,  9.1350,  7.1289,  7.5046,\n",
       "         10.3259,  9.1467,  9.1782,  7.7978,  8.4819,  9.3888, 11.5689,  8.1209,\n",
       "          9.8696,  9.1634,  6.7246,  8.8219, 12.0473, 10.4205]],\n",
       "       device='cuda:0', grad_fn=<SelectBackward>)"
      ]
     },
     "execution_count": 23,
     "metadata": {},
     "output_type": "execute_result"
    }
   ],
   "source": [
    "lex = Y.scope[0][1]\n",
    "bonds_logits.narrow(0,0,lex ** 2).view(lex, lex, 5)[:,:,0]"
   ]
  },
  {
   "cell_type": "code",
   "execution_count": 24,
   "metadata": {},
   "outputs": [
    {
     "data": {
      "text/plain": [
       "tensor([0, 1, 1,  ..., 0, 0, 2], device='cuda:0', grad_fn=<NotImplemented>)"
      ]
     },
     "execution_count": 24,
     "metadata": {},
     "output_type": "execute_result"
    }
   ],
   "source": [
    "symbols_labels"
   ]
  },
  {
   "cell_type": "code",
   "execution_count": 25,
   "metadata": {},
   "outputs": [
    {
     "data": {
      "text/plain": [
       "'/home/octav/gitrepos/tum-thesis'"
      ]
     },
     "execution_count": 25,
     "metadata": {},
     "output_type": "execute_result"
    }
   ],
   "source": [
    "os.getcwd()"
   ]
  },
  {
   "cell_type": "markdown",
   "metadata": {},
   "source": [
    "# Visualize"
   ]
  },
  {
   "cell_type": "code",
   "execution_count": 26,
   "metadata": {},
   "outputs": [],
   "source": [
    "from tensorboardX import SummaryWriter\n",
    "tb_writer = SummaryWriter(logdir = \"mol_opt/logs\")\n",
    "\n",
    "mol_drawer = MolDrawer(tb_writer, SYMBOLS, BOND_TYPES, FORMAL_CHARGES)"
   ]
  },
  {
   "cell_type": "code",
   "execution_count": 27,
   "metadata": {},
   "outputs": [],
   "source": [
    "#preprocess\n",
    "from rdkit import Chem\n",
    "initial_smiles = [Chem.MolToSmiles(x) for x in X.rd_mols]\n",
    "target_smiles = [Chem.MolToSmiles(y) for y in Y.rd_mols]\n",
    "\n",
    "labels = (symbols_labels, charges_labels, bonds_labels)\n",
    "# labels = (target_symbols_labels, target_charges_labels, target_bonds_labels)\n",
    "prediction = (labels, None, Y.scope)"
   ]
  },
  {
   "cell_type": "code",
   "execution_count": 28,
   "metadata": {},
   "outputs": [
    {
     "data": {
      "text/plain": [
       "torch.Size([2038])"
      ]
     },
     "execution_count": 28,
     "metadata": {},
     "output_type": "execute_result"
    }
   ],
   "source": [
    "symbols_labels.shape"
   ]
  },
  {
   "cell_type": "code",
   "execution_count": 29,
   "metadata": {},
   "outputs": [
    {
     "data": {
      "text/plain": [
       "2038"
      ]
     },
     "execution_count": 29,
     "metadata": {},
     "output_type": "execute_result"
    }
   ],
   "source": [
    "sum([y for _, y in Y.scope])"
   ]
  },
  {
   "cell_type": "code",
   "execution_count": 44,
   "metadata": {
    "scrolled": true
   },
   "outputs": [
    {
     "name": "stdout",
     "output_type": "stream",
     "text": [
      "0\n",
      "could not find number of expected rings.\n",
      " RDKit drawing crashed while drawing PREDICTION!\n",
      "smiles: COC1=CC=C(C[NH+]2CCN(C(=O)C3=CC=CO3)CC2)C=C1\n",
      "prediction: C.C.CC12345C678C9%10%11%12%13N=C61%14%15%16%17%18%19=CCl92%1416%20%21%22%23%24%25CC%103129%14%26%27%28(C)C6C413(C)(C%152%20)(C%169%21)N%11%17%14%22C5%26%23(O7%121%18%27%24)O8%133%19%28%25\n"
     ]
    },
    {
     "ename": "ValueError",
     "evalue": "could not find number of expected rings.",
     "output_type": "error",
     "traceback": [
      "\u001b[0;31m---------------------------------------------------------------------------\u001b[0m",
      "\u001b[0;31mValueError\u001b[0m                                Traceback (most recent call last)",
      "\u001b[0;32m<ipython-input-44-6e8748d8d957>\u001b[0m in \u001b[0;36m<module>\u001b[0;34m\u001b[0m\n\u001b[0;32m----> 1\u001b[0;31m \u001b[0mmol_drawer\u001b[0m\u001b[0;34m.\u001b[0m\u001b[0mvisualize_batch\u001b[0m\u001b[0;34m(\u001b[0m\u001b[0mprediction\u001b[0m\u001b[0;34m,\u001b[0m \u001b[0mtarget_smiles\u001b[0m\u001b[0;34m,\u001b[0m \u001b[0;36m1\u001b[0m\u001b[0;34m,\u001b[0m \u001b[0minitial_smiles\u001b[0m\u001b[0;34m)\u001b[0m\u001b[0;34m\u001b[0m\u001b[0;34m\u001b[0m\u001b[0m\n\u001b[0m",
      "\u001b[0;32m~/gitrepos/tum-thesis/molgen/dataloading/mol_drawer.py\u001b[0m in \u001b[0;36mvisualize_batch\u001b[0;34m(self, prediction, target_smiles, epochidx, initial_smiles)\u001b[0m\n\u001b[1;32m     73\u001b[0m         \u001b[0;32mexcept\u001b[0m \u001b[0mException\u001b[0m \u001b[0;32mas\u001b[0m \u001b[0me\u001b[0m\u001b[0;34m:\u001b[0m\u001b[0;34m\u001b[0m\u001b[0;34m\u001b[0m\u001b[0m\n\u001b[1;32m     74\u001b[0m             \u001b[0mprint\u001b[0m\u001b[0;34m(\u001b[0m\u001b[0;34mf'{e}\\n RDKit drawing crashed while drawing {self.draw_phase}!\\nsmiles: {self.last_target}\\nprediction: {self.last_prediction}'\u001b[0m\u001b[0;34m)\u001b[0m\u001b[0;34m\u001b[0m\u001b[0;34m\u001b[0m\u001b[0m\n\u001b[0;32m---> 75\u001b[0;31m             \u001b[0;32mraise\u001b[0m \u001b[0me\u001b[0m\u001b[0;34m\u001b[0m\u001b[0;34m\u001b[0m\u001b[0m\n\u001b[0m\u001b[1;32m     76\u001b[0m \u001b[0;34m\u001b[0m\u001b[0m\n\u001b[1;32m     77\u001b[0m     \u001b[0;32mdef\u001b[0m \u001b[0mdrawFromFeatures\u001b[0m\u001b[0;34m(\u001b[0m\u001b[0mself\u001b[0m\u001b[0;34m,\u001b[0m \u001b[0msymbols\u001b[0m\u001b[0;34m,\u001b[0m \u001b[0mcharges\u001b[0m\u001b[0;34m,\u001b[0m \u001b[0mbonds\u001b[0m\u001b[0;34m)\u001b[0m\u001b[0;34m:\u001b[0m\u001b[0;34m\u001b[0m\u001b[0;34m\u001b[0m\u001b[0m\n",
      "\u001b[0;32m~/gitrepos/tum-thesis/molgen/dataloading/mol_drawer.py\u001b[0m in \u001b[0;36mvisualize_batch\u001b[0;34m(self, prediction, target_smiles, epochidx, initial_smiles)\u001b[0m\n\u001b[1;32m     51\u001b[0m                     \u001b[0mself\u001b[0m\u001b[0;34m.\u001b[0m\u001b[0mdrawFromSmiles\u001b[0m\u001b[0;34m(\u001b[0m\u001b[0minitial_smiles\u001b[0m\u001b[0;34m[\u001b[0m\u001b[0mmol_idx\u001b[0m\u001b[0;34m]\u001b[0m\u001b[0;34m)\u001b[0m\u001b[0;34m\u001b[0m\u001b[0;34m\u001b[0m\u001b[0m\n\u001b[1;32m     52\u001b[0m                 \u001b[0mself\u001b[0m\u001b[0;34m.\u001b[0m\u001b[0mdraw_phase\u001b[0m \u001b[0;34m=\u001b[0m \u001b[0;34m'PREDICTION'\u001b[0m\u001b[0;34m\u001b[0m\u001b[0;34m\u001b[0m\u001b[0m\n\u001b[0;32m---> 53\u001b[0;31m                 \u001b[0mself\u001b[0m\u001b[0;34m.\u001b[0m\u001b[0mdrawFromFeatures\u001b[0m\u001b[0;34m(\u001b[0m\u001b[0msymbols_labels\u001b[0m\u001b[0;34m,\u001b[0m \u001b[0mcharges_labels\u001b[0m\u001b[0;34m,\u001b[0m \u001b[0mbonds_labels\u001b[0m\u001b[0;34m)\u001b[0m\u001b[0;34m\u001b[0m\u001b[0;34m\u001b[0m\u001b[0m\n\u001b[0m\u001b[1;32m     54\u001b[0m                 \u001b[0mself\u001b[0m\u001b[0;34m.\u001b[0m\u001b[0mdraw_phase\u001b[0m \u001b[0;34m=\u001b[0m \u001b[0;34m'TARGET'\u001b[0m\u001b[0;34m\u001b[0m\u001b[0;34m\u001b[0m\u001b[0m\n\u001b[1;32m     55\u001b[0m                 \u001b[0mself\u001b[0m\u001b[0;34m.\u001b[0m\u001b[0mdrawFromSmiles\u001b[0m\u001b[0;34m(\u001b[0m\u001b[0mtarget_smiles\u001b[0m\u001b[0;34m[\u001b[0m\u001b[0mmol_idx\u001b[0m\u001b[0;34m]\u001b[0m\u001b[0;34m)\u001b[0m\u001b[0;34m\u001b[0m\u001b[0;34m\u001b[0m\u001b[0m\n",
      "\u001b[0;32m~/gitrepos/tum-thesis/molgen/dataloading/mol_drawer.py\u001b[0m in \u001b[0;36mdrawFromFeatures\u001b[0;34m(self, symbols, charges, bonds)\u001b[0m\n\u001b[1;32m     78\u001b[0m         \u001b[0msmiles\u001b[0m \u001b[0;34m=\u001b[0m \u001b[0mfeat2smiles\u001b[0m\u001b[0;34m(\u001b[0m\u001b[0mself\u001b[0m\u001b[0;34m.\u001b[0m\u001b[0mSYMBOLS\u001b[0m\u001b[0;34m,\u001b[0m \u001b[0mself\u001b[0m\u001b[0;34m.\u001b[0m\u001b[0mFORMAL_CHARGES\u001b[0m\u001b[0;34m,\u001b[0m \u001b[0mself\u001b[0m\u001b[0;34m.\u001b[0m\u001b[0mBOND_TYPES\u001b[0m\u001b[0;34m,\u001b[0m \u001b[0msymbols\u001b[0m\u001b[0;34m,\u001b[0m \u001b[0mcharges\u001b[0m\u001b[0;34m,\u001b[0m \u001b[0mbonds\u001b[0m\u001b[0;34m,\u001b[0m \u001b[0mself\u001b[0m\u001b[0;34m.\u001b[0m\u001b[0minclude_charge\u001b[0m\u001b[0;34m)\u001b[0m\u001b[0;34m\u001b[0m\u001b[0;34m\u001b[0m\u001b[0m\n\u001b[1;32m     79\u001b[0m         \u001b[0mself\u001b[0m\u001b[0;34m.\u001b[0m\u001b[0mlast_prediction\u001b[0m \u001b[0;34m=\u001b[0m \u001b[0msmiles\u001b[0m\u001b[0;34m\u001b[0m\u001b[0;34m\u001b[0m\u001b[0m\n\u001b[0;32m---> 80\u001b[0;31m         \u001b[0mself\u001b[0m\u001b[0;34m.\u001b[0m\u001b[0mdrawFromSmiles\u001b[0m\u001b[0;34m(\u001b[0m\u001b[0msmiles\u001b[0m\u001b[0;34m)\u001b[0m\u001b[0;34m\u001b[0m\u001b[0;34m\u001b[0m\u001b[0m\n\u001b[0m\u001b[1;32m     81\u001b[0m \u001b[0;34m\u001b[0m\u001b[0m\n\u001b[1;32m     82\u001b[0m     \u001b[0;32mdef\u001b[0m \u001b[0mdrawFromSmiles\u001b[0m\u001b[0;34m(\u001b[0m\u001b[0mself\u001b[0m\u001b[0;34m,\u001b[0m \u001b[0msmiles\u001b[0m\u001b[0;34m)\u001b[0m\u001b[0;34m:\u001b[0m\u001b[0;34m\u001b[0m\u001b[0;34m\u001b[0m\u001b[0m\n",
      "\u001b[0;32m~/gitrepos/tum-thesis/molgen/dataloading/mol_drawer.py\u001b[0m in \u001b[0;36mdrawFromSmiles\u001b[0;34m(self, smiles)\u001b[0m\n\u001b[1;32m    110\u001b[0m         \u001b[0moptions\u001b[0m\u001b[0;34m.\u001b[0m\u001b[0mfillHighlights\u001b[0m \u001b[0;34m=\u001b[0m \u001b[0;32mFalse\u001b[0m\u001b[0;34m\u001b[0m\u001b[0;34m\u001b[0m\u001b[0m\n\u001b[1;32m    111\u001b[0m         \u001b[0mdrawer\u001b[0m\u001b[0;34m.\u001b[0m\u001b[0mSetFontSize\u001b[0m\u001b[0;34m(\u001b[0m\u001b[0;36m.4\u001b[0m\u001b[0;34m)\u001b[0m\u001b[0;34m\u001b[0m\u001b[0;34m\u001b[0m\u001b[0m\n\u001b[0;32m--> 112\u001b[0;31m         \u001b[0mdrawer\u001b[0m\u001b[0;34m.\u001b[0m\u001b[0mDrawMolecules\u001b[0m\u001b[0;34m(\u001b[0m\u001b[0;34m[\u001b[0m\u001b[0mm\u001b[0m\u001b[0;34m]\u001b[0m\u001b[0;34m)\u001b[0m\u001b[0;34m\u001b[0m\u001b[0;34m\u001b[0m\u001b[0m\n\u001b[0m\u001b[1;32m    113\u001b[0m         \u001b[0mdrawer\u001b[0m\u001b[0;34m.\u001b[0m\u001b[0mFinishDrawing\u001b[0m\u001b[0;34m(\u001b[0m\u001b[0;34m)\u001b[0m\u001b[0;34m\u001b[0m\u001b[0;34m\u001b[0m\u001b[0m\n\u001b[1;32m    114\u001b[0m         \u001b[0msvg\u001b[0m \u001b[0;34m=\u001b[0m \u001b[0mdrawer\u001b[0m\u001b[0;34m.\u001b[0m\u001b[0mGetDrawingText\u001b[0m\u001b[0;34m(\u001b[0m\u001b[0;34m)\u001b[0m\u001b[0;34m\u001b[0m\u001b[0;34m\u001b[0m\u001b[0m\n",
      "\u001b[0;31mValueError\u001b[0m: could not find number of expected rings."
     ]
    }
   ],
   "source": [
    "mol_drawer.visualize_batch(prediction, target_smiles, 1, initial_smiles)"
   ]
  },
  {
   "cell_type": "code",
   "execution_count": 33,
   "metadata": {},
   "outputs": [],
   "source": [
    "bond_idx = 1\n",
    "for idx, (stx, lex) in enumerate(Y.scope):\n",
    "    dev_sym = prediction[0][0].narrow(0, stx, lex).cpu().numpy()\n",
    "    np.savetxt('symbols.txt', dev_sym, fmt='%i')\n",
    "    np.savetxt('charges.txt', prediction[0][1].narrow(0, stx, lex).cpu().numpy(), fmt='%i')\n",
    "    \n",
    "    dev_bnd = prediction[0][2].narrow(0, bond_idx, lex*lex).view(lex, lex).cpu().numpy()\n",
    "    np.savetxt('bonds.txt', dev_bnd, fmt='%i')\n",
    "    bond_idx += lex * lex\n",
    "    \n",
    "    if idx == 0:\n",
    "        break"
   ]
  },
  {
   "cell_type": "code",
   "execution_count": 32,
   "metadata": {},
   "outputs": [
    {
     "data": {
      "image/png": "[encoded data removed]",
      "text/plain": [
       "<rdkit.Chem.rdchem.Mol at 0x7f3e784b9c10>"
      ]
     },
     "execution_count": 32,
     "metadata": {},
     "output_type": "execute_result"
    }
   ],
   "source": [
    "smiles = \"C.C.C.C.C.C.C.C=S(=C)(=C)N(C)(C)(C)c(Br)c(c)c.CC\"\n",
    "smiles = \"C.C.C.C.C.C.C.C.C=[SH](=C)N(C)(C)(C)c(Br)c(c)c.CC\"\n",
    "from rdkit import Chem\n",
    "\n",
    "from rdkit.Chem.Draw import IPythonConsole\n",
    "Chem.MolFromSmiles(smiles, sanitize = False)"
   ]
  },
  {
   "cell_type": "code",
   "execution_count": 43,
   "metadata": {},
   "outputs": [],
   "source": [
    "# Chem.MolFromSmiles(\"C.C.C.C.C.C.C.C.C=[SH](=C)N(C)(C)(C)c(Br)c(c)c.CC\")"
   ]
  },
  {
   "cell_type": "code",
   "execution_count": 379,
   "metadata": {},
   "outputs": [
    {
     "data": {
      "text/plain": [
       "'C.C.C.C.C.C.C.C.C=[SH](=C)N(C)(C)(C)c(Br)c(c)c.CC'"
      ]
     },
     "execution_count": 379,
     "metadata": {},
     "output_type": "execute_result"
    }
   ],
   "source": [
    "smiles"
   ]
  },
  {
   "cell_type": "code",
   "execution_count": 380,
   "metadata": {},
   "outputs": [
    {
     "data": {
      "text/plain": [
       "tensor([4, 4, 4,  ..., 4, 4, 4], device='cuda:0', grad_fn=<NotImplemented>)"
      ]
     },
     "execution_count": 380,
     "metadata": {},
     "output_type": "execute_result"
    }
   ],
   "source": [
    "bonds_labels"
   ]
  },
  {
   "cell_type": "code",
   "execution_count": 381,
   "metadata": {},
   "outputs": [
    {
     "data": {
      "text/plain": [
       "array([0, 0, 0, 0, 1, 0, 0, 0, 0, 0, 0, 0, 0, 0, 0, 0, 0, 0, 2, 2, 0, 0])"
      ]
     },
     "execution_count": 381,
     "metadata": {},
     "output_type": "execute_result"
    }
   ],
   "source": [
    "dev_sym"
   ]
  },
  {
   "cell_type": "code",
   "execution_count": 38,
   "metadata": {},
   "outputs": [],
   "source": [
    "mol = feat2smiles(SYMBOLS,None,BOND_TYPES,dev_sym, None, dev_bnd)"
   ]
  },
  {
   "cell_type": "code",
   "execution_count": 39,
   "metadata": {},
   "outputs": [
    {
     "data": {
      "image/png": "[encoded data removed]",
      "text/plain": [
       "<rdkit.Chem.rdchem.RWMol at 0x7f3e780a7df8>"
      ]
     },
     "execution_count": 39,
     "metadata": {},
     "output_type": "execute_result"
    }
   ],
   "source": [
    "mol"
   ]
  },
  {
   "cell_type": "code",
   "execution_count": 35,
   "metadata": {},
   "outputs": [
    {
     "ename": "AttributeError",
     "evalue": "'str' object has no attribute 'GetAtoms'",
     "output_type": "error",
     "traceback": [
      "\u001b[0;31m---------------------------------------------------------------------------\u001b[0m",
      "\u001b[0;31mAttributeError\u001b[0m                            Traceback (most recent call last)",
      "\u001b[0;32m<ipython-input-35-c7908bb81b5f>\u001b[0m in \u001b[0;36m<module>\u001b[0;34m\u001b[0m\n\u001b[0;32m----> 1\u001b[0;31m \u001b[0;32mfor\u001b[0m \u001b[0matom\u001b[0m \u001b[0;32min\u001b[0m \u001b[0mmol\u001b[0m\u001b[0;34m.\u001b[0m\u001b[0mGetAtoms\u001b[0m\u001b[0;34m(\u001b[0m\u001b[0;34m)\u001b[0m\u001b[0;34m:\u001b[0m\u001b[0;34m\u001b[0m\u001b[0;34m\u001b[0m\u001b[0m\n\u001b[0m\u001b[1;32m      2\u001b[0m     \u001b[0mprint\u001b[0m \u001b[0;34m(\u001b[0m\u001b[0matom\u001b[0m\u001b[0;34m.\u001b[0m\u001b[0mGetSymbol\u001b[0m\u001b[0;34m(\u001b[0m\u001b[0;34m)\u001b[0m\u001b[0;34m,\u001b[0m \u001b[0matom\u001b[0m\u001b[0;34m.\u001b[0m\u001b[0mGetFormalCharge\u001b[0m\u001b[0;34m(\u001b[0m\u001b[0;34m)\u001b[0m\u001b[0;34m,\u001b[0m \u001b[0matom\u001b[0m\u001b[0;34m.\u001b[0m\u001b[0mGetIsAromatic\u001b[0m\u001b[0;34m(\u001b[0m\u001b[0;34m)\u001b[0m\u001b[0;34m)\u001b[0m\u001b[0;34m\u001b[0m\u001b[0;34m\u001b[0m\u001b[0m\n",
      "\u001b[0;31mAttributeError\u001b[0m: 'str' object has no attribute 'GetAtoms'"
     ]
    }
   ],
   "source": [
    "for atom in mol.GetAtoms():\n",
    "    print (atom.GetSymbol(), atom.GetFormalCharge(), atom.GetIsAromatic())"
   ]
  },
  {
   "cell_type": "code",
   "execution_count": 384,
   "metadata": {},
   "outputs": [
    {
     "data": {
      "text/plain": [
       "'C.C.C.C.C.C.C.C.C.C.C.C.C.C.C.C.CC.CN.O.O'"
      ]
     },
     "execution_count": 384,
     "metadata": {},
     "output_type": "execute_result"
    }
   ],
   "source": [
    "Chem.MolToSmiles(mol)"
   ]
  },
  {
   "cell_type": "code",
   "execution_count": 341,
   "metadata": {},
   "outputs": [
    {
     "data": {
      "text/plain": [
       "'C.CCl'"
      ]
     },
     "execution_count": 341,
     "metadata": {},
     "output_type": "execute_result"
    }
   ],
   "source": [
    "Chem.MolToSmiles(Chem.MolFromSmiles(smiles))"
   ]
  },
  {
   "cell_type": "code",
   "execution_count": 342,
   "metadata": {},
   "outputs": [],
   "source": [
    "Chem.MolFromSmiles(Chem.MolToSmiles(mol), sanitize = False)"
   ]
  }
 ],
 "metadata": {
  "kernelspec": {
   "display_name": "Python 3",
   "language": "python",
   "name": "python3"
  },
  "language_info": {
   "codemirror_mode": {
    "name": "ipython",
    "version": 3
   },
   "file_extension": ".py",
   "mimetype": "text/x-python",
   "name": "python",
   "nbconvert_exporter": "python",
   "pygments_lexer": "ipython3",
   "version": "3.6.8"
  }
 },
 "nbformat": 4,
 "nbformat_minor": 4
}
