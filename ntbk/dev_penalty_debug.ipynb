{
 "cells": [
  {
   "cell_type": "code",
   "execution_count": 1,
   "metadata": {},
   "outputs": [
    {
     "name": "stdout",
     "output_type": "stream",
     "text": [
      "/Users/octavdragoi/gitrepos/tum-thesis\n"
     ]
    }
   ],
   "source": [
    "import os\n",
    "if \"ntbk\" in os.getcwd():\n",
    "    os.chdir(\"..\")\n",
    "print(os.getcwd())\n",
    "\n",
    "import sys\n",
    "sys.path.append(os.path.join(os.getcwd(), \"otgnn\"))\n",
    "\n",
    "\n",
    "%load_ext autoreload\n",
    "%autoreload 2\n",
    "\n",
    "from otgnn.models import GCN\n",
    "from otgnn.graph import MolGraph\n",
    "from otgnn.utils import save_model, load_model, StatsTracker\n",
    "from otgnn.graph import SYMBOLS, FORMAL_CHARGES, BOND_TYPES, get_bt_index\n",
    "\n",
    "from mol_opt.mol_opt import MolOpt\n",
    "from mol_opt.data_mol_opt import MolOptDataset\n",
    "from mol_opt.data_mol_opt import get_loader\n",
    "from mol_opt.decoder_mol_opt import MolOptDecoder\n",
    "from mol_opt.arguments import get_args\n",
    "from mol_opt.train_mol_opt import main, get_latest_model\n",
    "from mol_opt.ot_utils import encode_target, FGW\n",
    "from mol_opt.train_mol_opt import ft\n",
    "\n",
    "from rdkit.Chem import MolFromSmiles\n",
    "\n",
    "from molgen.metrics.Penalty import Penalty\n",
    "\n",
    "import torch\n",
    "from torch import nn\n",
    "import numpy as np\n",
    "import time"
   ]
  },
  {
   "cell_type": "code",
   "execution_count": 2,
   "metadata": {},
   "outputs": [
    {
     "ename": "FileNotFoundError",
     "evalue": "[Errno 2] No such file or directory: 'mol_opt/output_pointwise10-onebatch/model_pointwise10-onebatch_1000'",
     "output_type": "error",
     "traceback": [
      "\u001b[0;31m---------------------------------------------------------------------------\u001b[0m",
      "\u001b[0;31mFileNotFoundError\u001b[0m                         Traceback (most recent call last)",
      "\u001b[0;32m<ipython-input-2-36255d22e4a6>\u001b[0m in \u001b[0;36m<module>\u001b[0;34m\u001b[0m\n\u001b[1;32m      9\u001b[0m \u001b[0mmodel_decode_name\u001b[0m \u001b[0;34m=\u001b[0m \u001b[0;34m\"model_{}_decode_{}\"\u001b[0m\u001b[0;34m.\u001b[0m\u001b[0mformat\u001b[0m\u001b[0;34m(\u001b[0m\u001b[0mmodel\u001b[0m\u001b[0;34m,\u001b[0m \u001b[0mmodel_iter\u001b[0m\u001b[0;34m)\u001b[0m\u001b[0;34m\u001b[0m\u001b[0;34m\u001b[0m\u001b[0m\n\u001b[1;32m     10\u001b[0m \u001b[0;34m\u001b[0m\u001b[0m\n\u001b[0;32m---> 11\u001b[0;31m \u001b[0mmolopt\u001b[0m\u001b[0;34m,\u001b[0m \u001b[0mconfig\u001b[0m \u001b[0;34m=\u001b[0m \u001b[0mload_model\u001b[0m\u001b[0;34m(\u001b[0m\u001b[0margs\u001b[0m\u001b[0;34m.\u001b[0m\u001b[0moutput_dir\u001b[0m \u001b[0;34m+\u001b[0m \u001b[0mmodel_name\u001b[0m\u001b[0;34m,\u001b[0m \u001b[0mMolOpt\u001b[0m\u001b[0;34m,\u001b[0m \u001b[0margs\u001b[0m\u001b[0;34m.\u001b[0m\u001b[0mdevice\u001b[0m\u001b[0;34m)\u001b[0m\u001b[0;34m\u001b[0m\u001b[0;34m\u001b[0m\u001b[0m\n\u001b[0m\u001b[1;32m     12\u001b[0m \u001b[0mprint\u001b[0m \u001b[0;34m(\u001b[0m\u001b[0mmolopt\u001b[0m\u001b[0;34m,\u001b[0m \u001b[0mconfig\u001b[0m\u001b[0;34m)\u001b[0m\u001b[0;34m\u001b[0m\u001b[0;34m\u001b[0m\u001b[0m\n\u001b[1;32m     13\u001b[0m \u001b[0;34m\u001b[0m\u001b[0m\n",
      "\u001b[0;32m~/gitrepos/tum-thesis/otgnn/utils/model_utils.py\u001b[0m in \u001b[0;36mload_model\u001b[0;34m(path, model_class, device)\u001b[0m\n\u001b[1;32m     16\u001b[0m \u001b[0;31m# Load the model along with args for the model\u001b[0m\u001b[0;34m\u001b[0m\u001b[0;34m\u001b[0m\u001b[0;34m\u001b[0m\u001b[0m\n\u001b[1;32m     17\u001b[0m \u001b[0;32mdef\u001b[0m \u001b[0mload_model\u001b[0m\u001b[0;34m(\u001b[0m\u001b[0mpath\u001b[0m\u001b[0;34m,\u001b[0m \u001b[0mmodel_class\u001b[0m\u001b[0;34m,\u001b[0m \u001b[0mdevice\u001b[0m\u001b[0;34m)\u001b[0m\u001b[0;34m:\u001b[0m\u001b[0;34m\u001b[0m\u001b[0;34m\u001b[0m\u001b[0m\n\u001b[0;32m---> 18\u001b[0;31m     \u001b[0mmodel_dict\u001b[0m \u001b[0;34m=\u001b[0m \u001b[0mtorch\u001b[0m\u001b[0;34m.\u001b[0m\u001b[0mload\u001b[0m\u001b[0;34m(\u001b[0m\u001b[0mpath\u001b[0m\u001b[0;34m)\u001b[0m\u001b[0;34m\u001b[0m\u001b[0;34m\u001b[0m\u001b[0m\n\u001b[0m\u001b[1;32m     19\u001b[0m     \u001b[0margs\u001b[0m \u001b[0;34m=\u001b[0m \u001b[0mmodel_dict\u001b[0m\u001b[0;34m[\u001b[0m\u001b[0;34m'args'\u001b[0m\u001b[0;34m]\u001b[0m\u001b[0;34m\u001b[0m\u001b[0;34m\u001b[0m\u001b[0m\n\u001b[1;32m     20\u001b[0m \u001b[0;34m\u001b[0m\u001b[0m\n",
      "\u001b[0;32m~/anaconda3/envs/mol_ot/lib/python3.6/site-packages/torch/serialization.py\u001b[0m in \u001b[0;36mload\u001b[0;34m(f, map_location, pickle_module, **pickle_load_args)\u001b[0m\n\u001b[1;32m    569\u001b[0m         \u001b[0mpickle_load_args\u001b[0m\u001b[0;34m[\u001b[0m\u001b[0;34m'encoding'\u001b[0m\u001b[0;34m]\u001b[0m \u001b[0;34m=\u001b[0m \u001b[0;34m'utf-8'\u001b[0m\u001b[0;34m\u001b[0m\u001b[0;34m\u001b[0m\u001b[0m\n\u001b[1;32m    570\u001b[0m \u001b[0;34m\u001b[0m\u001b[0m\n\u001b[0;32m--> 571\u001b[0;31m     \u001b[0;32mwith\u001b[0m \u001b[0m_open_file_like\u001b[0m\u001b[0;34m(\u001b[0m\u001b[0mf\u001b[0m\u001b[0;34m,\u001b[0m \u001b[0;34m'rb'\u001b[0m\u001b[0;34m)\u001b[0m \u001b[0;32mas\u001b[0m \u001b[0mopened_file\u001b[0m\u001b[0;34m:\u001b[0m\u001b[0;34m\u001b[0m\u001b[0;34m\u001b[0m\u001b[0m\n\u001b[0m\u001b[1;32m    572\u001b[0m         \u001b[0;32mif\u001b[0m \u001b[0m_is_zipfile\u001b[0m\u001b[0;34m(\u001b[0m\u001b[0mopened_file\u001b[0m\u001b[0;34m)\u001b[0m\u001b[0;34m:\u001b[0m\u001b[0;34m\u001b[0m\u001b[0;34m\u001b[0m\u001b[0m\n\u001b[1;32m    573\u001b[0m             \u001b[0;31m# The zipfile reader is going to advance the current file position.\u001b[0m\u001b[0;34m\u001b[0m\u001b[0;34m\u001b[0m\u001b[0;34m\u001b[0m\u001b[0m\n",
      "\u001b[0;32m~/anaconda3/envs/mol_ot/lib/python3.6/site-packages/torch/serialization.py\u001b[0m in \u001b[0;36m_open_file_like\u001b[0;34m(name_or_buffer, mode)\u001b[0m\n\u001b[1;32m    227\u001b[0m \u001b[0;32mdef\u001b[0m \u001b[0m_open_file_like\u001b[0m\u001b[0;34m(\u001b[0m\u001b[0mname_or_buffer\u001b[0m\u001b[0;34m,\u001b[0m \u001b[0mmode\u001b[0m\u001b[0;34m)\u001b[0m\u001b[0;34m:\u001b[0m\u001b[0;34m\u001b[0m\u001b[0;34m\u001b[0m\u001b[0m\n\u001b[1;32m    228\u001b[0m     \u001b[0;32mif\u001b[0m \u001b[0m_is_path\u001b[0m\u001b[0;34m(\u001b[0m\u001b[0mname_or_buffer\u001b[0m\u001b[0;34m)\u001b[0m\u001b[0;34m:\u001b[0m\u001b[0;34m\u001b[0m\u001b[0;34m\u001b[0m\u001b[0m\n\u001b[0;32m--> 229\u001b[0;31m         \u001b[0;32mreturn\u001b[0m \u001b[0m_open_file\u001b[0m\u001b[0;34m(\u001b[0m\u001b[0mname_or_buffer\u001b[0m\u001b[0;34m,\u001b[0m \u001b[0mmode\u001b[0m\u001b[0;34m)\u001b[0m\u001b[0;34m\u001b[0m\u001b[0;34m\u001b[0m\u001b[0m\n\u001b[0m\u001b[1;32m    230\u001b[0m     \u001b[0;32melse\u001b[0m\u001b[0;34m:\u001b[0m\u001b[0;34m\u001b[0m\u001b[0;34m\u001b[0m\u001b[0m\n\u001b[1;32m    231\u001b[0m         \u001b[0;32mif\u001b[0m \u001b[0;34m'w'\u001b[0m \u001b[0;32min\u001b[0m \u001b[0mmode\u001b[0m\u001b[0;34m:\u001b[0m\u001b[0;34m\u001b[0m\u001b[0;34m\u001b[0m\u001b[0m\n",
      "\u001b[0;32m~/anaconda3/envs/mol_ot/lib/python3.6/site-packages/torch/serialization.py\u001b[0m in \u001b[0;36m__init__\u001b[0;34m(self, name, mode)\u001b[0m\n\u001b[1;32m    208\u001b[0m \u001b[0;32mclass\u001b[0m \u001b[0m_open_file\u001b[0m\u001b[0;34m(\u001b[0m\u001b[0m_opener\u001b[0m\u001b[0;34m)\u001b[0m\u001b[0;34m:\u001b[0m\u001b[0;34m\u001b[0m\u001b[0;34m\u001b[0m\u001b[0m\n\u001b[1;32m    209\u001b[0m     \u001b[0;32mdef\u001b[0m \u001b[0m__init__\u001b[0m\u001b[0;34m(\u001b[0m\u001b[0mself\u001b[0m\u001b[0;34m,\u001b[0m \u001b[0mname\u001b[0m\u001b[0;34m,\u001b[0m \u001b[0mmode\u001b[0m\u001b[0;34m)\u001b[0m\u001b[0;34m:\u001b[0m\u001b[0;34m\u001b[0m\u001b[0;34m\u001b[0m\u001b[0m\n\u001b[0;32m--> 210\u001b[0;31m         \u001b[0msuper\u001b[0m\u001b[0;34m(\u001b[0m\u001b[0m_open_file\u001b[0m\u001b[0;34m,\u001b[0m \u001b[0mself\u001b[0m\u001b[0;34m)\u001b[0m\u001b[0;34m.\u001b[0m\u001b[0m__init__\u001b[0m\u001b[0;34m(\u001b[0m\u001b[0mopen\u001b[0m\u001b[0;34m(\u001b[0m\u001b[0mname\u001b[0m\u001b[0;34m,\u001b[0m \u001b[0mmode\u001b[0m\u001b[0;34m)\u001b[0m\u001b[0;34m)\u001b[0m\u001b[0;34m\u001b[0m\u001b[0;34m\u001b[0m\u001b[0m\n\u001b[0m\u001b[1;32m    211\u001b[0m \u001b[0;34m\u001b[0m\u001b[0m\n\u001b[1;32m    212\u001b[0m     \u001b[0;32mdef\u001b[0m \u001b[0m__exit__\u001b[0m\u001b[0;34m(\u001b[0m\u001b[0mself\u001b[0m\u001b[0;34m,\u001b[0m \u001b[0;34m*\u001b[0m\u001b[0margs\u001b[0m\u001b[0;34m)\u001b[0m\u001b[0;34m:\u001b[0m\u001b[0;34m\u001b[0m\u001b[0;34m\u001b[0m\u001b[0m\n",
      "\u001b[0;31mFileNotFoundError\u001b[0m: [Errno 2] No such file or directory: 'mol_opt/output_pointwise10-onebatch/model_pointwise10-onebatch_1000'"
     ]
    }
   ],
   "source": [
    "sys.argv = [\"\", \"-cuda\"]\n",
    "args = get_args()\n",
    "model = \"pointwise10-onebatch\"\n",
    "args.output_dir = f\"mol_opt/output_{model}/\"\n",
    "\n",
    "model_iter = 1000 \n",
    "\n",
    "model_name = \"model_{}_{}\".format(model, model_iter)\n",
    "model_decode_name = \"model_{}_decode_{}\".format(model, model_iter)\n",
    "\n",
    "molopt, config = load_model(args.output_dir + model_name, MolOpt, args.device)\n",
    "print (molopt, config)\n",
    "\n",
    "molopt_decoder, config_decoder = load_model(args.output_dir + model_decode_name, MolOptDecoder, args.device)\n",
    "print (molopt_decoder, config_decoder)\n",
    "\n",
    "loss = FGW(alpha = 0.5)\n",
    "\n",
    "n_data = 36\n",
    "data_loader = get_loader(\"iclr19-graph2graph/data/qed\", \"train_pairs\", n_data, True)\n",
    "for i in data_loader:\n",
    "    X = (MolGraph(i[0]))\n",
    "    Y = (MolGraph(i[1]))\n",
    "    break"
   ]
  },
  {
   "cell_type": "code",
   "execution_count": 4,
   "metadata": {},
   "outputs": [],
   "source": [
    "args.conn_penalty_function = 'capped_logdet2'\n",
    "pen = PenaltyNew(args, prev_epoch = 0)"
   ]
  },
  {
   "cell_type": "code",
   "execution_count": 5,
   "metadata": {},
   "outputs": [],
   "source": [
    "yhat_embedding = molopt.forward(X)\n",
    "yhat_logits = molopt_decoder.forward(yhat_embedding, X, Y)\n",
    "yhat_labels = molopt_decoder.discretize(*yhat_logits)\n",
    "\n",
    "pred_pack = (yhat_labels, yhat_logits, Y.scope), Y"
   ]
  },
  {
   "cell_type": "code",
   "execution_count": 54,
   "metadata": {
    "scrolled": true
   },
   "outputs": [
    {
     "name": "stdout",
     "output_type": "stream",
     "text": [
      "epoch=0\n",
      " conn_penalty:0.0000004\n",
      " val_penalty:1.7847447\n",
      " euler_penalty:25.6435683\n",
      "Penalty params: tau=1.00000 conn_l=0.02500 val_l=0.07000 euler_l=0.30000 epoch=1\n",
      "epoch=1\n",
      " conn_penalty:0.0000004\n",
      " val_penalty:1.5047135\n",
      " euler_penalty:25.6922082\n",
      "Penalty params: tau=1.00000 conn_l=0.02500 val_l=0.07000 euler_l=0.30000 epoch=1\n",
      "epoch=2\n",
      " conn_penalty:0.0000004\n",
      " val_penalty:1.4603640\n",
      " euler_penalty:25.8834195\n",
      "Penalty params: tau=0.99990 conn_l=0.02500 val_l=0.07000 euler_l=0.30000 epoch=2\n",
      "epoch=3\n",
      " conn_penalty:0.0000004\n",
      " val_penalty:1.5447070\n",
      " euler_penalty:25.5283271\n",
      "Penalty params: tau=0.99980 conn_l=0.02500 val_l=0.07000 euler_l=0.30000 epoch=3\n",
      "epoch=4\n",
      " conn_penalty:0.0000004\n",
      " val_penalty:0.9759809\n",
      " euler_penalty:26.2329356\n",
      "Penalty params: tau=0.99970 conn_l=0.02500 val_l=0.07000 euler_l=0.30000 epoch=4\n",
      "epoch=5\n",
      " conn_penalty:0.0000004\n",
      " val_penalty:1.8451453\n",
      " euler_penalty:25.8235575\n",
      "Penalty params: tau=0.99960 conn_l=0.02500 val_l=0.07000 euler_l=0.30000 epoch=5\n",
      "epoch=6\n",
      " conn_penalty:0.0000004\n",
      " val_penalty:1.3505206\n",
      " euler_penalty:25.7318827\n",
      "Penalty params: tau=0.99950 conn_l=0.02500 val_l=0.07000 euler_l=0.30000 epoch=6\n",
      "epoch=7\n",
      " conn_penalty:0.0000004\n",
      " val_penalty:1.7443433\n",
      " euler_penalty:25.6441735\n",
      "Penalty params: tau=0.99940 conn_l=0.02500 val_l=0.07000 euler_l=0.30000 epoch=7\n",
      "epoch=8\n",
      " conn_penalty:0.0000004\n",
      " val_penalty:1.7355396\n",
      " euler_penalty:25.8410102\n",
      "Penalty params: tau=0.99930 conn_l=0.02500 val_l=0.07000 euler_l=0.30000 epoch=8\n",
      "epoch=9\n",
      " conn_penalty:0.0000004\n",
      " val_penalty:1.1042779\n",
      " euler_penalty:25.8952416\n",
      "Penalty params: tau=0.99920 conn_l=0.02500 val_l=0.07000 euler_l=0.30000 epoch=9\n",
      "epoch=10\n",
      " conn_penalty:0.0000004\n",
      " val_penalty:1.2182999\n",
      " euler_penalty:25.9640249\n",
      "Penalty params: tau=0.99910 conn_l=0.02500 val_l=0.07000 euler_l=0.30000 epoch=10\n",
      "epoch=11\n",
      " conn_penalty:0.0000004\n",
      " val_penalty:1.6154504\n",
      " euler_penalty:25.8400777\n",
      "Penalty params: tau=0.99900 conn_l=0.02500 val_l=0.07000 euler_l=0.30000 epoch=11\n",
      "epoch=12\n",
      " conn_penalty:0.0000004\n",
      " val_penalty:1.4552252\n",
      " euler_penalty:25.5140669\n",
      "Penalty params: tau=0.99890 conn_l=0.02500 val_l=0.07000 euler_l=0.30000 epoch=12\n",
      "epoch=13\n",
      " conn_penalty:0.0000004\n",
      " val_penalty:1.4328904\n",
      " euler_penalty:25.6484646\n",
      "Penalty params: tau=0.99880 conn_l=0.02500 val_l=0.07000 euler_l=0.30000 epoch=13\n",
      "epoch=14\n",
      " conn_penalty:0.0000004\n",
      " val_penalty:1.6782213\n",
      " euler_penalty:25.7719116\n",
      "Penalty params: tau=0.99870 conn_l=0.02500 val_l=0.07000 euler_l=0.30000 epoch=14\n",
      "epoch=15\n",
      " conn_penalty:0.0000004\n",
      " val_penalty:1.0701127\n",
      " euler_penalty:25.9729479\n",
      "Penalty params: tau=0.99860 conn_l=0.02500 val_l=0.07000 euler_l=0.30000 epoch=15\n",
      "epoch=16\n",
      " conn_penalty:0.0000004\n",
      " val_penalty:1.2709655\n",
      " euler_penalty:25.7089064\n",
      "Penalty params: tau=0.99850 conn_l=0.02500 val_l=0.07000 euler_l=0.30000 epoch=16\n",
      "epoch=17\n",
      " conn_penalty:0.0000004\n",
      " val_penalty:1.5852016\n",
      " euler_penalty:25.3894060\n",
      "Penalty params: tau=0.99840 conn_l=0.02500 val_l=0.07000 euler_l=0.30000 epoch=17\n",
      "epoch=18\n",
      " conn_penalty:0.0000004\n",
      " val_penalty:1.3630994\n",
      " euler_penalty:25.8439365\n",
      "Penalty params: tau=0.99830 conn_l=0.02500 val_l=0.07000 euler_l=0.30000 epoch=18\n",
      "epoch=19\n",
      " conn_penalty:0.0000004\n",
      " val_penalty:1.6773083\n",
      " euler_penalty:25.3632812\n",
      "Penalty params: tau=0.99820 conn_l=0.02500 val_l=0.07000 euler_l=0.30000 epoch=19\n",
      "epoch=20\n",
      " conn_penalty:0.0000004\n",
      " val_penalty:1.2746309\n",
      " euler_penalty:25.9384732\n",
      "Penalty params: tau=0.99810 conn_l=0.02500 val_l=0.07000 euler_l=0.30000 epoch=20\n",
      "epoch=21\n",
      " conn_penalty:0.0000004\n",
      " val_penalty:1.4289663\n",
      " euler_penalty:25.6766900\n",
      "Penalty params: tau=0.99800 conn_l=0.02500 val_l=0.07000 euler_l=0.30000 epoch=21\n",
      "epoch=22\n",
      " conn_penalty:0.0000004\n",
      " val_penalty:1.4387601\n",
      " euler_penalty:25.4761081\n",
      "Penalty params: tau=0.99790 conn_l=0.02500 val_l=0.07000 euler_l=0.30000 epoch=22\n",
      "epoch=23\n",
      " conn_penalty:0.0000004\n",
      " val_penalty:1.1344429\n",
      " euler_penalty:25.8342506\n",
      "Penalty params: tau=0.99780 conn_l=0.02500 val_l=0.07000 euler_l=0.30000 epoch=23\n",
      "epoch=24\n",
      " conn_penalty:0.0000004\n",
      " val_penalty:1.8599817\n",
      " euler_penalty:25.2957323\n",
      "Penalty params: tau=0.99770 conn_l=0.02500 val_l=0.07000 euler_l=0.30000 epoch=24\n",
      "epoch=25\n",
      " conn_penalty:0.0000004\n",
      " val_penalty:1.5461138\n",
      " euler_penalty:25.7810465\n",
      "Penalty params: tau=0.99760 conn_l=0.02500 val_l=0.07000 euler_l=0.30000 epoch=25\n",
      "epoch=26\n",
      " conn_penalty:0.0000004\n",
      " val_penalty:1.1503879\n",
      " euler_penalty:25.8862288\n",
      "Penalty params: tau=0.99750 conn_l=0.02500 val_l=0.07000 euler_l=0.30000 epoch=26\n",
      "epoch=27\n",
      " conn_penalty:0.0000004\n",
      " val_penalty:1.3664716\n",
      " euler_penalty:25.9876166\n",
      "Penalty params: tau=0.99740 conn_l=0.02500 val_l=0.07000 euler_l=0.30000 epoch=27\n",
      "epoch=28\n",
      " conn_penalty:0.0000004\n",
      " val_penalty:1.4908940\n",
      " euler_penalty:25.4710642\n",
      "Penalty params: tau=0.99730 conn_l=0.02500 val_l=0.07000 euler_l=0.30000 epoch=28\n",
      "epoch=29\n",
      " conn_penalty:0.0000004\n",
      " val_penalty:1.4131387\n",
      " euler_penalty:25.7867974\n",
      "Penalty params: tau=0.99720 conn_l=0.02500 val_l=0.07000 euler_l=0.30000 epoch=29\n",
      "epoch=30\n",
      " conn_penalty:0.0000004\n",
      " val_penalty:1.1963461\n",
      " euler_penalty:25.8926239\n",
      "Penalty params: tau=0.99710 conn_l=0.02500 val_l=0.07000 euler_l=0.30000 epoch=30\n",
      "epoch=31\n",
      " conn_penalty:0.0000004\n",
      " val_penalty:1.4223852\n",
      " euler_penalty:25.9605696\n",
      "Penalty params: tau=0.99700 conn_l=0.02500 val_l=0.07000 euler_l=0.30000 epoch=31\n",
      "epoch=32\n",
      " conn_penalty:0.0000004\n",
      " val_penalty:1.1471824\n",
      " euler_penalty:26.1038140\n",
      "Penalty params: tau=0.99690 conn_l=0.02500 val_l=0.07000 euler_l=0.30000 epoch=32\n",
      "epoch=33\n",
      " conn_penalty:0.0000004\n",
      " val_penalty:1.2121373\n",
      " euler_penalty:26.0929362\n",
      "Penalty params: tau=0.99680 conn_l=0.02500 val_l=0.07000 euler_l=0.30000 epoch=33\n",
      "epoch=34\n",
      " conn_penalty:0.0000004\n",
      " val_penalty:1.5400913\n",
      " euler_penalty:25.5840997\n",
      "Penalty params: tau=0.99671 conn_l=0.02500 val_l=0.07000 euler_l=0.30000 epoch=34\n",
      "epoch=35\n",
      " conn_penalty:0.0000004\n",
      " val_penalty:1.2615469\n",
      " euler_penalty:26.1605292\n",
      "Penalty params: tau=0.99661 conn_l=0.02500 val_l=0.07000 euler_l=0.30000 epoch=35\n",
      "epoch=36\n",
      " conn_penalty:0.0000004\n",
      " val_penalty:1.1816001\n",
      " euler_penalty:26.0837911\n",
      "Penalty params: tau=0.99651 conn_l=0.02500 val_l=0.07000 euler_l=0.30000 epoch=36\n",
      "epoch=37\n",
      " conn_penalty:0.0000004\n",
      " val_penalty:1.3540972\n",
      " euler_penalty:25.9758759\n",
      "Penalty params: tau=0.99641 conn_l=0.02500 val_l=0.07000 euler_l=0.30000 epoch=37\n",
      "epoch=38\n",
      " conn_penalty:0.0000004\n",
      " val_penalty:1.0437404\n",
      " euler_penalty:26.0817362\n",
      "Penalty params: tau=0.99631 conn_l=0.02500 val_l=0.07000 euler_l=0.30000 epoch=38\n",
      "epoch=39\n",
      " conn_penalty:0.0000004\n",
      " val_penalty:1.1669916\n",
      " euler_penalty:25.9464654\n",
      "Penalty params: tau=0.99621 conn_l=0.02500 val_l=0.07000 euler_l=0.30000 epoch=39\n",
      "epoch=40\n",
      " conn_penalty:0.0000004\n",
      " val_penalty:1.5207836\n",
      " euler_penalty:25.6059435\n",
      "Penalty params: tau=0.99611 conn_l=0.02500 val_l=0.07000 euler_l=0.30000 epoch=40\n",
      "epoch=41\n",
      " conn_penalty:0.0000004\n",
      " val_penalty:1.5601764\n",
      " euler_penalty:25.7162035\n",
      "Penalty params: tau=0.99601 conn_l=0.02500 val_l=0.07000 euler_l=0.30000 epoch=41\n",
      "epoch=42\n",
      " conn_penalty:0.0000004\n",
      " val_penalty:1.4765846\n",
      " euler_penalty:25.8536157\n",
      "Penalty params: tau=0.99591 conn_l=0.02500 val_l=0.07000 euler_l=0.30000 epoch=42\n",
      "epoch=43\n",
      " conn_penalty:0.0000004\n",
      " val_penalty:1.7220984\n",
      " euler_penalty:25.8624234\n",
      "Penalty params: tau=0.99581 conn_l=0.02500 val_l=0.07000 euler_l=0.30000 epoch=43\n",
      "epoch=44\n",
      " conn_penalty:0.0000004\n",
      " val_penalty:2.1525146\n",
      " euler_penalty:25.2470924\n",
      "Penalty params: tau=0.99571 conn_l=0.02500 val_l=0.07000 euler_l=0.30000 epoch=44\n",
      "epoch=45\n",
      " conn_penalty:0.0000004\n",
      " val_penalty:1.4788173\n",
      " euler_penalty:26.0160556\n",
      "Penalty params: tau=0.99561 conn_l=0.02500 val_l=0.07000 euler_l=0.30000 epoch=45\n",
      "epoch=46\n",
      " conn_penalty:0.0000004\n",
      " val_penalty:1.1196070\n",
      " euler_penalty:25.9901140\n",
      "Penalty params: tau=0.99551 conn_l=0.02500 val_l=0.07000 euler_l=0.30000 epoch=46\n",
      "epoch=47\n",
      " conn_penalty:0.0000004\n",
      " val_penalty:1.4602540\n",
      " euler_penalty:25.7476705\n",
      "Penalty params: tau=0.99541 conn_l=0.02500 val_l=0.07000 euler_l=0.30000 epoch=47\n",
      "epoch=48\n",
      " conn_penalty:0.0000004\n",
      " val_penalty:1.5655121\n",
      " euler_penalty:25.7007175\n",
      "Penalty params: tau=0.99531 conn_l=0.02500 val_l=0.07000 euler_l=0.30000 epoch=48\n",
      "epoch=49\n",
      " conn_penalty:0.0000004\n",
      " val_penalty:1.0852628\n",
      " euler_penalty:26.2146233\n",
      "Penalty params: tau=0.99521 conn_l=0.02500 val_l=0.07000 euler_l=0.30000 epoch=49\n"
     ]
    }
   ],
   "source": [
    "for idx in range(50):\n",
    "    stats_tracker = StatsTracker()\n",
    "    con_loss, val_loss, eul_loss = pen(*pred_pack, idx)\n",
    "    stats_tracker.add_stat('conn_penalty', con_loss.item(), n_data)\n",
    "    stats_tracker.add_stat('val_penalty', val_loss.item(), n_data)\n",
    "    stats_tracker.add_stat('euler_penalty', eul_loss.item(), n_data)\n",
    "    \n",
    "    stats_tracker.print_stats(\"epoch={}\".format(idx))\n",
    "    pen.log()"
   ]
  },
  {
   "cell_type": "code",
   "execution_count": 55,
   "metadata": {},
   "outputs": [
    {
     "name": "stdout",
     "output_type": "stream",
     "text": [
      "Penalty params: tau=1.00000 conn_l=0.02500 val_l=0.07000 euler_l=0.30000 epoch=1\n"
     ]
    }
   ],
   "source": [
    "PenaltyNew(args, prev_epoch = 0).log()"
   ]
  },
  {
   "cell_type": "code",
   "execution_count": 86,
   "metadata": {
    "scrolled": true
   },
   "outputs": [],
   "source": [
    "adjM = pen(*pred_pack, idx)"
   ]
  },
  {
   "cell_type": "code",
   "execution_count": 112,
   "metadata": {},
   "outputs": [
    {
     "data": {
      "text/plain": [
       "tensor([[1.1921e-06, 1.3630e-02, 1.0782e-04, 4.4374e-03, 1.8051e-01, 8.4739e-02,\n",
       "         0.0000e+00, 8.5733e-02, 9.3007e-04, 1.4305e-06, 0.0000e+00, 2.6822e-06,\n",
       "         0.0000e+00, 5.4988e-01, 1.2422e-02, 6.8890e-01, 3.5245e-01, 7.2306e-04,\n",
       "         2.2233e-05, 5.0822e-01, 2.1683e-01, 1.0255e-02],\n",
       "        [1.3630e-02, 3.9140e-03, 5.3970e-01, 2.2346e-03, 3.8520e-02, 8.8930e-04,\n",
       "         2.3283e-01, 4.9831e-01, 2.1935e-05, 3.9616e-01, 5.9605e-08, 7.7458e-01,\n",
       "         2.7418e-06, 7.3087e-02, 5.0057e-01, 2.1463e-01, 2.4846e-02, 6.6979e-02,\n",
       "         1.3762e-01, 1.4181e-01, 3.7023e-02, 7.1169e-02],\n",
       "        [1.0782e-04, 5.3970e-01, 7.7593e-02, 3.8449e-01, 9.0742e-02, 1.0008e-01,\n",
       "         1.4413e-01, 2.2877e-01, 5.5884e-03, 2.4866e-02, 0.0000e+00, 3.4104e-02,\n",
       "         0.0000e+00, 1.4942e-02, 6.2261e-02, 2.6948e-02, 6.4849e-02, 6.2976e-02,\n",
       "         4.5100e-01, 3.7974e-01, 8.5898e-01, 2.9276e-01],\n",
       "        [4.4374e-03, 2.2346e-03, 3.8449e-01, 1.2787e-03, 3.2146e-01, 3.9279e-05,\n",
       "         1.8100e-01, 3.6682e-01, 3.2187e-06, 2.2549e-01, 8.3447e-07, 2.4369e-01,\n",
       "         9.6946e-01, 8.7332e-02, 1.8843e-01, 2.9255e-02, 2.2362e-03, 2.2261e-03,\n",
       "         1.8684e-01, 3.9589e-03, 3.2784e-03, 1.7802e-01],\n",
       "        [1.8051e-01, 3.8520e-02, 9.0742e-02, 3.2146e-01, 5.5588e-02, 3.2130e-02,\n",
       "         1.3192e-02, 1.4488e-03, 1.9649e-03, 4.3935e-01, 0.0000e+00, 3.9828e-03,\n",
       "         2.9802e-07, 6.2353e-02, 1.8912e-01, 5.5398e-02, 8.5474e-01, 2.2727e-01,\n",
       "         2.5835e-01, 8.8083e-02, 4.0521e-01, 6.1901e-02],\n",
       "        [8.4739e-02, 8.8930e-04, 1.0008e-01, 3.9279e-05, 3.2130e-02, 9.9156e-03,\n",
       "         3.6837e-02, 2.0359e-01, 1.0431e-05, 2.3731e-01, 1.7583e-04, 2.7830e-03,\n",
       "         8.0976e-03, 7.8816e-03, 5.8036e-03, 2.6581e-01, 1.2457e-04, 3.4642e-04,\n",
       "         1.0487e-02, 1.5619e-03, 5.6088e-05, 5.9958e-01],\n",
       "        [0.0000e+00, 2.3283e-01, 1.4413e-01, 1.8100e-01, 1.3192e-02, 3.6837e-02,\n",
       "         1.3375e-04, 3.1279e-01, 6.0856e-02, 5.7349e-03, 0.0000e+00, 6.6757e-02,\n",
       "         0.0000e+00, 4.3370e-03, 1.7172e-02, 1.9915e-01, 1.8426e-01, 4.2121e-01,\n",
       "         3.8646e-02, 7.3638e-02, 3.0168e-01, 1.2006e-01],\n",
       "        [8.5733e-02, 4.9831e-01, 2.2877e-01, 3.6682e-01, 1.4488e-03, 2.0359e-01,\n",
       "         3.1279e-01, 5.6511e-04, 9.0654e-01, 5.6626e-02, 6.9261e-05, 1.7106e-02,\n",
       "         1.4777e-02, 2.1281e-02, 1.6898e-02, 7.8782e-03, 2.7549e-02, 8.4391e-02,\n",
       "         6.9671e-02, 3.5113e-02, 4.2951e-01, 7.7373e-03],\n",
       "        [9.3007e-04, 2.1935e-05, 5.5884e-03, 3.2187e-06, 1.9649e-03, 1.0431e-05,\n",
       "         6.0856e-02, 9.0654e-01, 2.3842e-07, 6.8427e-01, 9.9960e-01, 1.2676e-03,\n",
       "         3.2949e-02, 4.0287e-04, 5.4955e-04, 6.9860e-03, 2.7162e-04, 7.4923e-05,\n",
       "         6.0588e-04, 3.3671e-04, 1.6451e-04, 5.0461e-01],\n",
       "        [1.4305e-06, 3.9616e-01, 2.4866e-02, 2.2549e-01, 4.3935e-01, 2.3731e-01,\n",
       "         5.7349e-03, 5.6626e-02, 6.8427e-01, 9.6560e-06, 0.0000e+00, 1.3105e-02,\n",
       "         0.0000e+00, 1.3250e-01, 2.4045e-02, 1.6333e-03, 6.4737e-02, 3.7083e-01,\n",
       "         8.0702e-02, 2.0016e-02, 1.4314e-01, 4.5421e-03],\n",
       "        [0.0000e+00, 5.9605e-08, 0.0000e+00, 8.3447e-07, 0.0000e+00, 1.7583e-04,\n",
       "         0.0000e+00, 6.9261e-05, 9.9960e-01, 0.0000e+00, 0.0000e+00, 0.0000e+00,\n",
       "         0.0000e+00, 4.2176e-04, 0.0000e+00, 3.9041e-05, 4.7088e-06, 0.0000e+00,\n",
       "         0.0000e+00, 0.0000e+00, 4.7684e-07, 6.5565e-07],\n",
       "        [2.6822e-06, 7.7458e-01, 3.4104e-02, 2.4369e-01, 3.9828e-03, 2.7830e-03,\n",
       "         6.6757e-02, 1.7106e-02, 1.2676e-03, 1.3105e-02, 0.0000e+00, 1.9832e-02,\n",
       "         0.0000e+00, 6.0704e-02, 8.5624e-02, 4.9844e-02, 5.6489e-02, 6.0115e-01,\n",
       "         4.2488e-02, 5.0175e-02, 2.1316e-01, 6.5680e-02],\n",
       "        [0.0000e+00, 2.7418e-06, 0.0000e+00, 9.6946e-01, 2.9802e-07, 8.0976e-03,\n",
       "         0.0000e+00, 1.4777e-02, 3.2949e-02, 0.0000e+00, 0.0000e+00, 0.0000e+00,\n",
       "         0.0000e+00, 1.2290e-03, 0.0000e+00, 2.2011e-03, 1.2308e-03, 0.0000e+00,\n",
       "         0.0000e+00, 0.0000e+00, 5.7161e-05, 1.1125e-03],\n",
       "        [5.4988e-01, 7.3087e-02, 1.4942e-02, 8.7332e-02, 6.2353e-02, 7.8816e-03,\n",
       "         4.3370e-03, 2.1281e-02, 4.0287e-04, 1.3250e-01, 4.2176e-04, 6.0704e-02,\n",
       "         1.2290e-03, 2.1496e-03, 2.9329e-01, 9.7556e-01, 1.4604e-02, 1.8318e-02,\n",
       "         1.3252e-01, 1.0917e-02, 9.2651e-02, 1.3552e-01],\n",
       "        [1.2422e-02, 5.0057e-01, 6.2261e-02, 1.8843e-01, 1.8912e-01, 5.8036e-03,\n",
       "         1.7172e-02, 1.6898e-02, 5.4955e-04, 2.4045e-02, 0.0000e+00, 8.5624e-02,\n",
       "         0.0000e+00, 2.9329e-01, 1.5160e-02, 7.4729e-02, 1.7821e-01, 1.3680e-01,\n",
       "         3.0847e-01, 9.8482e-01, 1.1378e-01, 6.6438e-02],\n",
       "        [6.8890e-01, 2.1463e-01, 2.6948e-02, 2.9255e-02, 5.5398e-02, 2.6581e-01,\n",
       "         1.9915e-01, 7.8782e-03, 6.9860e-03, 1.6333e-03, 3.9041e-05, 4.9844e-02,\n",
       "         2.2011e-03, 9.7556e-01, 7.4729e-02, 3.3688e-02, 3.1209e-01, 2.3706e-02,\n",
       "         2.1200e-01, 3.9457e-02, 3.2046e-01, 1.5715e-02],\n",
       "        [3.5245e-01, 2.4846e-02, 6.4849e-02, 2.2362e-03, 8.5474e-01, 1.2457e-04,\n",
       "         1.8426e-01, 2.7549e-02, 2.7162e-04, 6.4737e-02, 4.7088e-06, 5.6489e-02,\n",
       "         1.2308e-03, 1.4604e-02, 1.7821e-01, 3.1209e-01, 1.5013e-01, 7.1589e-02,\n",
       "         8.9713e-02, 1.1436e-01, 1.4987e-01, 1.3149e-01],\n",
       "        [7.2306e-04, 6.6979e-02, 6.2976e-02, 2.2261e-03, 2.2727e-01, 3.4642e-04,\n",
       "         4.2121e-01, 8.4391e-02, 7.4923e-05, 3.7083e-01, 0.0000e+00, 6.0115e-01,\n",
       "         0.0000e+00, 1.8318e-02, 1.3680e-01, 2.3706e-02, 7.1589e-02, 1.7366e-01,\n",
       "         9.4358e-01, 1.3968e-01, 2.1780e-01, 2.5299e-03],\n",
       "        [2.2233e-05, 1.3762e-01, 4.5100e-01, 1.8684e-01, 2.5835e-01, 1.0487e-02,\n",
       "         3.8646e-02, 6.9671e-02, 6.0588e-04, 8.0702e-02, 0.0000e+00, 4.2488e-02,\n",
       "         0.0000e+00, 1.3252e-01, 3.0847e-01, 2.1200e-01, 8.9713e-02, 9.4358e-01,\n",
       "         4.9782e-02, 4.2420e-01, 2.0927e-02, 1.1739e-01],\n",
       "        [5.0822e-01, 1.4181e-01, 3.7974e-01, 3.9589e-03, 8.8083e-02, 1.5619e-03,\n",
       "         7.3638e-02, 3.5113e-02, 3.3671e-04, 2.0016e-02, 0.0000e+00, 5.0175e-02,\n",
       "         0.0000e+00, 1.0917e-02, 9.8482e-01, 3.9457e-02, 1.1436e-01, 1.3968e-01,\n",
       "         4.2420e-01, 3.6214e-02, 4.9527e-02, 1.4082e-02],\n",
       "        [2.1683e-01, 3.7023e-02, 8.5898e-01, 3.2784e-03, 4.0521e-01, 5.6088e-05,\n",
       "         3.0168e-01, 4.2951e-01, 1.6451e-04, 1.4314e-01, 4.7684e-07, 2.1316e-01,\n",
       "         5.7161e-05, 9.2651e-02, 1.1378e-01, 3.2046e-01, 1.4987e-01, 2.1780e-01,\n",
       "         2.0927e-02, 4.9527e-02, 1.4681e-02, 6.8404e-02],\n",
       "        [1.0255e-02, 7.1169e-02, 2.9276e-01, 1.7802e-01, 6.1901e-02, 5.9958e-01,\n",
       "         1.2006e-01, 7.7373e-03, 5.0461e-01, 4.5421e-03, 6.5565e-07, 6.5680e-02,\n",
       "         1.1125e-03, 1.3552e-01, 6.6438e-02, 1.5715e-02, 1.3149e-01, 2.5299e-03,\n",
       "         1.1739e-01, 1.4082e-02, 6.8404e-02, 4.0376e-03]], device='cuda:0',\n",
       "       grad_fn=<ViewBackward>)"
      ]
     },
     "execution_count": 112,
     "metadata": {},
     "output_type": "execute_result"
    }
   ],
   "source": [
    "# construct adjacency matrix from this thing\n",
    "adjM"
   ]
  },
  {
   "cell_type": "code",
   "execution_count": 41,
   "metadata": {},
   "outputs": [
    {
     "data": {
      "text/plain": [
       "75"
      ]
     },
     "execution_count": 41,
     "metadata": {},
     "output_type": "execute_result"
    }
   ],
   "source": [
    "import numpy as np\n",
    "np.random.randint(100)"
   ]
  },
  {
   "cell_type": "code",
   "execution_count": 64,
   "metadata": {},
   "outputs": [],
   "source": [
    "bonds = Y.get_graph_outputs()[0][\"BOND_TYPES\"]"
   ]
  },
  {
   "cell_type": "code",
   "execution_count": 15,
   "metadata": {},
   "outputs": [],
   "source": [
    "adjM = 1 - bonds[:,:,-1]"
   ]
  },
  {
   "cell_type": "code",
   "execution_count": 90,
   "metadata": {},
   "outputs": [
    {
     "data": {
      "text/plain": [
       "tensor(0., device='cuda:0', grad_fn=<AddBackward0>)"
      ]
     },
     "execution_count": 90,
     "metadata": {},
     "output_type": "execute_result"
    }
   ],
   "source": [
    "pen.conn_penalty(adjM)"
   ]
  },
  {
   "cell_type": "code",
   "execution_count": 92,
   "metadata": {},
   "outputs": [
    {
     "data": {
      "text/plain": [
       "tensor(2.6787, device='cuda:0', grad_fn=<SumBackward0>)"
      ]
     },
     "execution_count": 92,
     "metadata": {},
     "output_type": "execute_result"
    }
   ],
   "source": [
    "N = adjM.shape[0]\n",
    "device = adjM.device\n",
    "\n",
    "# get Laplacian\n",
    "L = torch.diag(torch.matmul(adjM, torch.ones(N, device=device))) - adjM\n",
    "L_mod = L + torch.ones_like(L, device=device) / N\n",
    "\n",
    "# calculate log dets\n",
    "# comment this line to use the rescaling procedure\n",
    "# return (-torch.logdet(L_mod + self.conn_eps * torch.eye(N, device=device)))\n",
    "\n",
    "# calculate rescaled eigenvalues\n",
    "eigvals = torch.symeig(L_mod, eigenvectors = True)[0]\n",
    "torch.sum(torch.exp(-eigvals))\n",
    "        "
   ]
  },
  {
   "cell_type": "code",
   "execution_count": 108,
   "metadata": {},
   "outputs": [
    {
     "data": {
      "text/plain": [
       "tensor(0., device='cuda:0', grad_fn=<AddBackward0>)"
      ]
     },
     "execution_count": 108,
     "metadata": {},
     "output_type": "execute_result"
    }
   ],
   "source": [
    "cap_value = 1e-02\n",
    "conn_eps = 1e-09\n",
    "\n",
    "eigenvals = torch.symeig(L_mod + conn_eps * torch.eye(N, device=device))[0]\n",
    "-torch.sum(torch.log(eigenvals.clamp(max = cap_value))) + len(eigvals) * np.log(cap_value)"
   ]
  },
  {
   "cell_type": "code",
   "execution_count": 94,
   "metadata": {},
   "outputs": [
    {
     "data": {
      "text/plain": [
       "tensor([1.0000e-09, 7.2240e-01, 1.0000e+00, 1.3127e+00, 1.5558e+00, 2.1292e+00,\n",
       "        2.2047e+00, 2.3685e+00, 2.4458e+00, 2.6390e+00, 2.7848e+00, 3.0165e+00,\n",
       "        3.1404e+00, 3.4076e+00, 3.6440e+00, 3.8691e+00, 4.0975e+00, 4.2596e+00,\n",
       "        4.3029e+00, 4.5827e+00, 4.8254e+00, 5.2925e+00], device='cuda:0',\n",
       "       grad_fn=<CopySlices>)"
      ]
     },
     "execution_count": 94,
     "metadata": {},
     "output_type": "execute_result"
    }
   ],
   "source": [
    "eigenvals"
   ]
  },
  {
   "cell_type": "code",
   "execution_count": 95,
   "metadata": {},
   "outputs": [
    {
     "data": {
      "text/plain": [
       "tensor(0., device='cuda:0', grad_fn=<AddBackward0>)"
      ]
     },
     "execution_count": 95,
     "metadata": {},
     "output_type": "execute_result"
    }
   ],
   "source": [
    "eps = 1e-9\n",
    "beta = 1e-3\n",
    "- torch.sum(torch.log(eigvals.clamp(min = eps, max = beta))) + len(eigvals) * np.log(beta)"
   ]
  },
  {
   "cell_type": "code",
   "execution_count": 102,
   "metadata": {},
   "outputs": [
    {
     "data": {
      "text/plain": [
       "tensor([0.5753, 0.7224, 1.0000, 1.3127, 1.5558, 2.1292, 2.2047, 2.3685, 2.4458,\n",
       "        2.6390, 2.7848, 3.0165, 3.1404, 3.4076, 3.6440, 3.8691, 4.0975, 4.2596,\n",
       "        4.3029, 4.5827, 4.8254, 5.2925], device='cuda:0',\n",
       "       grad_fn=<SymeigBackward>)"
      ]
     },
     "execution_count": 102,
     "metadata": {},
     "output_type": "execute_result"
    }
   ],
   "source": [
    "eigvals"
   ]
  },
  {
   "cell_type": "code",
   "execution_count": 103,
   "metadata": {},
   "outputs": [
    {
     "data": {
      "text/plain": [
       "tensor([0.5753, 0.7224, 1.0000, 1.3127, 1.5558, 2.1292, 2.2047, 2.3685, 2.4458,\n",
       "        2.6390, 2.7848, 3.0165, 3.1404, 3.4076, 3.6440, 3.8691, 4.0975, 4.2596,\n",
       "        4.3029, 4.5827, 4.8254, 5.2925], device='cuda:0',\n",
       "       grad_fn=<SymeigBackward>)"
      ]
     },
     "execution_count": 103,
     "metadata": {},
     "output_type": "execute_result"
    }
   ],
   "source": [
    "eigenvals"
   ]
  },
  {
   "cell_type": "code",
   "execution_count": 5,
   "metadata": {},
   "outputs": [
    {
     "ename": "NameError",
     "evalue": "name 'L_mod' is not defined",
     "output_type": "error",
     "traceback": [
      "\u001b[0;31m---------------------------------------------------------------------------\u001b[0m",
      "\u001b[0;31mNameError\u001b[0m                                 Traceback (most recent call last)",
      "\u001b[0;32m<ipython-input-5-ef91c7da6a99>\u001b[0m in \u001b[0;36m<module>\u001b[0;34m\u001b[0m\n\u001b[0;32m----> 1\u001b[0;31m \u001b[0mtorch\u001b[0m\u001b[0;34m.\u001b[0m\u001b[0msymeig\u001b[0m\u001b[0;34m(\u001b[0m\u001b[0mL_mod\u001b[0m\u001b[0;34m,\u001b[0m \u001b[0meigenvectors\u001b[0m \u001b[0;34m=\u001b[0m \u001b[0;32mTrue\u001b[0m\u001b[0;34m)\u001b[0m\u001b[0;34m\u001b[0m\u001b[0;34m\u001b[0m\u001b[0m\n\u001b[0m",
      "\u001b[0;31mNameError\u001b[0m: name 'L_mod' is not defined"
     ]
    }
   ],
   "source": [
    "torch.symeig(L_mod, eigenvectors = True)"
   ]
  },
  {
   "cell_type": "code",
   "execution_count": 91,
   "metadata": {
    "scrolled": true
   },
   "outputs": [
    {
     "name": "stdout",
     "output_type": "stream",
     "text": [
      "Penalty params: tau=1.00000 conn_l=0.10000 val_l=1.00000 euler_l=1.00000 epoch=0 mode=[0 0 0] conn=False euler=False val=False\n",
      "Penalty params: tau=0.88862 conn_l=0.10000 val_l=1.00000 euler_l=1.00000 epoch=1 mode=[0 0 0] conn=False euler=False val=False\n",
      "Penalty params: tau=0.78965 conn_l=0.10000 val_l=1.00000 euler_l=1.00000 epoch=2 mode=[0 0 0] conn=False euler=False val=False\n",
      "Penalty params: tau=0.70170 conn_l=0.10000 val_l=1.00000 euler_l=1.00000 epoch=3 mode=[0 0 0] conn=False euler=False val=False\n",
      "Penalty params: tau=0.62355 conn_l=0.10000 val_l=1.00000 euler_l=1.00000 epoch=4 mode=[0 0 0] conn=False euler=False val=False\n",
      "Penalty params: tau=0.55410 conn_l=0.10000 val_l=1.00000 euler_l=1.00000 epoch=5 mode=[0 0 0] conn=False euler=False val=False\n",
      "Penalty params: tau=0.49239 conn_l=0.10000 val_l=1.00000 euler_l=1.00000 epoch=6 mode=[0 0 0] conn=False euler=False val=False\n",
      "Penalty params: tau=0.43755 conn_l=0.10000 val_l=1.00000 euler_l=1.00000 epoch=7 mode=[0 0 0] conn=False euler=False val=False\n",
      "Penalty params: tau=0.38882 conn_l=0.10000 val_l=1.00000 euler_l=1.00000 epoch=8 mode=[0 0 0] conn=False euler=False val=False\n",
      "Penalty params: tau=0.34551 conn_l=0.10000 val_l=1.00000 euler_l=1.00000 epoch=9 mode=[0 0 0] conn=False euler=False val=False\n",
      "Penalty params: tau=0.30703 conn_l=0.10000 val_l=1.00000 euler_l=1.00000 epoch=10 mode=[0 0 0] conn=False euler=False val=False\n",
      "Penalty params: tau=0.27283 conn_l=0.10000 val_l=1.00000 euler_l=1.00000 epoch=11 mode=[0 0 0] conn=False euler=False val=False\n",
      "Penalty params: tau=0.24245 conn_l=0.10000 val_l=1.00000 euler_l=1.00000 epoch=12 mode=[0 0 0] conn=False euler=False val=False\n",
      "Penalty params: tau=0.21544 conn_l=0.10000 val_l=1.00000 euler_l=1.00000 epoch=13 mode=[0 0 0] conn=False euler=False val=False\n",
      "Penalty params: tau=0.19145 conn_l=0.10000 val_l=1.00000 euler_l=1.00000 epoch=14 mode=[0 0 0] conn=False euler=False val=False\n",
      "Penalty params: tau=0.17013 conn_l=0.10000 val_l=1.00000 euler_l=1.00000 epoch=15 mode=[0 0 0] conn=False euler=False val=False\n",
      "Penalty params: tau=0.15118 conn_l=0.10000 val_l=1.00000 euler_l=1.00000 epoch=16 mode=[0 0 0] conn=False euler=False val=False\n",
      "Penalty params: tau=0.13434 conn_l=0.10000 val_l=1.00000 euler_l=1.00000 epoch=17 mode=[0 0 0] conn=False euler=False val=False\n",
      "Penalty params: tau=0.11938 conn_l=0.10000 val_l=1.00000 euler_l=1.00000 epoch=18 mode=[0 0 0] conn=False euler=False val=False\n",
      "Penalty params: tau=0.10608 conn_l=0.10000 val_l=1.00000 euler_l=1.00000 epoch=19 mode=[0 0 0] conn=False euler=False val=False\n",
      "Penalty params: tau=0.09427 conn_l=0.12021 val_l=1.00000 euler_l=1.00000 epoch=20 mode=[1 0 0] conn=True euler=False val=False\n",
      "Penalty params: tau=0.08377 conn_l=0.14450 val_l=1.00000 euler_l=1.00000 epoch=21 mode=[1 0 0] conn=True euler=False val=False\n",
      "Penalty params: tau=0.07444 conn_l=0.17370 val_l=1.00000 euler_l=1.00000 epoch=22 mode=[1 0 0] conn=True euler=False val=False\n",
      "Penalty params: tau=0.06615 conn_l=0.20880 val_l=1.00000 euler_l=1.00000 epoch=23 mode=[1 0 0] conn=True euler=False val=False\n",
      "Penalty params: tau=0.05878 conn_l=0.25099 val_l=1.00000 euler_l=1.00000 epoch=24 mode=[1 0 0] conn=True euler=False val=False\n",
      "Penalty params: tau=0.05223 conn_l=0.30171 val_l=1.00000 euler_l=1.00000 epoch=25 mode=[1 0 0] conn=True euler=False val=False\n",
      "Penalty params: tau=0.04642 conn_l=0.36268 val_l=1.00000 euler_l=1.00000 epoch=26 mode=[1 0 0] conn=True euler=False val=False\n",
      "Penalty params: tau=0.04125 conn_l=0.43596 val_l=1.00000 euler_l=1.00000 epoch=27 mode=[1 0 0] conn=True euler=False val=False\n",
      "Penalty params: tau=0.03665 conn_l=0.52406 val_l=1.00000 euler_l=1.00000 epoch=28 mode=[1 0 0] conn=True euler=False val=False\n",
      "Penalty params: tau=0.03257 conn_l=0.62996 val_l=1.00000 euler_l=1.00000 epoch=29 mode=[1 0 0] conn=True euler=False val=False\n",
      "Penalty params: tau=0.02894 conn_l=0.75726 val_l=1.00000 euler_l=1.00000 epoch=30 mode=[1 0 0] conn=True euler=False val=False\n",
      "Penalty params: tau=0.02572 conn_l=0.91028 val_l=1.00000 euler_l=1.00000 epoch=31 mode=[1 0 0] conn=True euler=False val=False\n",
      "Penalty params: tau=0.02285 conn_l=1.09423 val_l=1.00000 euler_l=1.00000 epoch=32 mode=[1 0 0] conn=True euler=False val=False\n",
      "Penalty params: tau=0.02031 conn_l=1.31534 val_l=1.00000 euler_l=1.00000 epoch=33 mode=[1 0 0] conn=True euler=False val=False\n",
      "Penalty params: tau=0.01805 conn_l=1.58114 val_l=1.00000 euler_l=1.00000 epoch=34 mode=[1 0 0] conn=True euler=False val=False\n",
      "Penalty params: tau=0.01604 conn_l=1.90065 val_l=1.00000 euler_l=1.00000 epoch=35 mode=[1 0 0] conn=True euler=False val=False\n",
      "Penalty params: tau=0.01425 conn_l=2.28472 val_l=1.00000 euler_l=1.00000 epoch=36 mode=[1 0 0] conn=True euler=False val=False\n",
      "Penalty params: tau=0.01266 conn_l=2.74640 val_l=1.00000 euler_l=1.00000 epoch=37 mode=[1 0 0] conn=True euler=False val=False\n",
      "Penalty params: tau=0.01125 conn_l=3.30138 val_l=1.00000 euler_l=1.00000 epoch=38 mode=[1 0 0] conn=True euler=False val=False\n",
      "Penalty params: tau=0.01000 conn_l=3.96850 val_l=1.00000 euler_l=1.00000 epoch=39 mode=[1 0 0] conn=True euler=False val=False\n",
      "Penalty params: tau=0.01000 conn_l=4.77044 val_l=1.00000 euler_l=1.00000 epoch=40 mode=[1 0 0] conn=True euler=False val=False\n",
      "Penalty params: tau=0.01000 conn_l=5.73442 val_l=1.00000 euler_l=1.00000 epoch=41 mode=[1 0 0] conn=True euler=False val=False\n",
      "Penalty params: tau=0.01000 conn_l=6.89320 val_l=1.00000 euler_l=1.00000 epoch=42 mode=[1 0 0] conn=True euler=False val=False\n",
      "Penalty params: tau=0.01000 conn_l=8.28614 val_l=1.00000 euler_l=1.00000 epoch=43 mode=[1 0 0] conn=True euler=False val=False\n",
      "Penalty params: tau=0.01000 conn_l=9.96055 val_l=1.00000 euler_l=1.00000 epoch=44 mode=[1 0 0] conn=True euler=False val=False\n",
      "Penalty params: tau=0.01000 conn_l=11.97332 val_l=1.00000 euler_l=1.00000 epoch=45 mode=[1 0 0] conn=True euler=False val=False\n",
      "Penalty params: tau=0.01000 conn_l=14.39282 val_l=1.00000 euler_l=1.00000 epoch=46 mode=[1 0 0] conn=True euler=False val=False\n",
      "Penalty params: tau=0.01000 conn_l=17.30124 val_l=1.00000 euler_l=1.00000 epoch=47 mode=[1 0 0] conn=True euler=False val=False\n",
      "Penalty params: tau=0.01000 conn_l=20.79738 val_l=1.00000 euler_l=1.00000 epoch=48 mode=[1 0 0] conn=True euler=False val=False\n",
      "Penalty params: tau=0.01000 conn_l=25.00000 val_l=1.00000 euler_l=1.00000 epoch=49 mode=[1 0 0] conn=True euler=False val=False\n",
      "Penalty params: tau=0.01000 conn_l=25.00000 val_l=1.58489 euler_l=1.00000 epoch=50 mode=[0 1 0] conn=True euler=True val=False\n",
      "Penalty params: tau=0.01000 conn_l=25.00000 val_l=2.51189 euler_l=1.00000 epoch=51 mode=[0 1 0] conn=True euler=True val=False\n",
      "Penalty params: tau=0.01000 conn_l=25.00000 val_l=3.98107 euler_l=1.00000 epoch=52 mode=[0 1 0] conn=True euler=True val=False\n",
      "Penalty params: tau=0.01000 conn_l=25.00000 val_l=6.30957 euler_l=1.00000 epoch=53 mode=[0 1 0] conn=True euler=True val=False\n",
      "Penalty params: tau=0.01000 conn_l=25.00000 val_l=10.00000 euler_l=1.00000 epoch=54 mode=[0 1 0] conn=True euler=True val=False\n",
      "Penalty params: tau=0.01000 conn_l=25.00000 val_l=15.84893 euler_l=1.00000 epoch=55 mode=[0 1 0] conn=True euler=True val=False\n",
      "Penalty params: tau=0.01000 conn_l=25.00000 val_l=25.11886 euler_l=1.00000 epoch=56 mode=[0 1 0] conn=True euler=True val=False\n",
      "Penalty params: tau=0.01000 conn_l=25.00000 val_l=39.81072 euler_l=1.00000 epoch=57 mode=[0 1 0] conn=True euler=True val=False\n",
      "Penalty params: tau=0.01000 conn_l=25.00000 val_l=63.09573 euler_l=1.00000 epoch=58 mode=[0 1 0] conn=True euler=True val=False\n",
      "Penalty params: tau=0.01000 conn_l=25.00000 val_l=100.00000 euler_l=1.00000 epoch=59 mode=[0 1 0] conn=True euler=True val=False\n",
      "Penalty params: tau=0.01000 conn_l=25.00000 val_l=100.00000 euler_l=1.00000 epoch=60 mode=[0 0 0] conn=True euler=True val=False\n",
      "Penalty params: tau=0.01000 conn_l=25.00000 val_l=100.00000 euler_l=1.00000 epoch=61 mode=[0 0 0] conn=True euler=True val=False\n",
      "Penalty params: tau=0.01000 conn_l=25.00000 val_l=100.00000 euler_l=1.00000 epoch=62 mode=[0 0 0] conn=True euler=True val=False\n",
      "Penalty params: tau=0.01000 conn_l=25.00000 val_l=100.00000 euler_l=1.00000 epoch=63 mode=[0 0 0] conn=True euler=True val=False\n",
      "Penalty params: tau=0.01000 conn_l=25.00000 val_l=100.00000 euler_l=1.00000 epoch=64 mode=[0 0 0] conn=True euler=True val=False\n",
      "Penalty params: tau=0.01000 conn_l=25.00000 val_l=100.00000 euler_l=1.00000 epoch=65 mode=[0 0 0] conn=True euler=True val=False\n",
      "Penalty params: tau=0.01000 conn_l=25.00000 val_l=100.00000 euler_l=1.00000 epoch=66 mode=[0 0 0] conn=True euler=True val=False\n",
      "Penalty params: tau=0.01000 conn_l=25.00000 val_l=100.00000 euler_l=1.00000 epoch=67 mode=[0 0 0] conn=True euler=True val=False\n",
      "Penalty params: tau=0.01000 conn_l=25.00000 val_l=100.00000 euler_l=1.00000 epoch=68 mode=[0 0 0] conn=True euler=True val=False\n",
      "Penalty params: tau=0.01000 conn_l=25.00000 val_l=100.00000 euler_l=1.00000 epoch=69 mode=[0 0 0] conn=True euler=True val=False\n",
      "Penalty params: tau=0.01000 conn_l=25.00000 val_l=100.00000 euler_l=1.00000 epoch=70 mode=[0 0 0] conn=True euler=True val=False\n",
      "Penalty params: tau=0.01000 conn_l=25.00000 val_l=100.00000 euler_l=1.00000 epoch=71 mode=[0 0 0] conn=True euler=True val=False\n",
      "Penalty params: tau=0.01000 conn_l=25.00000 val_l=100.00000 euler_l=1.00000 epoch=72 mode=[0 0 0] conn=True euler=True val=False\n",
      "Penalty params: tau=0.01000 conn_l=25.00000 val_l=100.00000 euler_l=1.00000 epoch=73 mode=[0 0 0] conn=True euler=True val=False\n",
      "Penalty params: tau=0.01000 conn_l=25.00000 val_l=100.00000 euler_l=1.00000 epoch=74 mode=[0 0 0] conn=True euler=True val=False\n",
      "Penalty params: tau=0.01000 conn_l=25.00000 val_l=100.00000 euler_l=1.00000 epoch=75 mode=[0 0 0] conn=True euler=True val=False\n",
      "Penalty params: tau=0.01000 conn_l=25.00000 val_l=100.00000 euler_l=1.00000 epoch=76 mode=[0 0 0] conn=True euler=True val=False\n",
      "Penalty params: tau=0.01000 conn_l=25.00000 val_l=100.00000 euler_l=1.00000 epoch=77 mode=[0 0 0] conn=True euler=True val=False\n",
      "Penalty params: tau=0.01000 conn_l=25.00000 val_l=100.00000 euler_l=1.00000 epoch=78 mode=[0 0 0] conn=True euler=True val=False\n",
      "Penalty params: tau=0.01000 conn_l=25.00000 val_l=100.00000 euler_l=1.00000 epoch=79 mode=[0 0 0] conn=True euler=True val=False\n",
      "Penalty params: tau=0.01000 conn_l=25.00000 val_l=100.00000 euler_l=1.00000 epoch=80 mode=[0 0 0] conn=True euler=True val=False\n",
      "Penalty params: tau=0.01000 conn_l=25.00000 val_l=100.00000 euler_l=1.00000 epoch=81 mode=[0 0 0] conn=True euler=True val=False\n",
      "Penalty params: tau=0.01000 conn_l=25.00000 val_l=100.00000 euler_l=1.00000 epoch=82 mode=[0 0 0] conn=True euler=True val=False\n",
      "Penalty params: tau=0.01000 conn_l=25.00000 val_l=100.00000 euler_l=1.00000 epoch=83 mode=[0 0 0] conn=True euler=True val=False\n",
      "Penalty params: tau=0.01000 conn_l=25.00000 val_l=100.00000 euler_l=1.00000 epoch=84 mode=[0 0 0] conn=True euler=True val=False\n",
      "Penalty params: tau=0.01000 conn_l=25.00000 val_l=100.00000 euler_l=1.00000 epoch=85 mode=[0 0 0] conn=True euler=True val=False\n",
      "Penalty params: tau=0.01000 conn_l=25.00000 val_l=100.00000 euler_l=1.00000 epoch=86 mode=[0 0 0] conn=True euler=True val=False\n",
      "Penalty params: tau=0.01000 conn_l=25.00000 val_l=100.00000 euler_l=1.00000 epoch=87 mode=[0 0 0] conn=True euler=True val=False\n",
      "Penalty params: tau=0.01000 conn_l=25.00000 val_l=100.00000 euler_l=1.00000 epoch=88 mode=[0 0 0] conn=True euler=True val=False\n",
      "Penalty params: tau=0.01000 conn_l=25.00000 val_l=100.00000 euler_l=1.00000 epoch=89 mode=[0 0 0] conn=True euler=True val=False\n",
      "Penalty params: tau=0.01000 conn_l=25.00000 val_l=100.00000 euler_l=1.00000 epoch=90 mode=[0 0 0] conn=True euler=True val=False\n",
      "Penalty params: tau=0.01000 conn_l=25.00000 val_l=100.00000 euler_l=1.00000 epoch=91 mode=[0 0 0] conn=True euler=True val=False\n",
      "Penalty params: tau=0.01000 conn_l=25.00000 val_l=100.00000 euler_l=1.00000 epoch=92 mode=[0 0 0] conn=True euler=True val=False\n",
      "Penalty params: tau=0.01000 conn_l=25.00000 val_l=100.00000 euler_l=1.00000 epoch=93 mode=[0 0 0] conn=True euler=True val=False\n",
      "Penalty params: tau=0.01000 conn_l=25.00000 val_l=100.00000 euler_l=1.00000 epoch=94 mode=[0 0 0] conn=True euler=True val=False\n",
      "Penalty params: tau=0.01000 conn_l=25.00000 val_l=100.00000 euler_l=1.00000 epoch=95 mode=[0 0 0] conn=True euler=True val=False\n",
      "Penalty params: tau=0.01000 conn_l=25.00000 val_l=100.00000 euler_l=1.00000 epoch=96 mode=[0 0 0] conn=True euler=True val=False\n",
      "Penalty params: tau=0.01000 conn_l=25.00000 val_l=100.00000 euler_l=1.00000 epoch=97 mode=[0 0 0] conn=True euler=True val=False\n",
      "Penalty params: tau=0.01000 conn_l=25.00000 val_l=100.00000 euler_l=1.00000 epoch=98 mode=[0 0 0] conn=True euler=True val=False\n",
      "Penalty params: tau=0.01000 conn_l=25.00000 val_l=100.00000 euler_l=1.00000 epoch=99 mode=[0 0 0] conn=True euler=True val=False\n"
     ]
    }
   ],
   "source": [
    "args = get_args()\n",
    "\n",
    "args.scale_lambdas = True\n",
    "args.conn_lambda_start = 0.1 \n",
    "args.conn_lambda_end = 25\n",
    "args.conn_lambda_epochs_start = 20\n",
    "args.conn_lambda_epochs_end = 50\n",
    "args.valency_lambda_start = 1\n",
    "args.valency_lambda_end = 100\n",
    "args.valency_lambda_epochs_start = 50\n",
    "args.valency_lambda_epochs_end = 60\n",
    "args.euler_characteristic_penalty = False\n",
    "args.tau_start = 1\n",
    "args.tau_end = 0.01\n",
    "args.tau_epochs_start = 1\n",
    "args.tau_epochs_end = 40\n",
    "\n",
    "pen = Penalty(args)\n",
    "\n",
    "pen.log()\n",
    "for i in range(1, 100):\n",
    "    pen.compute_lambdas(i)\n",
    "    pen.log()"
   ]
  },
  {
   "cell_type": "code",
   "execution_count": 87,
   "metadata": {
    "scrolled": true
   },
   "outputs": [
    {
     "name": "stdout",
     "output_type": "stream",
     "text": [
      "Penalty params: tau=1.00000 conn_l=1.00000 val_l=1.00000 euler_l=1.00000 epoch=0 mode=[0 0 0] conn=False euler=False val=False\n",
      "Penalty params: tau=0.99954 conn_l=1.00000 val_l=1.00000 euler_l=1.00000 epoch=1 mode=[0 0 0] conn=False euler=False val=False\n",
      "Penalty params: tau=0.99908 conn_l=1.00000 val_l=1.00000 euler_l=1.00000 epoch=2 mode=[0 0 0] conn=False euler=False val=False\n",
      "Penalty params: tau=0.99862 conn_l=1.00000 val_l=1.00000 euler_l=1.00000 epoch=3 mode=[0 0 0] conn=False euler=False val=False\n",
      "Penalty params: tau=0.99816 conn_l=1.00000 val_l=1.00000 euler_l=1.00000 epoch=4 mode=[0 0 0] conn=False euler=False val=False\n",
      "Penalty params: tau=0.99770 conn_l=1.00000 val_l=1.00000 euler_l=1.00000 epoch=5 mode=[0 0 0] conn=False euler=False val=False\n",
      "Penalty params: tau=0.99724 conn_l=1.00000 val_l=1.00000 euler_l=1.00000 epoch=6 mode=[0 0 0] conn=False euler=False val=False\n",
      "Penalty params: tau=0.99678 conn_l=1.00000 val_l=1.00000 euler_l=1.00000 epoch=7 mode=[0 0 0] conn=False euler=False val=False\n",
      "Penalty params: tau=0.99632 conn_l=1.00000 val_l=1.00000 euler_l=1.00000 epoch=8 mode=[0 0 0] conn=False euler=False val=False\n",
      "Penalty params: tau=0.99586 conn_l=1.00000 val_l=1.00000 euler_l=1.00000 epoch=9 mode=[0 0 0] conn=False euler=False val=False\n",
      "Penalty params: tau=0.99540 conn_l=1.00000 val_l=1.00000 euler_l=1.00000 epoch=10 mode=[0 0 0] conn=False euler=False val=False\n",
      "Penalty params: tau=0.99495 conn_l=1.00000 val_l=1.00000 euler_l=1.00000 epoch=11 mode=[0 0 0] conn=False euler=False val=False\n",
      "Penalty params: tau=0.99449 conn_l=1.00000 val_l=1.00000 euler_l=1.00000 epoch=12 mode=[0 0 0] conn=False euler=False val=False\n",
      "Penalty params: tau=0.99403 conn_l=1.00000 val_l=1.00000 euler_l=1.00000 epoch=13 mode=[0 0 0] conn=False euler=False val=False\n",
      "Penalty params: tau=0.99357 conn_l=1.00000 val_l=1.00000 euler_l=1.00000 epoch=14 mode=[0 0 0] conn=False euler=False val=False\n",
      "Penalty params: tau=0.99312 conn_l=1.00000 val_l=1.00000 euler_l=1.00000 epoch=15 mode=[0 0 0] conn=False euler=False val=False\n",
      "Penalty params: tau=0.99266 conn_l=1.00000 val_l=1.00000 euler_l=1.00000 epoch=16 mode=[0 0 0] conn=False euler=False val=False\n",
      "Penalty params: tau=0.99220 conn_l=1.00000 val_l=1.00000 euler_l=1.00000 epoch=17 mode=[0 0 0] conn=False euler=False val=False\n",
      "Penalty params: tau=0.99174 conn_l=1.00000 val_l=1.00000 euler_l=1.00000 epoch=18 mode=[0 0 0] conn=False euler=False val=False\n",
      "Penalty params: tau=0.99129 conn_l=1.00000 val_l=1.00000 euler_l=1.00000 epoch=19 mode=[0 0 0] conn=False euler=False val=False\n",
      "Penalty params: tau=0.99083 conn_l=1.00000 val_l=1.00000 euler_l=1.00000 epoch=20 mode=[0 0 0] conn=False euler=False val=False\n",
      "Penalty params: tau=0.99037 conn_l=1.00000 val_l=1.00000 euler_l=1.00000 epoch=21 mode=[0 0 0] conn=False euler=False val=False\n",
      "Penalty params: tau=0.98992 conn_l=1.00000 val_l=1.00000 euler_l=1.00000 epoch=22 mode=[0 0 0] conn=False euler=False val=False\n",
      "Penalty params: tau=0.98946 conn_l=1.00000 val_l=1.00000 euler_l=1.00000 epoch=23 mode=[0 0 0] conn=False euler=False val=False\n",
      "Penalty params: tau=0.98901 conn_l=1.00000 val_l=1.00000 euler_l=1.00000 epoch=24 mode=[0 0 0] conn=False euler=False val=False\n",
      "Penalty params: tau=0.98855 conn_l=1.00000 val_l=1.00000 euler_l=1.00000 epoch=25 mode=[0 0 0] conn=False euler=False val=False\n",
      "Penalty params: tau=0.98810 conn_l=1.00000 val_l=1.00000 euler_l=1.00000 epoch=26 mode=[0 0 0] conn=False euler=False val=False\n",
      "Penalty params: tau=0.98764 conn_l=1.00000 val_l=1.00000 euler_l=1.00000 epoch=27 mode=[0 0 0] conn=False euler=False val=False\n",
      "Penalty params: tau=0.98719 conn_l=1.00000 val_l=1.00000 euler_l=1.00000 epoch=28 mode=[0 0 0] conn=False euler=False val=False\n",
      "Penalty params: tau=0.98673 conn_l=1.00000 val_l=1.00000 euler_l=1.00000 epoch=29 mode=[0 0 0] conn=False euler=False val=False\n",
      "Penalty params: tau=0.98628 conn_l=1.00000 val_l=1.00000 euler_l=1.00000 epoch=30 mode=[0 0 0] conn=False euler=False val=False\n",
      "Penalty params: tau=0.98582 conn_l=1.00000 val_l=1.00000 euler_l=1.00000 epoch=31 mode=[0 0 0] conn=False euler=False val=False\n",
      "Penalty params: tau=0.98537 conn_l=1.00000 val_l=1.00000 euler_l=1.00000 epoch=32 mode=[0 0 0] conn=False euler=False val=False\n",
      "Penalty params: tau=0.98492 conn_l=1.00000 val_l=1.00000 euler_l=1.00000 epoch=33 mode=[0 0 0] conn=False euler=False val=False\n",
      "Penalty params: tau=0.98446 conn_l=1.00000 val_l=1.00000 euler_l=1.00000 epoch=34 mode=[0 0 0] conn=False euler=False val=False\n",
      "Penalty params: tau=0.98401 conn_l=1.00000 val_l=1.00000 euler_l=1.00000 epoch=35 mode=[0 0 0] conn=False euler=False val=False\n",
      "Penalty params: tau=0.98356 conn_l=1.00000 val_l=1.00000 euler_l=1.00000 epoch=36 mode=[0 0 0] conn=False euler=False val=False\n",
      "Penalty params: tau=0.98310 conn_l=1.00000 val_l=1.00000 euler_l=1.00000 epoch=37 mode=[0 0 0] conn=False euler=False val=False\n",
      "Penalty params: tau=0.98265 conn_l=1.00000 val_l=1.00000 euler_l=1.00000 epoch=38 mode=[0 0 0] conn=False euler=False val=False\n",
      "Penalty params: tau=0.98220 conn_l=1.00000 val_l=1.00000 euler_l=1.00000 epoch=39 mode=[0 0 0] conn=False euler=False val=False\n",
      "Penalty params: tau=0.98175 conn_l=1.00000 val_l=1.00000 euler_l=1.00000 epoch=40 mode=[0 0 0] conn=False euler=False val=False\n",
      "Penalty params: tau=0.98129 conn_l=1.00000 val_l=1.00000 euler_l=1.00000 epoch=41 mode=[0 0 0] conn=False euler=False val=False\n",
      "Penalty params: tau=0.98084 conn_l=1.00000 val_l=1.00000 euler_l=1.00000 epoch=42 mode=[0 0 0] conn=False euler=False val=False\n",
      "Penalty params: tau=0.98039 conn_l=1.00000 val_l=1.00000 euler_l=1.00000 epoch=43 mode=[0 0 0] conn=False euler=False val=False\n",
      "Penalty params: tau=0.97994 conn_l=1.00000 val_l=1.00000 euler_l=1.00000 epoch=44 mode=[0 0 0] conn=False euler=False val=False\n",
      "Penalty params: tau=0.97949 conn_l=1.00000 val_l=1.00000 euler_l=1.00000 epoch=45 mode=[0 0 0] conn=False euler=False val=False\n",
      "Penalty params: tau=0.97904 conn_l=1.00000 val_l=1.00000 euler_l=1.00000 epoch=46 mode=[0 0 0] conn=False euler=False val=False\n",
      "Penalty params: tau=0.97859 conn_l=1.00000 val_l=1.00000 euler_l=1.00000 epoch=47 mode=[0 0 0] conn=False euler=False val=False\n",
      "Penalty params: tau=0.97814 conn_l=1.00000 val_l=1.00000 euler_l=1.00000 epoch=48 mode=[0 0 0] conn=False euler=False val=False\n",
      "Penalty params: tau=0.97769 conn_l=1.00000 val_l=1.00000 euler_l=1.00000 epoch=49 mode=[0 0 0] conn=False euler=False val=False\n",
      "Penalty params: tau=0.97723 conn_l=1.00000 val_l=1.00000 euler_l=1.00000 epoch=50 mode=[0 0 0] conn=False euler=False val=False\n",
      "Penalty params: tau=0.97678 conn_l=1.00000 val_l=1.00000 euler_l=1.00000 epoch=51 mode=[0 0 0] conn=False euler=False val=False\n",
      "Penalty params: tau=0.97634 conn_l=1.00000 val_l=1.00000 euler_l=1.00000 epoch=52 mode=[0 0 0] conn=False euler=False val=False\n",
      "Penalty params: tau=0.97589 conn_l=1.00000 val_l=1.00000 euler_l=1.00000 epoch=53 mode=[0 0 0] conn=False euler=False val=False\n",
      "Penalty params: tau=0.97544 conn_l=1.00000 val_l=1.00000 euler_l=1.00000 epoch=54 mode=[0 0 0] conn=False euler=False val=False\n",
      "Penalty params: tau=0.97499 conn_l=1.00000 val_l=1.00000 euler_l=1.00000 epoch=55 mode=[0 0 0] conn=False euler=False val=False\n",
      "Penalty params: tau=0.97454 conn_l=1.00000 val_l=1.00000 euler_l=1.00000 epoch=56 mode=[0 0 0] conn=False euler=False val=False\n",
      "Penalty params: tau=0.97409 conn_l=1.00000 val_l=1.00000 euler_l=1.00000 epoch=57 mode=[0 0 0] conn=False euler=False val=False\n",
      "Penalty params: tau=0.97364 conn_l=1.00000 val_l=1.00000 euler_l=1.00000 epoch=58 mode=[0 0 0] conn=False euler=False val=False\n",
      "Penalty params: tau=0.97319 conn_l=1.00000 val_l=1.00000 euler_l=1.00000 epoch=59 mode=[0 0 0] conn=False euler=False val=False\n",
      "Penalty params: tau=0.97274 conn_l=1.00000 val_l=1.00000 euler_l=1.00000 epoch=60 mode=[0 0 0] conn=False euler=False val=False\n",
      "Penalty params: tau=0.97230 conn_l=1.00000 val_l=1.00000 euler_l=1.00000 epoch=61 mode=[0 0 0] conn=False euler=False val=False\n",
      "Penalty params: tau=0.97185 conn_l=1.00000 val_l=1.00000 euler_l=1.00000 epoch=62 mode=[0 0 0] conn=False euler=False val=False\n",
      "Penalty params: tau=0.97140 conn_l=1.00000 val_l=1.00000 euler_l=1.00000 epoch=63 mode=[0 0 0] conn=False euler=False val=False\n",
      "Penalty params: tau=0.97095 conn_l=1.00000 val_l=1.00000 euler_l=1.00000 epoch=64 mode=[0 0 0] conn=False euler=False val=False\n",
      "Penalty params: tau=0.97051 conn_l=1.00000 val_l=1.00000 euler_l=1.00000 epoch=65 mode=[0 0 0] conn=False euler=False val=False\n",
      "Penalty params: tau=0.97006 conn_l=1.00000 val_l=1.00000 euler_l=1.00000 epoch=66 mode=[0 0 0] conn=False euler=False val=False\n",
      "Penalty params: tau=0.96961 conn_l=1.00000 val_l=1.00000 euler_l=1.00000 epoch=67 mode=[0 0 0] conn=False euler=False val=False\n",
      "Penalty params: tau=0.96917 conn_l=1.00000 val_l=1.00000 euler_l=1.00000 epoch=68 mode=[0 0 0] conn=False euler=False val=False\n",
      "Penalty params: tau=0.96872 conn_l=1.00000 val_l=1.00000 euler_l=1.00000 epoch=69 mode=[0 0 0] conn=False euler=False val=False\n",
      "Penalty params: tau=0.96827 conn_l=1.00000 val_l=1.00000 euler_l=1.00000 epoch=70 mode=[0 0 0] conn=False euler=False val=False\n",
      "Penalty params: tau=0.96783 conn_l=1.00000 val_l=1.00000 euler_l=1.00000 epoch=71 mode=[0 0 0] conn=False euler=False val=False\n",
      "Penalty params: tau=0.96738 conn_l=1.00000 val_l=1.00000 euler_l=1.00000 epoch=72 mode=[0 0 0] conn=False euler=False val=False\n",
      "Penalty params: tau=0.96694 conn_l=1.00000 val_l=1.00000 euler_l=1.00000 epoch=73 mode=[0 0 0] conn=False euler=False val=False\n",
      "Penalty params: tau=0.96649 conn_l=1.00000 val_l=1.00000 euler_l=1.00000 epoch=74 mode=[0 0 0] conn=False euler=False val=False\n",
      "Penalty params: tau=0.96605 conn_l=1.00000 val_l=1.00000 euler_l=1.00000 epoch=75 mode=[0 0 0] conn=False euler=False val=False\n",
      "Penalty params: tau=0.96560 conn_l=1.00000 val_l=1.00000 euler_l=1.00000 epoch=76 mode=[0 0 0] conn=False euler=False val=False\n",
      "Penalty params: tau=0.96516 conn_l=1.00000 val_l=1.00000 euler_l=1.00000 epoch=77 mode=[0 0 0] conn=False euler=False val=False\n",
      "Penalty params: tau=0.96471 conn_l=1.00000 val_l=1.00000 euler_l=1.00000 epoch=78 mode=[0 0 0] conn=False euler=False val=False\n",
      "Penalty params: tau=0.96427 conn_l=1.00000 val_l=1.00000 euler_l=1.00000 epoch=79 mode=[0 0 0] conn=False euler=False val=False\n",
      "Penalty params: tau=0.96383 conn_l=1.00000 val_l=1.00000 euler_l=1.00000 epoch=80 mode=[0 0 0] conn=False euler=False val=False\n",
      "Penalty params: tau=0.96338 conn_l=1.00000 val_l=1.00000 euler_l=1.00000 epoch=81 mode=[0 0 0] conn=False euler=False val=False\n",
      "Penalty params: tau=0.96294 conn_l=1.00000 val_l=1.00000 euler_l=1.00000 epoch=82 mode=[0 0 0] conn=False euler=False val=False\n",
      "Penalty params: tau=0.96249 conn_l=1.00000 val_l=1.00000 euler_l=1.00000 epoch=83 mode=[0 0 0] conn=False euler=False val=False\n",
      "Penalty params: tau=0.96205 conn_l=1.00000 val_l=1.00000 euler_l=1.00000 epoch=84 mode=[0 0 0] conn=False euler=False val=False\n",
      "Penalty params: tau=0.96161 conn_l=1.00000 val_l=1.00000 euler_l=1.00000 epoch=85 mode=[0 0 0] conn=False euler=False val=False\n",
      "Penalty params: tau=0.96117 conn_l=1.00000 val_l=1.00000 euler_l=1.00000 epoch=86 mode=[0 0 0] conn=False euler=False val=False\n",
      "Penalty params: tau=0.96072 conn_l=1.00000 val_l=1.00000 euler_l=1.00000 epoch=87 mode=[0 0 0] conn=False euler=False val=False\n",
      "Penalty params: tau=0.96028 conn_l=1.00000 val_l=1.00000 euler_l=1.00000 epoch=88 mode=[0 0 0] conn=False euler=False val=False\n",
      "Penalty params: tau=0.95984 conn_l=1.00000 val_l=1.00000 euler_l=1.00000 epoch=89 mode=[0 0 0] conn=False euler=False val=False\n",
      "Penalty params: tau=0.95940 conn_l=1.00000 val_l=1.00000 euler_l=1.00000 epoch=90 mode=[0 0 0] conn=False euler=False val=False\n",
      "Penalty params: tau=0.95895 conn_l=1.00000 val_l=1.00000 euler_l=1.00000 epoch=91 mode=[0 0 0] conn=False euler=False val=False\n",
      "Penalty params: tau=0.95851 conn_l=1.00000 val_l=1.00000 euler_l=1.00000 epoch=92 mode=[0 0 0] conn=False euler=False val=False\n",
      "Penalty params: tau=0.95807 conn_l=1.00000 val_l=1.00000 euler_l=1.00000 epoch=93 mode=[0 0 0] conn=False euler=False val=False\n",
      "Penalty params: tau=0.95763 conn_l=1.00000 val_l=1.00000 euler_l=1.00000 epoch=94 mode=[0 0 0] conn=False euler=False val=False\n",
      "Penalty params: tau=0.95719 conn_l=1.00000 val_l=1.00000 euler_l=1.00000 epoch=95 mode=[0 0 0] conn=False euler=False val=False\n",
      "Penalty params: tau=0.95675 conn_l=1.00000 val_l=1.00000 euler_l=1.00000 epoch=96 mode=[0 0 0] conn=False euler=False val=False\n",
      "Penalty params: tau=0.95631 conn_l=1.00000 val_l=1.00000 euler_l=1.00000 epoch=97 mode=[0 0 0] conn=False euler=False val=False\n",
      "Penalty params: tau=0.95587 conn_l=1.00000 val_l=1.00000 euler_l=1.00000 epoch=98 mode=[0 0 0] conn=False euler=False val=False\n",
      "Penalty params: tau=0.95543 conn_l=1.00000 val_l=1.00000 euler_l=1.00000 epoch=99 mode=[0 0 0] conn=False euler=False val=False\n"
     ]
    }
   ],
   "source": [
    "args = get_args()\n",
    "\n",
    "args.scale_lambdas = True\n",
    "# args.connectivity = True \n",
    "# args.valency = True \n",
    "# args.euler_characteristic_penalty = False\n",
    "\n",
    "args.conn_lambda_start = 1 \n",
    "args.conn_lambda_end = 25\n",
    "args.conn_lambda_epochs_start = 4000\n",
    "args.conn_lambda_epochs_end = 8000\n",
    "args.valency_lambda_start = 1\n",
    "args.valency_lambda_end = 100\n",
    "args.valency_lambda_epochs_start = 7000\n",
    "args.valency_lambda_epochs_end = 10000\n",
    "args.euler_characteristic_penalty = False\n",
    "args.tau_start = 1\n",
    "args.tau_end = 0.01\n",
    "args.tau_epochs_start = 1\n",
    "args.tau_epochs_end = 10000\n",
    "\n",
    "pen = Penalty(args)\n",
    "\n",
    "pen.log()\n",
    "for i in range(1, 100):\n",
    "    pen.compute_lambdas(i)\n",
    "    pen.log()"
   ]
  },
  {
   "cell_type": "code",
   "execution_count": null,
   "metadata": {},
   "outputs": [],
   "source": []
  },
  {
   "cell_type": "code",
   "execution_count": 62,
   "metadata": {
    "scrolled": true
   },
   "outputs": [
    {
     "data": {
      "text/plain": [
       "0.7847599703514613"
      ]
     },
     "execution_count": 62,
     "metadata": {},
     "output_type": "execute_result"
    }
   ],
   "source": [
    "(pen.tau_end / pen.tau_start) ** (1. / (pen.tau_epochs_end - pen.tau_epochs_start))"
   ]
  }
 ],
 "metadata": {
  "kernelspec": {
   "display_name": "Python 3.7.7 64-bit ('tum-thesis': conda)",
   "language": "python",
   "name": "python37764bittumthesisconda7e6696dd8c0f4792824001247d7af840"
  },
  "language_info": {
   "codemirror_mode": {
    "name": "ipython",
    "version": 3
   },
   "file_extension": ".py",
   "mimetype": "text/x-python",
   "name": "python",
   "nbconvert_exporter": "python",
   "pygments_lexer": "ipython3",
   "version": "3.7.7"
  }
 },
 "nbformat": 4,
 "nbformat_minor": 4
}
