{
 "cells": [
  {
   "cell_type": "code",
   "execution_count": 1,
   "metadata": {},
   "outputs": [
    {
     "name": "stdout",
     "output_type": "stream",
     "text": [
      "/home/octav/gitrepos/tum-thesis\n"
     ]
    }
   ],
   "source": [
    "import os\n",
    "if \"ntbk\" in os.getcwd():\n",
    "    os.chdir(\"..\")\n",
    "print(os.getcwd())\n",
    "\n",
    "import sys\n",
    "sys.path.append(os.path.join(os.getcwd(), \"otgnn\"))\n",
    "\n",
    "\n",
    "%load_ext autoreload\n",
    "%autoreload 2\n",
    "\n",
    "from otgnn.models import GCN\n",
    "from otgnn.graph import MolGraph\n",
    "from otgnn.utils import save_model, load_model, StatsTracker\n",
    "from otgnn.graph import SYMBOLS, FORMAL_CHARGES, BOND_TYPES, get_bt_index\n",
    "\n",
    "from mol_opt.mol_opt import MolOpt\n",
    "from mol_opt.data_mol_opt import MolOptDataset\n",
    "from mol_opt.data_mol_opt import get_loader\n",
    "from mol_opt.decoder_mol_opt import MolOptDecoder\n",
    "from mol_opt.arguments import get_args\n",
    "from mol_opt.train_mol_opt import main, get_latest_model\n",
    "from mol_opt.ot_utils import encode_target, FGW\n",
    "from mol_opt.train_mol_opt import ft\n",
    "from mol_opt.ot_utils import Penalty as PenaltyOld\n",
    "\n",
    "from rdkit.Chem import MolFromSmiles\n",
    "\n",
    "from molgen.metrics.Penalty import Penalty as PenaltyNew\n",
    "\n",
    "import torch\n",
    "from torch import nn\n",
    "import numpy as np\n",
    "import time"
   ]
  },
  {
   "cell_type": "code",
   "execution_count": 2,
   "metadata": {},
   "outputs": [
    {
     "name": "stdout",
     "output_type": "stream",
     "text": [
      "MolOpt(\n",
      "  (GCN): GCN(\n",
      "    (W_message_i): Linear(in_features=100, out_features=100, bias=False)\n",
      "    (W_message_h): Linear(in_features=100, out_features=100, bias=False)\n",
      "    (W_message_o): Linear(in_features=193, out_features=70, bias=True)\n",
      "    (W_mol_h): Linear(in_features=70, out_features=100, bias=True)\n",
      "    (W_mol_o): Linear(in_features=100, out_features=1, bias=True)\n",
      "    (dropout_gcn): Dropout(p=0.0, inplace=False)\n",
      "    (dropout_ffn): Dropout(p=0.0, inplace=False)\n",
      "  )\n",
      "  (opt0): Linear(in_features=70, out_features=100, bias=True)\n",
      "  (opt1): Linear(in_features=100, out_features=70, bias=True)\n",
      ") Namespace(N_transformer=6, agg_func='sum', annealing_rate=0.0005, batch_norm=False, batch_size=6, connectivity=True, connectivity_hard=False, connectivity_lambda=5e-05, cuda=True, device='cuda:0', dim_tangent_space=40, dropout_ffn=0.0, dropout_gcn=0.0, dropout_transformer=0.1, euler_characteristic_penalty=True, euler_lambda=0.0001, ffn_activation='LeakyReLU', init_decoder_model='pointwise10-onebatch_decode', init_model='pointwise10-onebatch', linear_out=False, model_type='pointwise', n_epochs=3000, n_ffn_hidden=100, n_ffn_transformer=100, n_heads_transformer=10, n_hidden=100, n_labels=1, n_layers=5, one_batch_train=True, ot_solver='emd', output_dir='mol_opt/output_pointwise10-onebatch', pc_hidden=70, pred_hidden=100, sinkhorn_entropy=0.1, sinkhorn_max_it=10000, task='qed', tb_logs_dir='mol_opt/logs_pointwise10-onebatch', valency=True, valency_hard=False, valency_lambda=0.0001)\n",
      "MolOptDecoder(\n",
      "  (fc1_SYMBOLS): Linear(in_features=70, out_features=100, bias=True)\n",
      "  (fc2_SYMBOLS): Linear(in_features=100, out_features=64, bias=True)\n",
      "  (fc1_CHARGES): Linear(in_features=70, out_features=100, bias=True)\n",
      "  (fc2_CHARGES): Linear(in_features=100, out_features=5, bias=True)\n",
      "  (fc1_BONDS): Linear(in_features=140, out_features=200, bias=True)\n",
      "  (fc2_BONDS): Linear(in_features=200, out_features=5, bias=True)\n",
      ") Namespace(N_transformer=6, agg_func='sum', annealing_rate=0.0005, batch_norm=False, batch_size=6, connectivity=True, connectivity_hard=False, connectivity_lambda=5e-05, cuda=True, device='cuda:0', dim_tangent_space=40, dropout_ffn=0.0, dropout_gcn=0.0, dropout_transformer=0.1, euler_characteristic_penalty=True, euler_lambda=0.0001, ffn_activation='LeakyReLU', init_decoder_model='pointwise10-onebatch_decode', init_model='pointwise10-onebatch', linear_out=False, model_type='pointwise', n_epochs=3000, n_ffn_hidden=100, n_ffn_transformer=100, n_heads_transformer=10, n_hidden=100, n_labels=1, n_layers=5, one_batch_train=True, ot_solver='emd', output_dir='mol_opt/output_pointwise10-onebatch', pc_hidden=70, pred_hidden=100, sinkhorn_entropy=0.1, sinkhorn_max_it=10000, task='qed', tb_logs_dir='mol_opt/logs_pointwise10-onebatch', valency=True, valency_hard=False, valency_lambda=0.0001)\n"
     ]
    }
   ],
   "source": [
    "sys.argv = [\"\", \"-cuda\"]\n",
    "args = get_args()\n",
    "model = \"pointwise10-onebatch\"\n",
    "args.output_dir = f\"mol_opt/output_{model}/\"\n",
    "\n",
    "model_iter = 1000 \n",
    "\n",
    "model_name = \"model_{}_{}\".format(model, model_iter)\n",
    "model_decode_name = \"model_{}_decode_{}\".format(model, model_iter)\n",
    "\n",
    "molopt, config = load_model(args.output_dir + model_name, MolOpt, args.device)\n",
    "print (molopt, config)\n",
    "\n",
    "molopt_decoder, config_decoder = load_model(args.output_dir + model_decode_name, MolOptDecoder, args.device)\n",
    "print (molopt_decoder, config_decoder)\n",
    "\n",
    "loss = FGW(alpha = 0.5)\n",
    "\n",
    "n_data = 36\n",
    "data_loader = get_loader(\"iclr19-graph2graph/data/qed\", \"train_pairs\", n_data, True)\n",
    "for i in data_loader:\n",
    "    X = (MolGraph(i[0]))\n",
    "    Y = (MolGraph(i[1]))\n",
    "    break"
   ]
  },
  {
   "cell_type": "code",
   "execution_count": 3,
   "metadata": {},
   "outputs": [],
   "source": [
    "pen = PenaltyNew(args, prev_epoch = 0)"
   ]
  },
  {
   "cell_type": "code",
   "execution_count": 4,
   "metadata": {},
   "outputs": [],
   "source": [
    "yhat_embedding = molopt.forward(X)\n",
    "yhat_logits = molopt_decoder.forward(yhat_embedding, X, Y)\n",
    "yhat_labels = molopt_decoder.discretize(*yhat_logits)\n",
    "\n",
    "pred_pack = (yhat_labels, yhat_logits, Y.scope), Y"
   ]
  },
  {
   "cell_type": "code",
   "execution_count": 5,
   "metadata": {
    "scrolled": true
   },
   "outputs": [
    {
     "name": "stdout",
     "output_type": "stream",
     "text": [
      "epoch=0\n",
      " conn_penalty:0.3837645\n",
      " val_penalty:0.9759998\n",
      " euler_penalty:0.1092538\n",
      "Penalty params: tau=1.00000 conn_l=0.02500 val_l=0.07000 euler_l=0.30000 epoch=1\n",
      "epoch=1\n",
      " conn_penalty:0.0000004\n",
      " val_penalty:0.9690413\n",
      " euler_penalty:0.0350247\n",
      "Penalty params: tau=1.00000 conn_l=0.02500 val_l=0.07000 euler_l=0.30000 epoch=1\n",
      "epoch=2\n",
      " conn_penalty:1.1512926\n",
      " val_penalty:1.2964340\n",
      " euler_penalty:0.0571473\n",
      "Penalty params: tau=0.99990 conn_l=0.02500 val_l=0.07001 euler_l=0.30003 epoch=2\n",
      "epoch=3\n",
      " conn_penalty:1.9188207\n",
      " val_penalty:1.0524705\n",
      " euler_penalty:0.0266666\n",
      "Penalty params: tau=0.99980 conn_l=0.02501 val_l=0.07001 euler_l=0.30006 epoch=3\n",
      "epoch=4\n",
      " conn_penalty:0.3837645\n",
      " val_penalty:0.8931156\n",
      " euler_penalty:0.0173650\n",
      "Penalty params: tau=0.99970 conn_l=0.02501 val_l=0.07002 euler_l=0.30009 epoch=4\n",
      "epoch=5\n",
      " conn_penalty:1.1512926\n",
      " val_penalty:1.1441570\n",
      " euler_penalty:0.0000000\n",
      "Penalty params: tau=0.99960 conn_l=0.02501 val_l=0.07003 euler_l=0.30012 epoch=5\n",
      "epoch=6\n",
      " conn_penalty:2.3025852\n",
      " val_penalty:1.3205514\n",
      " euler_penalty:0.0055265\n",
      "Penalty params: tau=0.99950 conn_l=0.02501 val_l=0.07004 euler_l=0.30015 epoch=6\n",
      "epoch=7\n",
      " conn_penalty:0.0000004\n",
      " val_penalty:1.3623073\n",
      " euler_penalty:0.1725277\n",
      "Penalty params: tau=0.99940 conn_l=0.02502 val_l=0.07004 euler_l=0.30018 epoch=7\n",
      "epoch=8\n",
      " conn_penalty:1.1512926\n",
      " val_penalty:1.5753305\n",
      " euler_penalty:0.2231579\n",
      "Penalty params: tau=0.99930 conn_l=0.02502 val_l=0.07005 euler_l=0.30021 epoch=8\n",
      "epoch=9\n",
      " conn_penalty:1.9188207\n",
      " val_penalty:1.4851678\n",
      " euler_penalty:0.1032387\n",
      "Penalty params: tau=0.99920 conn_l=0.02502 val_l=0.07006 euler_l=0.30024 epoch=9\n",
      "epoch=10\n",
      " conn_penalty:0.3837645\n",
      " val_penalty:1.0656322\n",
      " euler_penalty:0.0202111\n",
      "Penalty params: tau=0.99910 conn_l=0.02502 val_l=0.07006 euler_l=0.30027 epoch=10\n",
      "epoch=11\n",
      " conn_penalty:1.9188207\n",
      " val_penalty:1.2139392\n",
      " euler_penalty:0.0701387\n",
      "Penalty params: tau=0.99900 conn_l=0.02503 val_l=0.07007 euler_l=0.30030 epoch=11\n",
      "epoch=12\n",
      " conn_penalty:1.1512926\n",
      " val_penalty:1.0604723\n",
      " euler_penalty:0.0628301\n",
      "Penalty params: tau=0.99890 conn_l=0.02503 val_l=0.07008 euler_l=0.30033 epoch=12\n",
      "epoch=13\n",
      " conn_penalty:1.1512926\n",
      " val_penalty:1.3576887\n",
      " euler_penalty:0.1279848\n",
      "Penalty params: tau=0.99880 conn_l=0.02503 val_l=0.07008 euler_l=0.30036 epoch=13\n",
      "epoch=14\n",
      " conn_penalty:0.3837645\n",
      " val_penalty:0.9992189\n",
      " euler_penalty:0.0790203\n",
      "Penalty params: tau=0.99870 conn_l=0.02503 val_l=0.07009 euler_l=0.30039 epoch=14\n",
      "epoch=15\n",
      " conn_penalty:1.1512926\n",
      " val_penalty:1.3731740\n",
      " euler_penalty:0.1488821\n",
      "Penalty params: tau=0.99860 conn_l=0.02504 val_l=0.07010 euler_l=0.30042 epoch=15\n",
      "epoch=16\n",
      " conn_penalty:1.1512926\n",
      " val_penalty:1.4155218\n",
      " euler_penalty:0.2773671\n",
      "Penalty params: tau=0.99850 conn_l=0.02504 val_l=0.07011 euler_l=0.30045 epoch=16\n",
      "epoch=17\n",
      " conn_penalty:1.9188207\n",
      " val_penalty:0.9567562\n",
      " euler_penalty:0.0469756\n",
      "Penalty params: tau=0.99840 conn_l=0.02504 val_l=0.07011 euler_l=0.30048 epoch=17\n",
      "epoch=18\n",
      " conn_penalty:0.3837645\n",
      " val_penalty:0.9795362\n",
      " euler_penalty:0.0153599\n",
      "Penalty params: tau=0.99830 conn_l=0.02504 val_l=0.07012 euler_l=0.30051 epoch=18\n",
      "epoch=19\n",
      " conn_penalty:1.9188207\n",
      " val_penalty:1.0134306\n",
      " euler_penalty:0.0065878\n",
      "Penalty params: tau=0.99820 conn_l=0.02505 val_l=0.07013 euler_l=0.30054 epoch=19\n",
      "epoch=20\n",
      " conn_penalty:1.9188207\n",
      " val_penalty:1.1941435\n",
      " euler_penalty:0.0000000\n",
      "Penalty params: tau=0.99810 conn_l=0.02505 val_l=0.07013 euler_l=0.30057 epoch=20\n",
      "epoch=21\n",
      " conn_penalty:1.9188207\n",
      " val_penalty:1.3772943\n",
      " euler_penalty:0.0067237\n",
      "Penalty params: tau=0.99800 conn_l=0.02505 val_l=0.07014 euler_l=0.30060 epoch=21\n",
      "epoch=22\n",
      " conn_penalty:0.7675285\n",
      " val_penalty:1.1605921\n",
      " euler_penalty:0.0052620\n",
      "Penalty params: tau=0.99790 conn_l=0.02505 val_l=0.07015 euler_l=0.30063 epoch=22\n",
      "epoch=23\n",
      " conn_penalty:1.1512926\n",
      " val_penalty:0.9622186\n",
      " euler_penalty:0.0075088\n",
      "Penalty params: tau=0.99780 conn_l=0.02506 val_l=0.07015 euler_l=0.30066 epoch=23\n",
      "epoch=24\n",
      " conn_penalty:1.1512926\n",
      " val_penalty:1.1471383\n",
      " euler_penalty:0.0066773\n",
      "Penalty params: tau=0.99770 conn_l=0.02506 val_l=0.07016 euler_l=0.30069 epoch=24\n",
      "epoch=25\n",
      " conn_penalty:2.6863488\n",
      " val_penalty:0.9937124\n",
      " euler_penalty:0.0459901\n",
      "Penalty params: tau=0.99760 conn_l=0.02506 val_l=0.07017 euler_l=0.30072 epoch=25\n",
      "epoch=26\n",
      " conn_penalty:1.1512926\n",
      " val_penalty:1.0652356\n",
      " euler_penalty:0.0399551\n",
      "Penalty params: tau=0.99750 conn_l=0.02506 val_l=0.07018 euler_l=0.30075 epoch=26\n",
      "epoch=27\n",
      " conn_penalty:1.1512926\n",
      " val_penalty:1.2957372\n",
      " euler_penalty:0.0883492\n",
      "Penalty params: tau=0.99740 conn_l=0.02507 val_l=0.07018 euler_l=0.30078 epoch=27\n",
      "epoch=28\n",
      " conn_penalty:1.1512926\n",
      " val_penalty:1.0750581\n",
      " euler_penalty:0.0380273\n",
      "Penalty params: tau=0.99730 conn_l=0.02507 val_l=0.07019 euler_l=0.30081 epoch=28\n",
      "epoch=29\n",
      " conn_penalty:2.3025852\n",
      " val_penalty:1.1018049\n",
      " euler_penalty:0.0121797\n",
      "Penalty params: tau=0.99720 conn_l=0.02507 val_l=0.07020 euler_l=0.30084 epoch=29\n",
      "epoch=30\n",
      " conn_penalty:1.9188207\n",
      " val_penalty:1.4772727\n",
      " euler_penalty:0.0969844\n",
      "Penalty params: tau=0.99710 conn_l=0.02507 val_l=0.07020 euler_l=0.30087 epoch=30\n",
      "epoch=31\n",
      " conn_penalty:1.1512926\n",
      " val_penalty:0.9574340\n",
      " euler_penalty:0.0155651\n",
      "Penalty params: tau=0.99700 conn_l=0.02508 val_l=0.07021 euler_l=0.30090 epoch=31\n",
      "epoch=32\n",
      " conn_penalty:1.9188207\n",
      " val_penalty:0.9276963\n",
      " euler_penalty:0.0000000\n",
      "Penalty params: tau=0.99690 conn_l=0.02508 val_l=0.07022 euler_l=0.30093 epoch=32\n",
      "epoch=33\n",
      " conn_penalty:1.5350566\n",
      " val_penalty:0.9360934\n",
      " euler_penalty:0.0025599\n",
      "Penalty params: tau=0.99680 conn_l=0.02508 val_l=0.07022 euler_l=0.30096 epoch=33\n",
      "epoch=34\n",
      " conn_penalty:1.1512926\n",
      " val_penalty:1.3989227\n",
      " euler_penalty:0.0951498\n",
      "Penalty params: tau=0.99671 conn_l=0.02508 val_l=0.07023 euler_l=0.30099 epoch=34\n",
      "epoch=35\n",
      " conn_penalty:1.9188207\n",
      " val_penalty:1.2150635\n",
      " euler_penalty:0.0053049\n",
      "Penalty params: tau=0.99661 conn_l=0.02509 val_l=0.07024 euler_l=0.30102 epoch=35\n",
      "epoch=36\n",
      " conn_penalty:1.5350571\n",
      " val_penalty:1.6486460\n",
      " euler_penalty:0.1499401\n",
      "Penalty params: tau=0.99651 conn_l=0.02509 val_l=0.07025 euler_l=0.30105 epoch=36\n",
      "epoch=37\n",
      " conn_penalty:1.9188207\n",
      " val_penalty:1.0869717\n",
      " euler_penalty:0.0200389\n",
      "Penalty params: tau=0.99641 conn_l=0.02509 val_l=0.07025 euler_l=0.30108 epoch=37\n",
      "epoch=38\n",
      " conn_penalty:0.0000004\n",
      " val_penalty:1.6103196\n",
      " euler_penalty:0.2847530\n",
      "Penalty params: tau=0.99631 conn_l=0.02509 val_l=0.07026 euler_l=0.30111 epoch=38\n",
      "epoch=39\n",
      " conn_penalty:1.1512926\n",
      " val_penalty:1.6824351\n",
      " euler_penalty:0.2303681\n",
      "Penalty params: tau=0.99621 conn_l=0.02510 val_l=0.07027 euler_l=0.30114 epoch=39\n",
      "epoch=40\n",
      " conn_penalty:1.1512926\n",
      " val_penalty:0.9897069\n",
      " euler_penalty:0.0032671\n",
      "Penalty params: tau=0.99611 conn_l=0.02510 val_l=0.07027 euler_l=0.30117 epoch=40\n",
      "epoch=41\n",
      " conn_penalty:1.1512926\n",
      " val_penalty:1.5276964\n",
      " euler_penalty:0.2597817\n",
      "Penalty params: tau=0.99601 conn_l=0.02510 val_l=0.07028 euler_l=0.30120 epoch=41\n",
      "epoch=42\n",
      " conn_penalty:1.1512926\n",
      " val_penalty:1.2655853\n",
      " euler_penalty:0.1037674\n",
      "Penalty params: tau=0.99591 conn_l=0.02510 val_l=0.07029 euler_l=0.30123 epoch=42\n",
      "epoch=43\n",
      " conn_penalty:2.6863488\n",
      " val_penalty:1.1303456\n",
      " euler_penalty:0.0433850\n",
      "Penalty params: tau=0.99581 conn_l=0.02511 val_l=0.07029 euler_l=0.30126 epoch=43\n",
      "epoch=44\n",
      " conn_penalty:1.1512926\n",
      " val_penalty:1.4255946\n",
      " euler_penalty:0.1113599\n",
      "Penalty params: tau=0.99571 conn_l=0.02511 val_l=0.07030 euler_l=0.30129 epoch=44\n",
      "epoch=45\n",
      " conn_penalty:1.1512926\n",
      " val_penalty:1.4238942\n",
      " euler_penalty:0.0178710\n",
      "Penalty params: tau=0.99561 conn_l=0.02511 val_l=0.07031 euler_l=0.30132 epoch=45\n",
      "epoch=46\n",
      " conn_penalty:0.3837645\n",
      " val_penalty:1.5738698\n",
      " euler_penalty:0.1450784\n",
      "Penalty params: tau=0.99551 conn_l=0.02511 val_l=0.07032 euler_l=0.30135 epoch=46\n",
      "epoch=47\n",
      " conn_penalty:1.1512926\n",
      " val_penalty:1.1662469\n",
      " euler_penalty:0.0495778\n",
      "Penalty params: tau=0.99541 conn_l=0.02512 val_l=0.07032 euler_l=0.30138 epoch=47\n",
      "epoch=48\n",
      " conn_penalty:1.1512926\n",
      " val_penalty:1.4475133\n",
      " euler_penalty:0.2580944\n",
      "Penalty params: tau=0.99531 conn_l=0.02512 val_l=0.07033 euler_l=0.30141 epoch=48\n",
      "epoch=49\n",
      " conn_penalty:1.1758652\n",
      " val_penalty:1.8301180\n",
      " euler_penalty:0.4075761\n",
      "Penalty params: tau=0.99521 conn_l=0.02512 val_l=0.07034 euler_l=0.30144 epoch=49\n"
     ]
    }
   ],
   "source": [
    "for idx in range(50):\n",
    "    stats_tracker = StatsTracker()\n",
    "    con_loss, val_loss, eul_loss = pen(*pred_pack, idx)\n",
    "    stats_tracker.add_stat('conn_penalty', con_loss.item(), n_data)\n",
    "    stats_tracker.add_stat('val_penalty', val_loss.item(), n_data)\n",
    "    stats_tracker.add_stat('euler_penalty', eul_loss.item(), n_data)\n",
    "    \n",
    "    stats_tracker.print_stats(\"epoch={}\".format(idx))\n",
    "    pen.log()"
   ]
  },
  {
   "cell_type": "code",
   "execution_count": 39,
   "metadata": {},
   "outputs": [
    {
     "name": "stdout",
     "output_type": "stream",
     "text": [
      "Penalty params: tau=1.00000 conn_l=0.02500 val_l=0.07000 euler_l=0.30000 epoch=1\n"
     ]
    }
   ],
   "source": [
    "PenaltyNew(args, prev_epoch = 0).log()"
   ]
  },
  {
   "cell_type": "code",
   "execution_count": 79,
   "metadata": {
    "scrolled": true
   },
   "outputs": [],
   "source": [
    "bonds = pen(*pred_pack, idx)"
   ]
  },
  {
   "cell_type": "code",
   "execution_count": 80,
   "metadata": {},
   "outputs": [
    {
     "data": {
      "text/plain": [
       "tensor([1.0000, 1.0000, 1.0000,  ..., 1.0000, 1.0000, 1.0000], device='cuda:0',\n",
       "       grad_fn=<SumBackward1>)"
      ]
     },
     "execution_count": 80,
     "metadata": {},
     "output_type": "execute_result"
    }
   ],
   "source": [
    "bonds.sum(axis = 1)"
   ]
  },
  {
   "cell_type": "code",
   "execution_count": 91,
   "metadata": {},
   "outputs": [
    {
     "data": {
      "text/plain": [
       "torch.Size([2414, 5])"
      ]
     },
     "execution_count": 91,
     "metadata": {},
     "output_type": "execute_result"
    }
   ],
   "source": [
    "bonds.shape"
   ]
  },
  {
   "cell_type": "code",
   "execution_count": 11,
   "metadata": {},
   "outputs": [
    {
     "data": {
      "text/plain": [
       "(tensor([3, 1, 0, 0, 0, 0, 2, 0, 0, 1, 1, 0, 0, 0, 0, 0, 0, 0, 0, 0, 0, 2, 7, 0,\n",
       "         0, 0, 0, 7, 0, 0, 1, 1, 0, 2, 0, 0, 0, 1, 0, 0, 2, 0, 0, 0, 1, 0, 0, 2,\n",
       "         0, 0, 0, 1, 0, 0, 0, 4, 0, 0, 0, 2, 0, 2, 0, 1, 0, 0, 0, 8, 1, 0, 1, 1,\n",
       "         0, 0, 0, 0, 0, 0, 0, 2, 0, 0, 0, 0, 1, 0, 2, 0, 0, 0, 0, 0, 0, 0, 0, 2,\n",
       "         1, 0, 3, 2, 2, 1, 0, 0, 0, 0, 0, 2, 0, 2, 0, 0, 0, 0, 0, 0, 0, 0, 0, 0],\n",
       "        device='cuda:0'),\n",
       " tensor([4, 0, 3, 1, 3, 3, 4, 0, 1, 0, 4, 2, 1, 1, 0, 1, 3, 3, 1, 1, 2, 2, 3, 1,\n",
       "         3, 3, 2, 4, 1, 1, 0, 4, 1, 4, 0, 3, 4, 0, 2, 1, 4, 4, 3, 1, 2, 3, 0, 3,\n",
       "         3, 0, 1, 3, 1, 3, 4, 4, 4, 1, 4, 2, 4, 0, 0, 2, 0, 0, 1, 3, 0, 1, 4, 2,\n",
       "         3, 2, 2, 2, 3, 1, 2, 4, 1, 1, 0, 1, 4, 1, 1, 1, 0, 1, 4, 3, 1, 3, 3, 3,\n",
       "         0, 1, 4, 4, 2, 4, 3, 3, 0, 3, 0, 2, 1, 3, 1, 4, 0, 3, 1, 0, 4, 2, 4, 3],\n",
       "        device='cuda:0'),\n",
       " tensor([4, 4, 4,  ..., 4, 4, 4], device='cuda:0'))"
      ]
     },
     "execution_count": 11,
     "metadata": {},
     "output_type": "execute_result"
    }
   ],
   "source": [
    "# construct adjacency matrix from this thing\n",
    "yhat_labels"
   ]
  },
  {
   "cell_type": "code",
   "execution_count": 41,
   "metadata": {},
   "outputs": [
    {
     "data": {
      "text/plain": [
       "75"
      ]
     },
     "execution_count": 41,
     "metadata": {},
     "output_type": "execute_result"
    }
   ],
   "source": [
    "import numpy as np\n",
    "np.random.randint(100)"
   ]
  },
  {
   "cell_type": "code",
   "execution_count": 42,
   "metadata": {},
   "outputs": [],
   "source": [
    "bonds = Y.get_graph_outputs()[0][\"BOND_TYPES\"]"
   ]
  },
  {
   "cell_type": "code",
   "execution_count": 43,
   "metadata": {},
   "outputs": [],
   "source": [
    "adjM = 1 - bonds[:,:,-1]"
   ]
  },
  {
   "cell_type": "code",
   "execution_count": 61,
   "metadata": {},
   "outputs": [
    {
     "data": {
      "text/plain": [
       "tensor(1.5259e-05)"
      ]
     },
     "execution_count": 61,
     "metadata": {},
     "output_type": "execute_result"
    }
   ],
   "source": [
    "pen.conn_penalty(adjM)"
   ]
  },
  {
   "cell_type": "code",
   "execution_count": 46,
   "metadata": {},
   "outputs": [
    {
     "data": {
      "text/plain": [
       "tensor(5.7386)"
      ]
     },
     "execution_count": 46,
     "metadata": {},
     "output_type": "execute_result"
    }
   ],
   "source": [
    "N = adjM.shape[0]\n",
    "device = adjM.device\n",
    "\n",
    "# get Laplacian\n",
    "L = torch.diag(torch.matmul(adjM, torch.ones(N, device=device))) - adjM\n",
    "L_mod = L + torch.ones_like(L, device=device) / N\n",
    "\n",
    "# calculate log dets\n",
    "# comment this line to use the rescaling procedure\n",
    "# return (-torch.logdet(L_mod + self.conn_eps * torch.eye(N, device=device)))\n",
    "\n",
    "# calculate rescaled eigenvalues\n",
    "eigvals = torch.symeig(L_mod, eigenvectors = True)[0]\n",
    "torch.sum(torch.exp(-eigvals))\n",
    "        "
   ]
  },
  {
   "cell_type": "code",
   "execution_count": 57,
   "metadata": {},
   "outputs": [
    {
     "data": {
      "text/plain": [
       "tensor(1.5259e-05)"
      ]
     },
     "execution_count": 57,
     "metadata": {},
     "output_type": "execute_result"
    }
   ],
   "source": [
    "eps = 1e-9\n",
    "beta = 1e-3\n",
    "- torch.sum(torch.log(eigvals.clamp(min = eps, max = beta))) + len(eigvals) * np.log(beta)"
   ]
  }
 ],
 "metadata": {
  "kernelspec": {
   "display_name": "Python 3",
   "language": "python",
   "name": "python3"
  },
  "language_info": {
   "codemirror_mode": {
    "name": "ipython",
    "version": 3
   },
   "file_extension": ".py",
   "mimetype": "text/x-python",
   "name": "python",
   "nbconvert_exporter": "python",
   "pygments_lexer": "ipython3",
   "version": "3.6.10"
  }
 },
 "nbformat": 4,
 "nbformat_minor": 4
}
