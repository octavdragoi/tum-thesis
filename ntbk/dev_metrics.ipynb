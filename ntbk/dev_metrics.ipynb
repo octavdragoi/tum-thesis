{
 "cells": [
  {
   "cell_type": "code",
   "execution_count": 1,
   "metadata": {},
   "outputs": [
    {
     "name": "stdout",
     "output_type": "stream",
     "text": [
      "/home/octav/gitrepos/tum-thesis\n"
     ]
    }
   ],
   "source": [
    "import os\n",
    "if \"ntbk\" in os.getcwd():\n",
    "    os.chdir(\"..\")\n",
    "print(os.getcwd())\n",
    "\n",
    "import sys\n",
    "sys.path.append(os.path.join(os.getcwd(), \"otgnn\"))\n",
    "sys.path.append(os.path.join(os.getcwd(), \"molgen\"))\n",
    "\n",
    "\n",
    "%load_ext autoreload\n",
    "%autoreload 2\n",
    "\n",
    "from otgnn.models import GCN\n",
    "# from molgen.dataloading.MolGraphBatchPreprocessor import MolGraph\n",
    "from otgnn.graph import MolGraph\n",
    "from otgnn.utils import save_model, load_model\n",
    "from otgnn.graph import SYMBOLS, FORMAL_CHARGES, BOND_TYPES\n",
    "\n",
    "\n",
    "from mol_opt.data_mol_opt import MolOptDataset\n",
    "from mol_opt.data_mol_opt import get_loader\n",
    "from mol_opt.arguments import get_args\n",
    "from mol_opt.train_mol_opt import main, load_checkpoint\n",
    "from mol_opt.mol_opt import MolOpt\n",
    "from mol_opt.decoder_mol_opt import MolOptDecoder\n",
    "from mol_opt.ot_utils import encode_target\n",
    "from mol_opt.ot_utils import FGW \n",
    "from mol_opt.ot_utils import compute_barycenter\n",
    "\n",
    "from molgen.dataloading.feat2smiles import feat2smiles\n",
    "from molgen.dataloading.mol_drawer import MolDrawer\n",
    "from molgen.metrics.Penalty import Penalty\n",
    "from molgen.metrics.mol_metrics import MolMetrics\n",
    "\n",
    "from rdkit.Chem import MolFromSmiles\n",
    "from tensorboardX import SummaryWriter\n",
    "\n",
    "import torch\n",
    "import torch.nn.functional as F\n",
    "import numpy as np\n",
    "import time\n",
    "from rdkit import Chem\n",
    "from rdkit.Chem.Draw import IPythonConsole\n",
    "from molgen.metrics.Penalty import Penalty as PenaltyNew\n",
    "\n",
    "import matplotlib.pyplot as plt\n",
    "%matplotlib inline\n",
    "plt.style.use('dark_background')"
   ]
  },
  {
   "cell_type": "code",
   "execution_count": 2,
   "metadata": {},
   "outputs": [
    {
     "data": {
      "text/plain": [
       "Namespace(N_transformer=6, agg_func='sum', annealing_rate=0.0001, batch_norm=False, batch_size=50, conn_penalty_function='logdet', connectivity=True, connectivity_hard=False, connectivity_lambda=0.025, cuda=True, device='cuda:0', dim_tangent_space=40, dropout_ffn=0.0, dropout_gcn=0.0, dropout_transformer=0.1, euler_characteristic_penalty=True, euler_lambda=0.3, ffn_activation='LeakyReLU', init_decoder_model='pointwise10-onebatch-euler-valency-scale2_decode', init_model='pointwise10-onebatch-euler-valency-scale2', linear_out=False, model_type='pointwise', n_epochs=10, n_ffn_hidden=100, n_ffn_transformer=100, n_heads_transformer=10, n_hidden=250, n_labels=1, n_layers=5, one_batch_train=True, ot_solver='emd', output_dir='mol_opt/output_pointwise10-onebatch/', pc_hidden=100, pred_hidden=150, scale_lambdas=False, sinkhorn_entropy=0.1, sinkhorn_max_it=10000, task='qed', tb_logs_dir='mol_opt/logs_pointwise10-onebatch/', valency=True, valency_hard=False, valency_lambda=0.07)"
      ]
     },
     "execution_count": 2,
     "metadata": {},
     "output_type": "execute_result"
    }
   ],
   "source": [
    "model_type = \"pointwise\"\n",
    "sys.argv = [\"\", \"-cuda\", \"-model_type\", model_type, \"-one_batch_train\"]\n",
    "args = get_args()\n",
    "args.init_model = f\"{model_type}10-onebatch\"\n",
    "args.output_dir = \"mol_opt/output_{}/\".format(args.init_model)\n",
    "args.tb_logs_dir = \"mol_opt/logs_{}/\".format(args.init_model)\n",
    "args.init_model = \"{}10-onebatch-euler-valency-scale2\".format(model_type)\n",
    "args.init_decoder_model = \"{}_decode\".format(args.init_model)\n",
    "args.batch_size = 50\n",
    "args.conn_penalty_function = 'logdet'\n",
    "args"
   ]
  },
  {
   "cell_type": "code",
   "execution_count": 11,
   "metadata": {},
   "outputs": [
    {
     "name": "stdout",
     "output_type": "stream",
     "text": [
      "mol_opt/output_pointwise10-onebatch/model_pointwise10-onebatch-euler-valency-scale2_1000\n",
      "MolOpt(\n",
      "  (GCN): GCN(\n",
      "    (W_message_i): Linear(in_features=100, out_features=250, bias=False)\n",
      "    (W_message_h): Linear(in_features=250, out_features=250, bias=False)\n",
      "    (W_message_o): Linear(in_features=343, out_features=100, bias=True)\n",
      "    (W_mol_h): Linear(in_features=100, out_features=100, bias=True)\n",
      "    (W_mol_o): Linear(in_features=100, out_features=1, bias=True)\n",
      "    (dropout_gcn): Dropout(p=0.0, inplace=False)\n",
      "    (dropout_ffn): Dropout(p=0.0, inplace=False)\n",
      "  )\n",
      "  (opt0): Linear(in_features=100, out_features=250, bias=True)\n",
      "  (opt1): Linear(in_features=250, out_features=100, bias=True)\n",
      ")\n",
      "MolOptDecoder(\n",
      "  (fc1_SYMBOLS): Linear(in_features=100, out_features=150, bias=True)\n",
      "  (fc2_SYMBOLS): Linear(in_features=150, out_features=64, bias=True)\n",
      "  (fc1_CHARGES): Linear(in_features=100, out_features=150, bias=True)\n",
      "  (fc2_CHARGES): Linear(in_features=150, out_features=5, bias=True)\n",
      "  (fc1_BONDS): Linear(in_features=200, out_features=300, bias=True)\n",
      "  (fc2_BONDS): Linear(in_features=300, out_features=5, bias=True)\n",
      ")\n",
      "pointwise\n",
      "Penalty params: tau=0.81871 conn_l=0.00000 val_l=1.22138 euler_l=1.22138 epoch=1001\n"
     ]
    }
   ],
   "source": [
    "model = args.init_model\n",
    "model_iter = 1000 \n",
    "\n",
    "model_name = \"model_{}_{}\".format(model, model_iter)\n",
    "print(args.output_dir + model_name)\n",
    "model_decode_name = \"model_{}_decode_{}\".format(model, model_iter)\n",
    "\n",
    "molopt, molopt_decoder, _, _, config, _ = load_checkpoint(args.output_dir + model_name)\n",
    "\n",
    "metrics = MolMetrics(SYMBOLS, FORMAL_CHARGES, BOND_TYPES, False)\n",
    "fgw_loss = FGW(alpha = 0.5)\n",
    "pen = PenaltyNew(config, model_iter)\n",
    "\n",
    "molopt_module_list = torch.nn.ModuleList([molopt, molopt_decoder])\n",
    "\n",
    "# molopt = MolOpt(args)\n",
    "# molopt_decoder = MolOptDecoder(args)\n",
    "print (molopt)\n",
    "print (molopt_decoder)\n",
    "print(molopt.args.model_type)\n",
    "pen.log()"
   ]
  },
  {
   "cell_type": "code",
   "execution_count": 6,
   "metadata": {},
   "outputs": [
    {
     "data": {
      "text/plain": [
       "4"
      ]
     },
     "execution_count": 6,
     "metadata": {},
     "output_type": "execute_result"
    }
   ],
   "source": [
    "metrics.no_bond_type"
   ]
  },
  {
   "cell_type": "code",
   "execution_count": 7,
   "metadata": {},
   "outputs": [
    {
     "data": {
      "text/plain": [
       "[False, False, False, False, True]"
      ]
     },
     "execution_count": 7,
     "metadata": {},
     "output_type": "execute_result"
    }
   ],
   "source": [
    "[x is None for x in metrics.BOND_TYPES]"
   ]
  },
  {
   "cell_type": "code",
   "execution_count": 8,
   "metadata": {},
   "outputs": [],
   "source": [
    "train_data_loader = get_loader(\"iclr19-graph2graph/data/qed\", \"train_pairs\", args.batch_size, True)\n",
    "\n",
    "for i in train_data_loader:\n",
    "    X = (MolGraph(i[0]))\n",
    "    Y = (MolGraph(i[1]))\n",
    "    break"
   ]
  },
  {
   "cell_type": "code",
   "execution_count": 17,
   "metadata": {
    "scrolled": true
   },
   "outputs": [
    {
     "name": "stdout",
     "output_type": "stream",
     "text": [
      "0.8033094787597657\n",
      "(tensor(0., device='cuda:0'), tensor(16.8787, device='cuda:0', grad_fn=<AddBackward0>), tensor(4.1408, device='cuda:0', grad_fn=<AddBackward0>))\n"
     ]
    },
    {
     "data": {
      "text/plain": [
       "{'molecular_disconnected_validity': 4.0,\n",
       " 'molecular_validity': 0.0,\n",
       " 'symbol_accuracy': 76.36700648748841,\n",
       " 'connected_components': 3.64,\n",
       " 'invalid_valency_nodes': 20.20389249304912,\n",
       " 'avg_euler_error': 0.69,\n",
       " 'invalid_euler_toofew': 36.0,\n",
       " 'invalid_euler_toomany': 14.000000000000002}"
      ]
     },
     "execution_count": 17,
     "metadata": {},
     "output_type": "execute_result"
    }
   ],
   "source": [
    "x_embedding = molopt.forward(X)\n",
    "yhat_logits = molopt_decoder.forward(x_embedding, X, Y)\n",
    "yhat_labels = molopt_decoder.discretize_argmax(*yhat_logits)\n",
    "yhat_labels = molopt_decoder.discretize(*yhat_logits, tau = pen.tau)\n",
    "pred_pack = (yhat_labels, yhat_logits, Y.scope), Y \n",
    "\n",
    "target = Y.get_graph_outputs()\n",
    "symbols_labels, charges_labels, bonds_labels = yhat_labels\n",
    "symbols_logits, charges_logits, bonds_logits = yhat_logits\n",
    "\n",
    "print (fgw_loss(*pred_pack, tau = 1).item()/args.batch_size)\n",
    "pen_loss = pen(*pred_pack, model_iter)\n",
    "print (pen_loss)\n",
    "metrics.measure_batch(pred_pack[0], target)"
   ]
  },
  {
   "cell_type": "code",
   "execution_count": 14,
   "metadata": {
    "scrolled": true
   },
   "outputs": [
    {
     "data": {
      "text/plain": [
       "{'avg_euler_error': 1.05,\n",
       " 'invalid_euler_toofew': 34.0,\n",
       " 'invalid_euler_toomany': 20.0}"
      ]
     },
     "execution_count": 14,
     "metadata": {},
     "output_type": "execute_result"
    }
   ],
   "source": [
    "metrics.batch_euler_num_edges(pred_pack[0], target)"
   ]
  },
  {
   "cell_type": "code",
   "execution_count": 15,
   "metadata": {},
   "outputs": [
    {
     "ename": "NameError",
     "evalue": "name 'bonds' is not defined",
     "output_type": "error",
     "traceback": [
      "\u001b[0;31m---------------------------------------------------------------------------\u001b[0m",
      "\u001b[0;31mNameError\u001b[0m                                 Traceback (most recent call last)",
      "\u001b[0;32m<ipython-input-15-144c297c8756>\u001b[0m in \u001b[0;36m<module>\u001b[0;34m\u001b[0m\n\u001b[0;32m----> 1\u001b[0;31m \u001b[0mtorch\u001b[0m\u001b[0;34m.\u001b[0m\u001b[0msum\u001b[0m\u001b[0;34m(\u001b[0m\u001b[0;34m~\u001b[0m\u001b[0;34m(\u001b[0m\u001b[0mbonds\u001b[0m \u001b[0;34m==\u001b[0m \u001b[0;36m4\u001b[0m\u001b[0;34m)\u001b[0m\u001b[0;34m)\u001b[0m\u001b[0;34m//\u001b[0m\u001b[0;36m2\u001b[0m\u001b[0;34m\u001b[0m\u001b[0;34m\u001b[0m\u001b[0m\n\u001b[0m",
      "\u001b[0;31mNameError\u001b[0m: name 'bonds' is not defined"
     ]
    }
   ],
   "source": [
    "torch.sum(~(bonds == 4))//2"
   ]
  },
  {
   "cell_type": "code",
   "execution_count": 16,
   "metadata": {},
   "outputs": [
    {
     "name": "stdout",
     "output_type": "stream",
     "text": [
      "C.C.C.C.C[AsH]CO.C[Sb]1CCC1[BiH]CSCC1CCC1.[SbH3]\n",
      "C.C.C.C.C.C.C.Cc1oC2O(C)C[Sb]12.N.[AsH3].[SeH2]\n",
      "C.C.C.CC12C(cn)[Sb]3(C)(C)C4NC1c41([sbH])(C[Te][SbH]1)C23.S\n",
      "C.C.C.C.C.C.C#S(C)(S)CNC.CC.CC.N\n",
      "C.C.CC12(C)CC([AlH]C(O)N1)C2[SbH2].C[AsH2].[SiH4].c[se]1CNC1\n",
      "C.CC1Cc23(Cs45c6[te]7C4[SiH]4CO64(C)C75)c[AsH]C2NC13\n",
      "CC1C2C3C456C7C8C9C2%10(C)C(C)SC1%10[sb]9312%10(C)c84(O)c73c5(C(=C31)C2)C6%10\n",
      "C.C.C.C.C.CC.CC[AsH2].CN1C2(P)C3C[SiH2]C31[As]2C\n",
      "C.C.C[BiH]C.cc1C(N)[Sb](C)C1N1(C[Te]C)C[PH](C)(C[BiH2])C1\n",
      "C.C.C.C.C.CN[Sb](C)SC.Cco(C)C.N[SbH][SeH]\n",
      "Co1sC2CCC23(N)c2n456cC27(C)(C)CN(C4[Sb]3C5)[As]1C67\n",
      "C.C.cs(C1S23C4(C)CC256[SbH]C3(C)([SiH]5CN)C146(C)C)N12C[BiH]C1[SeH]2C\n",
      "C.C.C.C.C.C.C.C.C.C.O.P.ccC.ccC1=[As](C)(C)CC1.cs\n",
      "C.C.C.C.C[Sb]=[PH]1(N)=N(C)C([SbH]23C4cc(c4)(CC2[SbH2])C3[TeH])N1\n",
      "C.CC12[Te][Al]3CC3CC13=[SH]C3O1C23[As]2C45CC267#[BiH]42C(N56)[TeH]3S12C7\n",
      "cc(CCC)c1([BiH2])-[sb](c)([SbH2])cS1(C)(C)(C)(C)([AsH2])C[SiH3]\n",
      "C.C.CNCN1CC23co(C2)C13[BiH2].CS.ccCCC\n",
      "C.C.CCC1(N)(N)(CC)SC[As]2C[AsH]13[BiH]C1(P)CC(C)n1c23[SbH]C.C[BiH2]\n",
      "C.C.C.C=C12345(C)C[SiH2][AsH][Sb]67(C)(C)(C1)C2C(CC)(C3)(C64)C75.CC1=CC1C\n",
      "C.C.C.C.C.CNs12cC[BiH]1(C)CC2C(N)CS.N.ccC\n",
      "C.C.C.CC1(C[sb]23c[SbH]C[Bi](C2)C324NC3C2CC34)CC2[SiH2]C21\n",
      "C.C.C1NCC12CSC2.CNs1c2(C)cC[AsH]3(C)C[SeH]1C23\n",
      "CC1NC12([AsH2])=PC[Al](CO)Cc134(C)(cC5(C)(C)(CCC51)(C3)C4)C=N2\n",
      "C.C.C.CC([SbH2])P1S[SH]234CC5CC67NC89O2C[As]682C[Bi]13(C)C2C5794\n",
      "C.CCC.COP[AsH2].C[Al]1Cn12sS(C)(C)(#[Bi])C2P\n",
      "C.C.C.C.CC1234CC56([BiH]1)C2C[As]312(C)=c(n53(S)C[SbH]([as]5c-[bi]5)(C1)C32)C64\n",
      "C.CP=C1[BiH]C23(C)(SC)CC4(C)(C)(C)(C)(CN1C24)C3.[SiH4]\n",
      "C.C.CC[Te]C.C[SbH]OCNc1c234C([SbH2])[AsH]5=C26[AsH]C32[SbH]C54(C)(N)([AsH2])S126.S\n",
      "C.C.C=[AsH]([SbH]C12c3c4C1C3(CC)C42C)C(CC)=[bi](C)cnCO\n",
      "CO1CC2(C)CC13c14[bi]3([BiH]2)-c12(C4)[As]1C[AlH2]12C1[AsH]C2C3cc14CN2[Sb]34\n",
      "C.C.C.C.C=[SiH2].CO12C[TeH](C1)C2([AlH2])Ncn.C[Sb](C)C\n",
      "C.C.C.C.C.CC1CC1.CNC.Nc[se].[BiH3]\n",
      "CBrC1C2OS1(O)[Si]2(C)Cc12[as]3c4C1C31(S)([BiH2])(CC(N)C1)N42.[AlH3].[SbH3]\n",
      "CC(C)[AsH]C(N)C(C)(C[SbH2])CFc1(C)cC1[TeH].[AsH3].[TeH2]\n",
      "cc1[sb]2CC[Sb](C3o4c56-c7c-489N5C4N68C75O36CCC6[PH]459)C[SeH](C1)C2\n",
      "C.C.C.C.CC.CNC1[Bi](C)C([SbH2])N1(C)C[AlH2].c[asH]\n",
      "C=CC([SiH2]Co(c)(C)c(=C)(C)p)c1(c)(C)CCC1\n",
      "CC1[AsH]COs23[te]4-c5c-26-cn-42N4[SH]2O=C46C2(NC[Si]523)[SbH]1.CN.N\n",
      "C.C.C.C.CN12CN345C[SH]6CN(C)(C)(C63)C4([SiH3])C3CC31OC25\n",
      "C.C.C.COCN12345(C)C[AsH]67c1c(C)(C)(C)CC1(C2)(C3NC614)C75\n",
      "C.C[SiH](C)C123CC45(N)=N1C1(C)C246CS2(C[TeH])C4[Sb]7[AsH]C4135(C)C726.S[SeH]\n",
      "C.C.C.C.C=N1C2(CC)NC3OC(C)[Bi]4CC(C2C)C31C4.O.S[TeH]\n",
      "C.C.C[SbH2].P.S.[BiH3].cc[SH](C[SbH]C)CC123(C)CC(C)(C)(C)(C1)(C2)C3\n",
      "C[Bi](C)C.SC1([AsH2])CC1C[AsH]12CC34C5CC3[As](C1C5)C42\n",
      "C.C.C.CS[As]=O12CC([Te]C[As]345cc(C)(C3)(C4)C5)C1C2\n",
      "C.CCN1C2c34p5(C)[AlH]c16s[SiH]21(C)C2(cc-3-51[Sb]26)C4.S.S\n",
      "C.C.C=C1C2#SC[SH]3C1(C2C)N1(C)C[Bi](C)C31[TeH].CNC[BiH2].S\n",
      "C.c[se].cn(C)(C)C1[SH]23([SbH2])CC14(C(N)[AlH]C)(C[AsH]C24)C3\n",
      "C=[AsH].CC[Se][AsH2].SC12CC(C1)C2.[SbH2]CC1cc1\n",
      "C.C.C.C.C.C[SbH]12C3C[Sb]456C78Nc14o(C37O)C25C1C=C186.O\n"
     ]
    }
   ],
   "source": [
    "bond_idx = 0\n",
    "smiles = []\n",
    "for mol_idx, (st, le) in enumerate(Y.scope):\n",
    "    pred_symbols = symbols_labels[st:st+le]\n",
    "    target_symbols = torch.argmax(target[mol_idx]['SYMBOLS'], dim=1)\n",
    "    \n",
    "    symbols = symbols_labels[st:st+le]\n",
    "    charges = charges_labels[st:st+le]\n",
    "    bonds = bonds_labels[bond_idx:bond_idx+le*le].view(le, le, -1)\n",
    "    bond_idx += le * le\n",
    "    smiles.append(feat2smiles(SYMBOLS, FORMAL_CHARGES, BOND_TYPES, symbols, charges, bonds, False))\n",
    "    print (smiles[-1])"
   ]
  },
  {
   "cell_type": "code",
   "execution_count": null,
   "metadata": {},
   "outputs": [],
   "source": []
  }
 ],
 "metadata": {
  "kernelspec": {
   "display_name": "Python 3",
   "language": "python",
   "name": "python3"
  },
  "language_info": {
   "codemirror_mode": {
    "name": "ipython",
    "version": 3
   },
   "file_extension": ".py",
   "mimetype": "text/x-python",
   "name": "python",
   "nbconvert_exporter": "python",
   "pygments_lexer": "ipython3",
   "version": "3.6.8"
  }
 },
 "nbformat": 4,
 "nbformat_minor": 4
}
