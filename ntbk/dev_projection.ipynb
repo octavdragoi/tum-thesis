{
 "cells": [
  {
   "cell_type": "code",
   "execution_count": 3,
   "metadata": {},
   "outputs": [
    {
     "name": "stdout",
     "output_type": "stream",
     "text": [
      "/home/octav/gitrepos/tum-thesis\n"
     ]
    }
   ],
   "source": [
    "import os\n",
    "if \"ntbk\" in os.getcwd():\n",
    "    os.chdir(\"..\")\n",
    "print(os.getcwd())\n",
    "\n",
    "import sys\n",
    "sys.path.append(os.path.join(os.getcwd(), \"otgnn\"))\n",
    "\n",
    "\n",
    "%load_ext autoreload\n",
    "%autoreload 2"
   ]
  },
  {
   "cell_type": "code",
   "execution_count": 4,
   "metadata": {},
   "outputs": [],
   "source": [
    "from otgnn.models import GCN, compute_ot\n",
    "from otgnn.graph import MolGraph\n",
    "from otgnn.utils import save_model, load_model\n",
    "\n",
    "from mol_opt.data_mol_opt import MolOptDataset\n",
    "from mol_opt.data_mol_opt import get_loader\n",
    "from mol_opt.arguments import get_args\n",
    "from mol_opt.train_mol_opt import main, get_latest_model\n",
    "from mol_opt.mol_opt import MolOpt\n",
    "\n",
    "from rdkit.Chem import MolFromSmiles\n",
    "\n",
    "import torch\n",
    "from torch.autograd import Variable\n",
    "import numpy as np\n",
    "import time"
   ]
  },
  {
   "cell_type": "code",
   "execution_count": 6,
   "metadata": {},
   "outputs": [],
   "source": [
    "data_loader = get_loader(\"iclr19-graph2graph/data/qed\", \"val\", 48, False)"
   ]
  },
  {
   "cell_type": "code",
   "execution_count": 7,
   "metadata": {},
   "outputs": [],
   "source": [
    "for i in data_loader:\n",
    "    X = (MolGraph(i[0]))\n",
    "    Y = (MolGraph(i[1]))\n",
    "    break"
   ]
  },
  {
   "cell_type": "code",
   "execution_count": 8,
   "metadata": {},
   "outputs": [
    {
     "data": {
      "text/plain": [
       "MolOpt(\n",
       "  (GCN): GCN(\n",
       "    (W_message_i): Linear(in_features=100, out_features=50, bias=False)\n",
       "    (W_message_h): Linear(in_features=50, out_features=50, bias=False)\n",
       "    (W_message_o): Linear(in_features=143, out_features=50, bias=True)\n",
       "    (W_mol_h): Linear(in_features=50, out_features=100, bias=True)\n",
       "    (W_mol_o): Linear(in_features=100, out_features=1, bias=True)\n",
       "    (dropout_gcn): Dropout(p=0.0, inplace=False)\n",
       "    (dropout_ffn): Dropout(p=0.0, inplace=False)\n",
       "  )\n",
       "  (opt0): Linear(in_features=50, out_features=50, bias=True)\n",
       "  (opt1): Linear(in_features=50, out_features=50, bias=True)\n",
       ")"
      ]
     },
     "execution_count": 8,
     "metadata": {},
     "output_type": "execute_result"
    }
   ],
   "source": [
    "sys.argv = [\"\", \"-cuda\"]\n",
    "args = get_args()\n",
    "args.output_dir = \"mol_opt/output/\"\n",
    "molopt = MolOpt(args).to(device = args.device)\n",
    "molopt"
   ]
  },
  {
   "cell_type": "code",
   "execution_count": 12,
   "metadata": {},
   "outputs": [
    {
     "data": {
      "text/plain": [
       "tensor([[ 0.1016,  0.9755,  0.4594,  ...,  0.7711,  0.0087, -0.1619],\n",
       "        [ 0.9830,  0.9040,  0.4739,  ...,  0.3547,  0.1629,  0.8527],\n",
       "        [-0.4082,  0.0397, -1.5386,  ...,  1.9711, -0.4085,  0.9072],\n",
       "        ...,\n",
       "        [ 0.8164, -0.2478,  0.1603,  ..., -0.1824, -0.9644,  0.2617],\n",
       "        [ 2.2706, -1.9566,  0.4781,  ...,  0.4993,  0.3142, -0.8587],\n",
       "        [-0.7495, -1.9705,  0.6760,  ...,  2.6502,  0.3984,  0.0431]],\n",
       "       device='cuda:0', requires_grad=True)"
      ]
     },
     "execution_count": 12,
     "metadata": {},
     "output_type": "execute_result"
    }
   ],
   "source": [
    "molopt.ref"
   ]
  },
  {
   "cell_type": "code",
   "execution_count": 13,
   "metadata": {},
   "outputs": [
    {
     "data": {
      "text/plain": [
       "tensor([[ 0.1016,  0.9755,  0.4594,  ...,  0.7711,  0.0087, -0.1619],\n",
       "        [ 0.9830,  0.9040,  0.4739,  ...,  0.3547,  0.1629,  0.8527],\n",
       "        [-0.4082,  0.0397, -1.5386,  ...,  1.9711, -0.4085,  0.9072],\n",
       "        ...,\n",
       "        [ 0.8164, -0.2478,  0.1603,  ..., -0.1824, -0.9644,  0.2617],\n",
       "        [ 2.2706, -1.9566,  0.4781,  ...,  0.4993,  0.3142, -0.8587],\n",
       "        [-0.7495, -1.9705,  0.6760,  ...,  2.6502,  0.3984,  0.0431]],\n",
       "       device='cuda:0', requires_grad=True)"
      ]
     },
     "execution_count": 13,
     "metadata": {},
     "output_type": "execute_result"
    }
   ],
   "source": [
    "molopt.ref"
   ]
  },
  {
   "cell_type": "code",
   "execution_count": 14,
   "metadata": {},
   "outputs": [],
   "source": [
    "molopt.Nref = molopt.ref.shape[0]"
   ]
  },
  {
   "cell_type": "code",
   "execution_count": 15,
   "metadata": {},
   "outputs": [],
   "source": [
    "tg_embedding = torch.empty(molopt.Nref * len(X.scope), 50, device = args.device)"
   ]
  },
  {
   "cell_type": "code",
   "execution_count": 16,
   "metadata": {},
   "outputs": [
    {
     "data": {
      "text/plain": [
       "torch.Size([1920, 50])"
      ]
     },
     "execution_count": 16,
     "metadata": {},
     "output_type": "execute_result"
    }
   ],
   "source": [
    "tg_embedding.shape"
   ]
  },
  {
   "cell_type": "code",
   "execution_count": 17,
   "metadata": {},
   "outputs": [
    {
     "name": "stderr",
     "output_type": "stream",
     "text": [
      "/home/octav/anaconda3/envs/mol_ot/lib/python3.6/site-packages/ot/lp/__init__.py:276: UserWarning: numItermax reached before optimality. Try to increase numItermax.\n",
      "  result_code_string = check_result(result_code)\n"
     ]
    }
   ],
   "source": [
    "embedding = molopt.encode(X)"
   ]
  },
  {
   "cell_type": "code",
   "execution_count": 28,
   "metadata": {},
   "outputs": [],
   "source": [
    "for i, (stx, lex) in enumerate(X.scope):\n",
    "    narrow = embedding.narrow(0, stx, lex)\n",
    "    H = np.ones(lex)/lex\n",
    "    _,_,OT_xy,_ = compute_ot(narrow, molopt.ref, H, molopt.Href, sinkhorn_entropy = 0.1, device = args.device,\n",
    "                            opt_method = 'emd')\n",
    "    V = torch.matmul((molopt.Nref * OT_xy).T, narrow) - molopt.ref\n",
    "    tg_embedding[i*molopt.Nref : (i+1)*molopt.Nref,:] = V / np.sqrt(molopt.Nref)"
   ]
  },
  {
   "cell_type": "code",
   "execution_count": 29,
   "metadata": {},
   "outputs": [],
   "source": [
    "V = torch.matmul((molopt.Nref * OT_xy).T, narrow) - molopt.ref"
   ]
  },
  {
   "cell_type": "code",
   "execution_count": 30,
   "metadata": {},
   "outputs": [
    {
     "data": {
      "text/plain": [
       "tensor([[-2.9584e-03, -1.4681e-01, -9.3173e-02,  ..., -1.0403e-01,\n",
       "         -1.1898e-02,  3.8689e-02],\n",
       "        [-1.3515e-01, -1.6102e-01, -7.7645e-02,  ..., -5.3740e-02,\n",
       "         -1.2072e-02, -1.4962e-01],\n",
       "        [ 9.9245e-02,  3.4363e-03,  2.2038e-01,  ..., -2.8568e-01,\n",
       "          7.4675e-02, -1.3289e-01],\n",
       "        ...,\n",
       "        [-1.5738e-01,  1.6620e-02, -5.6824e-02,  ...,  3.0537e-02,\n",
       "          9.0969e-02, -3.2934e-02],\n",
       "        [-3.0833e-01,  2.6196e-01, -8.2754e-02,  ..., -7.3652e-02,\n",
       "         -1.1134e-02,  9.4832e-02],\n",
       "        [ 1.0359e-01,  2.9045e-01, -6.9150e-02,  ..., -4.2287e-01,\n",
       "         -4.6867e-02,  1.4428e-04]], device='cuda:0', grad_fn=<CopySlices>)"
      ]
     },
     "execution_count": 30,
     "metadata": {},
     "output_type": "execute_result"
    }
   ],
   "source": [
    "tg_embedding"
   ]
  },
  {
   "cell_type": "code",
   "execution_count": 32,
   "metadata": {},
   "outputs": [
    {
     "data": {
      "text/plain": [
       "tensor([[ 0.1016,  0.9755,  0.4594,  ...,  0.7711,  0.0087, -0.1619],\n",
       "        [ 0.9830,  0.9040,  0.4739,  ...,  0.3547,  0.1629,  0.8527],\n",
       "        [-0.4082,  0.0397, -1.5386,  ...,  1.9711, -0.4085,  0.9072],\n",
       "        ...,\n",
       "        [ 0.8164, -0.2478,  0.1603,  ..., -0.1824, -0.9644,  0.2617],\n",
       "        [ 2.2706, -1.9566,  0.4781,  ...,  0.4993,  0.3142, -0.8587],\n",
       "        [-0.7495, -1.9705,  0.6760,  ...,  2.6502,  0.3984,  0.0431]],\n",
       "       device='cuda:0', requires_grad=True)"
      ]
     },
     "execution_count": 32,
     "metadata": {},
     "output_type": "execute_result"
    }
   ],
   "source": [
    "molopt.ref"
   ]
  },
  {
   "cell_type": "code",
   "execution_count": 33,
   "metadata": {},
   "outputs": [
    {
     "data": {
      "text/plain": [
       "tensor([[-1.9532e-01, -8.9288e-01, -5.1413e-01,  ..., -7.9166e-01,\n",
       "          7.2271e-02,  1.5796e-01],\n",
       "        [-9.8297e-01, -9.0404e-01, -4.7385e-01,  ..., -3.5465e-01,\n",
       "         -1.6292e-01, -8.5272e-01],\n",
       "        [ 6.1862e-01,  2.8528e-02,  1.3885e+00,  ..., -1.7882e+00,\n",
       "          5.0211e-01, -8.5508e-01],\n",
       "        ...,\n",
       "        [-9.9534e-01,  1.0512e-01, -3.5939e-01,  ...,  1.9313e-01,\n",
       "          5.7534e-01, -2.0830e-01],\n",
       "        [-1.9500e+00,  1.6568e+00, -5.2338e-01,  ..., -4.6582e-01,\n",
       "         -7.0417e-02,  5.9977e-01],\n",
       "        [ 6.5516e-01,  1.8370e+00, -4.3734e-01,  ..., -2.6745e+00,\n",
       "         -2.9641e-01,  9.1248e-04]], device='cuda:0', grad_fn=<SubBackward0>)"
      ]
     },
     "execution_count": 33,
     "metadata": {},
     "output_type": "execute_result"
    }
   ],
   "source": [
    "V"
   ]
  }
 ],
 "metadata": {
  "kernelspec": {
   "display_name": "Python 3",
   "language": "python",
   "name": "python3"
  },
  "language_info": {
   "codemirror_mode": {
    "name": "ipython",
    "version": 3
   },
   "file_extension": ".py",
   "mimetype": "text/x-python",
   "name": "python",
   "nbconvert_exporter": "python",
   "pygments_lexer": "ipython3",
   "version": "3.6.8"
  }
 },
 "nbformat": 4,
 "nbformat_minor": 4
}
