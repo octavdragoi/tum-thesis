{
 "cells": [
  {
   "cell_type": "code",
   "execution_count": 82,
   "metadata": {},
   "outputs": [
    {
     "name": "stdout",
     "output_type": "stream",
     "text": [
      "/home/octav/gitrepos/tum-thesis\n",
      "The autoreload extension is already loaded. To reload it, use:\n",
      "  %reload_ext autoreload\n"
     ]
    }
   ],
   "source": [
    "import os\n",
    "if \"ntbk\" in os.getcwd():\n",
    "    os.chdir(\"..\")\n",
    "print(os.getcwd())\n",
    "\n",
    "import sys\n",
    "sys.path.append(os.path.join(os.getcwd(), \"otgnn\"))\n",
    "sys.path.append(os.path.join(os.getcwd(), \"molgen\"))\n",
    "\n",
    "\n",
    "%load_ext autoreload\n",
    "%autoreload 2\n",
    "\n",
    "from otgnn.models import GCN\n",
    "# from molgen.dataloading.MolGraphBatchPreprocessor import MolGraph\n",
    "from otgnn.graph import MolGraph\n",
    "from otgnn.utils import save_model, load_model\n",
    "from otgnn.graph import SYMBOLS, FORMAL_CHARGES, BOND_TYPES\n",
    "\n",
    "\n",
    "from mol_opt.data_mol_opt import MolOptDataset\n",
    "from mol_opt.data_mol_opt import get_loader\n",
    "from mol_opt.arguments import get_args\n",
    "from mol_opt.train_mol_opt import main, load_checkpoint\n",
    "from mol_opt.mol_opt import MolOpt\n",
    "from mol_opt.decoder_mol_opt import MolOptDecoder\n",
    "from mol_opt.ot_utils import encode_target\n",
    "from mol_opt.ot_utils import FGW \n",
    "from mol_opt.ot_utils import compute_barycenter\n",
    "\n",
    "from molgen.dataloading.feat2smiles import feat2smiles\n",
    "from molgen.dataloading.mol_drawer import MolDrawer\n",
    "from molgen.metrics.Penalty import Penalty\n",
    "from molgen.metrics.mol_metrics import MolMetrics\n",
    "\n",
    "from rdkit.Chem import MolFromSmiles\n",
    "from tensorboardX import SummaryWriter\n",
    "\n",
    "import torch\n",
    "import torch.nn.functional as F\n",
    "import numpy as np\n",
    "import time\n",
    "from rdkit import Chem\n",
    "from rdkit.Chem.Draw import IPythonConsole\n",
    "from molgen.metrics.Penalty import Penalty as PenaltyNew\n",
    "\n",
    "import matplotlib.pyplot as plt\n",
    "%matplotlib inline\n",
    "plt.style.use('dark_background')"
   ]
  },
  {
   "cell_type": "code",
   "execution_count": 100,
   "metadata": {},
   "outputs": [
    {
     "data": {
      "text/plain": [
       "Namespace(N_transformer=6, agg_func='sum', annealing_rate=0.0001, batch_norm=False, batch_size=50, conn_penalty_function='logdet', connectivity=True, connectivity_hard=False, connectivity_lambda=0.025, cuda=True, device='cuda:0', dim_tangent_space=40, dropout_ffn=0.0, dropout_gcn=0.0, dropout_transformer=0.1, euler_characteristic_penalty=True, euler_lambda=0.3, ffn_activation='LeakyReLU', init_decoder_model='pointwise10-onebatch-euler-valency-scale2_decode', init_model='pointwise10-onebatch-euler-valency-scale2', linear_out=False, model_type='pointwise', n_epochs=10, n_ffn_hidden=100, n_ffn_transformer=100, n_heads_transformer=10, n_hidden=250, n_labels=1, n_layers=5, one_batch_train=True, ot_solver='emd', output_dir='mol_opt/output_pointwise10-onebatch/', pc_hidden=100, pred_hidden=150, scale_lambdas=False, sinkhorn_entropy=0.1, sinkhorn_max_it=10000, task='qed', tb_logs_dir='mol_opt/logs_pointwise10-onebatch/', valency=True, valency_hard=False, valency_lambda=0.07)"
      ]
     },
     "execution_count": 100,
     "metadata": {},
     "output_type": "execute_result"
    }
   ],
   "source": [
    "model_type = \"pointwise\"\n",
    "sys.argv = [\"\", \"-cuda\", \"-model_type\", model_type, \"-one_batch_train\"]\n",
    "args = get_args()\n",
    "args.init_model = f\"{model_type}10-onebatch\"\n",
    "args.output_dir = \"mol_opt/output_{}/\".format(args.init_model)\n",
    "args.tb_logs_dir = \"mol_opt/logs_{}/\".format(args.init_model)\n",
    "args.init_model = \"{}10-onebatch-euler-valency-scale2\".format(model_type)\n",
    "args.init_decoder_model = \"{}_decode\".format(args.init_model)\n",
    "args.batch_size = 50\n",
    "args.conn_penalty_function = 'logdet'\n",
    "args"
   ]
  },
  {
   "cell_type": "code",
   "execution_count": 101,
   "metadata": {},
   "outputs": [
    {
     "name": "stdout",
     "output_type": "stream",
     "text": [
      "mol_opt/output_pointwise10-onebatch/model_pointwise10-onebatch-euler-valency-scale2_1000\n",
      "MolOpt(\n",
      "  (GCN): GCN(\n",
      "    (W_message_i): Linear(in_features=100, out_features=250, bias=False)\n",
      "    (W_message_h): Linear(in_features=250, out_features=250, bias=False)\n",
      "    (W_message_o): Linear(in_features=343, out_features=100, bias=True)\n",
      "    (W_mol_h): Linear(in_features=100, out_features=100, bias=True)\n",
      "    (W_mol_o): Linear(in_features=100, out_features=1, bias=True)\n",
      "    (dropout_gcn): Dropout(p=0.0, inplace=False)\n",
      "    (dropout_ffn): Dropout(p=0.0, inplace=False)\n",
      "  )\n",
      "  (opt0): Linear(in_features=100, out_features=250, bias=True)\n",
      "  (opt1): Linear(in_features=250, out_features=100, bias=True)\n",
      ")\n",
      "MolOptDecoder(\n",
      "  (fc1_SYMBOLS): Linear(in_features=100, out_features=150, bias=True)\n",
      "  (fc2_SYMBOLS): Linear(in_features=150, out_features=64, bias=True)\n",
      "  (fc1_CHARGES): Linear(in_features=100, out_features=150, bias=True)\n",
      "  (fc2_CHARGES): Linear(in_features=150, out_features=5, bias=True)\n",
      "  (fc1_BONDS): Linear(in_features=200, out_features=300, bias=True)\n",
      "  (fc2_BONDS): Linear(in_features=300, out_features=5, bias=True)\n",
      ")\n",
      "pointwise\n",
      "Penalty params: tau=0.81871 conn_l=0.00000 val_l=1.22138 euler_l=1.22138 epoch=1001\n"
     ]
    }
   ],
   "source": [
    "model = args.init_model\n",
    "model_iter = 1000 \n",
    "\n",
    "model_name = \"model_{}_{}\".format(model, model_iter)\n",
    "print(args.output_dir + model_name)\n",
    "model_decode_name = \"model_{}_decode_{}\".format(model, model_iter)\n",
    "\n",
    "molopt, molopt_decoder, _, _, config, _ = load_checkpoint(args.output_dir + model_name)\n",
    "\n",
    "metrics = MolMetrics(SYMBOLS, FORMAL_CHARGES, BOND_TYPES, False)\n",
    "fgw_loss = FGW(alpha = 0.5)\n",
    "pen = PenaltyNew(config, model_iter)\n",
    "\n",
    "molopt_module_list = torch.nn.ModuleList([molopt, molopt_decoder])\n",
    "\n",
    "# molopt = MolOpt(args)\n",
    "# molopt_decoder = MolOptDecoder(args)\n",
    "print (molopt)\n",
    "print (molopt_decoder)\n",
    "print(molopt.args.model_type)\n",
    "pen.log()"
   ]
  },
  {
   "cell_type": "code",
   "execution_count": 102,
   "metadata": {},
   "outputs": [],
   "source": [
    "train_data_loader = get_loader(\"iclr19-graph2graph/data/qed\", \"train_pairs\", args.batch_size, True)\n",
    "\n",
    "for i in train_data_loader:\n",
    "    X = (MolGraph(i[0]))\n",
    "    Y = (MolGraph(i[1]))\n",
    "    break"
   ]
  },
  {
   "cell_type": "code",
   "execution_count": 142,
   "metadata": {
    "scrolled": true
   },
   "outputs": [
    {
     "name": "stdout",
     "output_type": "stream",
     "text": [
      "0.8033094787597657\n",
      "(tensor(0., device='cuda:0'), tensor(15.6229, device='cuda:0', grad_fn=<AddBackward0>), tensor(6.6467, device='cuda:0', grad_fn=<AddBackward0>))\n"
     ]
    },
    {
     "data": {
      "text/plain": [
       "{'molecular_disconnected_validity': 12.0,\n",
       " 'molecular_validity': 0.0,\n",
       " 'symbol_accuracy': 75.2548656163114,\n",
       " 'connected_components': 4.06,\n",
       " 'invalid_valency_nodes': 20.574606116774792}"
      ]
     },
     "execution_count": 142,
     "metadata": {},
     "output_type": "execute_result"
    }
   ],
   "source": [
    "x_embedding = molopt.forward(X)\n",
    "yhat_logits = molopt_decoder.forward(x_embedding, X, Y)\n",
    "yhat_labels = molopt_decoder.discretize_argmax(*yhat_logits)\n",
    "yhat_labels = molopt_decoder.discretize(*yhat_logits, tau = pen.tau)\n",
    "pred_pack = (yhat_labels, yhat_logits, Y.scope), Y \n",
    "\n",
    "target = Y.get_graph_outputs()\n",
    "symbols_labels, charges_labels, bonds_labels = yhat_labels\n",
    "symbols_logits, charges_logits, bonds_logits = yhat_logits\n",
    "\n",
    "print (fgw_loss(*pred_pack, tau = 1).item()/args.batch_size)\n",
    "pen_loss = pen(*pred_pack, model_iter)\n",
    "print (pen_loss)\n",
    "metrics.measure_batch(pred_pack[0], target)"
   ]
  },
  {
   "cell_type": "code",
   "execution_count": 143,
   "metadata": {},
   "outputs": [
    {
     "data": {
      "text/plain": [
       "[0.0, 0.3124577713012695, 0.13293319702148437]"
      ]
     },
     "execution_count": 143,
     "metadata": {},
     "output_type": "execute_result"
    }
   ],
   "source": [
    "[x.item() / args.batch_size for x in pen_loss]"
   ]
  },
  {
   "cell_type": "code",
   "execution_count": 144,
   "metadata": {
    "scrolled": true
   },
   "outputs": [
    {
     "name": "stdout",
     "output_type": "stream",
     "text": [
      "C=c[se].cnC[SiH]=[AsH]1C[SeH]1COC1C2CC1(C)(C)C2[SH](C)C\n",
      "C.C.C.C.C.C.COSC1[SiH]2[SbH][AsH]1(S)C2S.S.[AsH3]\n",
      "C.COC.CPC.Cs1c=C2CC(C2)[BiH](C)(C)C1O.S[BiH2]\n",
      "C.C.C.C.C.C.CNCP1(C)(C)C[Al](CN)C1.S\n",
      "C.C.CP.C[Se]12C(N)Sc13(C)(C)cC2[Bi]3CC[SbH2].O.S.[TeH2]\n",
      "C=[Si]12(C(OC)[Sb]3C[AsH]4(C)Cc34c)CC(C)(C)(C1)C2[SbH2].[AlH3]\n",
      "C.C.C.C=cc[Te](C)(c[al]N=PC)C(C)N1(=CN)CNC1N.[SeH2].[SiH4]\n",
      "C.C.C.C.CCO(C)CO1CN23C4[SH]5C2N4(C)C153.N.[AsH3]\n",
      "C.C.C.CCC(N)C(CNC)pcc[SbH]C.N.[AsH3].c[si](C)C\n",
      "C.C.CN.CS.Ccc[SbH](C)(CC)C(N)[TeH](C)C.[AsH3]\n",
      "C.CP1C2C(C)(C)C[SH]3C[bi]24(C([AsH2])[PbH])cN4CC2C[AsH]C213\n",
      "C.C.C.CCS12(C[AsH2])(C[AsH2])CC(C1)C2(C)(S)[AsH2].CO.C[BiH]cp.O.P\n",
      "C.C.C.C.CC.CCC(C)ccCN(C)(C)(C)(C)(C)(C)CC.S.[AsH3].[AsH3]\n",
      "C.N.S.[AsH3].[SiH4].[TeH2].cc12(C([SbH2])C3CN(C)C3)c-[sb]3(c-1C3)C2(C)C\n",
      "C=CSCC[SbH2].C[AsH]cn.C[BiH]1(C)C(S)CC(N)CC1(C)(C)S\n",
      "C.C.CC[SbH2].CN1(C)(C)(C)C[Sb]2cpC21.OS.P.S\n",
      "C.C.C.C.CC(ccCN)CC(N)OC[SiH](C)CS.[AlH3]\n",
      "CC1([AsH](C)(C)C)[si]([BiH2])cl1O.CNC.CNc[as](C)C12C3=C4C1C(PP3)C42\n",
      "C.C.C.C.C.CC1C2CN1(C)(C)(Cc1c[as]-1)C2N12(C)(C)(C)c[as](s1)C2\n",
      "C.C.C.cc1(C)CC([Al]234(C)CC(C2)c32c3(C)(C)C=[Te]=2(C3)C4)C1\n",
      "CNC.cc12CCC3(C)[SbH]1([AsH2])C1C4[SH]([SbH]N)C13(S)C41C[AsH]C12\n",
      "C.C.CO1(C)C=C(CP)C1.C[SbH](C)(C)C[As]1C[AsH]C1.S[SbH2]\n",
      "C.C.C[BiH]c123cc4([al]-1)c15(C)(CO2)(CS3)C2NC1C21(C)CCCN4C15\n",
      "CC1CC[Sb](C)C1.CN1C2SC3c45([BiH2])cC236(CCC6(C)N)(C4)C15\n",
      "C.C.C.CC1CC(C)(C)C1.CIC.CS[BiH2].C[AsH2].[SeH2]\n",
      "C.C=N1CC2C3CC2(C)(N)([TeH]2C[Al](C)[As](C)C2C)(N3)C(C)(C)C1.[SbH3]\n",
      "C.C.C.[SeH2].cc1-ncC12CCCC(C)(C)(C)(C)C[AsH]C2\n",
      "CC1O2CC345[As]6[Al](CP1C=[PH](C)C)C23C12(C)C43([SeH])C4C178(C)CC452([AlH]7)C638.[SbH3]\n",
      "C.C.CC1C23NC14([SbH2])C2CC34C.CN1CN(C)(cn[sbH])C1.S.[BiH3]\n",
      "C.C.C.Cc123c45c-1-c416(C)c-2cC=1=Cp6-3[AlH2]=5P[AsH]12[As]3C4C15CC42C35.P\n",
      "C.C.C.CC1C([SbH](C)(C)C)ncCC1(C)(N)S.N.[SbH3].[TeH2]\n",
      "C.C.C.C1N2C[Bi]1C2.S.c1c[SbH]C=1.nc[AsH2]\n",
      "C.C.C[AsH2].C[sb]c1[sb]2c[SiH](C2)C2(C)C3C4Nc3([al]-12)=[SiH]4.N.N.N.N.[TeH2]\n",
      "C.C.P.S.cc12C3C[Se]C(C4SC(CC)C4[As]31)[SeH]2C\n",
      "C[sb]12([SbH2])c345(O)N6C789C%10%11C%12[TeH]3C%103S%127c6%11-1(s38-4)-[siH]cC95CCS2.[SeH2].ccp\n",
      "C.C.C.C.CCC(S)C(C)C[AsH2].CCCPC.C[SiH3]\n",
      "C.CC12c3c4(C)C1[SH]3C24.CC1CC=C(N(C)C)[SbH]1\n",
      "C=[SbH].CCC.O.O.[BiH2]n12c34#C([bi]c-35[PH]13CC1C3S152)[Sb]1C[Al](C1)C4\n",
      "C.C.C.C.C.CCC([BiH2])N123C[AsH]o145c21([AsH2])[SiH]3C14(O)C(C)C5.S\n",
      "C.C.C.[AlH3].[SbH3].c[bi](CC)CC12(C)CC34(C)Cs5c[Sb]6C31NC5642\n",
      "C.C.C.C.CC1C2N3[Sb]4n5(CO)cC(C5)C(PCN)C5C6CC153[Te]624\n",
      "C.C.C.C.C=C[SbH2].C=[SiH2].C[sb]c(C)c1(CSS)-c[se]([SbH2])[BiH]1.S.S[AsH2]\n",
      "C.C.C.N.N.cc([BiH2])C[Se]1(CS23456(C)CN([BiH2])(C2)(C3)(C4)(C5)C6)C[AsH]C1\n",
      "C.C[Al]=C[SeH].NCC1CNC23CC[SbH]24CC3C14.ccC\n",
      "C.C=[bi]1(S)cC23=c(CN45C=N(C)(C)(C4)C5)(c2)-c13[BiH]C.[TeH2]\n",
      "C.C.C.CC(N)(O)[SbH2].CN1(C)cc23C=C45(C)cc-24C315.[TeH2]\n",
      "C.C.C.C.C.CN.C[AsH]C([AsH2])C(C)C1C[SbH]C(C)[AlH]CNC[BiH]1\n",
      "C.C.CN1CC(C)([BiH2])C1P.C[Sb]1[TeH]2C[Bi]1C[AsH]1=C[Si]12C\n",
      "co(CC(C)CNC)CN12C3[Sb]([BiH2])C14#C1C4C132\n",
      "C.C.C.C.CO1CC(CCC[AlH2])(C2(O)CC2)[SbH]C1=[Te].CS\n"
     ]
    }
   ],
   "source": [
    "bond_idx = 0\n",
    "smiles = []\n",
    "for mol_idx, (st, le) in enumerate(Y.scope):\n",
    "    pred_symbols = symbols_labels[st:st+le]\n",
    "    target_symbols = torch.argmax(target[mol_idx]['SYMBOLS'], dim=1)\n",
    "    \n",
    "    symbols = symbols_labels[st:st+le]\n",
    "    charges = charges_labels[st:st+le]\n",
    "    bonds = bonds_labels[bond_idx:bond_idx+le*le].view(le, le, -1)\n",
    "    bond_idx += le * le\n",
    "    smiles.append(feat2smiles(SYMBOLS, FORMAL_CHARGES, BOND_TYPES, symbols, charges, bonds, False))\n",
    "    print (smiles[-1])"
   ]
  },
  {
   "cell_type": "code",
   "execution_count": 145,
   "metadata": {},
   "outputs": [
    {
     "data": {
      "image/png": "[encoded data removed]",
      "text/plain": [
       "<rdkit.Chem.rdchem.Mol at 0x7f7861c16ee0>"
      ]
     },
     "execution_count": 145,
     "metadata": {},
     "output_type": "execute_result"
    }
   ],
   "source": [
    "Chem.MolFromSmiles(smiles[0], sanitize = False)"
   ]
  },
  {
   "cell_type": "code",
   "execution_count": 136,
   "metadata": {
    "scrolled": true
   },
   "outputs": [
    {
     "data": {
      "text/plain": [
       "tensor([0, 0, 2, 1, 0, 0, 0, 0, 2, 1, 0, 0, 1, 0, 0, 0, 0, 0, 0, 0, 3, 0])"
      ]
     },
     "execution_count": 136,
     "metadata": {},
     "output_type": "execute_result"
    }
   ],
   "source": [
    "mol_idx = 0 \n",
    "torch.argmax(target[mol_idx]['SYMBOLS'], dim=1)"
   ]
  },
  {
   "cell_type": "code",
   "execution_count": 137,
   "metadata": {},
   "outputs": [
    {
     "data": {
      "text/plain": [
       "tensor(2.0730, device='cuda:0', grad_fn=<MaxBackward1>)"
      ]
     },
     "execution_count": 137,
     "metadata": {},
     "output_type": "execute_result"
    }
   ],
   "source": [
    "(x_embedding.mean(axis = 0) / x_embedding.std(axis = 0)).abs().max()"
   ]
  },
  {
   "cell_type": "code",
   "execution_count": 138,
   "metadata": {},
   "outputs": [
    {
     "data": {
      "text/plain": [
       "tensor([[-0.0931, -0.2024, -0.4638,  ..., -0.4840,  0.5632,  0.3798],\n",
       "        [-0.0430, -0.0418,  0.0322,  ..., -0.0047,  0.0708,  0.0709],\n",
       "        [-0.0711, -0.1473, -0.2827,  ..., -0.2868,  0.3847,  0.2519],\n",
       "        ...,\n",
       "        [-0.0408,  0.0323,  0.7002,  ...,  0.3530, -0.4757, -0.1548],\n",
       "        [-0.1191, -0.1112,  0.1674,  ...,  0.0200, -0.0557,  0.0492],\n",
       "        [-0.1153, -0.1541, -0.1708,  ..., -0.2086,  0.2693,  0.2168]],\n",
       "       device='cuda:0', grad_fn=<AddmmBackward>)"
      ]
     },
     "execution_count": 138,
     "metadata": {},
     "output_type": "execute_result"
    }
   ],
   "source": [
    "x_embedding"
   ]
  },
  {
   "cell_type": "code",
   "execution_count": 146,
   "metadata": {},
   "outputs": [
    {
     "name": "stdout",
     "output_type": "stream",
     "text": [
      "C=c[se].cnC[SiH]=[AsH]1C[SeH]1COC1C2CC1(C)(C)C2[SH](C)C\n",
      "C.C.C.C.C.C.COSC1[SiH]2[SbH][AsH]1(S)C2S.S.[AsH3]\n",
      "C.COC.CPC.Cs1c=C2CC(C2)[BiH](C)(C)C1O.S[BiH2]\n",
      "C.C.C.C.C.C.CNCP1(C)(C)C[Al](CN)C1.S\n",
      "C.C.CP.C[Se]12C(N)Sc13(C)(C)cC2[Bi]3CC[SbH2].O.S.[TeH2]\n",
      "C=[Si]12(C(OC)[Sb]3C[AsH]4(C)Cc34c)CC(C)(C)(C1)C2[SbH2].[AlH3]\n",
      "C.C.C.C=cc[Te](C)(c[al]N=PC)C(C)N1(=CN)CNC1N.[SeH2].[SiH4]\n",
      "'NoneType' object has no attribute 'ToBinary'\n",
      " RDKit drawing crashed while drawing PREDICTION!\n",
      "smiles: {self.last_target}\n",
      "prediction: {self.last_prediction}\n",
      "Continuing on to the next molecule.\n",
      "C.C.C.C.CCO(C)CO1CN23C4[SH]5C2N4(C)C153.N.[AsH3]\n",
      "C.C.C.CCC(N)C(CNC)pcc[SbH]C.N.[AsH3].c[si](C)C\n",
      "C.C.CN.CS.Ccc[SbH](C)(CC)C(N)[TeH](C)C.[AsH3]\n",
      "C.CP1C2C(C)(C)C[SH]3C[bi]24(C([AsH2])[PbH])cN4CC2C[AsH]C213\n",
      "'NoneType' object has no attribute 'ToBinary'\n",
      " RDKit drawing crashed while drawing PREDICTION!\n",
      "smiles: {self.last_target}\n",
      "prediction: {self.last_prediction}\n",
      "Continuing on to the next molecule.\n",
      "C.C.C.CCS12(C[AsH2])(C[AsH2])CC(C1)C2(C)(S)[AsH2].CO.C[BiH]cp.O.P\n",
      "C.C.C.C.CC.CCC(C)ccCN(C)(C)(C)(C)(C)(C)CC.S.[AsH3].[AsH3]\n",
      "C.N.S.[AsH3].[SiH4].[TeH2].cc12(C([SbH2])C3CN(C)C3)c-[sb]3(c-1C3)C2(C)C\n",
      "'NoneType' object has no attribute 'ToBinary'\n",
      " RDKit drawing crashed while drawing PREDICTION!\n",
      "smiles: {self.last_target}\n",
      "prediction: {self.last_prediction}\n",
      "Continuing on to the next molecule.\n",
      "C=CSCC[SbH2].C[AsH]cn.C[BiH]1(C)C(S)CC(N)CC1(C)(C)S\n",
      "C.C.CC[SbH2].CN1(C)(C)(C)C[Sb]2cpC21.OS.P.S\n",
      "C.C.C.C.CC(ccCN)CC(N)OC[SiH](C)CS.[AlH3]\n",
      "CC1([AsH](C)(C)C)[si]([BiH2])cl1O.CNC.CNc[as](C)C12C3=C4C1C(PP3)C42\n",
      "'NoneType' object has no attribute 'ToBinary'\n",
      " RDKit drawing crashed while drawing PREDICTION!\n",
      "smiles: {self.last_target}\n",
      "prediction: {self.last_prediction}\n",
      "Continuing on to the next molecule.\n",
      "C.C.C.C.C.CC1C2CN1(C)(C)(Cc1c[as]-1)C2N12(C)(C)(C)c[as](s1)C2\n",
      "Can't kekulize mol.  Unkekulized atoms: 15\n",
      "\n",
      " RDKit drawing crashed while drawing PREDICTION!\n",
      "smiles: {self.last_target}\n",
      "prediction: {self.last_prediction}\n",
      "Continuing on to the next molecule.\n",
      "C.C.C.cc1(C)CC([Al]234(C)CC(C2)c32c3(C)(C)C=[Te]=2(C3)C4)C1\n",
      "CNC.cc12CCC3(C)[SbH]1([AsH2])C1C4[SH]([SbH]N)C13(S)C41C[AsH]C12\n",
      "C.C.CO1(C)C=C(CP)C1.C[SbH](C)(C)C[As]1C[AsH]C1.S[SbH2]\n",
      "C.C.C[BiH]c123cc4([al]-1)c15(C)(CO2)(CS3)C2NC1C21(C)CCCN4C15\n",
      "'NoneType' object has no attribute 'ToBinary'\n",
      " RDKit drawing crashed while drawing PREDICTION!\n",
      "smiles: {self.last_target}\n",
      "prediction: {self.last_prediction}\n",
      "Continuing on to the next molecule.\n",
      "CC1CC[Sb](C)C1.CN1C2SC3c45([BiH2])cC236(CCC6(C)N)(C4)C15\n",
      "C.C.C.CC1CC(C)(C)C1.CIC.CS[BiH2].C[AsH2].[SeH2]\n",
      "C.C=N1CC2C3CC2(C)(N)([TeH]2C[Al](C)[As](C)C2C)(N3)C(C)(C)C1.[SbH3]\n",
      "C.C.C.[SeH2].cc1-ncC12CCCC(C)(C)(C)(C)C[AsH]C2\n",
      "CC1O2CC345[As]6[Al](CP1C=[PH](C)C)C23C12(C)C43([SeH])C4C178(C)CC452([AlH]7)C638.[SbH3]\n",
      "C.C.CC1C23NC14([SbH2])C2CC34C.CN1CN(C)(cn[sbH])C1.S.[BiH3]\n",
      "'NoneType' object has no attribute 'ToBinary'\n",
      " RDKit drawing crashed while drawing PREDICTION!\n",
      "smiles: {self.last_target}\n",
      "prediction: {self.last_prediction}\n",
      "Continuing on to the next molecule.\n",
      "C.C.C.Cc123c45c-1-c416(C)c-2cC=1=Cp6-3[AlH2]=5P[AsH]12[As]3C4C15CC42C35.P\n",
      "C.C.C.CC1C([SbH](C)(C)C)ncCC1(C)(N)S.N.[SbH3].[TeH2]\n",
      "C.C.C.C1N2C[Bi]1C2.S.c1c[SbH]C=1.nc[AsH2]\n",
      "C.C.C[AsH2].C[sb]c1[sb]2c[SiH](C2)C2(C)C3C4Nc3([al]-12)=[SiH]4.N.N.N.N.[TeH2]\n",
      "'NoneType' object has no attribute 'ToBinary'\n",
      " RDKit drawing crashed while drawing PREDICTION!\n",
      "smiles: {self.last_target}\n",
      "prediction: {self.last_prediction}\n",
      "Continuing on to the next molecule.\n",
      "C.C.P.S.cc12C3C[Se]C(C4SC(CC)C4[As]31)[SeH]2C\n",
      "C[sb]12([SbH2])c345(O)N6C789C%10%11C%12[TeH]3C%103S%127c6%11-1(s38-4)-[siH]cC95CCS2.[SeH2].ccp\n",
      "'NoneType' object has no attribute 'ToBinary'\n",
      " RDKit drawing crashed while drawing PREDICTION!\n",
      "smiles: {self.last_target}\n",
      "prediction: {self.last_prediction}\n",
      "Continuing on to the next molecule.\n",
      "C.C.C.C.CCC(S)C(C)C[AsH2].CCCPC.C[SiH3]\n",
      "C.CC12c3c4(C)C1[SH]3C24.CC1CC=C(N(C)C)[SbH]1\n",
      "C=[SbH].CCC.O.O.[BiH2]n12c34#C([bi]c-35[PH]13CC1C3S152)[Sb]1C[Al](C1)C4\n",
      "'NoneType' object has no attribute 'ToBinary'\n",
      " RDKit drawing crashed while drawing PREDICTION!\n",
      "smiles: {self.last_target}\n",
      "prediction: {self.last_prediction}\n",
      "Continuing on to the next molecule.\n",
      "C.C.C.C.C.CCC([BiH2])N123C[AsH]o145c21([AsH2])[SiH]3C14(O)C(C)C5.S\n",
      "C.C.C.[AlH3].[SbH3].c[bi](CC)CC12(C)CC34(C)Cs5c[Sb]6C31NC5642\n",
      "'NoneType' object has no attribute 'ToBinary'\n",
      " RDKit drawing crashed while drawing PREDICTION!\n",
      "smiles: {self.last_target}\n",
      "prediction: {self.last_prediction}\n",
      "Continuing on to the next molecule.\n",
      "C.C.C.C.CC1C2N3[Sb]4n5(CO)cC(C5)C(PCN)C5C6CC153[Te]624\n",
      "C.C.C.C.C=C[SbH2].C=[SiH2].C[sb]c(C)c1(CSS)-c[se]([SbH2])[BiH]1.S.S[AsH2]\n",
      "'NoneType' object has no attribute 'ToBinary'\n",
      " RDKit drawing crashed while drawing PREDICTION!\n",
      "smiles: {self.last_target}\n",
      "prediction: {self.last_prediction}\n",
      "Continuing on to the next molecule.\n",
      "C.C.C.N.N.cc([BiH2])C[Se]1(CS23456(C)CN([BiH2])(C2)(C3)(C4)(C5)C6)C[AsH]C1\n",
      "C.C[Al]=C[SeH].NCC1CNC23CC[SbH]24CC3C14.ccC\n",
      "C.C=[bi]1(S)cC23=c(CN45C=N(C)(C)(C4)C5)(c2)-c13[BiH]C.[TeH2]\n",
      "'NoneType' object has no attribute 'ToBinary'\n",
      " RDKit drawing crashed while drawing PREDICTION!\n",
      "smiles: {self.last_target}\n",
      "prediction: {self.last_prediction}\n",
      "Continuing on to the next molecule.\n",
      "C.C.C.CC(N)(O)[SbH2].CN1(C)cc23C=C45(C)cc-24C315.[TeH2]\n",
      "C.C.C.C.C.CN.C[AsH]C([AsH2])C(C)C1C[SbH]C(C)[AlH]CNC[BiH]1\n",
      "C.C.CN1CC(C)([BiH2])C1P.C[Sb]1[TeH]2C[Bi]1C[AsH]1=C[Si]12C\n",
      "co(CC(C)CNC)CN12C3[Sb]([BiH2])C14#C1C4C132\n",
      "C.C.C.C.CO1CC(CCC[AlH2])(C2(O)CC2)[SbH]C1=[Te].CS\n"
     ]
    }
   ],
   "source": [
    "target_smiles = [Chem.MolToSmiles(y) for y in Y.rd_mols]\n",
    "initial_smiles = [Chem.MolToSmiles(y) for y in X.rd_mols]\n",
    "\n",
    "# uncomment for tensorboard\n",
    "tb_writer = SummaryWriter(logdir = args.tb_logs_dir)\n",
    "mol_drawer = MolDrawer(tb_writer, SYMBOLS, BOND_TYPES, FORMAL_CHARGES)\n",
    "mol_drawer.visualize_batch(pred_pack[0], target_smiles, model_iter, initial_smiles, text=\"{}-manual2-\".format(args.init_model))"
   ]
  },
  {
   "cell_type": "code",
   "execution_count": 483,
   "metadata": {},
   "outputs": [
    {
     "data": {
      "text/plain": [
       "'o123456789%10C%11%12%13%14%15%16%17%18%19%20%21%22%23%24%25%26%27%28o%29%30%31%32%33%34%35%36%37C1%11%38%39%40%41%42%43%44%45%46%47%48%49%50%51%52%53o%121%11%54%55%56%57%58%59=C=2=%29%13%38%12%60%61%62%63%64%65%66%67%68%69%70%71%72o%14%392%13%29%38%73%74%75%76%77%78%79=C%15%40%12%14%39%80%81%82%83%84%85%86%87%88%89C%16%41%60%12%15%40%90%91%92%93%94%95%96%97C%14%17%42%61%16%41%60%98%99%100%101%102%103%104c2%12%39%18%43%62%14%17%42%61%105%106%107%108%109-c%13%15%16%80%19%44%632%12%18%39%43%62%110%111-c%29%40%41%81-%14%20%45%64%13%15%16%19%44%63%80-c3%301-%38%90%60%82-%17-2%21%46%65%14%20%29%40%41%45-c4%31%11-%73%91%98%83-%42-%12-%13%22%47%66123%17%21-c5%32%54-%74%92%99%84-%61-%18-%15%23%48%67-%144%11%12%13-c6%33%55-%75%93%100%85-%105-%39-%16%24%49%68-%20-15%14%15-c7%34%56-%76%94%101%86-%106-%43-%19%25%50%69-%29-2-416-c8%35%57-%77%95%102%87-%107-%62-%44%26%51%70-%40-3-%11-52-c9%36%58-%78%96%103%88-%108-%110-%63%27%52%71-%41-%17-%12-%14-1-c%10%37%59-%79%97%104%89-%109-%111-%80%28%53%72-%45-%21-%13-%15-6-2'"
      ]
     },
     "execution_count": 483,
     "metadata": {},
     "output_type": "execute_result"
    }
   ],
   "source": [
    "feat2smiles(SYMBOLS, FORMAL_CHARGES, BOND_TYPES, symbols, charges, bonds, False)"
   ]
  },
  {
   "cell_type": "code",
   "execution_count": 139,
   "metadata": {},
   "outputs": [],
   "source": [
    "tau = 1\n",
    "symbols_nll, charges_nll, bonds_nll = F.gumbel_softmax(tau = tau, dim=1, logits = symbols_logits), F.gumbel_softmax(tau=tau,dim=1,logits=charges_logits), F.gumbel_softmax(tau=tau,dim=1, logits = bonds_logits)"
   ]
  },
  {
   "cell_type": "code",
   "execution_count": 112,
   "metadata": {},
   "outputs": [
    {
     "data": {
      "text/plain": [
       "<BarContainer object of 64 artists>"
      ]
     },
     "execution_count": 112,
     "metadata": {},
     "output_type": "execute_result"
    },
    {
     "data": {
      "image/png": "[encoded data removed]",
      "text/plain": [
       "<Figure size 432x288 with 1 Axes>"
      ]
     },
     "metadata": {},
     "output_type": "display_data"
    }
   ],
   "source": [
    "means = symbols_logits.mean(axis = 0).cpu().detach().numpy()\n",
    "stds = symbols_logits.std(axis = 0).cpu().detach().numpy()\n",
    "plt.bar(range(len(SYMBOLS)), means, yerr = stds)"
   ]
  },
  {
   "cell_type": "code",
   "execution_count": 113,
   "metadata": {},
   "outputs": [
    {
     "data": {
      "text/plain": [
       "<BarContainer object of 5 artists>"
      ]
     },
     "execution_count": 113,
     "metadata": {},
     "output_type": "execute_result"
    },
    {
     "data": {
      "image/png": "[encoded data removed]",
      "text/plain": [
       "<Figure size 432x288 with 1 Axes>"
      ]
     },
     "metadata": {},
     "output_type": "display_data"
    }
   ],
   "source": [
    "means = bonds_logits.mean(axis = 0).cpu().detach().numpy()\n",
    "stds = bonds_logits.std(axis = 0).cpu().detach().numpy()\n",
    "plt.bar(range(len(BOND_TYPES)), means, yerr = stds)"
   ]
  },
  {
   "cell_type": "code",
   "execution_count": 114,
   "metadata": {
    "scrolled": true
   },
   "outputs": [
    {
     "data": {
      "text/plain": [
       "tensor([2, 0, 0,  ..., 0, 0, 0], device='cuda:0')"
      ]
     },
     "execution_count": 114,
     "metadata": {},
     "output_type": "execute_result"
    }
   ],
   "source": [
    "torch.argmax(symbols_logits/0.001, axis = 1)"
   ]
  },
  {
   "cell_type": "code",
   "execution_count": 115,
   "metadata": {
    "scrolled": true
   },
   "outputs": [
    {
     "data": {
      "text/plain": [
       "tensor([2, 0, 3,  ..., 0, 0, 0], device='cuda:0')"
      ]
     },
     "execution_count": 115,
     "metadata": {},
     "output_type": "execute_result"
    }
   ],
   "source": [
    "torch.argmax(F.gumbel_softmax(tau = 1, dim=1, logits = symbols_logits), axis = 1)\n",
    "# torch.argmax(F.softmax(symbols_logits, dim = 1), axis = 1)"
   ]
  },
  {
   "cell_type": "code",
   "execution_count": 116,
   "metadata": {},
   "outputs": [
    {
     "data": {
      "text/plain": [
       "tensor([[ 4.7713,  7.5992,  9.1514,  ..., -6.8173, -6.0547, -7.1816],\n",
       "        [ 5.4330,  4.4674,  3.4791,  ..., -5.1967, -4.5764, -5.2503],\n",
       "        [ 5.4627,  4.2076,  3.3583,  ..., -5.1326, -4.5229, -5.1690],\n",
       "        ...,\n",
       "        [ 7.9274,  2.1972,  2.8278,  ..., -5.7688, -4.9560, -5.6737],\n",
       "        [ 5.6975,  3.9418,  3.9025,  ..., -5.2325, -4.5823, -5.2952],\n",
       "        [ 7.1351,  2.7051,  2.6358,  ..., -5.4611, -4.7207, -5.3825]],\n",
       "       device='cuda:0', grad_fn=<CatBackward>)"
      ]
     },
     "execution_count": 116,
     "metadata": {},
     "output_type": "execute_result"
    }
   ],
   "source": [
    "symbols_logits"
   ]
  },
  {
   "cell_type": "code",
   "execution_count": 117,
   "metadata": {},
   "outputs": [
    {
     "data": {
      "text/plain": [
       "tensor([[7.9127e-27, 9.9999e-01, 5.9817e-06,  ..., 0.0000e+00, 0.0000e+00,\n",
       "         0.0000e+00],\n",
       "        [1.6074e-06, 1.0000e+00, 6.5038e-13,  ..., 0.0000e+00, 0.0000e+00,\n",
       "         0.0000e+00],\n",
       "        [6.2610e-07, 2.3559e-08, 2.9983e-18,  ..., 1.4013e-45, 0.0000e+00,\n",
       "         0.0000e+00],\n",
       "        ...,\n",
       "        [1.0000e+00, 4.4948e-15, 6.9373e-33,  ..., 0.0000e+00, 0.0000e+00,\n",
       "         0.0000e+00],\n",
       "        [1.0000e+00, 1.2925e-14, 1.0711e-13,  ..., 0.0000e+00, 0.0000e+00,\n",
       "         0.0000e+00],\n",
       "        [1.0000e+00, 8.2751e-27, 2.3159e-18,  ..., 0.0000e+00, 0.0000e+00,\n",
       "         0.0000e+00]], device='cuda:0', grad_fn=<SoftmaxBackward>)"
      ]
     },
     "execution_count": 117,
     "metadata": {},
     "output_type": "execute_result"
    }
   ],
   "source": [
    "F.gumbel_softmax(tau = 0.1, dim=1, logits = symbols_logits)"
   ]
  },
  {
   "cell_type": "code",
   "execution_count": 118,
   "metadata": {},
   "outputs": [
    {
     "data": {
      "text/plain": [
       "torch.Size([1079, 64])"
      ]
     },
     "execution_count": 118,
     "metadata": {},
     "output_type": "execute_result"
    }
   ],
   "source": [
    "symbols_logits.shape"
   ]
  },
  {
   "cell_type": "code",
   "execution_count": 119,
   "metadata": {
    "scrolled": true
   },
   "outputs": [
    {
     "data": {
      "text/plain": [
       "tensor([2, 0, 0,  ..., 0, 0, 0], device='cuda:0')"
      ]
     },
     "execution_count": 119,
     "metadata": {},
     "output_type": "execute_result"
    }
   ],
   "source": [
    "symbols_labels"
   ]
  },
  {
   "cell_type": "code",
   "execution_count": 120,
   "metadata": {},
   "outputs": [
    {
     "data": {
      "text/plain": [
       "(tensor([0, 1, 2, 3, 4], device='cuda:0'),\n",
       " tensor([   14,    14,  1066,   328, 22149], device='cuda:0'))"
      ]
     },
     "execution_count": 120,
     "metadata": {},
     "output_type": "execute_result"
    }
   ],
   "source": [
    "bonds_labels.unique(return_counts = True)"
   ]
  },
  {
   "cell_type": "markdown",
   "metadata": {},
   "source": [
    "# inspect module parameters"
   ]
  },
  {
   "cell_type": "code",
   "execution_count": 150,
   "metadata": {},
   "outputs": [
    {
     "data": {
      "text/plain": [
       "Linear(in_features=100, out_features=150, bias=True)"
      ]
     },
     "execution_count": 150,
     "metadata": {},
     "output_type": "execute_result"
    }
   ],
   "source": [
    "molopt_decoder.fc1_SYMBOLS"
   ]
  },
  {
   "cell_type": "code",
   "execution_count": 151,
   "metadata": {},
   "outputs": [
    {
     "data": {
      "text/plain": [
       "tensor([[ 13.7881,   0.6913,   3.3530,  ..., -10.6195,  -8.9924, -11.0378],\n",
       "        [ 13.5698,  -1.3311,   4.9047,  ...,  -8.9976,  -7.9215, -10.1074],\n",
       "        [  5.2691,  -6.6067,   3.9132,  ..., -13.3723, -13.1498, -14.1045],\n",
       "        ...,\n",
       "        [  2.3633,   0.6043,   8.5959,  ..., -12.3276, -12.1154, -13.7442],\n",
       "        [ 16.1051,   0.3792,   4.5413,  ...,  -8.0192,  -7.4203,  -9.7780],\n",
       "        [  8.6492,   4.9261,   0.4580,  ...,  -9.5743,  -9.4313, -10.6167]],\n",
       "       device='cuda:0', grad_fn=<AddmmBackward>)"
      ]
     },
     "execution_count": 151,
     "metadata": {},
     "output_type": "execute_result"
    }
   ],
   "source": [
    "molopt_decoder.fc2_SYMBOLS(F.leaky_relu(molopt_decoder.fc1_SYMBOLS(x_embedding)))"
   ]
  },
  {
   "cell_type": "code",
   "execution_count": 152,
   "metadata": {},
   "outputs": [
    {
     "data": {
      "text/plain": [
       "tensor([[-0.1335,  0.4283,  0.3699,  ..., -0.3710,  0.7165, -0.5101],\n",
       "        [-0.8927,  1.3656,  0.6950,  ..., -1.0309, -0.1640, -0.0162],\n",
       "        [-0.4414, -0.3376,  2.9654,  ...,  1.0029, -0.6166,  0.1708],\n",
       "        ...,\n",
       "        [ 0.9006,  0.2762, -0.7614,  ...,  1.1360,  0.2881, -0.2464],\n",
       "        [-1.4002,  1.4269, -0.5393,  ..., -1.6091,  0.4275, -0.0564],\n",
       "        [-0.5014,  0.6323,  0.1265,  ..., -1.6008, -0.1383,  0.4430]],\n",
       "       device='cuda:0', grad_fn=<AddBackward0>)"
      ]
     },
     "execution_count": 152,
     "metadata": {},
     "output_type": "execute_result"
    }
   ],
   "source": [
    "x_embedding"
   ]
  },
  {
   "cell_type": "markdown",
   "metadata": {},
   "source": [
    "# debug connectivity"
   ]
  },
  {
   "cell_type": "code",
   "execution_count": 153,
   "metadata": {},
   "outputs": [],
   "source": [
    "def get_pen(model_iter):\n",
    "    model_name = \"model_{}_{}\".format(model, model_iter)\n",
    "    model_decode_name = \"model_{}_decode_{}\".format(model, model_iter)\n",
    "    molopt, config = load_model(args.output_dir + model_name, MolOpt, args.device)\n",
    "    molopt_decoder, config_decoder = load_model(args.output_dir + model_decode_name, MolOptDecoder, args.device)\n",
    "    x_embedding = molopt.forward(X)\n",
    "    yhat_logits = molopt_decoder.forward(x_embedding, X, Y)\n",
    "    yhat_labels = molopt_decoder.discretize_argmax(*yhat_logits)\n",
    "    # yhat_labels = molopt_decoder.discretize(*yhat_logits)\n",
    "    pred_pack = (yhat_labels, yhat_logits, Y.scope), Y \n",
    "\n",
    "    return (pen(*pred_pack, model_iter)[1].item())"
   ]
  },
  {
   "cell_type": "code",
   "execution_count": 154,
   "metadata": {
    "scrolled": true
   },
   "outputs": [
    {
     "ename": "FileNotFoundError",
     "evalue": "[Errno 2] No such file or directory: 'mol_opt/output_transformer10-onebatch/model_transformer10-onebatch-nonconstrained_1600'",
     "output_type": "error",
     "traceback": [
      "\u001b[0;31m---------------------------------------------------------------------------\u001b[0m",
      "\u001b[0;31mFileNotFoundError\u001b[0m                         Traceback (most recent call last)",
      "\u001b[0;32m<ipython-input-154-4521fb9b209a>\u001b[0m in \u001b[0;36m<module>\u001b[0;34m\u001b[0m\n\u001b[1;32m      1\u001b[0m \u001b[0;32mfor\u001b[0m \u001b[0mi\u001b[0m \u001b[0;32min\u001b[0m \u001b[0mrange\u001b[0m\u001b[0;34m(\u001b[0m\u001b[0;36m0\u001b[0m\u001b[0;34m,\u001b[0m \u001b[0;36m2000\u001b[0m\u001b[0;34m)\u001b[0m\u001b[0;34m:\u001b[0m\u001b[0;34m\u001b[0m\u001b[0;34m\u001b[0m\u001b[0m\n\u001b[0;32m----> 2\u001b[0;31m     \u001b[0mprint\u001b[0m \u001b[0;34m(\u001b[0m\u001b[0mi\u001b[0m\u001b[0;34m,\u001b[0m \u001b[0mget_pen\u001b[0m\u001b[0;34m(\u001b[0m\u001b[0;36m1600\u001b[0m\u001b[0;34m)\u001b[0m\u001b[0;34m)\u001b[0m\u001b[0;34m\u001b[0m\u001b[0;34m\u001b[0m\u001b[0m\n\u001b[0m",
      "\u001b[0;32m<ipython-input-153-a93df54ba17f>\u001b[0m in \u001b[0;36mget_pen\u001b[0;34m(model_iter)\u001b[0m\n\u001b[1;32m      2\u001b[0m     \u001b[0mmodel_name\u001b[0m \u001b[0;34m=\u001b[0m \u001b[0;34m\"model_{}_{}\"\u001b[0m\u001b[0;34m.\u001b[0m\u001b[0mformat\u001b[0m\u001b[0;34m(\u001b[0m\u001b[0mmodel\u001b[0m\u001b[0;34m,\u001b[0m \u001b[0mmodel_iter\u001b[0m\u001b[0;34m)\u001b[0m\u001b[0;34m\u001b[0m\u001b[0;34m\u001b[0m\u001b[0m\n\u001b[1;32m      3\u001b[0m     \u001b[0mmodel_decode_name\u001b[0m \u001b[0;34m=\u001b[0m \u001b[0;34m\"model_{}_decode_{}\"\u001b[0m\u001b[0;34m.\u001b[0m\u001b[0mformat\u001b[0m\u001b[0;34m(\u001b[0m\u001b[0mmodel\u001b[0m\u001b[0;34m,\u001b[0m \u001b[0mmodel_iter\u001b[0m\u001b[0;34m)\u001b[0m\u001b[0;34m\u001b[0m\u001b[0;34m\u001b[0m\u001b[0m\n\u001b[0;32m----> 4\u001b[0;31m     \u001b[0mmolopt\u001b[0m\u001b[0;34m,\u001b[0m \u001b[0mconfig\u001b[0m \u001b[0;34m=\u001b[0m \u001b[0mload_model\u001b[0m\u001b[0;34m(\u001b[0m\u001b[0margs\u001b[0m\u001b[0;34m.\u001b[0m\u001b[0moutput_dir\u001b[0m \u001b[0;34m+\u001b[0m \u001b[0mmodel_name\u001b[0m\u001b[0;34m,\u001b[0m \u001b[0mMolOpt\u001b[0m\u001b[0;34m,\u001b[0m \u001b[0margs\u001b[0m\u001b[0;34m.\u001b[0m\u001b[0mdevice\u001b[0m\u001b[0;34m)\u001b[0m\u001b[0;34m\u001b[0m\u001b[0;34m\u001b[0m\u001b[0m\n\u001b[0m\u001b[1;32m      5\u001b[0m     \u001b[0mmolopt_decoder\u001b[0m\u001b[0;34m,\u001b[0m \u001b[0mconfig_decoder\u001b[0m \u001b[0;34m=\u001b[0m \u001b[0mload_model\u001b[0m\u001b[0;34m(\u001b[0m\u001b[0margs\u001b[0m\u001b[0;34m.\u001b[0m\u001b[0moutput_dir\u001b[0m \u001b[0;34m+\u001b[0m \u001b[0mmodel_decode_name\u001b[0m\u001b[0;34m,\u001b[0m \u001b[0mMolOptDecoder\u001b[0m\u001b[0;34m,\u001b[0m \u001b[0margs\u001b[0m\u001b[0;34m.\u001b[0m\u001b[0mdevice\u001b[0m\u001b[0;34m)\u001b[0m\u001b[0;34m\u001b[0m\u001b[0;34m\u001b[0m\u001b[0m\n\u001b[1;32m      6\u001b[0m     \u001b[0mx_embedding\u001b[0m \u001b[0;34m=\u001b[0m \u001b[0mmolopt\u001b[0m\u001b[0;34m.\u001b[0m\u001b[0mforward\u001b[0m\u001b[0;34m(\u001b[0m\u001b[0mX\u001b[0m\u001b[0;34m)\u001b[0m\u001b[0;34m\u001b[0m\u001b[0;34m\u001b[0m\u001b[0m\n",
      "\u001b[0;32m~/gitrepos/tum-thesis/otgnn/utils/model_utils.py\u001b[0m in \u001b[0;36mload_model\u001b[0;34m(path, model_class, device)\u001b[0m\n\u001b[1;32m     16\u001b[0m \u001b[0;31m# Load the model along with args for the model\u001b[0m\u001b[0;34m\u001b[0m\u001b[0;34m\u001b[0m\u001b[0;34m\u001b[0m\u001b[0m\n\u001b[1;32m     17\u001b[0m \u001b[0;32mdef\u001b[0m \u001b[0mload_model\u001b[0m\u001b[0;34m(\u001b[0m\u001b[0mpath\u001b[0m\u001b[0;34m,\u001b[0m \u001b[0mmodel_class\u001b[0m\u001b[0;34m,\u001b[0m \u001b[0mdevice\u001b[0m\u001b[0;34m)\u001b[0m\u001b[0;34m:\u001b[0m\u001b[0;34m\u001b[0m\u001b[0;34m\u001b[0m\u001b[0m\n\u001b[0;32m---> 18\u001b[0;31m     \u001b[0mmodel_dict\u001b[0m \u001b[0;34m=\u001b[0m \u001b[0mtorch\u001b[0m\u001b[0;34m.\u001b[0m\u001b[0mload\u001b[0m\u001b[0;34m(\u001b[0m\u001b[0mpath\u001b[0m\u001b[0;34m)\u001b[0m\u001b[0;34m\u001b[0m\u001b[0;34m\u001b[0m\u001b[0m\n\u001b[0m\u001b[1;32m     19\u001b[0m     \u001b[0margs\u001b[0m \u001b[0;34m=\u001b[0m \u001b[0mmodel_dict\u001b[0m\u001b[0;34m[\u001b[0m\u001b[0;34m'args'\u001b[0m\u001b[0;34m]\u001b[0m\u001b[0;34m\u001b[0m\u001b[0;34m\u001b[0m\u001b[0m\n\u001b[1;32m     20\u001b[0m \u001b[0;34m\u001b[0m\u001b[0m\n",
      "\u001b[0;32m~/anaconda3/envs/mol_ot/lib/python3.6/site-packages/torch/serialization.py\u001b[0m in \u001b[0;36mload\u001b[0;34m(f, map_location, pickle_module, **pickle_load_args)\u001b[0m\n\u001b[1;32m    569\u001b[0m         \u001b[0mpickle_load_args\u001b[0m\u001b[0;34m[\u001b[0m\u001b[0;34m'encoding'\u001b[0m\u001b[0;34m]\u001b[0m \u001b[0;34m=\u001b[0m \u001b[0;34m'utf-8'\u001b[0m\u001b[0;34m\u001b[0m\u001b[0;34m\u001b[0m\u001b[0m\n\u001b[1;32m    570\u001b[0m \u001b[0;34m\u001b[0m\u001b[0m\n\u001b[0;32m--> 571\u001b[0;31m     \u001b[0;32mwith\u001b[0m \u001b[0m_open_file_like\u001b[0m\u001b[0;34m(\u001b[0m\u001b[0mf\u001b[0m\u001b[0;34m,\u001b[0m \u001b[0;34m'rb'\u001b[0m\u001b[0;34m)\u001b[0m \u001b[0;32mas\u001b[0m \u001b[0mopened_file\u001b[0m\u001b[0;34m:\u001b[0m\u001b[0;34m\u001b[0m\u001b[0;34m\u001b[0m\u001b[0m\n\u001b[0m\u001b[1;32m    572\u001b[0m         \u001b[0;32mif\u001b[0m \u001b[0m_is_zipfile\u001b[0m\u001b[0;34m(\u001b[0m\u001b[0mopened_file\u001b[0m\u001b[0;34m)\u001b[0m\u001b[0;34m:\u001b[0m\u001b[0;34m\u001b[0m\u001b[0;34m\u001b[0m\u001b[0m\n\u001b[1;32m    573\u001b[0m             \u001b[0;31m# The zipfile reader is going to advance the current file position.\u001b[0m\u001b[0;34m\u001b[0m\u001b[0;34m\u001b[0m\u001b[0;34m\u001b[0m\u001b[0m\n",
      "\u001b[0;32m~/anaconda3/envs/mol_ot/lib/python3.6/site-packages/torch/serialization.py\u001b[0m in \u001b[0;36m_open_file_like\u001b[0;34m(name_or_buffer, mode)\u001b[0m\n\u001b[1;32m    227\u001b[0m \u001b[0;32mdef\u001b[0m \u001b[0m_open_file_like\u001b[0m\u001b[0;34m(\u001b[0m\u001b[0mname_or_buffer\u001b[0m\u001b[0;34m,\u001b[0m \u001b[0mmode\u001b[0m\u001b[0;34m)\u001b[0m\u001b[0;34m:\u001b[0m\u001b[0;34m\u001b[0m\u001b[0;34m\u001b[0m\u001b[0m\n\u001b[1;32m    228\u001b[0m     \u001b[0;32mif\u001b[0m \u001b[0m_is_path\u001b[0m\u001b[0;34m(\u001b[0m\u001b[0mname_or_buffer\u001b[0m\u001b[0;34m)\u001b[0m\u001b[0;34m:\u001b[0m\u001b[0;34m\u001b[0m\u001b[0;34m\u001b[0m\u001b[0m\n\u001b[0;32m--> 229\u001b[0;31m         \u001b[0;32mreturn\u001b[0m \u001b[0m_open_file\u001b[0m\u001b[0;34m(\u001b[0m\u001b[0mname_or_buffer\u001b[0m\u001b[0;34m,\u001b[0m \u001b[0mmode\u001b[0m\u001b[0;34m)\u001b[0m\u001b[0;34m\u001b[0m\u001b[0;34m\u001b[0m\u001b[0m\n\u001b[0m\u001b[1;32m    230\u001b[0m     \u001b[0;32melse\u001b[0m\u001b[0;34m:\u001b[0m\u001b[0;34m\u001b[0m\u001b[0;34m\u001b[0m\u001b[0m\n\u001b[1;32m    231\u001b[0m         \u001b[0;32mif\u001b[0m \u001b[0;34m'w'\u001b[0m \u001b[0;32min\u001b[0m \u001b[0mmode\u001b[0m\u001b[0;34m:\u001b[0m\u001b[0;34m\u001b[0m\u001b[0;34m\u001b[0m\u001b[0m\n",
      "\u001b[0;32m~/anaconda3/envs/mol_ot/lib/python3.6/site-packages/torch/serialization.py\u001b[0m in \u001b[0;36m__init__\u001b[0;34m(self, name, mode)\u001b[0m\n\u001b[1;32m    208\u001b[0m \u001b[0;32mclass\u001b[0m \u001b[0m_open_file\u001b[0m\u001b[0;34m(\u001b[0m\u001b[0m_opener\u001b[0m\u001b[0;34m)\u001b[0m\u001b[0;34m:\u001b[0m\u001b[0;34m\u001b[0m\u001b[0;34m\u001b[0m\u001b[0m\n\u001b[1;32m    209\u001b[0m     \u001b[0;32mdef\u001b[0m \u001b[0m__init__\u001b[0m\u001b[0;34m(\u001b[0m\u001b[0mself\u001b[0m\u001b[0;34m,\u001b[0m \u001b[0mname\u001b[0m\u001b[0;34m,\u001b[0m \u001b[0mmode\u001b[0m\u001b[0;34m)\u001b[0m\u001b[0;34m:\u001b[0m\u001b[0;34m\u001b[0m\u001b[0;34m\u001b[0m\u001b[0m\n\u001b[0;32m--> 210\u001b[0;31m         \u001b[0msuper\u001b[0m\u001b[0;34m(\u001b[0m\u001b[0m_open_file\u001b[0m\u001b[0;34m,\u001b[0m \u001b[0mself\u001b[0m\u001b[0;34m)\u001b[0m\u001b[0;34m.\u001b[0m\u001b[0m__init__\u001b[0m\u001b[0;34m(\u001b[0m\u001b[0mopen\u001b[0m\u001b[0;34m(\u001b[0m\u001b[0mname\u001b[0m\u001b[0;34m,\u001b[0m \u001b[0mmode\u001b[0m\u001b[0;34m)\u001b[0m\u001b[0;34m)\u001b[0m\u001b[0;34m\u001b[0m\u001b[0;34m\u001b[0m\u001b[0m\n\u001b[0m\u001b[1;32m    211\u001b[0m \u001b[0;34m\u001b[0m\u001b[0m\n\u001b[1;32m    212\u001b[0m     \u001b[0;32mdef\u001b[0m \u001b[0m__exit__\u001b[0m\u001b[0;34m(\u001b[0m\u001b[0mself\u001b[0m\u001b[0;34m,\u001b[0m \u001b[0;34m*\u001b[0m\u001b[0margs\u001b[0m\u001b[0;34m)\u001b[0m\u001b[0;34m:\u001b[0m\u001b[0;34m\u001b[0m\u001b[0;34m\u001b[0m\u001b[0m\n",
      "\u001b[0;31mFileNotFoundError\u001b[0m: [Errno 2] No such file or directory: 'mol_opt/output_transformer10-onebatch/model_transformer10-onebatch-nonconstrained_1600'"
     ]
    }
   ],
   "source": [
    "for i in range(0, 2000):\n",
    "    print (i, get_pen(1600))"
   ]
  },
  {
   "cell_type": "code",
   "execution_count": null,
   "metadata": {},
   "outputs": [],
   "source": [
    "# adjM = pen_loss\n",
    "# N = adjM.shape[0]\n",
    "# device = adjM.device\n",
    "# # We need the laplacian otherwise\n",
    "# L = torch.diag(torch.matmul(adjM, torch.ones(N, device=device))) - adjM # Laplacian\n",
    "# L_mod = L + torch.ones_like(L, device=device) / N\n",
    "# eigenvals = torch.symeig(L_mod + 1e-06 * torch.eye(N, device=device), eigenvectors=True)[0]\n",
    "# -torch.sum(torch.log(eigenvals.clamp(max = 1e-01))) + len(eigenvals) * np.log(1e-01)"
   ]
  },
  {
   "cell_type": "code",
   "execution_count": null,
   "metadata": {},
   "outputs": [],
   "source": [
    "F.gumbel_softmax(symbols_logits, dim=1, tau=0.5)"
   ]
  },
  {
   "cell_type": "code",
   "execution_count": null,
   "metadata": {},
   "outputs": [],
   "source": []
  }
 ],
 "metadata": {
  "kernelspec": {
   "display_name": "Python 3",
   "language": "python",
   "name": "python3"
  },
  "language_info": {
   "codemirror_mode": {
    "name": "ipython",
    "version": 3
   },
   "file_extension": ".py",
   "mimetype": "text/x-python",
   "name": "python",
   "nbconvert_exporter": "python",
   "pygments_lexer": "ipython3",
   "version": "3.6.8"
  }
 },
 "nbformat": 4,
 "nbformat_minor": 4
}
