{
 "cells": [
  {
   "cell_type": "code",
   "execution_count": 1,
   "metadata": {},
   "outputs": [
    {
     "name": "stdout",
     "output_type": "stream",
     "text": [
      "/home/octav/gitrepos/tum-thesis\n"
     ]
    }
   ],
   "source": [
    "import os\n",
    "if \"ntbk\" in os.getcwd():\n",
    "    os.chdir(\"..\")\n",
    "print(os.getcwd())\n",
    "\n",
    "import sys\n",
    "sys.path.append(os.path.join(os.getcwd(), \"otgnn\"))\n",
    "sys.path.append(os.path.join(os.getcwd(), \"molgen\"))\n",
    "\n",
    "\n",
    "%load_ext autoreload\n",
    "%autoreload 2\n",
    "\n",
    "from otgnn.models import GCN\n",
    "# from molgen.dataloading.MolGraphBatchPreprocessor import MolGraph\n",
    "from otgnn.graph import MolGraph\n",
    "from otgnn.utils import save_model, load_model\n",
    "from otgnn.graph import SYMBOLS, FORMAL_CHARGES, BOND_TYPES\n",
    "\n",
    "\n",
    "from mol_opt.data_mol_opt import MolOptDataset\n",
    "from mol_opt.data_mol_opt import get_loader\n",
    "from mol_opt.arguments import get_args\n",
    "from mol_opt.train_mol_opt import main, load_checkpoint\n",
    "from mol_opt.mol_opt import MolOpt\n",
    "from mol_opt.decoder_mol_opt import MolOptDecoder\n",
    "from mol_opt.ot_utils import encode_target\n",
    "from mol_opt.ot_utils import FGW \n",
    "from mol_opt.ot_utils import compute_barycenter\n",
    "\n",
    "from molgen.dataloading.feat2smiles import feat2smiles\n",
    "from molgen.dataloading.mol_drawer import MolDrawer\n",
    "from molgen.metrics.Penalty import Penalty\n",
    "from molgen.metrics.mol_metrics import MolMetrics\n",
    "\n",
    "from rdkit.Chem import MolFromSmiles\n",
    "from tensorboardX import SummaryWriter\n",
    "\n",
    "import torch\n",
    "import torch.nn.functional as F\n",
    "import torch.nn as nn\n",
    "from torch.autograd import grad\n",
    "import numpy as np\n",
    "import time\n",
    "from rdkit import Chem\n",
    "from rdkit.Chem.Draw import IPythonConsole\n",
    "from molgen.metrics.Penalty import Penalty as PenaltyNew\n",
    "\n",
    "import matplotlib.pyplot as plt\n",
    "%matplotlib inline\n",
    "plt.style.use('dark_background')"
   ]
  },
  {
   "cell_type": "code",
   "execution_count": 2,
   "metadata": {},
   "outputs": [],
   "source": [
    "model_type = \"pointwise\"\n",
    "sys.argv = [\"\", \"-cuda\", \"-model_type\", model_type, \"-one_batch_train\"]\n",
    "args = get_args()\n",
    "outdir_suffix = \"dev2\"\n",
    "args.n_epochs = 100 \n",
    "# args.init_model = \"{}-test13-valconeul-dynamic-softmax1\".format(model_type)\n",
    "args.init_model = \"{}-base-longer-softmax3\".format(model_type)\n",
    "# args.init_model = \"{}-test12-valconeul-dynamic-tau1-softmax5\".format(model_type)\n",
    "args.init_decoder_model = \"{}_decode\".format(args.init_model)\n",
    "args.output_dir = \"mol_opt/output_{}/{}/\".format(outdir_suffix, args.init_model)\n",
    "args.tb_logs_dir = \"mol_opt/logs_{}/{}/\".format(outdir_suffix, args.init_model)\n",
    "args.batch_size = 50 "
   ]
  },
  {
   "cell_type": "code",
   "execution_count": 3,
   "metadata": {},
   "outputs": [
    {
     "name": "stdout",
     "output_type": "stream",
     "text": [
      "mol_opt/output_dev2/pointwise-base-longer-softmax3/model_pointwise-base-longer-softmax3_14500\n",
      "MolOpt(\n",
      "  (GCN): GCN(\n",
      "    (W_message_i): Linear(in_features=100, out_features=300, bias=False)\n",
      "    (W_message_h): Linear(in_features=300, out_features=300, bias=False)\n",
      "    (W_message_o): Linear(in_features=393, out_features=100, bias=True)\n",
      "    (W_mol_h): Linear(in_features=100, out_features=100, bias=True)\n",
      "    (W_mol_o): Linear(in_features=100, out_features=1, bias=True)\n",
      "    (dropout_gcn): Dropout(p=0.0, inplace=False)\n",
      "    (dropout_ffn): Dropout(p=0.0, inplace=False)\n",
      "  )\n",
      "  (opt0): Linear(in_features=100, out_features=300, bias=True)\n",
      "  (opt1): Linear(in_features=300, out_features=100, bias=True)\n",
      ")\n",
      "MolOptDecoder(\n",
      "  (fc1_SYMBOLS): Linear(in_features=100, out_features=150, bias=True)\n",
      "  (fc2_SYMBOLS): Linear(in_features=150, out_features=64, bias=True)\n",
      "  (fc1_CHARGES): Linear(in_features=100, out_features=150, bias=True)\n",
      "  (fc2_CHARGES): Linear(in_features=150, out_features=5, bias=True)\n",
      "  (fc1_BONDS): Linear(in_features=200, out_features=300, bias=True)\n",
      "  (fc2_BONDS): Linear(in_features=300, out_features=5, bias=True)\n",
      ")\n",
      "pointwise\n",
      "Penalty params: tau=0.00346 conn_l=28.98622 val_l=48.65414 euler_l=19.03108 epoch=14500 mode=[0 0 0] conn=False euler=False val=False\n"
     ]
    }
   ],
   "source": [
    "model = args.init_model\n",
    "model_iter = 14500 \n",
    "\n",
    "model_name = \"model_{}_{}\".format(model, model_iter)\n",
    "print(args.output_dir + model_name)\n",
    "model_decode_name = \"model_{}_decode_{}\".format(model, model_iter)\n",
    "\n",
    "molopt, molopt_decoder, _, pen, _, config, _ = load_checkpoint(args.output_dir + model_name)\n",
    "\n",
    "metrics = MolMetrics(SYMBOLS, FORMAL_CHARGES, BOND_TYPES, False)\n",
    "fgw_loss = FGW(alpha = 0.5)\n",
    "# pen = PenaltyNew(config, model_iter)\n",
    "\n",
    "molopt_module_list = torch.nn.ModuleList([molopt, molopt_decoder])\n",
    "\n",
    "# molopt = MolOpt(args)\n",
    "# molopt_decoder = MolOptDecoder(args)\n",
    "print (molopt)\n",
    "print (molopt_decoder)\n",
    "print(molopt.args.model_type)\n",
    "pen.log()"
   ]
  },
  {
   "cell_type": "code",
   "execution_count": 4,
   "metadata": {},
   "outputs": [],
   "source": [
    "# train_data_loader = get_loader(\"iclr19-graph2graph/data/qed\", \"train_pairs\", args.batch_size, True)\n",
    "train_data_loader = get_loader(\"molgen/data/chembl50\", \"train\", 50, same_number_atoms = True)\n",
    "\n",
    "for i in train_data_loader:\n",
    "#     X = (MolGraph(i[0]))\n",
    "#     Y = (MolGraph(i[1]))\n",
    "    X = MolGraph(i)\n",
    "    Y = X\n",
    "    break"
   ]
  },
  {
   "cell_type": "code",
   "execution_count": 5,
   "metadata": {
    "scrolled": true
   },
   "outputs": [
    {
     "name": "stderr",
     "output_type": "stream",
     "text": [
      "/home/octav/gitrepos/tum-thesis/otgnn/models/gromov_modules.py:394: UserWarning: Implicit dimension choice for log_softmax has been deprecated. Change the call to include dim=X as an argument.\n",
      "  nce_reg = torch.nn.LogSoftmax()(torch.stack(all_nce_dists))[0]\n"
     ]
    },
    {
     "name": "stdout",
     "output_type": "stream",
     "text": [
      "FGW torch.Size([29508, 5]) 0.00013588249566964805\n",
      "0.9710801696777344\n",
      "(tensor(0., device='cuda:0'), tensor(0., device='cuda:0'), tensor(0., device='cuda:0'))\n"
     ]
    },
    {
     "data": {
      "text/plain": [
       "({'batch_molecular_validity': 84.0,\n",
       "  'batch_correctness': 0.0,\n",
       "  'batch_symbol_accuracy': 89.65217391304348,\n",
       "  'batch_molecular_disconnected_validity': 92.0,\n",
       "  'batch_connected_components': 1.26,\n",
       "  'batch_invalid_valency_nodes': 0.43478260869565216,\n",
       "  'batch_nodes_0degree': 0,\n",
       "  'batch_nodes_7plus_degree': 0,\n",
       "  'invalid_euler_toofew': 0.0,\n",
       "  'invalid_euler_toomany': 2.0},\n",
       " {'avg_euler_error': (3.180000000000001, 50, 1.8276000000000008),\n",
       "  'batch_node_degree': (2.28, 1150, 0.9372521739130434)})"
      ]
     },
     "execution_count": 5,
     "metadata": {},
     "output_type": "execute_result"
    }
   ],
   "source": [
    "x_embedding = molopt.forward(X)\n",
    "yhat_logits = molopt_decoder.forward(x_embedding, X, Y)\n",
    "yhat_labels = molopt_decoder.discretize_argmax(*yhat_logits)\n",
    "# yhat_labels = molopt_decoder.discretize_gumbel(*yhat_logits, tau = pen.tau)\n",
    "pred_pack = (yhat_labels, yhat_logits, Y.scope), Y \n",
    "\n",
    "target = Y.get_graph_outputs()\n",
    "symbols_labels, charges_labels, bonds_labels = yhat_labels\n",
    "symbols_logits, charges_logits, bonds_logits = yhat_logits\n",
    "\n",
    "pen.mirror = \"\"\n",
    "\n",
    "pen.tau = 0.05\n",
    "fgw_loss_item = fgw_loss(*pred_pack, tau = 1)\n",
    "print (fgw_loss_item.item()/args.batch_size)\n",
    "pen_loss = pen(*pred_pack, model_iter)\n",
    "print (pen_loss)\n",
    "metrics.measure_batch(pred_pack[0], target)"
   ]
  },
  {
   "cell_type": "code",
   "execution_count": 6,
   "metadata": {},
   "outputs": [],
   "source": [
    "# adjM = pen_loss\n",
    "# N = adjM.shape[0]\n",
    "# device = adjM.device\n",
    "# cap_value = 1e-02\n",
    "# \n",
    "# L = torch.diag(torch.matmul(adjM, torch.ones(N, device=device))) - adjM # Laplacian\n",
    "# L_mod = L + torch.ones_like(L, device=device) / N\n",
    "# eigenvals = torch.symeig(L_mod, eigenvectors=True)[0] # IMPORTANT: need to compute eigenvectors for autograd\n",
    "# capped = torch.clamp(eigenvals, min=1e-6, max=1e-02)\n",
    "# print (eigenvals)\n",
    "# -torch.sum(torch.log(capped)) + len(eigenvals) * np.log(cap_value)"
   ]
  },
  {
   "cell_type": "code",
   "execution_count": 7,
   "metadata": {},
   "outputs": [
    {
     "name": "stdout",
     "output_type": "stream",
     "text": [
      "[0.0, 0.0, 0.0]\n",
      "(tensor([0, 2, 4], device='cuda:0'), tensor([ 2616,     2, 26890], device='cuda:0'))\n"
     ]
    }
   ],
   "source": [
    "print([x.item() / args.batch_size for x in pen_loss])\n",
    "print(bonds_labels.unique(return_counts = True))"
   ]
  },
  {
   "cell_type": "code",
   "execution_count": 8,
   "metadata": {},
   "outputs": [
    {
     "name": "stdout",
     "output_type": "stream",
     "text": [
      "tensor([ 1768,   716,     4,     0, 27020], dtype=torch.int32)\n"
     ]
    }
   ],
   "source": [
    "target_bond_counts = torch.zeros(len(BOND_TYPES))\n",
    "for i in range(len(target)):\n",
    "    target_bond_counts += target[i][\"BOND_TYPES\"].sum(axis = (0,1))\n",
    "print(target_bond_counts.int())"
   ]
  },
  {
   "cell_type": "code",
   "execution_count": 9,
   "metadata": {},
   "outputs": [
    {
     "data": {
      "text/plain": [
       "tensor([[-1.0000e+03, -1.0000e+03, -1.0000e+03, -1.0000e+03,  1.0000e+03],\n",
       "        [ 8.6680e-01, -5.6925e+00, -1.3328e+01, -3.8656e+01,  4.9202e-01],\n",
       "        [-5.4428e-01, -1.3959e+01, -2.4234e+01, -6.2375e+01,  3.7562e+00],\n",
       "        ...,\n",
       "        [-4.2983e+00, -1.5328e+01, -4.2066e+01, -8.1599e+01,  6.9524e+00],\n",
       "        [ 3.1299e-01, -2.2216e+00, -5.6623e+00, -1.5855e+01,  1.0342e-01],\n",
       "        [-1.0000e+03, -1.0000e+03, -1.0000e+03, -1.0000e+03,  1.0000e+03]],\n",
       "       device='cuda:0', grad_fn=<CatBackward>)"
      ]
     },
     "execution_count": 9,
     "metadata": {},
     "output_type": "execute_result"
    }
   ],
   "source": [
    "bonds_logits"
   ]
  },
  {
   "cell_type": "code",
   "execution_count": 10,
   "metadata": {},
   "outputs": [
    {
     "ename": "RuntimeError",
     "evalue": "element 0 of tensors does not require grad and does not have a grad_fn",
     "output_type": "error",
     "traceback": [
      "\u001b[0;31m---------------------------------------------------------------------------\u001b[0m",
      "\u001b[0;31mRuntimeError\u001b[0m                              Traceback (most recent call last)",
      "\u001b[0;32m<ipython-input-10-614c7f8efc55>\u001b[0m in \u001b[0;36m<module>\u001b[0;34m\u001b[0m\n\u001b[1;32m      1\u001b[0m \u001b[0mG_fgw\u001b[0m \u001b[0;34m=\u001b[0m \u001b[0mgrad\u001b[0m\u001b[0;34m(\u001b[0m\u001b[0mfgw_loss_item\u001b[0m\u001b[0;34m,\u001b[0m \u001b[0mx_embedding\u001b[0m\u001b[0;34m,\u001b[0m \u001b[0mretain_graph\u001b[0m \u001b[0;34m=\u001b[0m \u001b[0;32mTrue\u001b[0m\u001b[0;34m)\u001b[0m\u001b[0;34m\u001b[0m\u001b[0;34m\u001b[0m\u001b[0m\n\u001b[0;32m----> 2\u001b[0;31m \u001b[0mG_euler\u001b[0m \u001b[0;34m=\u001b[0m \u001b[0mgrad\u001b[0m\u001b[0;34m(\u001b[0m\u001b[0mpen_loss\u001b[0m\u001b[0;34m[\u001b[0m\u001b[0;36m2\u001b[0m\u001b[0;34m]\u001b[0m\u001b[0;34m,\u001b[0m \u001b[0mbonds_logits\u001b[0m\u001b[0;34m,\u001b[0m \u001b[0mretain_graph\u001b[0m \u001b[0;34m=\u001b[0m \u001b[0;32mTrue\u001b[0m\u001b[0;34m)\u001b[0m\u001b[0;34m\u001b[0m\u001b[0;34m\u001b[0m\u001b[0m\n\u001b[0m\u001b[1;32m      3\u001b[0m \u001b[0;34m\u001b[0m\u001b[0m\n\u001b[1;32m      4\u001b[0m \u001b[0mprint\u001b[0m\u001b[0;34m(\u001b[0m\u001b[0mG_euler\u001b[0m\u001b[0;34m[\u001b[0m\u001b[0;36m0\u001b[0m\u001b[0;34m]\u001b[0m\u001b[0;34m.\u001b[0m\u001b[0mabs\u001b[0m\u001b[0;34m(\u001b[0m\u001b[0;34m)\u001b[0m\u001b[0;34m.\u001b[0m\u001b[0mmean\u001b[0m\u001b[0;34m(\u001b[0m\u001b[0;34m)\u001b[0m\u001b[0;34m.\u001b[0m\u001b[0mitem\u001b[0m\u001b[0;34m(\u001b[0m\u001b[0;34m)\u001b[0m\u001b[0;34m)\u001b[0m\u001b[0;34m\u001b[0m\u001b[0;34m\u001b[0m\u001b[0m\n\u001b[1;32m      5\u001b[0m \u001b[0mprint\u001b[0m\u001b[0;34m(\u001b[0m\u001b[0mG_fgw\u001b[0m\u001b[0;34m[\u001b[0m\u001b[0;36m0\u001b[0m\u001b[0;34m]\u001b[0m\u001b[0;34m.\u001b[0m\u001b[0mabs\u001b[0m\u001b[0;34m(\u001b[0m\u001b[0;34m)\u001b[0m\u001b[0;34m.\u001b[0m\u001b[0mmean\u001b[0m\u001b[0;34m(\u001b[0m\u001b[0;34m)\u001b[0m\u001b[0;34m.\u001b[0m\u001b[0mitem\u001b[0m\u001b[0;34m(\u001b[0m\u001b[0;34m)\u001b[0m\u001b[0;34m)\u001b[0m\u001b[0;34m\u001b[0m\u001b[0;34m\u001b[0m\u001b[0m\n",
      "\u001b[0;32m~/anaconda3/envs/mol_ot/lib/python3.6/site-packages/torch/autograd/__init__.py\u001b[0m in \u001b[0;36mgrad\u001b[0;34m(outputs, inputs, grad_outputs, retain_graph, create_graph, only_inputs, allow_unused)\u001b[0m\n\u001b[1;32m    190\u001b[0m     return Variable._execution_engine.run_backward(\n\u001b[1;32m    191\u001b[0m         \u001b[0moutputs\u001b[0m\u001b[0;34m,\u001b[0m \u001b[0mgrad_outputs\u001b[0m\u001b[0;34m,\u001b[0m \u001b[0mretain_graph\u001b[0m\u001b[0;34m,\u001b[0m \u001b[0mcreate_graph\u001b[0m\u001b[0;34m,\u001b[0m\u001b[0;34m\u001b[0m\u001b[0;34m\u001b[0m\u001b[0m\n\u001b[0;32m--> 192\u001b[0;31m         inputs, allow_unused)\n\u001b[0m\u001b[1;32m    193\u001b[0m \u001b[0;34m\u001b[0m\u001b[0m\n\u001b[1;32m    194\u001b[0m \u001b[0;34m\u001b[0m\u001b[0m\n",
      "\u001b[0;31mRuntimeError\u001b[0m: element 0 of tensors does not require grad and does not have a grad_fn"
     ]
    }
   ],
   "source": [
    "G_fgw = grad(fgw_loss_item, x_embedding, retain_graph = True)\n",
    "G_euler = grad(pen_loss[2], bonds_logits, retain_graph = True)\n",
    "\n",
    "print(G_euler[0].abs().mean().item())\n",
    "print(G_fgw[0].abs().mean().item())\n",
    "print()\n",
    "print(np.mean((torch.sum(G_euler[0], dim = 1) == 0).cpu().detach().numpy()))\n",
    "print(np.mean((torch.sum(G_fgw[0], dim = 1) == 0).cpu().detach().numpy()))\n",
    "print()\n",
    "print(symbols_logits.abs().mean().item())\n",
    "print(bonds_logits.abs().mean().item())"
   ]
  },
  {
   "cell_type": "code",
   "execution_count": 11,
   "metadata": {},
   "outputs": [],
   "source": [
    "bonds_logits_softmaxed = nn.Softmax(dim = 1)(bonds_logits)"
   ]
  },
  {
   "cell_type": "code",
   "execution_count": 12,
   "metadata": {
    "scrolled": true
   },
   "outputs": [
    {
     "data": {
      "text/plain": [
       "tensor(-6.5029e-05, device='cuda:0')"
      ]
     },
     "execution_count": 12,
     "metadata": {},
     "output_type": "execute_result"
    }
   ],
   "source": [
    "grad(bonds_logits_softmaxed[:,4].sum(), bonds_logits, retain_graph = True)[0].sum()"
   ]
  },
  {
   "cell_type": "code",
   "execution_count": 13,
   "metadata": {},
   "outputs": [
    {
     "data": {
      "text/plain": [
       "tensor([[0.0000e+00, 0.0000e+00, 0.0000e+00, 0.0000e+00, 1.0000e+00],\n",
       "        [5.9212e-01, 8.3891e-04, 4.0517e-07, 4.0550e-18, 4.0704e-01],\n",
       "        [1.3381e-02, 1.9984e-08, 6.8865e-13, 1.8788e-29, 9.8662e-01],\n",
       "        ...,\n",
       "        [1.2997e-05, 2.1072e-10, 5.1483e-22, 3.4897e-39, 9.9999e-01],\n",
       "        [5.2833e-01, 4.1892e-02, 1.3423e-03, 5.0275e-08, 4.2844e-01],\n",
       "        [0.0000e+00, 0.0000e+00, 0.0000e+00, 0.0000e+00, 1.0000e+00]],\n",
       "       device='cuda:0', grad_fn=<SoftmaxBackward>)"
      ]
     },
     "execution_count": 13,
     "metadata": {},
     "output_type": "execute_result"
    }
   ],
   "source": [
    "bonds_logits_softmaxed"
   ]
  },
  {
   "cell_type": "code",
   "execution_count": 14,
   "metadata": {},
   "outputs": [
    {
     "data": {
      "text/plain": [
       "torch.Size([1150, 100])"
      ]
     },
     "execution_count": 14,
     "metadata": {},
     "output_type": "execute_result"
    }
   ],
   "source": [
    "x_embedding.shape"
   ]
  },
  {
   "cell_type": "code",
   "execution_count": 15,
   "metadata": {
    "scrolled": true
   },
   "outputs": [
    {
     "name": "stdout",
     "output_type": "stream",
     "text": [
      "0 30.0 25\n",
      "CC1C(CCCCCCC(N)CC2CCC2)C1CCC12C3C4C1C3C42\n",
      "1 18.0 16\n",
      "CC1CC1CC12CC(N1)C2CCC(C)(C)O\n",
      "2 30.0 29\n",
      "CC(C)(C)C.CC(C)C.CN(C)CNCC1CCC1C1(CC2(N)CCC2)C2CC21\n",
      "3 40.0 35\n",
      "CCC1C(C)C2CC3(C)CC4(C(CC(C)(C)CCN5C6NC5N6)CC234)C1C(C)CCCCC(C)N\n",
      "4 23.0 21\n",
      "CNC(N)(CCC1(C)C2C3C(N(C)C)C2C31)NC(N)(N)N\n",
      "5 50.0 47\n",
      "CC.CC(C)CC1(CC(C)(CC(C)C(C)C)C(CCC(N)NCN(C)C)(CCC(C)(C)(C)O)C2C3C(C45CN(C4)C5)C2C3(C)N)CC1\n",
      "6 21.0 18\n",
      "CCC1(CCCC(C)C)C2C1N2C1CC2(C)NC12\n",
      "7 26.0 23\n",
      "CC(C)C1C2C3CC(C(NCN)NC(N)N)C4CC(C)(C)C42C31\n",
      "8 27.0 23\n",
      "CC1CC2(CC3CCCNC3)CC3(C2)CC13CC1CC(C)(C)C1\n",
      "9 20.0 18\n",
      "CC1CC(C)(OCCC2NCC23CN(CN)C3)C1\n",
      "10 20.0 16\n",
      "N[SH](N)NCC12CC3(CC45CC(C4)C5)C1C23\n",
      "11 28.0 23\n",
      "CC(C)(C)C12CC(C3CC(C4C(C5NN5)CC45CCC5)C3)(C1)C2\n",
      "12 21.0 18\n",
      "CC12CCC(C3CC3C3CCC3)NCCC1NC2\n",
      "13 24.0 21\n",
      "CCNC(C)C1(C(C)C(C)CC)CC2(C1)C1CC12C1CC1\n",
      "14 8.0 7\n",
      "C#CC12CC1(C)O2\n",
      "15 15.0 12\n",
      "CC1C(C2CC2)CC12CN1NC12\n",
      "16 16.0 12\n",
      "CCC12C3C(N4N5NN54)C1(S)C32\n",
      "17 24.0 21\n",
      "CC1NCC(C2C34CC2(C3)C4(C)C)C(C)(C)[SH]1C(N)(N)N\n",
      "18 20.0 17\n",
      "CCCC1(C)CC2(C(C)CN)CC3C4C3C4C12\n",
      "19 26.0 23\n",
      "CC(CCCCC1C2CC1C2NC1(C)CCC1)C1CC(NN)C1\n",
      "20 29.0 25\n",
      "CNCCC1C2C3(N)BrC4(CCC(C)C)CC45CC(N5)C(C)C2(C)N13\n",
      "21 31.0 27\n",
      "CCSC1(NC(C)(N)C(C)C)CC(C(C)CC2CC3(C2)CC2C4CC23N4)C1\n",
      "22 35.0 30\n",
      "CCCNC(C)(N)NC1(NC(C)(F)CCC(C)C2CC23CC3)C2C34CC2(C13)C4(C)C\n",
      "23 29.0 25\n",
      "CCC1C(CCCC2CCC2)CC(C)CN2C(C)C3(C4CC3C14)C2N\n",
      "24 26.0 23\n",
      "C1CNC1.CC12CC3C(F)C(CCCCC4NS(C)(N)N4)(C1)C32\n",
      "25 22.0 21\n",
      "CCC(CC1(C)CC2CCCNNCC21)C(C)(C)C(Cl)Br\n",
      "26 17.0 14\n",
      "CC1CC2C(C(N)N1)C1C3CCC3C21\n",
      "27 24.0 19\n",
      "CC1CC2C3C4C(C5CC(N)[SH]6C(Cl)NC6C54N)C123\n",
      "28 39.0 32\n",
      "C1C23CC1(C2)C3.C1C23CC1(O2)O3.C1C23CC1(O2)O3.CC.CC.CC.N1S2345NS1(N2)(N3)(N4)N5\n",
      "29 32.0 28\n",
      "CCCC1C(C)C(C)SC23CC(N2N(C)N3)C2(C)CC3C(C1C)C(CC)C32F\n",
      "30 27.0 24\n",
      "CC1CCCCC2(C)CC3(CC3C3(CN)CC(CNC(N)N1)C3)C2\n",
      "31 29.0 26\n",
      "CC(N)C1CCC1C1CNC2(CCN)CCC2(C)CC(C)C1CC1CC1\n",
      "32 21.0 17\n",
      "CC(C)(C)NC1(N2C3C4C3C42)SC2(N)NCN21\n",
      "33 26.0 26\n",
      "CCNCC(C(C)CC)C(CCC1CN(I)C1(C)C)C(C)C(C)NNC\n",
      "34 23.0 20\n",
      "CC1CC12CCC2CCCCN1CNC2(C)(C)SC1Cl2\n",
      "35 25.0 22\n",
      "CC1CC2CC(N2)C2NC23C(C)C3CCC(C)C(C(C)C)C1\n",
      "36 47.0 43\n",
      "CC(CCCS)(CNC1(N)(N)N2CN1C2(C)C)CC(C)(CCOC1CC1)C1(C)CC1.CCC(N)C1C2C(C)C12.NC1CN1\n",
      "37 31.0 28\n",
      "CCC1CC(CCC(C)C2(CC)CCC2)C1(C)C1(C)C2NC1N2C(N)(N)CC\n",
      "38 16.0 13\n",
      "NC1CC(CC2CC3CC4CC234)N1\n",
      "39 28.0 24\n",
      "CCCC1C2CC1C2CSC(C)(C(N)CC)C1NC23CC(N)(C2)N13\n",
      "40 27.0 25\n",
      "CCC(C)CC(CCCNC1(N)NCN1)C(C)OC1CC2C(C)CC12\n",
      "41 21.0 18\n",
      "CCC(C)C1(C2(C)C3NC24NC(N)(N)C34)CCC1\n",
      "42 39.0 34\n",
      "CC1CC(CCC(C)(C)C(C)(C)C(C)(C)IN2C34CC2(N3)N4)(C(O)(O)OCCC2C3CC2C3)C1\n",
      "43 29.0 25\n",
      "CC(N)CC1NCC1CC12CC3C1C(C)(C(N)CC1CCC1(C)C)C32\n",
      "44 31.0 29\n",
      "CC(C)C(CCCCC1(O)CCC(C)(C)CC12CCC2)CCNCC1CNC1N\n",
      "45 14.0 13\n",
      "ON(NCCC1CCC1)OC1CC1\n",
      "46 44.0 41\n",
      "CCCC(C)C(O)(O)CCC1C(CC2(C)CC2)CC1C1CCC1.CCCCC(C)CNC1(C)C2CN1C2NC(C)C\n",
      "47 25.0 20\n",
      "CCNC1(C2C3(C4CCC4C)NS2(N)N3)C23CC1(C2)C3\n",
      "48 17.0 16\n",
      "CC(C1CCC1)C(O)C1O[PH](C)(C)(N)(O)O1\n",
      "49 18.0 17\n",
      "CC(C)CCCC(N)C(C)C1CC2CC(N)N21\n"
     ]
    }
   ],
   "source": [
    "bond_idx = 0\n",
    "smiles = []\n",
    "\n",
    "yhat = []\n",
    "yact = []\n",
    "for mol_idx, (st, le) in enumerate(Y.scope):\n",
    "    symbols = symbols_labels[st:st+le]\n",
    "    charges = charges_labels[st:st+le]\n",
    "    bonds = bonds_labels[bond_idx:bond_idx+le*le].view(le, le)\n",
    "    bond_idx += le * le\n",
    "    smiles.append(feat2smiles(SYMBOLS, FORMAL_CHARGES, BOND_TYPES, symbols, charges, bonds, False))\n",
    "    yhat.append(le)\n",
    "    yact.append((bonds != 4).sum().item()/2.)\n",
    "    print (mol_idx, yact[-1], le)\n",
    "    print (smiles[-1])\n",
    "    \n",
    "yhat = np.array(yhat)\n",
    "yact = np.array(yact)\n"
   ]
  },
  {
   "cell_type": "code",
   "execution_count": 16,
   "metadata": {},
   "outputs": [
    {
     "data": {
      "text/plain": [
       "(array([ 1.,  6.,  5.,  0., 19., 11.,  0.,  7.,  0.,  1.]),\n",
       " array([0. , 0.7, 1.4, 2.1, 2.8, 3.5, 4.2, 4.9, 5.6, 6.3, 7. ]),\n",
       " <BarContainer object of 10 artists>)"
      ]
     },
     "execution_count": 16,
     "metadata": {},
     "output_type": "execute_result"
    },
    {
     "data": {
      "image/png": "[encoded data removed]",
      "text/plain": [
       "<Figure size 432x288 with 1 Axes>"
      ]
     },
     "metadata": {},
     "output_type": "display_data"
    }
   ],
   "source": [
    "plt.hist(yact - yhat)"
   ]
  },
  {
   "cell_type": "code",
   "execution_count": 17,
   "metadata": {},
   "outputs": [
    {
     "data": {
      "image/png": "[encoded data removed]",
      "text/plain": [
       "<rdkit.Chem.rdchem.Mol at 0x7f2834c9ab20>"
      ]
     },
     "execution_count": 17,
     "metadata": {},
     "output_type": "execute_result"
    }
   ],
   "source": [
    "Chem.MolFromSmiles(smiles[5], sanitize = False)"
   ]
  },
  {
   "cell_type": "code",
   "execution_count": 18,
   "metadata": {},
   "outputs": [
    {
     "data": {
      "text/plain": [
       "array([  0, 100, 200, 300, 400, 500, 600, 700, 800, 900])"
      ]
     },
     "execution_count": 18,
     "metadata": {},
     "output_type": "execute_result"
    }
   ],
   "source": [
    "np.arange(0,1000,100)"
   ]
  },
  {
   "cell_type": "code",
   "execution_count": 19,
   "metadata": {
    "scrolled": true
   },
   "outputs": [
    {
     "data": {
      "text/plain": [
       "tensor([0, 0, 0, 0, 0, 0, 0, 0, 0, 0, 0, 0, 0, 0, 0, 0, 0, 0, 0, 0, 2, 0, 0, 2,\n",
       "        2])"
      ]
     },
     "execution_count": 19,
     "metadata": {},
     "output_type": "execute_result"
    }
   ],
   "source": [
    "mol_idx = 0 \n",
    "torch.argmax(target[mol_idx]['SYMBOLS'], dim=1)"
   ]
  },
  {
   "cell_type": "code",
   "execution_count": 20,
   "metadata": {},
   "outputs": [
    {
     "data": {
      "text/plain": [
       "tensor(1.9771, device='cuda:0', grad_fn=<MaxBackward1>)"
      ]
     },
     "execution_count": 20,
     "metadata": {},
     "output_type": "execute_result"
    }
   ],
   "source": [
    "(x_embedding.mean(axis = 0) / x_embedding.std(axis = 0)).abs().max()"
   ]
  },
  {
   "cell_type": "code",
   "execution_count": 21,
   "metadata": {
    "scrolled": true
   },
   "outputs": [
    {
     "name": "stdout",
     "output_type": "stream",
     "text": [
      "CC1C(CCCCCCC(N)CC2CCC2)C1CCC12C3C4C1C3C42\n",
      "CC1CC1CC12CC(N1)C2CCC(C)(C)O\n",
      "CC(C)(C)C.CC(C)C.CN(C)CNCC1CCC1C1(CC2(N)CCC2)C2CC21\n",
      "CCC1C(C)C2CC3(C)CC4(C(CC(C)(C)CCN5C6NC5N6)CC234)C1C(C)CCCCC(C)N\n",
      "CNC(N)(CCC1(C)C2C3C(N(C)C)C2C31)NC(N)(N)N\n",
      "CC.CC(C)CC1(CC(C)(CC(C)C(C)C)C(CCC(N)NCN(C)C)(CCC(C)(C)(C)O)C2C3C(C45CN(C4)C5)C2C3(C)N)CC1\n",
      "CCC1(CCCC(C)C)C2C1N2C1CC2(C)NC12\n",
      "CC(C)C1C2C3CC(C(NCN)NC(N)N)C4CC(C)(C)C42C31\n",
      "CC1CC2(CC3CCCNC3)CC3(C2)CC13CC1CC(C)(C)C1\n",
      "CC1CC(C)(OCCC2NCC23CN(CN)C3)C1\n",
      "N[SH](N)NCC12CC3(CC45CC(C4)C5)C1C23\n",
      "CC(C)(C)C12CC(C3CC(C4C(C5NN5)CC45CCC5)C3)(C1)C2\n",
      "CC12CCC(C3CC3C3CCC3)NCCC1NC2\n",
      "CCNC(C)C1(C(C)C(C)CC)CC2(C1)C1CC12C1CC1\n",
      "C#CC12CC1(C)O2\n",
      "CC1C(C2CC2)CC12CN1NC12\n",
      "CCC12C3C(N4N5NN54)C1(S)C32\n",
      "CC1NCC(C2C34CC2(C3)C4(C)C)C(C)(C)[SH]1C(N)(N)N\n",
      "CCCC1(C)CC2(C(C)CN)CC3C4C3C4C12\n",
      "CC(CCCCC1C2CC1C2NC1(C)CCC1)C1CC(NN)C1\n",
      "CNCCC1C2C3(N)BrC4(CCC(C)C)CC45CC(N5)C(C)C2(C)N13\n",
      "CCSC1(NC(C)(N)C(C)C)CC(C(C)CC2CC3(C2)CC2C4CC23N4)C1\n",
      "CCCNC(C)(N)NC1(NC(C)(F)CCC(C)C2CC23CC3)C2C34CC2(C13)C4(C)C\n",
      "CCC1C(CCCC2CCC2)CC(C)CN2C(C)C3(C4CC3C14)C2N\n",
      "C1CNC1.CC12CC3C(F)C(CCCCC4NS(C)(N)N4)(C1)C32\n",
      "CCC(CC1(C)CC2CCCNNCC21)C(C)(C)C(Cl)Br\n",
      "CC1CC2C(C(N)N1)C1C3CCC3C21\n",
      "CC1CC2C3C4C(C5CC(N)[SH]6C(Cl)NC6C54N)C123\n",
      "C1C23CC1(C2)C3.C1C23CC1(O2)O3.C1C23CC1(O2)O3.CC.CC.CC.N1S2345NS1(N2)(N3)(N4)N5\n",
      "CCCC1C(C)C(C)SC23CC(N2N(C)N3)C2(C)CC3C(C1C)C(CC)C32F\n",
      "CC1CCCCC2(C)CC3(CC3C3(CN)CC(CNC(N)N1)C3)C2\n",
      "CC(N)C1CCC1C1CNC2(CCN)CCC2(C)CC(C)C1CC1CC1\n",
      "CC(C)(C)NC1(N2C3C4C3C42)SC2(N)NCN21\n",
      "CCNCC(C(C)CC)C(CCC1CN(I)C1(C)C)C(C)C(C)NNC\n",
      "CC1CC12CCC2CCCCN1CNC2(C)(C)SC1Cl2\n",
      "CC1CC2CC(N2)C2NC23C(C)C3CCC(C)C(C(C)C)C1\n",
      "CC(CCCS)(CNC1(N)(N)N2CN1C2(C)C)CC(C)(CCOC1CC1)C1(C)CC1.CCC(N)C1C2C(C)C12.NC1CN1\n",
      "CCC1CC(CCC(C)C2(CC)CCC2)C1(C)C1(C)C2NC1N2C(N)(N)CC\n",
      "NC1CC(CC2CC3CC4CC234)N1\n",
      "CCCC1C2CC1C2CSC(C)(C(N)CC)C1NC23CC(N)(C2)N13\n",
      "CCC(C)CC(CCCNC1(N)NCN1)C(C)OC1CC2C(C)CC12\n",
      "CCC(C)C1(C2(C)C3NC24NC(N)(N)C34)CCC1\n",
      "CC1CC(CCC(C)(C)C(C)(C)C(C)(C)IN2C34CC2(N3)N4)(C(O)(O)OCCC2C3CC2C3)C1\n",
      "CC(N)CC1NCC1CC12CC3C1C(C)(C(N)CC1CCC1(C)C)C32\n",
      "CC(C)C(CCCCC1(O)CCC(C)(C)CC12CCC2)CCNCC1CNC1N\n",
      "ON(NCCC1CCC1)OC1CC1\n",
      "CCCC(C)C(O)(O)CCC1C(CC2(C)CC2)CC1C1CCC1.CCCCC(C)CNC1(C)C2CN1C2NC(C)C\n",
      "CCNC1(C2C3(C4CCC4C)NS2(N)N3)C23CC1(C2)C3\n",
      "CC(C1CCC1)C(O)C1O[PH](C)(C)(N)(O)O1\n",
      "CC(C)CCCC(N)C(C)C1CC2CC(N)N21\n"
     ]
    }
   ],
   "source": [
    "target_smiles = [Chem.MolToSmiles(y) for y in Y.rd_mols]\n",
    "initial_smiles = [Chem.MolToSmiles(y) for y in X.rd_mols]\n",
    "\n",
    "# uncomment for tensorboard\n",
    "tb_writer = SummaryWriter(logdir = args.tb_logs_dir)\n",
    "mol_drawer = MolDrawer(tb_writer, SYMBOLS, BOND_TYPES, FORMAL_CHARGES)\n",
    "mol_drawer.visualize_batch(pred_pack[0], target_smiles, model_iter, initial_smiles, text=\"{}-{}-manual-\".format(args.init_model, model_iter))"
   ]
  },
  {
   "cell_type": "code",
   "execution_count": 27,
   "metadata": {},
   "outputs": [
    {
     "data": {
      "text/plain": [
       "'C.C.C.C.C.C.C.C.C.C.C.C.C.C.C.N.N.O.O.O.O'"
      ]
     },
     "execution_count": 27,
     "metadata": {},
     "output_type": "execute_result"
    }
   ],
   "source": [
    "feat2smiles(SYMBOLS, FORMAL_CHARGES, BOND_TYPES, symbols, charges, bonds, False)"
   ]
  },
  {
   "cell_type": "code",
   "execution_count": 67,
   "metadata": {},
   "outputs": [],
   "source": [
    "tau = pen.tau\n",
    "# tau = 0.001\n",
    "# symbols_nll, charges_nll, bonds_nll = F.gumbel_softmax(tau = tau, dim=1, logits = symbols_logits), F.gumbel_softmax(tau=tau,dim=1,logits=charges_logits), F.gumbel_softmax(tau=tau,dim=1, logits = bonds_logits)\n",
    "# symbols_nll, charges_nll, bonds_nll = -nn.LogSoftmax(dim=1)(symbols_logits/tau),\\\n",
    "#              -nn.LogSoftmax(dim=1)(charges_logits/tau), -nn.LogSoftmax(dim=1)(bonds_logits/tau)\n",
    "\n",
    "def softmax(logits, tau):\n",
    "#     logitsn = F.normalize(logits, dim = 1)\n",
    "#     return -nn.LogSoftmax(dim=1)(logitsn/tau)\n",
    "    return F.gumbel_softmax(tau = tau, dim=1, logits = logits)\n",
    "\n",
    "symbols_nll = softmax(symbols_logits, tau)\n",
    "charges_nll = softmax(charges_logits, tau)\n",
    "bonds_nll = softmax(bonds_logits, tau)"
   ]
  },
  {
   "cell_type": "code",
   "execution_count": 68,
   "metadata": {},
   "outputs": [
    {
     "data": {
      "text/plain": [
       "0.05195383849590577"
      ]
     },
     "execution_count": 68,
     "metadata": {},
     "output_type": "execute_result"
    }
   ],
   "source": [
    "pen.tau"
   ]
  },
  {
   "cell_type": "code",
   "execution_count": 39,
   "metadata": {},
   "outputs": [
    {
     "data": {
      "text/plain": [
       "(array([201., 231., 302., 166., 129.,  31.,  15.,   3.,   0.,   1.]),\n",
       " array([ 47.78911,  64.59665,  81.40419,  98.21173, 115.01927, 131.82681,\n",
       "        148.63435, 165.4419 , 182.24944, 199.05698, 215.86452],\n",
       "       dtype=float32),\n",
       " <a list of 10 Patch objects>)"
      ]
     },
     "execution_count": 39,
     "metadata": {},
     "output_type": "execute_result"
    },
    {
     "data": {
      "image/png": "[encoded data removed]",
      "text/plain": [
       "<Figure size 432x288 with 1 Axes>"
      ]
     },
     "metadata": {},
     "output_type": "display_data"
    }
   ],
   "source": [
    "plt.hist(symbols_logits.norm(dim = 1).cpu().detach().numpy())"
   ]
  },
  {
   "cell_type": "code",
   "execution_count": 52,
   "metadata": {},
   "outputs": [
    {
     "data": {
      "text/plain": [
       "(array([  24.,   19.,   36.,   26.,   17.,   32.,   31.,   21.,   36.,\n",
       "          33.,   37.,   35.,   64.,   66.,   97.,   71.,   65.,   86.,\n",
       "          72.,   75.,  106.,   87.,   79.,   95.,   68.,   72.,   76.,\n",
       "          61.,   81.,   70.,   63.,   71.,   53.,   74.,   68.,   62.,\n",
       "          30.,   37.,   45.,   40.,   58.,   32.,   65.,   58.,   57.,\n",
       "          55.,   50.,   64.,   82.,   32.,   38.,   50.,   59.,   44.,\n",
       "          49.,   49.,   50.,   68.,   49.,   55.,   66.,   43.,   49.,\n",
       "          92.,   82.,   55.,   79.,   63.,   89.,   84.,   65.,   75.,\n",
       "         101.,   97.,   83.,  111.,   99.,  111.,  130.,  119.,  118.,\n",
       "         137.,  127.,  147.,  109.,  161.,  210.,  198.,  219.,  271.,\n",
       "         338.,  430.,  511.,  560.,  580.,  880., 1053., 1574., 2603.,\n",
       "        8307.]),\n",
       " array([0.2980454 , 0.30506495, 0.3120845 , 0.31910405, 0.3261236 ,\n",
       "        0.33314312, 0.34016266, 0.3471822 , 0.35420176, 0.3612213 ,\n",
       "        0.36824086, 0.3752604 , 0.38227996, 0.38929948, 0.39631903,\n",
       "        0.40333858, 0.41035813, 0.41737768, 0.42439723, 0.43141678,\n",
       "        0.43843633, 0.44545585, 0.4524754 , 0.45949495, 0.4665145 ,\n",
       "        0.47353405, 0.4805536 , 0.48757315, 0.4945927 , 0.50161225,\n",
       "        0.50863177, 0.51565135, 0.52267087, 0.52969044, 0.53670996,\n",
       "        0.5437295 , 0.55074906, 0.5577686 , 0.56478816, 0.5718077 ,\n",
       "        0.57882726, 0.5858468 , 0.5928663 , 0.5998859 , 0.6069054 ,\n",
       "        0.613925  , 0.6209445 , 0.6279641 , 0.6349836 , 0.6420032 ,\n",
       "        0.6490227 , 0.6560422 , 0.6630618 , 0.6700813 , 0.6771009 ,\n",
       "        0.6841204 , 0.69114   , 0.6981595 , 0.7051791 , 0.7121986 ,\n",
       "        0.71921813, 0.7262377 , 0.73325723, 0.7402768 , 0.74729633,\n",
       "        0.7543159 , 0.76133543, 0.76835495, 0.77537453, 0.78239405,\n",
       "        0.78941363, 0.79643315, 0.80345273, 0.81047225, 0.8174918 ,\n",
       "        0.82451135, 0.83153087, 0.83855045, 0.84556997, 0.85258955,\n",
       "        0.85960907, 0.86662865, 0.87364817, 0.88066775, 0.88768727,\n",
       "        0.8947068 , 0.90172637, 0.9087459 , 0.91576546, 0.922785  ,\n",
       "        0.92980456, 0.9368241 , 0.9438436 , 0.9508632 , 0.9578827 ,\n",
       "        0.9649023 , 0.9719218 , 0.9789414 , 0.9859609 , 0.9929805 ,\n",
       "        1.        ], dtype=float32),\n",
       " <a list of 100 Patch objects>)"
      ]
     },
     "execution_count": 52,
     "metadata": {},
     "output_type": "execute_result"
    },
    {
     "data": {
      "image/png": "[encoded data removed]",
      "text/plain": [
       "<Figure size 432x288 with 1 Axes>"
      ]
     },
     "metadata": {},
     "output_type": "display_data"
    }
   ],
   "source": [
    "max_logits = torch.max(F.softmax(dim=1, input = bonds_logits), dim = 1).values.detach().cpu().numpy()\n",
    "plt.hist(max_logits, bins = 100)"
   ]
  },
  {
   "cell_type": "code",
   "execution_count": 26,
   "metadata": {},
   "outputs": [
    {
     "data": {
      "text/plain": [
       "torch.Size([1079, 64])"
      ]
     },
     "execution_count": 26,
     "metadata": {},
     "output_type": "execute_result"
    }
   ],
   "source": [
    "symbols_logits.shape"
   ]
  },
  {
   "cell_type": "code",
   "execution_count": 70,
   "metadata": {},
   "outputs": [
    {
     "data": {
      "text/plain": [
       "<BarContainer object of 64 artists>"
      ]
     },
     "execution_count": 70,
     "metadata": {},
     "output_type": "execute_result"
    },
    {
     "data": {
      "image/png": "[encoded data removed]",
      "text/plain": [
       "<Figure size 432x288 with 1 Axes>"
      ]
     },
     "metadata": {},
     "output_type": "display_data"
    }
   ],
   "source": [
    "means = symbols_logits.mean(axis = 0).cpu().detach().numpy()\n",
    "stds = symbols_logits.std(axis = 0).cpu().detach().numpy()\n",
    "plt.bar(range(len(SYMBOLS)), means, yerr = stds)"
   ]
  },
  {
   "cell_type": "code",
   "execution_count": 71,
   "metadata": {},
   "outputs": [
    {
     "data": {
      "text/plain": [
       "<BarContainer object of 5 artists>"
      ]
     },
     "execution_count": 71,
     "metadata": {},
     "output_type": "execute_result"
    },
    {
     "data": {
      "image/png": "[encoded data removed]",
      "text/plain": [
       "<Figure size 432x288 with 1 Axes>"
      ]
     },
     "metadata": {},
     "output_type": "display_data"
    }
   ],
   "source": [
    "means = bonds_logits.mean(axis = 0).cpu().detach().numpy()\n",
    "stds = bonds_logits.std(axis = 0).cpu().detach().numpy()\n",
    "plt.bar(range(len(BOND_TYPES)), means, yerr = stds)"
   ]
  },
  {
   "cell_type": "code",
   "execution_count": 101,
   "metadata": {
    "scrolled": true
   },
   "outputs": [
    {
     "data": {
      "text/plain": [
       "tensor([27,  4, 53,  ...,  4,  7, 50], device='cuda:0')"
      ]
     },
     "execution_count": 101,
     "metadata": {},
     "output_type": "execute_result"
    }
   ],
   "source": [
    "torch.argmax(F.gumbel_softmax(tau = 1, dim=1, logits = symbols_logits), axis = 1)\n",
    "# torch.argmax(F.softmax(symbols_logits, dim = 1), axis = 1)"
   ]
  },
  {
   "cell_type": "code",
   "execution_count": 102,
   "metadata": {},
   "outputs": [
    {
     "data": {
      "text/plain": [
       "tensor([-0.7168, -0.6918, -0.7858,  ..., -0.2435, -0.3567, -0.3224],\n",
       "       device='cuda:0', grad_fn=<SumBackward1>)"
      ]
     },
     "execution_count": 102,
     "metadata": {},
     "output_type": "execute_result"
    }
   ],
   "source": [
    "bonds_logits.sum(axis = 1)"
   ]
  },
  {
   "cell_type": "code",
   "execution_count": 103,
   "metadata": {},
   "outputs": [
    {
     "data": {
      "text/plain": [
       "tensor([[1.1898e-07, 4.1788e-15, 1.1364e-11,  ..., 1.1246e-15, 4.4671e-12,\n",
       "         2.6455e-06],\n",
       "        [5.9730e-32, 3.8587e-35, 2.3728e-35,  ..., 2.7590e-26, 4.3688e-35,\n",
       "         6.8968e-34],\n",
       "        [2.3369e-16, 5.9282e-12, 9.6984e-11,  ..., 5.1900e-19, 7.2133e-17,\n",
       "         2.6491e-13],\n",
       "        ...,\n",
       "        [1.0000e+00, 1.0524e-29, 1.8007e-29,  ..., 5.9074e-30, 3.6392e-36,\n",
       "         2.7992e-31],\n",
       "        [3.3421e-20, 3.4711e-14, 4.9880e-17,  ..., 4.9878e-09, 9.8660e-22,\n",
       "         7.0411e-26],\n",
       "        [5.2386e-27, 2.3484e-27, 5.3644e-35,  ..., 3.0511e-31, 3.9224e-33,\n",
       "         6.2579e-37]], device='cuda:0', grad_fn=<SoftmaxBackward>)"
      ]
     },
     "execution_count": 103,
     "metadata": {},
     "output_type": "execute_result"
    }
   ],
   "source": [
    "F.gumbel_softmax(tau = 0.1, dim=1, logits = symbols_logits)"
   ]
  },
  {
   "cell_type": "code",
   "execution_count": 104,
   "metadata": {},
   "outputs": [
    {
     "data": {
      "text/plain": [
       "tensor([[30.4351, 34.9901, 82.9673, 68.6483, -0.0000],\n",
       "        [35.5620, 39.7150, 82.7646, 71.0517, -0.0000],\n",
       "        [36.0503, 39.9646, 83.9324, 70.3454, -0.0000],\n",
       "        ...,\n",
       "        [26.6836, 38.2859, 91.0719, 90.3248, -0.0000],\n",
       "        [20.4135, 28.7948, 73.8399, 72.7646, -0.0000],\n",
       "        [21.0419, 32.0101, 80.5401, 78.0148, -0.0000]], device='cuda:0',\n",
       "       grad_fn=<NegBackward>)"
      ]
     },
     "execution_count": 104,
     "metadata": {},
     "output_type": "execute_result"
    }
   ],
   "source": [
    "bonds_nll"
   ]
  },
  {
   "cell_type": "code",
   "execution_count": 105,
   "metadata": {},
   "outputs": [
    {
     "data": {
      "text/plain": [
       "(tensor([2, 3, 4], device='cuda:0'),\n",
       " tensor([13527, 10041,     3], device='cuda:0'))"
      ]
     },
     "execution_count": 105,
     "metadata": {},
     "output_type": "execute_result"
    }
   ],
   "source": [
    "torch.argmax(bonds_nll, dim = 1).unique(return_counts = True)"
   ]
  },
  {
   "cell_type": "code",
   "execution_count": 72,
   "metadata": {},
   "outputs": [
    {
     "data": {
      "text/plain": [
       "tensor([[4.8684e-40, 0.0000e+00, 0.0000e+00, 0.0000e+00, 1.0000e+00],\n",
       "        [1.1608e-40, 0.0000e+00, 0.0000e+00, 0.0000e+00, 1.0000e+00],\n",
       "        [1.1414e-06, 0.0000e+00, 0.0000e+00, 0.0000e+00, 1.0000e+00],\n",
       "        ...,\n",
       "        [3.8970e-18, 1.0000e+00, 3.2179e-41, 3.9096e-43, 7.6519e-09],\n",
       "        [1.8544e-17, 6.8090e-20, 0.0000e+00, 5.7014e-10, 1.0000e+00],\n",
       "        [0.0000e+00, 5.8267e-28, 0.0000e+00, 0.0000e+00, 1.0000e+00]],\n",
       "       device='cuda:0', grad_fn=<SoftmaxBackward>)"
      ]
     },
     "execution_count": 72,
     "metadata": {},
     "output_type": "execute_result"
    }
   ],
   "source": [
    "bonds_nll"
   ]
  },
  {
   "cell_type": "code",
   "execution_count": 73,
   "metadata": {},
   "outputs": [
    {
     "name": "stdout",
     "output_type": "stream",
     "text": [
      "tensor(25.9540, device='cuda:0', grad_fn=<DivBackward0>)\n",
      "tensor(4.2943, device='cuda:0', grad_fn=<DivBackward0>)\n",
      "tensor(15.7227, device='cuda:0', grad_fn=<DivBackward0>)\n",
      "tensor(6.0428, device='cuda:0', grad_fn=<DivBackward0>)\n",
      "tensor(30.8190, device='cuda:0', grad_fn=<DivBackward0>)\n",
      "tensor(26.7959, device='cuda:0', grad_fn=<DivBackward0>)\n",
      "tensor(21.0293, device='cuda:0', grad_fn=<DivBackward0>)\n",
      "tensor(18.0473, device='cuda:0', grad_fn=<DivBackward0>)\n",
      "tensor(12.4608, device='cuda:0', grad_fn=<DivBackward0>)\n",
      "tensor(14.6883, device='cuda:0', grad_fn=<DivBackward0>)\n",
      "tensor(17.4138, device='cuda:0', grad_fn=<DivBackward0>)\n",
      "tensor(22.8999, device='cuda:0', grad_fn=<DivBackward0>)\n",
      "tensor(3.4789, device='cuda:0', grad_fn=<DivBackward0>)\n",
      "tensor(22.8743, device='cuda:0', grad_fn=<DivBackward0>)\n",
      "tensor(24.2297, device='cuda:0', grad_fn=<DivBackward0>)\n",
      "tensor(17.4069, device='cuda:0', grad_fn=<DivBackward0>)\n",
      "tensor(29.8443, device='cuda:0', grad_fn=<DivBackward0>)\n",
      "tensor(14.9637, device='cuda:0', grad_fn=<DivBackward0>)\n",
      "tensor(19.2607, device='cuda:0', grad_fn=<DivBackward0>)\n",
      "tensor(10.0109, device='cuda:0', grad_fn=<DivBackward0>)\n",
      "tensor(16.4179, device='cuda:0', grad_fn=<DivBackward0>)\n",
      "tensor(10.2758, device='cuda:0', grad_fn=<DivBackward0>)\n",
      "tensor(37.1300, device='cuda:0', grad_fn=<DivBackward0>)\n",
      "tensor(13.5368, device='cuda:0', grad_fn=<DivBackward0>)\n",
      "tensor(18.2052, device='cuda:0', grad_fn=<DivBackward0>)\n",
      "tensor(13.8480, device='cuda:0', grad_fn=<DivBackward0>)\n",
      "tensor(10.9074, device='cuda:0', grad_fn=<DivBackward0>)\n",
      "tensor(21.0443, device='cuda:0', grad_fn=<DivBackward0>)\n",
      "tensor(14.6852, device='cuda:0', grad_fn=<DivBackward0>)\n",
      "tensor(16.5887, device='cuda:0', grad_fn=<DivBackward0>)\n",
      "tensor(16.0537, device='cuda:0', grad_fn=<DivBackward0>)\n",
      "tensor(7.3595, device='cuda:0', grad_fn=<DivBackward0>)\n",
      "tensor(25.7551, device='cuda:0', grad_fn=<DivBackward0>)\n",
      "tensor(11.4152, device='cuda:0', grad_fn=<DivBackward0>)\n",
      "tensor(27.2653, device='cuda:0', grad_fn=<DivBackward0>)\n",
      "tensor(8.3719, device='cuda:0', grad_fn=<DivBackward0>)\n",
      "tensor(12.2709, device='cuda:0', grad_fn=<DivBackward0>)\n",
      "tensor(38.4939, device='cuda:0', grad_fn=<DivBackward0>)\n",
      "tensor(30.0824, device='cuda:0', grad_fn=<DivBackward0>)\n",
      "tensor(13.3000, device='cuda:0', grad_fn=<DivBackward0>)\n",
      "tensor(23.7285, device='cuda:0', grad_fn=<DivBackward0>)\n",
      "tensor(27.2416, device='cuda:0', grad_fn=<DivBackward0>)\n",
      "tensor(31.8984, device='cuda:0', grad_fn=<DivBackward0>)\n",
      "tensor(11.4070, device='cuda:0', grad_fn=<DivBackward0>)\n",
      "tensor(16.2180, device='cuda:0', grad_fn=<DivBackward0>)\n",
      "tensor(17.4309, device='cuda:0', grad_fn=<DivBackward0>)\n",
      "tensor(14.8805, device='cuda:0', grad_fn=<DivBackward0>)\n",
      "tensor(13.3776, device='cuda:0', grad_fn=<DivBackward0>)\n",
      "tensor(13.3427, device='cuda:0', grad_fn=<DivBackward0>)\n",
      "tensor(17.1865, device='cuda:0', grad_fn=<DivBackward0>)\n"
     ]
    }
   ],
   "source": [
    "bond_idx = 0\n",
    "for st, le in Y.scope:\n",
    "    bonds_nll_curr = bonds_nll[bond_idx:bond_idx + le**2,:].view(le, le, -1)\n",
    "    print ((1 - bonds_nll_curr[:,:,4]).sum()/2)\n",
    "    bond_idx += le**2"
   ]
  },
  {
   "cell_type": "code",
   "execution_count": 75,
   "metadata": {},
   "outputs": [
    {
     "data": {
      "text/plain": [
       "tensor([[0.0000e+00, 0.0000e+00, 0.0000e+00, 0.0000e+00, 0.0000e+00, 3.2863e-01,\n",
       "         1.0000e+00, 0.0000e+00, 0.0000e+00, 0.0000e+00, 0.0000e+00, 0.0000e+00,\n",
       "         0.0000e+00, 0.0000e+00, 0.0000e+00, 0.0000e+00, 0.0000e+00, 0.0000e+00,\n",
       "         0.0000e+00, 0.0000e+00, 0.0000e+00],\n",
       "        [0.0000e+00, 9.3452e-01, 0.0000e+00, 0.0000e+00, 0.0000e+00, 0.0000e+00,\n",
       "         0.0000e+00, 0.0000e+00, 0.0000e+00, 0.0000e+00, 0.0000e+00, 0.0000e+00,\n",
       "         3.0364e-02, 0.0000e+00, 9.9963e-01, 0.0000e+00, 0.0000e+00, 0.0000e+00,\n",
       "         9.9987e-01, 1.9908e-05, 1.0000e+00],\n",
       "        [0.0000e+00, 0.0000e+00, 1.5497e-06, 0.0000e+00, 0.0000e+00, 0.0000e+00,\n",
       "         0.0000e+00, 0.0000e+00, 1.0000e+00, 0.0000e+00, 9.4771e-05, 0.0000e+00,\n",
       "         0.0000e+00, 0.0000e+00, 0.0000e+00, 6.2620e-01, 0.0000e+00, 0.0000e+00,\n",
       "         9.1592e-01, 3.3100e-03, 0.0000e+00],\n",
       "        [1.1921e-07, 0.0000e+00, 0.0000e+00, 0.0000e+00, 0.0000e+00, 0.0000e+00,\n",
       "         0.0000e+00, 0.0000e+00, 0.0000e+00, 0.0000e+00, 0.0000e+00, 0.0000e+00,\n",
       "         0.0000e+00, 0.0000e+00, 0.0000e+00, 0.0000e+00, 0.0000e+00, 0.0000e+00,\n",
       "         0.0000e+00, 0.0000e+00, 0.0000e+00],\n",
       "        [4.9665e-02, 0.0000e+00, 0.0000e+00, 0.0000e+00, 0.0000e+00, 0.0000e+00,\n",
       "         0.0000e+00, 0.0000e+00, 0.0000e+00, 0.0000e+00, 0.0000e+00, 0.0000e+00,\n",
       "         0.0000e+00, 0.0000e+00, 0.0000e+00, 0.0000e+00, 0.0000e+00, 0.0000e+00,\n",
       "         0.0000e+00, 0.0000e+00, 0.0000e+00],\n",
       "        [1.3569e-03, 0.0000e+00, 0.0000e+00, 0.0000e+00, 0.0000e+00, 0.0000e+00,\n",
       "         0.0000e+00, 0.0000e+00, 0.0000e+00, 0.0000e+00, 0.0000e+00, 0.0000e+00,\n",
       "         0.0000e+00, 0.0000e+00, 0.0000e+00, 0.0000e+00, 0.0000e+00, 0.0000e+00,\n",
       "         0.0000e+00, 0.0000e+00, 0.0000e+00],\n",
       "        [0.0000e+00, 0.0000e+00, 0.0000e+00, 0.0000e+00, 0.0000e+00, 0.0000e+00,\n",
       "         0.0000e+00, 0.0000e+00, 0.0000e+00, 0.0000e+00, 0.0000e+00, 0.0000e+00,\n",
       "         0.0000e+00, 0.0000e+00, 0.0000e+00, 0.0000e+00, 0.0000e+00, 0.0000e+00,\n",
       "         0.0000e+00, 0.0000e+00, 0.0000e+00],\n",
       "        [0.0000e+00, 0.0000e+00, 0.0000e+00, 0.0000e+00, 0.0000e+00, 0.0000e+00,\n",
       "         0.0000e+00, 0.0000e+00, 0.0000e+00, 3.2732e-03, 1.7759e-03, 0.0000e+00,\n",
       "         0.0000e+00, 0.0000e+00, 0.0000e+00, 0.0000e+00, 0.0000e+00, 0.0000e+00,\n",
       "         0.0000e+00, 0.0000e+00, 0.0000e+00],\n",
       "        [0.0000e+00, 0.0000e+00, 0.0000e+00, 0.0000e+00, 0.0000e+00, 0.0000e+00,\n",
       "         0.0000e+00, 0.0000e+00, 0.0000e+00, 1.1921e-07, 0.0000e+00, 0.0000e+00,\n",
       "         0.0000e+00, 0.0000e+00, 0.0000e+00, 2.8610e-06, 0.0000e+00, 1.0000e+00,\n",
       "         1.0000e+00, 4.0531e-06, 0.0000e+00],\n",
       "        [0.0000e+00, 0.0000e+00, 0.0000e+00, 9.9986e-01, 0.0000e+00, 7.1526e-07,\n",
       "         1.0000e+00, 0.0000e+00, 1.0000e+00, 1.1921e-07, 0.0000e+00, 0.0000e+00,\n",
       "         0.0000e+00, 0.0000e+00, 5.2941e-03, 0.0000e+00, 0.0000e+00, 0.0000e+00,\n",
       "         0.0000e+00, 0.0000e+00, 0.0000e+00],\n",
       "        [0.0000e+00, 0.0000e+00, 0.0000e+00, 0.0000e+00, 0.0000e+00, 0.0000e+00,\n",
       "         0.0000e+00, 1.0000e+00, 0.0000e+00, 1.2215e-01, 0.0000e+00, 0.0000e+00,\n",
       "         0.0000e+00, 8.4260e-01, 0.0000e+00, 0.0000e+00, 0.0000e+00, 0.0000e+00,\n",
       "         1.2660e-04, 5.9605e-07, 0.0000e+00],\n",
       "        [0.0000e+00, 0.0000e+00, 0.0000e+00, 0.0000e+00, 0.0000e+00, 1.1921e-07,\n",
       "         0.0000e+00, 0.0000e+00, 0.0000e+00, 0.0000e+00, 0.0000e+00, 0.0000e+00,\n",
       "         0.0000e+00, 0.0000e+00, 0.0000e+00, 2.5888e-03, 0.0000e+00, 0.0000e+00,\n",
       "         0.0000e+00, 0.0000e+00, 0.0000e+00],\n",
       "        [0.0000e+00, 1.0000e+00, 5.2510e-02, 0.0000e+00, 0.0000e+00, 0.0000e+00,\n",
       "         0.0000e+00, 0.0000e+00, 0.0000e+00, 0.0000e+00, 0.0000e+00, 0.0000e+00,\n",
       "         0.0000e+00, 0.0000e+00, 0.0000e+00, 0.0000e+00, 0.0000e+00, 0.0000e+00,\n",
       "         1.0000e+00, 0.0000e+00, 0.0000e+00],\n",
       "        [0.0000e+00, 0.0000e+00, 0.0000e+00, 0.0000e+00, 0.0000e+00, 0.0000e+00,\n",
       "         0.0000e+00, 0.0000e+00, 0.0000e+00, 0.0000e+00, 0.0000e+00, 0.0000e+00,\n",
       "         0.0000e+00, 0.0000e+00, 0.0000e+00, 0.0000e+00, 0.0000e+00, 7.0118e-01,\n",
       "         1.0000e+00, 0.0000e+00, 0.0000e+00],\n",
       "        [0.0000e+00, 0.0000e+00, 0.0000e+00, 0.0000e+00, 0.0000e+00, 0.0000e+00,\n",
       "         0.0000e+00, 0.0000e+00, 0.0000e+00, 0.0000e+00, 0.0000e+00, 0.0000e+00,\n",
       "         3.1874e-03, 1.0000e+00, 0.0000e+00, 1.0570e-02, 0.0000e+00, 0.0000e+00,\n",
       "         1.0000e+00, 0.0000e+00, 0.0000e+00],\n",
       "        [0.0000e+00, 0.0000e+00, 0.0000e+00, 0.0000e+00, 0.0000e+00, 0.0000e+00,\n",
       "         0.0000e+00, 0.0000e+00, 0.0000e+00, 0.0000e+00, 0.0000e+00, 0.0000e+00,\n",
       "         0.0000e+00, 1.0000e+00, 0.0000e+00, 0.0000e+00, 1.0000e+00, 0.0000e+00,\n",
       "         0.0000e+00, 0.0000e+00, 0.0000e+00],\n",
       "        [0.0000e+00, 0.0000e+00, 0.0000e+00, 0.0000e+00, 0.0000e+00, 0.0000e+00,\n",
       "         0.0000e+00, 0.0000e+00, 0.0000e+00, 0.0000e+00, 0.0000e+00, 0.0000e+00,\n",
       "         0.0000e+00, 0.0000e+00, 0.0000e+00, 0.0000e+00, 0.0000e+00, 0.0000e+00,\n",
       "         0.0000e+00, 0.0000e+00, 0.0000e+00],\n",
       "        [0.0000e+00, 0.0000e+00, 0.0000e+00, 0.0000e+00, 0.0000e+00, 1.0000e+00,\n",
       "         0.0000e+00, 0.0000e+00, 1.0000e+00, 0.0000e+00, 9.5367e-06, 0.0000e+00,\n",
       "         0.0000e+00, 0.0000e+00, 0.0000e+00, 0.0000e+00, 9.9991e-01, 0.0000e+00,\n",
       "         0.0000e+00, 0.0000e+00, 0.0000e+00],\n",
       "        [0.0000e+00, 1.0000e+00, 0.0000e+00, 0.0000e+00, 0.0000e+00, 0.0000e+00,\n",
       "         0.0000e+00, 0.0000e+00, 1.0000e+00, 0.0000e+00, 0.0000e+00, 0.0000e+00,\n",
       "         9.5871e-01, 1.0000e+00, 0.0000e+00, 0.0000e+00, 0.0000e+00, 0.0000e+00,\n",
       "         1.0000e+00, 0.0000e+00, 0.0000e+00],\n",
       "        [0.0000e+00, 0.0000e+00, 0.0000e+00, 0.0000e+00, 0.0000e+00, 0.0000e+00,\n",
       "         0.0000e+00, 2.7418e-06, 0.0000e+00, 9.8069e-01, 0.0000e+00, 0.0000e+00,\n",
       "         0.0000e+00, 0.0000e+00, 0.0000e+00, 0.0000e+00, 0.0000e+00, 0.0000e+00,\n",
       "         7.9892e-01, 0.0000e+00, 0.0000e+00],\n",
       "        [0.0000e+00, 2.6226e-06, 0.0000e+00, 0.0000e+00, 0.0000e+00, 1.0000e+00,\n",
       "         0.0000e+00, 0.0000e+00, 0.0000e+00, 0.0000e+00, 0.0000e+00, 0.0000e+00,\n",
       "         0.0000e+00, 0.0000e+00, 0.0000e+00, 0.0000e+00, 0.0000e+00, 0.0000e+00,\n",
       "         1.0000e+00, 0.0000e+00, 0.0000e+00]], device='cuda:0',\n",
       "       grad_fn=<RsubBackward1>)"
      ]
     },
     "execution_count": 75,
     "metadata": {},
     "output_type": "execute_result"
    }
   ],
   "source": [
    "1 - bonds_nll_curr[:,:,4]"
   ]
  },
  {
   "cell_type": "code",
   "execution_count": 118,
   "metadata": {},
   "outputs": [
    {
     "data": {
      "text/plain": [
       "torch.Size([1079, 64])"
      ]
     },
     "execution_count": 118,
     "metadata": {},
     "output_type": "execute_result"
    }
   ],
   "source": [
    "symbols_logits.shape"
   ]
  },
  {
   "cell_type": "code",
   "execution_count": 119,
   "metadata": {
    "scrolled": true
   },
   "outputs": [
    {
     "data": {
      "text/plain": [
       "tensor([2, 0, 0,  ..., 0, 0, 0], device='cuda:0')"
      ]
     },
     "execution_count": 119,
     "metadata": {},
     "output_type": "execute_result"
    }
   ],
   "source": [
    "symbols_labels"
   ]
  },
  {
   "cell_type": "markdown",
   "metadata": {},
   "source": [
    "# inspect module parameters"
   ]
  },
  {
   "cell_type": "code",
   "execution_count": 150,
   "metadata": {},
   "outputs": [
    {
     "data": {
      "text/plain": [
       "Linear(in_features=100, out_features=150, bias=True)"
      ]
     },
     "execution_count": 150,
     "metadata": {},
     "output_type": "execute_result"
    }
   ],
   "source": [
    "molopt_decoder.fc1_SYMBOLS"
   ]
  },
  {
   "cell_type": "code",
   "execution_count": 151,
   "metadata": {},
   "outputs": [
    {
     "data": {
      "text/plain": [
       "tensor([[ 13.7881,   0.6913,   3.3530,  ..., -10.6195,  -8.9924, -11.0378],\n",
       "        [ 13.5698,  -1.3311,   4.9047,  ...,  -8.9976,  -7.9215, -10.1074],\n",
       "        [  5.2691,  -6.6067,   3.9132,  ..., -13.3723, -13.1498, -14.1045],\n",
       "        ...,\n",
       "        [  2.3633,   0.6043,   8.5959,  ..., -12.3276, -12.1154, -13.7442],\n",
       "        [ 16.1051,   0.3792,   4.5413,  ...,  -8.0192,  -7.4203,  -9.7780],\n",
       "        [  8.6492,   4.9261,   0.4580,  ...,  -9.5743,  -9.4313, -10.6167]],\n",
       "       device='cuda:0', grad_fn=<AddmmBackward>)"
      ]
     },
     "execution_count": 151,
     "metadata": {},
     "output_type": "execute_result"
    }
   ],
   "source": [
    "molopt_decoder.fc2_SYMBOLS(F.leaky_relu(molopt_decoder.fc1_SYMBOLS(x_embedding)))"
   ]
  },
  {
   "cell_type": "code",
   "execution_count": 152,
   "metadata": {},
   "outputs": [
    {
     "data": {
      "text/plain": [
       "tensor([[-0.1335,  0.4283,  0.3699,  ..., -0.3710,  0.7165, -0.5101],\n",
       "        [-0.8927,  1.3656,  0.6950,  ..., -1.0309, -0.1640, -0.0162],\n",
       "        [-0.4414, -0.3376,  2.9654,  ...,  1.0029, -0.6166,  0.1708],\n",
       "        ...,\n",
       "        [ 0.9006,  0.2762, -0.7614,  ...,  1.1360,  0.2881, -0.2464],\n",
       "        [-1.4002,  1.4269, -0.5393,  ..., -1.6091,  0.4275, -0.0564],\n",
       "        [-0.5014,  0.6323,  0.1265,  ..., -1.6008, -0.1383,  0.4430]],\n",
       "       device='cuda:0', grad_fn=<AddBackward0>)"
      ]
     },
     "execution_count": 152,
     "metadata": {},
     "output_type": "execute_result"
    }
   ],
   "source": [
    "x_embedding"
   ]
  },
  {
   "cell_type": "markdown",
   "metadata": {},
   "source": [
    "# debug connectivity"
   ]
  },
  {
   "cell_type": "code",
   "execution_count": 153,
   "metadata": {},
   "outputs": [],
   "source": [
    "def get_pen(model_iter):\n",
    "    model_name = \"model_{}_{}\".format(model, model_iter)\n",
    "    model_decode_name = \"model_{}_decode_{}\".format(model, model_iter)\n",
    "    molopt, config = load_model(args.output_dir + model_name, MolOpt, args.device)\n",
    "    molopt_decoder, config_decoder = load_model(args.output_dir + model_decode_name, MolOptDecoder, args.device)\n",
    "    x_embedding = molopt.forward(X)\n",
    "    yhat_logits = molopt_decoder.forward(x_embedding, X, Y)\n",
    "    yhat_labels = molopt_decoder.discretize_argmax(*yhat_logits)\n",
    "    # yhat_labels = molopt_decoder.discretize(*yhat_logits)\n",
    "    pred_pack = (yhat_labels, yhat_logits, Y.scope), Y \n",
    "\n",
    "    return (pen(*pred_pack, model_iter)[1].item())"
   ]
  },
  {
   "cell_type": "code",
   "execution_count": 154,
   "metadata": {
    "scrolled": true
   },
   "outputs": [
    {
     "ename": "FileNotFoundError",
     "evalue": "[Errno 2] No such file or directory: 'mol_opt/output_transformer10-onebatch/model_transformer10-onebatch-nonconstrained_1600'",
     "output_type": "error",
     "traceback": [
      "\u001b[0;31m---------------------------------------------------------------------------\u001b[0m",
      "\u001b[0;31mFileNotFoundError\u001b[0m                         Traceback (most recent call last)",
      "\u001b[0;32m<ipython-input-154-4521fb9b209a>\u001b[0m in \u001b[0;36m<module>\u001b[0;34m\u001b[0m\n\u001b[1;32m      1\u001b[0m \u001b[0;32mfor\u001b[0m \u001b[0mi\u001b[0m \u001b[0;32min\u001b[0m \u001b[0mrange\u001b[0m\u001b[0;34m(\u001b[0m\u001b[0;36m0\u001b[0m\u001b[0;34m,\u001b[0m \u001b[0;36m2000\u001b[0m\u001b[0;34m)\u001b[0m\u001b[0;34m:\u001b[0m\u001b[0;34m\u001b[0m\u001b[0;34m\u001b[0m\u001b[0m\n\u001b[0;32m----> 2\u001b[0;31m     \u001b[0mprint\u001b[0m \u001b[0;34m(\u001b[0m\u001b[0mi\u001b[0m\u001b[0;34m,\u001b[0m \u001b[0mget_pen\u001b[0m\u001b[0;34m(\u001b[0m\u001b[0;36m1600\u001b[0m\u001b[0;34m)\u001b[0m\u001b[0;34m)\u001b[0m\u001b[0;34m\u001b[0m\u001b[0;34m\u001b[0m\u001b[0m\n\u001b[0m",
      "\u001b[0;32m<ipython-input-153-a93df54ba17f>\u001b[0m in \u001b[0;36mget_pen\u001b[0;34m(model_iter)\u001b[0m\n\u001b[1;32m      2\u001b[0m     \u001b[0mmodel_name\u001b[0m \u001b[0;34m=\u001b[0m \u001b[0;34m\"model_{}_{}\"\u001b[0m\u001b[0;34m.\u001b[0m\u001b[0mformat\u001b[0m\u001b[0;34m(\u001b[0m\u001b[0mmodel\u001b[0m\u001b[0;34m,\u001b[0m \u001b[0mmodel_iter\u001b[0m\u001b[0;34m)\u001b[0m\u001b[0;34m\u001b[0m\u001b[0;34m\u001b[0m\u001b[0m\n\u001b[1;32m      3\u001b[0m     \u001b[0mmodel_decode_name\u001b[0m \u001b[0;34m=\u001b[0m \u001b[0;34m\"model_{}_decode_{}\"\u001b[0m\u001b[0;34m.\u001b[0m\u001b[0mformat\u001b[0m\u001b[0;34m(\u001b[0m\u001b[0mmodel\u001b[0m\u001b[0;34m,\u001b[0m \u001b[0mmodel_iter\u001b[0m\u001b[0;34m)\u001b[0m\u001b[0;34m\u001b[0m\u001b[0;34m\u001b[0m\u001b[0m\n\u001b[0;32m----> 4\u001b[0;31m     \u001b[0mmolopt\u001b[0m\u001b[0;34m,\u001b[0m \u001b[0mconfig\u001b[0m \u001b[0;34m=\u001b[0m \u001b[0mload_model\u001b[0m\u001b[0;34m(\u001b[0m\u001b[0margs\u001b[0m\u001b[0;34m.\u001b[0m\u001b[0moutput_dir\u001b[0m \u001b[0;34m+\u001b[0m \u001b[0mmodel_name\u001b[0m\u001b[0;34m,\u001b[0m \u001b[0mMolOpt\u001b[0m\u001b[0;34m,\u001b[0m \u001b[0margs\u001b[0m\u001b[0;34m.\u001b[0m\u001b[0mdevice\u001b[0m\u001b[0;34m)\u001b[0m\u001b[0;34m\u001b[0m\u001b[0;34m\u001b[0m\u001b[0m\n\u001b[0m\u001b[1;32m      5\u001b[0m     \u001b[0mmolopt_decoder\u001b[0m\u001b[0;34m,\u001b[0m \u001b[0mconfig_decoder\u001b[0m \u001b[0;34m=\u001b[0m \u001b[0mload_model\u001b[0m\u001b[0;34m(\u001b[0m\u001b[0margs\u001b[0m\u001b[0;34m.\u001b[0m\u001b[0moutput_dir\u001b[0m \u001b[0;34m+\u001b[0m \u001b[0mmodel_decode_name\u001b[0m\u001b[0;34m,\u001b[0m \u001b[0mMolOptDecoder\u001b[0m\u001b[0;34m,\u001b[0m \u001b[0margs\u001b[0m\u001b[0;34m.\u001b[0m\u001b[0mdevice\u001b[0m\u001b[0;34m)\u001b[0m\u001b[0;34m\u001b[0m\u001b[0;34m\u001b[0m\u001b[0m\n\u001b[1;32m      6\u001b[0m     \u001b[0mx_embedding\u001b[0m \u001b[0;34m=\u001b[0m \u001b[0mmolopt\u001b[0m\u001b[0;34m.\u001b[0m\u001b[0mforward\u001b[0m\u001b[0;34m(\u001b[0m\u001b[0mX\u001b[0m\u001b[0;34m)\u001b[0m\u001b[0;34m\u001b[0m\u001b[0;34m\u001b[0m\u001b[0m\n",
      "\u001b[0;32m~/gitrepos/tum-thesis/otgnn/utils/model_utils.py\u001b[0m in \u001b[0;36mload_model\u001b[0;34m(path, model_class, device)\u001b[0m\n\u001b[1;32m     16\u001b[0m \u001b[0;31m# Load the model along with args for the model\u001b[0m\u001b[0;34m\u001b[0m\u001b[0;34m\u001b[0m\u001b[0;34m\u001b[0m\u001b[0m\n\u001b[1;32m     17\u001b[0m \u001b[0;32mdef\u001b[0m \u001b[0mload_model\u001b[0m\u001b[0;34m(\u001b[0m\u001b[0mpath\u001b[0m\u001b[0;34m,\u001b[0m \u001b[0mmodel_class\u001b[0m\u001b[0;34m,\u001b[0m \u001b[0mdevice\u001b[0m\u001b[0;34m)\u001b[0m\u001b[0;34m:\u001b[0m\u001b[0;34m\u001b[0m\u001b[0;34m\u001b[0m\u001b[0m\n\u001b[0;32m---> 18\u001b[0;31m     \u001b[0mmodel_dict\u001b[0m \u001b[0;34m=\u001b[0m \u001b[0mtorch\u001b[0m\u001b[0;34m.\u001b[0m\u001b[0mload\u001b[0m\u001b[0;34m(\u001b[0m\u001b[0mpath\u001b[0m\u001b[0;34m)\u001b[0m\u001b[0;34m\u001b[0m\u001b[0;34m\u001b[0m\u001b[0m\n\u001b[0m\u001b[1;32m     19\u001b[0m     \u001b[0margs\u001b[0m \u001b[0;34m=\u001b[0m \u001b[0mmodel_dict\u001b[0m\u001b[0;34m[\u001b[0m\u001b[0;34m'args'\u001b[0m\u001b[0;34m]\u001b[0m\u001b[0;34m\u001b[0m\u001b[0;34m\u001b[0m\u001b[0m\n\u001b[1;32m     20\u001b[0m \u001b[0;34m\u001b[0m\u001b[0m\n",
      "\u001b[0;32m~/anaconda3/envs/mol_ot/lib/python3.6/site-packages/torch/serialization.py\u001b[0m in \u001b[0;36mload\u001b[0;34m(f, map_location, pickle_module, **pickle_load_args)\u001b[0m\n\u001b[1;32m    569\u001b[0m         \u001b[0mpickle_load_args\u001b[0m\u001b[0;34m[\u001b[0m\u001b[0;34m'encoding'\u001b[0m\u001b[0;34m]\u001b[0m \u001b[0;34m=\u001b[0m \u001b[0;34m'utf-8'\u001b[0m\u001b[0;34m\u001b[0m\u001b[0;34m\u001b[0m\u001b[0m\n\u001b[1;32m    570\u001b[0m \u001b[0;34m\u001b[0m\u001b[0m\n\u001b[0;32m--> 571\u001b[0;31m     \u001b[0;32mwith\u001b[0m \u001b[0m_open_file_like\u001b[0m\u001b[0;34m(\u001b[0m\u001b[0mf\u001b[0m\u001b[0;34m,\u001b[0m \u001b[0;34m'rb'\u001b[0m\u001b[0;34m)\u001b[0m \u001b[0;32mas\u001b[0m \u001b[0mopened_file\u001b[0m\u001b[0;34m:\u001b[0m\u001b[0;34m\u001b[0m\u001b[0;34m\u001b[0m\u001b[0m\n\u001b[0m\u001b[1;32m    572\u001b[0m         \u001b[0;32mif\u001b[0m \u001b[0m_is_zipfile\u001b[0m\u001b[0;34m(\u001b[0m\u001b[0mopened_file\u001b[0m\u001b[0;34m)\u001b[0m\u001b[0;34m:\u001b[0m\u001b[0;34m\u001b[0m\u001b[0;34m\u001b[0m\u001b[0m\n\u001b[1;32m    573\u001b[0m             \u001b[0;31m# The zipfile reader is going to advance the current file position.\u001b[0m\u001b[0;34m\u001b[0m\u001b[0;34m\u001b[0m\u001b[0;34m\u001b[0m\u001b[0m\n",
      "\u001b[0;32m~/anaconda3/envs/mol_ot/lib/python3.6/site-packages/torch/serialization.py\u001b[0m in \u001b[0;36m_open_file_like\u001b[0;34m(name_or_buffer, mode)\u001b[0m\n\u001b[1;32m    227\u001b[0m \u001b[0;32mdef\u001b[0m \u001b[0m_open_file_like\u001b[0m\u001b[0;34m(\u001b[0m\u001b[0mname_or_buffer\u001b[0m\u001b[0;34m,\u001b[0m \u001b[0mmode\u001b[0m\u001b[0;34m)\u001b[0m\u001b[0;34m:\u001b[0m\u001b[0;34m\u001b[0m\u001b[0;34m\u001b[0m\u001b[0m\n\u001b[1;32m    228\u001b[0m     \u001b[0;32mif\u001b[0m \u001b[0m_is_path\u001b[0m\u001b[0;34m(\u001b[0m\u001b[0mname_or_buffer\u001b[0m\u001b[0;34m)\u001b[0m\u001b[0;34m:\u001b[0m\u001b[0;34m\u001b[0m\u001b[0;34m\u001b[0m\u001b[0m\n\u001b[0;32m--> 229\u001b[0;31m         \u001b[0;32mreturn\u001b[0m \u001b[0m_open_file\u001b[0m\u001b[0;34m(\u001b[0m\u001b[0mname_or_buffer\u001b[0m\u001b[0;34m,\u001b[0m \u001b[0mmode\u001b[0m\u001b[0;34m)\u001b[0m\u001b[0;34m\u001b[0m\u001b[0;34m\u001b[0m\u001b[0m\n\u001b[0m\u001b[1;32m    230\u001b[0m     \u001b[0;32melse\u001b[0m\u001b[0;34m:\u001b[0m\u001b[0;34m\u001b[0m\u001b[0;34m\u001b[0m\u001b[0m\n\u001b[1;32m    231\u001b[0m         \u001b[0;32mif\u001b[0m \u001b[0;34m'w'\u001b[0m \u001b[0;32min\u001b[0m \u001b[0mmode\u001b[0m\u001b[0;34m:\u001b[0m\u001b[0;34m\u001b[0m\u001b[0;34m\u001b[0m\u001b[0m\n",
      "\u001b[0;32m~/anaconda3/envs/mol_ot/lib/python3.6/site-packages/torch/serialization.py\u001b[0m in \u001b[0;36m__init__\u001b[0;34m(self, name, mode)\u001b[0m\n\u001b[1;32m    208\u001b[0m \u001b[0;32mclass\u001b[0m \u001b[0m_open_file\u001b[0m\u001b[0;34m(\u001b[0m\u001b[0m_opener\u001b[0m\u001b[0;34m)\u001b[0m\u001b[0;34m:\u001b[0m\u001b[0;34m\u001b[0m\u001b[0;34m\u001b[0m\u001b[0m\n\u001b[1;32m    209\u001b[0m     \u001b[0;32mdef\u001b[0m \u001b[0m__init__\u001b[0m\u001b[0;34m(\u001b[0m\u001b[0mself\u001b[0m\u001b[0;34m,\u001b[0m \u001b[0mname\u001b[0m\u001b[0;34m,\u001b[0m \u001b[0mmode\u001b[0m\u001b[0;34m)\u001b[0m\u001b[0;34m:\u001b[0m\u001b[0;34m\u001b[0m\u001b[0;34m\u001b[0m\u001b[0m\n\u001b[0;32m--> 210\u001b[0;31m         \u001b[0msuper\u001b[0m\u001b[0;34m(\u001b[0m\u001b[0m_open_file\u001b[0m\u001b[0;34m,\u001b[0m \u001b[0mself\u001b[0m\u001b[0;34m)\u001b[0m\u001b[0;34m.\u001b[0m\u001b[0m__init__\u001b[0m\u001b[0;34m(\u001b[0m\u001b[0mopen\u001b[0m\u001b[0;34m(\u001b[0m\u001b[0mname\u001b[0m\u001b[0;34m,\u001b[0m \u001b[0mmode\u001b[0m\u001b[0;34m)\u001b[0m\u001b[0;34m)\u001b[0m\u001b[0;34m\u001b[0m\u001b[0;34m\u001b[0m\u001b[0m\n\u001b[0m\u001b[1;32m    211\u001b[0m \u001b[0;34m\u001b[0m\u001b[0m\n\u001b[1;32m    212\u001b[0m     \u001b[0;32mdef\u001b[0m \u001b[0m__exit__\u001b[0m\u001b[0;34m(\u001b[0m\u001b[0mself\u001b[0m\u001b[0;34m,\u001b[0m \u001b[0;34m*\u001b[0m\u001b[0margs\u001b[0m\u001b[0;34m)\u001b[0m\u001b[0;34m:\u001b[0m\u001b[0;34m\u001b[0m\u001b[0;34m\u001b[0m\u001b[0m\n",
      "\u001b[0;31mFileNotFoundError\u001b[0m: [Errno 2] No such file or directory: 'mol_opt/output_transformer10-onebatch/model_transformer10-onebatch-nonconstrained_1600'"
     ]
    }
   ],
   "source": [
    "for i in range(0, 2000):\n",
    "    print (i, get_pen(1600))"
   ]
  },
  {
   "cell_type": "code",
   "execution_count": null,
   "metadata": {},
   "outputs": [],
   "source": [
    "# adjM = pen_loss\n",
    "# N = adjM.shape[0]\n",
    "# device = adjM.device\n",
    "# # We need the laplacian otherwise\n",
    "# L = torch.diag(torch.matmul(adjM, torch.ones(N, device=device))) - adjM # Laplacian\n",
    "# L_mod = L + torch.ones_like(L, device=device) / N\n",
    "# eigenvals = torch.symeig(L_mod + 1e-06 * torch.eye(N, device=device), eigenvectors=True)[0]\n",
    "# -torch.sum(torch.log(eigenvals.clamp(max = 1e-01))) + len(eigenvals) * np.log(1e-01)"
   ]
  },
  {
   "cell_type": "code",
   "execution_count": null,
   "metadata": {},
   "outputs": [],
   "source": [
    "F.gumbel_softmax(symbols_logits, dim=1, tau=0.5)"
   ]
  },
  {
   "cell_type": "code",
   "execution_count": null,
   "metadata": {},
   "outputs": [],
   "source": []
  }
 ],
 "metadata": {
  "kernelspec": {
   "display_name": "Python 3",
   "language": "python",
   "name": "python3"
  },
  "language_info": {
   "codemirror_mode": {
    "name": "ipython",
    "version": 3
   },
   "file_extension": ".py",
   "mimetype": "text/x-python",
   "name": "python",
   "nbconvert_exporter": "python",
   "pygments_lexer": "ipython3",
   "version": "3.6.12"
  }
 },
 "nbformat": 4,
 "nbformat_minor": 4
}
