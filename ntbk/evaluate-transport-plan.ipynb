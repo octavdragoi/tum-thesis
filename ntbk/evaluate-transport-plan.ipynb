{
 "cells": [
  {
   "cell_type": "code",
   "execution_count": 2,
   "metadata": {},
   "outputs": [
    {
     "name": "stdout",
     "output_type": "stream",
     "text": [
      "/home/octav/gitrepos/tum-thesis\n",
      "The autoreload extension is already loaded. To reload it, use:\n",
      "  %reload_ext autoreload\n"
     ]
    }
   ],
   "source": [
    "import os\n",
    "if \"ntbk\" in os.getcwd():\n",
    "    os.chdir(\"..\")\n",
    "print(os.getcwd())\n",
    "\n",
    "import sys\n",
    "sys.path.append(os.path.join(os.getcwd(), \"otgnn\"))\n",
    "sys.path.append(os.path.join(os.getcwd(), \"molgen\"))\n",
    "sys.path.append(os.path.join(os.getcwd(), \"iclr19-graph2graph/props\"))\n",
    "\n",
    "\n",
    "%load_ext autoreload\n",
    "%autoreload 2\n",
    "\n",
    "from otgnn.models import GCN\n",
    "# from molgen.dataloading.MolGraphBatchPreprocessor import MolGraph\n",
    "from otgnn.graph import MolGraph\n",
    "from otgnn.utils import save_model, load_model\n",
    "from otgnn.graph import SYMBOLS, FORMAL_CHARGES, BOND_TYPES\n",
    "\n",
    "\n",
    "from mol_opt.data_mol_opt import MolOptDataset\n",
    "from mol_opt.data_mol_opt import get_loader\n",
    "from mol_opt.arguments import get_args\n",
    "from mol_opt.train_mol_opt import main, load_checkpoint, initialize_models\n",
    "from mol_opt.mol_opt import MolOpt\n",
    "from mol_opt.decoder_mol_opt import MolOptDecoder\n",
    "from mol_opt.ot_utils import encode_target\n",
    "from mol_opt.ot_utils import FGW \n",
    "from mol_opt.ot_utils import compute_barycenter\n",
    "\n",
    "from molgen.dataloading.feat2smiles import feat2smiles\n",
    "from molgen.dataloading.mol_drawer import MolDrawer\n",
    "from molgen.metrics.Penalty import Penalty\n",
    "from molgen.metrics.mol_metrics import MolMetrics\n",
    "from molgen.Discretizer.sinkhorn import sinkhorn_knopp\n",
    "\n",
    "from rdkit.Chem import MolFromSmiles\n",
    "from tensorboardX import SummaryWriter\n",
    "\n",
    "import torch\n",
    "import torch.nn.functional as F\n",
    "import torch.nn as nn\n",
    "from torch.autograd import grad\n",
    "import numpy as np\n",
    "import time\n",
    "from rdkit import Chem\n",
    "from rdkit.Chem.Draw import IPythonConsole\n",
    "from molgen.metrics.Penalty import Penalty as PenaltyNew\n",
    "import seaborn as sns\n",
    "\n",
    "import matplotlib.pyplot as plt\n",
    "%matplotlib inline\n",
    "# plt.style.use('dark_background')"
   ]
  },
  {
   "cell_type": "code",
   "execution_count": 3,
   "metadata": {},
   "outputs": [],
   "source": [
    "model_type = \"deepsets\"\n",
    "sys.argv = [\"\", \"-model_type\", model_type, \"-one_batch_train\"]\n",
    "args = get_args()\n",
    "args.n_epochs = 100 \n",
    "# args.init_model = \"{}-attention-random-gcn2-sink1-test13\".format(model_type)\n",
    "args.init_model = \"{}-attention-sink6-test8\".format(model_type)\n",
    "# args.output_dir = \"/home/octav/gitrepos/tum-thesis/mol_opt/output_dev4/{}/\".format(args.init_model)\n",
    "args.output_dir = \"/run/media/octav/data-volume/tum-thesis/output_dev4_saves/{}/\".format(args.init_model)\n",
    "args.tb_logs_dir = \"/home/octav/gitrepos/tum-thesis/mol_opt/logs_dev4/{}\".format(args.init_model)\n",
    "args.batch_size = 50 \n",
    "\n",
    "image_dir = \"/home/octav/Dropbox/Apps/Overleaf/TUM Thesis/figures/\""
   ]
  },
  {
   "cell_type": "code",
   "execution_count": 4,
   "metadata": {
    "scrolled": false
   },
   "outputs": [
    {
     "name": "stdout",
     "output_type": "stream",
     "text": [
      "/run/media/octav/data-volume/tum-thesis/output_dev4_saves/deepsets-attention-sink6-test8/model_deepsets-attention-sink6-test8_2000\n",
      "MolOpt(\n",
      "  (GCN): GCN(\n",
      "    (W_message_i): Linear(in_features=100, out_features=200, bias=False)\n",
      "    (W_message_h): Linear(in_features=200, out_features=200, bias=False)\n",
      "    (W_message_o): Linear(in_features=293, out_features=150, bias=True)\n",
      "    (W_mol_h): Linear(in_features=150, out_features=100, bias=True)\n",
      "    (W_mol_o): Linear(in_features=100, out_features=1, bias=True)\n",
      "    (dropout_gcn): Dropout(p=0.0, inplace=False)\n",
      "    (dropout_ffn): Dropout(p=0.0, inplace=False)\n",
      "  )\n",
      "  (opt0): Linear(in_features=300, out_features=200, bias=True)\n",
      "  (opt1): Linear(in_features=200, out_features=150, bias=True)\n",
      ")\n",
      "MolOptDecoder(\n",
      "  (fc1_SYMBOLS): Linear(in_features=150, out_features=150, bias=True)\n",
      "  (fc2_SYMBOLS): Linear(in_features=150, out_features=64, bias=True)\n",
      "  (fc1_CHARGES): Linear(in_features=150, out_features=150, bias=True)\n",
      "  (fc2_CHARGES): Linear(in_features=150, out_features=5, bias=True)\n",
      "  (fc1_BONDS): Linear(in_features=300, out_features=300, bias=True)\n",
      "  (fc2_BONDS): Linear(in_features=300, out_features=5, bias=True)\n",
      ")\n",
      "deepsets\n",
      "Penalty params: tau=0.10006 conn_l=0.05477 val_l=0.07071 euler_l=0.04472 epoch=2000 mode=[1 1 1] conn=True val=True euler=True\n"
     ]
    }
   ],
   "source": [
    "model = args.init_model\n",
    "model_iter = 2000\n",
    "\n",
    "model_name = \"model_{}_{}\".format(model, model_iter)\n",
    "print(args.output_dir + model_name)\n",
    "\n",
    "molopt, molopt_decoder, _, pen, recpen, crossatt, _, config, _ = load_checkpoint(args.output_dir + model_name ,init_fc = initialize_models, device = args.device)\n",
    "\n",
    "metrics = MolMetrics(SYMBOLS, FORMAL_CHARGES, BOND_TYPES, False, device = args.device)\n",
    "fgw_loss = FGW(alpha = 0.5)\n",
    "# pen = PenaltyNew(config, model_iter)\n",
    "\n",
    "molopt_module_list = torch.nn.ModuleList([molopt, molopt_decoder])\n",
    "\n",
    "# molopt = MolOpt(args)\n",
    "# molopt_decoder = MolOptDecoder(args)\n",
    "print (molopt)\n",
    "print (molopt_decoder)\n",
    "print(molopt.args.model_type)\n",
    "pen.log()"
   ]
  },
  {
   "cell_type": "code",
   "execution_count": 5,
   "metadata": {},
   "outputs": [],
   "source": [
    "# train_data_loader = get_loader(\"iclr19-graph2graph/data/qed\", \"train_pairs\", args.batch_size, True)\n",
    "datatype = \"train\"\n",
    "train_data_loader = get_loader(\"molgen/data/chembl50\", datatype, 50, same_number_atoms = True)\n",
    "\n",
    "for i in train_data_loader:\n",
    "#     X = (MolGraph(i[0]))\n",
    "#     Y = (MolGraph(i[1]))\n",
    "    X = MolGraph(i)\n",
    "    Y = X\n",
    "    break"
   ]
  },
  {
   "cell_type": "code",
   "execution_count": 10,
   "metadata": {
    "scrolled": true
   },
   "outputs": [
    {
     "name": "stderr",
     "output_type": "stream",
     "text": [
      "/home/octav/gitrepos/tum-thesis/otgnn/models/gromov_modules.py:398: UserWarning: Implicit dimension choice for log_softmax has been deprecated. Change the call to include dim=X as an argument.\n",
      "  nce_reg = torch.nn.LogSoftmax()(torch.stack(all_nce_dists))[0]\n"
     ]
    },
    {
     "name": "stdout",
     "output_type": "stream",
     "text": [
      "0.5194847106933593\n"
     ]
    },
    {
     "data": {
      "text/plain": [
       "({'batch_molecular_validity': 2.0,\n",
       "  'batch_correctness': 0.0,\n",
       "  'batch_symbol_accuracy': 91.73913043478261,\n",
       "  'batch_molecular_disconnected_validity': 20.0,\n",
       "  'batch_connected_components': 5.28,\n",
       "  'batch_invalid_valency_nodes': 20.608695652173914,\n",
       "  'batch_nodes_0degree': 145,\n",
       "  'batch_nodes_7plus_degree': 4,\n",
       "  'invalid_euler_toofew': 12.0,\n",
       "  'invalid_euler_toomany': 22.0},\n",
       " {'avg_euler_error': (1.9599999999999995, 50, 38.278400000000005),\n",
       "  'batch_node_degree': (2.173913043478262, 1150, 2.075841209829868)})"
      ]
     },
     "execution_count": 10,
     "metadata": {},
     "output_type": "execute_result"
    }
   ],
   "source": [
    "x_encoding, x_embedding = molopt.forward(X)\n",
    "yhat_logits = molopt_decoder.forward(x_embedding, X, Y)\n",
    "yhat_labels = molopt_decoder.discretize_argmax(*yhat_logits)\n",
    "# yhat_labels = molopt_decoder.discretize_gumbel(*yhat_logits, tau = pen.tau)\n",
    "pred_pack = (yhat_labels, yhat_logits, Y.scope), Y \n",
    "\n",
    "target = Y.get_graph_outputs()\n",
    "symbols_labels, charges_labels, bonds_labels = yhat_labels\n",
    "symbols_logits, charges_logits, bonds_logits = yhat_logits\n",
    "\n",
    "pen.mirror = \"\"\n",
    "\n",
    "if config.cross_att_use:\n",
    "    if config.cross_att_use_gcn2:\n",
    "        y_encoding = molopt.GCN2(Y)[0]\n",
    "    else:\n",
    "        y_encoding = molopt.GCN(Y)[0]\n",
    "    cross_mats, ot_loss = crossatt.forward(x_embedding, y_encoding, X, model_type)\n",
    "    fgw_loss_item = fgw_loss(*pred_pack, tau = 1, ot_plans = cross_mats, atoms = args.fgw_atoms, bonds = args.fgw_bonds)\n",
    "#     cross_mats = crossatt.forward(x_embedding, y_encoding, X, model_type)\n",
    "#     fgw_loss_item = fgw_loss(*pred_pack, tau = 1, ot_plans = cross_mats)\n",
    "else:\n",
    "    fgw_loss_item = fgw_loss(*pred_pack, tau = 1)\n",
    "\n",
    "pen.tau = 0.05\n",
    "print (fgw_loss_item.item()/args.batch_size)\n",
    "pen_loss = pen(*pred_pack, model_iter)\n",
    "# print (pen_loss, ot_loss.item()/args.batch_size)\n",
    "metrics.measure_batch(pred_pack[0], target)"
   ]
  },
  {
   "cell_type": "code",
   "execution_count": 11,
   "metadata": {
    "scrolled": true
   },
   "outputs": [
    {
     "name": "stdout",
     "output_type": "stream",
     "text": [
      "Parameter containing:\n",
      "tensor([[-0.0371,  0.0117, -0.0171,  ..., -0.0763, -0.0752, -0.0074],\n",
      "        [-0.1155, -0.0334, -0.0929,  ...,  0.0724, -0.0389, -0.0746],\n",
      "        [-0.1969, -0.0075, -0.0036,  ..., -0.0917, -0.0983, -0.0492],\n",
      "        ...,\n",
      "        [-0.0467, -0.0011, -0.0127,  ...,  0.0099, -0.1061,  0.0445],\n",
      "        [-0.1313, -0.0510,  0.2195,  ...,  0.0786, -0.2386, -0.0254],\n",
      "        [-0.0543, -0.1075, -0.0742,  ..., -0.0062, -0.1191, -0.0142]],\n",
      "       requires_grad=True)\n",
      "Parameter containing:\n",
      "tensor([[ 0.0635,  0.0124,  0.0149,  ...,  0.0058, -0.0746, -0.0121],\n",
      "        [ 0.0102, -0.0057,  0.0201,  ..., -0.0570, -0.0395,  0.0240],\n",
      "        [-0.0423, -0.0003, -0.0683,  ..., -0.0697,  0.0129, -0.0128],\n",
      "        ...,\n",
      "        [-0.0176, -0.0882, -0.0506,  ..., -0.0408, -0.0054,  0.0265],\n",
      "        [ 0.0504,  0.0063,  0.0052,  ..., -0.0084, -0.0321, -0.0866],\n",
      "        [ 0.0074, -0.0742,  0.0134,  ...,  0.0265,  0.0238, -0.0556]],\n",
      "       requires_grad=True)\n",
      "Parameter containing:\n",
      "tensor([[-0.0251, -0.2013, -0.1605,  ..., -0.0381, -0.0725, -0.0348],\n",
      "        [-0.0784,  0.0874,  0.0775,  ...,  0.0637,  0.0785, -0.0156],\n",
      "        [-0.0715, -0.2013,  0.1996,  ...,  0.0304,  0.0441, -0.0370],\n",
      "        ...,\n",
      "        [-0.0419,  0.0285,  0.2091,  ..., -0.0371,  0.0180, -0.0072],\n",
      "        [-0.0594, -0.1483, -0.0155,  ...,  0.0249, -0.0144, -0.0311],\n",
      "        [ 0.0006,  0.0728, -0.1836,  ...,  0.0415,  0.0485,  0.0052]],\n",
      "       requires_grad=True)\n",
      "Parameter containing:\n",
      "tensor([-0.0462,  0.0263,  0.0243, -0.0885,  0.0514, -0.0311,  0.0616, -0.0408,\n",
      "        -0.1210, -0.0355, -0.0407, -0.0068,  0.0882,  0.1173,  0.0607,  0.1371,\n",
      "        -0.0656, -0.0419,  0.1013, -0.0268,  0.0935, -0.0199, -0.0422,  0.0254,\n",
      "         0.1048,  0.0420,  0.0824, -0.0125,  0.0785, -0.0716,  0.0665, -0.0110,\n",
      "         0.0307,  0.0280,  0.0273, -0.0296, -0.0537,  0.0342, -0.0730,  0.0579,\n",
      "         0.0302, -0.0494, -0.0088,  0.0138,  0.0383,  0.0090,  0.0303,  0.1028,\n",
      "        -0.0886,  0.0249,  0.0530,  0.0280, -0.0004, -0.1512,  0.0935, -0.0491,\n",
      "        -0.0226,  0.0876, -0.0393,  0.0616,  0.0512, -0.1545,  0.0277, -0.0650,\n",
      "        -0.0781, -0.1628, -0.0023, -0.0291, -0.0116,  0.0391, -0.0632, -0.0051,\n",
      "        -0.0269, -0.0127, -0.0232, -0.0685, -0.0105,  0.0552,  0.0753, -0.0584,\n",
      "         0.0642, -0.0394,  0.0570, -0.0540, -0.0197,  0.1097,  0.0253, -0.1083,\n",
      "        -0.0411,  0.0241,  0.1007,  0.0364, -0.0064, -0.0361, -0.0003,  0.0094,\n",
      "        -0.0094,  0.0387, -0.0421, -0.0831, -0.0242,  0.1040, -0.0799,  0.0050,\n",
      "         0.1823, -0.0209, -0.0009, -0.0096, -0.0432,  0.0379, -0.0261,  0.0181,\n",
      "        -0.0628, -0.0009,  0.0107, -0.0235, -0.0740,  0.0189, -0.0401, -0.0665,\n",
      "        -0.0298,  0.0835,  0.0250, -0.1032, -0.0405,  0.0706, -0.0645,  0.0516,\n",
      "        -0.0663,  0.1048,  0.0876,  0.0123, -0.0286, -0.0277, -0.0524, -0.0383,\n",
      "         0.0850, -0.0274,  0.0652,  0.0528, -0.1418, -0.0425,  0.0723, -0.0223,\n",
      "        -0.0818,  0.1435, -0.1598, -0.0005, -0.0510, -0.0806],\n",
      "       requires_grad=True)\n",
      "Parameter containing:\n",
      "tensor([[-0.0034, -0.0524, -0.0270,  ...,  0.0723,  0.0231, -0.0086],\n",
      "        [ 0.0664, -0.0126, -0.0381,  ..., -0.0372,  0.0099,  0.0143],\n",
      "        [ 0.0595, -0.0594, -0.0224,  ..., -0.0389,  0.0276, -0.0610],\n",
      "        ...,\n",
      "        [-0.0288, -0.0625,  0.0375,  ..., -0.0220, -0.0413,  0.0492],\n",
      "        [ 0.0392,  0.0001, -0.0297,  ..., -0.0270,  0.0428, -0.0659],\n",
      "        [ 0.0398,  0.0391,  0.0655,  ...,  0.0753,  0.0116,  0.0307]],\n",
      "       requires_grad=True)\n",
      "Parameter containing:\n",
      "tensor([-0.0272, -0.0064, -0.0183, -0.0446, -0.0382, -0.0031, -0.0300, -0.0100,\n",
      "         0.0611,  0.0715, -0.0456,  0.0615, -0.0667,  0.0201, -0.0781,  0.0302,\n",
      "         0.0218, -0.0768,  0.0795, -0.0614,  0.0446,  0.0703,  0.0708, -0.0816,\n",
      "         0.0053,  0.0581,  0.0586, -0.0801, -0.0459, -0.0336, -0.0649, -0.0481,\n",
      "        -0.0195, -0.0256,  0.0256, -0.0792, -0.0627, -0.0021,  0.0641, -0.0139,\n",
      "        -0.0197, -0.0197,  0.0030,  0.0217,  0.0224,  0.0170, -0.0398, -0.0369,\n",
      "        -0.0174, -0.0133, -0.0091, -0.0698,  0.0454,  0.0359, -0.0580, -0.0492,\n",
      "         0.0125,  0.0731, -0.0492, -0.0728, -0.0425, -0.0147,  0.0538,  0.0489,\n",
      "         0.0575,  0.0271, -0.0171, -0.0571, -0.0755,  0.0745,  0.0079, -0.0173,\n",
      "        -0.0654, -0.0080,  0.0059,  0.0263, -0.0308,  0.0535,  0.0114,  0.0654,\n",
      "         0.0547,  0.0276, -0.0269,  0.0321,  0.0025, -0.0769, -0.0285,  0.0679,\n",
      "        -0.0060,  0.0098, -0.0309,  0.0271,  0.0441,  0.0168,  0.0250, -0.0287,\n",
      "        -0.0241,  0.0702,  0.0353,  0.0564], requires_grad=True)\n",
      "Parameter containing:\n",
      "tensor([[ 0.0357, -0.0294,  0.0415,  0.0550, -0.0803, -0.0721,  0.0888, -0.0482,\n",
      "          0.0797, -0.0678,  0.0066,  0.0967,  0.0469, -0.0453,  0.0165,  0.0976,\n",
      "          0.0231, -0.0386, -0.0971,  0.0480, -0.0431,  0.0216, -0.0537,  0.0422,\n",
      "          0.0460, -0.0423, -0.0687,  0.0008, -0.0099,  0.0252,  0.0861,  0.0235,\n",
      "          0.0778, -0.0339,  0.0949,  0.0485, -0.0371, -0.0846, -0.0428,  0.0060,\n",
      "         -0.0636, -0.0454, -0.0716, -0.0618, -0.0894,  0.0494, -0.0261, -0.0093,\n",
      "         -0.0483,  0.0692, -0.0883, -0.0331,  0.0497, -0.0614,  0.0004, -0.0450,\n",
      "         -0.0160,  0.0539, -0.0115,  0.0057, -0.0128,  0.0354, -0.0039, -0.0217,\n",
      "         -0.0574,  0.0624,  0.0379, -0.0229, -0.0555,  0.0611, -0.0138, -0.0951,\n",
      "          0.0304,  0.0009,  0.0736,  0.0277,  0.0869,  0.0307,  0.0575, -0.0996,\n",
      "         -0.0917, -0.0519, -0.0374, -0.0668, -0.0885,  0.0306,  0.0974, -0.0978,\n",
      "         -0.0495,  0.0166, -0.0175, -0.0661, -0.0452,  0.0954,  0.0224, -0.0919,\n",
      "         -0.0839,  0.0465, -0.0179, -0.0154]], requires_grad=True)\n",
      "Parameter containing:\n",
      "tensor([0.0029], requires_grad=True)\n"
     ]
    }
   ],
   "source": [
    "for i in molopt.GCN.parameters():\n",
    "    print (i)"
   ]
  },
  {
   "cell_type": "code",
   "execution_count": 12,
   "metadata": {},
   "outputs": [
    {
     "data": {
      "text/plain": [
       "tensor(25.9742, grad_fn=<AddBackward0>)"
      ]
     },
     "execution_count": 12,
     "metadata": {},
     "output_type": "execute_result"
    }
   ],
   "source": [
    "fgw_loss_item"
   ]
  },
  {
   "cell_type": "code",
   "execution_count": 13,
   "metadata": {},
   "outputs": [],
   "source": [
    "# adjM = pen_loss\n",
    "# N = adjM.shape[0]\n",
    "# device = adjM.device\n",
    "# cap_value = 1e-02\n",
    "# \n",
    "# L = torch.diag(torch.matmul(adjM, torch.ones(N, device=device))) - adjM # Laplacian\n",
    "# L_mod = L + torch.ones_like(L, device=device) / N\n",
    "# eigenvals = torch.symeig(L_mod, eigenvectors=True)[0] # IMPORTANT: need to compute eigenvectors for autograd\n",
    "# capped = torch.clamp(eigenvals, min=1e-6, max=1e-02)\n",
    "# print (eigenvals)\n",
    "# -torch.sum(torch.log(capped)) + len(eigenvals) * np.log(cap_value)"
   ]
  },
  {
   "cell_type": "code",
   "execution_count": 14,
   "metadata": {},
   "outputs": [
    {
     "name": "stdout",
     "output_type": "stream",
     "text": [
      "[0.47917633056640624, 1.4889651489257814, 0.7859767150878906]\n",
      "(tensor([0, 2, 4]), tensor([ 2494,     2, 27012]))\n"
     ]
    }
   ],
   "source": [
    "print([x.item() / args.batch_size for x in pen_loss])\n",
    "print(bonds_labels.unique(return_counts = True))"
   ]
  },
  {
   "cell_type": "code",
   "execution_count": 15,
   "metadata": {},
   "outputs": [
    {
     "name": "stdout",
     "output_type": "stream",
     "text": [
      "tensor([ 1768,   716,     4,     0, 27020], dtype=torch.int32)\n"
     ]
    }
   ],
   "source": [
    "target_bond_counts = torch.zeros(len(BOND_TYPES))\n",
    "for i in range(len(target)):\n",
    "    target_bond_counts += target[i][\"BOND_TYPES\"].sum(axis = (0,1))\n",
    "print(target_bond_counts.int())"
   ]
  },
  {
   "cell_type": "code",
   "execution_count": 16,
   "metadata": {},
   "outputs": [],
   "source": [
    "y_embedding = y_encoding\n",
    "yhat_embedding = x_embedding\n",
    "\n",
    "def hmap(dfr, savename = None, image_dir = image_dir):\n",
    "    sns.heatmap(dfr.cpu().detach().numpy(), cmap = sns.color_palette(\"rocket_r\", as_cmap=True))\n",
    "    if savename is not None:\n",
    "        plt.savefig(os.path.join(image_dir, savename))\n",
    "    plt.show()\n",
    "    \n",
    "def project_2d(dfr):\n",
    "    yhat_np = dfr.cpu().detach().numpy()\n",
    "    yhat_mean = np.mean(yhat_np.T, axis = 1)\n",
    "    yhat_nomean = yhat_np - yhat_mean\n",
    "    cov = np.cov(yhat_nomean.T)\n",
    "    values, vectors = np.linalg.eig(cov)\n",
    "    proj = vectors[:,:2].T.dot(yhat_nomean.T)\n",
    "    return proj"
   ]
  },
  {
   "cell_type": "code",
   "execution_count": 18,
   "metadata": {
    "scrolled": false
   },
   "outputs": [
    {
     "name": "stdout",
     "output_type": "stream",
     "text": [
      "0\n",
      "1\n",
      "2\n",
      "Model name: model_deepsets-attention-sink6-test8_2000\n",
      "Type=deepsets, random=False, epoch=2000, index=2\n",
      "M\n"
     ]
    },
    {
     "data": {
      "image/png": "[encoded data removed]",
      "text/plain": [
       "<Figure size 432x288 with 2 Axes>"
      ]
     },
     "metadata": {
      "needs_background": "light"
     },
     "output_type": "display_data"
    },
    {
     "name": "stdout",
     "output_type": "stream",
     "text": [
      "attn\n"
     ]
    },
    {
     "data": {
      "image/png": "[encoded data removed]",
      "text/plain": [
       "<Figure size 432x288 with 2 Axes>"
      ]
     },
     "metadata": {
      "needs_background": "light"
     },
     "output_type": "display_data"
    },
    {
     "name": "stdout",
     "output_type": "stream",
     "text": [
      "W 0\n"
     ]
    },
    {
     "data": {
      "image/png": "[encoded data removed]",
      "text/plain": [
       "<Figure size 432x288 with 2 Axes>"
      ]
     },
     "metadata": {
      "needs_background": "light"
     },
     "output_type": "display_data"
    },
    {
     "name": "stdout",
     "output_type": "stream",
     "text": [
      "tensor([0.0345, 0.0345, 0.0345, 0.0345, 0.0345, 0.0345, 0.0345, 0.0345, 0.0345,\n",
      "        0.0345, 0.0345, 0.0345, 0.0345, 0.0345, 0.0345, 0.0345, 0.0345, 0.0345,\n",
      "        0.0345, 0.0345, 0.0345, 0.0345, 0.0345, 0.0345, 0.0345, 0.0345, 0.0345,\n",
      "        0.0345, 0.0345], grad_fn=<SumBackward1>)\n",
      "tensor([0.0234, 0.0336, 0.0254, 0.0138, 0.1346, 0.0307, 0.0212, 0.0477, 0.0251,\n",
      "        0.0172, 0.0351, 0.0287, 0.0138, 0.0469, 0.0138, 0.0361, 0.0138, 0.0469,\n",
      "        0.0469, 0.0138, 0.0469, 0.0379, 0.0172, 0.0369, 0.0223, 0.0345, 0.0569,\n",
      "        0.0514, 0.0275], grad_fn=<SumBackward1>)\n",
      "\n",
      "Mgrad\n"
     ]
    },
    {
     "data": {
      "image/png": "[encoded data removed]",
      "text/plain": [
       "<Figure size 432x288 with 2 Axes>"
      ]
     },
     "metadata": {
      "needs_background": "light"
     },
     "output_type": "display_data"
    },
    {
     "name": "stdout",
     "output_type": "stream",
     "text": [
      "attgrad\n"
     ]
    },
    {
     "data": {
      "image/png": "[encoded data removed]",
      "text/plain": [
       "<Figure size 432x288 with 2 Axes>"
      ]
     },
     "metadata": {
      "needs_background": "light"
     },
     "output_type": "display_data"
    },
    {
     "name": "stdout",
     "output_type": "stream",
     "text": [
      "Wgrad\n"
     ]
    },
    {
     "data": {
      "image/png": "[encoded data removed]",
      "text/plain": [
       "<Figure size 432x288 with 2 Axes>"
      ]
     },
     "metadata": {
      "needs_background": "light"
     },
     "output_type": "display_data"
    },
    {
     "name": "stdout",
     "output_type": "stream",
     "text": [
      "lossgrad\n"
     ]
    },
    {
     "data": {
      "image/png": "[encoded data removed]",
      "text/plain": [
       "<Figure size 432x288 with 2 Axes>"
      ]
     },
     "metadata": {
      "needs_background": "light"
     },
     "output_type": "display_data"
    }
   ],
   "source": [
    "cross_mats = []\n",
    "loss = torch.tensor(0.)\n",
    "for idx, (stx, lex) in enumerate(X.scope):\n",
    "    print (idx)\n",
    "    if idx < 2:\n",
    "        continue\n",
    "    y = y_embedding[stx:stx+lex]\n",
    "    # these things vary because of the different types of embedding for diff models\n",
    "    if model_type == \"deepsets\":\n",
    "        yhat = yhat_embedding[stx:stx+lex]\n",
    "    elif model_type == \"molemb\":\n",
    "        yhat = yhat_embedding[idx][:lex]\n",
    "    # print(y.shape, self.k.shape, self.q.shape, yhat.shape)\n",
    "#     M = 1/np.sqrt(crossatt.cross_att_dim) * torch.matmul(torch.matmul(y, crossatt.k), torch.matmul(crossatt.q.T, yhat.T))\n",
    "#     M = torch.matmul(crossatt.k1(F.leaky_relu(crossatt.k0(y))), crossatt.q1(F.leaky_relu(crossatt.q0(yhat))).T)\n",
    "    if config.cross_att_use_gcn2:\n",
    "        M = torch.matmul(y, crossatt.q1(F.leaky_relu(crossatt.q0(yhat))).T)\n",
    "    else:\n",
    "        M = torch.matmul(crossatt.k1(F.leaky_relu(crossatt.k0(y))), crossatt.q1(F.leaky_relu(crossatt.q0(yhat))).T)\n",
    "#     M = M.clamp(-5, 5)\n",
    "    if config.cross_att_sigmoid:\n",
    "        M = nn.Sigmoid()(M) * 5\n",
    "    \n",
    "    print (\"Model name:\", model_name)\n",
    "    print (\"Type={}, random={}, epoch={}, index={}\".format(model_type, config.cross_att_random, model_iter, idx))\n",
    "    if crossatt.args.cross_att_random:\n",
    "        dim = np.random.randint(2)\n",
    "        print (\"random dim selected\", dim)\n",
    "    else:\n",
    "        dim = 1\n",
    "        \n",
    "    print (\"M\")\n",
    "    plt.title(\"Weight Matrix $M$ \\n{}\".format(model_name))\n",
    "    hmap(M, model_name + \"_M\")\n",
    "\n",
    "\n",
    "    attn = torch.softmax(M, dim = dim)\n",
    "    loss_vec = attn.sum(axis = 1 - dim)\n",
    "    loss += torch.sum(-torch.log(loss_vec) * loss_vec)\n",
    "    print (\"attn\")\n",
    "    plt.title(\"Attention Matrix $attn$ \\n{}\".format(model_name))\n",
    "    hmap(attn, model_name + \"_attn\")\n",
    "    W = (attn + crossatt.eps)/(len(attn))\n",
    "    # if idx == 0:\n",
    "    #     print (W.sum(axis = 0))\n",
    "    #     print (W.sum(axis = 1))\n",
    "    #     print ()\n",
    "#     W2 = sinkhorn_knopp(W, -0.1, numItermax=1)\n",
    "#     print (\"new sinkhorn\")\n",
    "#     hmap(W2)\n",
    "#     if idx == 0:\n",
    "#         print (W2.sum(axis = 0))\n",
    "#         print (W2.sum(axis = 1))\n",
    "#         print ()\n",
    "    \n",
    "    W_in = W\n",
    "#     for idx2 in range(crossatt.args.cross_att_n_sinkhorn):\n",
    "    for idx2 in range(1):\n",
    "        dim = 1 - dim\n",
    "        W = (W.transpose(0,dim) / W.sum(axis = dim)).transpose(0,dim)\n",
    "        W = W/(len(W))\n",
    "#         if idx2 == crossatt.args.cross_att_n_sinkhorn-1:\n",
    "        if True:\n",
    "            print (\"W\",idx2)\n",
    "            hmap(W)\n",
    "            print (W.sum(axis = 0))\n",
    "            print (W.sum(axis = 1))\n",
    "            print ()\n",
    "#     print (\"W\",idx2+1)\n",
    "#     hmap(W)\n",
    "    \n",
    "    cross_mats.append(W)\n",
    "    \n",
    "    print (\"Mgrad\")\n",
    "    hmap(grad(M[1,1], yhat, retain_graph = True)[0])\n",
    "    \n",
    "    print (\"attgrad\")\n",
    "    hmap(grad(attn[0,0], M, retain_graph = True)[0])\n",
    "    \n",
    "    print (\"Wgrad\")\n",
    "    hmap(grad(W[1,1], yhat, retain_graph = True)[0])\n",
    "    \n",
    "#     print (\"W2grad\")\n",
    "#     hmap(grad(W2[1,1], W, retain_graph = True)[0])\n",
    "\n",
    "    print ('lossgrad')\n",
    "    hmap(grad(loss, y, retain_graph = True)[0])\n",
    "    \n",
    "    break"
   ]
  },
  {
   "cell_type": "code",
   "execution_count": 19,
   "metadata": {},
   "outputs": [
    {
     "name": "stdout",
     "output_type": "stream",
     "text": [
      "tensor(-7.1839, grad_fn=<AddBackward0>)\n"
     ]
    },
    {
     "data": {
      "text/plain": [
       "tensor([0.4597, 0.4322, 2.2297, 0.0973, 0.8316, 1.5604, 0.5210, 1.8939, 0.0943,\n",
       "        1.4756, 0.9781, 0.8037, 0.1377, 0.6792, 2.5058, 2.0001, 2.5058, 0.6792,\n",
       "        0.6792, 0.1377, 0.6792, 1.9457, 0.9951, 0.6434, 0.8450, 0.4074, 0.5974,\n",
       "        1.1263, 1.0583], grad_fn=<SumBackward1>)"
      ]
     },
     "execution_count": 19,
     "metadata": {},
     "output_type": "execute_result"
    }
   ],
   "source": [
    "print (loss)\n",
    "loss_vec"
   ]
  },
  {
   "cell_type": "code",
   "execution_count": 20,
   "metadata": {},
   "outputs": [
    {
     "name": "stdout",
     "output_type": "stream",
     "text": [
      "tensor(3.2012, grad_fn=<SumBackward0>)\n",
      "tensor(3.2011, grad_fn=<SumBackward0>)\n"
     ]
    }
   ],
   "source": [
    "loss_vec = W.sum(axis = 1-dim)\n",
    "print (torch.sum(-torch.log(loss_vec) * loss_vec))\n",
    "print (torch.sum(-torch.log(loss_vec + crossatt.eps) * loss_vec))"
   ]
  },
  {
   "cell_type": "code",
   "execution_count": 21,
   "metadata": {
    "scrolled": true
   },
   "outputs": [
    {
     "data": {
      "text/plain": [
       "tensor([[0.0000e+00, 0.0000e+00, 0.0000e+00, 0.0000e+00, 0.0000e+00, 0.0000e+00,\n",
       "         9.9363e-01, 0.0000e+00, 0.0000e+00, 1.0000e+00, 0.0000e+00, 0.0000e+00,\n",
       "         0.0000e+00, 1.1525e-31, 0.0000e+00, 6.7097e-24, 0.0000e+00, 1.1525e-31,\n",
       "         1.1525e-31, 0.0000e+00, 1.1525e-31, 1.2308e-24, 8.6083e-01, 0.0000e+00,\n",
       "         5.2410e-17, 0.0000e+00, 0.0000e+00, 0.0000e+00, 2.5294e-24],\n",
       "        [4.2154e-03, 2.2314e-03, 3.6882e-02, 4.9043e-05, 1.3483e-02, 7.9874e-21,\n",
       "         1.5966e-05, 3.9796e-21, 8.3029e-25, 4.9499e-10, 1.6090e-07, 5.1156e-21,\n",
       "         1.9909e-15, 1.0179e-05, 6.3062e-21, 6.0783e-13, 6.3062e-21, 1.0179e-05,\n",
       "         1.0179e-05, 1.9909e-15, 1.0179e-05, 3.7115e-27, 1.5179e-08, 9.0591e-23,\n",
       "         1.8516e-06, 5.6627e-03, 1.3445e-07, 8.0032e-05, 6.7717e-27],\n",
       "        [0.0000e+00, 0.0000e+00, 1.0744e-35, 2.2651e-21, 3.7036e-36, 3.1168e-02,\n",
       "         1.1706e-23, 1.0537e-02, 9.9268e-01, 2.9119e-30, 0.0000e+00, 2.5659e-02,\n",
       "         1.8813e-07, 2.3137e-38, 5.5886e-03, 0.0000e+00, 5.5886e-03, 2.3137e-38,\n",
       "         2.3137e-38, 1.8813e-07, 2.3137e-38, 1.0000e+00, 3.3469e-31, 9.1752e-01,\n",
       "         3.1195e-34, 4.8298e-32, 9.6973e-15, 0.0000e+00, 1.0000e+00],\n",
       "        [5.1765e-37, 0.0000e+00, 1.2178e-32, 2.4494e-15, 7.9372e-32, 1.0000e+00,\n",
       "         1.9604e-35, 1.0000e+00, 1.0000e+00, 0.0000e+00, 0.0000e+00, 1.0000e+00,\n",
       "         1.0000e+00, 0.0000e+00, 1.0000e+00, 0.0000e+00, 1.0000e+00, 0.0000e+00,\n",
       "         0.0000e+00, 1.0000e+00, 0.0000e+00, 1.0000e+00, 0.0000e+00, 1.0000e+00,\n",
       "         0.0000e+00, 3.0550e-27, 5.1359e-07, 0.0000e+00, 1.0000e+00],\n",
       "        [2.8987e-11, 9.5339e-12, 1.6640e-09, 1.7214e-07, 6.4821e-10, 1.6068e-08,\n",
       "         3.4521e-08, 1.4680e-08, 9.9795e-10, 3.3306e-12, 1.1464e-14, 1.3502e-08,\n",
       "         2.3621e-07, 6.2605e-12, 1.3023e-09, 4.0639e-17, 1.3023e-09, 6.2605e-12,\n",
       "         6.2605e-12, 2.3621e-07, 6.2605e-12, 1.9717e-10, 1.3667e-11, 5.9698e-09,\n",
       "         2.3882e-11, 3.4832e-09, 1.0967e-06, 4.6025e-13, 2.4309e-10],\n",
       "        [1.0000e+00, 1.0000e+00, 9.3041e-01, 9.9738e-01, 9.9937e-01, 3.8136e-36,\n",
       "         3.8162e-29, 7.3023e-38, 0.0000e+00, 1.5365e-19, 1.0000e+00, 1.8982e-36,\n",
       "         1.0685e-15, 9.7355e-01, 5.7659e-24, 4.5537e-18, 5.7659e-24, 9.7355e-01,\n",
       "         9.7355e-01, 1.0685e-15, 9.7355e-01, 0.0000e+00, 8.4798e-14, 0.0000e+00,\n",
       "         4.9768e-14, 9.9987e-01, 6.7916e-01, 1.0000e+00, 0.0000e+00],\n",
       "        [0.0000e+00, 0.0000e+00, 0.0000e+00, 1.1735e-31, 0.0000e+00, 1.0000e+00,\n",
       "         7.4532e-14, 1.0000e+00, 1.0000e+00, 4.3182e-18, 0.0000e+00, 1.0000e+00,\n",
       "         1.0000e+00, 0.0000e+00, 1.0000e+00, 0.0000e+00, 1.0000e+00, 0.0000e+00,\n",
       "         0.0000e+00, 1.0000e+00, 0.0000e+00, 1.0000e+00, 5.7140e-22, 1.0000e+00,\n",
       "         1.5241e-33, 0.0000e+00, 3.0277e-18, 0.0000e+00, 1.0000e+00],\n",
       "        [1.4007e-07, 2.0787e-08, 2.0674e-07, 1.3343e-15, 2.4216e-07, 0.0000e+00,\n",
       "         2.6349e-29, 0.0000e+00, 0.0000e+00, 0.0000e+00, 3.6642e-19, 0.0000e+00,\n",
       "         0.0000e+00, 5.7775e-19, 0.0000e+00, 0.0000e+00, 0.0000e+00, 5.7775e-19,\n",
       "         5.7775e-19, 0.0000e+00, 5.7775e-19, 0.0000e+00, 1.4669e-33, 0.0000e+00,\n",
       "         6.2554e-26, 9.9051e-08, 5.7784e-26, 2.4288e-11, 0.0000e+00],\n",
       "        [0.0000e+00, 0.0000e+00, 0.0000e+00, 0.0000e+00, 0.0000e+00, 1.0000e+00,\n",
       "         0.0000e+00, 1.0000e+00, 1.0000e+00, 0.0000e+00, 0.0000e+00, 1.0000e+00,\n",
       "         9.9978e-01, 0.0000e+00, 1.0000e+00, 0.0000e+00, 1.0000e+00, 0.0000e+00,\n",
       "         0.0000e+00, 9.9978e-01, 0.0000e+00, 9.9996e-01, 0.0000e+00, 1.0000e+00,\n",
       "         0.0000e+00, 0.0000e+00, 1.7143e-35, 0.0000e+00, 9.9994e-01],\n",
       "        [1.0000e+00, 1.0000e+00, 1.0000e+00, 1.0000e+00, 1.0000e+00, 1.6186e-34,\n",
       "         1.0000e+00, 3.5961e-36, 1.7385e-28, 1.0000e+00, 1.0000e+00, 3.2814e-34,\n",
       "         2.9203e-29, 1.0000e+00, 1.8492e-28, 1.0000e+00, 1.8492e-28, 1.0000e+00,\n",
       "         1.0000e+00, 2.9203e-29, 1.0000e+00, 3.3781e-17, 1.0000e+00, 2.4042e-30,\n",
       "         1.0000e+00, 1.0000e+00, 9.5879e-01, 1.0000e+00, 5.8153e-17],\n",
       "        [1.0000e+00, 1.0000e+00, 1.0000e+00, 1.0000e+00, 1.0000e+00, 6.0869e-12,\n",
       "         9.9631e-01, 3.3969e-12, 2.0243e-16, 1.0000e+00, 1.0000e+00, 9.1571e-12,\n",
       "         1.3405e-02, 1.0000e+00, 1.1978e-08, 1.0000e+00, 1.1978e-08, 1.0000e+00,\n",
       "         1.0000e+00, 1.3405e-02, 1.0000e+00, 5.0031e-19, 1.0000e+00, 5.7298e-15,\n",
       "         1.0000e+00, 1.0000e+00, 1.0000e+00, 1.0000e+00, 4.4588e-19],\n",
       "        [0.0000e+00, 0.0000e+00, 0.0000e+00, 9.2790e-33, 0.0000e+00, 2.3144e-09,\n",
       "         0.0000e+00, 1.1791e-09, 7.5108e-14, 0.0000e+00, 0.0000e+00, 9.0298e-10,\n",
       "         3.2445e-11, 0.0000e+00, 1.1538e-11, 0.0000e+00, 1.1538e-11, 0.0000e+00,\n",
       "         0.0000e+00, 3.2445e-11, 0.0000e+00, 3.9699e-20, 0.0000e+00, 2.7679e-11,\n",
       "         0.0000e+00, 0.0000e+00, 3.9608e-24, 0.0000e+00, 5.8997e-20],\n",
       "        [0.0000e+00, 0.0000e+00, 0.0000e+00, 9.4554e-22, 5.8672e-39, 1.0360e-24,\n",
       "         0.0000e+00, 3.1649e-27, 1.8317e-33, 0.0000e+00, 0.0000e+00, 1.2215e-25,\n",
       "         4.1439e-17, 0.0000e+00, 3.5282e-10, 0.0000e+00, 3.5282e-10, 0.0000e+00,\n",
       "         0.0000e+00, 4.1440e-17, 0.0000e+00, 0.0000e+00, 0.0000e+00, 1.5825e-30,\n",
       "         0.0000e+00, 5.5967e-33, 2.0966e-16, 0.0000e+00, 0.0000e+00],\n",
       "        [1.0000e+00, 1.0000e+00, 1.0000e+00, 1.3050e-02, 1.0000e+00, 4.8866e-24,\n",
       "         1.0000e+00, 1.5724e-23, 6.9552e-28, 1.0000e+00, 1.0000e+00, 5.2911e-24,\n",
       "         2.9494e-18, 1.0000e+00, 3.7717e-30, 9.9996e-01, 3.7717e-30, 1.0000e+00,\n",
       "         1.0000e+00, 2.9494e-18, 1.0000e+00, 4.6912e-29, 1.0000e+00, 2.4997e-25,\n",
       "         1.0000e+00, 9.9995e-01, 2.2419e-07, 1.0000e+00, 7.4183e-29],\n",
       "        [0.0000e+00, 0.0000e+00, 0.0000e+00, 0.0000e+00, 0.0000e+00, 1.0000e+00,\n",
       "         0.0000e+00, 1.0000e+00, 1.0000e+00, 0.0000e+00, 0.0000e+00, 1.0000e+00,\n",
       "         1.0000e+00, 0.0000e+00, 1.0000e+00, 0.0000e+00, 1.0000e+00, 0.0000e+00,\n",
       "         0.0000e+00, 1.0000e+00, 0.0000e+00, 1.0000e+00, 0.0000e+00, 1.0000e+00,\n",
       "         0.0000e+00, 0.0000e+00, 1.0000e+00, 0.0000e+00, 1.0000e+00],\n",
       "        [1.0000e+00, 1.0000e+00, 1.0000e+00, 6.4450e-05, 9.9996e-01, 2.2866e-31,\n",
       "         1.0000e+00, 2.5102e-31, 3.9688e-34, 1.0000e+00, 1.0000e+00, 2.1624e-31,\n",
       "         1.0970e-25, 1.0000e+00, 3.5315e-36, 9.9999e-01, 3.5315e-36, 1.0000e+00,\n",
       "         1.0000e+00, 1.0970e-25, 1.0000e+00, 1.6535e-33, 1.0000e+00, 6.6706e-32,\n",
       "         1.0000e+00, 9.9618e-01, 6.9875e-11, 1.0000e+00, 3.2319e-33],\n",
       "        [0.0000e+00, 0.0000e+00, 0.0000e+00, 0.0000e+00, 0.0000e+00, 1.0000e+00,\n",
       "         0.0000e+00, 1.0000e+00, 1.0000e+00, 0.0000e+00, 0.0000e+00, 1.0000e+00,\n",
       "         1.0000e+00, 0.0000e+00, 1.0000e+00, 0.0000e+00, 1.0000e+00, 0.0000e+00,\n",
       "         0.0000e+00, 1.0000e+00, 0.0000e+00, 1.0000e+00, 0.0000e+00, 1.0000e+00,\n",
       "         0.0000e+00, 0.0000e+00, 1.0000e+00, 0.0000e+00, 1.0000e+00],\n",
       "        [1.0000e+00, 1.0000e+00, 1.0000e+00, 1.3050e-02, 1.0000e+00, 4.8866e-24,\n",
       "         1.0000e+00, 1.5724e-23, 6.9552e-28, 1.0000e+00, 1.0000e+00, 5.2911e-24,\n",
       "         2.9494e-18, 1.0000e+00, 3.7717e-30, 9.9996e-01, 3.7717e-30, 1.0000e+00,\n",
       "         1.0000e+00, 2.9494e-18, 1.0000e+00, 4.6912e-29, 1.0000e+00, 2.4997e-25,\n",
       "         1.0000e+00, 9.9995e-01, 2.2419e-07, 1.0000e+00, 7.4183e-29],\n",
       "        [1.0000e+00, 1.0000e+00, 1.0000e+00, 1.3050e-02, 1.0000e+00, 4.8866e-24,\n",
       "         1.0000e+00, 1.5724e-23, 6.9552e-28, 1.0000e+00, 1.0000e+00, 5.2911e-24,\n",
       "         2.9494e-18, 1.0000e+00, 3.7717e-30, 9.9996e-01, 3.7717e-30, 1.0000e+00,\n",
       "         1.0000e+00, 2.9494e-18, 1.0000e+00, 4.6912e-29, 1.0000e+00, 2.4997e-25,\n",
       "         1.0000e+00, 9.9995e-01, 2.2419e-07, 1.0000e+00, 7.4183e-29],\n",
       "        [0.0000e+00, 0.0000e+00, 0.0000e+00, 9.4554e-22, 5.8672e-39, 1.0360e-24,\n",
       "         0.0000e+00, 3.1649e-27, 1.8317e-33, 0.0000e+00, 0.0000e+00, 1.2216e-25,\n",
       "         4.1439e-17, 0.0000e+00, 3.5282e-10, 0.0000e+00, 3.5282e-10, 0.0000e+00,\n",
       "         0.0000e+00, 4.1440e-17, 0.0000e+00, 0.0000e+00, 0.0000e+00, 1.5825e-30,\n",
       "         0.0000e+00, 5.5967e-33, 2.0966e-16, 0.0000e+00, 0.0000e+00],\n",
       "        [1.0000e+00, 1.0000e+00, 1.0000e+00, 1.3050e-02, 1.0000e+00, 4.8866e-24,\n",
       "         1.0000e+00, 1.5724e-23, 6.9552e-28, 1.0000e+00, 1.0000e+00, 5.2911e-24,\n",
       "         2.9494e-18, 1.0000e+00, 3.7717e-30, 9.9996e-01, 3.7717e-30, 1.0000e+00,\n",
       "         1.0000e+00, 2.9494e-18, 1.0000e+00, 4.6912e-29, 1.0000e+00, 2.4997e-25,\n",
       "         1.0000e+00, 9.9995e-01, 2.2419e-07, 1.0000e+00, 7.4183e-29],\n",
       "        [0.0000e+00, 0.0000e+00, 0.0000e+00, 0.0000e+00, 0.0000e+00, 1.0000e+00,\n",
       "         0.0000e+00, 1.0000e+00, 1.0000e+00, 0.0000e+00, 0.0000e+00, 1.0000e+00,\n",
       "         9.9999e-01, 0.0000e+00, 1.0000e+00, 0.0000e+00, 1.0000e+00, 0.0000e+00,\n",
       "         0.0000e+00, 9.9999e-01, 0.0000e+00, 1.0000e+00, 0.0000e+00, 1.0000e+00,\n",
       "         0.0000e+00, 0.0000e+00, 3.5339e-27, 0.0000e+00, 1.0000e+00],\n",
       "        [1.0000e+00, 1.0000e+00, 1.0000e+00, 1.0000e+00, 1.0000e+00, 2.8198e-25,\n",
       "         1.0000e+00, 1.4819e-26, 4.8443e-21, 1.0000e+00, 1.0000e+00, 5.7765e-25,\n",
       "         7.7038e-20, 1.0000e+00, 1.4691e-19, 1.0000e+00, 1.4691e-19, 1.0000e+00,\n",
       "         1.0000e+00, 7.7038e-20, 1.0000e+00, 1.0656e-12, 1.0000e+00, 1.7706e-22,\n",
       "         1.0000e+00, 1.0000e+00, 9.9997e-01, 1.0000e+00, 1.4279e-12],\n",
       "        [1.3952e-06, 2.2840e-06, 7.3294e-06, 8.7671e-14, 5.9779e-07, 0.0000e+00,\n",
       "         3.5196e-11, 0.0000e+00, 0.0000e+00, 1.1058e-15, 7.3965e-12, 0.0000e+00,\n",
       "         0.0000e+00, 6.2328e-09, 0.0000e+00, 4.5995e-23, 0.0000e+00, 6.2328e-09,\n",
       "         6.2328e-09, 0.0000e+00, 6.2328e-09, 0.0000e+00, 4.7393e-13, 0.0000e+00,\n",
       "         3.2536e-11, 6.6125e-08, 8.1980e-21, 1.0065e-07, 0.0000e+00],\n",
       "        [1.7116e-31, 1.2558e-31, 8.1478e-27, 2.6527e-17, 1.6336e-28, 1.0000e+00,\n",
       "         1.4430e-02, 1.0000e+00, 1.0000e+00, 9.8390e-04, 7.1015e-30, 1.0000e+00,\n",
       "         1.0000e+00, 1.9471e-21, 1.0000e+00, 1.8804e-19, 1.0000e+00, 1.9471e-21,\n",
       "         1.9471e-21, 1.0000e+00, 1.9471e-21, 1.0000e+00, 6.9815e-07, 1.0000e+00,\n",
       "         4.4913e-14, 3.4067e-26, 8.9660e-10, 4.6849e-32, 1.0000e+00],\n",
       "        [4.8039e-07, 1.7665e-07, 1.1382e-05, 4.8298e-08, 3.5669e-06, 9.2552e-26,\n",
       "         5.5204e-10, 2.7231e-26, 1.6540e-30, 8.8558e-16, 9.1632e-13, 4.9567e-26,\n",
       "         1.0677e-19, 2.4147e-10, 2.2494e-25, 3.0535e-20, 2.2494e-25, 2.4147e-10,\n",
       "         2.4147e-10, 1.0677e-19, 2.4147e-10, 2.0364e-33, 8.4221e-14, 4.6787e-28,\n",
       "         1.5068e-11, 2.9771e-06, 1.0150e-10, 2.4849e-09, 4.3644e-33],\n",
       "        [1.2493e-26, 8.4551e-28, 6.3159e-23, 1.1307e-14, 1.9689e-23, 9.2902e-01,\n",
       "         8.7013e-20, 9.4261e-01, 8.0607e-01, 1.7372e-27, 3.5639e-33, 9.1281e-01,\n",
       "         4.3983e-02, 9.9363e-28, 1.1817e-01, 3.9663e-38, 1.1817e-01, 9.9363e-28,\n",
       "         9.9363e-28, 4.3983e-02, 9.9363e-28, 1.0410e-01, 2.5707e-26, 9.3130e-01,\n",
       "         5.4668e-27, 4.4056e-21, 6.9898e-10, 2.4064e-30, 1.0390e-01],\n",
       "        [2.8212e-01, 3.5512e-01, 4.9786e-01, 1.4696e-03, 2.4955e-01, 6.9389e-15,\n",
       "         7.3667e-01, 5.0040e-15, 1.8202e-16, 1.8194e-01, 2.8837e-02, 6.0400e-15,\n",
       "         6.5111e-12, 3.7803e-01, 6.7139e-16, 1.1893e-03, 6.7139e-16, 3.7803e-01,\n",
       "         3.7803e-01, 6.5111e-12, 3.7803e-01, 1.2242e-16, 3.2404e-01, 1.9728e-15,\n",
       "         4.9410e-01, 1.0202e-01, 1.1410e-05, 1.9402e-01, 1.7252e-16],\n",
       "        [0.0000e+00, 0.0000e+00, 0.0000e+00, 3.0532e-31, 0.0000e+00, 2.5088e-07,\n",
       "         0.0000e+00, 1.7906e-07, 2.6734e-10, 0.0000e+00, 0.0000e+00, 1.3073e-07,\n",
       "         6.4595e-10, 0.0000e+00, 1.6288e-10, 0.0000e+00, 1.6288e-10, 0.0000e+00,\n",
       "         0.0000e+00, 6.4595e-10, 0.0000e+00, 8.9470e-15, 0.0000e+00, 2.3542e-08,\n",
       "         0.0000e+00, 0.0000e+00, 7.6850e-23, 0.0000e+00, 1.1019e-14]],\n",
       "       grad_fn=<SigmoidBackward>)"
      ]
     },
     "execution_count": 21,
     "metadata": {},
     "output_type": "execute_result"
    }
   ],
   "source": [
    "nn.Sigmoid()(M)"
   ]
  },
  {
   "cell_type": "code",
   "execution_count": 22,
   "metadata": {},
   "outputs": [
    {
     "data": {
      "text/plain": [
       "tensor(-7.1839, grad_fn=<SumBackward0>)"
      ]
     },
     "execution_count": 22,
     "metadata": {},
     "output_type": "execute_result"
    }
   ],
   "source": [
    "loss_vec = attn.sum(axis = 0)\n",
    "torch.sum(-torch.log(loss_vec) * loss_vec)"
   ]
  },
  {
   "cell_type": "code",
   "execution_count": 23,
   "metadata": {},
   "outputs": [
    {
     "data": {
      "text/plain": [
       "tensor([0.4597, 0.4322, 2.2297, 0.0973, 0.8316, 1.5604, 0.5210, 1.8939, 0.0943,\n",
       "        1.4756, 0.9781, 0.8037, 0.1377, 0.6792, 2.5058, 2.0001, 2.5058, 0.6792,\n",
       "        0.6792, 0.1377, 0.6792, 1.9457, 0.9951, 0.6434, 0.8450, 0.4074, 0.5974,\n",
       "        1.1263, 1.0583], grad_fn=<SumBackward1>)"
      ]
     },
     "execution_count": 23,
     "metadata": {},
     "output_type": "execute_result"
    }
   ],
   "source": [
    "attn.sum(axis = 0)"
   ]
  },
  {
   "cell_type": "code",
   "execution_count": 24,
   "metadata": {
    "scrolled": true
   },
   "outputs": [
    {
     "data": {
      "text/plain": [
       "tensor([[0.0000e+00, 0.0000e+00, 0.0000e+00, 0.0000e+00, 0.0000e+00, 0.0000e+00,\n",
       "         9.9363e-01, 0.0000e+00, 0.0000e+00, 1.0000e+00, 0.0000e+00, 0.0000e+00,\n",
       "         0.0000e+00, 1.1525e-31, 0.0000e+00, 6.7097e-24, 0.0000e+00, 1.1525e-31,\n",
       "         1.1525e-31, 0.0000e+00, 1.1525e-31, 1.2308e-24, 8.6083e-01, 0.0000e+00,\n",
       "         5.2410e-17, 0.0000e+00, 0.0000e+00, 0.0000e+00, 2.5294e-24],\n",
       "        [4.2154e-03, 2.2314e-03, 3.6882e-02, 4.9043e-05, 1.3483e-02, 7.9874e-21,\n",
       "         1.5966e-05, 3.9796e-21, 8.3029e-25, 4.9499e-10, 1.6090e-07, 5.1156e-21,\n",
       "         1.9909e-15, 1.0179e-05, 6.3062e-21, 6.0783e-13, 6.3062e-21, 1.0179e-05,\n",
       "         1.0179e-05, 1.9909e-15, 1.0179e-05, 3.7115e-27, 1.5179e-08, 9.0591e-23,\n",
       "         1.8516e-06, 5.6627e-03, 1.3445e-07, 8.0032e-05, 6.7717e-27],\n",
       "        [0.0000e+00, 0.0000e+00, 1.0744e-35, 2.2651e-21, 3.7036e-36, 3.1168e-02,\n",
       "         1.1706e-23, 1.0537e-02, 9.9268e-01, 2.9119e-30, 0.0000e+00, 2.5659e-02,\n",
       "         1.8813e-07, 2.3137e-38, 5.5886e-03, 0.0000e+00, 5.5886e-03, 2.3137e-38,\n",
       "         2.3137e-38, 1.8813e-07, 2.3137e-38, 1.0000e+00, 3.3469e-31, 9.1752e-01,\n",
       "         3.1195e-34, 4.8298e-32, 9.6973e-15, 0.0000e+00, 1.0000e+00],\n",
       "        [5.1765e-37, 0.0000e+00, 1.2178e-32, 2.4494e-15, 7.9372e-32, 1.0000e+00,\n",
       "         1.9604e-35, 1.0000e+00, 1.0000e+00, 0.0000e+00, 0.0000e+00, 1.0000e+00,\n",
       "         1.0000e+00, 0.0000e+00, 1.0000e+00, 0.0000e+00, 1.0000e+00, 0.0000e+00,\n",
       "         0.0000e+00, 1.0000e+00, 0.0000e+00, 1.0000e+00, 0.0000e+00, 1.0000e+00,\n",
       "         0.0000e+00, 3.0550e-27, 5.1359e-07, 0.0000e+00, 1.0000e+00],\n",
       "        [2.8987e-11, 9.5339e-12, 1.6640e-09, 1.7214e-07, 6.4821e-10, 1.6068e-08,\n",
       "         3.4521e-08, 1.4680e-08, 9.9795e-10, 3.3306e-12, 1.1464e-14, 1.3502e-08,\n",
       "         2.3621e-07, 6.2605e-12, 1.3023e-09, 4.0639e-17, 1.3023e-09, 6.2605e-12,\n",
       "         6.2605e-12, 2.3621e-07, 6.2605e-12, 1.9717e-10, 1.3667e-11, 5.9698e-09,\n",
       "         2.3882e-11, 3.4832e-09, 1.0967e-06, 4.6025e-13, 2.4309e-10],\n",
       "        [1.0000e+00, 1.0000e+00, 9.3041e-01, 9.9738e-01, 9.9937e-01, 3.8136e-36,\n",
       "         3.8162e-29, 7.3023e-38, 0.0000e+00, 1.5365e-19, 1.0000e+00, 1.8982e-36,\n",
       "         1.0685e-15, 9.7355e-01, 5.7659e-24, 4.5537e-18, 5.7659e-24, 9.7355e-01,\n",
       "         9.7355e-01, 1.0685e-15, 9.7355e-01, 0.0000e+00, 8.4798e-14, 0.0000e+00,\n",
       "         4.9768e-14, 9.9987e-01, 6.7916e-01, 1.0000e+00, 0.0000e+00],\n",
       "        [0.0000e+00, 0.0000e+00, 0.0000e+00, 1.1735e-31, 0.0000e+00, 1.0000e+00,\n",
       "         7.4532e-14, 1.0000e+00, 1.0000e+00, 4.3182e-18, 0.0000e+00, 1.0000e+00,\n",
       "         1.0000e+00, 0.0000e+00, 1.0000e+00, 0.0000e+00, 1.0000e+00, 0.0000e+00,\n",
       "         0.0000e+00, 1.0000e+00, 0.0000e+00, 1.0000e+00, 5.7140e-22, 1.0000e+00,\n",
       "         1.5241e-33, 0.0000e+00, 3.0277e-18, 0.0000e+00, 1.0000e+00],\n",
       "        [1.4007e-07, 2.0787e-08, 2.0674e-07, 1.3343e-15, 2.4216e-07, 0.0000e+00,\n",
       "         2.6349e-29, 0.0000e+00, 0.0000e+00, 0.0000e+00, 3.6642e-19, 0.0000e+00,\n",
       "         0.0000e+00, 5.7775e-19, 0.0000e+00, 0.0000e+00, 0.0000e+00, 5.7775e-19,\n",
       "         5.7775e-19, 0.0000e+00, 5.7775e-19, 0.0000e+00, 1.4669e-33, 0.0000e+00,\n",
       "         6.2554e-26, 9.9051e-08, 5.7784e-26, 2.4288e-11, 0.0000e+00],\n",
       "        [0.0000e+00, 0.0000e+00, 0.0000e+00, 0.0000e+00, 0.0000e+00, 1.0000e+00,\n",
       "         0.0000e+00, 1.0000e+00, 1.0000e+00, 0.0000e+00, 0.0000e+00, 1.0000e+00,\n",
       "         9.9978e-01, 0.0000e+00, 1.0000e+00, 0.0000e+00, 1.0000e+00, 0.0000e+00,\n",
       "         0.0000e+00, 9.9978e-01, 0.0000e+00, 9.9996e-01, 0.0000e+00, 1.0000e+00,\n",
       "         0.0000e+00, 0.0000e+00, 1.7143e-35, 0.0000e+00, 9.9994e-01],\n",
       "        [1.0000e+00, 1.0000e+00, 1.0000e+00, 1.0000e+00, 1.0000e+00, 1.6186e-34,\n",
       "         1.0000e+00, 3.5961e-36, 1.7385e-28, 1.0000e+00, 1.0000e+00, 3.2814e-34,\n",
       "         2.9203e-29, 1.0000e+00, 1.8492e-28, 1.0000e+00, 1.8492e-28, 1.0000e+00,\n",
       "         1.0000e+00, 2.9203e-29, 1.0000e+00, 3.3781e-17, 1.0000e+00, 2.4042e-30,\n",
       "         1.0000e+00, 1.0000e+00, 9.5879e-01, 1.0000e+00, 5.8153e-17],\n",
       "        [1.0000e+00, 1.0000e+00, 1.0000e+00, 1.0000e+00, 1.0000e+00, 6.0869e-12,\n",
       "         9.9631e-01, 3.3969e-12, 2.0243e-16, 1.0000e+00, 1.0000e+00, 9.1571e-12,\n",
       "         1.3405e-02, 1.0000e+00, 1.1978e-08, 1.0000e+00, 1.1978e-08, 1.0000e+00,\n",
       "         1.0000e+00, 1.3405e-02, 1.0000e+00, 5.0031e-19, 1.0000e+00, 5.7298e-15,\n",
       "         1.0000e+00, 1.0000e+00, 1.0000e+00, 1.0000e+00, 4.4588e-19],\n",
       "        [0.0000e+00, 0.0000e+00, 0.0000e+00, 9.2790e-33, 0.0000e+00, 2.3144e-09,\n",
       "         0.0000e+00, 1.1791e-09, 7.5108e-14, 0.0000e+00, 0.0000e+00, 9.0298e-10,\n",
       "         3.2445e-11, 0.0000e+00, 1.1538e-11, 0.0000e+00, 1.1538e-11, 0.0000e+00,\n",
       "         0.0000e+00, 3.2445e-11, 0.0000e+00, 3.9699e-20, 0.0000e+00, 2.7679e-11,\n",
       "         0.0000e+00, 0.0000e+00, 3.9608e-24, 0.0000e+00, 5.8997e-20],\n",
       "        [0.0000e+00, 0.0000e+00, 0.0000e+00, 9.4554e-22, 5.8672e-39, 1.0360e-24,\n",
       "         0.0000e+00, 3.1649e-27, 1.8317e-33, 0.0000e+00, 0.0000e+00, 1.2215e-25,\n",
       "         4.1439e-17, 0.0000e+00, 3.5282e-10, 0.0000e+00, 3.5282e-10, 0.0000e+00,\n",
       "         0.0000e+00, 4.1440e-17, 0.0000e+00, 0.0000e+00, 0.0000e+00, 1.5825e-30,\n",
       "         0.0000e+00, 5.5967e-33, 2.0966e-16, 0.0000e+00, 0.0000e+00],\n",
       "        [1.0000e+00, 1.0000e+00, 1.0000e+00, 1.3050e-02, 1.0000e+00, 4.8866e-24,\n",
       "         1.0000e+00, 1.5724e-23, 6.9552e-28, 1.0000e+00, 1.0000e+00, 5.2911e-24,\n",
       "         2.9494e-18, 1.0000e+00, 3.7717e-30, 9.9996e-01, 3.7717e-30, 1.0000e+00,\n",
       "         1.0000e+00, 2.9494e-18, 1.0000e+00, 4.6912e-29, 1.0000e+00, 2.4997e-25,\n",
       "         1.0000e+00, 9.9995e-01, 2.2419e-07, 1.0000e+00, 7.4183e-29],\n",
       "        [0.0000e+00, 0.0000e+00, 0.0000e+00, 0.0000e+00, 0.0000e+00, 1.0000e+00,\n",
       "         0.0000e+00, 1.0000e+00, 1.0000e+00, 0.0000e+00, 0.0000e+00, 1.0000e+00,\n",
       "         1.0000e+00, 0.0000e+00, 1.0000e+00, 0.0000e+00, 1.0000e+00, 0.0000e+00,\n",
       "         0.0000e+00, 1.0000e+00, 0.0000e+00, 1.0000e+00, 0.0000e+00, 1.0000e+00,\n",
       "         0.0000e+00, 0.0000e+00, 1.0000e+00, 0.0000e+00, 1.0000e+00],\n",
       "        [1.0000e+00, 1.0000e+00, 1.0000e+00, 6.4450e-05, 9.9996e-01, 2.2866e-31,\n",
       "         1.0000e+00, 2.5102e-31, 3.9688e-34, 1.0000e+00, 1.0000e+00, 2.1624e-31,\n",
       "         1.0970e-25, 1.0000e+00, 3.5315e-36, 9.9999e-01, 3.5315e-36, 1.0000e+00,\n",
       "         1.0000e+00, 1.0970e-25, 1.0000e+00, 1.6535e-33, 1.0000e+00, 6.6706e-32,\n",
       "         1.0000e+00, 9.9618e-01, 6.9875e-11, 1.0000e+00, 3.2319e-33],\n",
       "        [0.0000e+00, 0.0000e+00, 0.0000e+00, 0.0000e+00, 0.0000e+00, 1.0000e+00,\n",
       "         0.0000e+00, 1.0000e+00, 1.0000e+00, 0.0000e+00, 0.0000e+00, 1.0000e+00,\n",
       "         1.0000e+00, 0.0000e+00, 1.0000e+00, 0.0000e+00, 1.0000e+00, 0.0000e+00,\n",
       "         0.0000e+00, 1.0000e+00, 0.0000e+00, 1.0000e+00, 0.0000e+00, 1.0000e+00,\n",
       "         0.0000e+00, 0.0000e+00, 1.0000e+00, 0.0000e+00, 1.0000e+00],\n",
       "        [1.0000e+00, 1.0000e+00, 1.0000e+00, 1.3050e-02, 1.0000e+00, 4.8866e-24,\n",
       "         1.0000e+00, 1.5724e-23, 6.9552e-28, 1.0000e+00, 1.0000e+00, 5.2911e-24,\n",
       "         2.9494e-18, 1.0000e+00, 3.7717e-30, 9.9996e-01, 3.7717e-30, 1.0000e+00,\n",
       "         1.0000e+00, 2.9494e-18, 1.0000e+00, 4.6912e-29, 1.0000e+00, 2.4997e-25,\n",
       "         1.0000e+00, 9.9995e-01, 2.2419e-07, 1.0000e+00, 7.4183e-29],\n",
       "        [1.0000e+00, 1.0000e+00, 1.0000e+00, 1.3050e-02, 1.0000e+00, 4.8866e-24,\n",
       "         1.0000e+00, 1.5724e-23, 6.9552e-28, 1.0000e+00, 1.0000e+00, 5.2911e-24,\n",
       "         2.9494e-18, 1.0000e+00, 3.7717e-30, 9.9996e-01, 3.7717e-30, 1.0000e+00,\n",
       "         1.0000e+00, 2.9494e-18, 1.0000e+00, 4.6912e-29, 1.0000e+00, 2.4997e-25,\n",
       "         1.0000e+00, 9.9995e-01, 2.2419e-07, 1.0000e+00, 7.4183e-29],\n",
       "        [0.0000e+00, 0.0000e+00, 0.0000e+00, 9.4554e-22, 5.8672e-39, 1.0360e-24,\n",
       "         0.0000e+00, 3.1649e-27, 1.8317e-33, 0.0000e+00, 0.0000e+00, 1.2216e-25,\n",
       "         4.1439e-17, 0.0000e+00, 3.5282e-10, 0.0000e+00, 3.5282e-10, 0.0000e+00,\n",
       "         0.0000e+00, 4.1440e-17, 0.0000e+00, 0.0000e+00, 0.0000e+00, 1.5825e-30,\n",
       "         0.0000e+00, 5.5967e-33, 2.0966e-16, 0.0000e+00, 0.0000e+00],\n",
       "        [1.0000e+00, 1.0000e+00, 1.0000e+00, 1.3050e-02, 1.0000e+00, 4.8866e-24,\n",
       "         1.0000e+00, 1.5724e-23, 6.9552e-28, 1.0000e+00, 1.0000e+00, 5.2911e-24,\n",
       "         2.9494e-18, 1.0000e+00, 3.7717e-30, 9.9996e-01, 3.7717e-30, 1.0000e+00,\n",
       "         1.0000e+00, 2.9494e-18, 1.0000e+00, 4.6912e-29, 1.0000e+00, 2.4997e-25,\n",
       "         1.0000e+00, 9.9995e-01, 2.2419e-07, 1.0000e+00, 7.4183e-29],\n",
       "        [0.0000e+00, 0.0000e+00, 0.0000e+00, 0.0000e+00, 0.0000e+00, 1.0000e+00,\n",
       "         0.0000e+00, 1.0000e+00, 1.0000e+00, 0.0000e+00, 0.0000e+00, 1.0000e+00,\n",
       "         9.9999e-01, 0.0000e+00, 1.0000e+00, 0.0000e+00, 1.0000e+00, 0.0000e+00,\n",
       "         0.0000e+00, 9.9999e-01, 0.0000e+00, 1.0000e+00, 0.0000e+00, 1.0000e+00,\n",
       "         0.0000e+00, 0.0000e+00, 3.5339e-27, 0.0000e+00, 1.0000e+00],\n",
       "        [1.0000e+00, 1.0000e+00, 1.0000e+00, 1.0000e+00, 1.0000e+00, 2.8198e-25,\n",
       "         1.0000e+00, 1.4819e-26, 4.8443e-21, 1.0000e+00, 1.0000e+00, 5.7765e-25,\n",
       "         7.7038e-20, 1.0000e+00, 1.4691e-19, 1.0000e+00, 1.4691e-19, 1.0000e+00,\n",
       "         1.0000e+00, 7.7038e-20, 1.0000e+00, 1.0656e-12, 1.0000e+00, 1.7706e-22,\n",
       "         1.0000e+00, 1.0000e+00, 9.9997e-01, 1.0000e+00, 1.4279e-12],\n",
       "        [1.3952e-06, 2.2840e-06, 7.3294e-06, 8.7671e-14, 5.9779e-07, 0.0000e+00,\n",
       "         3.5196e-11, 0.0000e+00, 0.0000e+00, 1.1058e-15, 7.3965e-12, 0.0000e+00,\n",
       "         0.0000e+00, 6.2328e-09, 0.0000e+00, 4.5995e-23, 0.0000e+00, 6.2328e-09,\n",
       "         6.2328e-09, 0.0000e+00, 6.2328e-09, 0.0000e+00, 4.7393e-13, 0.0000e+00,\n",
       "         3.2536e-11, 6.6125e-08, 8.1980e-21, 1.0065e-07, 0.0000e+00],\n",
       "        [1.7116e-31, 1.2558e-31, 8.1478e-27, 2.6527e-17, 1.6336e-28, 1.0000e+00,\n",
       "         1.4430e-02, 1.0000e+00, 1.0000e+00, 9.8390e-04, 7.1015e-30, 1.0000e+00,\n",
       "         1.0000e+00, 1.9471e-21, 1.0000e+00, 1.8804e-19, 1.0000e+00, 1.9471e-21,\n",
       "         1.9471e-21, 1.0000e+00, 1.9471e-21, 1.0000e+00, 6.9815e-07, 1.0000e+00,\n",
       "         4.4913e-14, 3.4067e-26, 8.9660e-10, 4.6849e-32, 1.0000e+00],\n",
       "        [4.8039e-07, 1.7665e-07, 1.1382e-05, 4.8298e-08, 3.5669e-06, 9.2552e-26,\n",
       "         5.5204e-10, 2.7231e-26, 1.6540e-30, 8.8558e-16, 9.1632e-13, 4.9567e-26,\n",
       "         1.0677e-19, 2.4147e-10, 2.2494e-25, 3.0535e-20, 2.2494e-25, 2.4147e-10,\n",
       "         2.4147e-10, 1.0677e-19, 2.4147e-10, 2.0364e-33, 8.4221e-14, 4.6787e-28,\n",
       "         1.5068e-11, 2.9771e-06, 1.0150e-10, 2.4849e-09, 4.3644e-33],\n",
       "        [1.2493e-26, 8.4551e-28, 6.3159e-23, 1.1307e-14, 1.9689e-23, 9.2902e-01,\n",
       "         8.7013e-20, 9.4261e-01, 8.0607e-01, 1.7372e-27, 3.5639e-33, 9.1281e-01,\n",
       "         4.3983e-02, 9.9363e-28, 1.1817e-01, 3.9663e-38, 1.1817e-01, 9.9363e-28,\n",
       "         9.9363e-28, 4.3983e-02, 9.9363e-28, 1.0410e-01, 2.5707e-26, 9.3130e-01,\n",
       "         5.4668e-27, 4.4056e-21, 6.9898e-10, 2.4064e-30, 1.0390e-01],\n",
       "        [2.8212e-01, 3.5512e-01, 4.9786e-01, 1.4696e-03, 2.4955e-01, 6.9389e-15,\n",
       "         7.3667e-01, 5.0040e-15, 1.8202e-16, 1.8194e-01, 2.8837e-02, 6.0400e-15,\n",
       "         6.5111e-12, 3.7803e-01, 6.7139e-16, 1.1893e-03, 6.7139e-16, 3.7803e-01,\n",
       "         3.7803e-01, 6.5111e-12, 3.7803e-01, 1.2242e-16, 3.2404e-01, 1.9728e-15,\n",
       "         4.9410e-01, 1.0202e-01, 1.1410e-05, 1.9402e-01, 1.7252e-16],\n",
       "        [0.0000e+00, 0.0000e+00, 0.0000e+00, 3.0532e-31, 0.0000e+00, 2.5088e-07,\n",
       "         0.0000e+00, 1.7906e-07, 2.6734e-10, 0.0000e+00, 0.0000e+00, 1.3073e-07,\n",
       "         6.4595e-10, 0.0000e+00, 1.6288e-10, 0.0000e+00, 1.6288e-10, 0.0000e+00,\n",
       "         0.0000e+00, 6.4595e-10, 0.0000e+00, 8.9470e-15, 0.0000e+00, 2.3542e-08,\n",
       "         0.0000e+00, 0.0000e+00, 7.6850e-23, 0.0000e+00, 1.1019e-14]],\n",
       "       grad_fn=<SigmoidBackward>)"
      ]
     },
     "execution_count": 24,
     "metadata": {},
     "output_type": "execute_result"
    }
   ],
   "source": [
    "nn.Sigmoid()(M)"
   ]
  },
  {
   "cell_type": "code",
   "execution_count": 25,
   "metadata": {},
   "outputs": [],
   "source": [
    "# get cross entropy loss\n",
    "loss = nn.CrossEntropyLoss()\n",
    "loss_vec = attn.sum(axis = 1 - dim)\n",
    "# loss_vec\n",
    "# loss(loss_vec, loss_vec)"
   ]
  },
  {
   "cell_type": "code",
   "execution_count": 26,
   "metadata": {},
   "outputs": [
    {
     "ename": "ModuleAttributeError",
     "evalue": "'CrossAttUnit' object has no attribute 'k'",
     "output_type": "error",
     "traceback": [
      "\u001b[0;31m---------------------------------------------------------------------------\u001b[0m",
      "\u001b[0;31mModuleAttributeError\u001b[0m                      Traceback (most recent call last)",
      "\u001b[0;32m<ipython-input-26-41403ebb4318>\u001b[0m in \u001b[0;36m<module>\u001b[0;34m\u001b[0m\n\u001b[0;32m----> 1\u001b[0;31m \u001b[0mtorch\u001b[0m\u001b[0;34m.\u001b[0m\u001b[0mmatmul\u001b[0m\u001b[0;34m(\u001b[0m\u001b[0my\u001b[0m\u001b[0;34m,\u001b[0m \u001b[0mcrossatt\u001b[0m\u001b[0;34m.\u001b[0m\u001b[0mk\u001b[0m\u001b[0;34m)\u001b[0m\u001b[0;34m\u001b[0m\u001b[0;34m\u001b[0m\u001b[0m\n\u001b[0m",
      "\u001b[0;32m~/anaconda3/envs/mol_ot/lib/python3.6/site-packages/torch/nn/modules/module.py\u001b[0m in \u001b[0;36m__getattr__\u001b[0;34m(self, name)\u001b[0m\n\u001b[1;32m    770\u001b[0m                 \u001b[0;32mreturn\u001b[0m \u001b[0mmodules\u001b[0m\u001b[0;34m[\u001b[0m\u001b[0mname\u001b[0m\u001b[0;34m]\u001b[0m\u001b[0;34m\u001b[0m\u001b[0;34m\u001b[0m\u001b[0m\n\u001b[1;32m    771\u001b[0m         raise ModuleAttributeError(\"'{}' object has no attribute '{}'\".format(\n\u001b[0;32m--> 772\u001b[0;31m             type(self).__name__, name))\n\u001b[0m\u001b[1;32m    773\u001b[0m \u001b[0;34m\u001b[0m\u001b[0m\n\u001b[1;32m    774\u001b[0m     \u001b[0;32mdef\u001b[0m \u001b[0m__setattr__\u001b[0m\u001b[0;34m(\u001b[0m\u001b[0mself\u001b[0m\u001b[0;34m,\u001b[0m \u001b[0mname\u001b[0m\u001b[0;34m:\u001b[0m \u001b[0mstr\u001b[0m\u001b[0;34m,\u001b[0m \u001b[0mvalue\u001b[0m\u001b[0;34m:\u001b[0m \u001b[0mUnion\u001b[0m\u001b[0;34m[\u001b[0m\u001b[0mTensor\u001b[0m\u001b[0;34m,\u001b[0m \u001b[0;34m'Module'\u001b[0m\u001b[0;34m]\u001b[0m\u001b[0;34m)\u001b[0m \u001b[0;34m->\u001b[0m \u001b[0;32mNone\u001b[0m\u001b[0;34m:\u001b[0m\u001b[0;34m\u001b[0m\u001b[0;34m\u001b[0m\u001b[0m\n",
      "\u001b[0;31mModuleAttributeError\u001b[0m: 'CrossAttUnit' object has no attribute 'k'"
     ]
    }
   ],
   "source": [
    "torch.matmul(y, crossatt.k)"
   ]
  },
  {
   "cell_type": "code",
   "execution_count": 27,
   "metadata": {},
   "outputs": [
    {
     "ename": "ModuleAttributeError",
     "evalue": "'CrossAttUnit' object has no attribute 'q'",
     "output_type": "error",
     "traceback": [
      "\u001b[0;31m---------------------------------------------------------------------------\u001b[0m",
      "\u001b[0;31mModuleAttributeError\u001b[0m                      Traceback (most recent call last)",
      "\u001b[0;32m<ipython-input-27-5dcb73c3ea2f>\u001b[0m in \u001b[0;36m<module>\u001b[0;34m\u001b[0m\n\u001b[0;32m----> 1\u001b[0;31m \u001b[0mtorch\u001b[0m\u001b[0;34m.\u001b[0m\u001b[0mmatmul\u001b[0m\u001b[0;34m(\u001b[0m\u001b[0mcrossatt\u001b[0m\u001b[0;34m.\u001b[0m\u001b[0mq\u001b[0m\u001b[0;34m.\u001b[0m\u001b[0mT\u001b[0m\u001b[0;34m,\u001b[0m \u001b[0myhat\u001b[0m\u001b[0;34m.\u001b[0m\u001b[0mT\u001b[0m\u001b[0;34m)\u001b[0m\u001b[0;34m\u001b[0m\u001b[0;34m\u001b[0m\u001b[0m\n\u001b[0m",
      "\u001b[0;32m~/anaconda3/envs/mol_ot/lib/python3.6/site-packages/torch/nn/modules/module.py\u001b[0m in \u001b[0;36m__getattr__\u001b[0;34m(self, name)\u001b[0m\n\u001b[1;32m    770\u001b[0m                 \u001b[0;32mreturn\u001b[0m \u001b[0mmodules\u001b[0m\u001b[0;34m[\u001b[0m\u001b[0mname\u001b[0m\u001b[0;34m]\u001b[0m\u001b[0;34m\u001b[0m\u001b[0;34m\u001b[0m\u001b[0m\n\u001b[1;32m    771\u001b[0m         raise ModuleAttributeError(\"'{}' object has no attribute '{}'\".format(\n\u001b[0;32m--> 772\u001b[0;31m             type(self).__name__, name))\n\u001b[0m\u001b[1;32m    773\u001b[0m \u001b[0;34m\u001b[0m\u001b[0m\n\u001b[1;32m    774\u001b[0m     \u001b[0;32mdef\u001b[0m \u001b[0m__setattr__\u001b[0m\u001b[0;34m(\u001b[0m\u001b[0mself\u001b[0m\u001b[0;34m,\u001b[0m \u001b[0mname\u001b[0m\u001b[0;34m:\u001b[0m \u001b[0mstr\u001b[0m\u001b[0;34m,\u001b[0m \u001b[0mvalue\u001b[0m\u001b[0;34m:\u001b[0m \u001b[0mUnion\u001b[0m\u001b[0;34m[\u001b[0m\u001b[0mTensor\u001b[0m\u001b[0;34m,\u001b[0m \u001b[0;34m'Module'\u001b[0m\u001b[0;34m]\u001b[0m\u001b[0;34m)\u001b[0m \u001b[0;34m->\u001b[0m \u001b[0;32mNone\u001b[0m\u001b[0;34m:\u001b[0m\u001b[0;34m\u001b[0m\u001b[0;34m\u001b[0m\u001b[0m\n",
      "\u001b[0;31mModuleAttributeError\u001b[0m: 'CrossAttUnit' object has no attribute 'q'"
     ]
    }
   ],
   "source": [
    "torch.matmul(crossatt.q.T, yhat.T)"
   ]
  },
  {
   "cell_type": "code",
   "execution_count": 28,
   "metadata": {
    "scrolled": true
   },
   "outputs": [
    {
     "data": {
      "text/plain": [
       "tensor([[7.5011e-08, 7.9772e-08, 1.5465e-08, 3.5441e-07, 4.1466e-08, 2.2099e-08,\n",
       "         1.1040e-07, 1.8207e-08, 3.6541e-07, 2.3368e-02, 3.5253e-08, 4.2903e-08,\n",
       "         2.5030e-07, 5.0769e-08, 1.3761e-08, 1.7240e-08, 1.3761e-08, 5.0769e-08,\n",
       "         5.0769e-08, 2.5030e-07, 5.0769e-08, 1.7722e-08, 3.5571e-08, 5.3592e-08,\n",
       "         4.0806e-08, 8.4630e-08, 5.7722e-08, 3.0616e-08, 3.2583e-08],\n",
       "        [4.9374e-03, 2.7740e-03, 9.2084e-03, 2.7063e-04, 8.8116e-03, 2.2099e-08,\n",
       "         1.6497e-05, 1.8207e-08, 3.6541e-07, 2.3548e-08, 1.2345e-07, 4.2903e-08,\n",
       "         2.5030e-07, 8.0862e-06, 1.3761e-08, 1.7240e-08, 1.3761e-08, 8.0862e-06,\n",
       "         8.0862e-06, 2.5030e-07, 8.0862e-06, 1.7722e-08, 4.2832e-08, 5.3592e-08,\n",
       "         1.2156e-06, 7.4939e-03, 1.7839e-07, 3.8132e-05, 3.2583e-08],\n",
       "        [7.5011e-08, 7.9772e-08, 1.5465e-08, 3.5441e-07, 4.1466e-08, 2.3329e-08,\n",
       "         6.6188e-08, 1.8542e-08, 8.6141e-05, 2.3368e-08, 3.5253e-08, 4.4858e-08,\n",
       "         2.5030e-07, 5.0769e-08, 1.3895e-08, 1.7240e-08, 1.3895e-08, 5.0769e-08,\n",
       "         5.0769e-08, 2.5030e-07, 5.0769e-08, 8.6293e-03, 3.4653e-08, 1.0854e-06,\n",
       "         4.0806e-08, 8.4630e-08, 5.7722e-08, 3.0616e-08, 1.6709e-02],\n",
       "        [7.5011e-08, 7.9772e-08, 1.5465e-08, 3.5441e-07, 4.1466e-08, 1.8625e-07,\n",
       "         6.6188e-08, 4.7413e-08, 3.3602e-06, 2.3368e-08, 3.5253e-08, 2.1640e-07,\n",
       "         2.5079e-07, 5.0769e-08, 6.8803e-03, 1.7240e-08, 6.8803e-03, 5.0769e-08,\n",
       "         5.0769e-08, 2.5079e-07, 5.0769e-08, 1.8416e-08, 3.4653e-08, 1.7416e-07,\n",
       "         4.0806e-08, 8.4630e-08, 5.7722e-08, 3.0616e-08, 3.3811e-08],\n",
       "        [1.2593e-06, 4.9402e-07, 1.4032e-05, 3.3229e-02, 1.4681e-05, 1.9343e-04,\n",
       "         1.2446e-03, 1.4560e-04, 1.9899e-04, 6.5760e-08, 3.5473e-08, 3.1556e-04,\n",
       "         3.2203e-02, 2.2389e-07, 9.7749e-06, 1.7240e-08, 9.7749e-06, 2.2389e-07,\n",
       "         2.2389e-07, 3.2203e-02, 2.2389e-07, 1.9210e-06, 2.9262e-07, 1.7431e-04,\n",
       "         5.7161e-07, 1.6064e-04, 3.4481e-02, 3.8291e-08, 4.3466e-06],\n",
       "        [1.1038e-05, 1.3778e-04, 1.5465e-08, 3.5466e-07, 4.1588e-08, 2.2099e-08,\n",
       "         6.6188e-08, 1.8207e-08, 3.6541e-07, 2.3368e-08, 3.3673e-05, 4.2903e-08,\n",
       "         2.5030e-07, 5.0772e-08, 1.3761e-08, 1.7240e-08, 1.3761e-08, 5.0772e-08,\n",
       "         5.0772e-08, 2.5030e-07, 5.0772e-08, 1.7722e-08, 3.4653e-08, 5.3592e-08,\n",
       "         4.0806e-08, 8.5859e-08, 5.7722e-08, 3.0529e-02, 3.2583e-08],\n",
       "        [7.5011e-08, 7.9772e-08, 1.5465e-08, 3.5441e-07, 4.1466e-08, 2.2099e-08,\n",
       "         6.6188e-08, 1.8207e-08, 3.7023e-07, 2.3368e-08, 3.5253e-08, 4.2903e-08,\n",
       "         2.5030e-07, 5.0769e-08, 1.3761e-08, 1.7240e-08, 1.3761e-08, 5.0769e-08,\n",
       "         5.0769e-08, 2.5030e-07, 5.0769e-08, 1.3537e-02, 3.4653e-08, 5.3593e-08,\n",
       "         4.0806e-08, 8.4630e-08, 5.7722e-08, 3.0616e-08, 7.6954e-03],\n",
       "        [1.4823e-02, 2.3394e-03, 4.5107e-03, 3.5508e-07, 1.4166e-02, 2.2099e-08,\n",
       "         6.6188e-08, 1.8207e-08, 3.6541e-07, 2.3368e-08, 3.5253e-08, 4.2903e-08,\n",
       "         2.5030e-07, 5.0769e-08, 1.3761e-08, 1.7240e-08, 1.3761e-08, 5.0769e-08,\n",
       "         5.0769e-08, 2.5030e-07, 5.0769e-08, 1.7722e-08, 3.4653e-08, 5.3592e-08,\n",
       "         4.0806e-08, 1.1826e-02, 5.7722e-08, 1.0797e-06, 3.2583e-08],\n",
       "        [7.5011e-08, 7.9772e-08, 1.5465e-08, 3.5441e-07, 4.1466e-08, 5.9000e-03,\n",
       "         6.6188e-08, 9.8809e-03, 3.3472e-04, 2.3368e-08, 3.5253e-08, 4.7135e-03,\n",
       "         2.5030e-07, 5.0769e-08, 1.4723e-08, 1.7240e-08, 1.4723e-08, 5.0769e-08,\n",
       "         5.0769e-08, 2.5030e-07, 5.0769e-08, 1.7723e-08, 3.4653e-08, 4.2624e-03,\n",
       "         4.0806e-08, 8.4630e-08, 5.7722e-08, 3.0616e-08, 3.2583e-08],\n",
       "        [7.5011e-08, 7.9772e-08, 1.5465e-08, 3.5441e-07, 4.1466e-08, 2.2099e-08,\n",
       "         6.6188e-08, 1.8207e-08, 3.6541e-07, 2.3368e-08, 3.5253e-08, 4.2903e-08,\n",
       "         2.5030e-07, 5.0769e-08, 1.3761e-08, 1.7240e-02, 1.3761e-08, 5.0769e-08,\n",
       "         5.0769e-08, 2.5030e-07, 5.0769e-08, 1.7722e-08, 3.4653e-08, 5.3592e-08,\n",
       "         4.0806e-08, 8.4630e-08, 5.7722e-08, 3.0616e-08, 3.2583e-08],\n",
       "        [8.0315e-08, 4.3584e-07, 1.5465e-08, 3.5441e-07, 4.1466e-08, 2.2099e-08,\n",
       "         6.6188e-08, 1.8207e-08, 3.6541e-07, 2.3375e-08, 3.4306e-02, 4.2903e-08,\n",
       "         2.5030e-07, 4.3822e-07, 1.3761e-08, 2.4590e-08, 1.3761e-08, 4.3822e-07,\n",
       "         4.3822e-07, 2.5030e-07, 4.3822e-07, 1.7722e-08, 3.4763e-08, 5.3592e-08,\n",
       "         4.0806e-08, 8.4630e-08, 5.7722e-08, 8.2183e-04, 3.2583e-08],\n",
       "        [7.5011e-08, 7.9772e-08, 1.5465e-08, 3.5441e-07, 4.1466e-08, 1.1335e-02,\n",
       "         6.6188e-08, 4.7575e-03, 6.4479e-06, 2.3368e-08, 3.5253e-08, 8.5857e-03,\n",
       "         1.8000e-03, 5.0769e-08, 3.5202e-05, 1.7240e-08, 3.5202e-05, 5.0769e-08,\n",
       "         5.0769e-08, 1.8000e-03, 5.0769e-08, 1.7723e-08, 3.4653e-08, 3.2879e-04,\n",
       "         4.0806e-08, 8.4630e-08, 5.7722e-08, 3.0616e-08, 3.2583e-08],\n",
       "        [7.5011e-08, 7.9772e-08, 1.5465e-08, 3.5441e-07, 4.1466e-08, 2.2099e-08,\n",
       "         6.6188e-08, 1.8207e-08, 3.6541e-07, 2.3368e-08, 3.5253e-08, 4.2903e-08,\n",
       "         2.6500e-07, 5.0769e-08, 6.8804e-03, 1.7240e-08, 6.8804e-03, 5.0769e-08,\n",
       "         5.0769e-08, 2.6500e-07, 5.0769e-08, 1.7722e-08, 3.4653e-08, 5.3592e-08,\n",
       "         4.0806e-08, 8.4630e-08, 7.4872e-08, 3.0616e-08, 3.2583e-08],\n",
       "        [2.0496e-04, 2.1038e-03, 2.3126e-05, 3.5441e-07, 2.5084e-06, 2.2099e-08,\n",
       "         1.9689e-03, 1.8207e-08, 3.6541e-07, 7.7289e-04, 7.9848e-06, 4.2903e-08,\n",
       "         2.5030e-07, 7.5876e-03, 1.3761e-08, 2.5241e-08, 1.3761e-08, 7.5876e-03,\n",
       "         7.5876e-03, 2.5030e-07, 7.5876e-03, 1.7722e-08, 5.1634e-03, 5.3592e-08,\n",
       "         5.8270e-03, 1.1836e-07, 5.7722e-08, 5.1103e-04, 3.2583e-08],\n",
       "        [7.5011e-08, 7.9772e-08, 1.5465e-08, 3.5441e-07, 4.1466e-08, 2.2099e-08,\n",
       "         6.6188e-08, 1.8207e-08, 3.6541e-07, 2.3368e-08, 3.5253e-08, 4.2903e-08,\n",
       "         2.5030e-07, 5.0769e-08, 6.8804e-03, 1.7240e-08, 6.8804e-03, 5.0769e-08,\n",
       "         5.0769e-08, 2.5030e-07, 5.0769e-08, 1.7722e-08, 3.4653e-08, 5.3592e-08,\n",
       "         4.0806e-08, 8.4630e-08, 5.7722e-08, 3.0616e-08, 3.2583e-08],\n",
       "        [1.8357e-06, 2.0176e-05, 3.9143e-07, 3.5441e-07, 7.9113e-08, 2.2099e-08,\n",
       "         5.9768e-03, 1.8207e-08, 3.6541e-07, 7.4791e-03, 1.2603e-06, 4.2903e-08,\n",
       "         2.5030e-07, 8.6798e-04, 1.3761e-08, 1.1287e-07, 1.3761e-08, 8.6798e-04,\n",
       "         8.6798e-04, 2.5030e-07, 8.6798e-04, 1.7722e-08, 1.2091e-02, 5.3592e-08,\n",
       "         7.0036e-03, 8.5374e-08, 5.7722e-08, 1.1707e-05, 3.2583e-08],\n",
       "        [7.5011e-08, 7.9772e-08, 1.5465e-08, 3.5441e-07, 4.1466e-08, 2.2099e-08,\n",
       "         6.6188e-08, 1.8207e-08, 3.6541e-07, 2.3368e-08, 3.5253e-08, 4.2903e-08,\n",
       "         2.5030e-07, 5.0769e-08, 6.8804e-03, 1.7240e-08, 6.8804e-03, 5.0769e-08,\n",
       "         5.0769e-08, 2.5030e-07, 5.0769e-08, 1.7722e-08, 3.4653e-08, 5.3592e-08,\n",
       "         4.0806e-08, 8.4630e-08, 5.7722e-08, 3.0616e-08, 3.2583e-08],\n",
       "        [2.0496e-04, 2.1038e-03, 2.3126e-05, 3.5441e-07, 2.5084e-06, 2.2099e-08,\n",
       "         1.9689e-03, 1.8207e-08, 3.6541e-07, 7.7289e-04, 7.9848e-06, 4.2903e-08,\n",
       "         2.5030e-07, 7.5876e-03, 1.3761e-08, 2.5241e-08, 1.3761e-08, 7.5876e-03,\n",
       "         7.5876e-03, 2.5030e-07, 7.5876e-03, 1.7722e-08, 5.1634e-03, 5.3592e-08,\n",
       "         5.8270e-03, 1.1836e-07, 5.7722e-08, 5.1103e-04, 3.2583e-08],\n",
       "        [2.0496e-04, 2.1038e-03, 2.3126e-05, 3.5441e-07, 2.5084e-06, 2.2099e-08,\n",
       "         1.9689e-03, 1.8207e-08, 3.6541e-07, 7.7289e-04, 7.9848e-06, 4.2903e-08,\n",
       "         2.5030e-07, 7.5876e-03, 1.3761e-08, 2.5241e-08, 1.3761e-08, 7.5876e-03,\n",
       "         7.5876e-03, 2.5030e-07, 7.5876e-03, 1.7722e-08, 5.1634e-03, 5.3592e-08,\n",
       "         5.8270e-03, 1.1836e-07, 5.7722e-08, 5.1103e-04, 3.2583e-08],\n",
       "        [7.5011e-08, 7.9772e-08, 1.5465e-08, 3.5441e-07, 4.1466e-08, 2.2099e-08,\n",
       "         6.6188e-08, 1.8207e-08, 3.6541e-07, 2.3368e-08, 3.5253e-08, 4.2903e-08,\n",
       "         2.6500e-07, 5.0769e-08, 6.8804e-03, 1.7240e-08, 6.8804e-03, 5.0769e-08,\n",
       "         5.0769e-08, 2.6500e-07, 5.0769e-08, 1.7722e-08, 3.4653e-08, 5.3592e-08,\n",
       "         4.0806e-08, 8.4630e-08, 7.4872e-08, 3.0616e-08, 3.2583e-08],\n",
       "        [2.0496e-04, 2.1038e-03, 2.3126e-05, 3.5441e-07, 2.5084e-06, 2.2099e-08,\n",
       "         1.9689e-03, 1.8207e-08, 3.6541e-07, 7.7289e-04, 7.9848e-06, 4.2903e-08,\n",
       "         2.5030e-07, 7.5876e-03, 1.3761e-08, 2.5241e-08, 1.3761e-08, 7.5876e-03,\n",
       "         7.5876e-03, 2.5030e-07, 7.5876e-03, 1.7722e-08, 5.1634e-03, 5.3592e-08,\n",
       "         5.8270e-03, 1.1836e-07, 5.7722e-08, 5.1103e-04, 3.2583e-08],\n",
       "        [7.5011e-08, 7.9772e-08, 1.5465e-08, 3.5441e-07, 4.1466e-08, 2.6322e-03,\n",
       "         6.6188e-08, 9.0053e-03, 7.6209e-03, 2.3368e-08, 3.5253e-08, 3.5913e-03,\n",
       "         2.5031e-07, 5.0769e-08, 1.3815e-08, 1.7240e-08, 1.3815e-08, 5.0769e-08,\n",
       "         5.0769e-08, 2.5031e-07, 5.0769e-08, 2.2570e-08, 3.4653e-08, 1.5098e-02,\n",
       "         4.0806e-08, 8.4630e-08, 5.7722e-08, 3.0616e-08, 3.8209e-08],\n",
       "        [7.5011e-08, 7.9772e-08, 1.5465e-08, 3.5441e-07, 4.1466e-08, 2.2099e-08,\n",
       "         6.6188e-08, 1.8207e-08, 3.6541e-07, 2.3368e-08, 3.5253e-08, 4.2903e-08,\n",
       "         2.5030e-07, 5.0769e-08, 1.3761e-08, 1.7240e-02, 1.3761e-08, 5.0769e-08,\n",
       "         5.0769e-08, 2.5030e-07, 5.0769e-08, 1.7722e-08, 3.4653e-08, 5.3592e-08,\n",
       "         4.0806e-08, 8.4630e-08, 5.7722e-08, 3.0616e-08, 3.2583e-08],\n",
       "        [8.8707e-03, 1.5443e-02, 9.6073e-03, 3.5705e-07, 2.1010e-03, 2.2099e-08,\n",
       "         2.6363e-07, 1.8207e-08, 3.6541e-07, 2.3370e-08, 5.7353e-08, 4.2903e-08,\n",
       "         2.5030e-07, 2.6871e-05, 1.3761e-08, 1.7240e-08, 1.3761e-08, 2.6871e-05,\n",
       "         2.6871e-05, 2.5030e-07, 2.6871e-05, 1.7722e-08, 3.6045e-08, 5.3592e-08,\n",
       "         1.5334e-07, 4.7441e-04, 5.7722e-08, 2.6120e-04, 3.2583e-08],\n",
       "        [7.5011e-08, 7.9772e-08, 1.5465e-08, 3.5441e-07, 4.1466e-08, 2.2099e-08,\n",
       "         6.6188e-08, 1.8207e-08, 4.9384e-07, 2.3368e-08, 3.5253e-08, 4.2903e-08,\n",
       "         2.5030e-07, 5.0769e-08, 1.3761e-08, 1.7240e-08, 1.3761e-08, 5.0769e-08,\n",
       "         5.0769e-08, 2.5030e-07, 5.0769e-08, 1.2279e-02, 3.4653e-08, 5.3681e-08,\n",
       "         4.0806e-08, 8.4630e-08, 5.7722e-08, 3.0616e-08, 1.0008e-02],\n",
       "        [1.9337e-03, 7.5624e-04, 9.4456e-03, 9.1889e-04, 7.9367e-03, 2.2099e-08,\n",
       "         2.0269e-06, 1.8207e-08, 3.6541e-07, 2.3369e-08, 3.6986e-08, 4.2903e-08,\n",
       "         2.5030e-07, 7.0860e-07, 1.3761e-08, 1.7240e-08, 1.3761e-08, 7.0860e-07,\n",
       "         7.0860e-07, 2.5030e-07, 7.0860e-07, 1.7722e-08, 3.4810e-08, 5.3592e-08,\n",
       "         7.3800e-08, 1.3520e-02, 3.7211e-07, 4.1130e-06, 3.2583e-08],\n",
       "        [7.5011e-08, 7.9772e-08, 1.5465e-08, 3.5441e-07, 4.1466e-08, 4.9621e-03,\n",
       "         6.6188e-08, 5.1305e-03, 2.6057e-02, 2.3368e-08, 3.5253e-08, 7.7059e-03,\n",
       "         1.9781e-04, 5.0769e-08, 3.1649e-05, 1.7240e-08, 3.1649e-05, 5.0769e-08,\n",
       "         5.0769e-08, 1.9781e-04, 5.0769e-08, 3.5347e-05, 3.4653e-08, 1.2465e-02,\n",
       "         4.0806e-08, 8.4630e-08, 5.7722e-08, 3.0616e-08, 6.4849e-05],\n",
       "        [3.0831e-03, 4.5944e-03, 1.6036e-03, 5.4906e-05, 1.4421e-03, 2.2099e-08,\n",
       "         1.9366e-02, 1.8207e-08, 3.6541e-07, 5.4358e-04, 1.0951e-04, 4.2903e-08,\n",
       "         2.5030e-07, 3.2273e-03, 1.3761e-08, 2.1642e-06, 1.3761e-08, 3.2273e-03,\n",
       "         3.2273e-03, 2.5030e-07, 3.2273e-03, 1.7722e-08, 1.7374e-03, 5.3592e-08,\n",
       "         4.1682e-03, 1.0056e-03, 1.2660e-07, 7.7081e-04, 3.2583e-08],\n",
       "        [7.5011e-08, 7.9772e-08, 1.5465e-08, 3.5441e-07, 4.1466e-08, 9.4593e-03,\n",
       "         6.6188e-08, 5.5624e-03, 1.6704e-04, 2.3368e-08, 3.5253e-08, 9.5697e-03,\n",
       "         2.7611e-04, 5.0769e-08, 3.8379e-06, 1.7240e-08, 3.8379e-06, 5.0769e-08,\n",
       "         5.0769e-08, 2.7611e-04, 5.0769e-08, 1.7993e-08, 3.4653e-08, 2.1527e-03,\n",
       "         4.0806e-08, 8.4630e-08, 5.7722e-08, 3.0616e-08, 3.3195e-08]],\n",
       "       grad_fn=<DivBackward0>)"
      ]
     },
     "execution_count": 28,
     "metadata": {},
     "output_type": "execute_result"
    }
   ],
   "source": [
    "cross_mats[0]"
   ]
  },
  {
   "cell_type": "code",
   "execution_count": 29,
   "metadata": {},
   "outputs": [
    {
     "data": {
      "image/png": "[encoded data removed]",
      "text/plain": [
       "<Figure size 432x288 with 2 Axes>"
      ]
     },
     "metadata": {
      "needs_background": "light"
     },
     "output_type": "display_data"
    }
   ],
   "source": [
    "hmap(cross_mats[0])"
   ]
  },
  {
   "cell_type": "code",
   "execution_count": 30,
   "metadata": {},
   "outputs": [
    {
     "data": {
      "image/png": "[encoded data removed]",
      "text/plain": [
       "<Figure size 432x288 with 2 Axes>"
      ]
     },
     "metadata": {
      "needs_background": "light"
     },
     "output_type": "display_data"
    }
   ],
   "source": [
    "hmap(M)\n",
    "plt.show()"
   ]
  },
  {
   "cell_type": "code",
   "execution_count": 31,
   "metadata": {},
   "outputs": [
    {
     "ename": "ModuleAttributeError",
     "evalue": "'CrossAttUnit' object has no attribute 'k'",
     "output_type": "error",
     "traceback": [
      "\u001b[0;31m---------------------------------------------------------------------------\u001b[0m",
      "\u001b[0;31mModuleAttributeError\u001b[0m                      Traceback (most recent call last)",
      "\u001b[0;32m<ipython-input-31-c427b501a315>\u001b[0m in \u001b[0;36m<module>\u001b[0;34m\u001b[0m\n\u001b[0;32m----> 1\u001b[0;31m \u001b[0mhmap\u001b[0m\u001b[0;34m(\u001b[0m\u001b[0mtorch\u001b[0m\u001b[0;34m.\u001b[0m\u001b[0mmatmul\u001b[0m\u001b[0;34m(\u001b[0m\u001b[0my\u001b[0m\u001b[0;34m,\u001b[0m \u001b[0mcrossatt\u001b[0m\u001b[0;34m.\u001b[0m\u001b[0mk\u001b[0m\u001b[0;34m)\u001b[0m\u001b[0;34m)\u001b[0m\u001b[0;34m\u001b[0m\u001b[0;34m\u001b[0m\u001b[0m\n\u001b[0m",
      "\u001b[0;32m~/anaconda3/envs/mol_ot/lib/python3.6/site-packages/torch/nn/modules/module.py\u001b[0m in \u001b[0;36m__getattr__\u001b[0;34m(self, name)\u001b[0m\n\u001b[1;32m    770\u001b[0m                 \u001b[0;32mreturn\u001b[0m \u001b[0mmodules\u001b[0m\u001b[0;34m[\u001b[0m\u001b[0mname\u001b[0m\u001b[0;34m]\u001b[0m\u001b[0;34m\u001b[0m\u001b[0;34m\u001b[0m\u001b[0m\n\u001b[1;32m    771\u001b[0m         raise ModuleAttributeError(\"'{}' object has no attribute '{}'\".format(\n\u001b[0;32m--> 772\u001b[0;31m             type(self).__name__, name))\n\u001b[0m\u001b[1;32m    773\u001b[0m \u001b[0;34m\u001b[0m\u001b[0m\n\u001b[1;32m    774\u001b[0m     \u001b[0;32mdef\u001b[0m \u001b[0m__setattr__\u001b[0m\u001b[0;34m(\u001b[0m\u001b[0mself\u001b[0m\u001b[0;34m,\u001b[0m \u001b[0mname\u001b[0m\u001b[0;34m:\u001b[0m \u001b[0mstr\u001b[0m\u001b[0;34m,\u001b[0m \u001b[0mvalue\u001b[0m\u001b[0;34m:\u001b[0m \u001b[0mUnion\u001b[0m\u001b[0;34m[\u001b[0m\u001b[0mTensor\u001b[0m\u001b[0;34m,\u001b[0m \u001b[0;34m'Module'\u001b[0m\u001b[0;34m]\u001b[0m\u001b[0;34m)\u001b[0m \u001b[0;34m->\u001b[0m \u001b[0;32mNone\u001b[0m\u001b[0;34m:\u001b[0m\u001b[0;34m\u001b[0m\u001b[0;34m\u001b[0m\u001b[0m\n",
      "\u001b[0;31mModuleAttributeError\u001b[0m: 'CrossAttUnit' object has no attribute 'k'"
     ]
    }
   ],
   "source": [
    "hmap(torch.matmul(y, crossatt.k))"
   ]
  },
  {
   "cell_type": "code",
   "execution_count": 32,
   "metadata": {},
   "outputs": [
    {
     "ename": "ModuleAttributeError",
     "evalue": "'CrossAttUnit' object has no attribute 'q'",
     "output_type": "error",
     "traceback": [
      "\u001b[0;31m---------------------------------------------------------------------------\u001b[0m",
      "\u001b[0;31mModuleAttributeError\u001b[0m                      Traceback (most recent call last)",
      "\u001b[0;32m<ipython-input-32-7abbcf1c18e7>\u001b[0m in \u001b[0;36m<module>\u001b[0;34m\u001b[0m\n\u001b[0;32m----> 1\u001b[0;31m \u001b[0mhmap\u001b[0m\u001b[0;34m(\u001b[0m\u001b[0mtorch\u001b[0m\u001b[0;34m.\u001b[0m\u001b[0mmatmul\u001b[0m\u001b[0;34m(\u001b[0m\u001b[0mcrossatt\u001b[0m\u001b[0;34m.\u001b[0m\u001b[0mq\u001b[0m\u001b[0;34m.\u001b[0m\u001b[0mT\u001b[0m\u001b[0;34m,\u001b[0m \u001b[0myhat\u001b[0m\u001b[0;34m.\u001b[0m\u001b[0mT\u001b[0m\u001b[0;34m)\u001b[0m\u001b[0;34m)\u001b[0m\u001b[0;34m\u001b[0m\u001b[0;34m\u001b[0m\u001b[0m\n\u001b[0m",
      "\u001b[0;32m~/anaconda3/envs/mol_ot/lib/python3.6/site-packages/torch/nn/modules/module.py\u001b[0m in \u001b[0;36m__getattr__\u001b[0;34m(self, name)\u001b[0m\n\u001b[1;32m    770\u001b[0m                 \u001b[0;32mreturn\u001b[0m \u001b[0mmodules\u001b[0m\u001b[0;34m[\u001b[0m\u001b[0mname\u001b[0m\u001b[0;34m]\u001b[0m\u001b[0;34m\u001b[0m\u001b[0;34m\u001b[0m\u001b[0m\n\u001b[1;32m    771\u001b[0m         raise ModuleAttributeError(\"'{}' object has no attribute '{}'\".format(\n\u001b[0;32m--> 772\u001b[0;31m             type(self).__name__, name))\n\u001b[0m\u001b[1;32m    773\u001b[0m \u001b[0;34m\u001b[0m\u001b[0m\n\u001b[1;32m    774\u001b[0m     \u001b[0;32mdef\u001b[0m \u001b[0m__setattr__\u001b[0m\u001b[0;34m(\u001b[0m\u001b[0mself\u001b[0m\u001b[0;34m,\u001b[0m \u001b[0mname\u001b[0m\u001b[0;34m:\u001b[0m \u001b[0mstr\u001b[0m\u001b[0;34m,\u001b[0m \u001b[0mvalue\u001b[0m\u001b[0;34m:\u001b[0m \u001b[0mUnion\u001b[0m\u001b[0;34m[\u001b[0m\u001b[0mTensor\u001b[0m\u001b[0;34m,\u001b[0m \u001b[0;34m'Module'\u001b[0m\u001b[0;34m]\u001b[0m\u001b[0;34m)\u001b[0m \u001b[0;34m->\u001b[0m \u001b[0;32mNone\u001b[0m\u001b[0;34m:\u001b[0m\u001b[0;34m\u001b[0m\u001b[0;34m\u001b[0m\u001b[0m\n",
      "\u001b[0;31mModuleAttributeError\u001b[0m: 'CrossAttUnit' object has no attribute 'q'"
     ]
    }
   ],
   "source": [
    "hmap(torch.matmul(crossatt.q.T, yhat.T))"
   ]
  },
  {
   "cell_type": "code",
   "execution_count": 34,
   "metadata": {},
   "outputs": [
    {
     "name": "stderr",
     "output_type": "stream",
     "text": [
      "/home/octav/anaconda3/envs/mol_ot/lib/python3.6/site-packages/numpy/core/_asarray.py:136: ComplexWarning: Casting complex values to real discards the imaginary part\n",
      "  return array(a, dtype, copy=False, order=order, subok=True)\n"
     ]
    },
    {
     "data": {
      "image/png": "[encoded data removed]",
      "text/plain": [
       "<Figure size 432x288 with 1 Axes>"
      ]
     },
     "metadata": {
      "needs_background": "light"
     },
     "output_type": "display_data"
    }
   ],
   "source": [
    "# proj = project_2d(torch.matmul(y, crossatt.k))\n",
    "\n",
    "# K * Y (GCN embedding)\n",
    "proj = project_2d(crossatt.k1(F.leaky_relu(crossatt.k0(y))))\n",
    "# proj = project_2d(torch.matmul(y, crossatt.k))\n",
    "plt.scatter(proj[0], proj[1])\n",
    "plt.title(\"2D Principal Component - $k\\cdot y$ projection \\n{}\".format(model_name))\n",
    "plt.savefig(os.path.join(image_dir, model_name + \"_ky\"))\n",
    "plt.show()"
   ]
  },
  {
   "cell_type": "code",
   "execution_count": 35,
   "metadata": {},
   "outputs": [
    {
     "data": {
      "image/png": "[encoded data removed]",
      "text/plain": [
       "<Figure size 432x288 with 1 Axes>"
      ]
     },
     "metadata": {
      "needs_background": "light"
     },
     "output_type": "display_data"
    }
   ],
   "source": [
    "# Y (GCN embedding)\n",
    "proj = project_2d(y)\n",
    "plt.scatter(proj[0], proj[1])\n",
    "plt.title(\"2D Principal Component - $y$ projection \\n{}\".format(model_name))\n",
    "plt.savefig(os.path.join(image_dir, model_name + \"_y\"))\n",
    "plt.show()"
   ]
  },
  {
   "cell_type": "code",
   "execution_count": 40,
   "metadata": {},
   "outputs": [
    {
     "data": {
      "image/png": "[encoded data removed]",
      "text/plain": [
       "<Figure size 432x288 with 1 Axes>"
      ]
     },
     "metadata": {
      "needs_background": "light"
     },
     "output_type": "display_data"
    }
   ],
   "source": [
    "# Q * Yhat (barycenter embedding)\n",
    "proj = project_2d(crossatt.q1(F.leaky_relu(crossatt.q0(yhat))))\n",
    "# proj = project_2d(torch.matmul(crossatt.q.T, yhat.T).T)\n",
    "plt.title(\"2D Principal Component - $q\\cdot yhat$ projection \\n{}\".format(model_name))\n",
    "plt.scatter(proj[0], proj[1])\n",
    "plt.savefig(os.path.join(image_dir, model_name + \"_qyhat\"))\n",
    "plt.show()"
   ]
  },
  {
   "cell_type": "code",
   "execution_count": 37,
   "metadata": {},
   "outputs": [
    {
     "data": {
      "image/png": "[encoded data removed]",
      "text/plain": [
       "<Figure size 432x288 with 1 Axes>"
      ]
     },
     "metadata": {
      "needs_background": "light"
     },
     "output_type": "display_data"
    }
   ],
   "source": [
    "# Yhat (barycenter embedding)\n",
    "proj = project_2d(yhat)\n",
    "plt.scatter(proj[0], proj[1])\n",
    "plt.title(\"2D Principal Component - $yhat$ projection \\n{}\".format(model_name))\n",
    "plt.savefig(os.path.join(image_dir, model_name + \"_yhat\"))\n",
    "plt.show()"
   ]
  },
  {
   "cell_type": "code",
   "execution_count": 224,
   "metadata": {},
   "outputs": [
    {
     "ename": "TypeError",
     "evalue": "__call__() got an unexpected keyword argument 'debug'",
     "output_type": "error",
     "traceback": [
      "\u001b[0;31m---------------------------------------------------------------------------\u001b[0m",
      "\u001b[0;31mTypeError\u001b[0m                                 Traceback (most recent call last)",
      "\u001b[0;32m<ipython-input-224-14a92d879848>\u001b[0m in \u001b[0;36m<module>\u001b[0;34m\u001b[0m\n\u001b[1;32m      1\u001b[0m \u001b[0;31m# check out errors from the penalty terms\u001b[0m\u001b[0;34m\u001b[0m\u001b[0;34m\u001b[0m\u001b[0;34m\u001b[0m\u001b[0m\n\u001b[0;32m----> 2\u001b[0;31m \u001b[0mM_fgw\u001b[0m\u001b[0;34m,\u001b[0m \u001b[0mpred_bonds_nll\u001b[0m\u001b[0;34m,\u001b[0m \u001b[0mtarget_bonds_rescaled\u001b[0m \u001b[0;34m=\u001b[0m \u001b[0mfgw_loss\u001b[0m\u001b[0;34m(\u001b[0m\u001b[0;34m*\u001b[0m\u001b[0mpred_pack\u001b[0m\u001b[0;34m,\u001b[0m \u001b[0mtau\u001b[0m \u001b[0;34m=\u001b[0m \u001b[0;36m1\u001b[0m\u001b[0;34m,\u001b[0m \u001b[0mot_plans\u001b[0m \u001b[0;34m=\u001b[0m \u001b[0mcross_mats\u001b[0m\u001b[0;34m,\u001b[0m \u001b[0mdebug\u001b[0m \u001b[0;34m=\u001b[0m \u001b[0;32mTrue\u001b[0m\u001b[0;34m)\u001b[0m\u001b[0;34m\u001b[0m\u001b[0;34m\u001b[0m\u001b[0m\n\u001b[0m",
      "\u001b[0;31mTypeError\u001b[0m: __call__() got an unexpected keyword argument 'debug'"
     ]
    }
   ],
   "source": [
    "# check out errors from the penalty terms\n",
    "M_fgw, pred_bonds_nll, target_bonds_rescaled = fgw_loss(*pred_pack, tau = 1, ot_plans = cross_mats, debug = True)"
   ]
  },
  {
   "cell_type": "code",
   "execution_count": null,
   "metadata": {},
   "outputs": [],
   "source": [
    "hmap(M_fgw)"
   ]
  },
  {
   "cell_type": "code",
   "execution_count": null,
   "metadata": {},
   "outputs": [],
   "source": [
    "hmap(W * M_fgw)"
   ]
  },
  {
   "cell_type": "code",
   "execution_count": null,
   "metadata": {},
   "outputs": [],
   "source": [
    "pred_bonds_nll.shape"
   ]
  },
  {
   "cell_type": "code",
   "execution_count": null,
   "metadata": {},
   "outputs": [],
   "source": [
    "target_bonds_rescaled.shape"
   ]
  },
  {
   "cell_type": "code",
   "execution_count": null,
   "metadata": {},
   "outputs": [],
   "source": [
    "y.shape"
   ]
  },
  {
   "cell_type": "code",
   "execution_count": null,
   "metadata": {},
   "outputs": [],
   "source": [
    "crossatt.k.shape"
   ]
  },
  {
   "cell_type": "code",
   "execution_count": null,
   "metadata": {},
   "outputs": [],
   "source": [
    "proj = project_2d(torch.matmul(crossatt.q.T, yhat.T))\n",
    "plt.scatter(proj[0], proj[1])\n",
    "plt.show()"
   ]
  },
  {
   "cell_type": "code",
   "execution_count": null,
   "metadata": {},
   "outputs": [],
   "source": [
    "hmap(crossatt.q)"
   ]
  },
  {
   "cell_type": "code",
   "execution_count": null,
   "metadata": {},
   "outputs": [],
   "source": [
    "hmap(crossatt.k)"
   ]
  },
  {
   "cell_type": "code",
   "execution_count": null,
   "metadata": {},
   "outputs": [],
   "source": [
    "hmap(y)"
   ]
  },
  {
   "cell_type": "code",
   "execution_count": null,
   "metadata": {},
   "outputs": [],
   "source": [
    "hmap(yhat)"
   ]
  },
  {
   "cell_type": "code",
   "execution_count": null,
   "metadata": {},
   "outputs": [],
   "source": [
    "cross_mats[0].sum(axis = 0)"
   ]
  },
  {
   "cell_type": "code",
   "execution_count": null,
   "metadata": {},
   "outputs": [],
   "source": [
    "cross_mats[0].sum(axis = 1)"
   ]
  },
  {
   "cell_type": "code",
   "execution_count": null,
   "metadata": {},
   "outputs": [],
   "source": [
    "G_fgw = grad(fgw_loss_item, x_embedding, retain_graph = True)\n",
    "G_euler = grad(pen_loss[2], bonds_logits, retain_graph = True)\n",
    "G_k = grad(fgw_loss_item, crossatt.k, retain_graph = True, allow_unused = True)\n",
    "G_q = grad(fgw_loss_item, crossatt.q, retain_graph = True, allow_unused = True)\n",
    "\n",
    "print(G_euler[0].abs().mean().item())\n",
    "print(G_fgw[0].abs().mean().item())\n",
    "print()\n",
    "print(np.mean((torch.sum(G_euler[0], dim = 1) == 0).cpu().detach().numpy()))\n",
    "print(np.mean((torch.sum(G_fgw[0], dim = 1) == 0).cpu().detach().numpy()))\n",
    "print()\n",
    "print(symbols_logits.abs().mean().item())\n",
    "print(bonds_logits.abs().mean().item())"
   ]
  },
  {
   "cell_type": "code",
   "execution_count": null,
   "metadata": {},
   "outputs": [],
   "source": [
    "hmap(grad(cross_mats[idx][0,0], yhat, retain_graph = True)[0])"
   ]
  },
  {
   "cell_type": "code",
   "execution_count": null,
   "metadata": {},
   "outputs": [],
   "source": [
    "grad(cross_mats[idx][0,2], yhat, retain_graph = True)[0]"
   ]
  },
  {
   "cell_type": "code",
   "execution_count": null,
   "metadata": {},
   "outputs": [],
   "source": [
    "grad(crossatt.q[0,0], yhat, retain_graph = True, allow_unused = True)"
   ]
  },
  {
   "cell_type": "code",
   "execution_count": null,
   "metadata": {},
   "outputs": [],
   "source": [
    "crossatt.q"
   ]
  },
  {
   "cell_type": "code",
   "execution_count": null,
   "metadata": {},
   "outputs": [],
   "source": [
    "crossatt.q"
   ]
  },
  {
   "cell_type": "markdown",
   "metadata": {},
   "source": [
    "# get 2d projections of embedding"
   ]
  },
  {
   "cell_type": "code",
   "execution_count": null,
   "metadata": {},
   "outputs": [],
   "source": [
    "x_embedding.shape"
   ]
  },
  {
   "cell_type": "code",
   "execution_count": null,
   "metadata": {},
   "outputs": [],
   "source": [
    "print (\"Model name:\", model_name)\n",
    "print (\"Type={}, random={}, epoch={}, index={}\".format(model_type, config.cross_att_random, model_iter, idx))\n",
    "plt.scatter(proj[0], proj[1])\n",
    "plt.show()"
   ]
  },
  {
   "cell_type": "code",
   "execution_count": null,
   "metadata": {},
   "outputs": [],
   "source": [
    "yhat_np = yhat.cpu().detach().numpy()\n",
    "yhat_mean = np.mean(yhat_np.T, axis = 1)\n",
    "yhat_nomean = yhat_np - yhat_mean\n",
    "cov = np.cov(yhat_nomean.T)\n",
    "values, vectors = np.linalg.eig(cov)\n",
    "proj = vectors[:,:2].T.dot(yhat_nomean.T)"
   ]
  },
  {
   "cell_type": "code",
   "execution_count": null,
   "metadata": {},
   "outputs": [],
   "source": [
    "np.linalg.eig(yhat_np)"
   ]
  },
  {
   "cell_type": "code",
   "execution_count": null,
   "metadata": {},
   "outputs": [],
   "source": [
    "yhat_np.shape"
   ]
  },
  {
   "cell_type": "code",
   "execution_count": null,
   "metadata": {},
   "outputs": [],
   "source": [
    "bonds_logits_softmaxed = nn.Softmax(dim = 1)(bonds_logits)"
   ]
  },
  {
   "cell_type": "code",
   "execution_count": null,
   "metadata": {
    "scrolled": true
   },
   "outputs": [],
   "source": [
    "grad(bonds_logits_softmaxed[:,4].sum(), bonds_logits, retain_graph = True)[0].sum()"
   ]
  },
  {
   "cell_type": "code",
   "execution_count": null,
   "metadata": {},
   "outputs": [],
   "source": [
    "bonds_logits_softmaxed"
   ]
  },
  {
   "cell_type": "code",
   "execution_count": null,
   "metadata": {},
   "outputs": [],
   "source": [
    "x_embedding.shape"
   ]
  },
  {
   "cell_type": "code",
   "execution_count": null,
   "metadata": {
    "scrolled": true
   },
   "outputs": [],
   "source": [
    "bond_idx = 0\n",
    "smiles = []\n",
    "\n",
    "yhat = []\n",
    "yact = []\n",
    "for mol_idx, (st, le) in enumerate(Y.scope):\n",
    "    symbols = symbols_labels[st:st+le]\n",
    "    charges = charges_labels[st:st+le]\n",
    "    bonds = bonds_labels[bond_idx:bond_idx+le*le].view(le, le)\n",
    "    bond_idx += le * le\n",
    "    smiles.append(feat2smiles(SYMBOLS, FORMAL_CHARGES, BOND_TYPES, symbols, charges, bonds, False))\n",
    "    yhat.append(le)\n",
    "    yact.append((bonds != 4).sum().item()/2.)\n",
    "    print (mol_idx, yact[-1], le)\n",
    "    print (smiles[-1])\n",
    "    \n",
    "yhat = np.array(yhat)\n",
    "yact = np.array(yact)\n"
   ]
  },
  {
   "cell_type": "code",
   "execution_count": null,
   "metadata": {},
   "outputs": [],
   "source": [
    "plt.hist(yact - yhat)"
   ]
  },
  {
   "cell_type": "code",
   "execution_count": null,
   "metadata": {},
   "outputs": [],
   "source": [
    "Chem.MolFromSmiles(smiles[1], sanitize = False)"
   ]
  },
  {
   "cell_type": "code",
   "execution_count": null,
   "metadata": {},
   "outputs": [],
   "source": [
    "np.arange(0,1000,100)"
   ]
  },
  {
   "cell_type": "code",
   "execution_count": null,
   "metadata": {
    "scrolled": true
   },
   "outputs": [],
   "source": [
    "mol_idx = 0 \n",
    "torch.argmax(target[mol_idx]['SYMBOLS'], dim=1)"
   ]
  },
  {
   "cell_type": "code",
   "execution_count": null,
   "metadata": {},
   "outputs": [],
   "source": [
    "(x_embedding.mean(axis = 0) / x_embedding.std(axis = 0)).abs().max()"
   ]
  },
  {
   "cell_type": "code",
   "execution_count": null,
   "metadata": {
    "scrolled": true
   },
   "outputs": [],
   "source": [
    "target_smiles = [Chem.MolToSmiles(y) for y in Y.rd_mols]\n",
    "initial_smiles = [Chem.MolToSmiles(y) for y in X.rd_mols]\n",
    "\n",
    "# uncomment for tensorboard\n",
    "tb_writer = SummaryWriter(logdir = args.tb_logs_dir)\n",
    "mol_drawer = MolDrawer(tb_writer, SYMBOLS, BOND_TYPES, FORMAL_CHARGES)\n",
    "mol_drawer.visualize_batch(pred_pack[0], target_smiles, model_iter, initial_smiles, text=\"{}-{}-{}-manual2-\".format(args.init_model, model_iter, datatype))"
   ]
  },
  {
   "cell_type": "code",
   "execution_count": null,
   "metadata": {},
   "outputs": [],
   "source": [
    "feat2smiles(SYMBOLS, FORMAL_CHARGES, BOND_TYPES, symbols, charges, bonds, False)"
   ]
  },
  {
   "cell_type": "code",
   "execution_count": null,
   "metadata": {},
   "outputs": [],
   "source": [
    "tau = pen.tau\n",
    "# tau = 0.001\n",
    "# symbols_nll, charges_nll, bonds_nll = F.gumbel_softmax(tau = tau, dim=1, logits = symbols_logits), F.gumbel_softmax(tau=tau,dim=1,logits=charges_logits), F.gumbel_softmax(tau=tau,dim=1, logits = bonds_logits)\n",
    "# symbols_nll, charges_nll, bonds_nll = -nn.LogSoftmax(dim=1)(symbols_logits/tau),\\\n",
    "#              -nn.LogSoftmax(dim=1)(charges_logits/tau), -nn.LogSoftmax(dim=1)(bonds_logits/tau)\n",
    "\n",
    "def softmax(logits, tau):\n",
    "#     logitsn = F.normalize(logits, dim = 1)\n",
    "#     return -nn.LogSoftmax(dim=1)(logitsn/tau)\n",
    "    return F.gumbel_softmax(tau = tau, dim=1, logits = logits)\n",
    "\n",
    "symbols_nll = softmax(symbols_logits, tau)\n",
    "charges_nll = softmax(charges_logits, tau)\n",
    "bonds_nll = softmax(bonds_logits, tau)"
   ]
  },
  {
   "cell_type": "code",
   "execution_count": null,
   "metadata": {},
   "outputs": [],
   "source": [
    "pen.tau"
   ]
  },
  {
   "cell_type": "code",
   "execution_count": null,
   "metadata": {},
   "outputs": [],
   "source": [
    "plt.hist(symbols_logits.norm(dim = 1).cpu().detach().numpy())"
   ]
  },
  {
   "cell_type": "code",
   "execution_count": null,
   "metadata": {},
   "outputs": [],
   "source": [
    "max_logits = torch.max(F.softmax(dim=1, input = bonds_logits), dim = 1).values.detach().cpu().numpy()\n",
    "plt.hist(max_logits, bins = 100)"
   ]
  },
  {
   "cell_type": "code",
   "execution_count": null,
   "metadata": {},
   "outputs": [],
   "source": [
    "symbols_logits.shape"
   ]
  },
  {
   "cell_type": "code",
   "execution_count": null,
   "metadata": {},
   "outputs": [],
   "source": [
    "means = symbols_logits.mean(axis = 0).cpu().detach().numpy()\n",
    "stds = symbols_logits.std(axis = 0).cpu().detach().numpy()\n",
    "plt.bar(range(len(SYMBOLS)), means, yerr = stds)"
   ]
  },
  {
   "cell_type": "code",
   "execution_count": null,
   "metadata": {},
   "outputs": [],
   "source": [
    "means = bonds_logits.mean(axis = 0).cpu().detach().numpy()\n",
    "stds = bonds_logits.std(axis = 0).cpu().detach().numpy()\n",
    "plt.bar(range(len(BOND_TYPES)), means, yerr = stds)"
   ]
  },
  {
   "cell_type": "code",
   "execution_count": null,
   "metadata": {
    "scrolled": true
   },
   "outputs": [],
   "source": [
    "torch.argmax(F.gumbel_softmax(tau = 1, dim=1, logits = symbols_logits), axis = 1)\n",
    "# torch.argmax(F.softmax(symbols_logits, dim = 1), axis = 1)"
   ]
  },
  {
   "cell_type": "code",
   "execution_count": null,
   "metadata": {},
   "outputs": [],
   "source": [
    "bonds_logits.sum(axis = 1)"
   ]
  },
  {
   "cell_type": "code",
   "execution_count": null,
   "metadata": {},
   "outputs": [],
   "source": [
    "F.gumbel_softmax(tau = 0.1, dim=1, logits = symbols_logits)"
   ]
  },
  {
   "cell_type": "code",
   "execution_count": null,
   "metadata": {},
   "outputs": [],
   "source": [
    "bonds_nll"
   ]
  },
  {
   "cell_type": "code",
   "execution_count": null,
   "metadata": {},
   "outputs": [],
   "source": [
    "torch.argmax(bonds_nll, dim = 1).unique(return_counts = True)"
   ]
  },
  {
   "cell_type": "code",
   "execution_count": null,
   "metadata": {},
   "outputs": [],
   "source": [
    "bonds_nll"
   ]
  },
  {
   "cell_type": "code",
   "execution_count": null,
   "metadata": {},
   "outputs": [],
   "source": [
    "bond_idx = 0\n",
    "for st, le in Y.scope:\n",
    "    bonds_nll_curr = bonds_nll[bond_idx:bond_idx + le**2,:].view(le, le, -1)\n",
    "    print ((1 - bonds_nll_curr[:,:,4]).sum()/2)\n",
    "    bond_idx += le**2"
   ]
  },
  {
   "cell_type": "code",
   "execution_count": null,
   "metadata": {},
   "outputs": [],
   "source": [
    "1 - bonds_nll_curr[:,:,4]"
   ]
  },
  {
   "cell_type": "code",
   "execution_count": null,
   "metadata": {},
   "outputs": [],
   "source": [
    "symbols_logits.shape"
   ]
  },
  {
   "cell_type": "code",
   "execution_count": null,
   "metadata": {
    "scrolled": true
   },
   "outputs": [],
   "source": [
    "symbols_labels"
   ]
  },
  {
   "cell_type": "markdown",
   "metadata": {},
   "source": [
    "# inspect module parameters"
   ]
  },
  {
   "cell_type": "code",
   "execution_count": null,
   "metadata": {},
   "outputs": [],
   "source": [
    "molopt_decoder.fc1_SYMBOLS"
   ]
  },
  {
   "cell_type": "code",
   "execution_count": null,
   "metadata": {},
   "outputs": [],
   "source": [
    "molopt_decoder.fc2_SYMBOLS(F.leaky_relu(molopt_decoder.fc1_SYMBOLS(x_embedding)))"
   ]
  },
  {
   "cell_type": "code",
   "execution_count": null,
   "metadata": {},
   "outputs": [],
   "source": [
    "x_embedding"
   ]
  },
  {
   "cell_type": "markdown",
   "metadata": {},
   "source": [
    "# debug connectivity"
   ]
  },
  {
   "cell_type": "code",
   "execution_count": null,
   "metadata": {},
   "outputs": [],
   "source": [
    "def get_pen(model_iter):\n",
    "    model_name = \"model_{}_{}\".format(model, model_iter)\n",
    "    model_decode_name = \"model_{}_decode_{}\".format(model, model_iter)\n",
    "    molopt, config = load_model(args.output_dir + model_name, MolOpt, args.device)\n",
    "    molopt_decoder, config_decoder = load_model(args.output_dir + model_decode_name, MolOptDecoder, args.device)\n",
    "    x_embedding = molopt.forward(X)\n",
    "    yhat_logits = molopt_decoder.forward(x_embedding, X, Y)\n",
    "    yhat_labels = molopt_decoder.discretize_argmax(*yhat_logits)\n",
    "    # yhat_labels = molopt_decoder.discretize(*yhat_logits)\n",
    "    pred_pack = (yhat_labels, yhat_logits, Y.scope), Y \n",
    "\n",
    "    return (pen(*pred_pack, model_iter)[1].item())"
   ]
  },
  {
   "cell_type": "code",
   "execution_count": null,
   "metadata": {
    "scrolled": true
   },
   "outputs": [],
   "source": [
    "for i in range(0, 2000):\n",
    "    print (i, get_pen(1600))"
   ]
  },
  {
   "cell_type": "code",
   "execution_count": null,
   "metadata": {},
   "outputs": [],
   "source": [
    "# adjM = pen_loss\n",
    "# N = adjM.shape[0]\n",
    "# device = adjM.device\n",
    "# # We need the laplacian otherwise\n",
    "# L = torch.diag(torch.matmul(adjM, torch.ones(N, device=device))) - adjM # Laplacian\n",
    "# L_mod = L + torch.ones_like(L, device=device) / N\n",
    "# eigenvals = torch.symeig(L_mod + 1e-06 * torch.eye(N, device=device), eigenvectors=True)[0]\n",
    "# -torch.sum(torch.log(eigenvals.clamp(max = 1e-01))) + len(eigenvals) * np.log(1e-01)"
   ]
  },
  {
   "cell_type": "code",
   "execution_count": null,
   "metadata": {},
   "outputs": [],
   "source": [
    "F.gumbel_softmax(symbols_logits, dim=1, tau=0.5)"
   ]
  },
  {
   "cell_type": "code",
   "execution_count": null,
   "metadata": {},
   "outputs": [],
   "source": []
  }
 ],
 "metadata": {
  "kernelspec": {
   "display_name": "Python 3",
   "language": "python",
   "name": "python3"
  },
  "language_info": {
   "codemirror_mode": {
    "name": "ipython",
    "version": 3
   },
   "file_extension": ".py",
   "mimetype": "text/x-python",
   "name": "python",
   "nbconvert_exporter": "python",
   "pygments_lexer": "ipython3",
   "version": "3.6.8"
  }
 },
 "nbformat": 4,
 "nbformat_minor": 4
}
