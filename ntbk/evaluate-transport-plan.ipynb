{
 "cells": [
  {
   "cell_type": "code",
   "execution_count": 1,
   "metadata": {},
   "outputs": [
    {
     "name": "stdout",
     "output_type": "stream",
     "text": [
      "/home/octav/gitrepos/tum-thesis\n"
     ]
    }
   ],
   "source": [
    "import os\n",
    "if \"ntbk\" in os.getcwd():\n",
    "    os.chdir(\"..\")\n",
    "print(os.getcwd())\n",
    "\n",
    "import sys\n",
    "sys.path.append(os.path.join(os.getcwd(), \"otgnn\"))\n",
    "sys.path.append(os.path.join(os.getcwd(), \"molgen\"))\n",
    "sys.path.append(os.path.join(os.getcwd(), \"iclr19-graph2graph/props\"))\n",
    "\n",
    "\n",
    "%load_ext autoreload\n",
    "%autoreload 2\n",
    "\n",
    "from otgnn.models import GCN\n",
    "# from molgen.dataloading.MolGraphBatchPreprocessor import MolGraph\n",
    "from otgnn.graph import MolGraph\n",
    "from otgnn.utils import save_model, load_model\n",
    "from otgnn.graph import SYMBOLS, FORMAL_CHARGES, BOND_TYPES\n",
    "\n",
    "\n",
    "from mol_opt.data_mol_opt import MolOptDataset\n",
    "from mol_opt.data_mol_opt import get_loader\n",
    "from mol_opt.arguments import get_args\n",
    "from mol_opt.train_mol_opt import main, load_checkpoint, initialize_models\n",
    "from mol_opt.mol_opt import MolOpt\n",
    "from mol_opt.decoder_mol_opt import MolOptDecoder\n",
    "from mol_opt.ot_utils import encode_target\n",
    "from mol_opt.ot_utils import FGW \n",
    "from mol_opt.ot_utils import compute_barycenter\n",
    "\n",
    "from molgen.dataloading.feat2smiles import feat2smiles\n",
    "from molgen.dataloading.mol_drawer import MolDrawer\n",
    "from molgen.metrics.Penalty import Penalty\n",
    "from molgen.metrics.mol_metrics import MolMetrics\n",
    "from molgen.Discretizer.sinkhorn import sinkhorn_knopp\n",
    "\n",
    "from rdkit.Chem import MolFromSmiles\n",
    "from tensorboardX import SummaryWriter\n",
    "\n",
    "import torch\n",
    "import torch.nn.functional as F\n",
    "import torch.nn as nn\n",
    "from torch.autograd import grad\n",
    "import numpy as np\n",
    "import time\n",
    "from rdkit import Chem\n",
    "from rdkit.Chem.Draw import IPythonConsole\n",
    "from molgen.metrics.Penalty import Penalty as PenaltyNew\n",
    "import seaborn as sns\n",
    "\n",
    "import matplotlib.pyplot as plt\n",
    "%matplotlib inline\n",
    "plt.style.use('dark_background')"
   ]
  },
  {
   "cell_type": "code",
   "execution_count": 2,
   "metadata": {},
   "outputs": [],
   "source": [
    "model_type = \"deepsets\"\n",
    "sys.argv = [\"\", \"-model_type\", model_type, \"-one_batch_train\"]\n",
    "args = get_args()\n",
    "args.n_epochs = 100 \n",
    "args.init_model = \"{}-attention-random-gcn2-sink1-test13\".format(model_type)\n",
    "args.output_dir = \"/home/octav/gitrepos/tum-thesis/mol_opt/output_dev4/{}/\".format(args.init_model)\n",
    "# args.output_dir = \"/run/media/octav/data-volume/tum-thesis/output_dev4_saves/{}/\".format(args.init_model)\n",
    "args.tb_logs_dir = \"/home/octav/gitrepos/tum-thesis/mol_opt/logs_dev4/{}\".format(args.init_model)\n",
    "args.batch_size = 50 "
   ]
  },
  {
   "cell_type": "code",
   "execution_count": 42,
   "metadata": {
    "scrolled": false
   },
   "outputs": [
    {
     "name": "stdout",
     "output_type": "stream",
     "text": [
      "/home/octav/gitrepos/tum-thesis/mol_opt/output_dev4/deepsets-attention-random-gcn2-sink1-test13/model_deepsets-attention-random-gcn2-sink1-test13_1500\n",
      "MolOpt(\n",
      "  (GCN): GCN(\n",
      "    (W_message_i): Linear(in_features=100, out_features=200, bias=False)\n",
      "    (W_message_h): Linear(in_features=200, out_features=200, bias=False)\n",
      "    (W_message_o): Linear(in_features=293, out_features=150, bias=True)\n",
      "    (W_mol_h): Linear(in_features=150, out_features=100, bias=True)\n",
      "    (W_mol_o): Linear(in_features=100, out_features=1, bias=True)\n",
      "    (dropout_gcn): Dropout(p=0.0, inplace=False)\n",
      "    (dropout_ffn): Dropout(p=0.0, inplace=False)\n",
      "  )\n",
      "  (GCN2): GCN(\n",
      "    (W_message_i): Linear(in_features=100, out_features=200, bias=False)\n",
      "    (W_message_h): Linear(in_features=200, out_features=200, bias=False)\n",
      "    (W_message_o): Linear(in_features=293, out_features=150, bias=True)\n",
      "    (W_mol_h): Linear(in_features=150, out_features=100, bias=True)\n",
      "    (W_mol_o): Linear(in_features=100, out_features=1, bias=True)\n",
      "    (dropout_gcn): Dropout(p=0.0, inplace=False)\n",
      "    (dropout_ffn): Dropout(p=0.0, inplace=False)\n",
      "  )\n",
      "  (opt0): Linear(in_features=300, out_features=200, bias=True)\n",
      "  (opt1): Linear(in_features=200, out_features=150, bias=True)\n",
      ")\n",
      "MolOptDecoder(\n",
      "  (fc1_SYMBOLS): Linear(in_features=150, out_features=150, bias=True)\n",
      "  (fc2_SYMBOLS): Linear(in_features=150, out_features=64, bias=True)\n",
      "  (fc1_CHARGES): Linear(in_features=150, out_features=150, bias=True)\n",
      "  (fc2_CHARGES): Linear(in_features=150, out_features=5, bias=True)\n",
      "  (fc1_BONDS): Linear(in_features=300, out_features=300, bias=True)\n",
      "  (fc2_BONDS): Linear(in_features=300, out_features=5, bias=True)\n",
      ")\n",
      "deepsets\n",
      "Penalty params: tau=0.47305 conn_l=0.00100 val_l=0.00100 euler_l=0.00100 epoch=1500 mode=[0 0 0] conn=True val=True euler=True\n"
     ]
    }
   ],
   "source": [
    "model = args.init_model\n",
    "model_iter = 1500\n",
    "\n",
    "model_name = \"model_{}_{}\".format(model, model_iter)\n",
    "print(args.output_dir + model_name)\n",
    "\n",
    "molopt, molopt_decoder, _, pen, recpen, crossatt, _, config, _ = load_checkpoint(args.output_dir + model_name ,init_fc = initialize_models, device = args.device)\n",
    "\n",
    "metrics = MolMetrics(SYMBOLS, FORMAL_CHARGES, BOND_TYPES, False, device = args.device)\n",
    "fgw_loss = FGW(alpha = 0.5)\n",
    "# pen = PenaltyNew(config, model_iter)\n",
    "\n",
    "molopt_module_list = torch.nn.ModuleList([molopt, molopt_decoder])\n",
    "\n",
    "# molopt = MolOpt(args)\n",
    "# molopt_decoder = MolOptDecoder(args)\n",
    "print (molopt)\n",
    "print (molopt_decoder)\n",
    "print(molopt.args.model_type)\n",
    "pen.log()"
   ]
  },
  {
   "cell_type": "code",
   "execution_count": 43,
   "metadata": {},
   "outputs": [],
   "source": [
    "# train_data_loader = get_loader(\"iclr19-graph2graph/data/qed\", \"train_pairs\", args.batch_size, True)\n",
    "datatype = \"train\"\n",
    "train_data_loader = get_loader(\"molgen/data/chembl50\", datatype, 50, same_number_atoms = True)\n",
    "\n",
    "for i in train_data_loader:\n",
    "#     X = (MolGraph(i[0]))\n",
    "#     Y = (MolGraph(i[1]))\n",
    "    X = MolGraph(i)\n",
    "    Y = X\n",
    "    break"
   ]
  },
  {
   "cell_type": "code",
   "execution_count": 44,
   "metadata": {
    "scrolled": true
   },
   "outputs": [
    {
     "name": "stdout",
     "output_type": "stream",
     "text": [
      "0.2783677291870117\n",
      "(tensor(5589.7002, grad_fn=<DivBackward0>), tensor(869.0449, grad_fn=<DivBackward0>), tensor(859.4025, grad_fn=<DivBackward0>)) -0.8556410217285156\n"
     ]
    },
    {
     "data": {
      "text/plain": [
       "({'batch_molecular_validity': 0.0,\n",
       "  'batch_correctness': 0.0,\n",
       "  'batch_symbol_accuracy': 97.30434782608695,\n",
       "  'batch_molecular_disconnected_validity': 72.0,\n",
       "  'batch_connected_components': 18.52,\n",
       "  'batch_invalid_valency_nodes': 75.65217391304348,\n",
       "  'batch_nodes_0degree': 850,\n",
       "  'batch_nodes_7plus_degree': 3,\n",
       "  'invalid_euler_toofew': 96.0,\n",
       "  'invalid_euler_toomany': 0.0},\n",
       " {'avg_euler_error': (-18.139999999999997, 50, 108.24039999999997),\n",
       "  'batch_node_degree': (0.5269565217391305, 1150, 1.2370994328922498)})"
      ]
     },
     "execution_count": 44,
     "metadata": {},
     "output_type": "execute_result"
    }
   ],
   "source": [
    "x_encoding, x_embedding = molopt.forward(X)\n",
    "yhat_logits = molopt_decoder.forward(x_embedding, X, Y)\n",
    "yhat_labels = molopt_decoder.discretize_argmax(*yhat_logits)\n",
    "# yhat_labels = molopt_decoder.discretize_gumbel(*yhat_logits, tau = pen.tau)\n",
    "pred_pack = (yhat_labels, yhat_logits, Y.scope), Y \n",
    "\n",
    "target = Y.get_graph_outputs()\n",
    "symbols_labels, charges_labels, bonds_labels = yhat_labels\n",
    "symbols_logits, charges_logits, bonds_logits = yhat_logits\n",
    "\n",
    "pen.mirror = \"\"\n",
    "\n",
    "if config.cross_att_use:\n",
    "    y_encoding = molopt.GCN2(Y)[0]\n",
    "    cross_mats, ot_loss = crossatt.forward(x_embedding, y_encoding, X, model_type)\n",
    "    fgw_loss_item = fgw_loss(*pred_pack, tau = 1, ot_plans = cross_mats, atoms = args.fgw_atoms, bonds = args.fgw_bonds)\n",
    "else:\n",
    "    fgw_loss_item = fgw_loss(*pred_pack, tau = 1)\n",
    "\n",
    "pen.tau = 0.05\n",
    "print (fgw_loss_item.item()/args.batch_size)\n",
    "pen_loss = pen(*pred_pack, model_iter)\n",
    "print (pen_loss, ot_loss.item()/args.batch_size)\n",
    "metrics.measure_batch(pred_pack[0], target)"
   ]
  },
  {
   "cell_type": "code",
   "execution_count": 45,
   "metadata": {
    "scrolled": true
   },
   "outputs": [
    {
     "name": "stdout",
     "output_type": "stream",
     "text": [
      "Parameter containing:\n",
      "tensor([[-0.0327,  0.0192, -0.0106,  ..., -0.0349, -0.0690, -0.0953],\n",
      "        [-0.0737, -0.0053,  0.0287,  ..., -0.0317, -0.0889, -0.0358],\n",
      "        [-0.0811, -0.1425,  0.0185,  ..., -0.0245, -0.2251,  0.0743],\n",
      "        ...,\n",
      "        [-0.1091, -0.0810, -0.1143,  ..., -0.0202,  0.0381, -0.0436],\n",
      "        [-0.0834,  0.0432,  0.0419,  ..., -0.0485,  0.0528, -0.0244],\n",
      "        [-0.0777, -0.1314, -0.1364,  ..., -0.0914,  0.1432, -0.1928]],\n",
      "       requires_grad=True)\n",
      "Parameter containing:\n",
      "tensor([[ 2.7776e-02,  1.8422e-02, -9.7220e-03,  ..., -4.0347e-02,\n",
      "          2.5684e-02, -2.4032e-02],\n",
      "        [ 4.3333e-02, -4.7625e-02,  9.6365e-03,  ...,  3.6630e-02,\n",
      "         -4.8227e-02, -8.7885e-02],\n",
      "        [ 1.1693e-02,  1.2603e-02, -5.3725e-01,  ...,  4.0139e-02,\n",
      "          4.0240e-02,  8.2426e-03],\n",
      "        ...,\n",
      "        [-3.8937e-04, -3.3491e-02,  4.6645e-02,  ..., -7.5834e-02,\n",
      "          4.2388e-02, -3.6956e-02],\n",
      "        [ 9.0902e-03, -1.2827e-02, -5.6864e-02,  ..., -3.9439e-02,\n",
      "         -1.8879e-02,  3.6317e-02],\n",
      "        [-1.4583e-03,  1.5491e-02, -3.0329e-01,  ...,  2.3986e-02,\n",
      "         -7.4517e-02,  3.9551e-03]], requires_grad=True)\n",
      "Parameter containing:\n",
      "tensor([[-0.0476, -0.0286,  0.0314,  ...,  0.0802,  0.0304, -0.0047],\n",
      "        [ 0.0520, -0.0198, -0.0117,  ...,  0.0907,  0.0733,  0.0650],\n",
      "        [-0.0217,  0.0210,  0.0523,  ..., -0.0454,  0.0250, -0.0185],\n",
      "        ...,\n",
      "        [ 0.0634, -0.0973,  0.0416,  ...,  0.0449,  0.0602, -0.2900],\n",
      "        [ 0.0012, -0.0655, -0.1246,  ...,  0.0222, -0.0675,  0.0477],\n",
      "        [-0.0320, -0.0052, -0.0138,  ...,  0.0317,  0.0253,  0.0078]],\n",
      "       requires_grad=True)\n",
      "Parameter containing:\n",
      "tensor([ 0.0428,  0.0487,  0.0099,  0.0213,  0.0194,  0.0140,  0.0648, -0.0664,\n",
      "         0.0224,  0.0084, -0.0115,  0.0088, -0.0133, -0.0299,  0.0162,  0.0296,\n",
      "         0.0205, -0.0616,  0.0369,  0.0495,  0.0224, -0.0403, -0.0416, -0.0077,\n",
      "        -0.0578,  0.0582, -0.0012,  0.0094, -0.0484, -0.0195,  0.0007,  0.0580,\n",
      "         0.0066,  0.0387,  0.0374, -0.0212,  0.0251, -0.0230, -0.0327,  0.0064,\n",
      "        -0.0524, -0.0417, -0.0236, -0.0434,  0.0642,  0.0121,  0.0015,  0.0247,\n",
      "         0.0246, -0.0152, -0.0384,  0.0491, -0.0160,  0.0528,  0.0322,  0.0333,\n",
      "        -0.0114,  0.0293,  0.0426,  0.0270,  0.0489, -0.0839, -0.0161,  0.0161,\n",
      "         0.0119, -0.0645, -0.0361, -0.0360, -0.0122,  0.0883,  0.0036,  0.0239,\n",
      "        -0.0024, -0.0212,  0.0294, -0.0182, -0.0447,  0.0360,  0.0113, -0.0339,\n",
      "        -0.0504, -0.0422,  0.0073, -0.0662, -0.0166, -0.0256,  0.0372,  0.0354,\n",
      "        -0.0559, -0.0082, -0.0491, -0.0518, -0.0063,  0.0295,  0.0176, -0.0077,\n",
      "         0.0388, -0.0133,  0.0157,  0.0397, -0.0566,  0.0262,  0.0154, -0.0125,\n",
      "        -0.0275,  0.0050, -0.0129,  0.0461, -0.0788,  0.0057, -0.0118, -0.0196,\n",
      "        -0.0057,  0.0321,  0.0226, -0.0499, -0.0272, -0.0493, -0.0336, -0.0144,\n",
      "        -0.0375, -0.0489,  0.0311, -0.0128,  0.0607, -0.0038,  0.0458, -0.0509,\n",
      "        -0.0475,  0.0383,  0.0197, -0.0807,  0.0061, -0.0304, -0.0554, -0.0373,\n",
      "         0.0452, -0.0543, -0.0273,  0.0062,  0.0372,  0.0304,  0.0418, -0.0592,\n",
      "         0.0276, -0.0528,  0.0465, -0.0288, -0.0549,  0.0060],\n",
      "       requires_grad=True)\n",
      "Parameter containing:\n",
      "tensor([[ 0.0816,  0.0172, -0.0339,  ...,  0.0279,  0.0434, -0.0219],\n",
      "        [ 0.0196, -0.0149, -0.0478,  ...,  0.0508,  0.0639,  0.0102],\n",
      "        [ 0.0260, -0.0617,  0.0236,  ...,  0.0162,  0.0187,  0.0111],\n",
      "        ...,\n",
      "        [ 0.0350,  0.0209, -0.0342,  ..., -0.0314, -0.0120,  0.0142],\n",
      "        [-0.0686, -0.0346, -0.0088,  ...,  0.0500, -0.0383,  0.0272],\n",
      "        [-0.0376, -0.0455,  0.0757,  ...,  0.0069,  0.0074, -0.0733]],\n",
      "       requires_grad=True)\n",
      "Parameter containing:\n",
      "tensor([-0.0804, -0.0339,  0.0627,  0.0176,  0.0348,  0.0260, -0.0060, -0.0634,\n",
      "         0.0249, -0.0695, -0.0309, -0.0044,  0.0769,  0.0398, -0.0134,  0.0038,\n",
      "        -0.0555, -0.0335, -0.0540,  0.0667, -0.0454,  0.0174, -0.0752,  0.0655,\n",
      "         0.0480,  0.0787,  0.0080, -0.0620,  0.0181, -0.0501,  0.0620,  0.0126,\n",
      "         0.0396,  0.0730, -0.0205, -0.0120, -0.0680, -0.0025, -0.0416,  0.0473,\n",
      "        -0.0709,  0.0019, -0.0272,  0.0607, -0.0471, -0.0523,  0.0285,  0.0572,\n",
      "         0.0580,  0.0689,  0.0172, -0.0717, -0.0068, -0.0792, -0.0579,  0.0386,\n",
      "        -0.0282, -0.0579, -0.0180, -0.0280, -0.0068,  0.0139,  0.0177, -0.0416,\n",
      "         0.0262, -0.0529, -0.0126, -0.0459,  0.0752,  0.0193,  0.0273, -0.0504,\n",
      "         0.0215,  0.0546,  0.0604, -0.0167, -0.0179, -0.0623, -0.0429, -0.0376,\n",
      "        -0.0060, -0.0137,  0.0470, -0.0651, -0.0231, -0.0178,  0.0293, -0.0041,\n",
      "         0.0005, -0.0630, -0.0588, -0.0180, -0.0681, -0.0679,  0.0613,  0.0467,\n",
      "         0.0598, -0.0087,  0.0538,  0.0258], requires_grad=True)\n",
      "Parameter containing:\n",
      "tensor([[ 0.0137, -0.0859,  0.0240, -0.0402, -0.0008, -0.0849,  0.0190,  0.0996,\n",
      "         -0.0227, -0.0121,  0.0773,  0.0878,  0.0523,  0.0306, -0.0635,  0.0984,\n",
      "          0.0668,  0.0352, -0.0174,  0.0116, -0.0329,  0.0674,  0.0649, -0.0657,\n",
      "          0.0644,  0.0540, -0.0369, -0.0772,  0.0451,  0.0812,  0.0036, -0.0058,\n",
      "          0.0130,  0.0103,  0.0304, -0.0960, -0.0085,  0.0818,  0.0394, -0.0868,\n",
      "         -0.0599,  0.0990, -0.0835, -0.0135, -0.0365,  0.0988, -0.0410, -0.0193,\n",
      "          0.0742,  0.0968,  0.0749,  0.0447,  0.0797,  0.0375,  0.0686,  0.0598,\n",
      "         -0.0104,  0.0432, -0.0194,  0.0367, -0.0546,  0.0154,  0.0205,  0.0551,\n",
      "          0.0804,  0.0966, -0.0673,  0.0569, -0.0765, -0.0298, -0.0611, -0.0562,\n",
      "         -0.0951,  0.0801, -0.0601, -0.0948, -0.0215, -0.0753, -0.0050,  0.0486,\n",
      "         -0.0504,  0.0045,  0.0460,  0.0069,  0.0350,  0.0489,  0.0217, -0.0061,\n",
      "          0.0247, -0.0155,  0.0994,  0.0186,  0.0185,  0.0352,  0.0537, -0.0302,\n",
      "          0.0189, -0.0436,  0.0595, -0.0285]], requires_grad=True)\n",
      "Parameter containing:\n",
      "tensor([0.0223], requires_grad=True)\n"
     ]
    }
   ],
   "source": [
    "for i in molopt.GCN.parameters():\n",
    "    print (i)"
   ]
  },
  {
   "cell_type": "code",
   "execution_count": 46,
   "metadata": {},
   "outputs": [
    {
     "data": {
      "text/plain": [
       "tensor(13.9184, grad_fn=<AddBackward0>)"
      ]
     },
     "execution_count": 46,
     "metadata": {},
     "output_type": "execute_result"
    }
   ],
   "source": [
    "fgw_loss_item"
   ]
  },
  {
   "cell_type": "code",
   "execution_count": 47,
   "metadata": {},
   "outputs": [],
   "source": [
    "# adjM = pen_loss\n",
    "# N = adjM.shape[0]\n",
    "# device = adjM.device\n",
    "# cap_value = 1e-02\n",
    "# \n",
    "# L = torch.diag(torch.matmul(adjM, torch.ones(N, device=device))) - adjM # Laplacian\n",
    "# L_mod = L + torch.ones_like(L, device=device) / N\n",
    "# eigenvals = torch.symeig(L_mod, eigenvectors=True)[0] # IMPORTANT: need to compute eigenvectors for autograd\n",
    "# capped = torch.clamp(eigenvals, min=1e-6, max=1e-02)\n",
    "# print (eigenvals)\n",
    "# -torch.sum(torch.log(capped)) + len(eigenvals) * np.log(cap_value)"
   ]
  },
  {
   "cell_type": "code",
   "execution_count": 48,
   "metadata": {},
   "outputs": [
    {
     "name": "stdout",
     "output_type": "stream",
     "text": [
      "[111.79400390625, 17.3808984375, 17.188050537109376]\n",
      "(tensor([0, 1, 4]), tensor([  366,   120, 29022]))\n"
     ]
    }
   ],
   "source": [
    "print([x.item() / args.batch_size for x in pen_loss])\n",
    "print(bonds_labels.unique(return_counts = True))"
   ]
  },
  {
   "cell_type": "code",
   "execution_count": 49,
   "metadata": {},
   "outputs": [
    {
     "name": "stdout",
     "output_type": "stream",
     "text": [
      "tensor([ 1768,   716,     4,     0, 27020], dtype=torch.int32)\n"
     ]
    }
   ],
   "source": [
    "target_bond_counts = torch.zeros(len(BOND_TYPES))\n",
    "for i in range(len(target)):\n",
    "    target_bond_counts += target[i][\"BOND_TYPES\"].sum(axis = (0,1))\n",
    "print(target_bond_counts.int())"
   ]
  },
  {
   "cell_type": "code",
   "execution_count": 50,
   "metadata": {},
   "outputs": [],
   "source": [
    "y_embedding = y_encoding\n",
    "yhat_embedding = x_embedding\n",
    "\n",
    "def hmap(dfr):\n",
    "    sns.heatmap(dfr.cpu().detach().numpy(), cmap = sns.color_palette(\"rocket_r\", as_cmap=True))\n",
    "    plt.show()\n",
    "    \n",
    "def project_2d(dfr):\n",
    "    yhat_np = dfr.cpu().detach().numpy()\n",
    "    yhat_mean = np.mean(yhat_np.T, axis = 1)\n",
    "    yhat_nomean = yhat_np - yhat_mean\n",
    "    cov = np.cov(yhat_nomean.T)\n",
    "    values, vectors = np.linalg.eig(cov)\n",
    "    proj = vectors[:,:2].T.dot(yhat_nomean.T)\n",
    "    return proj"
   ]
  },
  {
   "cell_type": "code",
   "execution_count": 77,
   "metadata": {
    "scrolled": false
   },
   "outputs": [
    {
     "name": "stdout",
     "output_type": "stream",
     "text": [
      "Model name: model_deepsets-attention-random-gcn2-sink1-test13_1500\n",
      "Type=deepsets, random=True, epoch=1500, index=0\n",
      "random dim selected 0\n",
      "M\n"
     ]
    },
    {
     "data": {
      "image/png": "[encoded data removed]",
      "text/plain": [
       "<Figure size 432x288 with 2 Axes>"
      ]
     },
     "metadata": {},
     "output_type": "display_data"
    },
    {
     "name": "stdout",
     "output_type": "stream",
     "text": [
      "attn\n"
     ]
    },
    {
     "data": {
      "image/png": "[encoded data removed]",
      "text/plain": [
       "<Figure size 432x288 with 2 Axes>"
      ]
     },
     "metadata": {},
     "output_type": "display_data"
    },
    {
     "name": "stdout",
     "output_type": "stream",
     "text": [
      "W 0\n"
     ]
    },
    {
     "data": {
      "image/png": "[encoded data removed]",
      "text/plain": [
       "<Figure size 432x288 with 2 Axes>"
      ]
     },
     "metadata": {},
     "output_type": "display_data"
    },
    {
     "name": "stdout",
     "output_type": "stream",
     "text": [
      "tensor([0.0386, 0.0393, 0.0385, 0.0389, 0.0396, 0.0401, 0.0223, 0.0223, 0.0401,\n",
      "        0.0393, 0.0386, 0.0383, 0.0387, 0.0393, 0.0224, 0.0511, 0.0277, 0.0380,\n",
      "        0.0252, 0.0608, 0.0530, 0.0529, 0.0512, 0.0508, 0.0529],\n",
      "       grad_fn=<SumBackward1>)\n",
      "tensor([0.0400, 0.0400, 0.0400, 0.0400, 0.0400, 0.0400, 0.0400, 0.0400, 0.0400,\n",
      "        0.0400, 0.0400, 0.0400, 0.0400, 0.0400, 0.0400, 0.0400, 0.0400, 0.0400,\n",
      "        0.0400, 0.0400, 0.0400, 0.0400, 0.0400, 0.0400, 0.0400],\n",
      "       grad_fn=<SumBackward1>)\n",
      "\n",
      "Mgrad\n"
     ]
    },
    {
     "data": {
      "image/png": "[encoded data removed]",
      "text/plain": [
       "<Figure size 432x288 with 2 Axes>"
      ]
     },
     "metadata": {},
     "output_type": "display_data"
    },
    {
     "name": "stdout",
     "output_type": "stream",
     "text": [
      "attgrad\n"
     ]
    },
    {
     "data": {
      "image/png": "[encoded data removed]",
      "text/plain": [
       "<Figure size 432x288 with 2 Axes>"
      ]
     },
     "metadata": {},
     "output_type": "display_data"
    },
    {
     "name": "stdout",
     "output_type": "stream",
     "text": [
      "Wgrad\n"
     ]
    },
    {
     "data": {
      "image/png": "[encoded data removed]",
      "text/plain": [
       "<Figure size 432x288 with 2 Axes>"
      ]
     },
     "metadata": {},
     "output_type": "display_data"
    },
    {
     "name": "stdout",
     "output_type": "stream",
     "text": [
      "lossgrad\n"
     ]
    },
    {
     "data": {
      "image/png": "[encoded data removed]",
      "text/plain": [
       "<Figure size 432x288 with 2 Axes>"
      ]
     },
     "metadata": {},
     "output_type": "display_data"
    }
   ],
   "source": [
    "cross_mats = []\n",
    "loss = torch.tensor(0.)\n",
    "for idx, (stx, lex) in enumerate(X.scope):\n",
    "    y = y_embedding[stx:stx+lex]\n",
    "    # these things vary because of the different types of embedding for diff models\n",
    "    if model_type == \"deepsets\":\n",
    "        yhat = yhat_embedding[stx:stx+lex]\n",
    "    elif model_type == \"molemb\":\n",
    "        yhat = yhat_embedding[idx][:lex]\n",
    "    # print(y.shape, self.k.shape, self.q.shape, yhat.shape)\n",
    "#     M = 1/np.sqrt(crossatt.cross_att_dim) * torch.matmul(torch.matmul(y, crossatt.k), torch.matmul(crossatt.q.T, yhat.T))\n",
    "#     M = torch.matmul(crossatt.k1(F.leaky_relu(crossatt.k0(y))), crossatt.q1(F.leaky_relu(crossatt.q0(yhat))).T)\n",
    "    if config.cross_att_use_gcn2:\n",
    "        M = torch.matmul(y, crossatt.q1(F.leaky_relu(crossatt.q0(yhat))).T)\n",
    "    else:\n",
    "        M = torch.matmul(crossatt.k1(F.leaky_relu(crossatt.k0(y))), crossatt.q1(F.leaky_relu(crossatt.q0(yhat))).T)\n",
    "#     M = M.clamp(-5, 5)\n",
    "    if config.cross_att_sigmoid:\n",
    "        M = nn.Sigmoid()(M) * 5\n",
    "    \n",
    "    print (\"Model name:\", model_name)\n",
    "    print (\"Type={}, random={}, epoch={}, index={}\".format(model_type, config.cross_att_random, model_iter, idx))\n",
    "    if crossatt.args.cross_att_random:\n",
    "        dim = np.random.randint(2)\n",
    "        print (\"random dim selected\", dim)\n",
    "    else:\n",
    "        dim = 1\n",
    "        \n",
    "    print (\"M\")\n",
    "    hmap(M)\n",
    "\n",
    "\n",
    "    attn = torch.softmax(M, dim = dim)\n",
    "    loss_vec = attn.sum(axis = 1 - dim)\n",
    "    loss += torch.sum(-torch.log(loss_vec) * loss_vec)\n",
    "    print (\"attn\")\n",
    "    hmap(attn)\n",
    "    W = (attn + crossatt.eps)/(len(attn))\n",
    "    # if idx == 0:\n",
    "    #     print (W.sum(axis = 0))\n",
    "    #     print (W.sum(axis = 1))\n",
    "    #     print ()\n",
    "#     W2 = sinkhorn_knopp(W, -0.1, numItermax=1)\n",
    "#     print (\"new sinkhorn\")\n",
    "#     hmap(W2)\n",
    "#     if idx == 0:\n",
    "#         print (W2.sum(axis = 0))\n",
    "#         print (W2.sum(axis = 1))\n",
    "#         print ()\n",
    "    \n",
    "    W_in = W\n",
    "#     for idx2 in range(crossatt.args.cross_att_n_sinkhorn):\n",
    "    for idx2 in range(1):\n",
    "        dim = 1 - dim\n",
    "        W = (W.transpose(0,dim) / W.sum(axis = dim)).transpose(0,dim)\n",
    "        W = W/(len(W))\n",
    "#         if idx2 == crossatt.args.cross_att_n_sinkhorn-1:\n",
    "        if True:\n",
    "            print (\"W\",idx2)\n",
    "            hmap(W)\n",
    "            print (W.sum(axis = 0))\n",
    "            print (W.sum(axis = 1))\n",
    "            print ()\n",
    "#     print (\"W\",idx2+1)\n",
    "#     hmap(W)\n",
    "    \n",
    "    cross_mats.append(W)\n",
    "    \n",
    "    print (\"Mgrad\")\n",
    "    hmap(grad(M[1,1], yhat, retain_graph = True)[0])\n",
    "    \n",
    "    print (\"attgrad\")\n",
    "    hmap(grad(attn[0,0], M, retain_graph = True)[0])\n",
    "    \n",
    "    print (\"Wgrad\")\n",
    "    hmap(grad(W[1,1], yhat, retain_graph = True)[0])\n",
    "    \n",
    "#     print (\"W2grad\")\n",
    "#     hmap(grad(W2[1,1], W, retain_graph = True)[0])\n",
    "\n",
    "    print ('lossgrad')\n",
    "    hmap(grad(loss, y, retain_graph = True)[0])\n",
    "    \n",
    "    if idx == 0:\n",
    "        break"
   ]
  },
  {
   "cell_type": "code",
   "execution_count": 68,
   "metadata": {},
   "outputs": [
    {
     "name": "stdout",
     "output_type": "stream",
     "text": [
      "tensor(-1.4038, grad_fn=<AddBackward0>)\n"
     ]
    },
    {
     "data": {
      "text/plain": [
       "tensor([0.9306, 0.9689, 0.8756, 0.9190, 0.9696, 0.9435, 0.6243, 0.6243, 0.9224,\n",
       "        0.8924, 0.8767, 0.8492, 0.8982, 0.8959, 0.6195, 1.2839, 0.4478, 1.0558,\n",
       "        0.6843, 1.2097, 1.8711, 1.5310, 0.8122, 1.5931, 1.7012],\n",
       "       grad_fn=<SumBackward1>)"
      ]
     },
     "execution_count": 68,
     "metadata": {},
     "output_type": "execute_result"
    }
   ],
   "source": [
    "print (loss)\n",
    "loss_vec"
   ]
  },
  {
   "cell_type": "code",
   "execution_count": 22,
   "metadata": {},
   "outputs": [
    {
     "name": "stdout",
     "output_type": "stream",
     "text": [
      "tensor(3.1645, grad_fn=<SumBackward0>)\n",
      "tensor(3.1645, grad_fn=<SumBackward0>)\n"
     ]
    }
   ],
   "source": [
    "loss_vec = W.sum(axis = 1-dim)\n",
    "print (torch.sum(-torch.log(loss_vec) * loss_vec))\n",
    "print (torch.sum(-torch.log(loss_vec + crossatt.eps) * loss_vec))"
   ]
  },
  {
   "cell_type": "code",
   "execution_count": 23,
   "metadata": {
    "scrolled": true
   },
   "outputs": [
    {
     "data": {
      "text/plain": [
       "tensor([[9.3518e-01, 9.4091e-01, 9.6094e-01, 9.6125e-01, 9.6194e-01, 8.8034e-01,\n",
       "         9.8254e-06, 9.8254e-06, 9.1304e-01, 9.6286e-01, 9.4418e-01, 8.5498e-01,\n",
       "         8.8403e-01, 9.5650e-01, 1.4922e-07, 1.8520e-03, 5.4270e-10, 9.4506e-01,\n",
       "         2.2769e-09, 1.3366e-02, 3.1971e-03, 1.3487e-03, 3.7811e-03, 5.2772e-04,\n",
       "         2.4391e-02],\n",
       "        [1.3225e-02, 5.9299e-03, 1.7630e-03, 7.9161e-04, 1.6186e-03, 6.3917e-03,\n",
       "         2.2901e-06, 2.2901e-06, 6.2527e-03, 1.7977e-03, 9.0042e-04, 7.8193e-04,\n",
       "         9.8708e-04, 1.5213e-03, 6.7510e-08, 3.7669e-01, 3.5676e-09, 5.8538e-03,\n",
       "         1.3394e-09, 8.5706e-01, 5.7043e-01, 8.9712e-01, 9.7756e-01, 5.5591e-01,\n",
       "         5.3055e-01],\n",
       "        [9.2556e-01, 9.3277e-01, 9.5850e-01, 9.5943e-01, 9.6026e-01, 8.5998e-01,\n",
       "         1.8426e-05, 1.8426e-05, 8.9707e-01, 9.6207e-01, 9.4525e-01, 8.6112e-01,\n",
       "         8.9962e-01, 9.5621e-01, 1.6450e-07, 7.0282e-04, 2.5680e-10, 9.4347e-01,\n",
       "         9.1287e-10, 5.3085e-03, 5.9502e-03, 3.3867e-04, 1.7015e-03, 1.0404e-03,\n",
       "         3.6630e-02],\n",
       "        [2.4538e-04, 1.4429e-04, 2.2748e-04, 1.0804e-04, 1.9475e-04, 9.8383e-05,\n",
       "         9.9536e-06, 9.9536e-06, 1.0063e-04, 1.7173e-04, 2.3189e-04, 6.1454e-04,\n",
       "         5.4215e-04, 2.4752e-04, 1.8601e-07, 9.2306e-01, 3.3037e-08, 1.4534e-04,\n",
       "         1.5772e-09, 9.2742e-01, 1.3965e-02, 9.3608e-01, 5.6030e-01, 2.0801e-02,\n",
       "         1.3713e-02],\n",
       "        [9.8282e-01, 9.8281e-01, 8.5446e-01, 7.6235e-01, 8.5835e-01, 9.8717e-01,\n",
       "         2.7145e-08, 2.7145e-08, 9.8667e-01, 8.7715e-01, 5.5008e-01, 1.6599e-01,\n",
       "         2.5147e-01, 8.0047e-01, 4.2203e-10, 5.1332e-05, 4.9270e-13, 9.8152e-01,\n",
       "         1.7477e-12, 9.6128e-04, 5.3371e-02, 2.2790e-05, 5.1298e-04, 8.0016e-03,\n",
       "         2.5544e-01],\n",
       "        [8.0649e-05, 5.6108e-05, 7.8571e-05, 3.0910e-05, 6.5043e-05, 4.4999e-05,\n",
       "         5.0802e-07, 5.0802e-07, 4.0822e-05, 5.1583e-05, 6.5804e-05, 2.1267e-04,\n",
       "         1.5574e-04, 8.4864e-05, 8.8897e-09, 9.1867e-01, 1.7866e-09, 5.2114e-05,\n",
       "         3.4776e-11, 9.5069e-01, 4.7940e-04, 9.4205e-01, 9.3526e-01, 6.2055e-04,\n",
       "         5.3078e-04],\n",
       "        [9.3838e-01, 9.3813e-01, 9.3526e-01, 9.3361e-01, 9.3574e-01, 9.2796e-01,\n",
       "         3.8223e-05, 3.8223e-05, 9.3262e-01, 9.3458e-01, 9.1456e-01, 8.5972e-01,\n",
       "         8.7839e-01, 9.2721e-01, 1.8635e-07, 1.5331e-02, 1.9222e-10, 9.4070e-01,\n",
       "         2.6744e-10, 2.4332e-02, 9.8607e-01, 1.9909e-03, 6.2376e-04, 9.8612e-01,\n",
       "         9.8381e-01],\n",
       "        [9.3838e-01, 9.3813e-01, 9.3526e-01, 9.3361e-01, 9.3574e-01, 9.2796e-01,\n",
       "         3.8223e-05, 3.8223e-05, 9.3262e-01, 9.3458e-01, 9.1456e-01, 8.5972e-01,\n",
       "         8.7839e-01, 9.2721e-01, 1.8635e-07, 1.5331e-02, 1.9222e-10, 9.4070e-01,\n",
       "         2.6744e-10, 2.4332e-02, 9.8607e-01, 1.9909e-03, 6.2376e-04, 9.8612e-01,\n",
       "         9.8381e-01],\n",
       "        [2.6847e-04, 2.3133e-04, 1.2836e-03, 8.0224e-04, 1.0947e-03, 1.1763e-04,\n",
       "         2.3109e-05, 2.3109e-05, 1.2580e-04, 8.0183e-04, 1.9664e-03, 7.8035e-03,\n",
       "         5.2246e-03, 1.5735e-03, 2.9917e-07, 9.3372e-01, 3.6028e-08, 2.3968e-04,\n",
       "         1.0635e-09, 9.4412e-01, 1.9292e-03, 9.4214e-01, 9.6070e-01, 3.3683e-03,\n",
       "         1.3436e-03],\n",
       "        [9.8272e-01, 9.6967e-01, 2.3427e-01, 9.3035e-02, 2.4109e-01, 9.9017e-01,\n",
       "         7.7725e-09, 7.7725e-09, 9.8708e-01, 3.2475e-01, 2.7582e-02, 2.5347e-03,\n",
       "         5.8897e-03, 1.4533e-01, 5.7713e-10, 4.1470e-05, 2.6285e-12, 9.6407e-01,\n",
       "         1.7794e-11, 2.1362e-03, 8.3551e-01, 1.2513e-04, 3.3040e-03, 4.3829e-01,\n",
       "         9.6045e-01],\n",
       "        [2.5383e-02, 3.9021e-02, 8.3172e-01, 9.0162e-01, 8.2570e-01, 4.8293e-03,\n",
       "         9.4654e-03, 9.4654e-03, 9.2166e-03, 7.6586e-01, 9.6204e-01, 9.8778e-01,\n",
       "         9.8365e-01, 8.8866e-01, 1.6866e-05, 4.3673e-01, 6.4805e-08, 5.6743e-02,\n",
       "         1.5788e-08, 2.9464e-01, 2.5024e-04, 1.0153e-01, 3.4171e-02, 1.8764e-04,\n",
       "         4.8664e-04],\n",
       "        [4.1535e-01, 1.9413e-01, 2.1712e-03, 5.7612e-04, 2.1229e-03, 4.8582e-01,\n",
       "         4.0117e-08, 4.0117e-08, 3.8715e-01, 3.1836e-03, 2.6266e-04, 5.4448e-05,\n",
       "         1.1492e-04, 1.3122e-03, 3.5779e-09, 3.5311e-03, 9.2026e-11, 1.6902e-01,\n",
       "         1.4227e-10, 1.2663e-01, 9.9619e-01, 5.2343e-02, 3.9300e-01, 9.9321e-01,\n",
       "         9.9679e-01],\n",
       "        [8.3288e-01, 8.6003e-01, 9.6344e-01, 9.6980e-01, 9.6499e-01, 6.7166e-01,\n",
       "         1.2895e-04, 1.2895e-04, 7.5652e-01, 9.6400e-01, 9.6826e-01, 9.4153e-01,\n",
       "         9.5605e-01, 9.6626e-01, 8.5794e-07, 1.0705e-03, 1.1030e-09, 8.8827e-01,\n",
       "         2.9823e-09, 5.9911e-03, 7.1017e-03, 4.3765e-04, 3.1193e-03, 1.7445e-03,\n",
       "         2.8442e-02],\n",
       "        [1.0737e-01, 4.7782e-02, 2.6788e-03, 9.5926e-04, 2.4625e-03, 1.1345e-01,\n",
       "         9.3613e-07, 9.3613e-07, 8.4552e-02, 2.9228e-03, 7.3049e-04, 4.4960e-04,\n",
       "         5.7669e-04, 1.9042e-03, 3.9428e-08, 4.9053e-01, 2.2648e-09, 4.2171e-02,\n",
       "         7.5861e-10, 8.4208e-01, 9.9281e-01, 8.4908e-01, 7.8962e-01, 9.9420e-01,\n",
       "         9.8941e-01],\n",
       "        [9.0889e-01, 9.2913e-01, 9.6945e-01, 9.7148e-01, 9.7103e-01, 8.3172e-01,\n",
       "         2.4438e-05, 2.4438e-05, 8.7815e-01, 9.7147e-01, 9.6428e-01, 9.1246e-01,\n",
       "         9.3899e-01, 9.7013e-01, 1.9380e-07, 2.6922e-04, 1.8624e-10, 9.4338e-01,\n",
       "         6.3385e-10, 1.8416e-03, 2.1184e-03, 7.8494e-05, 1.1633e-03, 3.6229e-04,\n",
       "         1.1877e-02],\n",
       "        [8.6034e-02, 2.8110e-02, 2.4752e-04, 5.2953e-05, 2.1764e-04, 1.1451e-01,\n",
       "         8.6097e-10, 8.6097e-10, 7.5774e-02, 2.9214e-04, 2.6512e-05, 8.6430e-06,\n",
       "         1.1745e-05, 1.3043e-04, 8.7078e-11, 2.8858e-01, 1.5562e-11, 1.7881e-02,\n",
       "         6.8430e-12, 7.0644e-01, 9.9496e-01, 6.1568e-01, 7.1016e-02, 9.9509e-01,\n",
       "         9.9558e-01],\n",
       "        [9.6625e-01, 9.7342e-01, 9.5832e-01, 9.4998e-01, 9.6107e-01, 9.5236e-01,\n",
       "         2.9881e-06, 2.9881e-06, 9.6338e-01, 9.6596e-01, 9.1651e-01, 7.2306e-01,\n",
       "         8.2410e-01, 9.5311e-01, 2.3145e-08, 6.4143e-05, 8.9173e-12, 9.7706e-01,\n",
       "         4.7897e-11, 6.0860e-04, 9.2623e-04, 1.1549e-05, 8.2937e-05, 9.5957e-05,\n",
       "         9.9514e-03],\n",
       "        [5.1217e-05, 3.7190e-05, 4.8355e-05, 1.7110e-05, 3.8225e-05, 3.3463e-05,\n",
       "         6.9988e-08, 6.9988e-08, 2.8057e-05, 2.8197e-05, 3.8654e-05, 1.5839e-04,\n",
       "         9.9029e-05, 5.0140e-05, 5.4334e-10, 9.8468e-01, 8.1042e-11, 3.2623e-05,\n",
       "         6.8820e-13, 9.1063e-01, 3.0550e-03, 7.9305e-01, 1.4759e-02, 7.6399e-03,\n",
       "         2.2666e-03],\n",
       "        [9.7763e-01, 9.7815e-01, 9.1730e-01, 8.8352e-01, 9.2302e-01, 9.6932e-01,\n",
       "         3.7322e-07, 3.7322e-07, 9.7529e-01, 9.3909e-01, 7.8466e-01, 3.7478e-01,\n",
       "         5.5340e-01, 8.9924e-01, 2.8726e-09, 4.3466e-05, 9.1948e-13, 9.8050e-01,\n",
       "         7.5900e-12, 7.3107e-04, 1.6621e-03, 1.5653e-05, 7.7640e-05, 1.3070e-04,\n",
       "         2.4630e-02],\n",
       "        [5.0187e-04, 1.8414e-04, 4.5399e-06, 7.5552e-07, 3.5499e-06, 6.3752e-04,\n",
       "         4.1628e-11, 4.1628e-11, 3.9212e-04, 3.6793e-06, 6.2663e-07, 5.7205e-07,\n",
       "         4.7550e-07, 2.6632e-06, 3.9472e-12, 9.4381e-01, 5.3470e-12, 1.0055e-04,\n",
       "         1.8811e-13, 9.7079e-01, 5.2279e-02, 9.7067e-01, 3.9854e-01, 6.0273e-02,\n",
       "         8.0193e-02],\n",
       "        [8.1109e-10, 9.3724e-10, 9.5729e-07, 9.5377e-07, 1.0510e-06, 1.7157e-11,\n",
       "         9.8880e-01, 9.8880e-01, 5.3768e-11, 1.0972e-06, 1.6975e-05, 9.0346e-05,\n",
       "         3.5037e-04, 5.0251e-06, 9.8613e-01, 7.9820e-08, 9.7083e-01, 3.4851e-09,\n",
       "         9.6443e-01, 8.4330e-08, 4.1194e-12, 1.1769e-09, 3.2503e-07, 1.5480e-12,\n",
       "         1.2256e-11],\n",
       "        [8.6164e-01, 8.9319e-01, 9.6772e-01, 9.7015e-01, 9.6854e-01, 6.9044e-01,\n",
       "         2.5306e-06, 2.5306e-06, 7.9507e-01, 9.6900e-01, 9.6214e-01, 8.9835e-01,\n",
       "         9.2249e-01, 9.6638e-01, 2.1350e-08, 5.0695e-04, 3.8891e-11, 9.0034e-01,\n",
       "         1.6743e-10, 1.6025e-03, 1.2236e-05, 4.4765e-05, 1.1539e-05, 1.0978e-06,\n",
       "         2.9061e-04],\n",
       "        [4.8899e-05, 5.8443e-06, 2.1521e-10, 6.9978e-12, 1.6753e-10, 2.2875e-04,\n",
       "         1.8957e-14, 1.8957e-14, 6.2333e-05, 3.0327e-10, 2.5765e-12, 5.5777e-13,\n",
       "         1.0913e-12, 7.8131e-11, 8.4107e-14, 1.0823e-01, 2.5923e-12, 2.2787e-06,\n",
       "         1.3947e-13, 7.4164e-01, 9.9159e-01, 7.3891e-01, 3.2179e-01, 9.9467e-01,\n",
       "         9.8936e-01],\n",
       "        [7.4186e-11, 5.4289e-11, 1.5148e-08, 1.0104e-08, 1.6979e-08, 1.2817e-12,\n",
       "         8.9415e-01, 8.9415e-01, 3.7658e-12, 2.2399e-08, 1.7319e-07, 5.8310e-07,\n",
       "         3.3045e-06, 7.9448e-08, 9.7722e-01, 7.4636e-09, 9.9160e-01, 2.1808e-10,\n",
       "         9.9449e-01, 9.7546e-09, 6.1648e-11, 1.3121e-10, 3.0690e-08, 3.1050e-11,\n",
       "         1.0877e-10],\n",
       "        [5.7231e-10, 7.5418e-10, 2.5608e-06, 3.2359e-06, 2.7983e-06, 8.1903e-12,\n",
       "         9.9270e-01, 9.9270e-01, 3.0735e-11, 2.7113e-06, 7.0428e-05, 4.7074e-04,\n",
       "         1.6121e-03, 1.5041e-05, 9.8449e-01, 1.6572e-07, 9.6252e-01, 3.0901e-09,\n",
       "         9.5342e-01, 6.3977e-08, 3.4192e-13, 6.9805e-10, 1.7378e-08, 1.0879e-13,\n",
       "         1.6656e-12]], grad_fn=<SigmoidBackward>)"
      ]
     },
     "execution_count": 23,
     "metadata": {},
     "output_type": "execute_result"
    }
   ],
   "source": [
    "nn.Sigmoid()(M)"
   ]
  },
  {
   "cell_type": "code",
   "execution_count": 24,
   "metadata": {},
   "outputs": [
    {
     "data": {
      "text/plain": [
       "tensor(1.1921e-07, grad_fn=<SumBackward0>)"
      ]
     },
     "execution_count": 24,
     "metadata": {},
     "output_type": "execute_result"
    }
   ],
   "source": [
    "loss_vec = attn.sum(axis = 0)\n",
    "torch.sum(-torch.log(loss_vec) * loss_vec)"
   ]
  },
  {
   "cell_type": "code",
   "execution_count": 25,
   "metadata": {},
   "outputs": [
    {
     "data": {
      "text/plain": [
       "tensor([1.0000, 1.0000, 1.0000, 1.0000, 1.0000, 1.0000, 1.0000, 1.0000, 1.0000,\n",
       "        1.0000, 1.0000, 1.0000, 1.0000, 1.0000, 1.0000, 1.0000, 1.0000, 1.0000,\n",
       "        1.0000, 1.0000, 1.0000, 1.0000, 1.0000, 1.0000, 1.0000],\n",
       "       grad_fn=<SumBackward1>)"
      ]
     },
     "execution_count": 25,
     "metadata": {},
     "output_type": "execute_result"
    }
   ],
   "source": [
    "attn.sum(axis = 0)"
   ]
  },
  {
   "cell_type": "code",
   "execution_count": 26,
   "metadata": {
    "scrolled": true
   },
   "outputs": [
    {
     "data": {
      "text/plain": [
       "tensor([[9.3518e-01, 9.4091e-01, 9.6094e-01, 9.6125e-01, 9.6194e-01, 8.8034e-01,\n",
       "         9.8254e-06, 9.8254e-06, 9.1304e-01, 9.6286e-01, 9.4418e-01, 8.5498e-01,\n",
       "         8.8403e-01, 9.5650e-01, 1.4922e-07, 1.8520e-03, 5.4270e-10, 9.4506e-01,\n",
       "         2.2769e-09, 1.3366e-02, 3.1971e-03, 1.3487e-03, 3.7811e-03, 5.2772e-04,\n",
       "         2.4391e-02],\n",
       "        [1.3225e-02, 5.9299e-03, 1.7630e-03, 7.9161e-04, 1.6186e-03, 6.3917e-03,\n",
       "         2.2901e-06, 2.2901e-06, 6.2527e-03, 1.7977e-03, 9.0042e-04, 7.8193e-04,\n",
       "         9.8708e-04, 1.5213e-03, 6.7510e-08, 3.7669e-01, 3.5676e-09, 5.8538e-03,\n",
       "         1.3394e-09, 8.5706e-01, 5.7043e-01, 8.9712e-01, 9.7756e-01, 5.5591e-01,\n",
       "         5.3055e-01],\n",
       "        [9.2556e-01, 9.3277e-01, 9.5850e-01, 9.5943e-01, 9.6026e-01, 8.5998e-01,\n",
       "         1.8426e-05, 1.8426e-05, 8.9707e-01, 9.6207e-01, 9.4525e-01, 8.6112e-01,\n",
       "         8.9962e-01, 9.5621e-01, 1.6450e-07, 7.0282e-04, 2.5680e-10, 9.4347e-01,\n",
       "         9.1287e-10, 5.3085e-03, 5.9502e-03, 3.3867e-04, 1.7015e-03, 1.0404e-03,\n",
       "         3.6630e-02],\n",
       "        [2.4538e-04, 1.4429e-04, 2.2748e-04, 1.0804e-04, 1.9475e-04, 9.8383e-05,\n",
       "         9.9536e-06, 9.9536e-06, 1.0063e-04, 1.7173e-04, 2.3189e-04, 6.1454e-04,\n",
       "         5.4215e-04, 2.4752e-04, 1.8601e-07, 9.2306e-01, 3.3037e-08, 1.4534e-04,\n",
       "         1.5772e-09, 9.2742e-01, 1.3965e-02, 9.3608e-01, 5.6030e-01, 2.0801e-02,\n",
       "         1.3713e-02],\n",
       "        [9.8282e-01, 9.8281e-01, 8.5446e-01, 7.6235e-01, 8.5835e-01, 9.8717e-01,\n",
       "         2.7145e-08, 2.7145e-08, 9.8667e-01, 8.7715e-01, 5.5008e-01, 1.6599e-01,\n",
       "         2.5147e-01, 8.0047e-01, 4.2203e-10, 5.1332e-05, 4.9270e-13, 9.8152e-01,\n",
       "         1.7477e-12, 9.6128e-04, 5.3371e-02, 2.2790e-05, 5.1298e-04, 8.0016e-03,\n",
       "         2.5544e-01],\n",
       "        [8.0649e-05, 5.6108e-05, 7.8571e-05, 3.0910e-05, 6.5043e-05, 4.4999e-05,\n",
       "         5.0802e-07, 5.0802e-07, 4.0822e-05, 5.1583e-05, 6.5804e-05, 2.1267e-04,\n",
       "         1.5574e-04, 8.4864e-05, 8.8897e-09, 9.1867e-01, 1.7866e-09, 5.2114e-05,\n",
       "         3.4776e-11, 9.5069e-01, 4.7940e-04, 9.4205e-01, 9.3526e-01, 6.2055e-04,\n",
       "         5.3078e-04],\n",
       "        [9.3838e-01, 9.3813e-01, 9.3526e-01, 9.3361e-01, 9.3574e-01, 9.2796e-01,\n",
       "         3.8223e-05, 3.8223e-05, 9.3262e-01, 9.3458e-01, 9.1456e-01, 8.5972e-01,\n",
       "         8.7839e-01, 9.2721e-01, 1.8635e-07, 1.5331e-02, 1.9222e-10, 9.4070e-01,\n",
       "         2.6744e-10, 2.4332e-02, 9.8607e-01, 1.9909e-03, 6.2376e-04, 9.8612e-01,\n",
       "         9.8381e-01],\n",
       "        [9.3838e-01, 9.3813e-01, 9.3526e-01, 9.3361e-01, 9.3574e-01, 9.2796e-01,\n",
       "         3.8223e-05, 3.8223e-05, 9.3262e-01, 9.3458e-01, 9.1456e-01, 8.5972e-01,\n",
       "         8.7839e-01, 9.2721e-01, 1.8635e-07, 1.5331e-02, 1.9222e-10, 9.4070e-01,\n",
       "         2.6744e-10, 2.4332e-02, 9.8607e-01, 1.9909e-03, 6.2376e-04, 9.8612e-01,\n",
       "         9.8381e-01],\n",
       "        [2.6847e-04, 2.3133e-04, 1.2836e-03, 8.0224e-04, 1.0947e-03, 1.1763e-04,\n",
       "         2.3109e-05, 2.3109e-05, 1.2580e-04, 8.0183e-04, 1.9664e-03, 7.8035e-03,\n",
       "         5.2246e-03, 1.5735e-03, 2.9917e-07, 9.3372e-01, 3.6028e-08, 2.3968e-04,\n",
       "         1.0635e-09, 9.4412e-01, 1.9292e-03, 9.4214e-01, 9.6070e-01, 3.3683e-03,\n",
       "         1.3436e-03],\n",
       "        [9.8272e-01, 9.6967e-01, 2.3427e-01, 9.3035e-02, 2.4109e-01, 9.9017e-01,\n",
       "         7.7725e-09, 7.7725e-09, 9.8708e-01, 3.2475e-01, 2.7582e-02, 2.5347e-03,\n",
       "         5.8897e-03, 1.4533e-01, 5.7713e-10, 4.1470e-05, 2.6285e-12, 9.6407e-01,\n",
       "         1.7794e-11, 2.1362e-03, 8.3551e-01, 1.2513e-04, 3.3040e-03, 4.3829e-01,\n",
       "         9.6045e-01],\n",
       "        [2.5383e-02, 3.9021e-02, 8.3172e-01, 9.0162e-01, 8.2570e-01, 4.8293e-03,\n",
       "         9.4654e-03, 9.4654e-03, 9.2166e-03, 7.6586e-01, 9.6204e-01, 9.8778e-01,\n",
       "         9.8365e-01, 8.8866e-01, 1.6866e-05, 4.3673e-01, 6.4805e-08, 5.6743e-02,\n",
       "         1.5788e-08, 2.9464e-01, 2.5024e-04, 1.0153e-01, 3.4171e-02, 1.8764e-04,\n",
       "         4.8664e-04],\n",
       "        [4.1535e-01, 1.9413e-01, 2.1712e-03, 5.7612e-04, 2.1229e-03, 4.8582e-01,\n",
       "         4.0117e-08, 4.0117e-08, 3.8715e-01, 3.1836e-03, 2.6266e-04, 5.4448e-05,\n",
       "         1.1492e-04, 1.3122e-03, 3.5779e-09, 3.5311e-03, 9.2026e-11, 1.6902e-01,\n",
       "         1.4227e-10, 1.2663e-01, 9.9619e-01, 5.2343e-02, 3.9300e-01, 9.9321e-01,\n",
       "         9.9679e-01],\n",
       "        [8.3288e-01, 8.6003e-01, 9.6344e-01, 9.6980e-01, 9.6499e-01, 6.7166e-01,\n",
       "         1.2895e-04, 1.2895e-04, 7.5652e-01, 9.6400e-01, 9.6826e-01, 9.4153e-01,\n",
       "         9.5605e-01, 9.6626e-01, 8.5794e-07, 1.0705e-03, 1.1030e-09, 8.8827e-01,\n",
       "         2.9823e-09, 5.9911e-03, 7.1017e-03, 4.3765e-04, 3.1193e-03, 1.7445e-03,\n",
       "         2.8442e-02],\n",
       "        [1.0737e-01, 4.7782e-02, 2.6788e-03, 9.5926e-04, 2.4625e-03, 1.1345e-01,\n",
       "         9.3613e-07, 9.3613e-07, 8.4552e-02, 2.9228e-03, 7.3049e-04, 4.4960e-04,\n",
       "         5.7669e-04, 1.9042e-03, 3.9428e-08, 4.9053e-01, 2.2648e-09, 4.2171e-02,\n",
       "         7.5861e-10, 8.4208e-01, 9.9281e-01, 8.4908e-01, 7.8962e-01, 9.9420e-01,\n",
       "         9.8941e-01],\n",
       "        [9.0889e-01, 9.2913e-01, 9.6945e-01, 9.7148e-01, 9.7103e-01, 8.3172e-01,\n",
       "         2.4438e-05, 2.4438e-05, 8.7815e-01, 9.7147e-01, 9.6428e-01, 9.1246e-01,\n",
       "         9.3899e-01, 9.7013e-01, 1.9380e-07, 2.6922e-04, 1.8624e-10, 9.4338e-01,\n",
       "         6.3385e-10, 1.8416e-03, 2.1184e-03, 7.8494e-05, 1.1633e-03, 3.6229e-04,\n",
       "         1.1877e-02],\n",
       "        [8.6034e-02, 2.8110e-02, 2.4752e-04, 5.2953e-05, 2.1764e-04, 1.1451e-01,\n",
       "         8.6097e-10, 8.6097e-10, 7.5774e-02, 2.9214e-04, 2.6512e-05, 8.6430e-06,\n",
       "         1.1745e-05, 1.3043e-04, 8.7078e-11, 2.8858e-01, 1.5562e-11, 1.7881e-02,\n",
       "         6.8430e-12, 7.0644e-01, 9.9496e-01, 6.1568e-01, 7.1016e-02, 9.9509e-01,\n",
       "         9.9558e-01],\n",
       "        [9.6625e-01, 9.7342e-01, 9.5832e-01, 9.4998e-01, 9.6107e-01, 9.5236e-01,\n",
       "         2.9881e-06, 2.9881e-06, 9.6338e-01, 9.6596e-01, 9.1651e-01, 7.2306e-01,\n",
       "         8.2410e-01, 9.5311e-01, 2.3145e-08, 6.4143e-05, 8.9173e-12, 9.7706e-01,\n",
       "         4.7897e-11, 6.0860e-04, 9.2623e-04, 1.1549e-05, 8.2937e-05, 9.5957e-05,\n",
       "         9.9514e-03],\n",
       "        [5.1217e-05, 3.7190e-05, 4.8355e-05, 1.7110e-05, 3.8225e-05, 3.3463e-05,\n",
       "         6.9988e-08, 6.9988e-08, 2.8057e-05, 2.8197e-05, 3.8654e-05, 1.5839e-04,\n",
       "         9.9029e-05, 5.0140e-05, 5.4334e-10, 9.8468e-01, 8.1042e-11, 3.2623e-05,\n",
       "         6.8820e-13, 9.1063e-01, 3.0550e-03, 7.9305e-01, 1.4759e-02, 7.6399e-03,\n",
       "         2.2666e-03],\n",
       "        [9.7763e-01, 9.7815e-01, 9.1730e-01, 8.8352e-01, 9.2302e-01, 9.6932e-01,\n",
       "         3.7322e-07, 3.7322e-07, 9.7529e-01, 9.3909e-01, 7.8466e-01, 3.7478e-01,\n",
       "         5.5340e-01, 8.9924e-01, 2.8726e-09, 4.3466e-05, 9.1948e-13, 9.8050e-01,\n",
       "         7.5900e-12, 7.3107e-04, 1.6621e-03, 1.5653e-05, 7.7640e-05, 1.3070e-04,\n",
       "         2.4630e-02],\n",
       "        [5.0187e-04, 1.8414e-04, 4.5399e-06, 7.5552e-07, 3.5499e-06, 6.3752e-04,\n",
       "         4.1628e-11, 4.1628e-11, 3.9212e-04, 3.6793e-06, 6.2663e-07, 5.7205e-07,\n",
       "         4.7550e-07, 2.6632e-06, 3.9472e-12, 9.4381e-01, 5.3470e-12, 1.0055e-04,\n",
       "         1.8811e-13, 9.7079e-01, 5.2279e-02, 9.7067e-01, 3.9854e-01, 6.0273e-02,\n",
       "         8.0193e-02],\n",
       "        [8.1109e-10, 9.3724e-10, 9.5729e-07, 9.5377e-07, 1.0510e-06, 1.7157e-11,\n",
       "         9.8880e-01, 9.8880e-01, 5.3768e-11, 1.0972e-06, 1.6975e-05, 9.0346e-05,\n",
       "         3.5037e-04, 5.0251e-06, 9.8613e-01, 7.9820e-08, 9.7083e-01, 3.4851e-09,\n",
       "         9.6443e-01, 8.4330e-08, 4.1194e-12, 1.1769e-09, 3.2503e-07, 1.5480e-12,\n",
       "         1.2256e-11],\n",
       "        [8.6164e-01, 8.9319e-01, 9.6772e-01, 9.7015e-01, 9.6854e-01, 6.9044e-01,\n",
       "         2.5306e-06, 2.5306e-06, 7.9507e-01, 9.6900e-01, 9.6214e-01, 8.9835e-01,\n",
       "         9.2249e-01, 9.6638e-01, 2.1350e-08, 5.0695e-04, 3.8891e-11, 9.0034e-01,\n",
       "         1.6743e-10, 1.6025e-03, 1.2236e-05, 4.4765e-05, 1.1539e-05, 1.0978e-06,\n",
       "         2.9061e-04],\n",
       "        [4.8899e-05, 5.8443e-06, 2.1521e-10, 6.9978e-12, 1.6753e-10, 2.2875e-04,\n",
       "         1.8957e-14, 1.8957e-14, 6.2333e-05, 3.0327e-10, 2.5765e-12, 5.5777e-13,\n",
       "         1.0913e-12, 7.8131e-11, 8.4107e-14, 1.0823e-01, 2.5923e-12, 2.2787e-06,\n",
       "         1.3947e-13, 7.4164e-01, 9.9159e-01, 7.3891e-01, 3.2179e-01, 9.9467e-01,\n",
       "         9.8936e-01],\n",
       "        [7.4186e-11, 5.4289e-11, 1.5148e-08, 1.0104e-08, 1.6979e-08, 1.2817e-12,\n",
       "         8.9415e-01, 8.9415e-01, 3.7658e-12, 2.2399e-08, 1.7319e-07, 5.8310e-07,\n",
       "         3.3045e-06, 7.9448e-08, 9.7722e-01, 7.4636e-09, 9.9160e-01, 2.1808e-10,\n",
       "         9.9449e-01, 9.7546e-09, 6.1648e-11, 1.3121e-10, 3.0690e-08, 3.1050e-11,\n",
       "         1.0877e-10],\n",
       "        [5.7231e-10, 7.5418e-10, 2.5608e-06, 3.2359e-06, 2.7983e-06, 8.1903e-12,\n",
       "         9.9270e-01, 9.9270e-01, 3.0735e-11, 2.7113e-06, 7.0428e-05, 4.7074e-04,\n",
       "         1.6121e-03, 1.5041e-05, 9.8449e-01, 1.6572e-07, 9.6252e-01, 3.0901e-09,\n",
       "         9.5342e-01, 6.3977e-08, 3.4192e-13, 6.9805e-10, 1.7378e-08, 1.0879e-13,\n",
       "         1.6656e-12]], grad_fn=<SigmoidBackward>)"
      ]
     },
     "execution_count": 26,
     "metadata": {},
     "output_type": "execute_result"
    }
   ],
   "source": [
    "nn.Sigmoid()(M)"
   ]
  },
  {
   "cell_type": "code",
   "execution_count": 27,
   "metadata": {},
   "outputs": [
    {
     "ename": "IndexError",
     "evalue": "Dimension out of range (expected to be in range of [-1, 0], but got 1)",
     "output_type": "error",
     "traceback": [
      "\u001b[0;31m---------------------------------------------------------------------------\u001b[0m",
      "\u001b[0;31mIndexError\u001b[0m                                Traceback (most recent call last)",
      "\u001b[0;32m<ipython-input-27-119d1505cb5d>\u001b[0m in \u001b[0;36m<module>\u001b[0;34m\u001b[0m\n\u001b[1;32m      3\u001b[0m \u001b[0mloss_vec\u001b[0m \u001b[0;34m=\u001b[0m \u001b[0mattn\u001b[0m\u001b[0;34m.\u001b[0m\u001b[0msum\u001b[0m\u001b[0;34m(\u001b[0m\u001b[0maxis\u001b[0m \u001b[0;34m=\u001b[0m \u001b[0;36m1\u001b[0m \u001b[0;34m-\u001b[0m \u001b[0mdim\u001b[0m\u001b[0;34m)\u001b[0m\u001b[0;34m\u001b[0m\u001b[0;34m\u001b[0m\u001b[0m\n\u001b[1;32m      4\u001b[0m \u001b[0;31m# loss_vec\u001b[0m\u001b[0;34m\u001b[0m\u001b[0;34m\u001b[0m\u001b[0;34m\u001b[0m\u001b[0m\n\u001b[0;32m----> 5\u001b[0;31m \u001b[0mloss\u001b[0m\u001b[0;34m(\u001b[0m\u001b[0mloss_vec\u001b[0m\u001b[0;34m,\u001b[0m \u001b[0mloss_vec\u001b[0m\u001b[0;34m)\u001b[0m\u001b[0;34m\u001b[0m\u001b[0;34m\u001b[0m\u001b[0m\n\u001b[0m",
      "\u001b[0;32m~/anaconda3/envs/mol_ot/lib/python3.6/site-packages/torch/nn/modules/module.py\u001b[0m in \u001b[0;36m_call_impl\u001b[0;34m(self, *input, **kwargs)\u001b[0m\n\u001b[1;32m    720\u001b[0m             \u001b[0mresult\u001b[0m \u001b[0;34m=\u001b[0m \u001b[0mself\u001b[0m\u001b[0;34m.\u001b[0m\u001b[0m_slow_forward\u001b[0m\u001b[0;34m(\u001b[0m\u001b[0;34m*\u001b[0m\u001b[0minput\u001b[0m\u001b[0;34m,\u001b[0m \u001b[0;34m**\u001b[0m\u001b[0mkwargs\u001b[0m\u001b[0;34m)\u001b[0m\u001b[0;34m\u001b[0m\u001b[0;34m\u001b[0m\u001b[0m\n\u001b[1;32m    721\u001b[0m         \u001b[0;32melse\u001b[0m\u001b[0;34m:\u001b[0m\u001b[0;34m\u001b[0m\u001b[0;34m\u001b[0m\u001b[0m\n\u001b[0;32m--> 722\u001b[0;31m             \u001b[0mresult\u001b[0m \u001b[0;34m=\u001b[0m \u001b[0mself\u001b[0m\u001b[0;34m.\u001b[0m\u001b[0mforward\u001b[0m\u001b[0;34m(\u001b[0m\u001b[0;34m*\u001b[0m\u001b[0minput\u001b[0m\u001b[0;34m,\u001b[0m \u001b[0;34m**\u001b[0m\u001b[0mkwargs\u001b[0m\u001b[0;34m)\u001b[0m\u001b[0;34m\u001b[0m\u001b[0;34m\u001b[0m\u001b[0m\n\u001b[0m\u001b[1;32m    723\u001b[0m         for hook in itertools.chain(\n\u001b[1;32m    724\u001b[0m                 \u001b[0m_global_forward_hooks\u001b[0m\u001b[0;34m.\u001b[0m\u001b[0mvalues\u001b[0m\u001b[0;34m(\u001b[0m\u001b[0;34m)\u001b[0m\u001b[0;34m,\u001b[0m\u001b[0;34m\u001b[0m\u001b[0;34m\u001b[0m\u001b[0m\n",
      "\u001b[0;32m~/anaconda3/envs/mol_ot/lib/python3.6/site-packages/torch/nn/modules/loss.py\u001b[0m in \u001b[0;36mforward\u001b[0;34m(self, input, target)\u001b[0m\n\u001b[1;32m    946\u001b[0m     \u001b[0;32mdef\u001b[0m \u001b[0mforward\u001b[0m\u001b[0;34m(\u001b[0m\u001b[0mself\u001b[0m\u001b[0;34m,\u001b[0m \u001b[0minput\u001b[0m\u001b[0;34m:\u001b[0m \u001b[0mTensor\u001b[0m\u001b[0;34m,\u001b[0m \u001b[0mtarget\u001b[0m\u001b[0;34m:\u001b[0m \u001b[0mTensor\u001b[0m\u001b[0;34m)\u001b[0m \u001b[0;34m->\u001b[0m \u001b[0mTensor\u001b[0m\u001b[0;34m:\u001b[0m\u001b[0;34m\u001b[0m\u001b[0;34m\u001b[0m\u001b[0m\n\u001b[1;32m    947\u001b[0m         return F.cross_entropy(input, target, weight=self.weight,\n\u001b[0;32m--> 948\u001b[0;31m                                ignore_index=self.ignore_index, reduction=self.reduction)\n\u001b[0m\u001b[1;32m    949\u001b[0m \u001b[0;34m\u001b[0m\u001b[0m\n\u001b[1;32m    950\u001b[0m \u001b[0;34m\u001b[0m\u001b[0m\n",
      "\u001b[0;32m~/anaconda3/envs/mol_ot/lib/python3.6/site-packages/torch/nn/functional.py\u001b[0m in \u001b[0;36mcross_entropy\u001b[0;34m(input, target, weight, size_average, ignore_index, reduce, reduction)\u001b[0m\n\u001b[1;32m   2420\u001b[0m     \u001b[0;32mif\u001b[0m \u001b[0msize_average\u001b[0m \u001b[0;32mis\u001b[0m \u001b[0;32mnot\u001b[0m \u001b[0;32mNone\u001b[0m \u001b[0;32mor\u001b[0m \u001b[0mreduce\u001b[0m \u001b[0;32mis\u001b[0m \u001b[0;32mnot\u001b[0m \u001b[0;32mNone\u001b[0m\u001b[0;34m:\u001b[0m\u001b[0;34m\u001b[0m\u001b[0;34m\u001b[0m\u001b[0m\n\u001b[1;32m   2421\u001b[0m         \u001b[0mreduction\u001b[0m \u001b[0;34m=\u001b[0m \u001b[0m_Reduction\u001b[0m\u001b[0;34m.\u001b[0m\u001b[0mlegacy_get_string\u001b[0m\u001b[0;34m(\u001b[0m\u001b[0msize_average\u001b[0m\u001b[0;34m,\u001b[0m \u001b[0mreduce\u001b[0m\u001b[0;34m)\u001b[0m\u001b[0;34m\u001b[0m\u001b[0;34m\u001b[0m\u001b[0m\n\u001b[0;32m-> 2422\u001b[0;31m     \u001b[0;32mreturn\u001b[0m \u001b[0mnll_loss\u001b[0m\u001b[0;34m(\u001b[0m\u001b[0mlog_softmax\u001b[0m\u001b[0;34m(\u001b[0m\u001b[0minput\u001b[0m\u001b[0;34m,\u001b[0m \u001b[0;36m1\u001b[0m\u001b[0;34m)\u001b[0m\u001b[0;34m,\u001b[0m \u001b[0mtarget\u001b[0m\u001b[0;34m,\u001b[0m \u001b[0mweight\u001b[0m\u001b[0;34m,\u001b[0m \u001b[0;32mNone\u001b[0m\u001b[0;34m,\u001b[0m \u001b[0mignore_index\u001b[0m\u001b[0;34m,\u001b[0m \u001b[0;32mNone\u001b[0m\u001b[0;34m,\u001b[0m \u001b[0mreduction\u001b[0m\u001b[0;34m)\u001b[0m\u001b[0;34m\u001b[0m\u001b[0;34m\u001b[0m\u001b[0m\n\u001b[0m\u001b[1;32m   2423\u001b[0m \u001b[0;34m\u001b[0m\u001b[0m\n\u001b[1;32m   2424\u001b[0m \u001b[0;34m\u001b[0m\u001b[0m\n",
      "\u001b[0;32m~/anaconda3/envs/mol_ot/lib/python3.6/site-packages/torch/nn/functional.py\u001b[0m in \u001b[0;36mlog_softmax\u001b[0;34m(input, dim, _stacklevel, dtype)\u001b[0m\n\u001b[1;32m   1589\u001b[0m         \u001b[0mdim\u001b[0m \u001b[0;34m=\u001b[0m \u001b[0m_get_softmax_dim\u001b[0m\u001b[0;34m(\u001b[0m\u001b[0;34m'log_softmax'\u001b[0m\u001b[0;34m,\u001b[0m \u001b[0minput\u001b[0m\u001b[0;34m.\u001b[0m\u001b[0mdim\u001b[0m\u001b[0;34m(\u001b[0m\u001b[0;34m)\u001b[0m\u001b[0;34m,\u001b[0m \u001b[0m_stacklevel\u001b[0m\u001b[0;34m)\u001b[0m\u001b[0;34m\u001b[0m\u001b[0;34m\u001b[0m\u001b[0m\n\u001b[1;32m   1590\u001b[0m     \u001b[0;32mif\u001b[0m \u001b[0mdtype\u001b[0m \u001b[0;32mis\u001b[0m \u001b[0;32mNone\u001b[0m\u001b[0;34m:\u001b[0m\u001b[0;34m\u001b[0m\u001b[0;34m\u001b[0m\u001b[0m\n\u001b[0;32m-> 1591\u001b[0;31m         \u001b[0mret\u001b[0m \u001b[0;34m=\u001b[0m \u001b[0minput\u001b[0m\u001b[0;34m.\u001b[0m\u001b[0mlog_softmax\u001b[0m\u001b[0;34m(\u001b[0m\u001b[0mdim\u001b[0m\u001b[0;34m)\u001b[0m\u001b[0;34m\u001b[0m\u001b[0;34m\u001b[0m\u001b[0m\n\u001b[0m\u001b[1;32m   1592\u001b[0m     \u001b[0;32melse\u001b[0m\u001b[0;34m:\u001b[0m\u001b[0;34m\u001b[0m\u001b[0;34m\u001b[0m\u001b[0m\n\u001b[1;32m   1593\u001b[0m         \u001b[0mret\u001b[0m \u001b[0;34m=\u001b[0m \u001b[0minput\u001b[0m\u001b[0;34m.\u001b[0m\u001b[0mlog_softmax\u001b[0m\u001b[0;34m(\u001b[0m\u001b[0mdim\u001b[0m\u001b[0;34m,\u001b[0m \u001b[0mdtype\u001b[0m\u001b[0;34m=\u001b[0m\u001b[0mdtype\u001b[0m\u001b[0;34m)\u001b[0m\u001b[0;34m\u001b[0m\u001b[0;34m\u001b[0m\u001b[0m\n",
      "\u001b[0;31mIndexError\u001b[0m: Dimension out of range (expected to be in range of [-1, 0], but got 1)"
     ]
    }
   ],
   "source": [
    "# get cross entropy loss\n",
    "loss = nn.CrossEntropyLoss()\n",
    "loss_vec = attn.sum(axis = 1 - dim)\n",
    "# loss_vec\n",
    "loss(loss_vec, loss_vec)"
   ]
  },
  {
   "cell_type": "code",
   "execution_count": 28,
   "metadata": {},
   "outputs": [
    {
     "ename": "ModuleAttributeError",
     "evalue": "'CrossAttUnit' object has no attribute 'k'",
     "output_type": "error",
     "traceback": [
      "\u001b[0;31m---------------------------------------------------------------------------\u001b[0m",
      "\u001b[0;31mModuleAttributeError\u001b[0m                      Traceback (most recent call last)",
      "\u001b[0;32m<ipython-input-28-41403ebb4318>\u001b[0m in \u001b[0;36m<module>\u001b[0;34m\u001b[0m\n\u001b[0;32m----> 1\u001b[0;31m \u001b[0mtorch\u001b[0m\u001b[0;34m.\u001b[0m\u001b[0mmatmul\u001b[0m\u001b[0;34m(\u001b[0m\u001b[0my\u001b[0m\u001b[0;34m,\u001b[0m \u001b[0mcrossatt\u001b[0m\u001b[0;34m.\u001b[0m\u001b[0mk\u001b[0m\u001b[0;34m)\u001b[0m\u001b[0;34m\u001b[0m\u001b[0;34m\u001b[0m\u001b[0m\n\u001b[0m",
      "\u001b[0;32m~/anaconda3/envs/mol_ot/lib/python3.6/site-packages/torch/nn/modules/module.py\u001b[0m in \u001b[0;36m__getattr__\u001b[0;34m(self, name)\u001b[0m\n\u001b[1;32m    770\u001b[0m                 \u001b[0;32mreturn\u001b[0m \u001b[0mmodules\u001b[0m\u001b[0;34m[\u001b[0m\u001b[0mname\u001b[0m\u001b[0;34m]\u001b[0m\u001b[0;34m\u001b[0m\u001b[0;34m\u001b[0m\u001b[0m\n\u001b[1;32m    771\u001b[0m         raise ModuleAttributeError(\"'{}' object has no attribute '{}'\".format(\n\u001b[0;32m--> 772\u001b[0;31m             type(self).__name__, name))\n\u001b[0m\u001b[1;32m    773\u001b[0m \u001b[0;34m\u001b[0m\u001b[0m\n\u001b[1;32m    774\u001b[0m     \u001b[0;32mdef\u001b[0m \u001b[0m__setattr__\u001b[0m\u001b[0;34m(\u001b[0m\u001b[0mself\u001b[0m\u001b[0;34m,\u001b[0m \u001b[0mname\u001b[0m\u001b[0;34m:\u001b[0m \u001b[0mstr\u001b[0m\u001b[0;34m,\u001b[0m \u001b[0mvalue\u001b[0m\u001b[0;34m:\u001b[0m \u001b[0mUnion\u001b[0m\u001b[0;34m[\u001b[0m\u001b[0mTensor\u001b[0m\u001b[0;34m,\u001b[0m \u001b[0;34m'Module'\u001b[0m\u001b[0;34m]\u001b[0m\u001b[0;34m)\u001b[0m \u001b[0;34m->\u001b[0m \u001b[0;32mNone\u001b[0m\u001b[0;34m:\u001b[0m\u001b[0;34m\u001b[0m\u001b[0;34m\u001b[0m\u001b[0m\n",
      "\u001b[0;31mModuleAttributeError\u001b[0m: 'CrossAttUnit' object has no attribute 'k'"
     ]
    }
   ],
   "source": [
    "torch.matmul(y, crossatt.k)"
   ]
  },
  {
   "cell_type": "code",
   "execution_count": 29,
   "metadata": {},
   "outputs": [
    {
     "ename": "ModuleAttributeError",
     "evalue": "'CrossAttUnit' object has no attribute 'q'",
     "output_type": "error",
     "traceback": [
      "\u001b[0;31m---------------------------------------------------------------------------\u001b[0m",
      "\u001b[0;31mModuleAttributeError\u001b[0m                      Traceback (most recent call last)",
      "\u001b[0;32m<ipython-input-29-5dcb73c3ea2f>\u001b[0m in \u001b[0;36m<module>\u001b[0;34m\u001b[0m\n\u001b[0;32m----> 1\u001b[0;31m \u001b[0mtorch\u001b[0m\u001b[0;34m.\u001b[0m\u001b[0mmatmul\u001b[0m\u001b[0;34m(\u001b[0m\u001b[0mcrossatt\u001b[0m\u001b[0;34m.\u001b[0m\u001b[0mq\u001b[0m\u001b[0;34m.\u001b[0m\u001b[0mT\u001b[0m\u001b[0;34m,\u001b[0m \u001b[0myhat\u001b[0m\u001b[0;34m.\u001b[0m\u001b[0mT\u001b[0m\u001b[0;34m)\u001b[0m\u001b[0;34m\u001b[0m\u001b[0;34m\u001b[0m\u001b[0m\n\u001b[0m",
      "\u001b[0;32m~/anaconda3/envs/mol_ot/lib/python3.6/site-packages/torch/nn/modules/module.py\u001b[0m in \u001b[0;36m__getattr__\u001b[0;34m(self, name)\u001b[0m\n\u001b[1;32m    770\u001b[0m                 \u001b[0;32mreturn\u001b[0m \u001b[0mmodules\u001b[0m\u001b[0;34m[\u001b[0m\u001b[0mname\u001b[0m\u001b[0;34m]\u001b[0m\u001b[0;34m\u001b[0m\u001b[0;34m\u001b[0m\u001b[0m\n\u001b[1;32m    771\u001b[0m         raise ModuleAttributeError(\"'{}' object has no attribute '{}'\".format(\n\u001b[0;32m--> 772\u001b[0;31m             type(self).__name__, name))\n\u001b[0m\u001b[1;32m    773\u001b[0m \u001b[0;34m\u001b[0m\u001b[0m\n\u001b[1;32m    774\u001b[0m     \u001b[0;32mdef\u001b[0m \u001b[0m__setattr__\u001b[0m\u001b[0;34m(\u001b[0m\u001b[0mself\u001b[0m\u001b[0;34m,\u001b[0m \u001b[0mname\u001b[0m\u001b[0;34m:\u001b[0m \u001b[0mstr\u001b[0m\u001b[0;34m,\u001b[0m \u001b[0mvalue\u001b[0m\u001b[0;34m:\u001b[0m \u001b[0mUnion\u001b[0m\u001b[0;34m[\u001b[0m\u001b[0mTensor\u001b[0m\u001b[0;34m,\u001b[0m \u001b[0;34m'Module'\u001b[0m\u001b[0;34m]\u001b[0m\u001b[0;34m)\u001b[0m \u001b[0;34m->\u001b[0m \u001b[0;32mNone\u001b[0m\u001b[0;34m:\u001b[0m\u001b[0;34m\u001b[0m\u001b[0;34m\u001b[0m\u001b[0m\n",
      "\u001b[0;31mModuleAttributeError\u001b[0m: 'CrossAttUnit' object has no attribute 'q'"
     ]
    }
   ],
   "source": [
    "torch.matmul(crossatt.q.T, yhat.T)"
   ]
  },
  {
   "cell_type": "code",
   "execution_count": 30,
   "metadata": {
    "scrolled": true
   },
   "outputs": [
    {
     "data": {
      "text/plain": [
       "tensor([[2.1634e-03, 2.4547e-03, 4.6742e-03, 4.6152e-03, 4.6181e-03, 1.0514e-03,\n",
       "         4.1554e-08, 4.1554e-08, 1.5052e-03, 4.5607e-03, 3.7527e-03, 1.6325e-03,\n",
       "         2.0743e-03, 4.3703e-03, 3.9904e-08, 6.4945e-07, 3.9871e-08, 2.5178e-03,\n",
       "         3.9871e-08, 4.9671e-06, 1.8806e-07, 5.6235e-07, 1.7325e-06, 6.4604e-08,\n",
       "         1.1854e-06],\n",
       "        [3.2326e-06, 1.5134e-06, 5.9211e-07, 2.9535e-07, 5.3005e-07, 1.5128e-06,\n",
       "         6.3506e-08, 6.3506e-08, 1.4855e-06, 5.6260e-07, 3.7823e-07, 4.0466e-07,\n",
       "         4.8697e-07, 5.4058e-07, 6.2911e-08, 3.1322e-04, 6.2889e-08, 1.4222e-06,\n",
       "         6.2888e-08, 3.4398e-03, 9.6830e-05, 5.3213e-03, 3.0641e-02, 9.2554e-05,\n",
       "         8.1743e-05],\n",
       "        [1.9337e-03, 2.2182e-03, 4.5511e-03, 4.5628e-03, 4.5782e-03, 9.1028e-04,\n",
       "         4.4623e-08, 4.4623e-08, 1.2956e-03, 4.6279e-03, 3.9718e-03, 1.7805e-03,\n",
       "         2.5291e-03, 4.5017e-03, 4.1387e-08, 2.8098e-07, 4.1349e-08, 2.5332e-03,\n",
       "         4.1349e-08, 2.0544e-06, 3.2815e-07, 1.7727e-07, 8.2965e-07, 9.1945e-08,\n",
       "         1.8482e-06],\n",
       "        [2.0685e-07, 1.6759e-07, 2.2418e-07, 1.6179e-07, 2.0357e-07, 1.4550e-07,\n",
       "         1.1217e-07, 1.1217e-07, 1.4648e-07, 1.8908e-07, 2.4638e-07, 5.6692e-07,\n",
       "         5.0579e-07, 2.4033e-07, 1.0768e-07, 1.0634e-02, 1.0758e-07, 1.6496e-07,\n",
       "         1.0757e-07, 1.2539e-02, 1.8729e-06, 1.5284e-02, 1.5333e-03, 2.7922e-06,\n",
       "         1.8263e-06],\n",
       "        [6.5883e-03, 6.7684e-03, 8.5659e-04, 4.5834e-04, 8.5023e-04, 8.4467e-03,\n",
       "         3.0623e-08, 3.0623e-08, 8.1495e-03, 9.6467e-04, 2.0833e-04, 4.2355e-05,\n",
       "         7.0239e-05, 6.1244e-04, 3.0620e-08, 4.3572e-08, 3.0620e-08, 5.9687e-03,\n",
       "         3.0620e-08, 2.9939e-07, 2.0311e-06, 3.7391e-08, 2.0641e-07, 3.2080e-07,\n",
       "         1.2103e-05],\n",
       "        [8.8622e-08, 8.2748e-08, 9.3454e-08, 7.7803e-08, 8.8263e-08, 7.8963e-08,\n",
       "         6.8144e-08, 6.8144e-08, 7.7976e-08, 8.3472e-08, 9.2893e-08, 1.6845e-07,\n",
       "         1.4028e-07, 9.6767e-08, 6.7999e-08, 6.3284e-03, 6.7997e-08, 8.1005e-08,\n",
       "         6.7996e-08, 1.1958e-02, 1.0579e-07, 1.0725e-02, 1.0987e-02, 1.1760e-07,\n",
       "         1.0949e-07],\n",
       "        [2.3259e-03, 2.3809e-03, 2.7957e-03, 2.6648e-03, 2.7098e-03, 1.8749e-03,\n",
       "         4.7281e-08, 4.7281e-08, 2.0209e-03, 2.5599e-03, 2.4186e-03, 1.7286e-03,\n",
       "         2.0019e-03, 2.5792e-03, 4.0653e-08, 5.2505e-06, 4.0611e-08, 2.3650e-03,\n",
       "         4.0611e-08, 9.2795e-06, 3.3322e-03, 8.2668e-07, 3.2413e-07, 3.3891e-03,\n",
       "         2.8368e-03],\n",
       "        [2.3259e-03, 2.3809e-03, 2.7957e-03, 2.6648e-03, 2.7098e-03, 1.8749e-03,\n",
       "         4.7281e-08, 4.7281e-08, 2.0209e-03, 2.5599e-03, 2.4186e-03, 1.7286e-03,\n",
       "         2.0019e-03, 2.5792e-03, 4.0653e-08, 5.2505e-06, 4.0611e-08, 2.3650e-03,\n",
       "         4.0611e-08, 9.2795e-06, 3.3322e-03, 8.2668e-07, 3.2413e-07, 3.3891e-03,\n",
       "         2.8368e-03],\n",
       "        [1.1457e-07, 1.0799e-07, 4.0607e-07, 2.7053e-07, 3.4323e-07, 8.1032e-08,\n",
       "         6.2660e-08, 6.2660e-08, 8.2782e-08, 2.5881e-07, 6.8186e-07, 3.1703e-06,\n",
       "         2.1002e-06, 5.0484e-07, 5.7095e-08, 6.6166e-03, 5.7011e-08, 1.0716e-07,\n",
       "         5.6999e-08, 8.7846e-03, 1.8466e-07, 9.0060e-03, 1.5584e-02, 2.8333e-07,\n",
       "         1.4513e-07],\n",
       "        [7.6861e-03, 4.4408e-03, 5.2413e-05, 1.7232e-05, 5.2335e-05, 1.2976e-02,\n",
       "         3.5930e-08, 3.5930e-08, 9.8719e-03, 7.6275e-05, 5.7061e-06, 6.7000e-07,\n",
       "         1.4887e-06, 3.0495e-05, 3.5929e-08, 4.8207e-08, 3.5929e-08, 3.5389e-03,\n",
       "         3.5929e-08, 7.3758e-07, 2.1150e-04, 7.9556e-08, 1.3682e-06, 3.2974e-05,\n",
       "         1.0027e-03],\n",
       "        [3.1221e-06, 4.9854e-06, 7.4310e-04, 1.3492e-03, 6.8492e-04, 5.8035e-07,\n",
       "         1.3272e-06, 1.3272e-06, 1.0868e-06, 4.5540e-04, 4.4489e-03, 1.7717e-02,\n",
       "         1.2957e-02, 1.2555e-03, 3.4551e-08, 2.0161e-04, 3.1564e-08, 6.9993e-06,\n",
       "         3.1555e-08, 1.2027e-04, 4.0704e-08, 3.4628e-05, 1.2518e-05, 3.8510e-08,\n",
       "         4.9207e-08],\n",
       "        [1.2563e-04, 4.3826e-05, 5.3432e-07, 1.7342e-07, 5.0518e-07, 1.5922e-04,\n",
       "         4.7009e-08, 4.7009e-08, 1.0680e-04, 7.0932e-07, 1.1571e-07, 6.4775e-08,\n",
       "         8.3871e-08, 3.5487e-07, 4.7002e-08, 1.4194e-06, 4.7001e-08, 3.5141e-05,\n",
       "         4.7001e-08, 6.2212e-05, 1.4225e-02, 2.5237e-05, 3.4043e-04, 8.0757e-03,\n",
       "         1.6796e-02],\n",
       "        [6.3378e-04, 8.0330e-04, 4.2452e-03, 5.0666e-03, 4.2702e-03, 2.4793e-04,\n",
       "         5.2549e-08, 5.2549e-08, 3.7773e-04, 3.9953e-03, 5.7398e-03, 3.7813e-03,\n",
       "         5.0199e-03, 4.8268e-03, 3.3975e-08, 3.3238e-07, 3.3811e-08, 9.8677e-04,\n",
       "         3.3812e-08, 1.8928e-06, 3.1404e-07, 1.7746e-07, 1.2172e-06, 1.0323e-07,\n",
       "         1.1714e-06],\n",
       "        [2.9082e-05, 1.2509e-05, 8.8510e-07, 3.5151e-07, 7.8970e-07, 2.9484e-05,\n",
       "         6.4401e-08, 6.4401e-08, 2.1363e-05, 8.9374e-07, 3.2504e-07, 2.6451e-07,\n",
       "         3.1675e-07, 6.7425e-07, 6.4157e-08, 5.0896e-04, 6.4144e-08, 1.0431e-05,\n",
       "         6.4143e-08, 3.1202e-03, 1.0268e-02, 3.5017e-03, 2.6930e-03, 1.2910e-02,\n",
       "         6.8904e-03],\n",
       "        [1.1575e-03, 1.5640e-03, 4.6642e-03, 4.9031e-03, 4.7388e-03, 5.4654e-04,\n",
       "         3.4090e-08, 3.4090e-08, 7.9933e-04, 4.6346e-03, 4.6341e-03, 2.2333e-03,\n",
       "         3.2406e-03, 4.9951e-03, 3.0884e-08, 9.9306e-08, 3.0850e-08, 1.8869e-03,\n",
       "         3.0850e-08, 5.5009e-07, 1.0674e-07, 5.4349e-08, 4.3275e-07, 4.3987e-08,\n",
       "         4.5701e-07],\n",
       "        [1.8470e-05, 5.8704e-06, 1.1340e-07, 6.4881e-08, 1.0392e-07, 2.4166e-05,\n",
       "         5.2026e-08, 5.2026e-08, 1.5387e-05, 1.1910e-07, 5.9701e-08, 5.5149e-08,\n",
       "         5.6196e-08, 8.5861e-08, 5.2026e-08, 1.7395e-04, 5.2026e-08, 3.5291e-06,\n",
       "         5.2026e-08, 1.1422e-03, 1.1906e-02, 8.0875e-04, 4.4538e-05, 1.2395e-02,\n",
       "         1.3461e-02],\n",
       "        [3.5277e-03, 4.6391e-03, 3.5894e-03, 2.9033e-03, 3.7063e-03, 2.3474e-03,\n",
       "         3.3184e-08, 3.3184e-08, 3.0986e-03, 4.1018e-03, 2.0011e-03, 5.9409e-04,\n",
       "         1.0476e-03, 3.3205e-03, 3.2767e-08, 5.0081e-08, 3.2763e-08, 5.1220e-03,\n",
       "         3.2763e-08, 2.1477e-07, 6.7960e-08, 3.6435e-08, 6.3160e-08, 3.6457e-08,\n",
       "         4.1122e-07],\n",
       "        [7.2286e-08, 6.9327e-08, 7.4577e-08, 6.5450e-08, 7.1227e-08, 6.7880e-08,\n",
       "         6.0629e-08, 6.0629e-08, 6.6725e-08, 6.8152e-08, 7.3647e-08, 1.2729e-07,\n",
       "         1.0158e-07, 7.5762e-08, 6.0611e-08, 3.2100e-02, 6.0611e-08, 6.7869e-08,\n",
       "         6.0611e-08, 5.6337e-03, 2.7583e-07, 2.2537e-03, 1.0217e-05, 6.0884e-07,\n",
       "         2.1885e-07],\n",
       "        [6.1681e-03, 6.4957e-03, 1.9834e-03, 1.3282e-03, 2.0619e-03, 4.2491e-03,\n",
       "         3.7587e-08, 3.7587e-08, 5.3261e-03, 2.5527e-03, 7.6087e-04, 1.5626e-04,\n",
       "         3.1741e-04, 1.6697e-03, 3.7528e-08, 5.0968e-08, 3.7527e-08, 6.9286e-03,\n",
       "         3.7527e-08, 2.8798e-07, 1.0992e-07, 4.3227e-08, 7.0120e-08, 4.3290e-08,\n",
       "         1.1266e-06],\n",
       "        [1.4998e-07, 8.8904e-08, 5.3049e-08, 5.2109e-08, 5.2771e-08, 1.7065e-07,\n",
       "         5.1926e-08, 5.1926e-08, 1.2516e-07, 5.2769e-08, 5.2107e-08, 5.2132e-08,\n",
       "         5.2094e-08, 5.2615e-08, 5.1926e-08, 7.1872e-03, 5.1926e-08, 7.1095e-08,\n",
       "         5.1926e-08, 1.5741e-02, 3.3711e-06, 1.6673e-02, 3.8491e-04, 3.9648e-06,\n",
       "         5.2547e-06],\n",
       "        [2.7272e-08, 2.7272e-08, 2.7396e-08, 2.7393e-08, 2.7403e-08, 2.7272e-08,\n",
       "         1.0351e-02, 1.0351e-02, 2.7272e-08, 2.7404e-08, 2.9848e-08, 4.4385e-08,\n",
       "         9.2509e-08, 2.7955e-08, 1.0928e-02, 2.7290e-08, 5.1290e-03, 2.7272e-08,\n",
       "         3.2411e-03, 2.7293e-08, 2.7272e-08, 2.7272e-08, 2.7371e-08, 2.7272e-08,\n",
       "         2.7272e-08],\n",
       "        [8.4269e-04, 1.1634e-03, 5.1398e-03, 5.4566e-03, 5.0757e-03, 2.8766e-04,\n",
       "         3.6371e-08, 3.6371e-08, 5.0189e-04, 4.9622e-03, 5.0880e-03, 2.2082e-03,\n",
       "         2.9227e-03, 5.1566e-03, 3.5984e-08, 1.8635e-07, 3.5980e-08, 1.1933e-03,\n",
       "         3.5980e-08, 5.6280e-07, 3.6490e-08, 5.1609e-08, 4.0624e-08, 3.6026e-08,\n",
       "         4.8000e-08],\n",
       "        [9.0576e-08, 7.8234e-08, 7.6505e-08, 7.6505e-08, 7.6505e-08, 1.3924e-07,\n",
       "         7.6505e-08, 7.6505e-08, 9.3651e-08, 7.6505e-08, 7.6505e-08, 7.6505e-08,\n",
       "         7.6505e-08, 7.6505e-08, 7.6505e-08, 7.6584e-05, 7.6505e-08, 7.7145e-08,\n",
       "         7.6505e-08, 2.0035e-03, 1.0459e-02, 2.1009e-03, 4.0611e-04, 1.6774e-02,\n",
       "         8.1788e-03],\n",
       "        [2.2565e-08, 2.2565e-08, 2.2567e-08, 2.2566e-08, 2.2567e-08, 2.2565e-08,\n",
       "         8.1915e-04, 8.1915e-04, 2.2565e-08, 2.2567e-08, 2.2587e-08, 2.2656e-08,\n",
       "         2.3074e-08, 2.2574e-08, 5.4546e-03, 2.2566e-08, 1.5048e-02, 2.2565e-08,\n",
       "         1.7859e-02, 2.2567e-08, 2.2565e-08, 2.2565e-08, 2.2573e-08, 2.2565e-08,\n",
       "         2.2565e-08],\n",
       "        [2.2719e-08, 2.2719e-08, 2.2996e-08, 2.3062e-08, 2.3010e-08, 2.2719e-08,\n",
       "         1.3271e-02, 1.3271e-02, 2.2719e-08, 2.2991e-08, 3.1622e-08, 9.7027e-08,\n",
       "         2.7309e-07, 2.4423e-08, 8.1240e-03, 2.2750e-08, 3.2961e-03, 2.2719e-08,\n",
       "         2.0380e-03, 2.2732e-08, 2.2719e-08, 2.2719e-08, 2.2723e-08, 2.2719e-08,\n",
       "         2.2719e-08]], grad_fn=<DivBackward0>)"
      ]
     },
     "execution_count": 30,
     "metadata": {},
     "output_type": "execute_result"
    }
   ],
   "source": [
    "cross_mats[0]"
   ]
  },
  {
   "cell_type": "code",
   "execution_count": 31,
   "metadata": {},
   "outputs": [
    {
     "data": {
      "image/png": "[encoded data removed]",
      "text/plain": [
       "<Figure size 432x288 with 2 Axes>"
      ]
     },
     "metadata": {},
     "output_type": "display_data"
    }
   ],
   "source": [
    "hmap(cross_mats[0])"
   ]
  },
  {
   "cell_type": "code",
   "execution_count": 32,
   "metadata": {},
   "outputs": [
    {
     "data": {
      "image/png": "[encoded data removed]",
      "text/plain": [
       "<Figure size 432x288 with 2 Axes>"
      ]
     },
     "metadata": {},
     "output_type": "display_data"
    }
   ],
   "source": [
    "hmap(M)\n",
    "plt.show()"
   ]
  },
  {
   "cell_type": "code",
   "execution_count": 33,
   "metadata": {},
   "outputs": [
    {
     "ename": "ModuleAttributeError",
     "evalue": "'CrossAttUnit' object has no attribute 'k'",
     "output_type": "error",
     "traceback": [
      "\u001b[0;31m---------------------------------------------------------------------------\u001b[0m",
      "\u001b[0;31mModuleAttributeError\u001b[0m                      Traceback (most recent call last)",
      "\u001b[0;32m<ipython-input-33-c427b501a315>\u001b[0m in \u001b[0;36m<module>\u001b[0;34m\u001b[0m\n\u001b[0;32m----> 1\u001b[0;31m \u001b[0mhmap\u001b[0m\u001b[0;34m(\u001b[0m\u001b[0mtorch\u001b[0m\u001b[0;34m.\u001b[0m\u001b[0mmatmul\u001b[0m\u001b[0;34m(\u001b[0m\u001b[0my\u001b[0m\u001b[0;34m,\u001b[0m \u001b[0mcrossatt\u001b[0m\u001b[0;34m.\u001b[0m\u001b[0mk\u001b[0m\u001b[0;34m)\u001b[0m\u001b[0;34m)\u001b[0m\u001b[0;34m\u001b[0m\u001b[0;34m\u001b[0m\u001b[0m\n\u001b[0m",
      "\u001b[0;32m~/anaconda3/envs/mol_ot/lib/python3.6/site-packages/torch/nn/modules/module.py\u001b[0m in \u001b[0;36m__getattr__\u001b[0;34m(self, name)\u001b[0m\n\u001b[1;32m    770\u001b[0m                 \u001b[0;32mreturn\u001b[0m \u001b[0mmodules\u001b[0m\u001b[0;34m[\u001b[0m\u001b[0mname\u001b[0m\u001b[0;34m]\u001b[0m\u001b[0;34m\u001b[0m\u001b[0;34m\u001b[0m\u001b[0m\n\u001b[1;32m    771\u001b[0m         raise ModuleAttributeError(\"'{}' object has no attribute '{}'\".format(\n\u001b[0;32m--> 772\u001b[0;31m             type(self).__name__, name))\n\u001b[0m\u001b[1;32m    773\u001b[0m \u001b[0;34m\u001b[0m\u001b[0m\n\u001b[1;32m    774\u001b[0m     \u001b[0;32mdef\u001b[0m \u001b[0m__setattr__\u001b[0m\u001b[0;34m(\u001b[0m\u001b[0mself\u001b[0m\u001b[0;34m,\u001b[0m \u001b[0mname\u001b[0m\u001b[0;34m:\u001b[0m \u001b[0mstr\u001b[0m\u001b[0;34m,\u001b[0m \u001b[0mvalue\u001b[0m\u001b[0;34m:\u001b[0m \u001b[0mUnion\u001b[0m\u001b[0;34m[\u001b[0m\u001b[0mTensor\u001b[0m\u001b[0;34m,\u001b[0m \u001b[0;34m'Module'\u001b[0m\u001b[0;34m]\u001b[0m\u001b[0;34m)\u001b[0m \u001b[0;34m->\u001b[0m \u001b[0;32mNone\u001b[0m\u001b[0;34m:\u001b[0m\u001b[0;34m\u001b[0m\u001b[0;34m\u001b[0m\u001b[0m\n",
      "\u001b[0;31mModuleAttributeError\u001b[0m: 'CrossAttUnit' object has no attribute 'k'"
     ]
    }
   ],
   "source": [
    "hmap(torch.matmul(y, crossatt.k))"
   ]
  },
  {
   "cell_type": "code",
   "execution_count": 34,
   "metadata": {},
   "outputs": [
    {
     "ename": "ModuleAttributeError",
     "evalue": "'CrossAttUnit' object has no attribute 'q'",
     "output_type": "error",
     "traceback": [
      "\u001b[0;31m---------------------------------------------------------------------------\u001b[0m",
      "\u001b[0;31mModuleAttributeError\u001b[0m                      Traceback (most recent call last)",
      "\u001b[0;32m<ipython-input-34-7abbcf1c18e7>\u001b[0m in \u001b[0;36m<module>\u001b[0;34m\u001b[0m\n\u001b[0;32m----> 1\u001b[0;31m \u001b[0mhmap\u001b[0m\u001b[0;34m(\u001b[0m\u001b[0mtorch\u001b[0m\u001b[0;34m.\u001b[0m\u001b[0mmatmul\u001b[0m\u001b[0;34m(\u001b[0m\u001b[0mcrossatt\u001b[0m\u001b[0;34m.\u001b[0m\u001b[0mq\u001b[0m\u001b[0;34m.\u001b[0m\u001b[0mT\u001b[0m\u001b[0;34m,\u001b[0m \u001b[0myhat\u001b[0m\u001b[0;34m.\u001b[0m\u001b[0mT\u001b[0m\u001b[0;34m)\u001b[0m\u001b[0;34m)\u001b[0m\u001b[0;34m\u001b[0m\u001b[0;34m\u001b[0m\u001b[0m\n\u001b[0m",
      "\u001b[0;32m~/anaconda3/envs/mol_ot/lib/python3.6/site-packages/torch/nn/modules/module.py\u001b[0m in \u001b[0;36m__getattr__\u001b[0;34m(self, name)\u001b[0m\n\u001b[1;32m    770\u001b[0m                 \u001b[0;32mreturn\u001b[0m \u001b[0mmodules\u001b[0m\u001b[0;34m[\u001b[0m\u001b[0mname\u001b[0m\u001b[0;34m]\u001b[0m\u001b[0;34m\u001b[0m\u001b[0;34m\u001b[0m\u001b[0m\n\u001b[1;32m    771\u001b[0m         raise ModuleAttributeError(\"'{}' object has no attribute '{}'\".format(\n\u001b[0;32m--> 772\u001b[0;31m             type(self).__name__, name))\n\u001b[0m\u001b[1;32m    773\u001b[0m \u001b[0;34m\u001b[0m\u001b[0m\n\u001b[1;32m    774\u001b[0m     \u001b[0;32mdef\u001b[0m \u001b[0m__setattr__\u001b[0m\u001b[0;34m(\u001b[0m\u001b[0mself\u001b[0m\u001b[0;34m,\u001b[0m \u001b[0mname\u001b[0m\u001b[0;34m:\u001b[0m \u001b[0mstr\u001b[0m\u001b[0;34m,\u001b[0m \u001b[0mvalue\u001b[0m\u001b[0;34m:\u001b[0m \u001b[0mUnion\u001b[0m\u001b[0;34m[\u001b[0m\u001b[0mTensor\u001b[0m\u001b[0;34m,\u001b[0m \u001b[0;34m'Module'\u001b[0m\u001b[0;34m]\u001b[0m\u001b[0;34m)\u001b[0m \u001b[0;34m->\u001b[0m \u001b[0;32mNone\u001b[0m\u001b[0;34m:\u001b[0m\u001b[0;34m\u001b[0m\u001b[0;34m\u001b[0m\u001b[0m\n",
      "\u001b[0;31mModuleAttributeError\u001b[0m: 'CrossAttUnit' object has no attribute 'q'"
     ]
    }
   ],
   "source": [
    "hmap(torch.matmul(crossatt.q.T, yhat.T))"
   ]
  },
  {
   "cell_type": "code",
   "execution_count": 35,
   "metadata": {},
   "outputs": [
    {
     "ename": "ModuleAttributeError",
     "evalue": "'CrossAttUnit' object has no attribute 'k1'",
     "output_type": "error",
     "traceback": [
      "\u001b[0;31m---------------------------------------------------------------------------\u001b[0m",
      "\u001b[0;31mModuleAttributeError\u001b[0m                      Traceback (most recent call last)",
      "\u001b[0;32m<ipython-input-35-59ab330e6887>\u001b[0m in \u001b[0;36m<module>\u001b[0;34m\u001b[0m\n\u001b[1;32m      2\u001b[0m \u001b[0;34m\u001b[0m\u001b[0m\n\u001b[1;32m      3\u001b[0m \u001b[0;31m# K * Y (GCN embedding)\u001b[0m\u001b[0;34m\u001b[0m\u001b[0;34m\u001b[0m\u001b[0;34m\u001b[0m\u001b[0m\n\u001b[0;32m----> 4\u001b[0;31m \u001b[0mproj\u001b[0m \u001b[0;34m=\u001b[0m \u001b[0mproject_2d\u001b[0m\u001b[0;34m(\u001b[0m\u001b[0mcrossatt\u001b[0m\u001b[0;34m.\u001b[0m\u001b[0mk1\u001b[0m\u001b[0;34m(\u001b[0m\u001b[0mF\u001b[0m\u001b[0;34m.\u001b[0m\u001b[0mleaky_relu\u001b[0m\u001b[0;34m(\u001b[0m\u001b[0mcrossatt\u001b[0m\u001b[0;34m.\u001b[0m\u001b[0mk0\u001b[0m\u001b[0;34m(\u001b[0m\u001b[0my\u001b[0m\u001b[0;34m)\u001b[0m\u001b[0;34m)\u001b[0m\u001b[0;34m)\u001b[0m\u001b[0;34m)\u001b[0m\u001b[0;34m\u001b[0m\u001b[0;34m\u001b[0m\u001b[0m\n\u001b[0m\u001b[1;32m      5\u001b[0m \u001b[0mplt\u001b[0m\u001b[0;34m.\u001b[0m\u001b[0mscatter\u001b[0m\u001b[0;34m(\u001b[0m\u001b[0mproj\u001b[0m\u001b[0;34m[\u001b[0m\u001b[0;36m0\u001b[0m\u001b[0;34m]\u001b[0m\u001b[0;34m,\u001b[0m \u001b[0mproj\u001b[0m\u001b[0;34m[\u001b[0m\u001b[0;36m1\u001b[0m\u001b[0;34m]\u001b[0m\u001b[0;34m)\u001b[0m\u001b[0;34m\u001b[0m\u001b[0;34m\u001b[0m\u001b[0m\n\u001b[1;32m      6\u001b[0m \u001b[0mplt\u001b[0m\u001b[0;34m.\u001b[0m\u001b[0mshow\u001b[0m\u001b[0;34m(\u001b[0m\u001b[0;34m)\u001b[0m\u001b[0;34m\u001b[0m\u001b[0;34m\u001b[0m\u001b[0m\n",
      "\u001b[0;32m~/anaconda3/envs/mol_ot/lib/python3.6/site-packages/torch/nn/modules/module.py\u001b[0m in \u001b[0;36m__getattr__\u001b[0;34m(self, name)\u001b[0m\n\u001b[1;32m    770\u001b[0m                 \u001b[0;32mreturn\u001b[0m \u001b[0mmodules\u001b[0m\u001b[0;34m[\u001b[0m\u001b[0mname\u001b[0m\u001b[0;34m]\u001b[0m\u001b[0;34m\u001b[0m\u001b[0;34m\u001b[0m\u001b[0m\n\u001b[1;32m    771\u001b[0m         raise ModuleAttributeError(\"'{}' object has no attribute '{}'\".format(\n\u001b[0;32m--> 772\u001b[0;31m             type(self).__name__, name))\n\u001b[0m\u001b[1;32m    773\u001b[0m \u001b[0;34m\u001b[0m\u001b[0m\n\u001b[1;32m    774\u001b[0m     \u001b[0;32mdef\u001b[0m \u001b[0m__setattr__\u001b[0m\u001b[0;34m(\u001b[0m\u001b[0mself\u001b[0m\u001b[0;34m,\u001b[0m \u001b[0mname\u001b[0m\u001b[0;34m:\u001b[0m \u001b[0mstr\u001b[0m\u001b[0;34m,\u001b[0m \u001b[0mvalue\u001b[0m\u001b[0;34m:\u001b[0m \u001b[0mUnion\u001b[0m\u001b[0;34m[\u001b[0m\u001b[0mTensor\u001b[0m\u001b[0;34m,\u001b[0m \u001b[0;34m'Module'\u001b[0m\u001b[0;34m]\u001b[0m\u001b[0;34m)\u001b[0m \u001b[0;34m->\u001b[0m \u001b[0;32mNone\u001b[0m\u001b[0;34m:\u001b[0m\u001b[0;34m\u001b[0m\u001b[0;34m\u001b[0m\u001b[0m\n",
      "\u001b[0;31mModuleAttributeError\u001b[0m: 'CrossAttUnit' object has no attribute 'k1'"
     ]
    }
   ],
   "source": [
    "# proj = project_2d(torch.matmul(y, crossatt.k))\n",
    "\n",
    "# K * Y (GCN embedding)\n",
    "proj = project_2d(crossatt.k1(F.leaky_relu(crossatt.k0(y))))\n",
    "plt.scatter(proj[0], proj[1])\n",
    "plt.show()"
   ]
  },
  {
   "cell_type": "code",
   "execution_count": 36,
   "metadata": {},
   "outputs": [
    {
     "name": "stderr",
     "output_type": "stream",
     "text": [
      "/home/octav/anaconda3/envs/mol_ot/lib/python3.6/site-packages/numpy/core/_asarray.py:136: ComplexWarning: Casting complex values to real discards the imaginary part\n",
      "  return array(a, dtype, copy=False, order=order, subok=True)\n"
     ]
    },
    {
     "data": {
      "image/png": "[encoded data removed]",
      "text/plain": [
       "<Figure size 432x288 with 1 Axes>"
      ]
     },
     "metadata": {},
     "output_type": "display_data"
    }
   ],
   "source": [
    "# Y (GCN embedding)\n",
    "proj = project_2d(y)\n",
    "plt.scatter(proj[0], proj[1])\n",
    "plt.show()"
   ]
  },
  {
   "cell_type": "code",
   "execution_count": 37,
   "metadata": {},
   "outputs": [
    {
     "data": {
      "image/png": "[encoded data removed]",
      "text/plain": [
       "<Figure size 432x288 with 1 Axes>"
      ]
     },
     "metadata": {},
     "output_type": "display_data"
    }
   ],
   "source": [
    "# Q * Yhat (barycenter embedding)\n",
    "proj = project_2d(crossatt.q1(F.leaky_relu(crossatt.q0(yhat))))\n",
    "plt.scatter(proj[0], proj[1])\n",
    "plt.show()"
   ]
  },
  {
   "cell_type": "code",
   "execution_count": 38,
   "metadata": {},
   "outputs": [
    {
     "data": {
      "image/png": "[encoded data removed]",
      "text/plain": [
       "<Figure size 432x288 with 1 Axes>"
      ]
     },
     "metadata": {},
     "output_type": "display_data"
    }
   ],
   "source": [
    "# Yhat (barycenter embedding)\n",
    "proj = project_2d(yhat)\n",
    "plt.scatter(proj[0], proj[1])\n",
    "plt.show()"
   ]
  },
  {
   "cell_type": "code",
   "execution_count": 39,
   "metadata": {},
   "outputs": [],
   "source": [
    "# check out errors from the penalty terms\n",
    "M_fgw, pred_bonds_nll, target_bonds_rescaled = fgw_loss(*pred_pack, tau = 1, ot_plans = cross_mats, debug = True)"
   ]
  },
  {
   "cell_type": "code",
   "execution_count": 40,
   "metadata": {},
   "outputs": [
    {
     "data": {
      "image/png": "[encoded data removed]",
      "text/plain": [
       "<Figure size 432x288 with 2 Axes>"
      ]
     },
     "metadata": {},
     "output_type": "display_data"
    }
   ],
   "source": [
    "hmap(M_fgw)"
   ]
  },
  {
   "cell_type": "code",
   "execution_count": 41,
   "metadata": {},
   "outputs": [
    {
     "data": {
      "image/png": "[encoded data removed]",
      "text/plain": [
       "<Figure size 432x288 with 2 Axes>"
      ]
     },
     "metadata": {},
     "output_type": "display_data"
    }
   ],
   "source": [
    "hmap(W * M_fgw)"
   ]
  },
  {
   "cell_type": "code",
   "execution_count": 49,
   "metadata": {},
   "outputs": [
    {
     "data": {
      "text/plain": [
       "torch.Size([22, 22, 5])"
      ]
     },
     "execution_count": 49,
     "metadata": {},
     "output_type": "execute_result"
    }
   ],
   "source": [
    "pred_bonds_nll.shape"
   ]
  },
  {
   "cell_type": "code",
   "execution_count": 50,
   "metadata": {},
   "outputs": [
    {
     "data": {
      "text/plain": [
       "torch.Size([22, 22, 5])"
      ]
     },
     "execution_count": 50,
     "metadata": {},
     "output_type": "execute_result"
    }
   ],
   "source": [
    "target_bonds_rescaled.shape"
   ]
  },
  {
   "cell_type": "code",
   "execution_count": 24,
   "metadata": {},
   "outputs": [
    {
     "data": {
      "text/plain": [
       "torch.Size([22, 150])"
      ]
     },
     "execution_count": 24,
     "metadata": {},
     "output_type": "execute_result"
    }
   ],
   "source": [
    "y.shape"
   ]
  },
  {
   "cell_type": "code",
   "execution_count": 25,
   "metadata": {},
   "outputs": [
    {
     "ename": "ModuleAttributeError",
     "evalue": "'CrossAttUnit' object has no attribute 'k'",
     "output_type": "error",
     "traceback": [
      "\u001b[0;31m---------------------------------------------------------------------------\u001b[0m",
      "\u001b[0;31mModuleAttributeError\u001b[0m                      Traceback (most recent call last)",
      "\u001b[0;32m<ipython-input-25-b91e85975a5f>\u001b[0m in \u001b[0;36m<module>\u001b[0;34m\u001b[0m\n\u001b[0;32m----> 1\u001b[0;31m \u001b[0mcrossatt\u001b[0m\u001b[0;34m.\u001b[0m\u001b[0mk\u001b[0m\u001b[0;34m.\u001b[0m\u001b[0mshape\u001b[0m\u001b[0;34m\u001b[0m\u001b[0;34m\u001b[0m\u001b[0m\n\u001b[0m",
      "\u001b[0;32m~/anaconda3/envs/mol_ot/lib/python3.6/site-packages/torch/nn/modules/module.py\u001b[0m in \u001b[0;36m__getattr__\u001b[0;34m(self, name)\u001b[0m\n\u001b[1;32m    770\u001b[0m                 \u001b[0;32mreturn\u001b[0m \u001b[0mmodules\u001b[0m\u001b[0;34m[\u001b[0m\u001b[0mname\u001b[0m\u001b[0;34m]\u001b[0m\u001b[0;34m\u001b[0m\u001b[0;34m\u001b[0m\u001b[0m\n\u001b[1;32m    771\u001b[0m         raise ModuleAttributeError(\"'{}' object has no attribute '{}'\".format(\n\u001b[0;32m--> 772\u001b[0;31m             type(self).__name__, name))\n\u001b[0m\u001b[1;32m    773\u001b[0m \u001b[0;34m\u001b[0m\u001b[0m\n\u001b[1;32m    774\u001b[0m     \u001b[0;32mdef\u001b[0m \u001b[0m__setattr__\u001b[0m\u001b[0;34m(\u001b[0m\u001b[0mself\u001b[0m\u001b[0;34m,\u001b[0m \u001b[0mname\u001b[0m\u001b[0;34m:\u001b[0m \u001b[0mstr\u001b[0m\u001b[0;34m,\u001b[0m \u001b[0mvalue\u001b[0m\u001b[0;34m:\u001b[0m \u001b[0mUnion\u001b[0m\u001b[0;34m[\u001b[0m\u001b[0mTensor\u001b[0m\u001b[0;34m,\u001b[0m \u001b[0;34m'Module'\u001b[0m\u001b[0;34m]\u001b[0m\u001b[0;34m)\u001b[0m \u001b[0;34m->\u001b[0m \u001b[0;32mNone\u001b[0m\u001b[0;34m:\u001b[0m\u001b[0;34m\u001b[0m\u001b[0;34m\u001b[0m\u001b[0m\n",
      "\u001b[0;31mModuleAttributeError\u001b[0m: 'CrossAttUnit' object has no attribute 'k'"
     ]
    }
   ],
   "source": [
    "crossatt.k.shape"
   ]
  },
  {
   "cell_type": "code",
   "execution_count": 26,
   "metadata": {},
   "outputs": [
    {
     "ename": "ModuleAttributeError",
     "evalue": "'CrossAttUnit' object has no attribute 'q'",
     "output_type": "error",
     "traceback": [
      "\u001b[0;31m---------------------------------------------------------------------------\u001b[0m",
      "\u001b[0;31mModuleAttributeError\u001b[0m                      Traceback (most recent call last)",
      "\u001b[0;32m<ipython-input-26-1a6248bf0130>\u001b[0m in \u001b[0;36m<module>\u001b[0;34m\u001b[0m\n\u001b[0;32m----> 1\u001b[0;31m \u001b[0mproj\u001b[0m \u001b[0;34m=\u001b[0m \u001b[0mproject_2d\u001b[0m\u001b[0;34m(\u001b[0m\u001b[0mtorch\u001b[0m\u001b[0;34m.\u001b[0m\u001b[0mmatmul\u001b[0m\u001b[0;34m(\u001b[0m\u001b[0mcrossatt\u001b[0m\u001b[0;34m.\u001b[0m\u001b[0mq\u001b[0m\u001b[0;34m.\u001b[0m\u001b[0mT\u001b[0m\u001b[0;34m,\u001b[0m \u001b[0myhat\u001b[0m\u001b[0;34m.\u001b[0m\u001b[0mT\u001b[0m\u001b[0;34m)\u001b[0m\u001b[0;34m)\u001b[0m\u001b[0;34m\u001b[0m\u001b[0;34m\u001b[0m\u001b[0m\n\u001b[0m\u001b[1;32m      2\u001b[0m \u001b[0mplt\u001b[0m\u001b[0;34m.\u001b[0m\u001b[0mscatter\u001b[0m\u001b[0;34m(\u001b[0m\u001b[0mproj\u001b[0m\u001b[0;34m[\u001b[0m\u001b[0;36m0\u001b[0m\u001b[0;34m]\u001b[0m\u001b[0;34m,\u001b[0m \u001b[0mproj\u001b[0m\u001b[0;34m[\u001b[0m\u001b[0;36m1\u001b[0m\u001b[0;34m]\u001b[0m\u001b[0;34m)\u001b[0m\u001b[0;34m\u001b[0m\u001b[0;34m\u001b[0m\u001b[0m\n\u001b[1;32m      3\u001b[0m \u001b[0mplt\u001b[0m\u001b[0;34m.\u001b[0m\u001b[0mshow\u001b[0m\u001b[0;34m(\u001b[0m\u001b[0;34m)\u001b[0m\u001b[0;34m\u001b[0m\u001b[0;34m\u001b[0m\u001b[0m\n",
      "\u001b[0;32m~/anaconda3/envs/mol_ot/lib/python3.6/site-packages/torch/nn/modules/module.py\u001b[0m in \u001b[0;36m__getattr__\u001b[0;34m(self, name)\u001b[0m\n\u001b[1;32m    770\u001b[0m                 \u001b[0;32mreturn\u001b[0m \u001b[0mmodules\u001b[0m\u001b[0;34m[\u001b[0m\u001b[0mname\u001b[0m\u001b[0;34m]\u001b[0m\u001b[0;34m\u001b[0m\u001b[0;34m\u001b[0m\u001b[0m\n\u001b[1;32m    771\u001b[0m         raise ModuleAttributeError(\"'{}' object has no attribute '{}'\".format(\n\u001b[0;32m--> 772\u001b[0;31m             type(self).__name__, name))\n\u001b[0m\u001b[1;32m    773\u001b[0m \u001b[0;34m\u001b[0m\u001b[0m\n\u001b[1;32m    774\u001b[0m     \u001b[0;32mdef\u001b[0m \u001b[0m__setattr__\u001b[0m\u001b[0;34m(\u001b[0m\u001b[0mself\u001b[0m\u001b[0;34m,\u001b[0m \u001b[0mname\u001b[0m\u001b[0;34m:\u001b[0m \u001b[0mstr\u001b[0m\u001b[0;34m,\u001b[0m \u001b[0mvalue\u001b[0m\u001b[0;34m:\u001b[0m \u001b[0mUnion\u001b[0m\u001b[0;34m[\u001b[0m\u001b[0mTensor\u001b[0m\u001b[0;34m,\u001b[0m \u001b[0;34m'Module'\u001b[0m\u001b[0;34m]\u001b[0m\u001b[0;34m)\u001b[0m \u001b[0;34m->\u001b[0m \u001b[0;32mNone\u001b[0m\u001b[0;34m:\u001b[0m\u001b[0;34m\u001b[0m\u001b[0;34m\u001b[0m\u001b[0m\n",
      "\u001b[0;31mModuleAttributeError\u001b[0m: 'CrossAttUnit' object has no attribute 'q'"
     ]
    }
   ],
   "source": [
    "proj = project_2d(torch.matmul(crossatt.q.T, yhat.T))\n",
    "plt.scatter(proj[0], proj[1])\n",
    "plt.show()"
   ]
  },
  {
   "cell_type": "code",
   "execution_count": 27,
   "metadata": {},
   "outputs": [
    {
     "ename": "ModuleAttributeError",
     "evalue": "'CrossAttUnit' object has no attribute 'q'",
     "output_type": "error",
     "traceback": [
      "\u001b[0;31m---------------------------------------------------------------------------\u001b[0m",
      "\u001b[0;31mModuleAttributeError\u001b[0m                      Traceback (most recent call last)",
      "\u001b[0;32m<ipython-input-27-a537d1daceea>\u001b[0m in \u001b[0;36m<module>\u001b[0;34m\u001b[0m\n\u001b[0;32m----> 1\u001b[0;31m \u001b[0mhmap\u001b[0m\u001b[0;34m(\u001b[0m\u001b[0mcrossatt\u001b[0m\u001b[0;34m.\u001b[0m\u001b[0mq\u001b[0m\u001b[0;34m)\u001b[0m\u001b[0;34m\u001b[0m\u001b[0;34m\u001b[0m\u001b[0m\n\u001b[0m",
      "\u001b[0;32m~/anaconda3/envs/mol_ot/lib/python3.6/site-packages/torch/nn/modules/module.py\u001b[0m in \u001b[0;36m__getattr__\u001b[0;34m(self, name)\u001b[0m\n\u001b[1;32m    770\u001b[0m                 \u001b[0;32mreturn\u001b[0m \u001b[0mmodules\u001b[0m\u001b[0;34m[\u001b[0m\u001b[0mname\u001b[0m\u001b[0;34m]\u001b[0m\u001b[0;34m\u001b[0m\u001b[0;34m\u001b[0m\u001b[0m\n\u001b[1;32m    771\u001b[0m         raise ModuleAttributeError(\"'{}' object has no attribute '{}'\".format(\n\u001b[0;32m--> 772\u001b[0;31m             type(self).__name__, name))\n\u001b[0m\u001b[1;32m    773\u001b[0m \u001b[0;34m\u001b[0m\u001b[0m\n\u001b[1;32m    774\u001b[0m     \u001b[0;32mdef\u001b[0m \u001b[0m__setattr__\u001b[0m\u001b[0;34m(\u001b[0m\u001b[0mself\u001b[0m\u001b[0;34m,\u001b[0m \u001b[0mname\u001b[0m\u001b[0;34m:\u001b[0m \u001b[0mstr\u001b[0m\u001b[0;34m,\u001b[0m \u001b[0mvalue\u001b[0m\u001b[0;34m:\u001b[0m \u001b[0mUnion\u001b[0m\u001b[0;34m[\u001b[0m\u001b[0mTensor\u001b[0m\u001b[0;34m,\u001b[0m \u001b[0;34m'Module'\u001b[0m\u001b[0;34m]\u001b[0m\u001b[0;34m)\u001b[0m \u001b[0;34m->\u001b[0m \u001b[0;32mNone\u001b[0m\u001b[0;34m:\u001b[0m\u001b[0;34m\u001b[0m\u001b[0;34m\u001b[0m\u001b[0m\n",
      "\u001b[0;31mModuleAttributeError\u001b[0m: 'CrossAttUnit' object has no attribute 'q'"
     ]
    }
   ],
   "source": [
    "hmap(crossatt.q)"
   ]
  },
  {
   "cell_type": "code",
   "execution_count": 28,
   "metadata": {},
   "outputs": [
    {
     "ename": "ModuleAttributeError",
     "evalue": "'CrossAttUnit' object has no attribute 'k'",
     "output_type": "error",
     "traceback": [
      "\u001b[0;31m---------------------------------------------------------------------------\u001b[0m",
      "\u001b[0;31mModuleAttributeError\u001b[0m                      Traceback (most recent call last)",
      "\u001b[0;32m<ipython-input-28-cf3601f7d35e>\u001b[0m in \u001b[0;36m<module>\u001b[0;34m\u001b[0m\n\u001b[0;32m----> 1\u001b[0;31m \u001b[0mhmap\u001b[0m\u001b[0;34m(\u001b[0m\u001b[0mcrossatt\u001b[0m\u001b[0;34m.\u001b[0m\u001b[0mk\u001b[0m\u001b[0;34m)\u001b[0m\u001b[0;34m\u001b[0m\u001b[0;34m\u001b[0m\u001b[0m\n\u001b[0m",
      "\u001b[0;32m~/anaconda3/envs/mol_ot/lib/python3.6/site-packages/torch/nn/modules/module.py\u001b[0m in \u001b[0;36m__getattr__\u001b[0;34m(self, name)\u001b[0m\n\u001b[1;32m    770\u001b[0m                 \u001b[0;32mreturn\u001b[0m \u001b[0mmodules\u001b[0m\u001b[0;34m[\u001b[0m\u001b[0mname\u001b[0m\u001b[0;34m]\u001b[0m\u001b[0;34m\u001b[0m\u001b[0;34m\u001b[0m\u001b[0m\n\u001b[1;32m    771\u001b[0m         raise ModuleAttributeError(\"'{}' object has no attribute '{}'\".format(\n\u001b[0;32m--> 772\u001b[0;31m             type(self).__name__, name))\n\u001b[0m\u001b[1;32m    773\u001b[0m \u001b[0;34m\u001b[0m\u001b[0m\n\u001b[1;32m    774\u001b[0m     \u001b[0;32mdef\u001b[0m \u001b[0m__setattr__\u001b[0m\u001b[0;34m(\u001b[0m\u001b[0mself\u001b[0m\u001b[0;34m,\u001b[0m \u001b[0mname\u001b[0m\u001b[0;34m:\u001b[0m \u001b[0mstr\u001b[0m\u001b[0;34m,\u001b[0m \u001b[0mvalue\u001b[0m\u001b[0;34m:\u001b[0m \u001b[0mUnion\u001b[0m\u001b[0;34m[\u001b[0m\u001b[0mTensor\u001b[0m\u001b[0;34m,\u001b[0m \u001b[0;34m'Module'\u001b[0m\u001b[0;34m]\u001b[0m\u001b[0;34m)\u001b[0m \u001b[0;34m->\u001b[0m \u001b[0;32mNone\u001b[0m\u001b[0;34m:\u001b[0m\u001b[0;34m\u001b[0m\u001b[0;34m\u001b[0m\u001b[0m\n",
      "\u001b[0;31mModuleAttributeError\u001b[0m: 'CrossAttUnit' object has no attribute 'k'"
     ]
    }
   ],
   "source": [
    "hmap(crossatt.k)"
   ]
  },
  {
   "cell_type": "code",
   "execution_count": 29,
   "metadata": {},
   "outputs": [
    {
     "data": {
      "image/png": "[encoded data removed]",
      "text/plain": [
       "<Figure size 432x288 with 2 Axes>"
      ]
     },
     "metadata": {
      "needs_background": "light"
     },
     "output_type": "display_data"
    }
   ],
   "source": [
    "hmap(y)"
   ]
  },
  {
   "cell_type": "code",
   "execution_count": 30,
   "metadata": {},
   "outputs": [
    {
     "data": {
      "image/png": "[encoded data removed]",
      "text/plain": [
       "<Figure size 432x288 with 2 Axes>"
      ]
     },
     "metadata": {
      "needs_background": "light"
     },
     "output_type": "display_data"
    }
   ],
   "source": [
    "hmap(yhat)"
   ]
  },
  {
   "cell_type": "code",
   "execution_count": 31,
   "metadata": {},
   "outputs": [
    {
     "data": {
      "text/plain": [
       "tensor([0.0357, 0.0524, 0.0526, 0.0337, 0.0506, 0.0330, 0.0512, 0.0335, 0.0341,\n",
       "        0.0509, 0.0495, 0.0482, 0.0486, 0.0496, 0.0421, 0.0336, 0.0505, 0.0496,\n",
       "        0.0505, 0.0533, 0.0334, 0.0634], grad_fn=<SumBackward1>)"
      ]
     },
     "execution_count": 31,
     "metadata": {},
     "output_type": "execute_result"
    }
   ],
   "source": [
    "cross_mats[0].sum(axis = 0)"
   ]
  },
  {
   "cell_type": "code",
   "execution_count": 32,
   "metadata": {},
   "outputs": [
    {
     "data": {
      "text/plain": [
       "tensor([0.0455, 0.0455, 0.0455, 0.0455, 0.0455, 0.0455, 0.0455, 0.0455, 0.0455,\n",
       "        0.0455, 0.0455, 0.0455, 0.0455, 0.0455, 0.0455, 0.0455, 0.0455, 0.0455,\n",
       "        0.0455, 0.0455, 0.0455, 0.0455], grad_fn=<SumBackward1>)"
      ]
     },
     "execution_count": 32,
     "metadata": {},
     "output_type": "execute_result"
    }
   ],
   "source": [
    "cross_mats[0].sum(axis = 1)"
   ]
  },
  {
   "cell_type": "code",
   "execution_count": 33,
   "metadata": {},
   "outputs": [
    {
     "ename": "RuntimeError",
     "evalue": "element 0 of tensors does not require grad and does not have a grad_fn",
     "output_type": "error",
     "traceback": [
      "\u001b[0;31m---------------------------------------------------------------------------\u001b[0m",
      "\u001b[0;31mRuntimeError\u001b[0m                              Traceback (most recent call last)",
      "\u001b[0;32m<ipython-input-33-ce2ff8309f7b>\u001b[0m in \u001b[0;36m<module>\u001b[0;34m\u001b[0m\n\u001b[1;32m      1\u001b[0m \u001b[0mG_fgw\u001b[0m \u001b[0;34m=\u001b[0m \u001b[0mgrad\u001b[0m\u001b[0;34m(\u001b[0m\u001b[0mfgw_loss_item\u001b[0m\u001b[0;34m,\u001b[0m \u001b[0mx_embedding\u001b[0m\u001b[0;34m,\u001b[0m \u001b[0mretain_graph\u001b[0m \u001b[0;34m=\u001b[0m \u001b[0;32mTrue\u001b[0m\u001b[0;34m)\u001b[0m\u001b[0;34m\u001b[0m\u001b[0;34m\u001b[0m\u001b[0m\n\u001b[0;32m----> 2\u001b[0;31m \u001b[0mG_euler\u001b[0m \u001b[0;34m=\u001b[0m \u001b[0mgrad\u001b[0m\u001b[0;34m(\u001b[0m\u001b[0mpen_loss\u001b[0m\u001b[0;34m[\u001b[0m\u001b[0;36m2\u001b[0m\u001b[0;34m]\u001b[0m\u001b[0;34m,\u001b[0m \u001b[0mbonds_logits\u001b[0m\u001b[0;34m,\u001b[0m \u001b[0mretain_graph\u001b[0m \u001b[0;34m=\u001b[0m \u001b[0;32mTrue\u001b[0m\u001b[0;34m)\u001b[0m\u001b[0;34m\u001b[0m\u001b[0;34m\u001b[0m\u001b[0m\n\u001b[0m\u001b[1;32m      3\u001b[0m \u001b[0mG_k\u001b[0m \u001b[0;34m=\u001b[0m \u001b[0mgrad\u001b[0m\u001b[0;34m(\u001b[0m\u001b[0mfgw_loss_item\u001b[0m\u001b[0;34m,\u001b[0m \u001b[0mcrossatt\u001b[0m\u001b[0;34m.\u001b[0m\u001b[0mk\u001b[0m\u001b[0;34m,\u001b[0m \u001b[0mretain_graph\u001b[0m \u001b[0;34m=\u001b[0m \u001b[0;32mTrue\u001b[0m\u001b[0;34m,\u001b[0m \u001b[0mallow_unused\u001b[0m \u001b[0;34m=\u001b[0m \u001b[0;32mTrue\u001b[0m\u001b[0;34m)\u001b[0m\u001b[0;34m\u001b[0m\u001b[0;34m\u001b[0m\u001b[0m\n\u001b[1;32m      4\u001b[0m \u001b[0mG_q\u001b[0m \u001b[0;34m=\u001b[0m \u001b[0mgrad\u001b[0m\u001b[0;34m(\u001b[0m\u001b[0mfgw_loss_item\u001b[0m\u001b[0;34m,\u001b[0m \u001b[0mcrossatt\u001b[0m\u001b[0;34m.\u001b[0m\u001b[0mq\u001b[0m\u001b[0;34m,\u001b[0m \u001b[0mretain_graph\u001b[0m \u001b[0;34m=\u001b[0m \u001b[0;32mTrue\u001b[0m\u001b[0;34m,\u001b[0m \u001b[0mallow_unused\u001b[0m \u001b[0;34m=\u001b[0m \u001b[0;32mTrue\u001b[0m\u001b[0;34m)\u001b[0m\u001b[0;34m\u001b[0m\u001b[0;34m\u001b[0m\u001b[0m\n\u001b[1;32m      5\u001b[0m \u001b[0;34m\u001b[0m\u001b[0m\n",
      "\u001b[0;32m~/anaconda3/envs/mol_ot/lib/python3.6/site-packages/torch/autograd/__init__.py\u001b[0m in \u001b[0;36mgrad\u001b[0;34m(outputs, inputs, grad_outputs, retain_graph, create_graph, only_inputs, allow_unused)\u001b[0m\n\u001b[1;32m    190\u001b[0m     return Variable._execution_engine.run_backward(\n\u001b[1;32m    191\u001b[0m         \u001b[0moutputs\u001b[0m\u001b[0;34m,\u001b[0m \u001b[0mgrad_outputs\u001b[0m\u001b[0;34m,\u001b[0m \u001b[0mretain_graph\u001b[0m\u001b[0;34m,\u001b[0m \u001b[0mcreate_graph\u001b[0m\u001b[0;34m,\u001b[0m\u001b[0;34m\u001b[0m\u001b[0;34m\u001b[0m\u001b[0m\n\u001b[0;32m--> 192\u001b[0;31m         inputs, allow_unused)\n\u001b[0m\u001b[1;32m    193\u001b[0m \u001b[0;34m\u001b[0m\u001b[0m\n\u001b[1;32m    194\u001b[0m \u001b[0;34m\u001b[0m\u001b[0m\n",
      "\u001b[0;31mRuntimeError\u001b[0m: element 0 of tensors does not require grad and does not have a grad_fn"
     ]
    }
   ],
   "source": [
    "G_fgw = grad(fgw_loss_item, x_embedding, retain_graph = True)\n",
    "G_euler = grad(pen_loss[2], bonds_logits, retain_graph = True)\n",
    "G_k = grad(fgw_loss_item, crossatt.k, retain_graph = True, allow_unused = True)\n",
    "G_q = grad(fgw_loss_item, crossatt.q, retain_graph = True, allow_unused = True)\n",
    "\n",
    "print(G_euler[0].abs().mean().item())\n",
    "print(G_fgw[0].abs().mean().item())\n",
    "print()\n",
    "print(np.mean((torch.sum(G_euler[0], dim = 1) == 0).cpu().detach().numpy()))\n",
    "print(np.mean((torch.sum(G_fgw[0], dim = 1) == 0).cpu().detach().numpy()))\n",
    "print()\n",
    "print(symbols_logits.abs().mean().item())\n",
    "print(bonds_logits.abs().mean().item())"
   ]
  },
  {
   "cell_type": "code",
   "execution_count": 34,
   "metadata": {},
   "outputs": [
    {
     "data": {
      "image/png": "[encoded data removed]",
      "text/plain": [
       "<Figure size 432x288 with 2 Axes>"
      ]
     },
     "metadata": {
      "needs_background": "light"
     },
     "output_type": "display_data"
    }
   ],
   "source": [
    "hmap(grad(cross_mats[idx][0,0], yhat, retain_graph = True)[0])"
   ]
  },
  {
   "cell_type": "code",
   "execution_count": 35,
   "metadata": {},
   "outputs": [
    {
     "data": {
      "text/plain": [
       "tensor([[-8.7584e-06,  1.1433e-05, -1.5590e-05,  ..., -1.5702e-05,\n",
       "          1.3490e-06, -5.6331e-06],\n",
       "        [ 1.1783e-05, -3.4147e-06,  1.7988e-05,  ...,  2.3681e-05,\n",
       "          2.4206e-06,  1.6833e-05],\n",
       "        [ 1.2964e-03, -8.8816e-04,  1.8948e-03,  ...,  2.1740e-03,\n",
       "         -3.0954e-04,  4.8717e-04],\n",
       "        ...,\n",
       "        [-2.3757e-08,  5.4631e-08, -2.7509e-08,  ..., -1.7404e-08,\n",
       "         -1.6488e-08,  9.0098e-09],\n",
       "        [-1.1862e-04,  1.1880e-04, -2.0369e-04,  ..., -2.3381e-04,\n",
       "          6.3850e-05, -9.2342e-05],\n",
       "        [-1.3955e-06,  1.0099e-05, -8.8733e-06,  ..., -5.0284e-06,\n",
       "          1.2868e-06,  4.5920e-06]])"
      ]
     },
     "execution_count": 35,
     "metadata": {},
     "output_type": "execute_result"
    }
   ],
   "source": [
    "grad(cross_mats[idx][0,2], yhat, retain_graph = True)[0]"
   ]
  },
  {
   "cell_type": "code",
   "execution_count": 36,
   "metadata": {},
   "outputs": [
    {
     "ename": "ModuleAttributeError",
     "evalue": "'CrossAttUnit' object has no attribute 'q'",
     "output_type": "error",
     "traceback": [
      "\u001b[0;31m---------------------------------------------------------------------------\u001b[0m",
      "\u001b[0;31mModuleAttributeError\u001b[0m                      Traceback (most recent call last)",
      "\u001b[0;32m<ipython-input-36-5a638466444b>\u001b[0m in \u001b[0;36m<module>\u001b[0;34m\u001b[0m\n\u001b[0;32m----> 1\u001b[0;31m \u001b[0mgrad\u001b[0m\u001b[0;34m(\u001b[0m\u001b[0mcrossatt\u001b[0m\u001b[0;34m.\u001b[0m\u001b[0mq\u001b[0m\u001b[0;34m[\u001b[0m\u001b[0;36m0\u001b[0m\u001b[0;34m,\u001b[0m\u001b[0;36m0\u001b[0m\u001b[0;34m]\u001b[0m\u001b[0;34m,\u001b[0m \u001b[0myhat\u001b[0m\u001b[0;34m,\u001b[0m \u001b[0mretain_graph\u001b[0m \u001b[0;34m=\u001b[0m \u001b[0;32mTrue\u001b[0m\u001b[0;34m,\u001b[0m \u001b[0mallow_unused\u001b[0m \u001b[0;34m=\u001b[0m \u001b[0;32mTrue\u001b[0m\u001b[0;34m)\u001b[0m\u001b[0;34m\u001b[0m\u001b[0;34m\u001b[0m\u001b[0m\n\u001b[0m",
      "\u001b[0;32m~/anaconda3/envs/mol_ot/lib/python3.6/site-packages/torch/nn/modules/module.py\u001b[0m in \u001b[0;36m__getattr__\u001b[0;34m(self, name)\u001b[0m\n\u001b[1;32m    770\u001b[0m                 \u001b[0;32mreturn\u001b[0m \u001b[0mmodules\u001b[0m\u001b[0;34m[\u001b[0m\u001b[0mname\u001b[0m\u001b[0;34m]\u001b[0m\u001b[0;34m\u001b[0m\u001b[0;34m\u001b[0m\u001b[0m\n\u001b[1;32m    771\u001b[0m         raise ModuleAttributeError(\"'{}' object has no attribute '{}'\".format(\n\u001b[0;32m--> 772\u001b[0;31m             type(self).__name__, name))\n\u001b[0m\u001b[1;32m    773\u001b[0m \u001b[0;34m\u001b[0m\u001b[0m\n\u001b[1;32m    774\u001b[0m     \u001b[0;32mdef\u001b[0m \u001b[0m__setattr__\u001b[0m\u001b[0;34m(\u001b[0m\u001b[0mself\u001b[0m\u001b[0;34m,\u001b[0m \u001b[0mname\u001b[0m\u001b[0;34m:\u001b[0m \u001b[0mstr\u001b[0m\u001b[0;34m,\u001b[0m \u001b[0mvalue\u001b[0m\u001b[0;34m:\u001b[0m \u001b[0mUnion\u001b[0m\u001b[0;34m[\u001b[0m\u001b[0mTensor\u001b[0m\u001b[0;34m,\u001b[0m \u001b[0;34m'Module'\u001b[0m\u001b[0;34m]\u001b[0m\u001b[0;34m)\u001b[0m \u001b[0;34m->\u001b[0m \u001b[0;32mNone\u001b[0m\u001b[0;34m:\u001b[0m\u001b[0;34m\u001b[0m\u001b[0;34m\u001b[0m\u001b[0m\n",
      "\u001b[0;31mModuleAttributeError\u001b[0m: 'CrossAttUnit' object has no attribute 'q'"
     ]
    }
   ],
   "source": [
    "grad(crossatt.q[0,0], yhat, retain_graph = True, allow_unused = True)"
   ]
  },
  {
   "cell_type": "code",
   "execution_count": 37,
   "metadata": {},
   "outputs": [
    {
     "ename": "ModuleAttributeError",
     "evalue": "'CrossAttUnit' object has no attribute 'q'",
     "output_type": "error",
     "traceback": [
      "\u001b[0;31m---------------------------------------------------------------------------\u001b[0m",
      "\u001b[0;31mModuleAttributeError\u001b[0m                      Traceback (most recent call last)",
      "\u001b[0;32m<ipython-input-37-f139ae1eb471>\u001b[0m in \u001b[0;36m<module>\u001b[0;34m\u001b[0m\n\u001b[0;32m----> 1\u001b[0;31m \u001b[0mcrossatt\u001b[0m\u001b[0;34m.\u001b[0m\u001b[0mq\u001b[0m\u001b[0;34m\u001b[0m\u001b[0;34m\u001b[0m\u001b[0m\n\u001b[0m",
      "\u001b[0;32m~/anaconda3/envs/mol_ot/lib/python3.6/site-packages/torch/nn/modules/module.py\u001b[0m in \u001b[0;36m__getattr__\u001b[0;34m(self, name)\u001b[0m\n\u001b[1;32m    770\u001b[0m                 \u001b[0;32mreturn\u001b[0m \u001b[0mmodules\u001b[0m\u001b[0;34m[\u001b[0m\u001b[0mname\u001b[0m\u001b[0;34m]\u001b[0m\u001b[0;34m\u001b[0m\u001b[0;34m\u001b[0m\u001b[0m\n\u001b[1;32m    771\u001b[0m         raise ModuleAttributeError(\"'{}' object has no attribute '{}'\".format(\n\u001b[0;32m--> 772\u001b[0;31m             type(self).__name__, name))\n\u001b[0m\u001b[1;32m    773\u001b[0m \u001b[0;34m\u001b[0m\u001b[0m\n\u001b[1;32m    774\u001b[0m     \u001b[0;32mdef\u001b[0m \u001b[0m__setattr__\u001b[0m\u001b[0;34m(\u001b[0m\u001b[0mself\u001b[0m\u001b[0;34m,\u001b[0m \u001b[0mname\u001b[0m\u001b[0;34m:\u001b[0m \u001b[0mstr\u001b[0m\u001b[0;34m,\u001b[0m \u001b[0mvalue\u001b[0m\u001b[0;34m:\u001b[0m \u001b[0mUnion\u001b[0m\u001b[0;34m[\u001b[0m\u001b[0mTensor\u001b[0m\u001b[0;34m,\u001b[0m \u001b[0;34m'Module'\u001b[0m\u001b[0;34m]\u001b[0m\u001b[0;34m)\u001b[0m \u001b[0;34m->\u001b[0m \u001b[0;32mNone\u001b[0m\u001b[0;34m:\u001b[0m\u001b[0;34m\u001b[0m\u001b[0;34m\u001b[0m\u001b[0m\n",
      "\u001b[0;31mModuleAttributeError\u001b[0m: 'CrossAttUnit' object has no attribute 'q'"
     ]
    }
   ],
   "source": [
    "crossatt.q"
   ]
  },
  {
   "cell_type": "code",
   "execution_count": 38,
   "metadata": {},
   "outputs": [
    {
     "ename": "ModuleAttributeError",
     "evalue": "'CrossAttUnit' object has no attribute 'q'",
     "output_type": "error",
     "traceback": [
      "\u001b[0;31m---------------------------------------------------------------------------\u001b[0m",
      "\u001b[0;31mModuleAttributeError\u001b[0m                      Traceback (most recent call last)",
      "\u001b[0;32m<ipython-input-38-f139ae1eb471>\u001b[0m in \u001b[0;36m<module>\u001b[0;34m\u001b[0m\n\u001b[0;32m----> 1\u001b[0;31m \u001b[0mcrossatt\u001b[0m\u001b[0;34m.\u001b[0m\u001b[0mq\u001b[0m\u001b[0;34m\u001b[0m\u001b[0;34m\u001b[0m\u001b[0m\n\u001b[0m",
      "\u001b[0;32m~/anaconda3/envs/mol_ot/lib/python3.6/site-packages/torch/nn/modules/module.py\u001b[0m in \u001b[0;36m__getattr__\u001b[0;34m(self, name)\u001b[0m\n\u001b[1;32m    770\u001b[0m                 \u001b[0;32mreturn\u001b[0m \u001b[0mmodules\u001b[0m\u001b[0;34m[\u001b[0m\u001b[0mname\u001b[0m\u001b[0;34m]\u001b[0m\u001b[0;34m\u001b[0m\u001b[0;34m\u001b[0m\u001b[0m\n\u001b[1;32m    771\u001b[0m         raise ModuleAttributeError(\"'{}' object has no attribute '{}'\".format(\n\u001b[0;32m--> 772\u001b[0;31m             type(self).__name__, name))\n\u001b[0m\u001b[1;32m    773\u001b[0m \u001b[0;34m\u001b[0m\u001b[0m\n\u001b[1;32m    774\u001b[0m     \u001b[0;32mdef\u001b[0m \u001b[0m__setattr__\u001b[0m\u001b[0;34m(\u001b[0m\u001b[0mself\u001b[0m\u001b[0;34m,\u001b[0m \u001b[0mname\u001b[0m\u001b[0;34m:\u001b[0m \u001b[0mstr\u001b[0m\u001b[0;34m,\u001b[0m \u001b[0mvalue\u001b[0m\u001b[0;34m:\u001b[0m \u001b[0mUnion\u001b[0m\u001b[0;34m[\u001b[0m\u001b[0mTensor\u001b[0m\u001b[0;34m,\u001b[0m \u001b[0;34m'Module'\u001b[0m\u001b[0;34m]\u001b[0m\u001b[0;34m)\u001b[0m \u001b[0;34m->\u001b[0m \u001b[0;32mNone\u001b[0m\u001b[0;34m:\u001b[0m\u001b[0;34m\u001b[0m\u001b[0;34m\u001b[0m\u001b[0m\n",
      "\u001b[0;31mModuleAttributeError\u001b[0m: 'CrossAttUnit' object has no attribute 'q'"
     ]
    }
   ],
   "source": [
    "crossatt.q"
   ]
  },
  {
   "cell_type": "markdown",
   "metadata": {},
   "source": [
    "# get 2d projections of embedding"
   ]
  },
  {
   "cell_type": "code",
   "execution_count": 41,
   "metadata": {},
   "outputs": [
    {
     "data": {
      "text/plain": [
       "torch.Size([22, 150])"
      ]
     },
     "execution_count": 41,
     "metadata": {},
     "output_type": "execute_result"
    }
   ],
   "source": [
    "x_embedding.shape"
   ]
  },
  {
   "cell_type": "code",
   "execution_count": 42,
   "metadata": {},
   "outputs": [
    {
     "name": "stdout",
     "output_type": "stream",
     "text": [
      "Model name: model_deepsets-attention-sinknew-test8_1000\n",
      "Type=deepsets, random=False, epoch=1000, index=0\n"
     ]
    },
    {
     "data": {
      "image/png": "[encoded data removed]",
      "text/plain": [
       "<Figure size 432x288 with 1 Axes>"
      ]
     },
     "metadata": {
      "needs_background": "light"
     },
     "output_type": "display_data"
    }
   ],
   "source": [
    "print (\"Model name:\", model_name)\n",
    "print (\"Type={}, random={}, epoch={}, index={}\".format(model_type, config.cross_att_random, model_iter, idx))\n",
    "plt.scatter(proj[0], proj[1])\n",
    "plt.show()"
   ]
  },
  {
   "cell_type": "code",
   "execution_count": 71,
   "metadata": {},
   "outputs": [],
   "source": [
    "yhat_np = yhat.cpu().detach().numpy()\n",
    "yhat_mean = np.mean(yhat_np.T, axis = 1)\n",
    "yhat_nomean = yhat_np - yhat_mean\n",
    "cov = np.cov(yhat_nomean.T)\n",
    "values, vectors = np.linalg.eig(cov)\n",
    "proj = vectors[:,:2].T.dot(yhat_nomean.T)"
   ]
  },
  {
   "cell_type": "code",
   "execution_count": 72,
   "metadata": {},
   "outputs": [
    {
     "ename": "LinAlgError",
     "evalue": "Last 2 dimensions of the array must be square",
     "output_type": "error",
     "traceback": [
      "\u001b[0;31m---------------------------------------------------------------------------\u001b[0m",
      "\u001b[0;31mLinAlgError\u001b[0m                               Traceback (most recent call last)",
      "\u001b[0;32m<ipython-input-72-f2cfa682893c>\u001b[0m in \u001b[0;36m<module>\u001b[0;34m\u001b[0m\n\u001b[0;32m----> 1\u001b[0;31m \u001b[0mnp\u001b[0m\u001b[0;34m.\u001b[0m\u001b[0mlinalg\u001b[0m\u001b[0;34m.\u001b[0m\u001b[0meig\u001b[0m\u001b[0;34m(\u001b[0m\u001b[0myhat_np\u001b[0m\u001b[0;34m)\u001b[0m\u001b[0;34m\u001b[0m\u001b[0;34m\u001b[0m\u001b[0m\n\u001b[0m",
      "\u001b[0;32m<__array_function__ internals>\u001b[0m in \u001b[0;36meig\u001b[0;34m(*args, **kwargs)\u001b[0m\n",
      "\u001b[0;32m~/anaconda3/envs/mol_ot/lib/python3.6/site-packages/numpy/linalg/linalg.py\u001b[0m in \u001b[0;36meig\u001b[0;34m(a)\u001b[0m\n\u001b[1;32m   1315\u001b[0m     \u001b[0ma\u001b[0m\u001b[0;34m,\u001b[0m \u001b[0mwrap\u001b[0m \u001b[0;34m=\u001b[0m \u001b[0m_makearray\u001b[0m\u001b[0;34m(\u001b[0m\u001b[0ma\u001b[0m\u001b[0;34m)\u001b[0m\u001b[0;34m\u001b[0m\u001b[0;34m\u001b[0m\u001b[0m\n\u001b[1;32m   1316\u001b[0m     \u001b[0m_assert_stacked_2d\u001b[0m\u001b[0;34m(\u001b[0m\u001b[0ma\u001b[0m\u001b[0;34m)\u001b[0m\u001b[0;34m\u001b[0m\u001b[0;34m\u001b[0m\u001b[0m\n\u001b[0;32m-> 1317\u001b[0;31m     \u001b[0m_assert_stacked_square\u001b[0m\u001b[0;34m(\u001b[0m\u001b[0ma\u001b[0m\u001b[0;34m)\u001b[0m\u001b[0;34m\u001b[0m\u001b[0;34m\u001b[0m\u001b[0m\n\u001b[0m\u001b[1;32m   1318\u001b[0m     \u001b[0m_assert_finite\u001b[0m\u001b[0;34m(\u001b[0m\u001b[0ma\u001b[0m\u001b[0;34m)\u001b[0m\u001b[0;34m\u001b[0m\u001b[0;34m\u001b[0m\u001b[0m\n\u001b[1;32m   1319\u001b[0m     \u001b[0mt\u001b[0m\u001b[0;34m,\u001b[0m \u001b[0mresult_t\u001b[0m \u001b[0;34m=\u001b[0m \u001b[0m_commonType\u001b[0m\u001b[0;34m(\u001b[0m\u001b[0ma\u001b[0m\u001b[0;34m)\u001b[0m\u001b[0;34m\u001b[0m\u001b[0;34m\u001b[0m\u001b[0m\n",
      "\u001b[0;32m~/anaconda3/envs/mol_ot/lib/python3.6/site-packages/numpy/linalg/linalg.py\u001b[0m in \u001b[0;36m_assert_stacked_square\u001b[0;34m(*arrays)\u001b[0m\n\u001b[1;32m    202\u001b[0m         \u001b[0mm\u001b[0m\u001b[0;34m,\u001b[0m \u001b[0mn\u001b[0m \u001b[0;34m=\u001b[0m \u001b[0ma\u001b[0m\u001b[0;34m.\u001b[0m\u001b[0mshape\u001b[0m\u001b[0;34m[\u001b[0m\u001b[0;34m-\u001b[0m\u001b[0;36m2\u001b[0m\u001b[0;34m:\u001b[0m\u001b[0;34m]\u001b[0m\u001b[0;34m\u001b[0m\u001b[0;34m\u001b[0m\u001b[0m\n\u001b[1;32m    203\u001b[0m         \u001b[0;32mif\u001b[0m \u001b[0mm\u001b[0m \u001b[0;34m!=\u001b[0m \u001b[0mn\u001b[0m\u001b[0;34m:\u001b[0m\u001b[0;34m\u001b[0m\u001b[0;34m\u001b[0m\u001b[0m\n\u001b[0;32m--> 204\u001b[0;31m             \u001b[0;32mraise\u001b[0m \u001b[0mLinAlgError\u001b[0m\u001b[0;34m(\u001b[0m\u001b[0;34m'Last 2 dimensions of the array must be square'\u001b[0m\u001b[0;34m)\u001b[0m\u001b[0;34m\u001b[0m\u001b[0;34m\u001b[0m\u001b[0m\n\u001b[0m\u001b[1;32m    205\u001b[0m \u001b[0;34m\u001b[0m\u001b[0m\n\u001b[1;32m    206\u001b[0m \u001b[0;32mdef\u001b[0m \u001b[0m_assert_finite\u001b[0m\u001b[0;34m(\u001b[0m\u001b[0;34m*\u001b[0m\u001b[0marrays\u001b[0m\u001b[0;34m)\u001b[0m\u001b[0;34m:\u001b[0m\u001b[0;34m\u001b[0m\u001b[0;34m\u001b[0m\u001b[0m\n",
      "\u001b[0;31mLinAlgError\u001b[0m: Last 2 dimensions of the array must be square"
     ]
    }
   ],
   "source": [
    "np.linalg.eig(yhat_np)"
   ]
  },
  {
   "cell_type": "code",
   "execution_count": 73,
   "metadata": {},
   "outputs": [
    {
     "data": {
      "text/plain": [
       "(22, 150)"
      ]
     },
     "execution_count": 73,
     "metadata": {},
     "output_type": "execute_result"
    }
   ],
   "source": [
    "yhat_np.shape"
   ]
  },
  {
   "cell_type": "code",
   "execution_count": 74,
   "metadata": {},
   "outputs": [],
   "source": [
    "bonds_logits_softmaxed = nn.Softmax(dim = 1)(bonds_logits)"
   ]
  },
  {
   "cell_type": "code",
   "execution_count": 75,
   "metadata": {
    "scrolled": true
   },
   "outputs": [
    {
     "data": {
      "text/plain": [
       "tensor(3.3938e-06)"
      ]
     },
     "execution_count": 75,
     "metadata": {},
     "output_type": "execute_result"
    }
   ],
   "source": [
    "grad(bonds_logits_softmaxed[:,4].sum(), bonds_logits, retain_graph = True)[0].sum()"
   ]
  },
  {
   "cell_type": "code",
   "execution_count": 76,
   "metadata": {},
   "outputs": [
    {
     "data": {
      "text/plain": [
       "tensor([[0.0000e+00, 0.0000e+00, 0.0000e+00, 0.0000e+00, 1.0000e+00],\n",
       "        [2.8833e-04, 2.3093e-04, 2.2682e-10, 2.5118e-10, 9.9948e-01],\n",
       "        [3.0985e-04, 2.8335e-04, 3.5862e-10, 3.6073e-10, 9.9941e-01],\n",
       "        ...,\n",
       "        [2.4729e-04, 4.3778e-05, 3.6786e-11, 4.8702e-11, 9.9971e-01],\n",
       "        [2.7051e-04, 1.2587e-04, 2.5589e-11, 3.3114e-11, 9.9960e-01],\n",
       "        [0.0000e+00, 0.0000e+00, 0.0000e+00, 0.0000e+00, 1.0000e+00]],\n",
       "       grad_fn=<SoftmaxBackward>)"
      ]
     },
     "execution_count": 76,
     "metadata": {},
     "output_type": "execute_result"
    }
   ],
   "source": [
    "bonds_logits_softmaxed"
   ]
  },
  {
   "cell_type": "code",
   "execution_count": 77,
   "metadata": {},
   "outputs": [
    {
     "data": {
      "text/plain": [
       "torch.Size([22, 150])"
      ]
     },
     "execution_count": 77,
     "metadata": {},
     "output_type": "execute_result"
    }
   ],
   "source": [
    "x_embedding.shape"
   ]
  },
  {
   "cell_type": "code",
   "execution_count": 78,
   "metadata": {
    "scrolled": true
   },
   "outputs": [
    {
     "name": "stdout",
     "output_type": "stream",
     "text": [
      "0 0.0 22\n",
      "C.C.C.C.C.C.C.C.C.C.C.C.C.C.C.C.C.C.C.C.C.O\n"
     ]
    }
   ],
   "source": [
    "bond_idx = 0\n",
    "smiles = []\n",
    "\n",
    "yhat = []\n",
    "yact = []\n",
    "for mol_idx, (st, le) in enumerate(Y.scope):\n",
    "    symbols = symbols_labels[st:st+le]\n",
    "    charges = charges_labels[st:st+le]\n",
    "    bonds = bonds_labels[bond_idx:bond_idx+le*le].view(le, le)\n",
    "    bond_idx += le * le\n",
    "    smiles.append(feat2smiles(SYMBOLS, FORMAL_CHARGES, BOND_TYPES, symbols, charges, bonds, False))\n",
    "    yhat.append(le)\n",
    "    yact.append((bonds != 4).sum().item()/2.)\n",
    "    print (mol_idx, yact[-1], le)\n",
    "    print (smiles[-1])\n",
    "    \n",
    "yhat = np.array(yhat)\n",
    "yact = np.array(yact)\n"
   ]
  },
  {
   "cell_type": "code",
   "execution_count": 36,
   "metadata": {},
   "outputs": [
    {
     "data": {
      "text/plain": [
       "(array([ 2.,  2.,  2.,  5.,  7., 10., 11.,  5.,  3.,  3.]),\n",
       " array([-41. , -37.4, -33.8, -30.2, -26.6, -23. , -19.4, -15.8, -12.2,\n",
       "         -8.6,  -5. ]),\n",
       " <BarContainer object of 10 artists>)"
      ]
     },
     "execution_count": 36,
     "metadata": {},
     "output_type": "execute_result"
    },
    {
     "data": {
      "image/png": "[encoded data removed]",
      "text/plain": [
       "<Figure size 432x288 with 1 Axes>"
      ]
     },
     "metadata": {},
     "output_type": "display_data"
    }
   ],
   "source": [
    "plt.hist(yact - yhat)"
   ]
  },
  {
   "cell_type": "code",
   "execution_count": 37,
   "metadata": {},
   "outputs": [
    {
     "data": {
      "image/png": "[encoded data removed]",
      "text/plain": [
       "<rdkit.Chem.rdchem.Mol at 0x7f0717cb1850>"
      ]
     },
     "execution_count": 37,
     "metadata": {},
     "output_type": "execute_result"
    }
   ],
   "source": [
    "Chem.MolFromSmiles(smiles[1], sanitize = False)"
   ]
  },
  {
   "cell_type": "code",
   "execution_count": 38,
   "metadata": {},
   "outputs": [
    {
     "data": {
      "text/plain": [
       "array([  0, 100, 200, 300, 400, 500, 600, 700, 800, 900])"
      ]
     },
     "execution_count": 38,
     "metadata": {},
     "output_type": "execute_result"
    }
   ],
   "source": [
    "np.arange(0,1000,100)"
   ]
  },
  {
   "cell_type": "code",
   "execution_count": 106,
   "metadata": {
    "scrolled": true
   },
   "outputs": [
    {
     "data": {
      "text/plain": [
       "tensor([0, 0, 0, 2, 0, 0, 0, 0, 0, 0, 2, 2, 0, 0, 0, 0, 0])"
      ]
     },
     "execution_count": 106,
     "metadata": {},
     "output_type": "execute_result"
    }
   ],
   "source": [
    "mol_idx = 0 \n",
    "torch.argmax(target[mol_idx]['SYMBOLS'], dim=1)"
   ]
  },
  {
   "cell_type": "code",
   "execution_count": 107,
   "metadata": {},
   "outputs": [
    {
     "data": {
      "text/plain": [
       "tensor(7.9200, grad_fn=<MaxBackward1>)"
      ]
     },
     "execution_count": 107,
     "metadata": {},
     "output_type": "execute_result"
    }
   ],
   "source": [
    "(x_embedding.mean(axis = 0) / x_embedding.std(axis = 0)).abs().max()"
   ]
  },
  {
   "cell_type": "code",
   "execution_count": 108,
   "metadata": {
    "scrolled": true
   },
   "outputs": [
    {
     "name": "stdout",
     "output_type": "stream",
     "text": [
      "CCCCCC1(C)CC(CO)C1(O)CCOC\n",
      "C=CCCCCCCC(N)(CC)C(CCC)C(N)CC(O)NC\n",
      "CCCCC(C)CC(C)C(C)C(N)(NC(C)C)C(CSC)C(N)CC(O)NF\n",
      "CCCCC(C)CC(C)CC(N)(NCC)C(CCC)C(O)CC(O)NO\n",
      "CCC1CN[SH](C)CC(CN)C(N)CCN1N\n",
      "CCCCC(C)CC(C)CC(N)(NCC)C(CCC)C(O)OC(O)NO\n",
      "CCC1CCC12CC(CO)C2(O)OCN\n",
      "NCOC1CC(N)S12CCC2\n",
      "CNC1CN[SH](C)CC(CN)C(N)CCN1N\n",
      "OCCC(O)(OCO)C1CCC1\n",
      "CCCCC(O)C1CC(C)CCCCCCC1C\n",
      "C=CCCC=CCCC(N)C(CCC)C(O)CC(O)NC\n",
      "CCC1(O)OC(O)N(O)C(C)(CN(C)OC)C(C)C(C)(CC)C(O)C(N)(N)(NC(O)(O)O)C1CCCN(N)O.O\n",
      "NCCC(O)(OCN)[SH]1CCC1\n",
      "CCCCC(C)CC(C)CC(N)(NCC)C(CCC)C(O)CC(O)NCl\n",
      "CNC(N)(CCCC(C)CCOC)C(CSC)C(O)OC(O)NCl\n",
      "CCC(O)CC(O)C1CC(C)C(C)CCCCCC1C\n",
      "CCCCC(C)CC(C)C(C)C(N)(NC(C)O)C(CCCC)C(O)CC(O)NC\n",
      "CCCC(C)(CCC)C1CCC1CC\n",
      "CCCCCCCCC(N)(N)C(CCC)C(N)CC(O)NO\n",
      "CCC(O)CC(O)C1CC(C)C(C)CCCCCC1C\n",
      "CC1CCCC1C\n",
      "CCCCCC1(C)CC(CC)C1(O)CCCC\n",
      "CCC(O)CC(O)C1CC(C)C(C)CCCCCC1C\n",
      "CC1CCCCCC(O)C(C(O)OC(O)OO)CC1C\n",
      "C=CCCC(C)C(C)C(C)C(C)C(N)(OC(C)C)C(CCCC)C(O)CC(O)NC\n",
      "CCC1CCC1C(O)(CCN)CCN\n",
      "C=CCCC(C)CC(C)C(C)C(N)(CC(C)C)C(CCCC)C(O)CC(O)CC\n",
      "C=CCCC(C)CC(C)C(C)C(N)(CC(C)C)C(CCCC)C(C)CC(O)NC\n",
      "CC12CC1COC2O\n",
      "CC1CCOC1O\n",
      "NCCC1(O)CC(N)C12CCC2\n",
      "CCCCCCCCC(O)C(CCC)C(O)CC(O)OC\n",
      "CC1CCOC1O\n",
      "CC1CCCCCC(N)C(C(N)OCNCl)C[SH]1C\n",
      "CCCCCCCCC(N)(N)C(CCC)C(O)OC(O)NO\n",
      "CON1SC2CCCC(N)C(C[SH]1C)C(N)O[SH](O)N2O\n",
      "OC1CCO1\n",
      "C=CC(C)C(C)(C(C)C(C)CC(C)CC)C(C)C(C)(N)(NC(C)(C)C)C(C)(CCCN(N)O)C(N)(CC)CC(O)NN\n",
      "CCC1CCC1CCN\n",
      "CCCCC(C)CC(C)C(C)C(N)(NC(C)O)C(CCC)C(N)CC(O)NCl\n",
      "C=CCCCCCCC(O)C(CCC)C(O)CC(O)NC\n",
      "CCCCC(C)CCCC(O)(OC)C(CCC)C(O)OC(O)NO\n",
      "CCCCC(C)CCCC(O)(OC)C(CCC)C(O)OC(O)NO\n",
      "CCCC(C(N)CC(O)NN)C(N)(CC(C)CC(C)CNCC)NCC\n",
      "CCCCC(C)CC(C)C(C)C(N)(OC(C)F)C(CCCC)C(F)OC(F)NF\n",
      "COC1CCCCCC(I)(OC)C(C(O)OC(I)NI)CC1C\n",
      "CNCCC(O)C1CC(C)CCC=CCCC1O\n",
      "OCCC(O)(OCO)C1CCC1\n",
      "CCCCC(C)CCCC(N)(CCC)C(CCC)C(O)CC(O)CC\n"
     ]
    }
   ],
   "source": [
    "target_smiles = [Chem.MolToSmiles(y) for y in Y.rd_mols]\n",
    "initial_smiles = [Chem.MolToSmiles(y) for y in X.rd_mols]\n",
    "\n",
    "# uncomment for tensorboard\n",
    "tb_writer = SummaryWriter(logdir = args.tb_logs_dir)\n",
    "mol_drawer = MolDrawer(tb_writer, SYMBOLS, BOND_TYPES, FORMAL_CHARGES)\n",
    "mol_drawer.visualize_batch(pred_pack[0], target_smiles, model_iter, initial_smiles, text=\"{}-{}-{}-manual2-\".format(args.init_model, model_iter, datatype))"
   ]
  },
  {
   "cell_type": "code",
   "execution_count": 27,
   "metadata": {},
   "outputs": [
    {
     "data": {
      "text/plain": [
       "'C.C.C.C.C.C.C.C.C.C.C.C.C.C.C.N.N.O.O.O.O'"
      ]
     },
     "execution_count": 27,
     "metadata": {},
     "output_type": "execute_result"
    }
   ],
   "source": [
    "feat2smiles(SYMBOLS, FORMAL_CHARGES, BOND_TYPES, symbols, charges, bonds, False)"
   ]
  },
  {
   "cell_type": "code",
   "execution_count": 67,
   "metadata": {},
   "outputs": [],
   "source": [
    "tau = pen.tau\n",
    "# tau = 0.001\n",
    "# symbols_nll, charges_nll, bonds_nll = F.gumbel_softmax(tau = tau, dim=1, logits = symbols_logits), F.gumbel_softmax(tau=tau,dim=1,logits=charges_logits), F.gumbel_softmax(tau=tau,dim=1, logits = bonds_logits)\n",
    "# symbols_nll, charges_nll, bonds_nll = -nn.LogSoftmax(dim=1)(symbols_logits/tau),\\\n",
    "#              -nn.LogSoftmax(dim=1)(charges_logits/tau), -nn.LogSoftmax(dim=1)(bonds_logits/tau)\n",
    "\n",
    "def softmax(logits, tau):\n",
    "#     logitsn = F.normalize(logits, dim = 1)\n",
    "#     return -nn.LogSoftmax(dim=1)(logitsn/tau)\n",
    "    return F.gumbel_softmax(tau = tau, dim=1, logits = logits)\n",
    "\n",
    "symbols_nll = softmax(symbols_logits, tau)\n",
    "charges_nll = softmax(charges_logits, tau)\n",
    "bonds_nll = softmax(bonds_logits, tau)"
   ]
  },
  {
   "cell_type": "code",
   "execution_count": 68,
   "metadata": {},
   "outputs": [
    {
     "data": {
      "text/plain": [
       "0.05195383849590577"
      ]
     },
     "execution_count": 68,
     "metadata": {},
     "output_type": "execute_result"
    }
   ],
   "source": [
    "pen.tau"
   ]
  },
  {
   "cell_type": "code",
   "execution_count": 39,
   "metadata": {},
   "outputs": [
    {
     "data": {
      "text/plain": [
       "(array([201., 231., 302., 166., 129.,  31.,  15.,   3.,   0.,   1.]),\n",
       " array([ 47.78911,  64.59665,  81.40419,  98.21173, 115.01927, 131.82681,\n",
       "        148.63435, 165.4419 , 182.24944, 199.05698, 215.86452],\n",
       "       dtype=float32),\n",
       " <a list of 10 Patch objects>)"
      ]
     },
     "execution_count": 39,
     "metadata": {},
     "output_type": "execute_result"
    },
    {
     "data": {
      "image/png": "[encoded data removed]",
      "text/plain": [
       "<Figure size 432x288 with 1 Axes>"
      ]
     },
     "metadata": {},
     "output_type": "display_data"
    }
   ],
   "source": [
    "plt.hist(symbols_logits.norm(dim = 1).cpu().detach().numpy())"
   ]
  },
  {
   "cell_type": "code",
   "execution_count": 52,
   "metadata": {},
   "outputs": [
    {
     "data": {
      "text/plain": [
       "(array([  24.,   19.,   36.,   26.,   17.,   32.,   31.,   21.,   36.,\n",
       "          33.,   37.,   35.,   64.,   66.,   97.,   71.,   65.,   86.,\n",
       "          72.,   75.,  106.,   87.,   79.,   95.,   68.,   72.,   76.,\n",
       "          61.,   81.,   70.,   63.,   71.,   53.,   74.,   68.,   62.,\n",
       "          30.,   37.,   45.,   40.,   58.,   32.,   65.,   58.,   57.,\n",
       "          55.,   50.,   64.,   82.,   32.,   38.,   50.,   59.,   44.,\n",
       "          49.,   49.,   50.,   68.,   49.,   55.,   66.,   43.,   49.,\n",
       "          92.,   82.,   55.,   79.,   63.,   89.,   84.,   65.,   75.,\n",
       "         101.,   97.,   83.,  111.,   99.,  111.,  130.,  119.,  118.,\n",
       "         137.,  127.,  147.,  109.,  161.,  210.,  198.,  219.,  271.,\n",
       "         338.,  430.,  511.,  560.,  580.,  880., 1053., 1574., 2603.,\n",
       "        8307.]),\n",
       " array([0.2980454 , 0.30506495, 0.3120845 , 0.31910405, 0.3261236 ,\n",
       "        0.33314312, 0.34016266, 0.3471822 , 0.35420176, 0.3612213 ,\n",
       "        0.36824086, 0.3752604 , 0.38227996, 0.38929948, 0.39631903,\n",
       "        0.40333858, 0.41035813, 0.41737768, 0.42439723, 0.43141678,\n",
       "        0.43843633, 0.44545585, 0.4524754 , 0.45949495, 0.4665145 ,\n",
       "        0.47353405, 0.4805536 , 0.48757315, 0.4945927 , 0.50161225,\n",
       "        0.50863177, 0.51565135, 0.52267087, 0.52969044, 0.53670996,\n",
       "        0.5437295 , 0.55074906, 0.5577686 , 0.56478816, 0.5718077 ,\n",
       "        0.57882726, 0.5858468 , 0.5928663 , 0.5998859 , 0.6069054 ,\n",
       "        0.613925  , 0.6209445 , 0.6279641 , 0.6349836 , 0.6420032 ,\n",
       "        0.6490227 , 0.6560422 , 0.6630618 , 0.6700813 , 0.6771009 ,\n",
       "        0.6841204 , 0.69114   , 0.6981595 , 0.7051791 , 0.7121986 ,\n",
       "        0.71921813, 0.7262377 , 0.73325723, 0.7402768 , 0.74729633,\n",
       "        0.7543159 , 0.76133543, 0.76835495, 0.77537453, 0.78239405,\n",
       "        0.78941363, 0.79643315, 0.80345273, 0.81047225, 0.8174918 ,\n",
       "        0.82451135, 0.83153087, 0.83855045, 0.84556997, 0.85258955,\n",
       "        0.85960907, 0.86662865, 0.87364817, 0.88066775, 0.88768727,\n",
       "        0.8947068 , 0.90172637, 0.9087459 , 0.91576546, 0.922785  ,\n",
       "        0.92980456, 0.9368241 , 0.9438436 , 0.9508632 , 0.9578827 ,\n",
       "        0.9649023 , 0.9719218 , 0.9789414 , 0.9859609 , 0.9929805 ,\n",
       "        1.        ], dtype=float32),\n",
       " <a list of 100 Patch objects>)"
      ]
     },
     "execution_count": 52,
     "metadata": {},
     "output_type": "execute_result"
    },
    {
     "data": {
      "image/png": "[encoded data removed]",
      "text/plain": [
       "<Figure size 432x288 with 1 Axes>"
      ]
     },
     "metadata": {},
     "output_type": "display_data"
    }
   ],
   "source": [
    "max_logits = torch.max(F.softmax(dim=1, input = bonds_logits), dim = 1).values.detach().cpu().numpy()\n",
    "plt.hist(max_logits, bins = 100)"
   ]
  },
  {
   "cell_type": "code",
   "execution_count": 26,
   "metadata": {},
   "outputs": [
    {
     "data": {
      "text/plain": [
       "torch.Size([1079, 64])"
      ]
     },
     "execution_count": 26,
     "metadata": {},
     "output_type": "execute_result"
    }
   ],
   "source": [
    "symbols_logits.shape"
   ]
  },
  {
   "cell_type": "code",
   "execution_count": 70,
   "metadata": {},
   "outputs": [
    {
     "data": {
      "text/plain": [
       "<BarContainer object of 64 artists>"
      ]
     },
     "execution_count": 70,
     "metadata": {},
     "output_type": "execute_result"
    },
    {
     "data": {
      "image/png": "[encoded data removed]",
      "text/plain": [
       "<Figure size 432x288 with 1 Axes>"
      ]
     },
     "metadata": {},
     "output_type": "display_data"
    }
   ],
   "source": [
    "means = symbols_logits.mean(axis = 0).cpu().detach().numpy()\n",
    "stds = symbols_logits.std(axis = 0).cpu().detach().numpy()\n",
    "plt.bar(range(len(SYMBOLS)), means, yerr = stds)"
   ]
  },
  {
   "cell_type": "code",
   "execution_count": 71,
   "metadata": {},
   "outputs": [
    {
     "data": {
      "text/plain": [
       "<BarContainer object of 5 artists>"
      ]
     },
     "execution_count": 71,
     "metadata": {},
     "output_type": "execute_result"
    },
    {
     "data": {
      "image/png": "[encoded data removed]",
      "text/plain": [
       "<Figure size 432x288 with 1 Axes>"
      ]
     },
     "metadata": {},
     "output_type": "display_data"
    }
   ],
   "source": [
    "means = bonds_logits.mean(axis = 0).cpu().detach().numpy()\n",
    "stds = bonds_logits.std(axis = 0).cpu().detach().numpy()\n",
    "plt.bar(range(len(BOND_TYPES)), means, yerr = stds)"
   ]
  },
  {
   "cell_type": "code",
   "execution_count": 101,
   "metadata": {
    "scrolled": true
   },
   "outputs": [
    {
     "data": {
      "text/plain": [
       "tensor([27,  4, 53,  ...,  4,  7, 50], device='cuda:0')"
      ]
     },
     "execution_count": 101,
     "metadata": {},
     "output_type": "execute_result"
    }
   ],
   "source": [
    "torch.argmax(F.gumbel_softmax(tau = 1, dim=1, logits = symbols_logits), axis = 1)\n",
    "# torch.argmax(F.softmax(symbols_logits, dim = 1), axis = 1)"
   ]
  },
  {
   "cell_type": "code",
   "execution_count": 102,
   "metadata": {},
   "outputs": [
    {
     "data": {
      "text/plain": [
       "tensor([-0.7168, -0.6918, -0.7858,  ..., -0.2435, -0.3567, -0.3224],\n",
       "       device='cuda:0', grad_fn=<SumBackward1>)"
      ]
     },
     "execution_count": 102,
     "metadata": {},
     "output_type": "execute_result"
    }
   ],
   "source": [
    "bonds_logits.sum(axis = 1)"
   ]
  },
  {
   "cell_type": "code",
   "execution_count": 103,
   "metadata": {},
   "outputs": [
    {
     "data": {
      "text/plain": [
       "tensor([[1.1898e-07, 4.1788e-15, 1.1364e-11,  ..., 1.1246e-15, 4.4671e-12,\n",
       "         2.6455e-06],\n",
       "        [5.9730e-32, 3.8587e-35, 2.3728e-35,  ..., 2.7590e-26, 4.3688e-35,\n",
       "         6.8968e-34],\n",
       "        [2.3369e-16, 5.9282e-12, 9.6984e-11,  ..., 5.1900e-19, 7.2133e-17,\n",
       "         2.6491e-13],\n",
       "        ...,\n",
       "        [1.0000e+00, 1.0524e-29, 1.8007e-29,  ..., 5.9074e-30, 3.6392e-36,\n",
       "         2.7992e-31],\n",
       "        [3.3421e-20, 3.4711e-14, 4.9880e-17,  ..., 4.9878e-09, 9.8660e-22,\n",
       "         7.0411e-26],\n",
       "        [5.2386e-27, 2.3484e-27, 5.3644e-35,  ..., 3.0511e-31, 3.9224e-33,\n",
       "         6.2579e-37]], device='cuda:0', grad_fn=<SoftmaxBackward>)"
      ]
     },
     "execution_count": 103,
     "metadata": {},
     "output_type": "execute_result"
    }
   ],
   "source": [
    "F.gumbel_softmax(tau = 0.1, dim=1, logits = symbols_logits)"
   ]
  },
  {
   "cell_type": "code",
   "execution_count": 104,
   "metadata": {},
   "outputs": [
    {
     "data": {
      "text/plain": [
       "tensor([[30.4351, 34.9901, 82.9673, 68.6483, -0.0000],\n",
       "        [35.5620, 39.7150, 82.7646, 71.0517, -0.0000],\n",
       "        [36.0503, 39.9646, 83.9324, 70.3454, -0.0000],\n",
       "        ...,\n",
       "        [26.6836, 38.2859, 91.0719, 90.3248, -0.0000],\n",
       "        [20.4135, 28.7948, 73.8399, 72.7646, -0.0000],\n",
       "        [21.0419, 32.0101, 80.5401, 78.0148, -0.0000]], device='cuda:0',\n",
       "       grad_fn=<NegBackward>)"
      ]
     },
     "execution_count": 104,
     "metadata": {},
     "output_type": "execute_result"
    }
   ],
   "source": [
    "bonds_nll"
   ]
  },
  {
   "cell_type": "code",
   "execution_count": 105,
   "metadata": {},
   "outputs": [
    {
     "data": {
      "text/plain": [
       "(tensor([2, 3, 4], device='cuda:0'),\n",
       " tensor([13527, 10041,     3], device='cuda:0'))"
      ]
     },
     "execution_count": 105,
     "metadata": {},
     "output_type": "execute_result"
    }
   ],
   "source": [
    "torch.argmax(bonds_nll, dim = 1).unique(return_counts = True)"
   ]
  },
  {
   "cell_type": "code",
   "execution_count": 72,
   "metadata": {},
   "outputs": [
    {
     "data": {
      "text/plain": [
       "tensor([[4.8684e-40, 0.0000e+00, 0.0000e+00, 0.0000e+00, 1.0000e+00],\n",
       "        [1.1608e-40, 0.0000e+00, 0.0000e+00, 0.0000e+00, 1.0000e+00],\n",
       "        [1.1414e-06, 0.0000e+00, 0.0000e+00, 0.0000e+00, 1.0000e+00],\n",
       "        ...,\n",
       "        [3.8970e-18, 1.0000e+00, 3.2179e-41, 3.9096e-43, 7.6519e-09],\n",
       "        [1.8544e-17, 6.8090e-20, 0.0000e+00, 5.7014e-10, 1.0000e+00],\n",
       "        [0.0000e+00, 5.8267e-28, 0.0000e+00, 0.0000e+00, 1.0000e+00]],\n",
       "       device='cuda:0', grad_fn=<SoftmaxBackward>)"
      ]
     },
     "execution_count": 72,
     "metadata": {},
     "output_type": "execute_result"
    }
   ],
   "source": [
    "bonds_nll"
   ]
  },
  {
   "cell_type": "code",
   "execution_count": 73,
   "metadata": {},
   "outputs": [
    {
     "name": "stdout",
     "output_type": "stream",
     "text": [
      "tensor(25.9540, device='cuda:0', grad_fn=<DivBackward0>)\n",
      "tensor(4.2943, device='cuda:0', grad_fn=<DivBackward0>)\n",
      "tensor(15.7227, device='cuda:0', grad_fn=<DivBackward0>)\n",
      "tensor(6.0428, device='cuda:0', grad_fn=<DivBackward0>)\n",
      "tensor(30.8190, device='cuda:0', grad_fn=<DivBackward0>)\n",
      "tensor(26.7959, device='cuda:0', grad_fn=<DivBackward0>)\n",
      "tensor(21.0293, device='cuda:0', grad_fn=<DivBackward0>)\n",
      "tensor(18.0473, device='cuda:0', grad_fn=<DivBackward0>)\n",
      "tensor(12.4608, device='cuda:0', grad_fn=<DivBackward0>)\n",
      "tensor(14.6883, device='cuda:0', grad_fn=<DivBackward0>)\n",
      "tensor(17.4138, device='cuda:0', grad_fn=<DivBackward0>)\n",
      "tensor(22.8999, device='cuda:0', grad_fn=<DivBackward0>)\n",
      "tensor(3.4789, device='cuda:0', grad_fn=<DivBackward0>)\n",
      "tensor(22.8743, device='cuda:0', grad_fn=<DivBackward0>)\n",
      "tensor(24.2297, device='cuda:0', grad_fn=<DivBackward0>)\n",
      "tensor(17.4069, device='cuda:0', grad_fn=<DivBackward0>)\n",
      "tensor(29.8443, device='cuda:0', grad_fn=<DivBackward0>)\n",
      "tensor(14.9637, device='cuda:0', grad_fn=<DivBackward0>)\n",
      "tensor(19.2607, device='cuda:0', grad_fn=<DivBackward0>)\n",
      "tensor(10.0109, device='cuda:0', grad_fn=<DivBackward0>)\n",
      "tensor(16.4179, device='cuda:0', grad_fn=<DivBackward0>)\n",
      "tensor(10.2758, device='cuda:0', grad_fn=<DivBackward0>)\n",
      "tensor(37.1300, device='cuda:0', grad_fn=<DivBackward0>)\n",
      "tensor(13.5368, device='cuda:0', grad_fn=<DivBackward0>)\n",
      "tensor(18.2052, device='cuda:0', grad_fn=<DivBackward0>)\n",
      "tensor(13.8480, device='cuda:0', grad_fn=<DivBackward0>)\n",
      "tensor(10.9074, device='cuda:0', grad_fn=<DivBackward0>)\n",
      "tensor(21.0443, device='cuda:0', grad_fn=<DivBackward0>)\n",
      "tensor(14.6852, device='cuda:0', grad_fn=<DivBackward0>)\n",
      "tensor(16.5887, device='cuda:0', grad_fn=<DivBackward0>)\n",
      "tensor(16.0537, device='cuda:0', grad_fn=<DivBackward0>)\n",
      "tensor(7.3595, device='cuda:0', grad_fn=<DivBackward0>)\n",
      "tensor(25.7551, device='cuda:0', grad_fn=<DivBackward0>)\n",
      "tensor(11.4152, device='cuda:0', grad_fn=<DivBackward0>)\n",
      "tensor(27.2653, device='cuda:0', grad_fn=<DivBackward0>)\n",
      "tensor(8.3719, device='cuda:0', grad_fn=<DivBackward0>)\n",
      "tensor(12.2709, device='cuda:0', grad_fn=<DivBackward0>)\n",
      "tensor(38.4939, device='cuda:0', grad_fn=<DivBackward0>)\n",
      "tensor(30.0824, device='cuda:0', grad_fn=<DivBackward0>)\n",
      "tensor(13.3000, device='cuda:0', grad_fn=<DivBackward0>)\n",
      "tensor(23.7285, device='cuda:0', grad_fn=<DivBackward0>)\n",
      "tensor(27.2416, device='cuda:0', grad_fn=<DivBackward0>)\n",
      "tensor(31.8984, device='cuda:0', grad_fn=<DivBackward0>)\n",
      "tensor(11.4070, device='cuda:0', grad_fn=<DivBackward0>)\n",
      "tensor(16.2180, device='cuda:0', grad_fn=<DivBackward0>)\n",
      "tensor(17.4309, device='cuda:0', grad_fn=<DivBackward0>)\n",
      "tensor(14.8805, device='cuda:0', grad_fn=<DivBackward0>)\n",
      "tensor(13.3776, device='cuda:0', grad_fn=<DivBackward0>)\n",
      "tensor(13.3427, device='cuda:0', grad_fn=<DivBackward0>)\n",
      "tensor(17.1865, device='cuda:0', grad_fn=<DivBackward0>)\n"
     ]
    }
   ],
   "source": [
    "bond_idx = 0\n",
    "for st, le in Y.scope:\n",
    "    bonds_nll_curr = bonds_nll[bond_idx:bond_idx + le**2,:].view(le, le, -1)\n",
    "    print ((1 - bonds_nll_curr[:,:,4]).sum()/2)\n",
    "    bond_idx += le**2"
   ]
  },
  {
   "cell_type": "code",
   "execution_count": 75,
   "metadata": {},
   "outputs": [
    {
     "data": {
      "text/plain": [
       "tensor([[0.0000e+00, 0.0000e+00, 0.0000e+00, 0.0000e+00, 0.0000e+00, 3.2863e-01,\n",
       "         1.0000e+00, 0.0000e+00, 0.0000e+00, 0.0000e+00, 0.0000e+00, 0.0000e+00,\n",
       "         0.0000e+00, 0.0000e+00, 0.0000e+00, 0.0000e+00, 0.0000e+00, 0.0000e+00,\n",
       "         0.0000e+00, 0.0000e+00, 0.0000e+00],\n",
       "        [0.0000e+00, 9.3452e-01, 0.0000e+00, 0.0000e+00, 0.0000e+00, 0.0000e+00,\n",
       "         0.0000e+00, 0.0000e+00, 0.0000e+00, 0.0000e+00, 0.0000e+00, 0.0000e+00,\n",
       "         3.0364e-02, 0.0000e+00, 9.9963e-01, 0.0000e+00, 0.0000e+00, 0.0000e+00,\n",
       "         9.9987e-01, 1.9908e-05, 1.0000e+00],\n",
       "        [0.0000e+00, 0.0000e+00, 1.5497e-06, 0.0000e+00, 0.0000e+00, 0.0000e+00,\n",
       "         0.0000e+00, 0.0000e+00, 1.0000e+00, 0.0000e+00, 9.4771e-05, 0.0000e+00,\n",
       "         0.0000e+00, 0.0000e+00, 0.0000e+00, 6.2620e-01, 0.0000e+00, 0.0000e+00,\n",
       "         9.1592e-01, 3.3100e-03, 0.0000e+00],\n",
       "        [1.1921e-07, 0.0000e+00, 0.0000e+00, 0.0000e+00, 0.0000e+00, 0.0000e+00,\n",
       "         0.0000e+00, 0.0000e+00, 0.0000e+00, 0.0000e+00, 0.0000e+00, 0.0000e+00,\n",
       "         0.0000e+00, 0.0000e+00, 0.0000e+00, 0.0000e+00, 0.0000e+00, 0.0000e+00,\n",
       "         0.0000e+00, 0.0000e+00, 0.0000e+00],\n",
       "        [4.9665e-02, 0.0000e+00, 0.0000e+00, 0.0000e+00, 0.0000e+00, 0.0000e+00,\n",
       "         0.0000e+00, 0.0000e+00, 0.0000e+00, 0.0000e+00, 0.0000e+00, 0.0000e+00,\n",
       "         0.0000e+00, 0.0000e+00, 0.0000e+00, 0.0000e+00, 0.0000e+00, 0.0000e+00,\n",
       "         0.0000e+00, 0.0000e+00, 0.0000e+00],\n",
       "        [1.3569e-03, 0.0000e+00, 0.0000e+00, 0.0000e+00, 0.0000e+00, 0.0000e+00,\n",
       "         0.0000e+00, 0.0000e+00, 0.0000e+00, 0.0000e+00, 0.0000e+00, 0.0000e+00,\n",
       "         0.0000e+00, 0.0000e+00, 0.0000e+00, 0.0000e+00, 0.0000e+00, 0.0000e+00,\n",
       "         0.0000e+00, 0.0000e+00, 0.0000e+00],\n",
       "        [0.0000e+00, 0.0000e+00, 0.0000e+00, 0.0000e+00, 0.0000e+00, 0.0000e+00,\n",
       "         0.0000e+00, 0.0000e+00, 0.0000e+00, 0.0000e+00, 0.0000e+00, 0.0000e+00,\n",
       "         0.0000e+00, 0.0000e+00, 0.0000e+00, 0.0000e+00, 0.0000e+00, 0.0000e+00,\n",
       "         0.0000e+00, 0.0000e+00, 0.0000e+00],\n",
       "        [0.0000e+00, 0.0000e+00, 0.0000e+00, 0.0000e+00, 0.0000e+00, 0.0000e+00,\n",
       "         0.0000e+00, 0.0000e+00, 0.0000e+00, 3.2732e-03, 1.7759e-03, 0.0000e+00,\n",
       "         0.0000e+00, 0.0000e+00, 0.0000e+00, 0.0000e+00, 0.0000e+00, 0.0000e+00,\n",
       "         0.0000e+00, 0.0000e+00, 0.0000e+00],\n",
       "        [0.0000e+00, 0.0000e+00, 0.0000e+00, 0.0000e+00, 0.0000e+00, 0.0000e+00,\n",
       "         0.0000e+00, 0.0000e+00, 0.0000e+00, 1.1921e-07, 0.0000e+00, 0.0000e+00,\n",
       "         0.0000e+00, 0.0000e+00, 0.0000e+00, 2.8610e-06, 0.0000e+00, 1.0000e+00,\n",
       "         1.0000e+00, 4.0531e-06, 0.0000e+00],\n",
       "        [0.0000e+00, 0.0000e+00, 0.0000e+00, 9.9986e-01, 0.0000e+00, 7.1526e-07,\n",
       "         1.0000e+00, 0.0000e+00, 1.0000e+00, 1.1921e-07, 0.0000e+00, 0.0000e+00,\n",
       "         0.0000e+00, 0.0000e+00, 5.2941e-03, 0.0000e+00, 0.0000e+00, 0.0000e+00,\n",
       "         0.0000e+00, 0.0000e+00, 0.0000e+00],\n",
       "        [0.0000e+00, 0.0000e+00, 0.0000e+00, 0.0000e+00, 0.0000e+00, 0.0000e+00,\n",
       "         0.0000e+00, 1.0000e+00, 0.0000e+00, 1.2215e-01, 0.0000e+00, 0.0000e+00,\n",
       "         0.0000e+00, 8.4260e-01, 0.0000e+00, 0.0000e+00, 0.0000e+00, 0.0000e+00,\n",
       "         1.2660e-04, 5.9605e-07, 0.0000e+00],\n",
       "        [0.0000e+00, 0.0000e+00, 0.0000e+00, 0.0000e+00, 0.0000e+00, 1.1921e-07,\n",
       "         0.0000e+00, 0.0000e+00, 0.0000e+00, 0.0000e+00, 0.0000e+00, 0.0000e+00,\n",
       "         0.0000e+00, 0.0000e+00, 0.0000e+00, 2.5888e-03, 0.0000e+00, 0.0000e+00,\n",
       "         0.0000e+00, 0.0000e+00, 0.0000e+00],\n",
       "        [0.0000e+00, 1.0000e+00, 5.2510e-02, 0.0000e+00, 0.0000e+00, 0.0000e+00,\n",
       "         0.0000e+00, 0.0000e+00, 0.0000e+00, 0.0000e+00, 0.0000e+00, 0.0000e+00,\n",
       "         0.0000e+00, 0.0000e+00, 0.0000e+00, 0.0000e+00, 0.0000e+00, 0.0000e+00,\n",
       "         1.0000e+00, 0.0000e+00, 0.0000e+00],\n",
       "        [0.0000e+00, 0.0000e+00, 0.0000e+00, 0.0000e+00, 0.0000e+00, 0.0000e+00,\n",
       "         0.0000e+00, 0.0000e+00, 0.0000e+00, 0.0000e+00, 0.0000e+00, 0.0000e+00,\n",
       "         0.0000e+00, 0.0000e+00, 0.0000e+00, 0.0000e+00, 0.0000e+00, 7.0118e-01,\n",
       "         1.0000e+00, 0.0000e+00, 0.0000e+00],\n",
       "        [0.0000e+00, 0.0000e+00, 0.0000e+00, 0.0000e+00, 0.0000e+00, 0.0000e+00,\n",
       "         0.0000e+00, 0.0000e+00, 0.0000e+00, 0.0000e+00, 0.0000e+00, 0.0000e+00,\n",
       "         3.1874e-03, 1.0000e+00, 0.0000e+00, 1.0570e-02, 0.0000e+00, 0.0000e+00,\n",
       "         1.0000e+00, 0.0000e+00, 0.0000e+00],\n",
       "        [0.0000e+00, 0.0000e+00, 0.0000e+00, 0.0000e+00, 0.0000e+00, 0.0000e+00,\n",
       "         0.0000e+00, 0.0000e+00, 0.0000e+00, 0.0000e+00, 0.0000e+00, 0.0000e+00,\n",
       "         0.0000e+00, 1.0000e+00, 0.0000e+00, 0.0000e+00, 1.0000e+00, 0.0000e+00,\n",
       "         0.0000e+00, 0.0000e+00, 0.0000e+00],\n",
       "        [0.0000e+00, 0.0000e+00, 0.0000e+00, 0.0000e+00, 0.0000e+00, 0.0000e+00,\n",
       "         0.0000e+00, 0.0000e+00, 0.0000e+00, 0.0000e+00, 0.0000e+00, 0.0000e+00,\n",
       "         0.0000e+00, 0.0000e+00, 0.0000e+00, 0.0000e+00, 0.0000e+00, 0.0000e+00,\n",
       "         0.0000e+00, 0.0000e+00, 0.0000e+00],\n",
       "        [0.0000e+00, 0.0000e+00, 0.0000e+00, 0.0000e+00, 0.0000e+00, 1.0000e+00,\n",
       "         0.0000e+00, 0.0000e+00, 1.0000e+00, 0.0000e+00, 9.5367e-06, 0.0000e+00,\n",
       "         0.0000e+00, 0.0000e+00, 0.0000e+00, 0.0000e+00, 9.9991e-01, 0.0000e+00,\n",
       "         0.0000e+00, 0.0000e+00, 0.0000e+00],\n",
       "        [0.0000e+00, 1.0000e+00, 0.0000e+00, 0.0000e+00, 0.0000e+00, 0.0000e+00,\n",
       "         0.0000e+00, 0.0000e+00, 1.0000e+00, 0.0000e+00, 0.0000e+00, 0.0000e+00,\n",
       "         9.5871e-01, 1.0000e+00, 0.0000e+00, 0.0000e+00, 0.0000e+00, 0.0000e+00,\n",
       "         1.0000e+00, 0.0000e+00, 0.0000e+00],\n",
       "        [0.0000e+00, 0.0000e+00, 0.0000e+00, 0.0000e+00, 0.0000e+00, 0.0000e+00,\n",
       "         0.0000e+00, 2.7418e-06, 0.0000e+00, 9.8069e-01, 0.0000e+00, 0.0000e+00,\n",
       "         0.0000e+00, 0.0000e+00, 0.0000e+00, 0.0000e+00, 0.0000e+00, 0.0000e+00,\n",
       "         7.9892e-01, 0.0000e+00, 0.0000e+00],\n",
       "        [0.0000e+00, 2.6226e-06, 0.0000e+00, 0.0000e+00, 0.0000e+00, 1.0000e+00,\n",
       "         0.0000e+00, 0.0000e+00, 0.0000e+00, 0.0000e+00, 0.0000e+00, 0.0000e+00,\n",
       "         0.0000e+00, 0.0000e+00, 0.0000e+00, 0.0000e+00, 0.0000e+00, 0.0000e+00,\n",
       "         1.0000e+00, 0.0000e+00, 0.0000e+00]], device='cuda:0',\n",
       "       grad_fn=<RsubBackward1>)"
      ]
     },
     "execution_count": 75,
     "metadata": {},
     "output_type": "execute_result"
    }
   ],
   "source": [
    "1 - bonds_nll_curr[:,:,4]"
   ]
  },
  {
   "cell_type": "code",
   "execution_count": 118,
   "metadata": {},
   "outputs": [
    {
     "data": {
      "text/plain": [
       "torch.Size([1079, 64])"
      ]
     },
     "execution_count": 118,
     "metadata": {},
     "output_type": "execute_result"
    }
   ],
   "source": [
    "symbols_logits.shape"
   ]
  },
  {
   "cell_type": "code",
   "execution_count": 119,
   "metadata": {
    "scrolled": true
   },
   "outputs": [
    {
     "data": {
      "text/plain": [
       "tensor([2, 0, 0,  ..., 0, 0, 0], device='cuda:0')"
      ]
     },
     "execution_count": 119,
     "metadata": {},
     "output_type": "execute_result"
    }
   ],
   "source": [
    "symbols_labels"
   ]
  },
  {
   "cell_type": "markdown",
   "metadata": {},
   "source": [
    "# inspect module parameters"
   ]
  },
  {
   "cell_type": "code",
   "execution_count": 150,
   "metadata": {},
   "outputs": [
    {
     "data": {
      "text/plain": [
       "Linear(in_features=100, out_features=150, bias=True)"
      ]
     },
     "execution_count": 150,
     "metadata": {},
     "output_type": "execute_result"
    }
   ],
   "source": [
    "molopt_decoder.fc1_SYMBOLS"
   ]
  },
  {
   "cell_type": "code",
   "execution_count": 151,
   "metadata": {},
   "outputs": [
    {
     "data": {
      "text/plain": [
       "tensor([[ 13.7881,   0.6913,   3.3530,  ..., -10.6195,  -8.9924, -11.0378],\n",
       "        [ 13.5698,  -1.3311,   4.9047,  ...,  -8.9976,  -7.9215, -10.1074],\n",
       "        [  5.2691,  -6.6067,   3.9132,  ..., -13.3723, -13.1498, -14.1045],\n",
       "        ...,\n",
       "        [  2.3633,   0.6043,   8.5959,  ..., -12.3276, -12.1154, -13.7442],\n",
       "        [ 16.1051,   0.3792,   4.5413,  ...,  -8.0192,  -7.4203,  -9.7780],\n",
       "        [  8.6492,   4.9261,   0.4580,  ...,  -9.5743,  -9.4313, -10.6167]],\n",
       "       device='cuda:0', grad_fn=<AddmmBackward>)"
      ]
     },
     "execution_count": 151,
     "metadata": {},
     "output_type": "execute_result"
    }
   ],
   "source": [
    "molopt_decoder.fc2_SYMBOLS(F.leaky_relu(molopt_decoder.fc1_SYMBOLS(x_embedding)))"
   ]
  },
  {
   "cell_type": "code",
   "execution_count": 152,
   "metadata": {},
   "outputs": [
    {
     "data": {
      "text/plain": [
       "tensor([[-0.1335,  0.4283,  0.3699,  ..., -0.3710,  0.7165, -0.5101],\n",
       "        [-0.8927,  1.3656,  0.6950,  ..., -1.0309, -0.1640, -0.0162],\n",
       "        [-0.4414, -0.3376,  2.9654,  ...,  1.0029, -0.6166,  0.1708],\n",
       "        ...,\n",
       "        [ 0.9006,  0.2762, -0.7614,  ...,  1.1360,  0.2881, -0.2464],\n",
       "        [-1.4002,  1.4269, -0.5393,  ..., -1.6091,  0.4275, -0.0564],\n",
       "        [-0.5014,  0.6323,  0.1265,  ..., -1.6008, -0.1383,  0.4430]],\n",
       "       device='cuda:0', grad_fn=<AddBackward0>)"
      ]
     },
     "execution_count": 152,
     "metadata": {},
     "output_type": "execute_result"
    }
   ],
   "source": [
    "x_embedding"
   ]
  },
  {
   "cell_type": "markdown",
   "metadata": {},
   "source": [
    "# debug connectivity"
   ]
  },
  {
   "cell_type": "code",
   "execution_count": 153,
   "metadata": {},
   "outputs": [],
   "source": [
    "def get_pen(model_iter):\n",
    "    model_name = \"model_{}_{}\".format(model, model_iter)\n",
    "    model_decode_name = \"model_{}_decode_{}\".format(model, model_iter)\n",
    "    molopt, config = load_model(args.output_dir + model_name, MolOpt, args.device)\n",
    "    molopt_decoder, config_decoder = load_model(args.output_dir + model_decode_name, MolOptDecoder, args.device)\n",
    "    x_embedding = molopt.forward(X)\n",
    "    yhat_logits = molopt_decoder.forward(x_embedding, X, Y)\n",
    "    yhat_labels = molopt_decoder.discretize_argmax(*yhat_logits)\n",
    "    # yhat_labels = molopt_decoder.discretize(*yhat_logits)\n",
    "    pred_pack = (yhat_labels, yhat_logits, Y.scope), Y \n",
    "\n",
    "    return (pen(*pred_pack, model_iter)[1].item())"
   ]
  },
  {
   "cell_type": "code",
   "execution_count": 154,
   "metadata": {
    "scrolled": true
   },
   "outputs": [
    {
     "ename": "FileNotFoundError",
     "evalue": "[Errno 2] No such file or directory: 'mol_opt/output_transformer10-onebatch/model_transformer10-onebatch-nonconstrained_1600'",
     "output_type": "error",
     "traceback": [
      "\u001b[0;31m---------------------------------------------------------------------------\u001b[0m",
      "\u001b[0;31mFileNotFoundError\u001b[0m                         Traceback (most recent call last)",
      "\u001b[0;32m<ipython-input-154-4521fb9b209a>\u001b[0m in \u001b[0;36m<module>\u001b[0;34m\u001b[0m\n\u001b[1;32m      1\u001b[0m \u001b[0;32mfor\u001b[0m \u001b[0mi\u001b[0m \u001b[0;32min\u001b[0m \u001b[0mrange\u001b[0m\u001b[0;34m(\u001b[0m\u001b[0;36m0\u001b[0m\u001b[0;34m,\u001b[0m \u001b[0;36m2000\u001b[0m\u001b[0;34m)\u001b[0m\u001b[0;34m:\u001b[0m\u001b[0;34m\u001b[0m\u001b[0;34m\u001b[0m\u001b[0m\n\u001b[0;32m----> 2\u001b[0;31m     \u001b[0mprint\u001b[0m \u001b[0;34m(\u001b[0m\u001b[0mi\u001b[0m\u001b[0;34m,\u001b[0m \u001b[0mget_pen\u001b[0m\u001b[0;34m(\u001b[0m\u001b[0;36m1600\u001b[0m\u001b[0;34m)\u001b[0m\u001b[0;34m)\u001b[0m\u001b[0;34m\u001b[0m\u001b[0;34m\u001b[0m\u001b[0m\n\u001b[0m",
      "\u001b[0;32m<ipython-input-153-a93df54ba17f>\u001b[0m in \u001b[0;36mget_pen\u001b[0;34m(model_iter)\u001b[0m\n\u001b[1;32m      2\u001b[0m     \u001b[0mmodel_name\u001b[0m \u001b[0;34m=\u001b[0m \u001b[0;34m\"model_{}_{}\"\u001b[0m\u001b[0;34m.\u001b[0m\u001b[0mformat\u001b[0m\u001b[0;34m(\u001b[0m\u001b[0mmodel\u001b[0m\u001b[0;34m,\u001b[0m \u001b[0mmodel_iter\u001b[0m\u001b[0;34m)\u001b[0m\u001b[0;34m\u001b[0m\u001b[0;34m\u001b[0m\u001b[0m\n\u001b[1;32m      3\u001b[0m     \u001b[0mmodel_decode_name\u001b[0m \u001b[0;34m=\u001b[0m \u001b[0;34m\"model_{}_decode_{}\"\u001b[0m\u001b[0;34m.\u001b[0m\u001b[0mformat\u001b[0m\u001b[0;34m(\u001b[0m\u001b[0mmodel\u001b[0m\u001b[0;34m,\u001b[0m \u001b[0mmodel_iter\u001b[0m\u001b[0;34m)\u001b[0m\u001b[0;34m\u001b[0m\u001b[0;34m\u001b[0m\u001b[0m\n\u001b[0;32m----> 4\u001b[0;31m     \u001b[0mmolopt\u001b[0m\u001b[0;34m,\u001b[0m \u001b[0mconfig\u001b[0m \u001b[0;34m=\u001b[0m \u001b[0mload_model\u001b[0m\u001b[0;34m(\u001b[0m\u001b[0margs\u001b[0m\u001b[0;34m.\u001b[0m\u001b[0moutput_dir\u001b[0m \u001b[0;34m+\u001b[0m \u001b[0mmodel_name\u001b[0m\u001b[0;34m,\u001b[0m \u001b[0mMolOpt\u001b[0m\u001b[0;34m,\u001b[0m \u001b[0margs\u001b[0m\u001b[0;34m.\u001b[0m\u001b[0mdevice\u001b[0m\u001b[0;34m)\u001b[0m\u001b[0;34m\u001b[0m\u001b[0;34m\u001b[0m\u001b[0m\n\u001b[0m\u001b[1;32m      5\u001b[0m     \u001b[0mmolopt_decoder\u001b[0m\u001b[0;34m,\u001b[0m \u001b[0mconfig_decoder\u001b[0m \u001b[0;34m=\u001b[0m \u001b[0mload_model\u001b[0m\u001b[0;34m(\u001b[0m\u001b[0margs\u001b[0m\u001b[0;34m.\u001b[0m\u001b[0moutput_dir\u001b[0m \u001b[0;34m+\u001b[0m \u001b[0mmodel_decode_name\u001b[0m\u001b[0;34m,\u001b[0m \u001b[0mMolOptDecoder\u001b[0m\u001b[0;34m,\u001b[0m \u001b[0margs\u001b[0m\u001b[0;34m.\u001b[0m\u001b[0mdevice\u001b[0m\u001b[0;34m)\u001b[0m\u001b[0;34m\u001b[0m\u001b[0;34m\u001b[0m\u001b[0m\n\u001b[1;32m      6\u001b[0m     \u001b[0mx_embedding\u001b[0m \u001b[0;34m=\u001b[0m \u001b[0mmolopt\u001b[0m\u001b[0;34m.\u001b[0m\u001b[0mforward\u001b[0m\u001b[0;34m(\u001b[0m\u001b[0mX\u001b[0m\u001b[0;34m)\u001b[0m\u001b[0;34m\u001b[0m\u001b[0;34m\u001b[0m\u001b[0m\n",
      "\u001b[0;32m~/gitrepos/tum-thesis/otgnn/utils/model_utils.py\u001b[0m in \u001b[0;36mload_model\u001b[0;34m(path, model_class, device)\u001b[0m\n\u001b[1;32m     16\u001b[0m \u001b[0;31m# Load the model along with args for the model\u001b[0m\u001b[0;34m\u001b[0m\u001b[0;34m\u001b[0m\u001b[0;34m\u001b[0m\u001b[0m\n\u001b[1;32m     17\u001b[0m \u001b[0;32mdef\u001b[0m \u001b[0mload_model\u001b[0m\u001b[0;34m(\u001b[0m\u001b[0mpath\u001b[0m\u001b[0;34m,\u001b[0m \u001b[0mmodel_class\u001b[0m\u001b[0;34m,\u001b[0m \u001b[0mdevice\u001b[0m\u001b[0;34m)\u001b[0m\u001b[0;34m:\u001b[0m\u001b[0;34m\u001b[0m\u001b[0;34m\u001b[0m\u001b[0m\n\u001b[0;32m---> 18\u001b[0;31m     \u001b[0mmodel_dict\u001b[0m \u001b[0;34m=\u001b[0m \u001b[0mtorch\u001b[0m\u001b[0;34m.\u001b[0m\u001b[0mload\u001b[0m\u001b[0;34m(\u001b[0m\u001b[0mpath\u001b[0m\u001b[0;34m)\u001b[0m\u001b[0;34m\u001b[0m\u001b[0;34m\u001b[0m\u001b[0m\n\u001b[0m\u001b[1;32m     19\u001b[0m     \u001b[0margs\u001b[0m \u001b[0;34m=\u001b[0m \u001b[0mmodel_dict\u001b[0m\u001b[0;34m[\u001b[0m\u001b[0;34m'args'\u001b[0m\u001b[0;34m]\u001b[0m\u001b[0;34m\u001b[0m\u001b[0;34m\u001b[0m\u001b[0m\n\u001b[1;32m     20\u001b[0m \u001b[0;34m\u001b[0m\u001b[0m\n",
      "\u001b[0;32m~/anaconda3/envs/mol_ot/lib/python3.6/site-packages/torch/serialization.py\u001b[0m in \u001b[0;36mload\u001b[0;34m(f, map_location, pickle_module, **pickle_load_args)\u001b[0m\n\u001b[1;32m    569\u001b[0m         \u001b[0mpickle_load_args\u001b[0m\u001b[0;34m[\u001b[0m\u001b[0;34m'encoding'\u001b[0m\u001b[0;34m]\u001b[0m \u001b[0;34m=\u001b[0m \u001b[0;34m'utf-8'\u001b[0m\u001b[0;34m\u001b[0m\u001b[0;34m\u001b[0m\u001b[0m\n\u001b[1;32m    570\u001b[0m \u001b[0;34m\u001b[0m\u001b[0m\n\u001b[0;32m--> 571\u001b[0;31m     \u001b[0;32mwith\u001b[0m \u001b[0m_open_file_like\u001b[0m\u001b[0;34m(\u001b[0m\u001b[0mf\u001b[0m\u001b[0;34m,\u001b[0m \u001b[0;34m'rb'\u001b[0m\u001b[0;34m)\u001b[0m \u001b[0;32mas\u001b[0m \u001b[0mopened_file\u001b[0m\u001b[0;34m:\u001b[0m\u001b[0;34m\u001b[0m\u001b[0;34m\u001b[0m\u001b[0m\n\u001b[0m\u001b[1;32m    572\u001b[0m         \u001b[0;32mif\u001b[0m \u001b[0m_is_zipfile\u001b[0m\u001b[0;34m(\u001b[0m\u001b[0mopened_file\u001b[0m\u001b[0;34m)\u001b[0m\u001b[0;34m:\u001b[0m\u001b[0;34m\u001b[0m\u001b[0;34m\u001b[0m\u001b[0m\n\u001b[1;32m    573\u001b[0m             \u001b[0;31m# The zipfile reader is going to advance the current file position.\u001b[0m\u001b[0;34m\u001b[0m\u001b[0;34m\u001b[0m\u001b[0;34m\u001b[0m\u001b[0m\n",
      "\u001b[0;32m~/anaconda3/envs/mol_ot/lib/python3.6/site-packages/torch/serialization.py\u001b[0m in \u001b[0;36m_open_file_like\u001b[0;34m(name_or_buffer, mode)\u001b[0m\n\u001b[1;32m    227\u001b[0m \u001b[0;32mdef\u001b[0m \u001b[0m_open_file_like\u001b[0m\u001b[0;34m(\u001b[0m\u001b[0mname_or_buffer\u001b[0m\u001b[0;34m,\u001b[0m \u001b[0mmode\u001b[0m\u001b[0;34m)\u001b[0m\u001b[0;34m:\u001b[0m\u001b[0;34m\u001b[0m\u001b[0;34m\u001b[0m\u001b[0m\n\u001b[1;32m    228\u001b[0m     \u001b[0;32mif\u001b[0m \u001b[0m_is_path\u001b[0m\u001b[0;34m(\u001b[0m\u001b[0mname_or_buffer\u001b[0m\u001b[0;34m)\u001b[0m\u001b[0;34m:\u001b[0m\u001b[0;34m\u001b[0m\u001b[0;34m\u001b[0m\u001b[0m\n\u001b[0;32m--> 229\u001b[0;31m         \u001b[0;32mreturn\u001b[0m \u001b[0m_open_file\u001b[0m\u001b[0;34m(\u001b[0m\u001b[0mname_or_buffer\u001b[0m\u001b[0;34m,\u001b[0m \u001b[0mmode\u001b[0m\u001b[0;34m)\u001b[0m\u001b[0;34m\u001b[0m\u001b[0;34m\u001b[0m\u001b[0m\n\u001b[0m\u001b[1;32m    230\u001b[0m     \u001b[0;32melse\u001b[0m\u001b[0;34m:\u001b[0m\u001b[0;34m\u001b[0m\u001b[0;34m\u001b[0m\u001b[0m\n\u001b[1;32m    231\u001b[0m         \u001b[0;32mif\u001b[0m \u001b[0;34m'w'\u001b[0m \u001b[0;32min\u001b[0m \u001b[0mmode\u001b[0m\u001b[0;34m:\u001b[0m\u001b[0;34m\u001b[0m\u001b[0;34m\u001b[0m\u001b[0m\n",
      "\u001b[0;32m~/anaconda3/envs/mol_ot/lib/python3.6/site-packages/torch/serialization.py\u001b[0m in \u001b[0;36m__init__\u001b[0;34m(self, name, mode)\u001b[0m\n\u001b[1;32m    208\u001b[0m \u001b[0;32mclass\u001b[0m \u001b[0m_open_file\u001b[0m\u001b[0;34m(\u001b[0m\u001b[0m_opener\u001b[0m\u001b[0;34m)\u001b[0m\u001b[0;34m:\u001b[0m\u001b[0;34m\u001b[0m\u001b[0;34m\u001b[0m\u001b[0m\n\u001b[1;32m    209\u001b[0m     \u001b[0;32mdef\u001b[0m \u001b[0m__init__\u001b[0m\u001b[0;34m(\u001b[0m\u001b[0mself\u001b[0m\u001b[0;34m,\u001b[0m \u001b[0mname\u001b[0m\u001b[0;34m,\u001b[0m \u001b[0mmode\u001b[0m\u001b[0;34m)\u001b[0m\u001b[0;34m:\u001b[0m\u001b[0;34m\u001b[0m\u001b[0;34m\u001b[0m\u001b[0m\n\u001b[0;32m--> 210\u001b[0;31m         \u001b[0msuper\u001b[0m\u001b[0;34m(\u001b[0m\u001b[0m_open_file\u001b[0m\u001b[0;34m,\u001b[0m \u001b[0mself\u001b[0m\u001b[0;34m)\u001b[0m\u001b[0;34m.\u001b[0m\u001b[0m__init__\u001b[0m\u001b[0;34m(\u001b[0m\u001b[0mopen\u001b[0m\u001b[0;34m(\u001b[0m\u001b[0mname\u001b[0m\u001b[0;34m,\u001b[0m \u001b[0mmode\u001b[0m\u001b[0;34m)\u001b[0m\u001b[0;34m)\u001b[0m\u001b[0;34m\u001b[0m\u001b[0;34m\u001b[0m\u001b[0m\n\u001b[0m\u001b[1;32m    211\u001b[0m \u001b[0;34m\u001b[0m\u001b[0m\n\u001b[1;32m    212\u001b[0m     \u001b[0;32mdef\u001b[0m \u001b[0m__exit__\u001b[0m\u001b[0;34m(\u001b[0m\u001b[0mself\u001b[0m\u001b[0;34m,\u001b[0m \u001b[0;34m*\u001b[0m\u001b[0margs\u001b[0m\u001b[0;34m)\u001b[0m\u001b[0;34m:\u001b[0m\u001b[0;34m\u001b[0m\u001b[0;34m\u001b[0m\u001b[0m\n",
      "\u001b[0;31mFileNotFoundError\u001b[0m: [Errno 2] No such file or directory: 'mol_opt/output_transformer10-onebatch/model_transformer10-onebatch-nonconstrained_1600'"
     ]
    }
   ],
   "source": [
    "for i in range(0, 2000):\n",
    "    print (i, get_pen(1600))"
   ]
  },
  {
   "cell_type": "code",
   "execution_count": null,
   "metadata": {},
   "outputs": [],
   "source": [
    "# adjM = pen_loss\n",
    "# N = adjM.shape[0]\n",
    "# device = adjM.device\n",
    "# # We need the laplacian otherwise\n",
    "# L = torch.diag(torch.matmul(adjM, torch.ones(N, device=device))) - adjM # Laplacian\n",
    "# L_mod = L + torch.ones_like(L, device=device) / N\n",
    "# eigenvals = torch.symeig(L_mod + 1e-06 * torch.eye(N, device=device), eigenvectors=True)[0]\n",
    "# -torch.sum(torch.log(eigenvals.clamp(max = 1e-01))) + len(eigenvals) * np.log(1e-01)"
   ]
  },
  {
   "cell_type": "code",
   "execution_count": null,
   "metadata": {},
   "outputs": [],
   "source": [
    "F.gumbel_softmax(symbols_logits, dim=1, tau=0.5)"
   ]
  },
  {
   "cell_type": "code",
   "execution_count": null,
   "metadata": {},
   "outputs": [],
   "source": []
  }
 ],
 "metadata": {
  "kernelspec": {
   "display_name": "Python 3",
   "language": "python",
   "name": "python3"
  },
  "language_info": {
   "codemirror_mode": {
    "name": "ipython",
    "version": 3
   },
   "file_extension": ".py",
   "mimetype": "text/x-python",
   "name": "python",
   "nbconvert_exporter": "python",
   "pygments_lexer": "ipython3",
   "version": "3.6.8"
  }
 },
 "nbformat": 4,
 "nbformat_minor": 4
}
