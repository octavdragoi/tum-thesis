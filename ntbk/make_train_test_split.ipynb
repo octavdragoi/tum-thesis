{
 "cells": [
  {
   "cell_type": "code",
   "execution_count": 2,
   "metadata": {},
   "outputs": [],
   "source": [
    "import os\n",
    "import numpy as np"
   ]
  },
  {
   "cell_type": "code",
   "execution_count": 3,
   "metadata": {},
   "outputs": [],
   "source": [
    "data_dir = \"../iclr19-graph2graph/data/qed\"\n",
    "data_dir = \"../molgen/data/chembl50/\"\n",
    "\n",
    "with open('%s/total.txt' % data_dir, 'r+') as datafile:\n",
    "    train = open('%s/train_split.txt' % data_dir, 'w+')\n",
    "    val = open('%s/val_split.txt' % data_dir, 'w+')\n",
    "    test = open('%s/test_split.txt' % data_dir, 'w+')\n",
    "    for line in datafile.readlines():\n",
    "        #train point\n",
    "        rand = np.random.rand()\n",
    "        if rand < 0.1:\n",
    "            test.write(line)\n",
    "        elif rand > 0.1 and rand < 0.2:\n",
    "            val.write(line)\n",
    "        else:\n",
    "            train.write(line)\n",
    "        \n",
    "    train.close()\n",
    "    val.close()"
   ]
  },
  {
   "cell_type": "code",
   "execution_count": 24,
   "metadata": {},
   "outputs": [],
   "source": []
  }
 ],
 "metadata": {
  "kernelspec": {
   "display_name": "Python 3",
   "language": "python",
   "name": "python3"
  },
  "language_info": {
   "codemirror_mode": {
    "name": "ipython",
    "version": 3
   },
   "file_extension": ".py",
   "mimetype": "text/x-python",
   "name": "python",
   "nbconvert_exporter": "python",
   "pygments_lexer": "ipython3",
   "version": "3.6.8"
  }
 },
 "nbformat": 4,
 "nbformat_minor": 4
}
