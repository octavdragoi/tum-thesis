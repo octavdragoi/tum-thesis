{
 "cells": [
  {
   "cell_type": "code",
   "execution_count": 6,
   "metadata": {},
   "outputs": [],
   "source": [
    "import os\n",
    "import numpy as np"
   ]
  },
  {
   "cell_type": "code",
   "execution_count": 27,
   "metadata": {},
   "outputs": [],
   "source": [
    "data_dir = \"../iclr19-graph2graph/data/qed\"\n",
    "threshold = 0.1\n",
    "\n",
    "with open('%s/train_pairs.txt' % data_dir, 'r+') as datafile:\n",
    "    train = open('%s/train_pairs_split.txt' % data_dir, 'w+')\n",
    "    val = open('%s/val_pairs_split.txt' % data_dir, 'w+')\n",
    "    for line in datafile.readlines():\n",
    "        #train point\n",
    "        if np.random.rand() > 0.1:\n",
    "            train.write(line)\n",
    "        else:\n",
    "            val.write(line)\n",
    "        \n",
    "    train.close()\n",
    "    val.close()"
   ]
  },
  {
   "cell_type": "code",
   "execution_count": 24,
   "metadata": {},
   "outputs": [],
   "source": []
  }
 ],
 "metadata": {
  "kernelspec": {
   "display_name": "Python 3",
   "language": "python",
   "name": "python3"
  },
  "language_info": {
   "codemirror_mode": {
    "name": "ipython",
    "version": 3
   },
   "file_extension": ".py",
   "mimetype": "text/x-python",
   "name": "python",
   "nbconvert_exporter": "python",
   "pygments_lexer": "ipython3",
   "version": "3.6.8"
  }
 },
 "nbformat": 4,
 "nbformat_minor": 4
}
