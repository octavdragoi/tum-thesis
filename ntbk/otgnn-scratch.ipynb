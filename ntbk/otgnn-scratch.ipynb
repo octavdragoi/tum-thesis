{
 "cells": [
  {
   "cell_type": "code",
   "execution_count": 1,
   "metadata": {},
   "outputs": [],
   "source": [
    "import os\n",
    "if \"otgnn\" not in os.getcwd():\n",
    "    os.chdir(\"../otgnn\")\n",
    "\n",
    "import numpy as np\n",
    "import torch\n",
    "# device = 'cuda:0' if torch.cuda.is_available() else 'cpu'\n",
    "device = 'cpu'\n",
    "\n",
    "from utils import load_model\n",
    "from models import GCN, compute_ot\n",
    "from datasets import PropDataset, get_loader\n",
    "from graph import MolGraph\n",
    "\n",
    "from multiprocessing import Pool"
   ]
  },
  {
   "cell_type": "code",
   "execution_count": 2,
   "metadata": {},
   "outputs": [],
   "source": [
    "# load model\n",
    "model_path = \"output/gcnsum_5layers_balanced/run_9/models/model_best\"\n",
    "\n",
    "gcn_model, namespace = load_model(model_path, model_class = GCN, device = device)"
   ]
  },
  {
   "cell_type": "code",
   "execution_count": 3,
   "metadata": {},
   "outputs": [
    {
     "name": "stdout",
     "output_type": "stream",
     "text": [
      "Namespace(agg_func='sum', batch_norm=False, batch_size=48, combined=False, cost_distance='l2', cuda=False, data='pseudonomas', data_dir='data/pseudonomas', device='cpu', distance_metric='wasserstein', dropout_ffn=0.0, dropout_gcn=0.0, epoch=199, ffn_activation='LeakyReLU', fgw_alpha=0.5, fgw_c1_c2_dist='diff', fgw_path=False, fgw_pc_path=False, grid_dir='', grid_hp_file='', grid_hp_idx='', grid_model=None, grid_splits='', gromov_max_it_inner=None, gromov_max_it_outer=100, gromov_opt_method='basic', gromov_opt_submethod='None', gw_L_tensor_dist='dot', hp_dir='', hp_model='', hp_num_iters=20, init_method='none', init_model=None, init_num=0, init_source='none', latest_train_stat=-1.0, latest_val_stat=-0.8220930232558139, linear_out=False, log_tb=False, lr=0.0003, lr_pc=0.01, max_grad_norm=10, model_dir='output/gcnsum_5layers_balanced/run_9/models', mult_num_atoms=True, n_epochs=200, n_ffn_hidden=100, n_hidden=50, n_labels=1, n_layers=5, n_pc=10, n_splits=10, name='', nce_coef=0.01, nce_margin=0.0, opt_method='emd', output_dir='output/gcnsum_5layers_balanced/run_9', patience=30, pc_free_epoch=0, pc_hidden=50, pc_size=10, pc_xavier_std=0.1, plot_freq=10, plot_max=1000, plot_num_ex=5, plot_pc=False, pretrain_gcn=None, pretrain_model=None, save_init=False, separate_lr=False, separate_pcs=False, sinkhorn_entropy=0.1, sinkhorn_max_it=10000, task='auc', unbalanced=False, val_stat='auc', write_every=20)\n"
     ]
    }
   ],
   "source": [
    "print (namespace)"
   ]
  },
  {
   "cell_type": "code",
   "execution_count": 4,
   "metadata": {},
   "outputs": [
    {
     "name": "stdout",
     "output_type": "stream",
     "text": [
      "../iclr19-graph2graph/data/qed   wengong ; split= 0  num total=  88306  num pos= 0\n"
     ]
    }
   ],
   "source": [
    "# load dataset\n",
    "# dataset = PropDataset(\"data/sol/\", data_type = \"train\")\n",
    "dataset = PropDataset(\"../iclr19-graph2graph/data/qed\", data_type = \"wengong\")"
   ]
  },
  {
   "cell_type": "code",
   "execution_count": 5,
   "metadata": {},
   "outputs": [],
   "source": [
    "# get molecular graphs for all molecules\n",
    "with Pool(24) as p:\n",
    "    mol_graphs = p.map(MolGraph, dataset)"
   ]
  },
  {
   "cell_type": "code",
   "execution_count": 6,
   "metadata": {},
   "outputs": [
    {
     "data": {
      "text/plain": [
       "(5975, 88306)"
      ]
     },
     "execution_count": 6,
     "metadata": {},
     "output_type": "execute_result"
    }
   ],
   "source": [
    "mol_graphs_lens = [(len(dp.mols[0].atoms), len(dp.mols[1].atoms)) for dp in mol_graphs]\n",
    "mol_graphs_same = [x for i, x in enumerate(mol_graphs) if mol_graphs_lens[i][0] == mol_graphs_lens[i][1]]\n",
    "len(mol_graphs_same), len(mol_graphs)"
   ]
  },
  {
   "cell_type": "code",
   "execution_count": 7,
   "metadata": {},
   "outputs": [],
   "source": [
    "dp = mol_graphs_same[0]\n",
    "\n",
    "lenx = len(dp.mols[0].atoms)\n",
    "leny = len(dp.mols[1].atoms)\n",
    "\n",
    "Hx = np.ones(lenx)/lenx\n",
    "Hy = np.ones(leny)/leny\n",
    "\n",
    "dp_embedding = gcn_model.forward(dp)\n",
    "dp_x = dp_embedding[0][0:lenx,:]\n",
    "dp_y = dp_embedding[0][lenx:lenx+leny,:]"
   ]
  },
  {
   "cell_type": "code",
   "execution_count": 8,
   "metadata": {},
   "outputs": [],
   "source": [
    "OT_xy = compute_ot(dp_x, dp_y, opt_method = 'emd',sinkhorn_max_it = 100, \n",
    "                   H_1 = Hx, H_2 = Hy, sinkhorn_entropy = 0.1)\n",
    "\n",
    "# this is the rescaled permutation matrix, if x and y have the same cardinality\n",
    "pmatrix = OT_xy[2] * lenx\n",
    "dp_y_perm = torch.mm(pmatrix, dp_y)"
   ]
  },
  {
   "cell_type": "code",
   "execution_count": 12,
   "metadata": {},
   "outputs": [
    {
     "data": {
      "text/plain": [
       "22"
      ]
     },
     "execution_count": 12,
     "metadata": {},
     "output_type": "execute_result"
    }
   ],
   "source": [
    "dp_x.shape[0]"
   ]
  },
  {
   "cell_type": "code",
   "execution_count": 10,
   "metadata": {},
   "outputs": [
    {
     "data": {
      "text/plain": [
       "tensor([[ 3.2609e-02,  2.5362e-01,  1.8659e-01,  ..., -2.8552e-01,\n",
       "         -2.4307e-02, -8.7463e-02],\n",
       "        [-9.4216e-02,  1.7581e-02,  8.3255e-02,  ..., -1.2304e-01,\n",
       "          1.2050e-01, -1.3111e-01],\n",
       "        [-4.1250e-02,  1.6160e-01,  7.7837e-02,  ..., -1.1122e-01,\n",
       "          9.3742e-02, -1.1690e-02],\n",
       "        ...,\n",
       "        [ 0.0000e+00, -1.4901e-08, -7.4506e-09,  ...,  1.8626e-08,\n",
       "          0.0000e+00,  0.0000e+00],\n",
       "        [ 2.9802e-08, -7.4506e-09,  7.4506e-09,  ..., -7.4506e-09,\n",
       "          0.0000e+00,  7.4506e-09],\n",
       "        [-6.4046e-03,  1.2067e-02,  1.6502e-02,  ..., -1.4632e-02,\n",
       "         -1.7838e-02, -2.9542e-02]], grad_fn=<SubBackward0>)"
      ]
     },
     "execution_count": 10,
     "metadata": {},
     "output_type": "execute_result"
    }
   ],
   "source": [
    "dp_y_perm - dp_x"
   ]
  },
  {
   "cell_type": "code",
   "execution_count": 11,
   "metadata": {},
   "outputs": [
    {
     "data": {
      "text/plain": [
       "tensor([[-0.0249, -0.2365, -0.0811,  ...,  0.0842, -0.2385, -0.0374],\n",
       "        [ 0.1374,  0.2087, -0.2858,  ...,  0.1649, -0.1999, -0.2026],\n",
       "        [ 0.0915, -0.0769, -0.1070,  ...,  0.1143, -0.1884, -0.0709],\n",
       "        ...,\n",
       "        [-0.2960, -0.0722,  0.0546,  ...,  0.0597,  0.2668,  0.0544],\n",
       "        [-0.2466, -0.0783,  0.0545,  ...,  0.0452,  0.2429, -0.0373],\n",
       "        [ 0.0917,  0.2418, -0.1777,  ...,  0.0212,  0.0194, -0.1757]],\n",
       "       grad_fn=<SliceBackward>)"
      ]
     },
     "execution_count": 11,
     "metadata": {},
     "output_type": "execute_result"
    }
   ],
   "source": [
    "dp_x"
   ]
  },
  {
   "cell_type": "code",
   "execution_count": 12,
   "metadata": {},
   "outputs": [
    {
     "data": {
      "text/plain": [
       "tensor([[ 0.0077,  0.0172,  0.1055,  ..., -0.2013, -0.2629, -0.1248],\n",
       "        [ 0.1376,  0.2057, -0.0800,  ..., -0.0134, -0.4696, -0.4551],\n",
       "        [ 0.1426,  0.2933, -0.0659,  ..., -0.1418, -0.1216, -0.2257],\n",
       "        ...,\n",
       "        [-0.2466, -0.0783,  0.0545,  ...,  0.0452,  0.2429, -0.0373],\n",
       "        [ 0.0853,  0.2538, -0.1612,  ...,  0.0066,  0.0015, -0.2053],\n",
       "        [ 0.1162,  0.0466, -0.0533,  ..., -0.0094, -0.0949, -0.0499]],\n",
       "       grad_fn=<SliceBackward>)"
      ]
     },
     "execution_count": 12,
     "metadata": {},
     "output_type": "execute_result"
    }
   ],
   "source": [
    "dp_y"
   ]
  },
  {
   "cell_type": "code",
   "execution_count": 14,
   "metadata": {},
   "outputs": [
    {
     "data": {
      "text/plain": [
       "torch.Size([22, 50])"
      ]
     },
     "execution_count": 14,
     "metadata": {},
     "output_type": "execute_result"
    }
   ],
   "source": [
    "dp_x"
   ]
  },
  {
   "cell_type": "code",
   "execution_count": 17,
   "metadata": {},
   "outputs": [],
   "source": [
    "opt = torch.nn.Linear(50, 50)"
   ]
  },
  {
   "cell_type": "code",
   "execution_count": 19,
   "metadata": {},
   "outputs": [
    {
     "data": {
      "text/plain": [
       "tensor([[ 0.0452,  0.0452, -0.2337,  ...,  0.0500,  0.1039, -0.0787],\n",
       "        [-0.0911,  0.1315, -0.0566,  ...,  0.0493,  0.1781, -0.0868],\n",
       "        [ 0.0914,  0.0710, -0.0827,  ...,  0.1487,  0.1193, -0.0727],\n",
       "        ...,\n",
       "        [-0.2943,  0.0308,  0.2118,  ...,  0.2272, -0.0664, -0.1165],\n",
       "        [-0.2589,  0.0491,  0.1853,  ...,  0.2679, -0.0512, -0.0547],\n",
       "        [-0.1980,  0.2009,  0.0461,  ...,  0.1865,  0.0866, -0.0772]],\n",
       "       grad_fn=<AddmmBackward>)"
      ]
     },
     "execution_count": 19,
     "metadata": {},
     "output_type": "execute_result"
    }
   ],
   "source": [
    "opt(dp_x)"
   ]
  },
  {
   "cell_type": "code",
   "execution_count": 21,
   "metadata": {},
   "outputs": [
    {
     "data": {
      "text/plain": [
       "Linear(in_features=50, out_features=50, bias=True)"
      ]
     },
     "execution_count": 21,
     "metadata": {},
     "output_type": "execute_result"
    }
   ],
   "source": [
    "opt"
   ]
  },
  {
   "cell_type": "code",
   "execution_count": 28,
   "metadata": {},
   "outputs": [
    {
     "data": {
      "text/plain": [
       "tensor([ 0.0914,  0.0710, -0.0827,  0.2312, -0.2916,  0.0719, -0.1599,  0.0610,\n",
       "         0.0023, -0.1936,  0.1506,  0.2091, -0.0643, -0.3261,  0.0815,  0.0889,\n",
       "        -0.0095, -0.1008, -0.0126,  0.0097, -0.0660,  0.0469,  0.1013,  0.1156,\n",
       "         0.0449, -0.0513, -0.1620, -0.2501,  0.0678,  0.2904,  0.0553,  0.2455,\n",
       "         0.2584,  0.0030, -0.0568,  0.1300,  0.0974, -0.0355, -0.0374,  0.1742,\n",
       "         0.1388,  0.2372, -0.0791,  0.1651,  0.1196, -0.0741, -0.2013,  0.1487,\n",
       "         0.1193, -0.0727], grad_fn=<AddBackward0>)"
      ]
     },
     "execution_count": 28,
     "metadata": {},
     "output_type": "execute_result"
    }
   ],
   "source": [
    "opt(dp_x[2,:])"
   ]
  },
  {
   "cell_type": "code",
   "execution_count": 29,
   "metadata": {},
   "outputs": [],
   "source": [
    "# data loading"
   ]
  },
  {
   "cell_type": "code",
   "execution_count": 42,
   "metadata": {},
   "outputs": [
    {
     "data": {
      "text/plain": [
       "[<graph.mol_graph.Molecule at 0x7efcd82ec9b0>,\n",
       " <graph.mol_graph.Molecule at 0x7efcc1c6d908>]"
      ]
     },
     "execution_count": 42,
     "metadata": {},
     "output_type": "execute_result"
    }
   ],
   "source": [
    "mol_graphs[0].mols"
   ]
  },
  {
   "cell_type": "code",
   "execution_count": 46,
   "metadata": {},
   "outputs": [
    {
     "data": {
      "text/plain": [
       "torch.Size([49, 50])"
      ]
     },
     "execution_count": 46,
     "metadata": {},
     "output_type": "execute_result"
    }
   ],
   "source": [
    "gcn_model.forward(mol_graphs[0])[0].shape"
   ]
  },
  {
   "cell_type": "code",
   "execution_count": 50,
   "metadata": {},
   "outputs": [
    {
     "name": "stdout",
     "output_type": "stream",
     "text": [
      "../iclr19-graph2graph/data/qed   wengong ; split= 0  num total=  88306  num pos= 0\n"
     ]
    }
   ],
   "source": [
    "data_loader = get_loader(\"../iclr19-graph2graph/data/qed\", \"wengong\", 48)\n",
    "for x in data_loader:\n",
    "    y = (MolGraph(x[1]))\n",
    "    break"
   ]
  },
  {
   "cell_type": "code",
   "execution_count": 52,
   "metadata": {},
   "outputs": [
    {
     "data": {
      "text/plain": [
       "(tensor([[-0.0870, -0.1251,  0.0091,  ..., -0.0373, -0.2293, -0.1346],\n",
       "         [-0.0864,  0.2576, -0.1332,  ...,  0.0244, -0.2223, -0.3507],\n",
       "         [-0.0322,  0.0882, -0.1250,  ...,  0.0517, -0.0901, -0.0536],\n",
       "         ...,\n",
       "         [ 0.0359,  0.0439, -0.0475,  ..., -0.0063, -0.0784, -0.0943],\n",
       "         [ 0.0518,  0.0954, -0.0771,  ...,  0.0004,  0.0100,  0.0281],\n",
       "         [ 0.0845,  0.1678, -0.3848,  ...,  0.0621,  0.0439,  0.0274]],\n",
       "        grad_fn=<AddmmBackward>),\n",
       " tensor([[-21.8511],\n",
       "         [-15.1406],\n",
       "         [ -5.9249],\n",
       "         [-14.9901],\n",
       "         [-19.7632],\n",
       "         [-26.0849],\n",
       "         [-11.1604],\n",
       "         [-21.0078],\n",
       "         [-16.2720],\n",
       "         [-20.9298],\n",
       "         [-16.8503],\n",
       "         [-10.3132],\n",
       "         [-17.0383],\n",
       "         [-19.7530],\n",
       "         [-18.0468],\n",
       "         [-17.3954],\n",
       "         [-19.9377],\n",
       "         [-12.3606],\n",
       "         [-14.1296],\n",
       "         [-22.1965],\n",
       "         [-20.9364],\n",
       "         [-16.4210],\n",
       "         [-17.5517],\n",
       "         [-13.1477],\n",
       "         [-14.4498],\n",
       "         [-14.1220],\n",
       "         [-14.1112],\n",
       "         [-17.6175],\n",
       "         [-17.9165],\n",
       "         [-12.2184],\n",
       "         [-20.2084],\n",
       "         [-16.0242],\n",
       "         [-20.3446],\n",
       "         [-14.7967],\n",
       "         [-17.4273],\n",
       "         [ -5.3943],\n",
       "         [-17.0715],\n",
       "         [ -7.9475],\n",
       "         [-13.1436],\n",
       "         [ -8.4771],\n",
       "         [-20.7936],\n",
       "         [-15.9411],\n",
       "         [-14.8354],\n",
       "         [-20.2812],\n",
       "         [-12.4578],\n",
       "         [-20.0679],\n",
       "         [-18.3300],\n",
       "         [-13.8879]], grad_fn=<AddmmBackward>))"
      ]
     },
     "execution_count": 52,
     "metadata": {},
     "output_type": "execute_result"
    }
   ],
   "source": [
    "gcn_model(y)"
   ]
  }
 ],
 "metadata": {
  "kernelspec": {
   "display_name": "Python 3",
   "language": "python",
   "name": "python3"
  },
  "language_info": {
   "codemirror_mode": {
    "name": "ipython",
    "version": 3
   },
   "file_extension": ".py",
   "mimetype": "text/x-python",
   "name": "python",
   "nbconvert_exporter": "python",
   "pygments_lexer": "ipython3",
   "version": "3.6.8"
  }
 },
 "nbformat": 4,
 "nbformat_minor": 4
}
