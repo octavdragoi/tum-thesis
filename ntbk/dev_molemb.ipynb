{
 "cells": [
  {
   "cell_type": "code",
   "execution_count": 65,
   "metadata": {},
   "outputs": [
    {
     "name": "stdout",
     "output_type": "stream",
     "text": [
      "/home/octav/gitrepos/tum-thesis\n",
      "The autoreload extension is already loaded. To reload it, use:\n",
      "  %reload_ext autoreload\n"
     ]
    }
   ],
   "source": [
    "import os\n",
    "if \"ntbk\" in os.getcwd():\n",
    "    os.chdir(\"..\")\n",
    "print(os.getcwd())\n",
    "\n",
    "import sys\n",
    "sys.path.append(os.path.join(os.getcwd(), \"otgnn\"))\n",
    "\n",
    "\n",
    "%load_ext autoreload\n",
    "%autoreload 2\n",
    "\n",
    "from otgnn.models import GCN\n",
    "from otgnn.graph import MolGraph\n",
    "from otgnn.utils import save_model, load_model\n",
    "\n",
    "from mol_opt.mol_opt import MolOpt\n",
    "from mol_opt.decoder_mol_opt import MolOptDecoder\n",
    "from mol_opt.data_mol_opt import MolOptDataset\n",
    "from mol_opt.data_mol_opt import get_loader\n",
    "from mol_opt.arguments import get_args\n",
    "from mol_opt.train_mol_opt import main, get_latest_model\n",
    "from mol_opt.ot_utils import compute_barycenter\n",
    "\n",
    "from rdkit.Chem import MolFromSmiles\n",
    "\n",
    "import torch\n",
    "import numpy as np\n",
    "import time\n",
    "import torch.nn.functional as F\n",
    "\n",
    "sys.argv = [\"\", \"-cuda\"]\n",
    "args = get_args()\n",
    "args.output_dir = \"mol_opt/output/\"\n",
    "args.model_type = \"molemb\"\n",
    "\n",
    "\n"
   ]
  },
  {
   "cell_type": "code",
   "execution_count": 66,
   "metadata": {
    "scrolled": true
   },
   "outputs": [
    {
     "data": {
      "text/plain": [
       "MolOptDecoder(\n",
       "  (fc1_SYMBOLS): Linear(in_features=150, out_features=150, bias=True)\n",
       "  (fc2_SYMBOLS): Linear(in_features=150, out_features=64, bias=True)\n",
       "  (fc1_CHARGES): Linear(in_features=150, out_features=150, bias=True)\n",
       "  (fc2_CHARGES): Linear(in_features=150, out_features=5, bias=True)\n",
       "  (fc1_BONDS): Linear(in_features=300, out_features=300, bias=True)\n",
       "  (fc2_BONDS): Linear(in_features=300, out_features=5, bias=True)\n",
       ")"
      ]
     },
     "execution_count": 66,
     "metadata": {},
     "output_type": "execute_result"
    }
   ],
   "source": [
    "molopt = MolOpt(args).to(device = args.device)\n",
    "molopt\n",
    "\n",
    "moloptdecoder = MolOptDecoder(args).to(device = args.device)\n",
    "moloptdecoder"
   ]
  },
  {
   "cell_type": "code",
   "execution_count": 67,
   "metadata": {},
   "outputs": [
    {
     "data": {
      "text/plain": [
       "MolOpt(\n",
       "  (GCN): GCN(\n",
       "    (W_message_i): Linear(in_features=100, out_features=200, bias=False)\n",
       "    (W_message_h): Linear(in_features=200, out_features=200, bias=False)\n",
       "    (W_message_o): Linear(in_features=293, out_features=150, bias=True)\n",
       "    (W_mol_h): Linear(in_features=150, out_features=100, bias=True)\n",
       "    (W_mol_o): Linear(in_features=100, out_features=1, bias=True)\n",
       "    (dropout_gcn): Dropout(p=0.0, inplace=False)\n",
       "    (dropout_ffn): Dropout(p=0.0, inplace=False)\n",
       "  )\n",
       "  (opt0): Linear(in_features=150, out_features=14000, bias=True)\n",
       "  (opt1): Linear(in_features=14000, out_features=10500, bias=True)\n",
       ")"
      ]
     },
     "execution_count": 67,
     "metadata": {},
     "output_type": "execute_result"
    }
   ],
   "source": [
    "molopt"
   ]
  },
  {
   "cell_type": "code",
   "execution_count": 68,
   "metadata": {},
   "outputs": [],
   "source": [
    "data_loader = get_loader(\"molgen/data/chembl50\", \"train\", args.batch_size)\n",
    "for i in data_loader:\n",
    "    X = (MolGraph(i))\n",
    "    Y = X\n",
    "    break\n"
   ]
  },
  {
   "cell_type": "code",
   "execution_count": 69,
   "metadata": {
    "scrolled": true
   },
   "outputs": [
    {
     "name": "stdout",
     "output_type": "stream",
     "text": [
      "torch.Size([1, 25, 150])\n",
      "torch.Size([1, 16, 150])\n",
      "torch.Size([1, 29, 150])\n",
      "torch.Size([1, 35, 150])\n",
      "torch.Size([1, 21, 150])\n",
      "torch.Size([1, 47, 150])\n",
      "torch.Size([1, 18, 150])\n",
      "torch.Size([1, 23, 150])\n",
      "torch.Size([1, 23, 150])\n",
      "torch.Size([1, 18, 150])\n",
      "torch.Size([1, 16, 150])\n",
      "torch.Size([1, 23, 150])\n",
      "torch.Size([1, 18, 150])\n",
      "torch.Size([1, 21, 150])\n",
      "torch.Size([1, 7, 150])\n",
      "torch.Size([1, 12, 150])\n",
      "torch.Size([1, 12, 150])\n",
      "torch.Size([1, 21, 150])\n",
      "torch.Size([1, 17, 150])\n",
      "torch.Size([1, 23, 150])\n",
      "torch.Size([1, 25, 150])\n",
      "torch.Size([1, 27, 150])\n",
      "torch.Size([1, 30, 150])\n",
      "torch.Size([1, 25, 150])\n",
      "torch.Size([1, 23, 150])\n",
      "torch.Size([1, 21, 150])\n",
      "torch.Size([1, 14, 150])\n",
      "torch.Size([1, 19, 150])\n",
      "torch.Size([1, 32, 150])\n",
      "torch.Size([1, 28, 150])\n",
      "torch.Size([1, 24, 150])\n",
      "torch.Size([1, 26, 150])\n",
      "torch.Size([1, 17, 150])\n",
      "torch.Size([1, 26, 150])\n",
      "torch.Size([1, 20, 150])\n",
      "torch.Size([1, 22, 150])\n",
      "torch.Size([1, 43, 150])\n",
      "torch.Size([1, 28, 150])\n",
      "torch.Size([1, 13, 150])\n",
      "torch.Size([1, 24, 150])\n",
      "torch.Size([1, 25, 150])\n",
      "torch.Size([1, 18, 150])\n",
      "torch.Size([1, 34, 150])\n",
      "torch.Size([1, 25, 150])\n",
      "torch.Size([1, 29, 150])\n",
      "torch.Size([1, 13, 150])\n",
      "torch.Size([1, 41, 150])\n",
      "torch.Size([1, 20, 150])\n",
      "torch.Size([1, 16, 150])\n",
      "torch.Size([1, 17, 150])\n"
     ]
    },
    {
     "data": {
      "text/plain": [
       "(tensor([[-0.1379,  0.0880, -0.0961,  ..., -0.0051, -0.1702, -0.1379],\n",
       "         [-0.1612, -0.1327, -0.1081,  ..., -0.2362, -0.0267, -0.0861],\n",
       "         [-0.1026, -0.0022, -0.1813,  ...,  0.0447,  0.0229, -0.2095],\n",
       "         ...,\n",
       "         [-0.1233, -0.0891, -0.2539,  ...,  0.1859, -0.1849, -0.1634],\n",
       "         [-0.0999, -0.1696,  0.1227,  ..., -0.1062, -0.2433, -0.1976],\n",
       "         [-0.1201, -0.0350, -0.1256,  ..., -0.1344, -0.1834, -0.2237]],\n",
       "        device='cuda:0', grad_fn=<CatBackward>),\n",
       " tensor([[ 0.0747,  0.1814,  0.0343, -0.2024,  0.1619],\n",
       "         [ 0.2482,  0.3247,  0.3161, -0.1004,  0.2377],\n",
       "         [ 0.2086,  0.1960,  0.0558, -0.0123,  0.1792],\n",
       "         ...,\n",
       "         [ 0.2056,  0.0856,  0.0148, -0.0530,  0.0119],\n",
       "         [ 0.3186,  0.1433, -0.0803,  0.0985,  0.2974],\n",
       "         [ 0.3686,  0.3580, -0.0541, -0.1275, -0.0723]], device='cuda:0',\n",
       "        grad_fn=<CatBackward>),\n",
       " tensor([[-1.0000e+03, -1.0000e+03, -1.0000e+03, -1.0000e+03,  1.0000e+03],\n",
       "         [-1.0069e-01,  3.1747e-01,  1.0433e-01, -5.1508e-01, -1.9206e-02],\n",
       "         [-3.2455e-01,  3.9460e-01,  4.3890e-02, -2.4826e-01,  5.6269e-02],\n",
       "         ...,\n",
       "         [-3.2115e-01,  5.7481e-01, -1.0799e-01, -9.6435e-02, -1.7548e-01],\n",
       "         [-6.5572e-01,  3.8339e-01,  7.3014e-02, -3.5846e-01, -6.6646e-02],\n",
       "         [-1.0000e+03, -1.0000e+03, -1.0000e+03, -1.0000e+03,  1.0000e+03]],\n",
       "        device='cuda:0', grad_fn=<CatBackward>))"
      ]
     },
     "execution_count": 69,
     "metadata": {},
     "output_type": "execute_result"
    }
   ],
   "source": [
    "x_embedding = molopt.encode(X)\n",
    "x_opt = molopt.optimize(x_embedding, X)\n",
    "moloptdecoder(x_opt, X, Y)"
   ]
  },
  {
   "cell_type": "code",
   "execution_count": 20,
   "metadata": {
    "scrolled": true
   },
   "outputs": [
    {
     "data": {
      "text/plain": [
       "tensor([[-1.8411,  0.3446, -0.6352,  ..., -1.2947,  0.7855,  4.2920],\n",
       "        [-0.4773, -0.0084, -0.0781,  ..., -0.3271,  0.5665,  2.3345],\n",
       "        [-1.8247, -0.1516, -0.2823,  ..., -0.3272,  0.8346,  6.0111],\n",
       "        ...,\n",
       "        [-1.4480,  0.3044, -0.2787,  ..., -0.1164,  1.0019,  2.6259],\n",
       "        [-0.9277,  0.8908,  0.2876,  ..., -0.1627,  0.5290,  1.6644],\n",
       "        [-1.1258,  0.2139,  0.2089,  ...,  0.1779,  0.6391,  2.7473]],\n",
       "       device='cuda:0', grad_fn=<AddmmBackward>)"
      ]
     },
     "execution_count": 20,
     "metadata": {},
     "output_type": "execute_result"
    }
   ],
   "source": [
    "molopt.opt0(x_embedding)"
   ]
  },
  {
   "cell_type": "code",
   "execution_count": 21,
   "metadata": {},
   "outputs": [
    {
     "data": {
      "text/plain": [
       "tensor([[-1.8411,  0.3446, -0.6352,  ..., -1.2947,  0.7855,  4.2920],\n",
       "        [-0.4773, -0.0084, -0.0781,  ..., -0.3271,  0.5665,  2.3345],\n",
       "        [-1.8247, -0.1516, -0.2823,  ..., -0.3272,  0.8346,  6.0111],\n",
       "        ...,\n",
       "        [-1.4480,  0.3044, -0.2787,  ..., -0.1164,  1.0019,  2.6259],\n",
       "        [-0.9277,  0.8908,  0.2876,  ..., -0.1627,  0.5290,  1.6644],\n",
       "        [-1.1258,  0.2139,  0.2089,  ...,  0.1779,  0.6391,  2.7473]],\n",
       "       device='cuda:0', grad_fn=<AddmmBackward>)"
      ]
     },
     "execution_count": 21,
     "metadata": {},
     "output_type": "execute_result"
    }
   ],
   "source": [
    "molopt.opt0(x_embedding)"
   ]
  },
  {
   "cell_type": "code",
   "execution_count": 22,
   "metadata": {},
   "outputs": [
    {
     "data": {
      "text/plain": [
       "Linear(in_features=150, out_features=14000, bias=True)"
      ]
     },
     "execution_count": 22,
     "metadata": {},
     "output_type": "execute_result"
    }
   ],
   "source": [
    "molopt.opt0"
   ]
  },
  {
   "cell_type": "code",
   "execution_count": 23,
   "metadata": {},
   "outputs": [],
   "source": [
    "layer = torch.nn.Linear(150, 150).to(device = args.device)"
   ]
  },
  {
   "cell_type": "code",
   "execution_count": 24,
   "metadata": {},
   "outputs": [
    {
     "data": {
      "text/plain": [
       "tensor([[ 2.5491, -3.8243, -1.9778,  ..., -3.0443,  0.4862,  1.3156],\n",
       "        [ 0.3130, -2.2259, -0.7063,  ..., -1.8093,  0.6623,  0.5332],\n",
       "        [ 1.2279, -4.6440, -2.0396,  ..., -3.8873,  1.6024,  0.6037],\n",
       "        ...,\n",
       "        [ 1.0914, -3.0059, -1.1852,  ..., -1.9341,  0.6392,  0.6749],\n",
       "        [ 0.1556, -2.2109, -0.3331,  ..., -1.1977,  0.2608,  0.5255],\n",
       "        [ 0.1799, -2.4665, -0.7200,  ..., -1.3656,  0.9785,  0.2966]],\n",
       "       device='cuda:0', grad_fn=<AddmmBackward>)"
      ]
     },
     "execution_count": 24,
     "metadata": {},
     "output_type": "execute_result"
    }
   ],
   "source": [
    "layer(x_embedding)"
   ]
  },
  {
   "cell_type": "code",
   "execution_count": 25,
   "metadata": {},
   "outputs": [
    {
     "data": {
      "text/plain": [
       "tensor([[ 2.4082,  2.1650,  3.2520,  ...,  2.4842,  2.0350,  2.0028],\n",
       "        [-5.0467, -4.8617, -7.2811,  ..., -4.0614, -3.4622, -3.7260],\n",
       "        [ 0.6564,  0.5581,  1.4251,  ...,  0.8704, -0.4082,  0.5978],\n",
       "        ...,\n",
       "        [-1.0022, -1.4396, -3.6880,  ..., -0.7175, -1.7962, -1.9513],\n",
       "        [ 3.8293,  2.4059,  5.6922,  ...,  3.0192,  3.6203,  3.4795],\n",
       "        [ 2.0169,  1.0477,  2.5341,  ...,  1.0565,  0.0688,  0.7988]],\n",
       "       device='cuda:0', grad_fn=<TransposeBackward0>)"
      ]
     },
     "execution_count": 25,
     "metadata": {},
     "output_type": "execute_result"
    }
   ],
   "source": [
    "x_embedding.transpose(0,1)"
   ]
  },
  {
   "cell_type": "code",
   "execution_count": 26,
   "metadata": {},
   "outputs": [
    {
     "data": {
      "text/plain": [
       "tensor([ 2.1650, -4.8617,  0.5581,  1.1072, -5.4497,  2.2931, -1.5579,  3.2176,\n",
       "         1.7520, -4.2252, -2.9697, -1.3259, -3.2492, -3.0051, -0.2153, -2.6787,\n",
       "        -7.8198], device='cuda:0', grad_fn=<SliceBackward>)"
      ]
     },
     "execution_count": 26,
     "metadata": {},
     "output_type": "execute_result"
    }
   ],
   "source": [
    "x_embedding[1,:17]"
   ]
  },
  {
   "cell_type": "code",
   "execution_count": 27,
   "metadata": {},
   "outputs": [
    {
     "data": {
      "text/plain": [
       "[(0, 25),\n",
       " (25, 16),\n",
       " (41, 29),\n",
       " (70, 35),\n",
       " (105, 21),\n",
       " (126, 47),\n",
       " (173, 18),\n",
       " (191, 23),\n",
       " (214, 23),\n",
       " (237, 18),\n",
       " (255, 16),\n",
       " (271, 23),\n",
       " (294, 18),\n",
       " (312, 21),\n",
       " (333, 7),\n",
       " (340, 12),\n",
       " (352, 12),\n",
       " (364, 21),\n",
       " (385, 17),\n",
       " (402, 23),\n",
       " (425, 25),\n",
       " (450, 27),\n",
       " (477, 30),\n",
       " (507, 25),\n",
       " (532, 23),\n",
       " (555, 21),\n",
       " (576, 14),\n",
       " (590, 19),\n",
       " (609, 32),\n",
       " (641, 28),\n",
       " (669, 24),\n",
       " (693, 26),\n",
       " (719, 17),\n",
       " (736, 26),\n",
       " (762, 20),\n",
       " (782, 22),\n",
       " (804, 43),\n",
       " (847, 28),\n",
       " (875, 13),\n",
       " (888, 24),\n",
       " (912, 25),\n",
       " (937, 18),\n",
       " (955, 34),\n",
       " (989, 25),\n",
       " (1014, 29),\n",
       " (1043, 13),\n",
       " (1056, 41),\n",
       " (1097, 20),\n",
       " (1117, 16),\n",
       " (1133, 17)]"
      ]
     },
     "execution_count": 27,
     "metadata": {},
     "output_type": "execute_result"
    }
   ],
   "source": [
    "X.scope"
   ]
  },
  {
   "cell_type": "code",
   "execution_count": 28,
   "metadata": {},
   "outputs": [
    {
     "data": {
      "text/plain": [
       "torch.Size([1, 17])"
      ]
     },
     "execution_count": 28,
     "metadata": {},
     "output_type": "execute_result"
    }
   ],
   "source": [
    "x_opt.narrow(0,2,1).narrow(1,0,17).shape"
   ]
  },
  {
   "cell_type": "code",
   "execution_count": 29,
   "metadata": {},
   "outputs": [
    {
     "data": {
      "text/plain": [
       "torch.Size([50, 10500])"
      ]
     },
     "execution_count": 29,
     "metadata": {},
     "output_type": "execute_result"
    }
   ],
   "source": [
    "x_opt.shape"
   ]
  },
  {
   "cell_type": "code",
   "execution_count": 30,
   "metadata": {},
   "outputs": [
    {
     "data": {
      "text/plain": [
       "torch.Size([50, 10500])"
      ]
     },
     "execution_count": 30,
     "metadata": {},
     "output_type": "execute_result"
    }
   ],
   "source": [
    "x_opt.shape"
   ]
  },
  {
   "cell_type": "code",
   "execution_count": 31,
   "metadata": {},
   "outputs": [
    {
     "data": {
      "text/plain": [
       "torch.Size([50, 20])"
      ]
     },
     "execution_count": 31,
     "metadata": {},
     "output_type": "execute_result"
    }
   ],
   "source": [
    "x_opt.narrow(1, 20, 20).shape"
   ]
  },
  {
   "cell_type": "code",
   "execution_count": 32,
   "metadata": {},
   "outputs": [
    {
     "data": {
      "text/plain": [
       "torch.Size([1, 17])"
      ]
     },
     "execution_count": 32,
     "metadata": {},
     "output_type": "execute_result"
    }
   ],
   "source": [
    "x_opt[0,:17].unsqueeze(0).shape"
   ]
  },
  {
   "cell_type": "code",
   "execution_count": 33,
   "metadata": {},
   "outputs": [
    {
     "data": {
      "text/plain": [
       "torch.Size([50, 10500])"
      ]
     },
     "execution_count": 33,
     "metadata": {},
     "output_type": "execute_result"
    }
   ],
   "source": [
    "x_opt.shape"
   ]
  },
  {
   "cell_type": "code",
   "execution_count": 34,
   "metadata": {},
   "outputs": [
    {
     "ename": "ModuleAttributeError",
     "evalue": "'MolOpt' object has no attribute 'mol_embs'",
     "output_type": "error",
     "traceback": [
      "\u001b[0;31m---------------------------------------------------------------------------\u001b[0m",
      "\u001b[0;31mModuleAttributeError\u001b[0m                      Traceback (most recent call last)",
      "\u001b[0;32m<ipython-input-34-8d341ecbd016>\u001b[0m in \u001b[0;36m<module>\u001b[0;34m\u001b[0m\n\u001b[0;32m----> 1\u001b[0;31m \u001b[0mmolopt\u001b[0m\u001b[0;34m.\u001b[0m\u001b[0mopt0\u001b[0m\u001b[0;34m(\u001b[0m\u001b[0mmolopt\u001b[0m\u001b[0;34m.\u001b[0m\u001b[0mmol_embs\u001b[0m\u001b[0;34m)\u001b[0m\u001b[0;34m.\u001b[0m\u001b[0mshape\u001b[0m\u001b[0;34m\u001b[0m\u001b[0;34m\u001b[0m\u001b[0m\n\u001b[0m",
      "\u001b[0;32m~/anaconda3/envs/mol_ot/lib/python3.6/site-packages/torch/nn/modules/module.py\u001b[0m in \u001b[0;36m__getattr__\u001b[0;34m(self, name)\u001b[0m\n\u001b[1;32m    770\u001b[0m                 \u001b[0;32mreturn\u001b[0m \u001b[0mmodules\u001b[0m\u001b[0;34m[\u001b[0m\u001b[0mname\u001b[0m\u001b[0;34m]\u001b[0m\u001b[0;34m\u001b[0m\u001b[0;34m\u001b[0m\u001b[0m\n\u001b[1;32m    771\u001b[0m         raise ModuleAttributeError(\"'{}' object has no attribute '{}'\".format(\n\u001b[0;32m--> 772\u001b[0;31m             type(self).__name__, name))\n\u001b[0m\u001b[1;32m    773\u001b[0m \u001b[0;34m\u001b[0m\u001b[0m\n\u001b[1;32m    774\u001b[0m     \u001b[0;32mdef\u001b[0m \u001b[0m__setattr__\u001b[0m\u001b[0;34m(\u001b[0m\u001b[0mself\u001b[0m\u001b[0;34m,\u001b[0m \u001b[0mname\u001b[0m\u001b[0;34m:\u001b[0m \u001b[0mstr\u001b[0m\u001b[0;34m,\u001b[0m \u001b[0mvalue\u001b[0m\u001b[0;34m:\u001b[0m \u001b[0mUnion\u001b[0m\u001b[0;34m[\u001b[0m\u001b[0mTensor\u001b[0m\u001b[0;34m,\u001b[0m \u001b[0;34m'Module'\u001b[0m\u001b[0;34m]\u001b[0m\u001b[0;34m)\u001b[0m \u001b[0;34m->\u001b[0m \u001b[0;32mNone\u001b[0m\u001b[0;34m:\u001b[0m\u001b[0;34m\u001b[0m\u001b[0;34m\u001b[0m\u001b[0m\n",
      "\u001b[0;31mModuleAttributeError\u001b[0m: 'MolOpt' object has no attribute 'mol_embs'"
     ]
    }
   ],
   "source": [
    "molopt.opt0(molopt.mol_embs).shape"
   ]
  },
  {
   "cell_type": "code",
   "execution_count": 35,
   "metadata": {},
   "outputs": [
    {
     "ename": "ModuleAttributeError",
     "evalue": "'MolOpt' object has no attribute 'mol_embs'",
     "output_type": "error",
     "traceback": [
      "\u001b[0;31m---------------------------------------------------------------------------\u001b[0m",
      "\u001b[0;31mModuleAttributeError\u001b[0m                      Traceback (most recent call last)",
      "\u001b[0;32m<ipython-input-35-afac9adf17bc>\u001b[0m in \u001b[0;36m<module>\u001b[0;34m\u001b[0m\n\u001b[0;32m----> 1\u001b[0;31m \u001b[0mmolopt\u001b[0m\u001b[0;34m.\u001b[0m\u001b[0mmol_embs\u001b[0m\u001b[0;34m.\u001b[0m\u001b[0mshape\u001b[0m\u001b[0;34m\u001b[0m\u001b[0;34m\u001b[0m\u001b[0m\n\u001b[0m",
      "\u001b[0;32m~/anaconda3/envs/mol_ot/lib/python3.6/site-packages/torch/nn/modules/module.py\u001b[0m in \u001b[0;36m__getattr__\u001b[0;34m(self, name)\u001b[0m\n\u001b[1;32m    770\u001b[0m                 \u001b[0;32mreturn\u001b[0m \u001b[0mmodules\u001b[0m\u001b[0;34m[\u001b[0m\u001b[0mname\u001b[0m\u001b[0;34m]\u001b[0m\u001b[0;34m\u001b[0m\u001b[0;34m\u001b[0m\u001b[0m\n\u001b[1;32m    771\u001b[0m         raise ModuleAttributeError(\"'{}' object has no attribute '{}'\".format(\n\u001b[0;32m--> 772\u001b[0;31m             type(self).__name__, name))\n\u001b[0m\u001b[1;32m    773\u001b[0m \u001b[0;34m\u001b[0m\u001b[0m\n\u001b[1;32m    774\u001b[0m     \u001b[0;32mdef\u001b[0m \u001b[0m__setattr__\u001b[0m\u001b[0;34m(\u001b[0m\u001b[0mself\u001b[0m\u001b[0;34m,\u001b[0m \u001b[0mname\u001b[0m\u001b[0;34m:\u001b[0m \u001b[0mstr\u001b[0m\u001b[0;34m,\u001b[0m \u001b[0mvalue\u001b[0m\u001b[0;34m:\u001b[0m \u001b[0mUnion\u001b[0m\u001b[0;34m[\u001b[0m\u001b[0mTensor\u001b[0m\u001b[0;34m,\u001b[0m \u001b[0;34m'Module'\u001b[0m\u001b[0;34m]\u001b[0m\u001b[0;34m)\u001b[0m \u001b[0;34m->\u001b[0m \u001b[0;32mNone\u001b[0m\u001b[0;34m:\u001b[0m\u001b[0;34m\u001b[0m\u001b[0;34m\u001b[0m\u001b[0m\n",
      "\u001b[0;31mModuleAttributeError\u001b[0m: 'MolOpt' object has no attribute 'mol_embs'"
     ]
    }
   ],
   "source": [
    "molopt.mol_embs.shape"
   ]
  },
  {
   "cell_type": "code",
   "execution_count": 36,
   "metadata": {},
   "outputs": [
    {
     "data": {
      "text/plain": [
       "Linear(in_features=150, out_features=14000, bias=True)"
      ]
     },
     "execution_count": 36,
     "metadata": {},
     "output_type": "execute_result"
    }
   ],
   "source": [
    "molopt.opt0"
   ]
  },
  {
   "cell_type": "code",
   "execution_count": 14,
   "metadata": {},
   "outputs": [
    {
     "data": {
      "text/plain": [
       "torch.Size([150])"
      ]
     },
     "execution_count": 14,
     "metadata": {},
     "output_type": "execute_result"
    }
   ],
   "source": [
    "x_embedding.sum(axis = 0).shape"
   ]
  }
 ],
 "metadata": {
  "kernelspec": {
   "display_name": "Python 3",
   "language": "python",
   "name": "python3"
  },
  "language_info": {
   "codemirror_mode": {
    "name": "ipython",
    "version": 3
   },
   "file_extension": ".py",
   "mimetype": "text/x-python",
   "name": "python",
   "nbconvert_exporter": "python",
   "pygments_lexer": "ipython3",
   "version": "3.6.8"
  }
 },
 "nbformat": 4,
 "nbformat_minor": 4
}
