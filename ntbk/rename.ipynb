{
 "cells": [
  {
   "cell_type": "code",
   "execution_count": 2,
   "metadata": {},
   "outputs": [
    {
     "name": "stdout",
     "output_type": "stream",
     "text": [
      "/home/octav/gitrepos/tum-thesis\n"
     ]
    }
   ],
   "source": [
    "import os\n",
    "if \"ntbk\" in os.getcwd():\n",
    "    os.chdir(\"..\")\n",
    "print(os.getcwd())\n",
    "\n",
    "import sys\n",
    "sys.path.append(os.path.join(os.getcwd(), \"otgnn\"))\n",
    "\n",
    "\n",
    "%load_ext autoreload\n",
    "%autoreload 2\n",
    "\n",
    "from otgnn.models import GCN\n",
    "from otgnn.graph import MolGraph\n",
    "from otgnn.utils import save_model, load_model, StatsTracker\n",
    "from otgnn.graph import SYMBOLS, FORMAL_CHARGES, BOND_TYPES, get_bt_index\n",
    "\n",
    "from mol_opt.mol_opt import MolOpt\n",
    "from mol_opt.data_mol_opt import MolOptDataset\n",
    "from mol_opt.data_mol_opt import get_loader\n",
    "from mol_opt.decoder_mol_opt import MolOptDecoder\n",
    "from mol_opt.arguments import get_args\n",
    "from mol_opt.train_mol_opt import main, get_latest_model\n",
    "from mol_opt.ot_utils import encode_target, FGW\n",
    "from mol_opt.train_mol_opt import ft, load_checkpoint, save_checkpoint, get_latest_model, initialize_models\n",
    "\n",
    "from rdkit.Chem import MolFromSmiles\n",
    "\n",
    "from molgen.metrics.Penalty import Penalty\n",
    "\n",
    "import torch\n",
    "from torch import nn\n",
    "import numpy as np\n",
    "import time\n",
    "import shutil"
   ]
  },
  {
   "cell_type": "code",
   "execution_count": 3,
   "metadata": {},
   "outputs": [],
   "source": [
    "def rename(oldname, newname):\n",
    "    wd = \"mol_opt/output_dev3/\"\n",
    "    oldwd = wd\n",
    "\n",
    "    olddir = os.path.join(oldwd, oldname)\n",
    "    newdir = os.path.join(wd, newname)\n",
    "\n",
    "    shutil.copytree(olddir, newdir)\n",
    "\n",
    "    print (newdir)\n",
    "    for fl in os.listdir(newdir):\n",
    "    #     print (fl)\n",
    "        newfl = fl.replace(oldname, newname)\n",
    "        os.rename(os.path.join(wd, newname, fl), os.path.join(wd, newname, newfl))\n",
    "        \n",
    "    wd = \"mol_opt/logs_dev3/\"\n",
    "    olddir = os.path.join(wd, oldname)\n",
    "    newdir = os.path.join(wd, newname)\n",
    "\n",
    "    shutil.copytree(olddir, newdir)"
   ]
  },
  {
   "cell_type": "code",
   "execution_count": 4,
   "metadata": {},
   "outputs": [
    {
     "ename": "FileExistsError",
     "evalue": "[Errno 17] File exists: 'mol_opt/output_dev3/molemb-base-nopen-softmax'",
     "output_type": "error",
     "traceback": [
      "\u001b[0;31m---------------------------------------------------------------------------\u001b[0m",
      "\u001b[0;31mFileExistsError\u001b[0m                           Traceback (most recent call last)",
      "\u001b[0;32m<ipython-input-4-fe1929e6d9af>\u001b[0m in \u001b[0;36m<module>\u001b[0;34m\u001b[0m\n\u001b[1;32m      1\u001b[0m \u001b[0moldname\u001b[0m \u001b[0;34m=\u001b[0m \u001b[0;34m\"molemb-base-longer-softmax5\"\u001b[0m\u001b[0;34m\u001b[0m\u001b[0;34m\u001b[0m\u001b[0m\n\u001b[1;32m      2\u001b[0m \u001b[0mnewname\u001b[0m \u001b[0;34m=\u001b[0m \u001b[0;34m\"molemb-base-nopen-softmax\"\u001b[0m\u001b[0;34m\u001b[0m\u001b[0;34m\u001b[0m\u001b[0m\n\u001b[0;32m----> 3\u001b[0;31m \u001b[0mrename\u001b[0m\u001b[0;34m(\u001b[0m\u001b[0moldname\u001b[0m\u001b[0;34m,\u001b[0m \u001b[0mnewname\u001b[0m\u001b[0;34m)\u001b[0m\u001b[0;34m\u001b[0m\u001b[0;34m\u001b[0m\u001b[0m\n\u001b[0m",
      "\u001b[0;32m<ipython-input-3-75fc057de82a>\u001b[0m in \u001b[0;36mrename\u001b[0;34m(oldname, newname)\u001b[0m\n\u001b[1;32m      6\u001b[0m     \u001b[0mnewdir\u001b[0m \u001b[0;34m=\u001b[0m \u001b[0mos\u001b[0m\u001b[0;34m.\u001b[0m\u001b[0mpath\u001b[0m\u001b[0;34m.\u001b[0m\u001b[0mjoin\u001b[0m\u001b[0;34m(\u001b[0m\u001b[0mwd\u001b[0m\u001b[0;34m,\u001b[0m \u001b[0mnewname\u001b[0m\u001b[0;34m)\u001b[0m\u001b[0;34m\u001b[0m\u001b[0;34m\u001b[0m\u001b[0m\n\u001b[1;32m      7\u001b[0m \u001b[0;34m\u001b[0m\u001b[0m\n\u001b[0;32m----> 8\u001b[0;31m     \u001b[0mshutil\u001b[0m\u001b[0;34m.\u001b[0m\u001b[0mcopytree\u001b[0m\u001b[0;34m(\u001b[0m\u001b[0molddir\u001b[0m\u001b[0;34m,\u001b[0m \u001b[0mnewdir\u001b[0m\u001b[0;34m)\u001b[0m\u001b[0;34m\u001b[0m\u001b[0;34m\u001b[0m\u001b[0m\n\u001b[0m\u001b[1;32m      9\u001b[0m \u001b[0;34m\u001b[0m\u001b[0m\n\u001b[1;32m     10\u001b[0m     \u001b[0mprint\u001b[0m \u001b[0;34m(\u001b[0m\u001b[0mnewdir\u001b[0m\u001b[0;34m)\u001b[0m\u001b[0;34m\u001b[0m\u001b[0;34m\u001b[0m\u001b[0m\n",
      "\u001b[0;32m~/anaconda3/envs/mol_ot/lib/python3.6/shutil.py\u001b[0m in \u001b[0;36mcopytree\u001b[0;34m(src, dst, symlinks, ignore, copy_function, ignore_dangling_symlinks)\u001b[0m\n\u001b[1;32m    319\u001b[0m         \u001b[0mignored_names\u001b[0m \u001b[0;34m=\u001b[0m \u001b[0mset\u001b[0m\u001b[0;34m(\u001b[0m\u001b[0;34m)\u001b[0m\u001b[0;34m\u001b[0m\u001b[0;34m\u001b[0m\u001b[0m\n\u001b[1;32m    320\u001b[0m \u001b[0;34m\u001b[0m\u001b[0m\n\u001b[0;32m--> 321\u001b[0;31m     \u001b[0mos\u001b[0m\u001b[0;34m.\u001b[0m\u001b[0mmakedirs\u001b[0m\u001b[0;34m(\u001b[0m\u001b[0mdst\u001b[0m\u001b[0;34m)\u001b[0m\u001b[0;34m\u001b[0m\u001b[0;34m\u001b[0m\u001b[0m\n\u001b[0m\u001b[1;32m    322\u001b[0m     \u001b[0merrors\u001b[0m \u001b[0;34m=\u001b[0m \u001b[0;34m[\u001b[0m\u001b[0;34m]\u001b[0m\u001b[0;34m\u001b[0m\u001b[0;34m\u001b[0m\u001b[0m\n\u001b[1;32m    323\u001b[0m     \u001b[0;32mfor\u001b[0m \u001b[0mname\u001b[0m \u001b[0;32min\u001b[0m \u001b[0mnames\u001b[0m\u001b[0;34m:\u001b[0m\u001b[0;34m\u001b[0m\u001b[0;34m\u001b[0m\u001b[0m\n",
      "\u001b[0;32m~/anaconda3/envs/mol_ot/lib/python3.6/os.py\u001b[0m in \u001b[0;36mmakedirs\u001b[0;34m(name, mode, exist_ok)\u001b[0m\n\u001b[1;32m    218\u001b[0m             \u001b[0;32mreturn\u001b[0m\u001b[0;34m\u001b[0m\u001b[0;34m\u001b[0m\u001b[0m\n\u001b[1;32m    219\u001b[0m     \u001b[0;32mtry\u001b[0m\u001b[0;34m:\u001b[0m\u001b[0;34m\u001b[0m\u001b[0;34m\u001b[0m\u001b[0m\n\u001b[0;32m--> 220\u001b[0;31m         \u001b[0mmkdir\u001b[0m\u001b[0;34m(\u001b[0m\u001b[0mname\u001b[0m\u001b[0;34m,\u001b[0m \u001b[0mmode\u001b[0m\u001b[0;34m)\u001b[0m\u001b[0;34m\u001b[0m\u001b[0;34m\u001b[0m\u001b[0m\n\u001b[0m\u001b[1;32m    221\u001b[0m     \u001b[0;32mexcept\u001b[0m \u001b[0mOSError\u001b[0m\u001b[0;34m:\u001b[0m\u001b[0;34m\u001b[0m\u001b[0;34m\u001b[0m\u001b[0m\n\u001b[1;32m    222\u001b[0m         \u001b[0;31m# Cannot rely on checking for EEXIST, since the operating system\u001b[0m\u001b[0;34m\u001b[0m\u001b[0;34m\u001b[0m\u001b[0;34m\u001b[0m\u001b[0m\n",
      "\u001b[0;31mFileExistsError\u001b[0m: [Errno 17] File exists: 'mol_opt/output_dev3/molemb-base-nopen-softmax'"
     ]
    }
   ],
   "source": [
    "oldname = \"\"\n",
    "newname = \"molemb-base-nopen-softmax\"\n",
    "rename(oldname, newname)"
   ]
  },
  {
   "cell_type": "code",
   "execution_count": 25,
   "metadata": {},
   "outputs": [],
   "source": [
    "oldname = \"pointwise-base-nopen-4000-softmax4\"\n",
    "newname = \"pointwise-base-longer-softmax3\"\n",
    "rename(oldname, newname)"
   ]
  },
  {
   "cell_type": "code",
   "execution_count": 56,
   "metadata": {},
   "outputs": [
    {
     "data": {
      "text/plain": [
       "('model_pointwise-base-longer-softmax3_12009', 12009)"
      ]
     },
     "execution_count": 56,
     "metadata": {},
     "output_type": "execute_result"
    }
   ],
   "source": [
    "wd = \"mol_opt/output_dev2/\"\n",
    "newname = \"pointwise-base-longer-softmax3\"\n",
    "filename = os.path.join(wd, newname, \"model_\" + newname + \"_12009\")\n"
   ]
  },
  {
   "cell_type": "code",
   "execution_count": 5,
   "metadata": {},
   "outputs": [
    {
     "name": "stdout",
     "output_type": "stream",
     "text": [
      "model_deepsets-qed1_4\n",
      "Penalty params: tau=0.28480 conn_l=0.00100 val_l=0.00100 euler_l=0.00100 epoch=4 mode=[0 0 0] conn=True val=True euler=True\n",
      "12\n",
      "20\n",
      "16\n",
      "3.1385684721559213\n",
      "2.9619362959451734\n"
     ]
    }
   ],
   "source": [
    "wd = \"mol_opt/output_dev3/\"\n",
    "newname = \"deepsets-qed1\"\n",
    "filename, _ = get_latest_model(newname, os.path.join(wd, newname))\n",
    "print (filename)\n",
    "filepath = os.path.join(wd, newname, filename)\n",
    "molopt, molopt_decoder, optimizer, penalty, recpen, crossatt, scheduler, args, epoch = load_checkpoint(filepath, initialize_models)\n",
    "\n",
    "args.connectivity = True \n",
    "args.valency = True \n",
    "args.euler_characteristic_penalty = True\n",
    "# args.conn_lambda_start = 0.89\n",
    "# args.conn_lambda_end = 1\n",
    "args.conn_lambda_epochs_start = 12\n",
    "args.conn_lambda_epochs_end = 20\n",
    "# args.valency_lambda_start = 2.2\n",
    "# args.valency_lambda_end = 3\n",
    "args.valency_lambda_epochs_start = 12\n",
    "args.valency_lambda_epochs_end = 20\n",
    "# args.euler_lambda_start = 1.4\n",
    "# args.euler_lambda_end = 2 \n",
    "args.euler_lambda_epochs_start = 12\n",
    "args.euler_lambda_epochs_end = 20\n",
    "args.tau_start = 1\n",
    "args.tau_end = 0.01\n",
    "args.tau_epochs_start = 1\n",
    "args.tau_epochs_end = 16\n",
    "\n",
    "\n",
    "penalty.conn_lambda = args.conn_lambda_start\n",
    "penalty.valency_lambda = args.valency_lambda_start\n",
    "penalty.euler_lambda = args.euler_lambda_start\n",
    "\n",
    "save_checkpoint(molopt, molopt_decoder, optimizer, penalty, recpen, crossatt, scheduler, epoch, args, filepath)\n",
    "molopt, molopt_decoder, optimizer, penalty, recpen, crossatt, scheduler, args, epoch = load_checkpoint(filepath, initialize_models)\n",
    "penalty.log()\n",
    "penalty.euler_lambda_epochs_start\n",
    "# penalty.connectivity\n",
    "print (penalty.conn_lambda_epochs_start)\n",
    "print (penalty.conn_lambda_epochs_end)\n",
    "print (penalty.tau_epochs_end)\n",
    "print(penalty.conn_lambda_rate)\n",
    "print(penalty.euler_lambda_rate)"
   ]
  },
  {
   "cell_type": "code",
   "execution_count": 4,
   "metadata": {},
   "outputs": [
    {
     "name": "stdout",
     "output_type": "stream",
     "text": [
      "model_deepsets-noatt-base1_4000\n",
      "Penalty params: tau=0.21550 conn_l=0.00100 val_l=0.00100 euler_l=0.00100 epoch=4000 mode=[0 0 0] conn=True val=True euler=True\n",
      "1.001001547421495\n",
      "1.0009508021210662\n",
      "1.0985411419875581\n"
     ]
    }
   ],
   "source": [
    "wd = \"mol_opt/output_dev4/\"\n",
    "newname = \"deepsets-noatt-base1\"\n",
    "filename, _ = get_latest_model(newname, os.path.join(wd, newname))\n",
    "print (filename)\n",
    "filepath = os.path.join(wd, newname, filename)\n",
    "molopt, molopt_decoder, optimizer, penalty, recpen, crossatt, scheduler, args, epoch = load_checkpoint(filepath, initialize_models, device = 'cpu')\n",
    "\n",
    "\n",
    "# args.scale_lambdas = True\n",
    "args.connectivity = True \n",
    "args.valency = True \n",
    "args.euler_characteristic_penalty = True\n",
    "# args.reconstruction_loss = True\n",
    "# args.conn_lambda_start = 0.001\n",
    "# args.conn_lambda_end = 1\n",
    "# args.conn_lambda_epochs_start = 5000\n",
    "# args.conn_lambda_epochs_end = 13000\n",
    "# args.valency_lambda_start = 0.001\n",
    "# args.valency_lambda_end = 3\n",
    "# args.valency_lambda_epochs_start = 5000\n",
    "# args.valency_lambda_epochs_end = 13000\n",
    "# args.euler_lambda_start = 0.001 \n",
    "# args.euler_lambda_end = 2\n",
    "# args.euler_lambda_epochs_start = 5000\n",
    "# args.euler_lambda_epochs_end = 13000\n",
    "# args.rec_lambda_start = 0.001 \n",
    "# args.rec_lambda_end = 5\n",
    "# args.rec_lambda_epochs_start = 4000\n",
    "# args.rec_lambda_epochs_end = 12000\n",
    "# args.tau_start = 1\n",
    "# args.tau_end = 0.01\n",
    "# args.tau_epochs_start = 1\n",
    "# args.tau_epochs_end = 12000\n",
    "# args.device = 'cpu'\n",
    "# args.batch_size = 500\n",
    "\n",
    "\n",
    "# penalty.conn_lambda = args.conn_lambda_start\n",
    "# penalty.valency_lambda = args.valency_lambda_start\n",
    "# penalty.euler_lambda = args.euler_lambda_start\n",
    "\n",
    "save_checkpoint(molopt, molopt_decoder, optimizer, penalty, recpen, crossatt, scheduler, epoch, args, filepath)\n",
    "molopt, molopt_decoder, optimizer, penalty, recpen, crossatt, scheduler, args, epoch = load_checkpoint(filepath, initialize_models)\n",
    "penalty.log()\n",
    "penalty.euler_lambda_epochs_start\n",
    "# penalty.connectivity\n",
    "penalty.tau_epochs_end\n",
    "print(penalty.conn_lambda_rate)\n",
    "print(penalty.euler_lambda_rate)\n",
    "print(recpen.rec_lambda_rate)"
   ]
  },
  {
   "cell_type": "code",
   "execution_count": 100,
   "metadata": {},
   "outputs": [
    {
     "data": {
      "text/plain": [
       "1.001702174898471"
      ]
     },
     "execution_count": 100,
     "metadata": {},
     "output_type": "execute_result"
    }
   ],
   "source": [
    "model_molemb-base-longer-softmax5_4001\n",
    "Penalty params: tau=0.17773 conn_l=1.00000 val_l=10.00000 euler_l=1.00000 epoch=4001 mode=[0 0 0] conn=False euler=False val=False\n",
    "1.0017020455288321\n",
    "1.0014989884985714\n"
   ]
  },
  {
   "cell_type": "code",
   "execution_count": 101,
   "metadata": {},
   "outputs": [
    {
     "data": {
      "text/plain": [
       "1.0015041459211942"
      ]
     },
     "execution_count": 101,
     "metadata": {},
     "output_type": "execute_result"
    }
   ],
   "source": [
    "1.05201/1.05043"
   ]
  },
  {
   "cell_type": "code",
   "execution_count": 4,
   "metadata": {},
   "outputs": [],
   "source": [
    "wd = \"mol_opt/output_dev2/\"\n",
    "oldname = \"pointwise-base-nopen-4000-gumbel4\"\n",
    "dirname = os.path.join(wd, oldname)"
   ]
  },
  {
   "cell_type": "code",
   "execution_count": 15,
   "metadata": {},
   "outputs": [
    {
     "data": {
      "text/plain": [
       "['model_pointwise-base-nopen-4000-gumbel4_1000',\n",
       " 'model_pointwise-base-nopen-4000-gumbel4_2000',\n",
       " 'model_pointwise-base-nopen-4000-gumbel4_3000',\n",
       " 'model_pointwise-base-nopen-4000-gumbel4_3100',\n",
       " 'model_pointwise-base-nopen-4000-gumbel4_3200',\n",
       " 'model_pointwise-base-nopen-4000-gumbel4_3300',\n",
       " 'model_pointwise-base-nopen-4000-gumbel4_3400',\n",
       " 'model_pointwise-base-nopen-4000-gumbel4_3500',\n",
       " 'model_pointwise-base-nopen-4000-gumbel4_3600',\n",
       " 'model_pointwise-base-nopen-4000-gumbel4_3700',\n",
       " 'model_pointwise-base-nopen-4000-gumbel4_3800',\n",
       " 'model_pointwise-base-nopen-4000-gumbel4_3900',\n",
       " 'model_pointwise-base-nopen-4000-gumbel4_3910',\n",
       " 'model_pointwise-base-nopen-4000-gumbel4_3920',\n",
       " 'model_pointwise-base-nopen-4000-gumbel4_3930',\n",
       " 'model_pointwise-base-nopen-4000-gumbel4_3940',\n",
       " 'model_pointwise-base-nopen-4000-gumbel4_3950',\n",
       " 'model_pointwise-base-nopen-4000-gumbel4_3960',\n",
       " 'model_pointwise-base-nopen-4000-gumbel4_3970',\n",
       " 'model_pointwise-base-nopen-4000-gumbel4_3980',\n",
       " 'model_pointwise-base-nopen-4000-gumbel4_3990',\n",
       " 'model_pointwise-base-nopen-4000-gumbel4_4000']"
      ]
     },
     "execution_count": 15,
     "metadata": {},
     "output_type": "execute_result"
    }
   ],
   "source": [
    "os.listdir(dirname)"
   ]
  },
  {
   "cell_type": "code",
   "execution_count": 8,
   "metadata": {},
   "outputs": [],
   "source": [
    "_, lastepoch = get_latest_model(oldname, dirname)"
   ]
  },
  {
   "cell_type": "code",
   "execution_count": 14,
   "metadata": {},
   "outputs": [],
   "source": [
    "for fl in os.listdir(dirname):\n",
    "    ep = int(fl.split(\"_\")[2])\n",
    "    ep_diff = lastepoch - ep\n",
    "    for modulo in [10, 100, 1000]:\n",
    "        if ep_diff > modulo and ep % modulo != 0:\n",
    "            os.remove(os.path.join(dirname, fl))"
   ]
  }
 ],
 "metadata": {
  "kernelspec": {
   "display_name": "Python 3",
   "language": "python",
   "name": "python3"
  },
  "language_info": {
   "codemirror_mode": {
    "name": "ipython",
    "version": 3
   },
   "file_extension": ".py",
   "mimetype": "text/x-python",
   "name": "python",
   "nbconvert_exporter": "python",
   "pygments_lexer": "ipython3",
   "version": "3.6.8"
  }
 },
 "nbformat": 4,
 "nbformat_minor": 4
}
