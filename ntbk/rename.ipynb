{
 "cells": [
  {
   "cell_type": "code",
   "execution_count": 6,
   "metadata": {},
   "outputs": [
    {
     "name": "stdout",
     "output_type": "stream",
     "text": [
      "/home/octav/gitrepos/tum-thesis\n",
      "The autoreload extension is already loaded. To reload it, use:\n",
      "  %reload_ext autoreload\n"
     ]
    }
   ],
   "source": [
    "import os\n",
    "if \"ntbk\" in os.getcwd():\n",
    "    os.chdir(\"..\")\n",
    "print(os.getcwd())\n",
    "\n",
    "import sys\n",
    "sys.path.append(os.path.join(os.getcwd(), \"otgnn\"))\n",
    "\n",
    "\n",
    "%load_ext autoreload\n",
    "%autoreload 2\n",
    "\n",
    "from otgnn.models import GCN\n",
    "from otgnn.graph import MolGraph\n",
    "from otgnn.utils import save_model, load_model, StatsTracker\n",
    "from otgnn.graph import SYMBOLS, FORMAL_CHARGES, BOND_TYPES, get_bt_index\n",
    "\n",
    "from mol_opt.mol_opt import MolOpt\n",
    "from mol_opt.data_mol_opt import MolOptDataset\n",
    "from mol_opt.data_mol_opt import get_loader\n",
    "from mol_opt.decoder_mol_opt import MolOptDecoder\n",
    "from mol_opt.arguments import get_args\n",
    "from mol_opt.train_mol_opt import main, get_latest_model\n",
    "from mol_opt.ot_utils import encode_target, FGW\n",
    "from mol_opt.train_mol_opt import ft, load_checkpoint, save_checkpoint, get_latest_model\n",
    "\n",
    "from rdkit.Chem import MolFromSmiles\n",
    "\n",
    "from molgen.metrics.Penalty import Penalty\n",
    "\n",
    "import torch\n",
    "from torch import nn\n",
    "import numpy as np\n",
    "import time\n",
    "import shutil"
   ]
  },
  {
   "cell_type": "code",
   "execution_count": 21,
   "metadata": {},
   "outputs": [],
   "source": [
    "def rename(oldname, newname):\n",
    "    wd = \"mol_opt/output_dev2/\"\n",
    "\n",
    "    olddir = os.path.join(wd, oldname)\n",
    "    newdir = os.path.join(wd, newname)\n",
    "\n",
    "    shutil.copytree(olddir, newdir)\n",
    "\n",
    "    for fl in os.listdir(newdir):\n",
    "    #     print (fl)\n",
    "        newfl = fl.replace(oldname, newname)\n",
    "        os.rename(os.path.join(wd, newname, fl), os.path.join(wd, newname, newfl))\n",
    "        \n",
    "    wd = \"mol_opt/logs_dev2/\"\n",
    "    olddir = os.path.join(wd, oldname)\n",
    "    newdir = os.path.join(wd, newname)\n",
    "\n",
    "    shutil.copytree(olddir, newdir)"
   ]
  },
  {
   "cell_type": "code",
   "execution_count": 53,
   "metadata": {},
   "outputs": [],
   "source": [
    "oldname = \"pointwise-base-nopen-4000-gumbel4\"\n",
    "oldname = \"pointwise-base-longer-softmax3\"\n",
    "newname = \"pointwise-base-longer-softmax\"\n",
    "rename(oldname, newname)"
   ]
  },
  {
   "cell_type": "code",
   "execution_count": 25,
   "metadata": {},
   "outputs": [],
   "source": [
    "oldname = \"pointwise-base-nopen-4000-softmax4\"\n",
    "newname = \"pointwise-base-longer-softmax3\"\n",
    "rename(oldname, newname)"
   ]
  },
  {
   "cell_type": "code",
   "execution_count": 56,
   "metadata": {},
   "outputs": [
    {
     "data": {
      "text/plain": [
       "('model_pointwise-base-longer-softmax3_12009', 12009)"
      ]
     },
     "execution_count": 56,
     "metadata": {},
     "output_type": "execute_result"
    }
   ],
   "source": [
    "wd = \"mol_opt/output_dev2/\"\n",
    "newname = \"pointwise-base-longer-softmax3\"\n",
    "filename = os.path.join(wd, newname, \"model_\" + newname + \"_12009\")\n"
   ]
  },
  {
   "cell_type": "code",
   "execution_count": 98,
   "metadata": {},
   "outputs": [
    {
     "name": "stdout",
     "output_type": "stream",
     "text": [
      "model_pointwise-base-longer-softmax3_12089\n",
      "Penalty params: tau=0.00980 conn_l=1.00000 val_l=10.00000 euler_l=1.00000 epoch=12089 mode=[1 1 1] conn=False euler=False val=False\n",
      "1.0017020455288321\n",
      "1.0014989884985714\n"
     ]
    }
   ],
   "source": [
    "wd = \"mol_opt/output_dev2/\"\n",
    "newname = \"pointwise-base-longer-softmax3\"\n",
    "filename, _ = get_latest_model(newname, os.path.join(wd, newname))\n",
    "print (filename)\n",
    "molopt, molopt_decoder, optimizer, penalty, scheduler, args, epoch = load_checkpoint(os.path.join(wd, newname, filename))\n",
    "\n",
    "args.connectivity = True \n",
    "args.valency = True \n",
    "args.euler_characteristic_penalty = True\n",
    "args.conn_lambda_start = 1\n",
    "args.conn_lambda_end = 30\n",
    "args.conn_lambda_epochs_start = 12000\n",
    "args.conn_lambda_epochs_end = 14000\n",
    "args.valency_lambda_start = 10\n",
    "args.valency_lambda_end = 50\n",
    "args.valency_lambda_epochs_start = 12000\n",
    "args.valency_lambda_epochs_end = 14000\n",
    "args.euler_lambda_start = 1\n",
    "args.euler_lambda_end = 20 \n",
    "args.euler_lambda_epochs_start = 12000\n",
    "args.euler_lambda_epochs_end = 14000\n",
    "args.tau_start = 1\n",
    "args.tau_end = 0.001\n",
    "args.tau_epochs_start = 1\n",
    "args.tau_epochs_end = 16000\n",
    "\n",
    "\n",
    "penalty.conn_lambda = args.conn_lambda_start\n",
    "penalty.valency_lambda = args.valency_lambda_start\n",
    "penalty.euler_lambda = args.euler_lambda_start\n",
    "\n",
    "save_checkpoint(molopt, molopt_decoder, optimizer, penalty, scheduler, epoch, args, filename)\n",
    "molopt, molopt_decoder, optimizer, penalty, scheduler, args, epoch = load_checkpoint(filename)\n",
    "penalty.log()\n",
    "penalty.euler_lambda_epochs_start\n",
    "# penalty.connectivity\n",
    "penalty.tau_epochs_end\n",
    "print(penalty.conn_lambda_rate)\n",
    "print(penalty.euler_lambda_rate)"
   ]
  },
  {
   "cell_type": "code",
   "execution_count": 100,
   "metadata": {},
   "outputs": [
    {
     "data": {
      "text/plain": [
       "1.001702174898471"
      ]
     },
     "execution_count": 100,
     "metadata": {},
     "output_type": "execute_result"
    }
   ],
   "source": [
    "1.08281/1.08097"
   ]
  },
  {
   "cell_type": "code",
   "execution_count": 101,
   "metadata": {},
   "outputs": [
    {
     "data": {
      "text/plain": [
       "1.0015041459211942"
      ]
     },
     "execution_count": 101,
     "metadata": {},
     "output_type": "execute_result"
    }
   ],
   "source": [
    "1.05201/1.05043"
   ]
  },
  {
   "cell_type": "code",
   "execution_count": 4,
   "metadata": {},
   "outputs": [],
   "source": [
    "wd = \"mol_opt/output_dev2/\"\n",
    "oldname = \"pointwise-base-nopen-4000-gumbel4\"\n",
    "dirname = os.path.join(wd, oldname)"
   ]
  },
  {
   "cell_type": "code",
   "execution_count": 15,
   "metadata": {},
   "outputs": [
    {
     "data": {
      "text/plain": [
       "['model_pointwise-base-nopen-4000-gumbel4_1000',\n",
       " 'model_pointwise-base-nopen-4000-gumbel4_2000',\n",
       " 'model_pointwise-base-nopen-4000-gumbel4_3000',\n",
       " 'model_pointwise-base-nopen-4000-gumbel4_3100',\n",
       " 'model_pointwise-base-nopen-4000-gumbel4_3200',\n",
       " 'model_pointwise-base-nopen-4000-gumbel4_3300',\n",
       " 'model_pointwise-base-nopen-4000-gumbel4_3400',\n",
       " 'model_pointwise-base-nopen-4000-gumbel4_3500',\n",
       " 'model_pointwise-base-nopen-4000-gumbel4_3600',\n",
       " 'model_pointwise-base-nopen-4000-gumbel4_3700',\n",
       " 'model_pointwise-base-nopen-4000-gumbel4_3800',\n",
       " 'model_pointwise-base-nopen-4000-gumbel4_3900',\n",
       " 'model_pointwise-base-nopen-4000-gumbel4_3910',\n",
       " 'model_pointwise-base-nopen-4000-gumbel4_3920',\n",
       " 'model_pointwise-base-nopen-4000-gumbel4_3930',\n",
       " 'model_pointwise-base-nopen-4000-gumbel4_3940',\n",
       " 'model_pointwise-base-nopen-4000-gumbel4_3950',\n",
       " 'model_pointwise-base-nopen-4000-gumbel4_3960',\n",
       " 'model_pointwise-base-nopen-4000-gumbel4_3970',\n",
       " 'model_pointwise-base-nopen-4000-gumbel4_3980',\n",
       " 'model_pointwise-base-nopen-4000-gumbel4_3990',\n",
       " 'model_pointwise-base-nopen-4000-gumbel4_4000']"
      ]
     },
     "execution_count": 15,
     "metadata": {},
     "output_type": "execute_result"
    }
   ],
   "source": [
    "os.listdir(dirname)"
   ]
  },
  {
   "cell_type": "code",
   "execution_count": 8,
   "metadata": {},
   "outputs": [],
   "source": [
    "_, lastepoch = get_latest_model(oldname, dirname)"
   ]
  },
  {
   "cell_type": "code",
   "execution_count": 14,
   "metadata": {},
   "outputs": [],
   "source": [
    "for fl in os.listdir(dirname):\n",
    "    ep = int(fl.split(\"_\")[2])\n",
    "    ep_diff = lastepoch - ep\n",
    "    for modulo in [10, 100, 1000]:\n",
    "        if ep_diff > modulo and ep % modulo != 0:\n",
    "            os.remove(os.path.join(dirname, fl))"
   ]
  }
 ],
 "metadata": {
  "kernelspec": {
   "display_name": "Python 3",
   "language": "python",
   "name": "python3"
  },
  "language_info": {
   "codemirror_mode": {
    "name": "ipython",
    "version": 3
   },
   "file_extension": ".py",
   "mimetype": "text/x-python",
   "name": "python",
   "nbconvert_exporter": "python",
   "pygments_lexer": "ipython3",
   "version": "3.6.12"
  }
 },
 "nbformat": 4,
 "nbformat_minor": 4
}
