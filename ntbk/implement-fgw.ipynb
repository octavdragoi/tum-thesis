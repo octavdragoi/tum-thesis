{
 "cells": [
  {
   "cell_type": "code",
   "execution_count": 1,
   "metadata": {},
   "outputs": [
    {
     "name": "stdout",
     "output_type": "stream",
     "text": [
      "/home/octav/gitrepos/tum-thesis\n"
     ]
    }
   ],
   "source": [
    "import os\n",
    "if \"ntbk\" in os.getcwd():\n",
    "    os.chdir(\"..\")\n",
    "print(os.getcwd())\n",
    "\n",
    "import sys\n",
    "sys.path.append(os.path.join(os.getcwd(), \"otgnn\"))\n",
    "\n",
    "\n",
    "%load_ext autoreload\n",
    "%autoreload 2"
   ]
  },
  {
   "cell_type": "code",
   "execution_count": 192,
   "metadata": {},
   "outputs": [],
   "source": [
    "from otgnn.models import GCN\n",
    "from otgnn.graph import MolGraph\n",
    "from otgnn.utils import save_model, load_model\n",
    "from otgnn.graph import SYMBOLS, FORMAL_CHARGES, BOND_TYPES, get_bt_index\n",
    "\n",
    "from mol_opt.mol_opt import MolOpt\n",
    "from mol_opt.data_mol_opt import MolOptDataset\n",
    "from mol_opt.data_mol_opt import get_loader\n",
    "from mol_opt.decoder_mol_opt import MolOptDecoder\n",
    "from mol_opt.arguments import get_args\n",
    "from mol_opt.train_mol_opt import main, get_latest_model\n",
    "from mol_opt.fgw import encode_target, FGW\n",
    "\n",
    "from rdkit.Chem import MolFromSmiles\n",
    "\n",
    "import torch\n",
    "from torch import nn\n",
    "import numpy as np\n",
    "import time"
   ]
  },
  {
   "cell_type": "code",
   "execution_count": 3,
   "metadata": {},
   "outputs": [],
   "source": [
    "data_loader = get_loader(\"iclr19-graph2graph/data/qed\", \"val\", 48, True)\n",
    "for i in data_loader:\n",
    "    X = (MolGraph(i[0]))\n",
    "    Y = (MolGraph(i[1]))\n",
    "    break"
   ]
  },
  {
   "cell_type": "code",
   "execution_count": 4,
   "metadata": {},
   "outputs": [],
   "source": [
    "sys.argv = [\"\", \"-cuda\"]\n",
    "args = get_args()\n",
    "args.output_dir = \"mol_opt/output/\"\n",
    "\n",
    "mol_opt = MolOpt(args)\n",
    "mol_opt_decoder = MolOptDecoder(args)\n",
    "loss = FGW(alpha = 0.5)"
   ]
  },
  {
   "cell_type": "code",
   "execution_count": 198,
   "metadata": {},
   "outputs": [
    {
     "data": {
      "text/plain": [
       "tensor(180.8488, device='cuda:0', grad_fn=<AddBackward0>)"
      ]
     },
     "execution_count": 198,
     "metadata": {},
     "output_type": "execute_result"
    }
   ],
   "source": [
    "x_embedding, x_delta_hat = mol_opt.forward(X)\n",
    "yhat_embedding = x_embedding + x_delta_hat\n",
    "yhat_logits = mol_opt_decoder.forward(yhat_embedding, Y)\n",
    "yhat_labels = mol_opt_decoder.discretize(*yhat_logits)\n",
    "loss((yhat_labels, yhat_logits, Y.scope), Y)"
   ]
  },
  {
   "cell_type": "code",
   "execution_count": 6,
   "metadata": {},
   "outputs": [],
   "source": [
    "symbols_logits, charges_logits, bonds_logits = yhat_logits\n",
    "symbols_nll, charges_nll, bonds_nll = -nn.LogSoftmax(dim=1)(symbols_logits), -nn.LogSoftmax(dim=1)(charges_logits), -nn.LogSoftmax(dim=1)(bonds_logits)"
   ]
  },
  {
   "cell_type": "code",
   "execution_count": 25,
   "metadata": {},
   "outputs": [
    {
     "data": {
      "text/plain": [
       "torch.Size([1061, 64])"
      ]
     },
     "execution_count": 25,
     "metadata": {},
     "output_type": "execute_result"
    }
   ],
   "source": [
    "symbols_nll.shape"
   ]
  },
  {
   "cell_type": "code",
   "execution_count": 31,
   "metadata": {},
   "outputs": [
    {
     "data": {
      "text/plain": [
       "tensor([25,  7,  7,  ...,  7,  7,  7], device='cuda:0',\n",
       "       grad_fn=<NotImplemented>)"
      ]
     },
     "execution_count": 31,
     "metadata": {},
     "output_type": "execute_result"
    }
   ],
   "source": [
    "yhat_labels[0]"
   ]
  },
  {
   "cell_type": "code",
   "execution_count": 22,
   "metadata": {},
   "outputs": [
    {
     "data": {
      "text/plain": [
       "tensor([[4.1151, 4.1547, 4.2164,  ..., 4.0651, 4.0776, 4.2221],\n",
       "        [4.1128, 4.1475, 4.2505,  ..., 4.0518, 4.0424, 4.2092],\n",
       "        [4.1492, 4.1749, 4.2679,  ..., 4.0830, 4.0894, 4.2525],\n",
       "        ...,\n",
       "        [4.1439, 4.1996, 4.2309,  ..., 4.0577, 4.0508, 4.2307],\n",
       "        [4.1914, 4.1981, 4.1970,  ..., 4.0729, 4.0927, 4.2033],\n",
       "        [4.1494, 4.1610, 4.1817,  ..., 4.0803, 4.0675, 4.1877]],\n",
       "       device='cuda:0', grad_fn=<NegBackward>)"
      ]
     },
     "execution_count": 22,
     "metadata": {},
     "output_type": "execute_result"
    }
   ],
   "source": [
    "symbols_nll"
   ]
  },
  {
   "cell_type": "code",
   "execution_count": 8,
   "metadata": {},
   "outputs": [
    {
     "data": {
      "text/plain": [
       "torch.Size([1061, 5])"
      ]
     },
     "execution_count": 8,
     "metadata": {},
     "output_type": "execute_result"
    }
   ],
   "source": [
    "charges_nll.shape"
   ]
  },
  {
   "cell_type": "code",
   "execution_count": 35,
   "metadata": {},
   "outputs": [
    {
     "data": {
      "text/plain": [
       "torch.Size([23733, 5])"
      ]
     },
     "execution_count": 35,
     "metadata": {},
     "output_type": "execute_result"
    }
   ],
   "source": [
    "bonds_nll.shape"
   ]
  },
  {
   "cell_type": "code",
   "execution_count": 100,
   "metadata": {},
   "outputs": [],
   "source": [
    "# get encoding of symbols\n",
    "symbols_lst = [ys.symbol for y in Y.mols for ys in y.atoms]\n",
    "target_symbols = torch.zeros_like(symbols_nll)\n",
    "for idxl, l in enumerate(symbols_lst):\n",
    "    for idxs, s in enumerate(SYMBOLS):\n",
    "        if (s == l):\n",
    "            symbols_lst[idxl] = idxs\n",
    "            target_symbols[idxl, idxs] = 1"
   ]
  },
  {
   "cell_type": "code",
   "execution_count": 85,
   "metadata": {},
   "outputs": [
    {
     "data": {
      "text/plain": [
       "torch.Size([1061])"
      ]
     },
     "execution_count": 85,
     "metadata": {},
     "output_type": "execute_result"
    }
   ],
   "source": [
    "bonds_lst = "
   ]
  },
  {
   "cell_type": "code",
   "execution_count": 115,
   "metadata": {},
   "outputs": [],
   "source": [
    "target_bonds = torch.zeros_like(bonds_nll)\n",
    "target_bonds[:,-1].fill_(1)"
   ]
  },
  {
   "cell_type": "code",
   "execution_count": 170,
   "metadata": {},
   "outputs": [
    {
     "data": {
      "text/plain": [
       "tensor([[0., 0., 0., 0., 1.],\n",
       "        [1., 0., 0., 0., 0.],\n",
       "        [0., 0., 0., 0., 1.],\n",
       "        ...,\n",
       "        [0., 0., 0., 0., 1.],\n",
       "        [0., 0., 0., 1., 0.],\n",
       "        [0., 0., 0., 0., 1.]], device='cuda:0')"
      ]
     },
     "execution_count": 170,
     "metadata": {},
     "output_type": "execute_result"
    }
   ],
   "source": [
    "target_bonds"
   ]
  },
  {
   "cell_type": "code",
   "execution_count": 203,
   "metadata": {},
   "outputs": [],
   "source": [
    "[fatoms, fbonds, gromov_agraph, bgraph], scope = Y.gromov_get_graph_inputs()"
   ]
  },
  {
   "cell_type": "code",
   "execution_count": 174,
   "metadata": {},
   "outputs": [
    {
     "data": {
      "text/plain": [
       "26"
      ]
     },
     "execution_count": 174,
     "metadata": {},
     "output_type": "execute_result"
    }
   ],
   "source": [
    "len(Y.mols[3].atoms)"
   ]
  },
  {
   "cell_type": "code",
   "execution_count": 169,
   "metadata": {
    "scrolled": true
   },
   "outputs": [],
   "source": [
    "# encode bonds\n",
    "bond_idx = 0\n",
    "for mol_idx, mol in enumerate(Y.mols):\n",
    "    _, lex = Y.scope[mol_idx]\n",
    "    for x in mol.bonds:\n",
    "        curr_bond_idx = bond_idx + lex * x.in_atom_idx + x.out_atom_idx\n",
    "        target_bonds[curr_bond_idx, -1] = 0\n",
    "        target_bonds[curr_bond_idx, get_bt_index(x.bond_type)] = 1\n",
    "\n",
    "    bond_idx += lex ** 2"
   ]
  },
  {
   "cell_type": "code",
   "execution_count": 167,
   "metadata": {},
   "outputs": [
    {
     "data": {
      "text/plain": [
       "tensor([[0., 0., 0., 0., 1.],\n",
       "        [0., 0., 0., 0., 1.],\n",
       "        [0., 0., 0., 0., 1.],\n",
       "        [0., 0., 0., 0., 1.],\n",
       "        [0., 0., 0., 0., 1.],\n",
       "        [0., 0., 0., 0., 1.],\n",
       "        [0., 0., 0., 0., 1.],\n",
       "        [0., 0., 0., 0., 1.],\n",
       "        [0., 0., 0., 0., 1.],\n",
       "        [0., 0., 0., 1., 0.],\n",
       "        [0., 0., 0., 0., 1.],\n",
       "        [0., 0., 0., 0., 1.],\n",
       "        [0., 0., 0., 1., 0.],\n",
       "        [0., 0., 0., 0., 1.],\n",
       "        [0., 0., 0., 0., 1.],\n",
       "        [0., 0., 0., 0., 1.],\n",
       "        [0., 0., 0., 0., 1.],\n",
       "        [0., 0., 0., 0., 1.],\n",
       "        [0., 0., 0., 1., 0.],\n",
       "        [0., 0., 0., 0., 1.]], device='cuda:0')"
      ]
     },
     "execution_count": 167,
     "metadata": {},
     "output_type": "execute_result"
    }
   ],
   "source": [
    "target_bonds[-20:]"
   ]
  },
  {
   "cell_type": "code",
   "execution_count": 166,
   "metadata": {},
   "outputs": [
    {
     "data": {
      "text/plain": [
       "23733"
      ]
     },
     "execution_count": 166,
     "metadata": {},
     "output_type": "execute_result"
    }
   ],
   "source": [
    "bond_idx"
   ]
  },
  {
   "cell_type": "code",
   "execution_count": 162,
   "metadata": {},
   "outputs": [
    {
     "data": {
      "text/plain": [
       "torch.Size([23733, 5])"
      ]
     },
     "execution_count": 162,
     "metadata": {},
     "output_type": "execute_result"
    }
   ],
   "source": [
    "target_bonds.shape"
   ]
  },
  {
   "cell_type": "code",
   "execution_count": 161,
   "metadata": {},
   "outputs": [
    {
     "data": {
      "text/plain": [
       "23733"
      ]
     },
     "execution_count": 161,
     "metadata": {},
     "output_type": "execute_result"
    }
   ],
   "source": [
    "sum([x[1] ** 2 for x in Y.scope])"
   ]
  },
  {
   "cell_type": "code",
   "execution_count": 151,
   "metadata": {},
   "outputs": [
    {
     "data": {
      "text/plain": [
       "[(1, 0, rdkit.Chem.rdchem.BondType.SINGLE),\n",
       " (0, 1, rdkit.Chem.rdchem.BondType.SINGLE),\n",
       " (2, 1, rdkit.Chem.rdchem.BondType.SINGLE),\n",
       " (1, 2, rdkit.Chem.rdchem.BondType.SINGLE),\n",
       " (3, 2, rdkit.Chem.rdchem.BondType.SINGLE),\n",
       " (2, 3, rdkit.Chem.rdchem.BondType.SINGLE),\n",
       " (4, 3, rdkit.Chem.rdchem.BondType.SINGLE),\n",
       " (3, 4, rdkit.Chem.rdchem.BondType.SINGLE),\n",
       " (5, 4, rdkit.Chem.rdchem.BondType.SINGLE),\n",
       " (4, 5, rdkit.Chem.rdchem.BondType.SINGLE),\n",
       " (6, 5, rdkit.Chem.rdchem.BondType.SINGLE),\n",
       " (5, 6, rdkit.Chem.rdchem.BondType.SINGLE),\n",
       " (7, 6, rdkit.Chem.rdchem.BondType.SINGLE),\n",
       " (6, 7, rdkit.Chem.rdchem.BondType.SINGLE),\n",
       " (8, 7, rdkit.Chem.rdchem.BondType.SINGLE),\n",
       " (7, 8, rdkit.Chem.rdchem.BondType.SINGLE),\n",
       " (9, 8, rdkit.Chem.rdchem.BondType.DOUBLE),\n",
       " (8, 9, rdkit.Chem.rdchem.BondType.DOUBLE),\n",
       " (10, 8, rdkit.Chem.rdchem.BondType.SINGLE),\n",
       " (8, 10, rdkit.Chem.rdchem.BondType.SINGLE),\n",
       " (11, 10, rdkit.Chem.rdchem.BondType.SINGLE),\n",
       " (10, 11, rdkit.Chem.rdchem.BondType.SINGLE),\n",
       " (12, 11, rdkit.Chem.rdchem.BondType.AROMATIC),\n",
       " (11, 12, rdkit.Chem.rdchem.BondType.AROMATIC),\n",
       " (13, 12, rdkit.Chem.rdchem.BondType.AROMATIC),\n",
       " (12, 13, rdkit.Chem.rdchem.BondType.AROMATIC),\n",
       " (14, 13, rdkit.Chem.rdchem.BondType.AROMATIC),\n",
       " (13, 14, rdkit.Chem.rdchem.BondType.AROMATIC),\n",
       " (15, 14, rdkit.Chem.rdchem.BondType.AROMATIC),\n",
       " (14, 15, rdkit.Chem.rdchem.BondType.AROMATIC),\n",
       " (16, 15, rdkit.Chem.rdchem.BondType.AROMATIC),\n",
       " (15, 16, rdkit.Chem.rdchem.BondType.AROMATIC),\n",
       " (17, 16, rdkit.Chem.rdchem.BondType.AROMATIC),\n",
       " (16, 17, rdkit.Chem.rdchem.BondType.AROMATIC),\n",
       " (18, 17, rdkit.Chem.rdchem.BondType.SINGLE),\n",
       " (17, 18, rdkit.Chem.rdchem.BondType.SINGLE),\n",
       " (19, 18, rdkit.Chem.rdchem.BondType.SINGLE),\n",
       " (18, 19, rdkit.Chem.rdchem.BondType.SINGLE),\n",
       " (20, 17, rdkit.Chem.rdchem.BondType.AROMATIC),\n",
       " (17, 20, rdkit.Chem.rdchem.BondType.AROMATIC),\n",
       " (21, 20, rdkit.Chem.rdchem.BondType.AROMATIC),\n",
       " (20, 21, rdkit.Chem.rdchem.BondType.AROMATIC),\n",
       " (2, 7, rdkit.Chem.rdchem.BondType.SINGLE),\n",
       " (7, 2, rdkit.Chem.rdchem.BondType.SINGLE),\n",
       " (11, 21, rdkit.Chem.rdchem.BondType.AROMATIC),\n",
       " (21, 11, rdkit.Chem.rdchem.BondType.AROMATIC),\n",
       " (14, 21, rdkit.Chem.rdchem.BondType.AROMATIC),\n",
       " (21, 14, rdkit.Chem.rdchem.BondType.AROMATIC)]"
      ]
     },
     "execution_count": 151,
     "metadata": {},
     "output_type": "execute_result"
    }
   ],
   "source": [
    "[(x.in_atom_idx, x.out_atom_idx, x.bond_type) for x in mol.bonds]"
   ]
  },
  {
   "cell_type": "code",
   "execution_count": 63,
   "metadata": {},
   "outputs": [
    {
     "data": {
      "text/plain": [
       "0"
      ]
     },
     "execution_count": 63,
     "metadata": {},
     "output_type": "execute_result"
    }
   ],
   "source": [
    "y.bonds[0].out_atom_idx"
   ]
  },
  {
   "cell_type": "code",
   "execution_count": 168,
   "metadata": {},
   "outputs": [
    {
     "data": {
      "text/plain": [
       "3"
      ]
     },
     "execution_count": 168,
     "metadata": {},
     "output_type": "execute_result"
    }
   ],
   "source": [
    "get_bt_index(x.bond_type)"
   ]
  },
  {
   "cell_type": "code",
   "execution_count": 109,
   "metadata": {},
   "outputs": [
    {
     "data": {
      "text/plain": [
       "(array([0, 1, 2, 3]),)"
      ]
     },
     "execution_count": 109,
     "metadata": {},
     "output_type": "execute_result"
    }
   ],
   "source": [
    "len(BOND_TYPES) - 1"
   ]
  },
  {
   "cell_type": "code",
   "execution_count": 176,
   "metadata": {},
   "outputs": [],
   "source": []
  },
  {
   "cell_type": "code",
   "execution_count": 180,
   "metadata": {},
   "outputs": [
    {
     "data": {
      "text/plain": [
       "(tensor([[1., 0., 0.,  ..., 0., 0., 0.],\n",
       "         [1., 0., 0.,  ..., 0., 0., 0.],\n",
       "         [1., 0., 0.,  ..., 0., 0., 0.],\n",
       "         ...,\n",
       "         [1., 0., 0.,  ..., 0., 0., 0.],\n",
       "         [1., 0., 0.,  ..., 0., 0., 0.],\n",
       "         [1., 0., 0.,  ..., 0., 0., 0.]]),\n",
       " tensor([[0., 0., 0., 0., 1.],\n",
       "         [1., 0., 0., 0., 0.],\n",
       "         [0., 0., 0., 0., 1.],\n",
       "         ...,\n",
       "         [0., 0., 0., 0., 1.],\n",
       "         [0., 0., 0., 1., 0.],\n",
       "         [0., 0., 0., 0., 1.]]))"
      ]
     },
     "execution_count": 180,
     "metadata": {},
     "output_type": "execute_result"
    }
   ],
   "source": [
    "encode_target(Y)"
   ]
  },
  {
   "cell_type": "code",
   "execution_count": 183,
   "metadata": {},
   "outputs": [],
   "source": [
    "loss = FGW(alpha = 0.5)"
   ]
  },
  {
   "cell_type": "code",
   "execution_count": 191,
   "metadata": {},
   "outputs": [
    {
     "data": {
      "text/plain": [
       "tensor(180.8488, device='cuda:0', grad_fn=<AddBackward0>)"
      ]
     },
     "execution_count": 191,
     "metadata": {},
     "output_type": "execute_result"
    }
   ],
   "source": [
    "loss((yhat_labels, yhat_logits, Y.scope), Y)"
   ]
  },
  {
   "cell_type": "code",
   "execution_count": 188,
   "metadata": {},
   "outputs": [
    {
     "data": {
      "text/plain": [
       "[(0, 18),\n",
       " (18, 24),\n",
       " (42, 19),\n",
       " (61, 26),\n",
       " (87, 19),\n",
       " (106, 24),\n",
       " (130, 20),\n",
       " (150, 17),\n",
       " (167, 20),\n",
       " (187, 25),\n",
       " (212, 25),\n",
       " (237, 25),\n",
       " (262, 24),\n",
       " (286, 22),\n",
       " (308, 23),\n",
       " (331, 22),\n",
       " (353, 22),\n",
       " (375, 19),\n",
       " (394, 24),\n",
       " (418, 19),\n",
       " (437, 20),\n",
       " (457, 20),\n",
       " (477, 23),\n",
       " (500, 26),\n",
       " (526, 26),\n",
       " (552, 23),\n",
       " (575, 23),\n",
       " (598, 24),\n",
       " (622, 21),\n",
       " (643, 20),\n",
       " (663, 25),\n",
       " (688, 23),\n",
       " (711, 24),\n",
       " (735, 22),\n",
       " (757, 21),\n",
       " (778, 21),\n",
       " (799, 17),\n",
       " (816, 26),\n",
       " (842, 20),\n",
       " (862, 22),\n",
       " (884, 21),\n",
       " (905, 24),\n",
       " (929, 21),\n",
       " (950, 19),\n",
       " (969, 24),\n",
       " (993, 24),\n",
       " (1017, 22),\n",
       " (1039, 22)]"
      ]
     },
     "execution_count": 188,
     "metadata": {},
     "output_type": "execute_result"
    }
   ],
   "source": [
    "Y.scope"
   ]
  }
 ],
 "metadata": {
  "kernelspec": {
   "display_name": "Python 3",
   "language": "python",
   "name": "python3"
  },
  "language_info": {
   "codemirror_mode": {
    "name": "ipython",
    "version": 3
   },
   "file_extension": ".py",
   "mimetype": "text/x-python",
   "name": "python",
   "nbconvert_exporter": "python",
   "pygments_lexer": "ipython3",
   "version": "3.6.8"
  }
 },
 "nbformat": 4,
 "nbformat_minor": 4
}
