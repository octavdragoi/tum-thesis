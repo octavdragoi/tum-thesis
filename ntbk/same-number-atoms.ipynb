{
 "cells": [
  {
   "cell_type": "code",
   "execution_count": 1,
   "metadata": {},
   "outputs": [
    {
     "name": "stdout",
     "output_type": "stream",
     "text": [
      "/home/octav/gitrepos/tum-thesis\n"
     ]
    }
   ],
   "source": [
    "import os\n",
    "if \"ntbk\" in os.getcwd():\n",
    "    os.chdir(\"..\")\n",
    "print(os.getcwd())\n",
    "\n",
    "import sys\n",
    "sys.path.append(os.path.join(os.getcwd(), \"otgnn\"))\n",
    "\n",
    "\n",
    "%load_ext autoreload\n",
    "%autoreload 2"
   ]
  },
  {
   "cell_type": "code",
   "execution_count": 20,
   "metadata": {},
   "outputs": [],
   "source": [
    "from otgnn.models import GCN\n",
    "from otgnn.graph import MolGraph\n",
    "\n",
    "from mol_opt.data_mol_opt import MolOptDataset\n",
    "from mol_opt.data_mol_opt import get_loader\n",
    "from mol_opt.arguments import get_args\n",
    "\n",
    "from rdkit.Chem import MolFromSmiles\n",
    "\n",
    "import torch"
   ]
  },
  {
   "cell_type": "code",
   "execution_count": 3,
   "metadata": {},
   "outputs": [
    {
     "data": {
      "text/plain": [
       "['/home/octav/anaconda3/envs/mol_ot/lib/python36.zip',\n",
       " '/home/octav/anaconda3/envs/mol_ot/lib/python3.6',\n",
       " '/home/octav/anaconda3/envs/mol_ot/lib/python3.6/lib-dynload',\n",
       " '',\n",
       " '/home/octav/anaconda3/envs/mol_ot/lib/python3.6/site-packages',\n",
       " '/home/octav/anaconda3/envs/mol_ot/lib/python3.6/site-packages/IPython/extensions',\n",
       " '/home/octav/.ipython',\n",
       " '/home/octav/gitrepos/tum-thesis/otgnn']"
      ]
     },
     "execution_count": 3,
     "metadata": {},
     "output_type": "execute_result"
    }
   ],
   "source": [
    "sys.path"
   ]
  },
  {
   "cell_type": "code",
   "execution_count": 4,
   "metadata": {},
   "outputs": [],
   "source": [
    "data_loader = get_loader(\"iclr19-graph2graph/data/qed\", 48, True)"
   ]
  },
  {
   "cell_type": "code",
   "execution_count": 5,
   "metadata": {},
   "outputs": [],
   "source": [
    "for i in data_loader:\n",
    "    X = (MolGraph(i[0]))\n",
    "    Y = (MolGraph(i[1]))\n",
    "    break"
   ]
  },
  {
   "cell_type": "code",
   "execution_count": 104,
   "metadata": {},
   "outputs": [],
   "source": []
  },
  {
   "cell_type": "code",
   "execution_count": 115,
   "metadata": {},
   "outputs": [],
   "source": [
    "sys.argv = [\"\"]\n",
    "args = get_args()\n",
    "args.device = \"cuda:0\"\n",
    "gcn = GCN(args)\n",
    "gcn.cuda()"
   ]
  },
  {
   "cell_type": "code",
   "execution_count": 122,
   "metadata": {},
   "outputs": [
    {
     "data": {
      "text/plain": [
       "<otgnn.graph.mol_graph.MolGraph at 0x7ffacd7c4208>"
      ]
     },
     "execution_count": 122,
     "metadata": {},
     "output_type": "execute_result"
    }
   ],
   "source": [
    "X"
   ]
  },
  {
   "cell_type": "code",
   "execution_count": 111,
   "metadata": {},
   "outputs": [
    {
     "ename": "RuntimeError",
     "evalue": "Expected object of device type cuda but got device type cpu for argument #2 'mat2' in call to _th_mm",
     "output_type": "error",
     "traceback": [
      "\u001b[0;31m---------------------------------------------------------------------------\u001b[0m",
      "\u001b[0;31mRuntimeError\u001b[0m                              Traceback (most recent call last)",
      "\u001b[0;32m<ipython-input-111-a9ddc3f02115>\u001b[0m in \u001b[0;36m<module>\u001b[0;34m\u001b[0m\n\u001b[0;32m----> 1\u001b[0;31m \u001b[0mgcn\u001b[0m\u001b[0;34m.\u001b[0m\u001b[0mforward\u001b[0m\u001b[0;34m(\u001b[0m\u001b[0mY\u001b[0m\u001b[0;34m)\u001b[0m\u001b[0;34m[\u001b[0m\u001b[0;36m0\u001b[0m\u001b[0;34m]\u001b[0m\u001b[0;34m\u001b[0m\u001b[0;34m\u001b[0m\u001b[0m\n\u001b[0m",
      "\u001b[0;32m~/gitrepos/tum-thesis/otgnn/models/gcn.py\u001b[0m in \u001b[0;36mforward\u001b[0;34m(self, mol_graph)\u001b[0m\n\u001b[1;32m    123\u001b[0m \u001b[0;34m\u001b[0m\u001b[0m\n\u001b[1;32m    124\u001b[0m         \u001b[0;31m# nei_input_h is size [# bonds, n_hidden]\u001b[0m\u001b[0;34m\u001b[0m\u001b[0;34m\u001b[0m\u001b[0;34m\u001b[0m\u001b[0m\n\u001b[0;32m--> 125\u001b[0;31m         \u001b[0mnei_input_h\u001b[0m \u001b[0;34m=\u001b[0m \u001b[0mself\u001b[0m\u001b[0;34m.\u001b[0m\u001b[0mdropout_gcn\u001b[0m\u001b[0;34m(\u001b[0m\u001b[0mself\u001b[0m\u001b[0;34m.\u001b[0m\u001b[0mW_message_i\u001b[0m\u001b[0;34m(\u001b[0m\u001b[0mfbonds\u001b[0m\u001b[0;34m)\u001b[0m\u001b[0;34m)\u001b[0m\u001b[0;34m\u001b[0m\u001b[0;34m\u001b[0m\u001b[0m\n\u001b[0m\u001b[1;32m    126\u001b[0m         \u001b[0;31m# message_h is size [# bonds, n_hidden]\u001b[0m\u001b[0;34m\u001b[0m\u001b[0;34m\u001b[0m\u001b[0;34m\u001b[0m\u001b[0m\n\u001b[1;32m    127\u001b[0m         \u001b[0mmessage_h\u001b[0m \u001b[0;34m=\u001b[0m \u001b[0mnn\u001b[0m\u001b[0;34m.\u001b[0m\u001b[0mReLU\u001b[0m\u001b[0;34m(\u001b[0m\u001b[0;34m)\u001b[0m\u001b[0;34m(\u001b[0m\u001b[0mnei_input_h\u001b[0m\u001b[0;34m)\u001b[0m\u001b[0;34m\u001b[0m\u001b[0;34m\u001b[0m\u001b[0m\n",
      "\u001b[0;32m~/anaconda3/envs/mol_ot/lib/python3.6/site-packages/torch/nn/modules/module.py\u001b[0m in \u001b[0;36m__call__\u001b[0;34m(self, *input, **kwargs)\u001b[0m\n\u001b[1;32m    548\u001b[0m             \u001b[0mresult\u001b[0m \u001b[0;34m=\u001b[0m \u001b[0mself\u001b[0m\u001b[0;34m.\u001b[0m\u001b[0m_slow_forward\u001b[0m\u001b[0;34m(\u001b[0m\u001b[0;34m*\u001b[0m\u001b[0minput\u001b[0m\u001b[0;34m,\u001b[0m \u001b[0;34m**\u001b[0m\u001b[0mkwargs\u001b[0m\u001b[0;34m)\u001b[0m\u001b[0;34m\u001b[0m\u001b[0;34m\u001b[0m\u001b[0m\n\u001b[1;32m    549\u001b[0m         \u001b[0;32melse\u001b[0m\u001b[0;34m:\u001b[0m\u001b[0;34m\u001b[0m\u001b[0;34m\u001b[0m\u001b[0m\n\u001b[0;32m--> 550\u001b[0;31m             \u001b[0mresult\u001b[0m \u001b[0;34m=\u001b[0m \u001b[0mself\u001b[0m\u001b[0;34m.\u001b[0m\u001b[0mforward\u001b[0m\u001b[0;34m(\u001b[0m\u001b[0;34m*\u001b[0m\u001b[0minput\u001b[0m\u001b[0;34m,\u001b[0m \u001b[0;34m**\u001b[0m\u001b[0mkwargs\u001b[0m\u001b[0;34m)\u001b[0m\u001b[0;34m\u001b[0m\u001b[0;34m\u001b[0m\u001b[0m\n\u001b[0m\u001b[1;32m    551\u001b[0m         \u001b[0;32mfor\u001b[0m \u001b[0mhook\u001b[0m \u001b[0;32min\u001b[0m \u001b[0mself\u001b[0m\u001b[0;34m.\u001b[0m\u001b[0m_forward_hooks\u001b[0m\u001b[0;34m.\u001b[0m\u001b[0mvalues\u001b[0m\u001b[0;34m(\u001b[0m\u001b[0;34m)\u001b[0m\u001b[0;34m:\u001b[0m\u001b[0;34m\u001b[0m\u001b[0;34m\u001b[0m\u001b[0m\n\u001b[1;32m    552\u001b[0m             \u001b[0mhook_result\u001b[0m \u001b[0;34m=\u001b[0m \u001b[0mhook\u001b[0m\u001b[0;34m(\u001b[0m\u001b[0mself\u001b[0m\u001b[0;34m,\u001b[0m \u001b[0minput\u001b[0m\u001b[0;34m,\u001b[0m \u001b[0mresult\u001b[0m\u001b[0;34m)\u001b[0m\u001b[0;34m\u001b[0m\u001b[0;34m\u001b[0m\u001b[0m\n",
      "\u001b[0;32m~/anaconda3/envs/mol_ot/lib/python3.6/site-packages/torch/nn/modules/linear.py\u001b[0m in \u001b[0;36mforward\u001b[0;34m(self, input)\u001b[0m\n\u001b[1;32m     85\u001b[0m \u001b[0;34m\u001b[0m\u001b[0m\n\u001b[1;32m     86\u001b[0m     \u001b[0;32mdef\u001b[0m \u001b[0mforward\u001b[0m\u001b[0;34m(\u001b[0m\u001b[0mself\u001b[0m\u001b[0;34m,\u001b[0m \u001b[0minput\u001b[0m\u001b[0;34m)\u001b[0m\u001b[0;34m:\u001b[0m\u001b[0;34m\u001b[0m\u001b[0;34m\u001b[0m\u001b[0m\n\u001b[0;32m---> 87\u001b[0;31m         \u001b[0;32mreturn\u001b[0m \u001b[0mF\u001b[0m\u001b[0;34m.\u001b[0m\u001b[0mlinear\u001b[0m\u001b[0;34m(\u001b[0m\u001b[0minput\u001b[0m\u001b[0;34m,\u001b[0m \u001b[0mself\u001b[0m\u001b[0;34m.\u001b[0m\u001b[0mweight\u001b[0m\u001b[0;34m,\u001b[0m \u001b[0mself\u001b[0m\u001b[0;34m.\u001b[0m\u001b[0mbias\u001b[0m\u001b[0;34m)\u001b[0m\u001b[0;34m\u001b[0m\u001b[0;34m\u001b[0m\u001b[0m\n\u001b[0m\u001b[1;32m     88\u001b[0m \u001b[0;34m\u001b[0m\u001b[0m\n\u001b[1;32m     89\u001b[0m     \u001b[0;32mdef\u001b[0m \u001b[0mextra_repr\u001b[0m\u001b[0;34m(\u001b[0m\u001b[0mself\u001b[0m\u001b[0;34m)\u001b[0m\u001b[0;34m:\u001b[0m\u001b[0;34m\u001b[0m\u001b[0;34m\u001b[0m\u001b[0m\n",
      "\u001b[0;32m~/anaconda3/envs/mol_ot/lib/python3.6/site-packages/torch/nn/functional.py\u001b[0m in \u001b[0;36mlinear\u001b[0;34m(input, weight, bias)\u001b[0m\n\u001b[1;32m   1610\u001b[0m         \u001b[0mret\u001b[0m \u001b[0;34m=\u001b[0m \u001b[0mtorch\u001b[0m\u001b[0;34m.\u001b[0m\u001b[0maddmm\u001b[0m\u001b[0;34m(\u001b[0m\u001b[0mbias\u001b[0m\u001b[0;34m,\u001b[0m \u001b[0minput\u001b[0m\u001b[0;34m,\u001b[0m \u001b[0mweight\u001b[0m\u001b[0;34m.\u001b[0m\u001b[0mt\u001b[0m\u001b[0;34m(\u001b[0m\u001b[0;34m)\u001b[0m\u001b[0;34m)\u001b[0m\u001b[0;34m\u001b[0m\u001b[0;34m\u001b[0m\u001b[0m\n\u001b[1;32m   1611\u001b[0m     \u001b[0;32melse\u001b[0m\u001b[0;34m:\u001b[0m\u001b[0;34m\u001b[0m\u001b[0;34m\u001b[0m\u001b[0m\n\u001b[0;32m-> 1612\u001b[0;31m         \u001b[0moutput\u001b[0m \u001b[0;34m=\u001b[0m \u001b[0minput\u001b[0m\u001b[0;34m.\u001b[0m\u001b[0mmatmul\u001b[0m\u001b[0;34m(\u001b[0m\u001b[0mweight\u001b[0m\u001b[0;34m.\u001b[0m\u001b[0mt\u001b[0m\u001b[0;34m(\u001b[0m\u001b[0;34m)\u001b[0m\u001b[0;34m)\u001b[0m\u001b[0;34m\u001b[0m\u001b[0;34m\u001b[0m\u001b[0m\n\u001b[0m\u001b[1;32m   1613\u001b[0m         \u001b[0;32mif\u001b[0m \u001b[0mbias\u001b[0m \u001b[0;32mis\u001b[0m \u001b[0;32mnot\u001b[0m \u001b[0;32mNone\u001b[0m\u001b[0;34m:\u001b[0m\u001b[0;34m\u001b[0m\u001b[0;34m\u001b[0m\u001b[0m\n\u001b[1;32m   1614\u001b[0m             \u001b[0moutput\u001b[0m \u001b[0;34m+=\u001b[0m \u001b[0mbias\u001b[0m\u001b[0;34m\u001b[0m\u001b[0;34m\u001b[0m\u001b[0m\n",
      "\u001b[0;31mRuntimeError\u001b[0m: Expected object of device type cuda but got device type cpu for argument #2 'mat2' in call to _th_mm"
     ]
    }
   ],
   "source": [
    "gcn.forward(Y)[0]"
   ]
  },
  {
   "cell_type": "code",
   "execution_count": 21,
   "metadata": {},
   "outputs": [],
   "source": [
    "opt = torch.nn.Linear(50, 50)"
   ]
  },
  {
   "cell_type": "code",
   "execution_count": 27,
   "metadata": {},
   "outputs": [
    {
     "data": {
      "text/plain": [
       "tensor([[-0.0282,  0.0010,  0.1257,  ...,  0.0358,  0.0920,  0.0633],\n",
       "        [-0.0633, -0.0360,  0.0435,  ...,  0.1123,  0.0942,  0.0485],\n",
       "        [ 0.0159, -0.1049,  0.0004,  ..., -0.0007,  0.0266,  0.1323],\n",
       "        ...,\n",
       "        [-0.0834,  0.0271,  0.0630,  ...,  0.0840,  0.0499,  0.0218],\n",
       "        [-0.1054, -0.0311,  0.0378,  ...,  0.0550,  0.0854,  0.0327],\n",
       "        [-0.0654,  0.0254,  0.1890,  ...,  0.0316,  0.0437,  0.0630]],\n",
       "       grad_fn=<AddmmBackward>)"
      ]
     },
     "execution_count": 27,
     "metadata": {},
     "output_type": "execute_result"
    }
   ],
   "source": [
    "opt(gcn.forward(Y)[0])"
   ]
  },
  {
   "cell_type": "code",
   "execution_count": 123,
   "metadata": {},
   "outputs": [
    {
     "data": {
      "text/plain": [
       "MolOpt(\n",
       "  (GCN): GCN(\n",
       "    (W_message_i): Linear(in_features=100, out_features=50, bias=False)\n",
       "    (W_message_h): Linear(in_features=50, out_features=50, bias=False)\n",
       "    (W_message_o): Linear(in_features=143, out_features=50, bias=True)\n",
       "    (W_mol_h): Linear(in_features=50, out_features=100, bias=True)\n",
       "    (W_mol_o): Linear(in_features=100, out_features=1, bias=True)\n",
       "    (dropout_gcn): Dropout(p=0.0, inplace=False)\n",
       "    (dropout_ffn): Dropout(p=0.0, inplace=False)\n",
       "  )\n",
       "  (opt): Linear(in_features=50, out_features=50, bias=True)\n",
       "  (delta_loss): MSELoss()\n",
       ")"
      ]
     },
     "execution_count": 123,
     "metadata": {},
     "output_type": "execute_result"
    }
   ],
   "source": [
    "from mol_opt import mol_opt\n",
    "molopt = mol_opt.MolOpt(args)\n",
    "molopt.cuda()"
   ]
  },
  {
   "cell_type": "code",
   "execution_count": 124,
   "metadata": {},
   "outputs": [
    {
     "data": {
      "text/plain": [
       "tensor(0.0283, device='cuda:0', grad_fn=<MeanBackward0>)"
      ]
     },
     "execution_count": 124,
     "metadata": {},
     "output_type": "execute_result"
    }
   ],
   "source": [
    "molopt.forward_train(X, Y)"
   ]
  },
  {
   "cell_type": "code",
   "execution_count": 127,
   "metadata": {},
   "outputs": [
    {
     "name": "stdout",
     "output_type": "stream",
     "text": [
      "0 tensor(0.0185, device='cuda:0', grad_fn=<MeanBackward0>)\n",
      "1 tensor(0.0178, device='cuda:0', grad_fn=<MeanBackward0>)\n",
      "2 tensor(0.0169, device='cuda:0', grad_fn=<MeanBackward0>)\n",
      "3 tensor(0.0167, device='cuda:0', grad_fn=<MeanBackward0>)\n",
      "4 tensor(0.0177, device='cuda:0', grad_fn=<MeanBackward0>)\n",
      "5 tensor(0.0181, device='cuda:0', grad_fn=<MeanBackward0>)\n",
      "6 tensor(0.0178, device='cuda:0', grad_fn=<MeanBackward0>)\n",
      "7 tensor(0.0176, device='cuda:0', grad_fn=<MeanBackward0>)\n",
      "8 tensor(0.0174, device='cuda:0', grad_fn=<MeanBackward0>)\n",
      "9 tensor(0.0179, device='cuda:0', grad_fn=<MeanBackward0>)\n",
      "10 tensor(0.0181, device='cuda:0', grad_fn=<MeanBackward0>)\n",
      "11 tensor(0.0179, device='cuda:0', grad_fn=<MeanBackward0>)\n",
      "12 tensor(0.0172, device='cuda:0', grad_fn=<MeanBackward0>)\n",
      "13 tensor(0.0179, device='cuda:0', grad_fn=<MeanBackward0>)\n",
      "14 tensor(0.0177, device='cuda:0', grad_fn=<MeanBackward0>)\n",
      "15 tensor(0.0173, device='cuda:0', grad_fn=<MeanBackward0>)\n",
      "16 tensor(0.0164, device='cuda:0', grad_fn=<MeanBackward0>)\n",
      "17 tensor(0.0168, device='cuda:0', grad_fn=<MeanBackward0>)\n",
      "18 tensor(0.0173, device='cuda:0', grad_fn=<MeanBackward0>)\n",
      "19 tensor(0.0167, device='cuda:0', grad_fn=<MeanBackward0>)\n",
      "20 tensor(0.0175, device='cuda:0', grad_fn=<MeanBackward0>)\n",
      "21 tensor(0.0172, device='cuda:0', grad_fn=<MeanBackward0>)\n",
      "22 tensor(0.0179, device='cuda:0', grad_fn=<MeanBackward0>)\n",
      "23 tensor(0.0163, device='cuda:0', grad_fn=<MeanBackward0>)\n",
      "24 tensor(0.0172, device='cuda:0', grad_fn=<MeanBackward0>)\n",
      "25 tensor(0.0165, device='cuda:0', grad_fn=<MeanBackward0>)\n",
      "26 tensor(0.0173, device='cuda:0', grad_fn=<MeanBackward0>)\n",
      "27 tensor(0.0170, device='cuda:0', grad_fn=<MeanBackward0>)\n",
      "28 tensor(0.0179, device='cuda:0', grad_fn=<MeanBackward0>)\n",
      "29 tensor(0.0172, device='cuda:0', grad_fn=<MeanBackward0>)\n",
      "30 tensor(0.0170, device='cuda:0', grad_fn=<MeanBackward0>)\n",
      "31 tensor(0.0173, device='cuda:0', grad_fn=<MeanBackward0>)\n",
      "32 tensor(0.0175, device='cuda:0', grad_fn=<MeanBackward0>)\n",
      "33 tensor(0.0178, device='cuda:0', grad_fn=<MeanBackward0>)\n",
      "34 tensor(0.0167, device='cuda:0', grad_fn=<MeanBackward0>)\n",
      "35 tensor(0.0171, device='cuda:0', grad_fn=<MeanBackward0>)\n",
      "36 tensor(0.0163, device='cuda:0', grad_fn=<MeanBackward0>)\n",
      "37 tensor(0.0179, device='cuda:0', grad_fn=<MeanBackward0>)\n",
      "38 tensor(0.0167, device='cuda:0', grad_fn=<MeanBackward0>)\n",
      "39 tensor(0.0163, device='cuda:0', grad_fn=<MeanBackward0>)\n",
      "40 tensor(0.0170, device='cuda:0', grad_fn=<MeanBackward0>)\n",
      "41 tensor(0.0167, device='cuda:0', grad_fn=<MeanBackward0>)\n",
      "42 tensor(0.0166, device='cuda:0', grad_fn=<MeanBackward0>)\n",
      "43 tensor(0.0166, device='cuda:0', grad_fn=<MeanBackward0>)\n",
      "44 tensor(0.0167, device='cuda:0', grad_fn=<MeanBackward0>)\n",
      "45 tensor(0.0162, device='cuda:0', grad_fn=<MeanBackward0>)\n",
      "46 tensor(0.0179, device='cuda:0', grad_fn=<MeanBackward0>)\n",
      "47 tensor(0.0156, device='cuda:0', grad_fn=<MeanBackward0>)\n",
      "48 tensor(0.0166, device='cuda:0', grad_fn=<MeanBackward0>)\n",
      "49 tensor(0.0170, device='cuda:0', grad_fn=<MeanBackward0>)\n",
      "50 tensor(0.0171, device='cuda:0', grad_fn=<MeanBackward0>)\n",
      "51 tensor(0.0161, device='cuda:0', grad_fn=<MeanBackward0>)\n",
      "52 tensor(0.0166, device='cuda:0', grad_fn=<MeanBackward0>)\n",
      "53 tensor(0.0166, device='cuda:0', grad_fn=<MeanBackward0>)\n",
      "54 tensor(0.0165, device='cuda:0', grad_fn=<MeanBackward0>)\n",
      "55 tensor(0.0162, device='cuda:0', grad_fn=<MeanBackward0>)\n",
      "56 tensor(0.0170, device='cuda:0', grad_fn=<MeanBackward0>)\n",
      "57 tensor(0.0157, device='cuda:0', grad_fn=<MeanBackward0>)\n",
      "58 tensor(0.0161, device='cuda:0', grad_fn=<MeanBackward0>)\n",
      "59 tensor(0.0165, device='cuda:0', grad_fn=<MeanBackward0>)\n",
      "60 tensor(0.0158, device='cuda:0', grad_fn=<MeanBackward0>)\n",
      "61 tensor(0.0166, device='cuda:0', grad_fn=<MeanBackward0>)\n",
      "62 tensor(0.0164, device='cuda:0', grad_fn=<MeanBackward0>)\n",
      "63 tensor(0.0162, device='cuda:0', grad_fn=<MeanBackward0>)\n",
      "64 tensor(0.0156, device='cuda:0', grad_fn=<MeanBackward0>)\n",
      "65 tensor(0.0165, device='cuda:0', grad_fn=<MeanBackward0>)\n",
      "66 tensor(0.0170, device='cuda:0', grad_fn=<MeanBackward0>)\n",
      "67 tensor(0.0152, device='cuda:0', grad_fn=<MeanBackward0>)\n",
      "68 tensor(0.0163, device='cuda:0', grad_fn=<MeanBackward0>)\n",
      "69 tensor(0.0159, device='cuda:0', grad_fn=<MeanBackward0>)\n",
      "70 tensor(0.0155, device='cuda:0', grad_fn=<MeanBackward0>)\n",
      "71 tensor(0.0161, device='cuda:0', grad_fn=<MeanBackward0>)\n",
      "72 tensor(0.0161, device='cuda:0', grad_fn=<MeanBackward0>)\n",
      "73 tensor(0.0162, device='cuda:0', grad_fn=<MeanBackward0>)\n",
      "74 tensor(0.0152, device='cuda:0', grad_fn=<MeanBackward0>)\n",
      "75 tensor(0.0157, device='cuda:0', grad_fn=<MeanBackward0>)\n",
      "76 tensor(0.0170, device='cuda:0', grad_fn=<MeanBackward0>)\n",
      "77 tensor(0.0146, device='cuda:0', grad_fn=<MeanBackward0>)\n",
      "78 tensor(0.0154, device='cuda:0', grad_fn=<MeanBackward0>)\n",
      "79 tensor(0.0156, device='cuda:0', grad_fn=<MeanBackward0>)\n",
      "80 tensor(0.0159, device='cuda:0', grad_fn=<MeanBackward0>)\n",
      "81 tensor(0.0155, device='cuda:0', grad_fn=<MeanBackward0>)\n",
      "82 tensor(0.0155, device='cuda:0', grad_fn=<MeanBackward0>)\n",
      "83 tensor(0.0154, device='cuda:0', grad_fn=<MeanBackward0>)\n",
      "84 tensor(0.0159, device='cuda:0', grad_fn=<MeanBackward0>)\n",
      "85 tensor(0.0157, device='cuda:0', grad_fn=<MeanBackward0>)\n",
      "86 tensor(0.0163, device='cuda:0', grad_fn=<MeanBackward0>)\n",
      "87 tensor(0.0155, device='cuda:0', grad_fn=<MeanBackward0>)\n",
      "88 tensor(0.0157, device='cuda:0', grad_fn=<MeanBackward0>)\n",
      "89 tensor(0.0162, device='cuda:0', grad_fn=<MeanBackward0>)\n",
      "90 tensor(0.0152, device='cuda:0', grad_fn=<MeanBackward0>)\n",
      "91 tensor(0.0160, device='cuda:0', grad_fn=<MeanBackward0>)\n",
      "92 tensor(0.0158, device='cuda:0', grad_fn=<MeanBackward0>)\n",
      "93 tensor(0.0161, device='cuda:0', grad_fn=<MeanBackward0>)\n",
      "94 tensor(0.0149, device='cuda:0', grad_fn=<MeanBackward0>)\n",
      "95 tensor(0.0151, device='cuda:0', grad_fn=<MeanBackward0>)\n",
      "96 tensor(0.0156, device='cuda:0', grad_fn=<MeanBackward0>)\n",
      "97 tensor(0.0151, device='cuda:0', grad_fn=<MeanBackward0>)\n",
      "98 tensor(0.0165, device='cuda:0', grad_fn=<MeanBackward0>)\n",
      "99 tensor(0.0152, device='cuda:0', grad_fn=<MeanBackward0>)\n",
      "100 tensor(0.0153, device='cuda:0', grad_fn=<MeanBackward0>)\n",
      "101 tensor(0.0157, device='cuda:0', grad_fn=<MeanBackward0>)\n",
      "102 tensor(0.0154, device='cuda:0', grad_fn=<MeanBackward0>)\n",
      "103 tensor(0.0153, device='cuda:0', grad_fn=<MeanBackward0>)\n",
      "104 tensor(0.0158, device='cuda:0', grad_fn=<MeanBackward0>)\n",
      "105 tensor(0.0143, device='cuda:0', grad_fn=<MeanBackward0>)\n",
      "106 tensor(0.0147, device='cuda:0', grad_fn=<MeanBackward0>)\n",
      "107 tensor(0.0146, device='cuda:0', grad_fn=<MeanBackward0>)\n",
      "108 tensor(0.0156, device='cuda:0', grad_fn=<MeanBackward0>)\n",
      "109 tensor(0.0154, device='cuda:0', grad_fn=<MeanBackward0>)\n",
      "110 tensor(0.0147, device='cuda:0', grad_fn=<MeanBackward0>)\n",
      "111 tensor(0.0148, device='cuda:0', grad_fn=<MeanBackward0>)\n",
      "112 tensor(0.0155, device='cuda:0', grad_fn=<MeanBackward0>)\n",
      "113 tensor(0.0146, device='cuda:0', grad_fn=<MeanBackward0>)\n",
      "114 tensor(0.0151, device='cuda:0', grad_fn=<MeanBackward0>)\n",
      "115 tensor(0.0143, device='cuda:0', grad_fn=<MeanBackward0>)\n",
      "116 tensor(0.0151, device='cuda:0', grad_fn=<MeanBackward0>)\n",
      "117 tensor(0.0150, device='cuda:0', grad_fn=<MeanBackward0>)\n",
      "118 tensor(0.0148, device='cuda:0', grad_fn=<MeanBackward0>)\n",
      "119 tensor(0.0145, device='cuda:0', grad_fn=<MeanBackward0>)\n",
      "120 tensor(0.0145, device='cuda:0', grad_fn=<MeanBackward0>)\n",
      "121 tensor(0.0143, device='cuda:0', grad_fn=<MeanBackward0>)\n",
      "122 tensor(0.0145, device='cuda:0', grad_fn=<MeanBackward0>)\n",
      "123 tensor(0.0158, device='cuda:0', grad_fn=<MeanBackward0>)\n",
      "124 tensor(0.0151, device='cuda:0', grad_fn=<MeanBackward0>)\n",
      "26.087724685668945\n"
     ]
    }
   ],
   "source": [
    "start = time.time()\n",
    "for idx, i in enumerate(data_loader):\n",
    "    X = (MolGraph(i[0]))\n",
    "    Y = (MolGraph(i[1]))\n",
    "    \n",
    "    # create your optimizer\n",
    "    optimizer = torch.optim.SGD(molopt.parameters(), lr=0.01)\n",
    "\n",
    "    # in your training loop:\n",
    "    optimizer.zero_grad()   # zero the gradient buffers\n",
    "    loss = molopt.forward_train(X, Y)\n",
    "    loss.backward()\n",
    "    optimizer.step()    # Does the update\n",
    "\n",
    "    print (idx, loss)\n",
    "end = time.time()\n",
    "print(end - start)"
   ]
  },
  {
   "cell_type": "code",
   "execution_count": 100,
   "metadata": {},
   "outputs": [
    {
     "name": "stdout",
     "output_type": "stream",
     "text": [
      "0 tensor(0.0183, grad_fn=<MeanBackward0>)\n",
      "1 tensor(0.0179, grad_fn=<MeanBackward0>)\n",
      "2 tensor(0.0165, grad_fn=<MeanBackward0>)\n",
      "3 tensor(0.0164, grad_fn=<MeanBackward0>)\n",
      "4 tensor(0.0176, grad_fn=<MeanBackward0>)\n",
      "5 tensor(0.0180, grad_fn=<MeanBackward0>)\n",
      "6 tensor(0.0176, grad_fn=<MeanBackward0>)\n",
      "7 tensor(0.0175, grad_fn=<MeanBackward0>)\n",
      "8 tensor(0.0173, grad_fn=<MeanBackward0>)\n",
      "9 tensor(0.0177, grad_fn=<MeanBackward0>)\n",
      "10 tensor(0.0180, grad_fn=<MeanBackward0>)\n",
      "11 tensor(0.0174, grad_fn=<MeanBackward0>)\n",
      "12 tensor(0.0171, grad_fn=<MeanBackward0>)\n",
      "13 tensor(0.0179, grad_fn=<MeanBackward0>)\n",
      "14 tensor(0.0175, grad_fn=<MeanBackward0>)\n",
      "15 tensor(0.0173, grad_fn=<MeanBackward0>)\n",
      "16 tensor(0.0163, grad_fn=<MeanBackward0>)\n",
      "17 tensor(0.0170, grad_fn=<MeanBackward0>)\n",
      "18 tensor(0.0167, grad_fn=<MeanBackward0>)\n",
      "19 tensor(0.0166, grad_fn=<MeanBackward0>)\n",
      "20 tensor(0.0173, grad_fn=<MeanBackward0>)\n",
      "21 tensor(0.0168, grad_fn=<MeanBackward0>)\n",
      "22 tensor(0.0175, grad_fn=<MeanBackward0>)\n",
      "23 tensor(0.0162, grad_fn=<MeanBackward0>)\n",
      "24 tensor(0.0170, grad_fn=<MeanBackward0>)\n",
      "25 tensor(0.0162, grad_fn=<MeanBackward0>)\n",
      "26 tensor(0.0171, grad_fn=<MeanBackward0>)\n",
      "27 tensor(0.0164, grad_fn=<MeanBackward0>)\n",
      "28 tensor(0.0180, grad_fn=<MeanBackward0>)\n",
      "29 tensor(0.0169, grad_fn=<MeanBackward0>)\n",
      "30 tensor(0.0169, grad_fn=<MeanBackward0>)\n",
      "31 tensor(0.0170, grad_fn=<MeanBackward0>)\n",
      "32 tensor(0.0172, grad_fn=<MeanBackward0>)\n",
      "33 tensor(0.0176, grad_fn=<MeanBackward0>)\n",
      "34 tensor(0.0168, grad_fn=<MeanBackward0>)\n",
      "35 tensor(0.0170, grad_fn=<MeanBackward0>)\n",
      "36 tensor(0.0159, grad_fn=<MeanBackward0>)\n",
      "37 tensor(0.0175, grad_fn=<MeanBackward0>)\n",
      "38 tensor(0.0168, grad_fn=<MeanBackward0>)\n",
      "39 tensor(0.0160, grad_fn=<MeanBackward0>)\n",
      "40 tensor(0.0168, grad_fn=<MeanBackward0>)\n",
      "41 tensor(0.0167, grad_fn=<MeanBackward0>)\n",
      "42 tensor(0.0164, grad_fn=<MeanBackward0>)\n",
      "43 tensor(0.0164, grad_fn=<MeanBackward0>)\n",
      "44 tensor(0.0163, grad_fn=<MeanBackward0>)\n",
      "45 tensor(0.0162, grad_fn=<MeanBackward0>)\n",
      "46 tensor(0.0178, grad_fn=<MeanBackward0>)\n",
      "47 tensor(0.0154, grad_fn=<MeanBackward0>)\n",
      "48 tensor(0.0163, grad_fn=<MeanBackward0>)\n",
      "49 tensor(0.0165, grad_fn=<MeanBackward0>)\n",
      "50 tensor(0.0169, grad_fn=<MeanBackward0>)\n",
      "51 tensor(0.0159, grad_fn=<MeanBackward0>)\n",
      "52 tensor(0.0163, grad_fn=<MeanBackward0>)\n",
      "53 tensor(0.0164, grad_fn=<MeanBackward0>)\n",
      "54 tensor(0.0162, grad_fn=<MeanBackward0>)\n",
      "55 tensor(0.0158, grad_fn=<MeanBackward0>)\n",
      "56 tensor(0.0167, grad_fn=<MeanBackward0>)\n",
      "57 tensor(0.0155, grad_fn=<MeanBackward0>)\n",
      "58 tensor(0.0159, grad_fn=<MeanBackward0>)\n",
      "59 tensor(0.0165, grad_fn=<MeanBackward0>)\n",
      "60 tensor(0.0156, grad_fn=<MeanBackward0>)\n",
      "61 tensor(0.0166, grad_fn=<MeanBackward0>)\n",
      "62 tensor(0.0163, grad_fn=<MeanBackward0>)\n",
      "63 tensor(0.0158, grad_fn=<MeanBackward0>)\n",
      "64 tensor(0.0151, grad_fn=<MeanBackward0>)\n",
      "65 tensor(0.0163, grad_fn=<MeanBackward0>)\n",
      "66 tensor(0.0167, grad_fn=<MeanBackward0>)\n",
      "67 tensor(0.0149, grad_fn=<MeanBackward0>)\n",
      "68 tensor(0.0159, grad_fn=<MeanBackward0>)\n",
      "69 tensor(0.0160, grad_fn=<MeanBackward0>)\n",
      "70 tensor(0.0153, grad_fn=<MeanBackward0>)\n",
      "71 tensor(0.0161, grad_fn=<MeanBackward0>)\n",
      "72 tensor(0.0158, grad_fn=<MeanBackward0>)\n",
      "73 tensor(0.0161, grad_fn=<MeanBackward0>)\n",
      "74 tensor(0.0151, grad_fn=<MeanBackward0>)\n",
      "75 tensor(0.0152, grad_fn=<MeanBackward0>)\n",
      "76 tensor(0.0168, grad_fn=<MeanBackward0>)\n",
      "77 tensor(0.0146, grad_fn=<MeanBackward0>)\n",
      "78 tensor(0.0155, grad_fn=<MeanBackward0>)\n",
      "79 tensor(0.0154, grad_fn=<MeanBackward0>)\n",
      "80 tensor(0.0156, grad_fn=<MeanBackward0>)\n",
      "81 tensor(0.0154, grad_fn=<MeanBackward0>)\n",
      "82 tensor(0.0151, grad_fn=<MeanBackward0>)\n",
      "83 tensor(0.0152, grad_fn=<MeanBackward0>)\n",
      "84 tensor(0.0155, grad_fn=<MeanBackward0>)\n",
      "85 tensor(0.0157, grad_fn=<MeanBackward0>)\n",
      "86 tensor(0.0162, grad_fn=<MeanBackward0>)\n",
      "87 tensor(0.0155, grad_fn=<MeanBackward0>)\n",
      "88 tensor(0.0155, grad_fn=<MeanBackward0>)\n",
      "89 tensor(0.0162, grad_fn=<MeanBackward0>)\n",
      "90 tensor(0.0149, grad_fn=<MeanBackward0>)\n",
      "91 tensor(0.0156, grad_fn=<MeanBackward0>)\n",
      "92 tensor(0.0154, grad_fn=<MeanBackward0>)\n",
      "93 tensor(0.0159, grad_fn=<MeanBackward0>)\n",
      "94 tensor(0.0148, grad_fn=<MeanBackward0>)\n",
      "95 tensor(0.0149, grad_fn=<MeanBackward0>)\n",
      "96 tensor(0.0153, grad_fn=<MeanBackward0>)\n",
      "97 tensor(0.0151, grad_fn=<MeanBackward0>)\n",
      "98 tensor(0.0165, grad_fn=<MeanBackward0>)\n",
      "99 tensor(0.0148, grad_fn=<MeanBackward0>)\n",
      "100 tensor(0.0150, grad_fn=<MeanBackward0>)\n",
      "101 tensor(0.0155, grad_fn=<MeanBackward0>)\n",
      "102 tensor(0.0150, grad_fn=<MeanBackward0>)\n",
      "103 tensor(0.0151, grad_fn=<MeanBackward0>)\n",
      "104 tensor(0.0154, grad_fn=<MeanBackward0>)\n",
      "105 tensor(0.0140, grad_fn=<MeanBackward0>)\n",
      "106 tensor(0.0147, grad_fn=<MeanBackward0>)\n",
      "107 tensor(0.0144, grad_fn=<MeanBackward0>)\n",
      "108 tensor(0.0156, grad_fn=<MeanBackward0>)\n",
      "109 tensor(0.0149, grad_fn=<MeanBackward0>)\n",
      "110 tensor(0.0147, grad_fn=<MeanBackward0>)\n",
      "111 tensor(0.0146, grad_fn=<MeanBackward0>)\n",
      "112 tensor(0.0155, grad_fn=<MeanBackward0>)\n",
      "113 tensor(0.0145, grad_fn=<MeanBackward0>)\n",
      "114 tensor(0.0149, grad_fn=<MeanBackward0>)\n",
      "115 tensor(0.0140, grad_fn=<MeanBackward0>)\n",
      "116 tensor(0.0148, grad_fn=<MeanBackward0>)\n",
      "117 tensor(0.0148, grad_fn=<MeanBackward0>)\n",
      "118 tensor(0.0147, grad_fn=<MeanBackward0>)\n",
      "119 tensor(0.0145, grad_fn=<MeanBackward0>)\n",
      "120 tensor(0.0143, grad_fn=<MeanBackward0>)\n",
      "121 tensor(0.0140, grad_fn=<MeanBackward0>)\n",
      "122 tensor(0.0144, grad_fn=<MeanBackward0>)\n",
      "123 tensor(0.0156, grad_fn=<MeanBackward0>)\n",
      "124 tensor(0.0147, grad_fn=<MeanBackward0>)\n",
      "32.06875729560852\n"
     ]
    }
   ],
   "source": [
    "start = time.time()\n",
    "for idx, i in enumerate(data_loader):\n",
    "    X = (MolGraph(i[0]))\n",
    "    Y = (MolGraph(i[1]))\n",
    "    \n",
    "    # create your optimizer\n",
    "    optimizer = torch.optim.SGD(molopt.parameters(), lr=0.01)\n",
    "\n",
    "    # in your training loop:\n",
    "    optimizer.zero_grad()   # zero the gradient buffers\n",
    "    loss = molopt.forward_train(X, Y)\n",
    "    loss.backward()\n",
    "    optimizer.step()    # Does the update\n",
    "\n",
    "    print (idx, loss)\n",
    "end = time.time()\n",
    "print(end - start)"
   ]
  },
  {
   "cell_type": "code",
   "execution_count": 85,
   "metadata": {},
   "outputs": [],
   "source": [
    "import time"
   ]
  },
  {
   "cell_type": "code",
   "execution_count": 99,
   "metadata": {},
   "outputs": [
    {
     "name": "stdout",
     "output_type": "stream",
     "text": [
      "plm\n",
      "0.0001800060272216797\n"
     ]
    }
   ],
   "source": [
    "start = time.time()\n",
    "print(\"plm\")\n",
    "end = time.time()\n",
    "print(end - start)"
   ]
  }
 ],
 "metadata": {
  "kernelspec": {
   "display_name": "Python 3",
   "language": "python",
   "name": "python3"
  },
  "language_info": {
   "codemirror_mode": {
    "name": "ipython",
    "version": 3
   },
   "file_extension": ".py",
   "mimetype": "text/x-python",
   "name": "python",
   "nbconvert_exporter": "python",
   "pygments_lexer": "ipython3",
   "version": "3.6.8"
  }
 },
 "nbformat": 4,
 "nbformat_minor": 4
}
