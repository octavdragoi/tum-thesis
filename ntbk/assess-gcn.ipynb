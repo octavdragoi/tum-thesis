{
 "cells": [
  {
   "cell_type": "code",
   "execution_count": 1,
   "metadata": {},
   "outputs": [
    {
     "name": "stdout",
     "output_type": "stream",
     "text": [
      "/home/octav/gitrepos/tum-thesis\n"
     ]
    }
   ],
   "source": [
    "import os\n",
    "if \"ntbk\" in os.getcwd():\n",
    "    os.chdir(\"..\")\n",
    "print(os.getcwd())\n",
    "\n",
    "import sys\n",
    "sys.path.append(os.path.join(os.getcwd(), \"otgnn\"))\n",
    "\n",
    "\n",
    "%load_ext autoreload\n",
    "%autoreload 2"
   ]
  },
  {
   "cell_type": "code",
   "execution_count": 2,
   "metadata": {},
   "outputs": [],
   "source": [
    "from otgnn.models import GCN\n",
    "from otgnn.graph import MolGraph\n",
    "from otgnn.utils import save_model, load_model\n",
    "\n",
    "from mol_opt.data_mol_opt import MolOptDataset\n",
    "from mol_opt.data_mol_opt import get_loader\n",
    "from mol_opt.arguments import get_args\n",
    "from mol_opt.train_mol_opt import main\n",
    "from mol_opt.mol_opt import MolOpt\n",
    "\n",
    "from rdkit.Chem import MolFromSmiles\n",
    "\n",
    "import torch\n",
    "import numpy as np\n",
    "import time"
   ]
  },
  {
   "cell_type": "code",
   "execution_count": 3,
   "metadata": {},
   "outputs": [],
   "source": [
    "sys.argv = [\"\", \"-cuda\"]\n",
    "args = get_args()\n",
    "args.output_dir = \"mol_opt/output/\""
   ]
  },
  {
   "cell_type": "code",
   "execution_count": 9,
   "metadata": {},
   "outputs": [
    {
     "data": {
      "text/plain": [
       "(MolOpt(\n",
       "   (GCN): GCN(\n",
       "     (W_message_i): Linear(in_features=100, out_features=50, bias=False)\n",
       "     (W_message_h): Linear(in_features=50, out_features=50, bias=False)\n",
       "     (W_message_o): Linear(in_features=143, out_features=50, bias=True)\n",
       "     (W_mol_h): Linear(in_features=50, out_features=100, bias=True)\n",
       "     (W_mol_o): Linear(in_features=100, out_features=1, bias=True)\n",
       "     (dropout_gcn): Dropout(p=0.0, inplace=False)\n",
       "     (dropout_ffn): Dropout(p=0.0, inplace=False)\n",
       "   )\n",
       "   (opt0): Linear(in_features=50, out_features=50, bias=True)\n",
       "   (opt1): Linear(in_features=50, out_features=50, bias=True)\n",
       "   (delta_loss): MSELoss()\n",
       " ),\n",
       " Namespace(agg_func='sum', batch_norm=False, cuda=True, device='cuda:0', dropout_ffn=0.0, dropout_gcn=0.0, ffn_activation='LeakyReLU', init_model='gcn2', linear_out=False, n_epochs=200, n_ffn_hidden=100, n_hidden=50, n_labels=1, n_layers=5, output_dir='mol_opt/output', pc_hidden=50))"
      ]
     },
     "execution_count": 9,
     "metadata": {},
     "output_type": "execute_result"
    }
   ],
   "source": [
    "molopt, config = load_model(args.output_dir + \"model_gcn2_34\", MolOpt, args.device)\n",
    "molopt, config"
   ]
  },
  {
   "cell_type": "code",
   "execution_count": 10,
   "metadata": {},
   "outputs": [],
   "source": [
    "train_data_loader = get_loader(\"iclr19-graph2graph/data/qed\", \"train\", 48, True)\n",
    "val_data_loader = get_loader(\"iclr19-graph2graph/data/qed\", \"val\", 48, True)"
   ]
  },
  {
   "cell_type": "code",
   "execution_count": 11,
   "metadata": {},
   "outputs": [],
   "source": [
    "for i in val_data_loader:\n",
    "    X = (MolGraph(i[0]))\n",
    "    Y = (MolGraph(i[1]))\n",
    "    break"
   ]
  },
  {
   "cell_type": "code",
   "execution_count": 13,
   "metadata": {},
   "outputs": [],
   "source": [
    "x_embedding, x_delta_hat = molopt.forward(X)\n",
    "y_embedding = molopt.encode(Y)"
   ]
  },
  {
   "cell_type": "code",
   "execution_count": 14,
   "metadata": {},
   "outputs": [
    {
     "data": {
      "text/plain": [
       "tensor([[-0.3318,  0.0026,  0.0829,  ...,  0.0947,  1.3627, -0.0060],\n",
       "        [-0.3317,  0.0026,  0.0835,  ...,  0.0940,  1.3624, -0.0054],\n",
       "        [-0.3315,  0.0024,  0.0871,  ...,  0.0892,  1.3614, -0.0014],\n",
       "        ...,\n",
       "        [-0.3317,  0.0026,  0.0838,  ...,  0.0936,  1.3623, -0.0049],\n",
       "        [-0.3316,  0.0026,  0.0839,  ...,  0.0930,  1.3622, -0.0042],\n",
       "        [-0.3316,  0.0026,  0.0833,  ...,  0.0943,  1.3624, -0.0057]],\n",
       "       device='cuda:0', grad_fn=<AddBackward0>)"
      ]
     },
     "execution_count": 14,
     "metadata": {},
     "output_type": "execute_result"
    }
   ],
   "source": [
    "x_embedding + x_delta_hat"
   ]
  },
  {
   "cell_type": "code",
   "execution_count": 16,
   "metadata": {},
   "outputs": [
    {
     "data": {
      "text/plain": [
       "tensor([[-0.3318,  0.0026,  0.0828,  ...,  0.0946,  1.3626, -0.0059],\n",
       "        [-0.3316,  0.0025,  0.0844,  ...,  0.0922,  1.3619, -0.0033],\n",
       "        [-0.3316,  0.0025,  0.0844,  ...,  0.0922,  1.3619, -0.0033],\n",
       "        ...,\n",
       "        [-0.3318,  0.0026,  0.0828,  ...,  0.0946,  1.3626, -0.0059],\n",
       "        [-0.3316,  0.0026,  0.0832,  ...,  0.0942,  1.3624, -0.0056],\n",
       "        [-0.3316,  0.0025,  0.0839,  ...,  0.0930,  1.3621, -0.0041]],\n",
       "       device='cuda:0', grad_fn=<AddmmBackward>)"
      ]
     },
     "execution_count": 16,
     "metadata": {},
     "output_type": "execute_result"
    }
   ],
   "source": [
    "y_embedding"
   ]
  },
  {
   "cell_type": "code",
   "execution_count": 18,
   "metadata": {},
   "outputs": [
    {
     "data": {
      "text/plain": [
       "tensor([[-3.3180e-01,  2.5732e-03,  8.2826e-02,  ...,  9.4576e-02,\n",
       "          1.3626e+00, -5.8808e-03],\n",
       "        [-3.3165e-01,  2.5626e-03,  8.3458e-02,  ...,  9.3974e-02,\n",
       "          1.3623e+00, -5.3152e-03],\n",
       "        [-3.3142e-01,  2.4175e-03,  8.6975e-02,  ...,  8.9209e-02,\n",
       "          1.3613e+00, -1.2148e-03],\n",
       "        ...,\n",
       "        [-3.3170e-01,  2.5562e-03,  8.3756e-02,  ...,  9.3563e-02,\n",
       "          1.3622e+00, -4.8248e-03],\n",
       "        [-3.3160e-01,  2.5385e-03,  8.3855e-02,  ...,  9.2990e-02,\n",
       "          1.3621e+00, -4.0703e-03],\n",
       "        [-3.3158e-01,  2.5564e-03,  8.3198e-02,  ...,  9.4223e-02,\n",
       "          1.3624e+00, -5.5504e-03]], device='cuda:0', grad_fn=<AddmmBackward>)"
      ]
     },
     "execution_count": 18,
     "metadata": {},
     "output_type": "execute_result"
    }
   ],
   "source": [
    "x_embedding"
   ]
  },
  {
   "cell_type": "code",
   "execution_count": 19,
   "metadata": {},
   "outputs": [
    {
     "data": {
      "text/plain": [
       "tensor([[-4.3213e-07,  4.1455e-05,  4.5815e-05,  ...,  8.3422e-05,\n",
       "          4.3456e-05, -9.3070e-05],\n",
       "        [-1.7378e-05,  3.6091e-05,  5.4706e-05,  ...,  7.2762e-05,\n",
       "          6.0699e-05, -1.0880e-04],\n",
       "        [-4.0200e-05,  2.8171e-05,  8.8163e-05,  ...,  3.4830e-05,\n",
       "          1.1909e-04, -1.8349e-04],\n",
       "        ...,\n",
       "        [-1.6153e-05,  3.6418e-05,  5.4499e-05,  ...,  6.8175e-05,\n",
       "          6.3243e-05, -1.1674e-04],\n",
       "        [-2.9553e-05,  2.7195e-05,  6.4267e-05,  ...,  5.7045e-05,\n",
       "          7.7062e-05, -1.2952e-04],\n",
       "        [-1.1958e-05,  3.7484e-05,  5.3717e-05,  ...,  7.5778e-05,\n",
       "          5.9289e-05, -1.0814e-04]], device='cuda:0', grad_fn=<AddmmBackward>)"
      ]
     },
     "execution_count": 19,
     "metadata": {},
     "output_type": "execute_result"
    }
   ],
   "source": [
    "x_delta_hat"
   ]
  }
 ],
 "metadata": {
  "kernelspec": {
   "display_name": "Python 3",
   "language": "python",
   "name": "python3"
  },
  "language_info": {
   "codemirror_mode": {
    "name": "ipython",
    "version": 3
   },
   "file_extension": ".py",
   "mimetype": "text/x-python",
   "name": "python",
   "nbconvert_exporter": "python",
   "pygments_lexer": "ipython3",
   "version": "3.6.8"
  }
 },
 "nbformat": 4,
 "nbformat_minor": 4
}
