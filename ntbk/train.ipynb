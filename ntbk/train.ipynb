{
 "cells": [
  {
   "cell_type": "code",
   "execution_count": 1,
   "metadata": {},
   "outputs": [
    {
     "name": "stdout",
     "output_type": "stream",
     "text": [
      "/home/octav/gitrepos/tum-thesis\n"
     ]
    }
   ],
   "source": [
    "import os\n",
    "if \"ntbk\" in os.getcwd():\n",
    "    os.chdir(\"..\")\n",
    "print(os.getcwd())\n",
    "\n",
    "import sys\n",
    "sys.path.append(os.path.join(os.getcwd(), \"otgnn\"))\n",
    "\n",
    "\n",
    "%load_ext autoreload\n",
    "%autoreload 2\n",
    "\n",
    "from otgnn.models import GCN\n",
    "from otgnn.graph import MolGraph\n",
    "from otgnn.utils import save_model, load_model\n",
    "\n",
    "from mol_opt.data_mol_opt import MolOptDataset\n",
    "from mol_opt.data_mol_opt import get_loader\n",
    "from mol_opt.arguments import get_args\n",
    "from mol_opt.train_mol_opt import main, get_latest_model\n",
    "from mol_opt.ot_utils import compute_barycenter\n",
    "\n",
    "from rdkit.Chem import MolFromSmiles\n",
    "\n",
    "import torch\n",
    "import numpy as np\n",
    "import time"
   ]
  },
  {
   "cell_type": "code",
   "execution_count": 2,
   "metadata": {},
   "outputs": [
    {
     "data": {
      "text/plain": [
       "Namespace(N_transformer=6, agg_func='sum', annealing_rate=0.05, batch_norm=False, connectivity=True, connectivity_hard=False, connectivity_lambda=0.015, cuda=True, device='cuda:0', dim_tangent_space=40, dropout_ffn=0.0, dropout_gcn=0.0, dropout_transformer=0.1, euler_characteristic_penalty=True, euler_lambda=0.2, ffn_activation='LeakyReLU', init_decoder_model='transformer3_decode', init_model='transformer3', linear_out=False, n_epochs=40, n_ffn_hidden=100, n_ffn_transformer=100, n_heads_transformer=10, n_hidden=50, n_labels=1, n_layers=5, ot_solver='emd', output_dir='mol_opt/output_transformer3', pc_hidden=50, pred_hidden=150, sinkhorn_entropy=0.1, sinkhorn_max_it=10000, task='qed', tb_logs_dir='mol_opt/logs_transformer3', valency=True, valency_hard=False, valency_lambda=0.05)"
      ]
     },
     "execution_count": 2,
     "metadata": {},
     "output_type": "execute_result"
    }
   ],
   "source": [
    "sys.argv = [\"\", \"-cuda\", \"-pred_hidden\", \"150\"]\n",
    "args = get_args()\n",
    "args.n_epochs = 40 \n",
    "args.init_model = \"transformer3\"\n",
    "args.output_dir = \"mol_opt/output_{}\".format(args.init_model)\n",
    "args.tb_logs_dir = \"mol_opt/logs_{}\".format(args.init_model)\n",
    "args.init_decoder_model = \"{}_decode\".format(args.init_model)\n",
    "args"
   ]
  },
  {
   "cell_type": "code",
   "execution_count": 3,
   "metadata": {},
   "outputs": [],
   "source": [
    "train_data_loader = get_loader(\"iclr19-graph2graph/data/qed\", \"train\", 36, False)\n",
    "val_data_loader = get_loader(\"iclr19-graph2graph/data/qed\", \"val\", 36, False)"
   ]
  },
  {
   "cell_type": "code",
   "execution_count": null,
   "metadata": {
    "scrolled": true
   },
   "outputs": [
    {
     "name": "stdout",
     "output_type": "stream",
     "text": [
      "Epoch: 19\n"
     ]
    },
    {
     "name": "stderr",
     "output_type": "stream",
     "text": [
      "/home/octav/gitrepos/tum-thesis/otgnn/models/gromov_modules.py:394: UserWarning: Implicit dimension choice for log_softmax has been deprecated. Change the call to include dim=X as an argument.\n",
      "  nce_reg = torch.nn.LogSoftmax()(torch.stack(all_nce_dists))[0]\n"
     ]
    },
    {
     "name": "stdout",
     "output_type": "stream",
     "text": [
      "idx_batch=0\n",
      " train_fgw:2.2086203\n",
      " train_conn_penalty:-2.0785455\n",
      " train_val_penalty:45.2929620\n",
      " train_euler_penalty:76.9731784\n",
      " train_total:122.3962131\n",
      " train_similarity:0.0000000\n",
      " train_QED:0.0000000\n",
      " train_penlog:-100.0000000\n"
     ]
    },
    {
     "name": "stderr",
     "output_type": "stream",
     "text": [
      "/home/octav/gitrepos/tum-thesis/otgnn/models/gromov_modules.py:394: UserWarning: Implicit dimension choice for log_softmax has been deprecated. Change the call to include dim=X as an argument.\n",
      "  nce_reg = torch.nn.LogSoftmax()(torch.stack(all_nce_dists))[0]\n"
     ]
    },
    {
     "name": "stdout",
     "output_type": "stream",
     "text": [
      "idx_batch=400\n",
      " train_fgw:0.7306878\n",
      " train_conn_penalty:0.0021057\n",
      " train_val_penalty:0.8240173\n",
      " train_euler_penalty:2.3372712\n",
      " train_total:3.8940820\n",
      " train_similarity:0.0008817\n",
      " train_QED:0.4070964\n",
      " train_penlog:1.2861769\n",
      "idx_batch=800\n",
      " train_fgw:0.7050165\n",
      " train_conn_penalty:-0.2143447\n",
      " train_val_penalty:0.5951701\n",
      " train_euler_penalty:1.5282626\n",
      " train_total:2.6141044\n",
      " train_similarity:0.0008749\n",
      " train_QED:0.4114717\n",
      " train_penlog:1.5510829\n",
      "idx_batch=1200\n",
      " train_fgw:0.6958694\n",
      " train_conn_penalty:-0.2888882\n",
      " train_val_penalty:0.5132624\n",
      " train_euler_penalty:1.2262411\n",
      " train_total:2.1464847\n",
      " train_similarity:0.0008606\n",
      " train_QED:0.4116974\n",
      " train_penlog:1.5953300\n",
      " train_molecular_disconnected_validity:100.0000000\n",
      " train_molecular_validity:0.0000000\n",
      " train_symbol_accuracy:85.1006711\n",
      " train_connected_components:20.6944444\n",
      " train_invalid_valency_nodes:0.0000000\n",
      "idx_batch=1600\n",
      " train_fgw:0.6918189\n",
      " train_conn_penalty:-0.3243049\n",
      " train_val_penalty:0.4785157\n",
      " train_euler_penalty:1.0936282\n",
      " train_total:1.9396579\n",
      " train_similarity:0.0008688\n",
      " train_QED:0.4114397\n",
      " train_penlog:1.4170278\n",
      " train_molecular_disconnected_validity:100.0000000\n",
      " train_molecular_validity:0.0000000\n",
      " train_symbol_accuracy:85.1006711\n",
      " train_connected_components:20.6944444\n",
      " train_invalid_valency_nodes:0.0000000\n"
     ]
    }
   ],
   "source": [
    "molopt = main(args, train_data_loader = train_data_loader, val_data_loader = val_data_loader)"
   ]
  }
 ],
 "metadata": {
  "kernelspec": {
   "display_name": "Python 3",
   "language": "python",
   "name": "python3"
  },
  "language_info": {
   "codemirror_mode": {
    "name": "ipython",
    "version": 3
   },
   "file_extension": ".py",
   "mimetype": "text/x-python",
   "name": "python",
   "nbconvert_exporter": "python",
   "pygments_lexer": "ipython3",
   "version": "3.6.10"
  }
 },
 "nbformat": 4,
 "nbformat_minor": 4
}
