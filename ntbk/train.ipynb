{
 "cells": [
  {
   "cell_type": "code",
   "execution_count": 1,
   "metadata": {},
   "outputs": [
    {
     "name": "stdout",
     "output_type": "stream",
     "text": [
      "/home/octav/gitrepos/tum-thesis\n"
     ]
    }
   ],
   "source": [
    "import os\n",
    "if \"ntbk\" in os.getcwd():\n",
    "    os.chdir(\"..\")\n",
    "print(os.getcwd())\n",
    "\n",
    "import sys\n",
    "sys.path.append(os.path.join(os.getcwd(), \"otgnn\"))\n",
    "\n",
    "\n",
    "%load_ext autoreload\n",
    "%autoreload 2\n",
    "\n",
    "from otgnn.models import GCN\n",
    "from otgnn.graph import MolGraph\n",
    "from otgnn.utils import save_model, load_model\n",
    "\n",
    "from mol_opt.data_mol_opt import MolOptDataset\n",
    "from mol_opt.data_mol_opt import get_loader\n",
    "from mol_opt.arguments import get_args\n",
    "from mol_opt.train_mol_opt import main, get_latest_model\n",
    "from mol_opt.ot_utils import compute_barycenter\n",
    "\n",
    "from rdkit.Chem import MolFromSmiles\n",
    "\n",
    "import torch\n",
    "import numpy as np\n",
    "import time"
   ]
  },
  {
   "cell_type": "code",
   "execution_count": 2,
   "metadata": {},
   "outputs": [
    {
     "data": {
      "text/plain": [
       "Namespace(N_transformer=6, agg_func='sum', annealing_rate=5e-05, batch_norm=False, connectivity=True, connectivity_hard=False, connectivity_lambda=0.015, cuda=True, device='cuda:0', dim_tangent_space=40, dropout_ffn=0.0, dropout_gcn=0.0, dropout_transformer=0.1, euler_characteristic_penalty=True, euler_lambda=0.015, ffn_activation='LeakyReLU', init_decoder_model='transformer2_decode', init_model='transformer2', linear_out=False, n_epochs=40, n_ffn_hidden=100, n_ffn_transformer=100, n_heads_transformer=10, n_hidden=50, n_labels=1, n_layers=5, ot_solver='emd', output_dir='mol_opt/output', pc_hidden=50, pred_hidden=150, sinkhorn_entropy=0.1, sinkhorn_max_it=10000, task='qed', valency=True, valency_hard=False, valency_lambda=0.01)"
      ]
     },
     "execution_count": 2,
     "metadata": {},
     "output_type": "execute_result"
    }
   ],
   "source": [
    "sys.argv = [\"\", \"-cuda\", \"-pred_hidden\", \"150\"]\n",
    "args = get_args()\n",
    "args.n_epochs = 40 \n",
    "args.output_dir = \"mol_opt/output\"\n",
    "args.init_model = \"transformer2\"\n",
    "args.init_decoder_model = \"{}_decode\".format(args.init_model)\n",
    "args"
   ]
  },
  {
   "cell_type": "code",
   "execution_count": 3,
   "metadata": {},
   "outputs": [],
   "source": [
    "train_data_loader = get_loader(\"iclr19-graph2graph/data/qed\", \"train\", 36, False)\n",
    "val_data_loader = get_loader(\"iclr19-graph2graph/data/qed\", \"val\", 36, False)"
   ]
  },
  {
   "cell_type": "code",
   "execution_count": null,
   "metadata": {
    "scrolled": true
   },
   "outputs": [
    {
     "name": "stdout",
     "output_type": "stream",
     "text": [
      "Epoch: 58\n"
     ]
    },
    {
     "name": "stderr",
     "output_type": "stream",
     "text": [
      "/home/octav/gitrepos/tum-thesis/otgnn/models/gromov_modules.py:394: UserWarning: Implicit dimension choice for log_softmax has been deprecated. Change the call to include dim=X as an argument.\n",
      "  nce_reg = torch.nn.LogSoftmax()(torch.stack(all_nce_dists))[0]\n"
     ]
    },
    {
     "name": "stdout",
     "output_type": "stream",
     "text": [
      "idx_batch=0\n",
      " train_fgw:45.6941393\n",
      " train_conn_penalty:-0.5932973\n",
      " train_val_penalty:1.2583278\n",
      " train_euler_penalty:1.2150503\n",
      " train_total:47.5742221\n",
      " train_similarity:0.0000000\n",
      " train_QED:0.0000000\n",
      " train_penlog:-100.0000000\n"
     ]
    },
    {
     "name": "stderr",
     "output_type": "stream",
     "text": [
      "/home/octav/gitrepos/tum-thesis/otgnn/models/gromov_modules.py:394: UserWarning: Implicit dimension choice for log_softmax has been deprecated. Change the call to include dim=X as an argument.\n",
      "  nce_reg = torch.nn.LogSoftmax()(torch.stack(all_nce_dists))[0]\n"
     ]
    },
    {
     "name": "stdout",
     "output_type": "stream",
     "text": [
      "idx_batch=400\n",
      " train_fgw:1.8362087\n",
      " train_conn_penalty:-0.1754517\n",
      " train_val_penalty:0.2281632\n",
      " train_euler_penalty:0.1253222\n",
      " train_total:2.0142425\n",
      " train_similarity:0.0143327\n",
      " train_QED:0.1661868\n",
      " train_penlog:-62.5855349\n",
      "idx_batch=800\n",
      " train_fgw:1.2314859\n",
      " train_conn_penalty:-0.1978533\n",
      " train_val_penalty:0.1596643\n",
      " train_euler_penalty:0.0892334\n",
      " train_total:1.2825303\n",
      " train_similarity:0.0183318\n",
      " train_QED:0.2126219\n",
      " train_penlog:-51.6772669\n",
      "idx_batch=1200\n",
      " train_fgw:1.0127139\n",
      " train_conn_penalty:-0.2087019\n",
      " train_val_penalty:0.1337009\n",
      " train_euler_penalty:0.0771862\n",
      " train_total:1.0148991\n",
      " train_similarity:0.0203655\n",
      " train_QED:0.2445776\n",
      " train_penlog:-43.7105951\n",
      "idx_batch=1600\n",
      " train_fgw:0.8926743\n",
      " train_conn_penalty:-0.2174754\n",
      " train_val_penalty:0.1168209\n",
      " train_euler_penalty:0.0683566\n",
      " train_total:0.8603764\n",
      " train_similarity:0.0220401\n",
      " train_QED:0.2727246\n",
      " train_penlog:-36.8727740\n",
      "idx_batch=2000\n",
      " train_fgw:0.8180008\n",
      " train_conn_penalty:-0.2234986\n",
      " train_val_penalty:0.1056827\n",
      " train_euler_penalty:0.0627020\n",
      " train_total:0.7628870\n",
      " train_similarity:0.0227107\n",
      " train_QED:0.2928085\n",
      " train_penlog:-32.1548573\n",
      "Epoch 58, train\n",
      " train_fgw:0.7892427\n",
      " train_conn_penalty:-0.2258772\n",
      " train_val_penalty:0.1014084\n",
      " train_euler_penalty:0.0605811\n",
      " train_total:0.7253550\n",
      " train_similarity:0.0228744\n",
      " train_QED:0.3017278\n",
      " train_penlog:-29.9935079\n",
      "idx_batch=0\n",
      " val_fgw:0.5096593\n",
      " val_conn_penalty:-0.2464506\n",
      " val_val_penalty:0.0655204\n",
      " val_euler_penalty:0.0242642\n",
      " val_total:0.3529933\n",
      " val_similarity:0.0256484\n",
      " val_QED:0.4256586\n",
      " val_penlog:1.0282536\n",
      " val_molecular_disconnected_validity:100.0000000\n",
      " val_molecular_validity:0.0000000\n",
      " val_symbol_accuracy:90.6084656\n",
      " val_connected_components:19.5277778\n",
      " val_invalid_valency_nodes:0.0000000\n"
     ]
    }
   ],
   "source": [
    "molopt = main(args, train_data_loader = train_data_loader, val_data_loader = val_data_loader)"
   ]
  }
 ],
 "metadata": {
  "kernelspec": {
   "display_name": "Python 3",
   "language": "python",
   "name": "python3"
  },
  "language_info": {
   "codemirror_mode": {
    "name": "ipython",
    "version": 3
   },
   "file_extension": ".py",
   "mimetype": "text/x-python",
   "name": "python",
   "nbconvert_exporter": "python",
   "pygments_lexer": "ipython3",
   "version": "3.6.8"
  }
 },
 "nbformat": 4,
 "nbformat_minor": 4
}
