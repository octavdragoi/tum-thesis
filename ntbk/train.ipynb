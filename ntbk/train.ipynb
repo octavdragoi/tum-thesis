{
 "cells": [
  {
   "cell_type": "code",
   "execution_count": 1,
   "metadata": {},
   "outputs": [
    {
     "name": "stdout",
     "output_type": "stream",
     "text": [
      "/home/octav/gitrepos/tum-thesis\n"
     ]
    }
   ],
   "source": [
    "import os\n",
    "if \"ntbk\" in os.getcwd():\n",
    "    os.chdir(\"..\")\n",
    "print(os.getcwd())\n",
    "\n",
    "import sys\n",
    "sys.path.append(os.path.join(os.getcwd(), \"otgnn\"))\n",
    "\n",
    "\n",
    "%load_ext autoreload\n",
    "%autoreload 2\n",
    "\n",
    "from otgnn.models import GCN\n",
    "from otgnn.graph import MolGraph\n",
    "from otgnn.utils import save_model, load_model\n",
    "\n",
    "from mol_opt.data_mol_opt import MolOptDataset\n",
    "from mol_opt.data_mol_opt import get_loader\n",
    "from mol_opt.arguments import get_args\n",
    "from mol_opt.train_mol_opt import main, get_latest_model\n",
    "from mol_opt.ot_utils import compute_barycenter\n",
    "\n",
    "from rdkit.Chem import MolFromSmiles\n",
    "\n",
    "import torch\n",
    "import numpy as np\n",
    "import time"
   ]
  },
  {
   "cell_type": "code",
   "execution_count": 8,
   "metadata": {},
   "outputs": [
    {
     "data": {
      "text/plain": [
       "Namespace(N_transformer=6, agg_func='sum', batch_norm=False, cuda=True, device='cuda:0', dim_tangent_space=40, dropout_ffn=0.0, dropout_gcn=0.0, dropout_transformer=0.1, ffn_activation='LeakyReLU', init_decoder_model='transformer1_decode', init_model='transformer1', linear_out=False, n_epochs=40, n_ffn_hidden=100, n_ffn_transformer=100, n_heads_transformer=10, n_hidden=50, n_labels=1, n_layers=5, ot_solver='emd', output_dir='mol_opt/output', pc_hidden=50, penalty_lambda=0.01, pred_hidden=150, sinkhorn_entropy=0.1, sinkhorn_max_it=10000)"
      ]
     },
     "execution_count": 8,
     "metadata": {},
     "output_type": "execute_result"
    }
   ],
   "source": [
    "sys.argv = [\"\", \"-cuda\", \"-pred_hidden\", \"150\"]\n",
    "args = get_args()\n",
    "args.n_epochs = 40 \n",
    "args.output_dir = \"mol_opt/output\"\n",
    "args.init_model = \"transformer1\"\n",
    "args.init_decoder_model = \"{}_decode\".format(args.init_model)\n",
    "args"
   ]
  },
  {
   "cell_type": "code",
   "execution_count": 12,
   "metadata": {},
   "outputs": [],
   "source": [
    "train_data_loader = get_loader(\"iclr19-graph2graph/data/qed\", \"train\", 96, False)\n",
    "val_data_loader = get_loader(\"iclr19-graph2graph/data/qed\", \"val\", 96, False)"
   ]
  },
  {
   "cell_type": "code",
   "execution_count": null,
   "metadata": {
    "scrolled": true
   },
   "outputs": [
    {
     "name": "stdout",
     "output_type": "stream",
     "text": [
      "Epoch: 33\n",
      "idx batch 0\n",
      " train_fgw: 0.4826814 train_penalty: -58.9980011 train_total: -0.1072986\n",
      "idx batch 50\n",
      " train_fgw: 0.4152612 train_penalty: -60.2625964 train_total: -0.1873648\n",
      "idx batch 100\n",
      " train_fgw: 0.4058673 train_penalty: -60.2856704 train_total: -0.1969894\n",
      "idx batch 150\n",
      " train_fgw: 0.4009134 train_penalty: -60.3341376 train_total: -0.2024280\n",
      "idx batch 200\n",
      " train_fgw: 0.3975452 train_penalty: -60.3380444 train_total: -0.2058353\n",
      "idx batch 250\n",
      " train_fgw: 0.3954522 train_penalty: -60.3684921 train_total: -0.2082327\n",
      "idx batch 300\n",
      " train_fgw: 0.3931944 train_penalty: -60.3790500 train_total: -0.2105961\n",
      "idx batch 350\n",
      " train_fgw: 0.3913783 train_penalty: -60.3788718 train_total: -0.2124104\n",
      "idx batch 400\n",
      " train_fgw: 0.3898658 train_penalty: -60.3616559 train_total: -0.2137508\n",
      "idx batch 450\n",
      " train_fgw: 0.3884774 train_penalty: -60.3346457 train_total: -0.2148691\n",
      "idx batch 500\n",
      " train_fgw: 0.3872625 train_penalty: -60.3434781 train_total: -0.2161722\n"
     ]
    }
   ],
   "source": [
    "molopt = main(args, train_data_loader = train_data_loader, val_data_loader = val_data_loader)"
   ]
  },
  {
   "cell_type": "code",
   "execution_count": null,
   "metadata": {},
   "outputs": [],
   "source": []
  }
 ],
 "metadata": {
  "kernelspec": {
   "display_name": "Python 3",
   "language": "python",
   "name": "python3"
  },
  "language_info": {
   "codemirror_mode": {
    "name": "ipython",
    "version": 3
   },
   "file_extension": ".py",
   "mimetype": "text/x-python",
   "name": "python",
   "nbconvert_exporter": "python",
   "pygments_lexer": "ipython3",
   "version": "3.6.8"
  }
 },
 "nbformat": 4,
 "nbformat_minor": 4
}
