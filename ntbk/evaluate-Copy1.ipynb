{
 "cells": [
  {
   "cell_type": "code",
   "execution_count": 1,
   "metadata": {},
   "outputs": [
    {
     "name": "stdout",
     "output_type": "stream",
     "text": [
      "/home/octav/gitrepos/tum-thesis\n"
     ]
    }
   ],
   "source": [
    "import os\n",
    "if \"ntbk\" in os.getcwd():\n",
    "    os.chdir(\"..\")\n",
    "print(os.getcwd())\n",
    "\n",
    "import sys\n",
    "sys.path.append(os.path.join(os.getcwd(), \"otgnn\"))\n",
    "sys.path.append(os.path.join(os.getcwd(), \"molgen\"))\n",
    "\n",
    "\n",
    "%load_ext autoreload\n",
    "%autoreload 2\n",
    "\n",
    "from otgnn.models import GCN\n",
    "# from molgen.dataloading.MolGraphBatchPreprocessor import MolGraph\n",
    "from otgnn.graph import MolGraph\n",
    "from otgnn.utils import save_model, load_model\n",
    "from otgnn.graph import SYMBOLS, FORMAL_CHARGES, BOND_TYPES\n",
    "\n",
    "\n",
    "from mol_opt.data_mol_opt import MolOptDataset\n",
    "from mol_opt.data_mol_opt import get_loader\n",
    "from mol_opt.arguments import get_args\n",
    "from mol_opt.train_mol_opt import main, load_checkpoint\n",
    "from mol_opt.mol_opt import MolOpt\n",
    "from mol_opt.decoder_mol_opt import MolOptDecoder\n",
    "from mol_opt.ot_utils import encode_target\n",
    "from mol_opt.ot_utils import FGW \n",
    "from mol_opt.ot_utils import compute_barycenter\n",
    "\n",
    "from molgen.dataloading.feat2smiles import feat2smiles\n",
    "from molgen.dataloading.mol_drawer import MolDrawer\n",
    "from molgen.metrics.Penalty import Penalty\n",
    "from molgen.metrics.mol_metrics import MolMetrics\n",
    "\n",
    "from rdkit.Chem import MolFromSmiles\n",
    "from tensorboardX import SummaryWriter\n",
    "\n",
    "import torch\n",
    "import torch.nn.functional as F\n",
    "import torch.nn as nn\n",
    "from torch.autograd import grad\n",
    "import numpy as np\n",
    "import time\n",
    "from rdkit import Chem\n",
    "from rdkit.Chem.Draw import IPythonConsole\n",
    "from molgen.metrics.Penalty import Penalty as PenaltyNew\n",
    "\n",
    "import matplotlib.pyplot as plt\n",
    "%matplotlib inline\n",
    "plt.style.use('dark_background')"
   ]
  },
  {
   "cell_type": "code",
   "execution_count": 3,
   "metadata": {},
   "outputs": [],
   "source": [
    "model_type = \"pointwise\"\n",
    "sys.argv = [\"\", \"-cuda\", \"-model_type\", model_type, \"-one_batch_train\"]\n",
    "args = get_args()\n",
    "outdir_suffix = \"dev1\"\n",
    "args.n_epochs = 100 \n",
    "args.init_model = \"{}-test11-eulval-nonormalize-gumbel-notemp1\".format(model_type)\n",
    "args.init_decoder_model = \"{}_decode\".format(args.init_model)\n",
    "args.output_dir = \"mol_opt/output_{}/{}/\".format(outdir_suffix, args.init_model)\n",
    "args.tb_logs_dir = \"mol_opt/logs_{}/{}/\".format(outdir_suffix, args.init_model)\n",
    "args.batch_size = 50 "
   ]
  },
  {
   "cell_type": "code",
   "execution_count": 26,
   "metadata": {},
   "outputs": [
    {
     "name": "stdout",
     "output_type": "stream",
     "text": [
      "mol_opt/output_dev1/pointwise-test11-eulval-nonormalize-gumbel-notemp1/model_pointwise-test11-eulval-nonormalize-gumbel-notemp1_590\n",
      "MolOpt(\n",
      "  (GCN): GCN(\n",
      "    (W_message_i): Linear(in_features=100, out_features=250, bias=False)\n",
      "    (W_message_h): Linear(in_features=250, out_features=250, bias=False)\n",
      "    (W_message_o): Linear(in_features=343, out_features=100, bias=True)\n",
      "    (W_mol_h): Linear(in_features=100, out_features=100, bias=True)\n",
      "    (W_mol_o): Linear(in_features=100, out_features=1, bias=True)\n",
      "    (dropout_gcn): Dropout(p=0.0, inplace=False)\n",
      "    (dropout_ffn): Dropout(p=0.0, inplace=False)\n",
      "  )\n",
      "  (opt0): Linear(in_features=100, out_features=250, bias=True)\n",
      "  (opt1): Linear(in_features=250, out_features=100, bias=True)\n",
      ")\n",
      "MolOptDecoder(\n",
      "  (fc1_SYMBOLS): Linear(in_features=100, out_features=150, bias=True)\n",
      "  (fc2_SYMBOLS): Linear(in_features=150, out_features=64, bias=True)\n",
      "  (fc1_CHARGES): Linear(in_features=100, out_features=150, bias=True)\n",
      "  (fc2_CHARGES): Linear(in_features=150, out_features=5, bias=True)\n",
      "  (fc1_BONDS): Linear(in_features=200, out_features=300, bias=True)\n",
      "  (fc2_BONDS): Linear(in_features=300, out_features=5, bias=True)\n",
      ")\n",
      "pointwise\n",
      "Penalty params: tau=0.05195 conn_l=0.00000 val_l=1.00000 euler_l=1.00000 epoch=591\n"
     ]
    }
   ],
   "source": [
    "model = args.init_model\n",
    "model_iter = 590 \n",
    "\n",
    "model_name = \"model_{}_{}\".format(model, model_iter)\n",
    "print(args.output_dir + model_name)\n",
    "model_decode_name = \"model_{}_decode_{}\".format(model, model_iter)\n",
    "\n",
    "molopt, molopt_decoder, _, _, config, _ = load_checkpoint(args.output_dir + model_name)\n",
    "\n",
    "metrics = MolMetrics(SYMBOLS, FORMAL_CHARGES, BOND_TYPES, False)\n",
    "fgw_loss = FGW(alpha = 0.5)\n",
    "pen = PenaltyNew(config, model_iter)\n",
    "\n",
    "molopt_module_list = torch.nn.ModuleList([molopt, molopt_decoder])\n",
    "\n",
    "# molopt = MolOpt(args)\n",
    "# molopt_decoder = MolOptDecoder(args)\n",
    "print (molopt)\n",
    "print (molopt_decoder)\n",
    "print(molopt.args.model_type)\n",
    "pen.log()"
   ]
  },
  {
   "cell_type": "code",
   "execution_count": 27,
   "metadata": {},
   "outputs": [],
   "source": [
    "train_data_loader = get_loader(\"iclr19-graph2graph/data/qed\", \"train_pairs\", args.batch_size, True)\n",
    "\n",
    "for i in train_data_loader:\n",
    "    X = (MolGraph(i[0]))\n",
    "    Y = (MolGraph(i[1]))\n",
    "    break"
   ]
  },
  {
   "cell_type": "code",
   "execution_count": 28,
   "metadata": {
    "scrolled": true
   },
   "outputs": [
    {
     "name": "stdout",
     "output_type": "stream",
     "text": [
      "FGW torch.Size([23571, 5]) 0.000157271497300826\n",
      "1.2479132080078126\n",
      "logits grad 0.036484166979789734\n",
      "logits grad 1.9044333032227842e-14\n",
      "logits grad 0.03736814856529236\n",
      "logits grad 1.2685016673446852e-23\n",
      "logits grad 0.03731687739491463\n",
      "logits grad 4.720398758871464e-22\n",
      "logits grad 0.03419344127178192\n",
      "logits grad 1.7581487346159413e-17\n",
      "logits grad 0.03551442548632622\n",
      "logits grad 1.2229719190473554e-13\n",
      "bonds_prob grad torch.Size([23571, 5]) 0.02144160121679306\n",
      "bonds_prob_conn grad torch.Size([23571, 5]) 0.02144160121679306\n",
      "bonds_logits grad torch.Size([23571, 5]) 0.02874915674328804\n",
      "(tensor(0., device='cuda:0'), tensor(59.2963, device='cuda:0', grad_fn=<DivBackward0>), tensor(28.3396, device='cuda:0', grad_fn=<DivBackward0>))\n"
     ]
    },
    {
     "data": {
      "text/plain": [
       "({'batch_molecular_validity': 0.0,\n",
       "  'batch_correctness': 0.0,\n",
       "  'batch_symbol_accuracy': 57.83132530120482,\n",
       "  'batch_molecular_disconnected_validity': 0.0,\n",
       "  'batch_connected_components': 1.0,\n",
       "  'batch_invalid_valency_nodes': 76.64504170528267,\n",
       "  'batch_nodes_0degree': 110,\n",
       "  'batch_nodes_7plus_degree': 6,\n",
       "  'invalid_euler_toofew': 24.0,\n",
       "  'invalid_euler_toomany': 14.0},\n",
       " {'avg_euler_error': (1.75, 50, 14.4325),\n",
       "  'batch_node_degree': (2.1881371640407785, 1079, 2.010016826413088)})"
      ]
     },
     "execution_count": 28,
     "metadata": {},
     "output_type": "execute_result"
    }
   ],
   "source": [
    "x_embedding = molopt.forward(X)\n",
    "yhat_logits = molopt_decoder.forward(x_embedding, X, Y)\n",
    "# yhat_labels = molopt_decoder.discretize_argmax(*yhat_logits)\n",
    "yhat_labels = molopt_decoder.discretize_gumbel(*yhat_logits, tau = pen.tau)\n",
    "pred_pack = (yhat_labels, yhat_logits, Y.scope), Y \n",
    "\n",
    "target = Y.get_graph_outputs()\n",
    "symbols_labels, charges_labels, bonds_labels = yhat_labels\n",
    "symbols_logits, charges_logits, bonds_logits = yhat_logits\n",
    "\n",
    "fgw_loss_item = fgw_loss(*pred_pack, tau = 1)\n",
    "print (fgw_loss_item.item()/args.batch_size)\n",
    "pen_loss = pen(*pred_pack, model_iter)\n",
    "print (pen_loss)\n",
    "metrics.measure_batch(pred_pack[0], target)"
   ]
  },
  {
   "cell_type": "code",
   "execution_count": 29,
   "metadata": {},
   "outputs": [
    {
     "data": {
      "text/plain": [
       "tensor(23.5000, device='cuda:0')"
      ]
     },
     "execution_count": 29,
     "metadata": {},
     "output_type": "execute_result"
    }
   ],
   "source": [
    "(bonds_labels[22*22:22*22 + 18*18] != 4).sum()/2."
   ]
  },
  {
   "cell_type": "code",
   "execution_count": 30,
   "metadata": {},
   "outputs": [
    {
     "data": {
      "text/plain": [
       "[0.0, 1.1859256744384765, 0.5667916488647461]"
      ]
     },
     "execution_count": 30,
     "metadata": {},
     "output_type": "execute_result"
    }
   ],
   "source": [
    "[x.item() / args.batch_size for x in pen_loss]"
   ]
  },
  {
   "cell_type": "code",
   "execution_count": 31,
   "metadata": {},
   "outputs": [
    {
     "data": {
      "text/plain": [
       "(tensor([[ 0.0000e+00,  0.0000e+00,  0.0000e+00,  0.0000e+00,  0.0000e+00],\n",
       "         [ 7.2346e-32,  0.0000e+00,  3.4652e-24,  5.9663e-33,  0.0000e+00],\n",
       "         [-9.8547e-26, -3.6876e-40,  0.0000e+00,  2.1030e-20,  0.0000e+00],\n",
       "         ...,\n",
       "         [ 0.0000e+00,  0.0000e+00,  0.0000e+00,  0.0000e+00,  0.0000e+00],\n",
       "         [ 0.0000e+00,  0.0000e+00,  0.0000e+00,  0.0000e+00,  0.0000e+00],\n",
       "         [ 0.0000e+00,  0.0000e+00,  0.0000e+00,  0.0000e+00,  0.0000e+00]],\n",
       "        device='cuda:0'),)"
      ]
     },
     "execution_count": 31,
     "metadata": {},
     "output_type": "execute_result"
    }
   ],
   "source": [
    "G_euler = grad(pen_loss[2], bonds_logits, retain_graph = True)\n",
    "G_euler"
   ]
  },
  {
   "cell_type": "code",
   "execution_count": 32,
   "metadata": {},
   "outputs": [
    {
     "data": {
      "text/plain": [
       "(tensor([[ 1.5790e-03, -2.7603e-03,  3.2111e-03,  ..., -1.3019e-03,\n",
       "          -3.7149e-03,  1.4785e-03],\n",
       "         [-4.2863e-03,  6.7773e-03, -8.8071e-03,  ..., -6.9252e-05,\n",
       "           4.0330e-03, -7.3604e-03],\n",
       "         [ 3.3736e-04, -2.3280e-03,  5.9404e-03,  ..., -3.8399e-03,\n",
       "          -1.1127e-03,  5.4059e-03],\n",
       "         ...,\n",
       "         [-1.0837e-03, -4.7421e-03,  9.6093e-03,  ..., -5.2685e-03,\n",
       "          -2.5589e-03,  5.2629e-03],\n",
       "         [-6.2311e-06, -3.3424e-03,  4.6113e-03,  ..., -1.5356e-03,\n",
       "          -3.6813e-03,  4.7741e-04],\n",
       "         [ 3.6485e-04, -3.3874e-03,  3.1666e-03,  ...,  1.4501e-05,\n",
       "          -4.1843e-03, -9.5086e-04]], device='cuda:0'),)"
      ]
     },
     "execution_count": 32,
     "metadata": {},
     "output_type": "execute_result"
    }
   ],
   "source": [
    "G_fgw = grad(fgw_loss_item, x_embedding, retain_graph = True)\n",
    "G_fgw"
   ]
  },
  {
   "cell_type": "code",
   "execution_count": 33,
   "metadata": {},
   "outputs": [
    {
     "name": "stdout",
     "output_type": "stream",
     "text": [
      "0.005749830976128578\n",
      "0.0027951959054917097\n",
      "\n",
      "0.2254889482839082\n",
      "0.0\n",
      "\n",
      "2.808225631713867\n",
      "3.5249361991882324\n"
     ]
    }
   ],
   "source": [
    "print(G_euler[0].abs().mean().item())\n",
    "print(G_fgw[0].abs().mean().item())\n",
    "print()\n",
    "print(np.mean((torch.sum(G_euler[0], dim = 1) == 0).cpu().detach().numpy()))\n",
    "print(np.mean((torch.sum(G_fgw[0], dim = 1) == 0).cpu().detach().numpy()))\n",
    "print()\n",
    "print(symbols_logits.abs().mean().item())\n",
    "print(bonds_logits.abs().mean().item())"
   ]
  },
  {
   "cell_type": "code",
   "execution_count": 34,
   "metadata": {},
   "outputs": [],
   "source": [
    "bonds_logits_softmaxed = nn.Softmax(dim = 1)(bonds_logits)"
   ]
  },
  {
   "cell_type": "code",
   "execution_count": 35,
   "metadata": {
    "scrolled": true
   },
   "outputs": [
    {
     "data": {
      "text/plain": [
       "tensor(-1.4663e-05, device='cuda:0')"
      ]
     },
     "execution_count": 35,
     "metadata": {},
     "output_type": "execute_result"
    }
   ],
   "source": [
    "grad(bonds_logits_softmaxed[:,4].sum(), bonds_logits, retain_graph = True)[0].sum()"
   ]
  },
  {
   "cell_type": "code",
   "execution_count": 36,
   "metadata": {},
   "outputs": [
    {
     "data": {
      "text/plain": [
       "tensor([[2.2790e-03, 3.7638e-03, 1.4015e-04, 1.0172e-01, 8.9210e-01],\n",
       "        [1.4939e-02, 5.5420e-03, 4.8060e-04, 1.1370e-01, 8.6534e-01],\n",
       "        [1.0797e-02, 3.6213e-03, 2.5095e-04, 1.0275e-01, 8.8258e-01],\n",
       "        ...,\n",
       "        [2.3835e-04, 8.6947e-04, 9.8702e-06, 7.4912e-02, 9.2397e-01],\n",
       "        [1.6419e-04, 1.0937e-03, 9.5729e-06, 7.5045e-02, 9.2369e-01],\n",
       "        [4.0895e-05, 4.6994e-04, 2.0273e-06, 6.4010e-02, 9.3548e-01]],\n",
       "       device='cuda:0', grad_fn=<SoftmaxBackward>)"
      ]
     },
     "execution_count": 36,
     "metadata": {},
     "output_type": "execute_result"
    }
   ],
   "source": [
    "bonds_logits_softmaxed"
   ]
  },
  {
   "cell_type": "code",
   "execution_count": 37,
   "metadata": {},
   "outputs": [
    {
     "data": {
      "text/plain": [
       "torch.Size([1079, 100])"
      ]
     },
     "execution_count": 37,
     "metadata": {},
     "output_type": "execute_result"
    }
   ],
   "source": [
    "x_embedding.shape"
   ]
  },
  {
   "cell_type": "code",
   "execution_count": 38,
   "metadata": {
    "scrolled": true
   },
   "outputs": [
    {
     "name": "stdout",
     "output_type": "stream",
     "text": [
      "0 22.5 22\n",
      "cc-c[ru]1c-s([ni])c(p)cs2-[si](c)c-2(c[hf]2(C)cc2)-s1.cs\n",
      "1 23.5 18\n",
      "C[hg]p1[se]23s([hf])c1-24[pd]c[mo]312[ni]cs=13=[hf]1[sm]c2-3([fe])c14\n",
      "2 22.0 21\n",
      "S.[AlH3].[mo]c1-[ru]p-12-ccC2.cc-[hg](c)(so[rh](c)[Mo])p(c)s\n",
      "3 23.5 18\n",
      "C.C.C[mo]123[rh]4-c5s67(p-5)[rh]c65c-4p514(c[Hg]c4-2C7)p-3.[Mo]\n",
      "4 22.5 21\n",
      "C.cc[cu]12[mn]c[ni]-c34c5[v]6(S)(c(-cp)-c31-5c6n)=[Sb]c2-p4[pd]\n",
      "5 17.5 20\n",
      "C.C.Sc[cr].[Zr]=[Cd].ccc(c[hg]n[cu][zr])ps.s1[hg][hg]1\n",
      "6 26.5 24\n",
      "C.cc([cr])[siH]c1c2([pt])n3cc14(c-[tc]c1(C)ccs2-1c4)c3.cs.s[rh]\n",
      "7 24.0 20\n",
      "[Nb].[Tc].s[sb][rh]1cc(s)[nb]([Mo])-c2c3c45c-3s4-23c2c3C1c-5c-2\n",
      "8 24.5 22\n",
      "C.C.C.c[hf]c12[se](cS)cc([siH]-c-1c)[cu]-c2(C)C.c[nb](C)[asH]\n",
      "9 16.0 19\n",
      "C.C.[Hf].cc(cp(c)(c)c)-s(-[hg][mo])c(pS)s(c)C\n",
      "10 16.5 21\n",
      "C.C.CS.S.S.[Hf].[Rh].[pd]c[sbH].cc(c)-c(c[mo])c(S)[Pt][AlH2]\n",
      "11 28.5 25\n",
      "cncc1c2[cd][Rh][al]3(c)[sm](C)(C)[ni]4([Hg])p5sc-s1(c)([re])s-31=c2-4-c5-1.cs\n",
      "12 26.5 25\n",
      "C.C.S.sc1c[mo]23c4c5[gd][hf]46c1-[pt][mn](c-c1c-s2(S)[hf]c-3CSC1)c-5-6\n",
      "13 27.0 22\n",
      "C.ccc[cd]1c(-sc)c(c)([sm])-[hf]2(c)([mo])cc345(c)[rh]6c23[co]c-4[sb]15-6\n",
      "14 27.5 23\n",
      "C.C.cc-p[rh]c1c2cc(C)ss23(c)(cC)[yb]cc(-c[hf])c3c-1\n",
      "15 17.5 19\n",
      "C.C[Nb]c1c2c(C)-c3[ni]c-3-145Cc2c[nb]-41cs1-5[U].[Cu].[Hg]\n",
      "16 21.0 20\n",
      "C.C.[Rh].cc(C)-c12c3[hf]1s3(c)(pC)p1c2(s(S)[hg])c-1c\n",
      "17 32.0 26\n",
      "C.C.C.C.C.[Rh].c[cr]1c-c[ti]23c4c15s1(c)[mo]26c(*C)c-4-5s324[ru](c-1-2)c-6(c)c-4\n",
      "18 29.5 25\n",
      "C.P.S.S.[Nb].ccc1[hg][hf]p(-c(c)c)cp23[mo]c(C)c(P)c[cu]12[rh][hf]3\n",
      "19 21.0 22\n",
      "C.CP.c[re].cc([hf])(p[Hf])-c1cc123(C)c-c-21c(C)(Cc3p)C1\n",
      "20 22.0 22\n",
      "C.C.C.C[Nb].S.S.cccs(cc)cc1c-c(c)-p1c[rh]C\n",
      "21 17.0 21\n",
      "C.C.C.CS.C[rh]c1[re]=c2(C)(C)(s-csp[co]SS)cc-1-2\n",
      "22 27.5 24\n",
      "C.cc([alH])-s1(-c[siH2])c([co](c)(s)[cr])c[mn]c1(p)[ce].cc(c)CP.cs\n",
      "23 27.0 23\n",
      "[mn][rh].ccc12c[mo]3cC3c3[al]45(s)c-c-3([Yb])c3[hf]c6[cu](c-3-1s4)[hf]62C5\n",
      "24 14.0 19\n",
      "*.C.C.[Hg].cc*(s)([nb])[sm]1c-c([hg])(s[hf]C)[ni]1.n[cu]\n",
      "25 26.5 24\n",
      "C.P.S.[SbH3].cc12c[hg]3cs-145s(C)s416c2(s)-[sb]c2[zn]-c-1p-[rh]p31[cu]5c216\n",
      "26 18.5 20\n",
      "C.C.C.S.[Sm].cs12cc3(s1)[cu]([hf])-c2-c12cc-[cu]-1nc-2S3\n",
      "27 28.5 26\n",
      "C.C.Pcs.S.[Rh].cc[mn]123[ni]4s-c56c[mo]c78cs7-59[hg]1-c1c4-c2-1-p-8c63(C)c-9\n",
      "28 26.5 23\n",
      "C.C.[V].csc1-c2[si]34c5c3(C)c36[sb](C)cc47c-c4[pd]537-[mo]-4-6[sb]-1c-2C\n",
      "29 30.0 24\n",
      "C.C.C.P.[Hf].cc1s(c)-[au]234([hg])(c-c(css([mo])c(C)[fe])p-2)c-c3[cd]14\n",
      "30 23.0 20\n",
      "[Rh].cc-c1(c)c-[mo]c23ss-sc4(c)c2(C)c(-c-3c)-[mo]1-4C\n",
      "31 12.5 16\n",
      "C.C.C.[Rh].cpp(-c(c)[ni])c(C)pS.ns\n",
      "32 30.5 24\n",
      "C.C.S.csc123[cu](c[u]-1)c1c-c4(sC4)c-2s2c-1(p-3c)[au]213c*1(c)c3\n",
      "33 15.5 19\n",
      "C.S.[SbH3].cc([AlH2])sc[Mo].cc-s(c)s[mo]-[co]cC[Cd]\n",
      "34 21.0 24\n",
      "C.C.C.C.[SiH4].[V].[V].cc.cccc1(C)c(s)[pd]2(c)ppp([hf]2)s1s\n",
      "35 27.5 19\n",
      "Cc1[nb]c23op([cu])p-145(c1s4-c([rh])-p-1(C)[hf]2)[rh](C3)C5.[Rh]\n",
      "36 17.0 18\n",
      "C.C.cc.cc12[cd]([hg])[rh]([sbH])c(s)([cu]-1s1cc-s1)C2\n",
      "37 27.5 23\n",
      "C.C.C[SiH3].c[nb]c12n(c)c[hf](c)n34c5([rh]sc-3[Hg]1)[os]p-5[cu]-c2-4c\n",
      "38 25.0 22\n",
      "[U].cc1=p2(c)(c)c[al](cs)(c(CC)CS)[ni](c)s([ce])([rh][rh])-c2-1\n",
      "39 22.0 22\n",
      "C.Cc12[cu]-[nb][mo]1c1-[nb]c-c23s-1C3.S.[Mn].n[siH]Cc[pd]1c[mn]s-1\n",
      "40 22.0 24\n",
      "C.C.[Zn].cc.cc1([al]c2cc3(C)(s)s(s)-c23[zn])c-c12c1c(C)[hf]1C2\n",
      "41 21.0 24\n",
      "C.C.S.S.cc(c)c(C)(-[u]s-scCC)[rh](c)(c)cc(C)C.cn\n",
      "42 27.5 24\n",
      "C.[Cr].[Mo].cs1c2[rh]3([cr])c14c231(C)-cc2(-c[nb](p)[nb])(cC)(cc-2)p=[te]c-4-1\n",
      "43 22.5 20\n",
      "C.C.c[ag]1sc23c[pd]45(c)([hf]c[ag]-2(C)c=4)[cr]([w])C[re]5-3(C)c-1\n",
      "44 22.0 20\n",
      "C.[Mo].c[hf].cc1c[hf]23(p[cd]45c(C)[rh]4-[mn]5[siH2])(c-1)c-c2[rh]c-3\n",
      "45 21.5 20\n",
      "S.c[cu]1[cu]2(c)c([rh](c)[cd])-c123(C)c1([rh][nb])s-c(-cp)c-3C1\n",
      "46 39.0 23\n",
      "c[mo]1234c[sb]c56789%10c1%11-c1%12[hf]%13[hg]2%14[rh]15c612c56(C)-c-%14%15[cr]c-1-7%14[cd]2-5([sb]3)(c4-%14)s=8-%12-%11-61c-%13-92c%15=%10-1c-2\n",
      "47 23.0 20\n",
      "C.C.P.S.[Cd].cc1234s([Rh])[mo]5[ce]6c7([rh]1c2(c-5-6)C3)-c[rh]4-7.s[rh]\n",
      "48 16.5 17\n",
      "Cs1[hf]2c3c24-c2[rh]5(cs15-3-4)[mo]c[hg]-2.[Mo]C[Hf].cs\n",
      "49 23.0 21\n",
      "C.c[hf]-c12(cc([Mo])[sb][cr])s[rh][tc][co]c34[cr]-[re]([rh]315[rh][te]5s2)S4\n"
     ]
    }
   ],
   "source": [
    "bond_idx = 0\n",
    "smiles = []\n",
    "\n",
    "yhat = []\n",
    "yact = []\n",
    "for mol_idx, (st, le) in enumerate(Y.scope):\n",
    "    symbols = symbols_labels[st:st+le]\n",
    "    charges = charges_labels[st:st+le]\n",
    "    bonds = bonds_labels[bond_idx:bond_idx+le*le].view(le, le)\n",
    "    bond_idx += le * le\n",
    "    smiles.append(feat2smiles(SYMBOLS, FORMAL_CHARGES, BOND_TYPES, symbols, charges, bonds, False))\n",
    "    yhat.append(le)\n",
    "    yact.append((bonds != 4).sum().item()/2.)\n",
    "    print (mol_idx, yact[-1], le)\n",
    "    print (smiles[-1])\n",
    "    \n",
    "yhat = np.array(yhat)\n",
    "yact = np.array(yact)\n"
   ]
  },
  {
   "cell_type": "code",
   "execution_count": 18,
   "metadata": {},
   "outputs": [
    {
     "data": {
      "text/plain": [
       "(array([ 6.,  7.,  8., 13.,  7.,  5.,  2.,  0.,  1.,  1.]),\n",
       " array([-3.5 , -1.95, -0.4 ,  1.15,  2.7 ,  4.25,  5.8 ,  7.35,  8.9 ,\n",
       "        10.45, 12.  ]),\n",
       " <a list of 10 Patch objects>)"
      ]
     },
     "execution_count": 18,
     "metadata": {},
     "output_type": "execute_result"
    },
    {
     "data": {
      "image/png": "[encoded data removed]",
      "text/plain": [
       "<Figure size 432x288 with 1 Axes>"
      ]
     },
     "metadata": {},
     "output_type": "display_data"
    }
   ],
   "source": [
    "plt.hist(yact - yhat)"
   ]
  },
  {
   "cell_type": "code",
   "execution_count": 43,
   "metadata": {},
   "outputs": [],
   "source": [
    "Chem.MolFromSmiles(smiles[9], sanitize = False)"
   ]
  },
  {
   "cell_type": "code",
   "execution_count": 102,
   "metadata": {},
   "outputs": [
    {
     "data": {
      "text/plain": [
       "tensor(26., device='cuda:0')"
      ]
     },
     "execution_count": 102,
     "metadata": {},
     "output_type": "execute_result"
    }
   ],
   "source": [
    "(bonds != 4).sum() / 2."
   ]
  },
  {
   "cell_type": "code",
   "execution_count": 21,
   "metadata": {
    "scrolled": true
   },
   "outputs": [
    {
     "data": {
      "text/plain": [
       "tensor([0, 0, 2, 1, 0, 0, 0, 0, 2, 1, 0, 0, 1, 0, 0, 0, 0, 0, 0, 0, 3, 0])"
      ]
     },
     "execution_count": 21,
     "metadata": {},
     "output_type": "execute_result"
    }
   ],
   "source": [
    "mol_idx = 0 \n",
    "torch.argmax(target[mol_idx]['SYMBOLS'], dim=1)"
   ]
  },
  {
   "cell_type": "code",
   "execution_count": 22,
   "metadata": {},
   "outputs": [
    {
     "data": {
      "text/plain": [
       "tensor(1.9599, device='cuda:0', grad_fn=<MaxBackward1>)"
      ]
     },
     "execution_count": 22,
     "metadata": {},
     "output_type": "execute_result"
    }
   ],
   "source": [
    "(x_embedding.mean(axis = 0) / x_embedding.std(axis = 0)).abs().max()"
   ]
  },
  {
   "cell_type": "code",
   "execution_count": 26,
   "metadata": {
    "scrolled": true
   },
   "outputs": [
    {
     "name": "stdout",
     "output_type": "stream",
     "text": [
      "C.C.C.C.C.C.C.C.C.C.C.C.C.C.C.C.N.N.N.O.O.S\n",
      "C.C.C.C.C.C.C.C.C.C.C.C.C.C.C.N.N.N\n",
      "C.C.C.C.C.C.C.C.C.C.C.C.C.C.C.F.N.N.O.O.O\n",
      "C.C.C.C.C.C.C.C.C.C.C.C.C.N.N.N.N.O\n",
      "C.C.C.C.C.C.C.C.C.C.C.C.C.C.C.N.N.O.O.O.O\n",
      "C.C.C.C.C.C.C.C.C.C.C.C.C.C.C.C.N.O.O.O\n",
      "C.C.C.C.C.C.C.C.C.C.C.C.C.C.C.C.C.C.N.N.O.O.O.O\n",
      "C.C.C.C.C.C.C.C.C.C.C.C.C.N.N.N.O.O.S.S\n",
      "C.C.C.C.C.C.C.C.C.C.C.C.C.C.C.C.N.N.N.N.O.O\n",
      "C.C.C.C.C.C.C.C.C.C.C.C.C.C.C.C.N.O.S\n",
      "C.C.C.C.C.C.C.C.C.C.C.C.C.C.C.C.N.N.N.O.O\n",
      "C.C.C.C.C.C.C.C.C.C.C.C.C.C.C.C.C.C.C.C.N.N.N.N.N\n",
      "C.C.C.C.C.C.C.C.C.C.C.C.C.C.C.C.C.C.C.N.N.N.N.N.O\n",
      "C.C.C.C.C.C.C.C.C.C.C.C.C.C.C.C.C.F.N.O.O.O\n",
      "C.C.C.C.C.C.C.C.C.C.C.C.C.C.C.C.C.C.C.N.O.O.O\n",
      "C.C.C.C.C.C.C.C.C.C.C.C.C.C.C.C.N.O.O\n",
      "C.C.C.C.C.C.C.C.C.C.C.C.C.C.C.C.F.N.O.O\n",
      "C.C.C.C.C.C.C.C.C.C.C.C.C.C.C.C.C.C.C.N.N.N.N.O.O.O\n",
      "C.C.C.C.C.C.C.C.C.C.C.C.C.C.C.C.C.C.C.C.N.N.O.O.O\n",
      "C.C.C.C.C.C.C.C.C.C.C.C.C.C.C.C.C.C.N.N.N.O\n",
      "C.C.C.C.C.C.C.C.C.C.C.C.C.C.C.C.C.F.N.N.O.O\n",
      "C.C.C.C.C.C.C.C.C.C.C.C.C.C.C.N.N.N.N.N.O\n",
      "C.C.C.C.C.C.C.C.C.C.C.C.C.C.C.C.C.C.C.C.C.N.N.O\n",
      "C.C.C.C.C.C.C.C.C.C.C.C.C.C.C.C.C.N.N.N.O.O.S\n",
      "C.C.C.C.C.C.C.C.C.C.C.C.C.C.C.N.N.O.O\n",
      "C.C.C.C.C.C.C.C.C.C.C.C.C.C.C.C.C.C.C.C.N.N.N.N\n",
      "C.C.C.C.C.C.C.C.C.C.C.C.C.C.C.N.N.N.O.O\n",
      "C.C.C.C.C.C.C.C.C.C.C.C.C.C.C.C.C.C.C.C.N.N.N.O.O.O\n",
      "C.C.C.C.C.C.C.C.C.C.C.C.C.C.C.C.C.C.N.N.N.N.O\n",
      "C.C.C.C.C.C.C.C.C.C.C.C.C.C.C.C.C.F.F.N.N.N.O.O\n",
      "C.C.C.C.C.C.C.C.C.C.C.C.C.C.C.C.N.N.O.S\n",
      "C.C.C.C.C.C.C.C.C.C.C.C.C.N.O.O\n",
      "C.C.C.C.C.C.C.C.C.C.C.C.C.C.C.C.C.C.N.N.N.N.O.O\n",
      "C.C.C.C.C.C.C.C.C.C.C.C.C.N.N.N.O.O.S\n",
      "C.C.C.C.C.C.C.C.C.C.C.C.C.C.C.C.C.C.N.N.O.O.O.O\n",
      "C.C.C.C.C.C.C.C.C.C.C.C.C.C.C.N.O.O.O\n",
      "C.C.C.C.C.C.C.C.C.C.C.C.C.C.C.N.O.O\n",
      "C.C.C.C.C.C.C.C.C.C.C.C.C.C.C.F.N.N.O.O.O.O.O\n",
      "C.C.C.C.C.C.C.C.C.C.C.C.C.C.F.N.N.N.N.N.N.O\n",
      "C.C.C.C.C.C.C.C.C.C.C.C.C.C.C.C.C.C.N.N.O.O\n",
      "C.C.C.C.C.C.C.C.C.C.C.C.C.C.C.C.CN.N.N.O.O.O.O\n",
      "C.C.C.C.C.C.C.C.C.C.C.C.C.C.C.C.C.C.C.N.N.N.N.O\n",
      "C.C.C.C.C.C.C.C.C.C.C.C.C.C.C.C.C.C.N.N.O.O.O.S\n",
      "C.C.C.C.C.C.C.C.C.C.C.C.C.C.C.F.N.N.O.S\n",
      "C.C.C.C.C.C.C.C.C.C.C.C.C.C.CC.N.O.O.O\n",
      "C.C.C.C.C.C.C.C.C.C.C.C.C.C.C.C.N.N.N.S\n",
      "C.C.C.C.C.C.C.C.C.C.C.C.C.C.C.C.N.N.N.O.O.O.S\n",
      "C.C.C.C.C.C.C.C.C.C.C.C.C.C.C.F.N.N.N.O\n",
      "C.C.C.C.C.C.C.C.C.C.C.C.C.C.O.O.O\n",
      "C.C.C.C.C.C.C.C.C.C.C.C.C.C.C.N.N.O.O.O.O\n"
     ]
    }
   ],
   "source": [
    "target_smiles = [Chem.MolToSmiles(y) for y in Y.rd_mols]\n",
    "initial_smiles = [Chem.MolToSmiles(y) for y in X.rd_mols]\n",
    "\n",
    "# uncomment for tensorboard\n",
    "tb_writer = SummaryWriter(logdir = args.tb_logs_dir)\n",
    "mol_drawer = MolDrawer(tb_writer, SYMBOLS, BOND_TYPES, FORMAL_CHARGES)\n",
    "mol_drawer.visualize_batch(pred_pack[0], target_smiles, model_iter, initial_smiles, text=\"{}-manual2-\".format(args.init_model))"
   ]
  },
  {
   "cell_type": "code",
   "execution_count": 27,
   "metadata": {},
   "outputs": [
    {
     "data": {
      "text/plain": [
       "'C.C.C.C.C.C.C.C.C.C.C.C.C.C.C.N.N.O.O.O.O'"
      ]
     },
     "execution_count": 27,
     "metadata": {},
     "output_type": "execute_result"
    }
   ],
   "source": [
    "feat2smiles(SYMBOLS, FORMAL_CHARGES, BOND_TYPES, symbols, charges, bonds, False)"
   ]
  },
  {
   "cell_type": "code",
   "execution_count": 39,
   "metadata": {},
   "outputs": [],
   "source": [
    "tau = pen.tau\n",
    "# tau = 0.001\n",
    "# symbols_nll, charges_nll, bonds_nll = F.gumbel_softmax(tau = tau, dim=1, logits = symbols_logits), F.gumbel_softmax(tau=tau,dim=1,logits=charges_logits), F.gumbel_softmax(tau=tau,dim=1, logits = bonds_logits)\n",
    "# symbols_nll, charges_nll, bonds_nll = -nn.LogSoftmax(dim=1)(symbols_logits/tau),\\\n",
    "#              -nn.LogSoftmax(dim=1)(charges_logits/tau), -nn.LogSoftmax(dim=1)(bonds_logits/tau)\n",
    "\n",
    "def softmax(logits, tau):\n",
    "#     logitsn = F.normalize(logits, dim = 1)\n",
    "#     return -nn.LogSoftmax(dim=1)(logitsn/tau)\n",
    "    return F.gumbel_softmax(tau = tau, dim=1, logits = logits)\n",
    "\n",
    "symbols_nll = softmax(symbols_logits, tau)\n",
    "charges_nll = softmax(charges_logits, tau)\n",
    "bonds_nll = softmax(bonds_logits, tau)"
   ]
  },
  {
   "cell_type": "code",
   "execution_count": 40,
   "metadata": {},
   "outputs": [
    {
     "data": {
      "text/plain": [
       "0.05195383849590577"
      ]
     },
     "execution_count": 40,
     "metadata": {},
     "output_type": "execute_result"
    }
   ],
   "source": [
    "pen.tau"
   ]
  },
  {
   "cell_type": "code",
   "execution_count": 41,
   "metadata": {},
   "outputs": [
    {
     "data": {
      "text/plain": [
       "(array([ 40., 178., 196., 148., 161., 141., 122.,  68.,  22.,   3.]),\n",
       " array([18.200134, 20.99893 , 23.797726, 26.596523, 29.395319, 32.194115,\n",
       "        34.992912, 37.791706, 40.590504, 43.389297, 46.188095],\n",
       "       dtype=float32),\n",
       " <a list of 10 Patch objects>)"
      ]
     },
     "execution_count": 41,
     "metadata": {},
     "output_type": "execute_result"
    },
    {
     "data": {
      "image/png": "[encoded data removed]",
      "text/plain": [
       "<Figure size 432x288 with 1 Axes>"
      ]
     },
     "metadata": {},
     "output_type": "display_data"
    }
   ],
   "source": [
    "plt.hist(symbols_logits.norm(dim = 1).cpu().detach().numpy())"
   ]
  },
  {
   "cell_type": "code",
   "execution_count": 42,
   "metadata": {},
   "outputs": [
    {
     "data": {
      "text/plain": [
       "(array([  1.,   0.,   0.,   2.,   0.,   2.,   1.,   0.,   2.,   0.,   0.,\n",
       "          1.,   2.,   2.,   0.,   4.,   6.,   4.,   2.,   0.,  14.,  10.,\n",
       "         22.,  14.,  24.,  42.,  31.,  28.,  62.,  59.,  90., 107., 154.,\n",
       "        151., 157., 162., 166., 137., 203., 251., 277., 285., 328., 328.,\n",
       "        343., 401., 401., 453., 430., 532., 632., 592., 610., 660., 648.,\n",
       "        750., 674., 740., 792., 734., 685., 816., 801., 765., 809., 723.,\n",
       "        692., 582., 667., 476., 424., 395., 297., 261., 232., 198., 193.,\n",
       "        155., 137., 153., 125., 146., 126., 128., 124., 110., 126., 100.,\n",
       "        130., 124., 119.,  77.,  53.,  44.,  27.,   8.,   6.,  10.,   3.,\n",
       "          1.]),\n",
       " array([0.76019484, 0.76257384, 0.76495284, 0.76733184, 0.7697108 ,\n",
       "        0.7720898 , 0.7744688 , 0.7768478 , 0.7792268 , 0.7816058 ,\n",
       "        0.7839848 , 0.7863637 , 0.7887427 , 0.7911217 , 0.7935007 ,\n",
       "        0.7958797 , 0.7982587 , 0.8006377 , 0.80301666, 0.80539566,\n",
       "        0.80777466, 0.81015366, 0.81253266, 0.81491166, 0.81729066,\n",
       "        0.8196696 , 0.8220486 , 0.8244276 , 0.8268066 , 0.8291856 ,\n",
       "        0.8315646 , 0.8339436 , 0.8363226 , 0.83870155, 0.84108055,\n",
       "        0.84345955, 0.84583855, 0.84821755, 0.85059655, 0.85297555,\n",
       "        0.8553545 , 0.8577335 , 0.8601125 , 0.8624915 , 0.8648705 ,\n",
       "        0.8672495 , 0.8696285 , 0.8720074 , 0.8743864 , 0.87676543,\n",
       "        0.87914443, 0.88152343, 0.88390243, 0.88628143, 0.8886604 ,\n",
       "        0.8910394 , 0.8934184 , 0.8957974 , 0.8981764 , 0.9005554 ,\n",
       "        0.9029344 , 0.9053133 , 0.9076923 , 0.9100713 , 0.9124503 ,\n",
       "        0.9148293 , 0.9172083 , 0.9195873 , 0.92196625, 0.92434525,\n",
       "        0.92672426, 0.92910326, 0.93148226, 0.93386126, 0.93624026,\n",
       "        0.93861926, 0.9409982 , 0.9433772 , 0.9457562 , 0.9481352 ,\n",
       "        0.9505142 , 0.9528932 , 0.9552722 , 0.95765114, 0.96003014,\n",
       "        0.96240914, 0.96478814, 0.96716714, 0.96954614, 0.97192514,\n",
       "        0.9743041 , 0.9766831 , 0.9790621 , 0.9814411 , 0.9838201 ,\n",
       "        0.9861991 , 0.9885781 , 0.990957  , 0.993336  , 0.995715  ,\n",
       "        0.998094  ], dtype=float32),\n",
       " <a list of 100 Patch objects>)"
      ]
     },
     "execution_count": 42,
     "metadata": {},
     "output_type": "execute_result"
    },
    {
     "data": {
      "image/png": "[encoded data removed]",
      "text/plain": [
       "<Figure size 432x288 with 1 Axes>"
      ]
     },
     "metadata": {},
     "output_type": "display_data"
    }
   ],
   "source": [
    "max_logits = torch.max(F.softmax(dim=1, input = bonds_logits), dim = 1).values.detach().cpu().numpy()\n",
    "plt.hist(max_logits, bins = 100)"
   ]
  },
  {
   "cell_type": "code",
   "execution_count": 26,
   "metadata": {},
   "outputs": [
    {
     "data": {
      "text/plain": [
       "torch.Size([1079, 64])"
      ]
     },
     "execution_count": 26,
     "metadata": {},
     "output_type": "execute_result"
    }
   ],
   "source": [
    "symbols_logits.shape"
   ]
  },
  {
   "cell_type": "code",
   "execution_count": 70,
   "metadata": {},
   "outputs": [
    {
     "data": {
      "text/plain": [
       "<BarContainer object of 64 artists>"
      ]
     },
     "execution_count": 70,
     "metadata": {},
     "output_type": "execute_result"
    },
    {
     "data": {
      "image/png": "[encoded data removed]",
      "text/plain": [
       "<Figure size 432x288 with 1 Axes>"
      ]
     },
     "metadata": {},
     "output_type": "display_data"
    }
   ],
   "source": [
    "means = symbols_logits.mean(axis = 0).cpu().detach().numpy()\n",
    "stds = symbols_logits.std(axis = 0).cpu().detach().numpy()\n",
    "plt.bar(range(len(SYMBOLS)), means, yerr = stds)"
   ]
  },
  {
   "cell_type": "code",
   "execution_count": 71,
   "metadata": {},
   "outputs": [
    {
     "data": {
      "text/plain": [
       "<BarContainer object of 5 artists>"
      ]
     },
     "execution_count": 71,
     "metadata": {},
     "output_type": "execute_result"
    },
    {
     "data": {
      "image/png": "[encoded data removed]",
      "text/plain": [
       "<Figure size 432x288 with 1 Axes>"
      ]
     },
     "metadata": {},
     "output_type": "display_data"
    }
   ],
   "source": [
    "means = bonds_logits.mean(axis = 0).cpu().detach().numpy()\n",
    "stds = bonds_logits.std(axis = 0).cpu().detach().numpy()\n",
    "plt.bar(range(len(BOND_TYPES)), means, yerr = stds)"
   ]
  },
  {
   "cell_type": "code",
   "execution_count": 101,
   "metadata": {
    "scrolled": true
   },
   "outputs": [
    {
     "data": {
      "text/plain": [
       "tensor([27,  4, 53,  ...,  4,  7, 50], device='cuda:0')"
      ]
     },
     "execution_count": 101,
     "metadata": {},
     "output_type": "execute_result"
    }
   ],
   "source": [
    "torch.argmax(F.gumbel_softmax(tau = 1, dim=1, logits = symbols_logits), axis = 1)\n",
    "# torch.argmax(F.softmax(symbols_logits, dim = 1), axis = 1)"
   ]
  },
  {
   "cell_type": "code",
   "execution_count": 102,
   "metadata": {},
   "outputs": [
    {
     "data": {
      "text/plain": [
       "tensor([-0.7168, -0.6918, -0.7858,  ..., -0.2435, -0.3567, -0.3224],\n",
       "       device='cuda:0', grad_fn=<SumBackward1>)"
      ]
     },
     "execution_count": 102,
     "metadata": {},
     "output_type": "execute_result"
    }
   ],
   "source": [
    "bonds_logits.sum(axis = 1)"
   ]
  },
  {
   "cell_type": "code",
   "execution_count": 103,
   "metadata": {},
   "outputs": [
    {
     "data": {
      "text/plain": [
       "tensor([[1.1898e-07, 4.1788e-15, 1.1364e-11,  ..., 1.1246e-15, 4.4671e-12,\n",
       "         2.6455e-06],\n",
       "        [5.9730e-32, 3.8587e-35, 2.3728e-35,  ..., 2.7590e-26, 4.3688e-35,\n",
       "         6.8968e-34],\n",
       "        [2.3369e-16, 5.9282e-12, 9.6984e-11,  ..., 5.1900e-19, 7.2133e-17,\n",
       "         2.6491e-13],\n",
       "        ...,\n",
       "        [1.0000e+00, 1.0524e-29, 1.8007e-29,  ..., 5.9074e-30, 3.6392e-36,\n",
       "         2.7992e-31],\n",
       "        [3.3421e-20, 3.4711e-14, 4.9880e-17,  ..., 4.9878e-09, 9.8660e-22,\n",
       "         7.0411e-26],\n",
       "        [5.2386e-27, 2.3484e-27, 5.3644e-35,  ..., 3.0511e-31, 3.9224e-33,\n",
       "         6.2579e-37]], device='cuda:0', grad_fn=<SoftmaxBackward>)"
      ]
     },
     "execution_count": 103,
     "metadata": {},
     "output_type": "execute_result"
    }
   ],
   "source": [
    "F.gumbel_softmax(tau = 0.1, dim=1, logits = symbols_logits)"
   ]
  },
  {
   "cell_type": "code",
   "execution_count": 104,
   "metadata": {},
   "outputs": [
    {
     "data": {
      "text/plain": [
       "tensor([[30.4351, 34.9901, 82.9673, 68.6483, -0.0000],\n",
       "        [35.5620, 39.7150, 82.7646, 71.0517, -0.0000],\n",
       "        [36.0503, 39.9646, 83.9324, 70.3454, -0.0000],\n",
       "        ...,\n",
       "        [26.6836, 38.2859, 91.0719, 90.3248, -0.0000],\n",
       "        [20.4135, 28.7948, 73.8399, 72.7646, -0.0000],\n",
       "        [21.0419, 32.0101, 80.5401, 78.0148, -0.0000]], device='cuda:0',\n",
       "       grad_fn=<NegBackward>)"
      ]
     },
     "execution_count": 104,
     "metadata": {},
     "output_type": "execute_result"
    }
   ],
   "source": [
    "bonds_nll"
   ]
  },
  {
   "cell_type": "code",
   "execution_count": 105,
   "metadata": {},
   "outputs": [
    {
     "data": {
      "text/plain": [
       "(tensor([2, 3, 4], device='cuda:0'),\n",
       " tensor([13527, 10041,     3], device='cuda:0'))"
      ]
     },
     "execution_count": 105,
     "metadata": {},
     "output_type": "execute_result"
    }
   ],
   "source": [
    "torch.argmax(bonds_nll, dim = 1).unique(return_counts = True)"
   ]
  },
  {
   "cell_type": "code",
   "execution_count": 72,
   "metadata": {},
   "outputs": [
    {
     "data": {
      "text/plain": [
       "tensor([[4.8684e-40, 0.0000e+00, 0.0000e+00, 0.0000e+00, 1.0000e+00],\n",
       "        [1.1608e-40, 0.0000e+00, 0.0000e+00, 0.0000e+00, 1.0000e+00],\n",
       "        [1.1414e-06, 0.0000e+00, 0.0000e+00, 0.0000e+00, 1.0000e+00],\n",
       "        ...,\n",
       "        [3.8970e-18, 1.0000e+00, 3.2179e-41, 3.9096e-43, 7.6519e-09],\n",
       "        [1.8544e-17, 6.8090e-20, 0.0000e+00, 5.7014e-10, 1.0000e+00],\n",
       "        [0.0000e+00, 5.8267e-28, 0.0000e+00, 0.0000e+00, 1.0000e+00]],\n",
       "       device='cuda:0', grad_fn=<SoftmaxBackward>)"
      ]
     },
     "execution_count": 72,
     "metadata": {},
     "output_type": "execute_result"
    }
   ],
   "source": [
    "bonds_nll"
   ]
  },
  {
   "cell_type": "code",
   "execution_count": 73,
   "metadata": {},
   "outputs": [
    {
     "name": "stdout",
     "output_type": "stream",
     "text": [
      "tensor(25.9540, device='cuda:0', grad_fn=<DivBackward0>)\n",
      "tensor(4.2943, device='cuda:0', grad_fn=<DivBackward0>)\n",
      "tensor(15.7227, device='cuda:0', grad_fn=<DivBackward0>)\n",
      "tensor(6.0428, device='cuda:0', grad_fn=<DivBackward0>)\n",
      "tensor(30.8190, device='cuda:0', grad_fn=<DivBackward0>)\n",
      "tensor(26.7959, device='cuda:0', grad_fn=<DivBackward0>)\n",
      "tensor(21.0293, device='cuda:0', grad_fn=<DivBackward0>)\n",
      "tensor(18.0473, device='cuda:0', grad_fn=<DivBackward0>)\n",
      "tensor(12.4608, device='cuda:0', grad_fn=<DivBackward0>)\n",
      "tensor(14.6883, device='cuda:0', grad_fn=<DivBackward0>)\n",
      "tensor(17.4138, device='cuda:0', grad_fn=<DivBackward0>)\n",
      "tensor(22.8999, device='cuda:0', grad_fn=<DivBackward0>)\n",
      "tensor(3.4789, device='cuda:0', grad_fn=<DivBackward0>)\n",
      "tensor(22.8743, device='cuda:0', grad_fn=<DivBackward0>)\n",
      "tensor(24.2297, device='cuda:0', grad_fn=<DivBackward0>)\n",
      "tensor(17.4069, device='cuda:0', grad_fn=<DivBackward0>)\n",
      "tensor(29.8443, device='cuda:0', grad_fn=<DivBackward0>)\n",
      "tensor(14.9637, device='cuda:0', grad_fn=<DivBackward0>)\n",
      "tensor(19.2607, device='cuda:0', grad_fn=<DivBackward0>)\n",
      "tensor(10.0109, device='cuda:0', grad_fn=<DivBackward0>)\n",
      "tensor(16.4179, device='cuda:0', grad_fn=<DivBackward0>)\n",
      "tensor(10.2758, device='cuda:0', grad_fn=<DivBackward0>)\n",
      "tensor(37.1300, device='cuda:0', grad_fn=<DivBackward0>)\n",
      "tensor(13.5368, device='cuda:0', grad_fn=<DivBackward0>)\n",
      "tensor(18.2052, device='cuda:0', grad_fn=<DivBackward0>)\n",
      "tensor(13.8480, device='cuda:0', grad_fn=<DivBackward0>)\n",
      "tensor(10.9074, device='cuda:0', grad_fn=<DivBackward0>)\n",
      "tensor(21.0443, device='cuda:0', grad_fn=<DivBackward0>)\n",
      "tensor(14.6852, device='cuda:0', grad_fn=<DivBackward0>)\n",
      "tensor(16.5887, device='cuda:0', grad_fn=<DivBackward0>)\n",
      "tensor(16.0537, device='cuda:0', grad_fn=<DivBackward0>)\n",
      "tensor(7.3595, device='cuda:0', grad_fn=<DivBackward0>)\n",
      "tensor(25.7551, device='cuda:0', grad_fn=<DivBackward0>)\n",
      "tensor(11.4152, device='cuda:0', grad_fn=<DivBackward0>)\n",
      "tensor(27.2653, device='cuda:0', grad_fn=<DivBackward0>)\n",
      "tensor(8.3719, device='cuda:0', grad_fn=<DivBackward0>)\n",
      "tensor(12.2709, device='cuda:0', grad_fn=<DivBackward0>)\n",
      "tensor(38.4939, device='cuda:0', grad_fn=<DivBackward0>)\n",
      "tensor(30.0824, device='cuda:0', grad_fn=<DivBackward0>)\n",
      "tensor(13.3000, device='cuda:0', grad_fn=<DivBackward0>)\n",
      "tensor(23.7285, device='cuda:0', grad_fn=<DivBackward0>)\n",
      "tensor(27.2416, device='cuda:0', grad_fn=<DivBackward0>)\n",
      "tensor(31.8984, device='cuda:0', grad_fn=<DivBackward0>)\n",
      "tensor(11.4070, device='cuda:0', grad_fn=<DivBackward0>)\n",
      "tensor(16.2180, device='cuda:0', grad_fn=<DivBackward0>)\n",
      "tensor(17.4309, device='cuda:0', grad_fn=<DivBackward0>)\n",
      "tensor(14.8805, device='cuda:0', grad_fn=<DivBackward0>)\n",
      "tensor(13.3776, device='cuda:0', grad_fn=<DivBackward0>)\n",
      "tensor(13.3427, device='cuda:0', grad_fn=<DivBackward0>)\n",
      "tensor(17.1865, device='cuda:0', grad_fn=<DivBackward0>)\n"
     ]
    }
   ],
   "source": [
    "bond_idx = 0\n",
    "for st, le in Y.scope:\n",
    "    bonds_nll_curr = bonds_nll[bond_idx:bond_idx + le**2,:].view(le, le, -1)\n",
    "    print ((1 - bonds_nll_curr[:,:,4]).sum()/2)\n",
    "    bond_idx += le**2"
   ]
  },
  {
   "cell_type": "code",
   "execution_count": 75,
   "metadata": {},
   "outputs": [
    {
     "data": {
      "text/plain": [
       "tensor([[0.0000e+00, 0.0000e+00, 0.0000e+00, 0.0000e+00, 0.0000e+00, 3.2863e-01,\n",
       "         1.0000e+00, 0.0000e+00, 0.0000e+00, 0.0000e+00, 0.0000e+00, 0.0000e+00,\n",
       "         0.0000e+00, 0.0000e+00, 0.0000e+00, 0.0000e+00, 0.0000e+00, 0.0000e+00,\n",
       "         0.0000e+00, 0.0000e+00, 0.0000e+00],\n",
       "        [0.0000e+00, 9.3452e-01, 0.0000e+00, 0.0000e+00, 0.0000e+00, 0.0000e+00,\n",
       "         0.0000e+00, 0.0000e+00, 0.0000e+00, 0.0000e+00, 0.0000e+00, 0.0000e+00,\n",
       "         3.0364e-02, 0.0000e+00, 9.9963e-01, 0.0000e+00, 0.0000e+00, 0.0000e+00,\n",
       "         9.9987e-01, 1.9908e-05, 1.0000e+00],\n",
       "        [0.0000e+00, 0.0000e+00, 1.5497e-06, 0.0000e+00, 0.0000e+00, 0.0000e+00,\n",
       "         0.0000e+00, 0.0000e+00, 1.0000e+00, 0.0000e+00, 9.4771e-05, 0.0000e+00,\n",
       "         0.0000e+00, 0.0000e+00, 0.0000e+00, 6.2620e-01, 0.0000e+00, 0.0000e+00,\n",
       "         9.1592e-01, 3.3100e-03, 0.0000e+00],\n",
       "        [1.1921e-07, 0.0000e+00, 0.0000e+00, 0.0000e+00, 0.0000e+00, 0.0000e+00,\n",
       "         0.0000e+00, 0.0000e+00, 0.0000e+00, 0.0000e+00, 0.0000e+00, 0.0000e+00,\n",
       "         0.0000e+00, 0.0000e+00, 0.0000e+00, 0.0000e+00, 0.0000e+00, 0.0000e+00,\n",
       "         0.0000e+00, 0.0000e+00, 0.0000e+00],\n",
       "        [4.9665e-02, 0.0000e+00, 0.0000e+00, 0.0000e+00, 0.0000e+00, 0.0000e+00,\n",
       "         0.0000e+00, 0.0000e+00, 0.0000e+00, 0.0000e+00, 0.0000e+00, 0.0000e+00,\n",
       "         0.0000e+00, 0.0000e+00, 0.0000e+00, 0.0000e+00, 0.0000e+00, 0.0000e+00,\n",
       "         0.0000e+00, 0.0000e+00, 0.0000e+00],\n",
       "        [1.3569e-03, 0.0000e+00, 0.0000e+00, 0.0000e+00, 0.0000e+00, 0.0000e+00,\n",
       "         0.0000e+00, 0.0000e+00, 0.0000e+00, 0.0000e+00, 0.0000e+00, 0.0000e+00,\n",
       "         0.0000e+00, 0.0000e+00, 0.0000e+00, 0.0000e+00, 0.0000e+00, 0.0000e+00,\n",
       "         0.0000e+00, 0.0000e+00, 0.0000e+00],\n",
       "        [0.0000e+00, 0.0000e+00, 0.0000e+00, 0.0000e+00, 0.0000e+00, 0.0000e+00,\n",
       "         0.0000e+00, 0.0000e+00, 0.0000e+00, 0.0000e+00, 0.0000e+00, 0.0000e+00,\n",
       "         0.0000e+00, 0.0000e+00, 0.0000e+00, 0.0000e+00, 0.0000e+00, 0.0000e+00,\n",
       "         0.0000e+00, 0.0000e+00, 0.0000e+00],\n",
       "        [0.0000e+00, 0.0000e+00, 0.0000e+00, 0.0000e+00, 0.0000e+00, 0.0000e+00,\n",
       "         0.0000e+00, 0.0000e+00, 0.0000e+00, 3.2732e-03, 1.7759e-03, 0.0000e+00,\n",
       "         0.0000e+00, 0.0000e+00, 0.0000e+00, 0.0000e+00, 0.0000e+00, 0.0000e+00,\n",
       "         0.0000e+00, 0.0000e+00, 0.0000e+00],\n",
       "        [0.0000e+00, 0.0000e+00, 0.0000e+00, 0.0000e+00, 0.0000e+00, 0.0000e+00,\n",
       "         0.0000e+00, 0.0000e+00, 0.0000e+00, 1.1921e-07, 0.0000e+00, 0.0000e+00,\n",
       "         0.0000e+00, 0.0000e+00, 0.0000e+00, 2.8610e-06, 0.0000e+00, 1.0000e+00,\n",
       "         1.0000e+00, 4.0531e-06, 0.0000e+00],\n",
       "        [0.0000e+00, 0.0000e+00, 0.0000e+00, 9.9986e-01, 0.0000e+00, 7.1526e-07,\n",
       "         1.0000e+00, 0.0000e+00, 1.0000e+00, 1.1921e-07, 0.0000e+00, 0.0000e+00,\n",
       "         0.0000e+00, 0.0000e+00, 5.2941e-03, 0.0000e+00, 0.0000e+00, 0.0000e+00,\n",
       "         0.0000e+00, 0.0000e+00, 0.0000e+00],\n",
       "        [0.0000e+00, 0.0000e+00, 0.0000e+00, 0.0000e+00, 0.0000e+00, 0.0000e+00,\n",
       "         0.0000e+00, 1.0000e+00, 0.0000e+00, 1.2215e-01, 0.0000e+00, 0.0000e+00,\n",
       "         0.0000e+00, 8.4260e-01, 0.0000e+00, 0.0000e+00, 0.0000e+00, 0.0000e+00,\n",
       "         1.2660e-04, 5.9605e-07, 0.0000e+00],\n",
       "        [0.0000e+00, 0.0000e+00, 0.0000e+00, 0.0000e+00, 0.0000e+00, 1.1921e-07,\n",
       "         0.0000e+00, 0.0000e+00, 0.0000e+00, 0.0000e+00, 0.0000e+00, 0.0000e+00,\n",
       "         0.0000e+00, 0.0000e+00, 0.0000e+00, 2.5888e-03, 0.0000e+00, 0.0000e+00,\n",
       "         0.0000e+00, 0.0000e+00, 0.0000e+00],\n",
       "        [0.0000e+00, 1.0000e+00, 5.2510e-02, 0.0000e+00, 0.0000e+00, 0.0000e+00,\n",
       "         0.0000e+00, 0.0000e+00, 0.0000e+00, 0.0000e+00, 0.0000e+00, 0.0000e+00,\n",
       "         0.0000e+00, 0.0000e+00, 0.0000e+00, 0.0000e+00, 0.0000e+00, 0.0000e+00,\n",
       "         1.0000e+00, 0.0000e+00, 0.0000e+00],\n",
       "        [0.0000e+00, 0.0000e+00, 0.0000e+00, 0.0000e+00, 0.0000e+00, 0.0000e+00,\n",
       "         0.0000e+00, 0.0000e+00, 0.0000e+00, 0.0000e+00, 0.0000e+00, 0.0000e+00,\n",
       "         0.0000e+00, 0.0000e+00, 0.0000e+00, 0.0000e+00, 0.0000e+00, 7.0118e-01,\n",
       "         1.0000e+00, 0.0000e+00, 0.0000e+00],\n",
       "        [0.0000e+00, 0.0000e+00, 0.0000e+00, 0.0000e+00, 0.0000e+00, 0.0000e+00,\n",
       "         0.0000e+00, 0.0000e+00, 0.0000e+00, 0.0000e+00, 0.0000e+00, 0.0000e+00,\n",
       "         3.1874e-03, 1.0000e+00, 0.0000e+00, 1.0570e-02, 0.0000e+00, 0.0000e+00,\n",
       "         1.0000e+00, 0.0000e+00, 0.0000e+00],\n",
       "        [0.0000e+00, 0.0000e+00, 0.0000e+00, 0.0000e+00, 0.0000e+00, 0.0000e+00,\n",
       "         0.0000e+00, 0.0000e+00, 0.0000e+00, 0.0000e+00, 0.0000e+00, 0.0000e+00,\n",
       "         0.0000e+00, 1.0000e+00, 0.0000e+00, 0.0000e+00, 1.0000e+00, 0.0000e+00,\n",
       "         0.0000e+00, 0.0000e+00, 0.0000e+00],\n",
       "        [0.0000e+00, 0.0000e+00, 0.0000e+00, 0.0000e+00, 0.0000e+00, 0.0000e+00,\n",
       "         0.0000e+00, 0.0000e+00, 0.0000e+00, 0.0000e+00, 0.0000e+00, 0.0000e+00,\n",
       "         0.0000e+00, 0.0000e+00, 0.0000e+00, 0.0000e+00, 0.0000e+00, 0.0000e+00,\n",
       "         0.0000e+00, 0.0000e+00, 0.0000e+00],\n",
       "        [0.0000e+00, 0.0000e+00, 0.0000e+00, 0.0000e+00, 0.0000e+00, 1.0000e+00,\n",
       "         0.0000e+00, 0.0000e+00, 1.0000e+00, 0.0000e+00, 9.5367e-06, 0.0000e+00,\n",
       "         0.0000e+00, 0.0000e+00, 0.0000e+00, 0.0000e+00, 9.9991e-01, 0.0000e+00,\n",
       "         0.0000e+00, 0.0000e+00, 0.0000e+00],\n",
       "        [0.0000e+00, 1.0000e+00, 0.0000e+00, 0.0000e+00, 0.0000e+00, 0.0000e+00,\n",
       "         0.0000e+00, 0.0000e+00, 1.0000e+00, 0.0000e+00, 0.0000e+00, 0.0000e+00,\n",
       "         9.5871e-01, 1.0000e+00, 0.0000e+00, 0.0000e+00, 0.0000e+00, 0.0000e+00,\n",
       "         1.0000e+00, 0.0000e+00, 0.0000e+00],\n",
       "        [0.0000e+00, 0.0000e+00, 0.0000e+00, 0.0000e+00, 0.0000e+00, 0.0000e+00,\n",
       "         0.0000e+00, 2.7418e-06, 0.0000e+00, 9.8069e-01, 0.0000e+00, 0.0000e+00,\n",
       "         0.0000e+00, 0.0000e+00, 0.0000e+00, 0.0000e+00, 0.0000e+00, 0.0000e+00,\n",
       "         7.9892e-01, 0.0000e+00, 0.0000e+00],\n",
       "        [0.0000e+00, 2.6226e-06, 0.0000e+00, 0.0000e+00, 0.0000e+00, 1.0000e+00,\n",
       "         0.0000e+00, 0.0000e+00, 0.0000e+00, 0.0000e+00, 0.0000e+00, 0.0000e+00,\n",
       "         0.0000e+00, 0.0000e+00, 0.0000e+00, 0.0000e+00, 0.0000e+00, 0.0000e+00,\n",
       "         1.0000e+00, 0.0000e+00, 0.0000e+00]], device='cuda:0',\n",
       "       grad_fn=<RsubBackward1>)"
      ]
     },
     "execution_count": 75,
     "metadata": {},
     "output_type": "execute_result"
    }
   ],
   "source": [
    "1 - bonds_nll_curr[:,:,4]"
   ]
  },
  {
   "cell_type": "code",
   "execution_count": 118,
   "metadata": {},
   "outputs": [
    {
     "data": {
      "text/plain": [
       "torch.Size([1079, 64])"
      ]
     },
     "execution_count": 118,
     "metadata": {},
     "output_type": "execute_result"
    }
   ],
   "source": [
    "symbols_logits.shape"
   ]
  },
  {
   "cell_type": "code",
   "execution_count": 119,
   "metadata": {
    "scrolled": true
   },
   "outputs": [
    {
     "data": {
      "text/plain": [
       "tensor([2, 0, 0,  ..., 0, 0, 0], device='cuda:0')"
      ]
     },
     "execution_count": 119,
     "metadata": {},
     "output_type": "execute_result"
    }
   ],
   "source": [
    "symbols_labels"
   ]
  },
  {
   "cell_type": "code",
   "execution_count": 110,
   "metadata": {},
   "outputs": [
    {
     "data": {
      "text/plain": [
       "(tensor([0, 1, 4], device='cuda:0'),\n",
       " tensor([   89,     6, 23476], device='cuda:0'))"
      ]
     },
     "execution_count": 110,
     "metadata": {},
     "output_type": "execute_result"
    }
   ],
   "source": [
    "bonds_labels.unique(return_counts = True)"
   ]
  },
  {
   "cell_type": "markdown",
   "metadata": {},
   "source": [
    "# inspect module parameters"
   ]
  },
  {
   "cell_type": "code",
   "execution_count": 150,
   "metadata": {},
   "outputs": [
    {
     "data": {
      "text/plain": [
       "Linear(in_features=100, out_features=150, bias=True)"
      ]
     },
     "execution_count": 150,
     "metadata": {},
     "output_type": "execute_result"
    }
   ],
   "source": [
    "molopt_decoder.fc1_SYMBOLS"
   ]
  },
  {
   "cell_type": "code",
   "execution_count": 151,
   "metadata": {},
   "outputs": [
    {
     "data": {
      "text/plain": [
       "tensor([[ 13.7881,   0.6913,   3.3530,  ..., -10.6195,  -8.9924, -11.0378],\n",
       "        [ 13.5698,  -1.3311,   4.9047,  ...,  -8.9976,  -7.9215, -10.1074],\n",
       "        [  5.2691,  -6.6067,   3.9132,  ..., -13.3723, -13.1498, -14.1045],\n",
       "        ...,\n",
       "        [  2.3633,   0.6043,   8.5959,  ..., -12.3276, -12.1154, -13.7442],\n",
       "        [ 16.1051,   0.3792,   4.5413,  ...,  -8.0192,  -7.4203,  -9.7780],\n",
       "        [  8.6492,   4.9261,   0.4580,  ...,  -9.5743,  -9.4313, -10.6167]],\n",
       "       device='cuda:0', grad_fn=<AddmmBackward>)"
      ]
     },
     "execution_count": 151,
     "metadata": {},
     "output_type": "execute_result"
    }
   ],
   "source": [
    "molopt_decoder.fc2_SYMBOLS(F.leaky_relu(molopt_decoder.fc1_SYMBOLS(x_embedding)))"
   ]
  },
  {
   "cell_type": "code",
   "execution_count": 152,
   "metadata": {},
   "outputs": [
    {
     "data": {
      "text/plain": [
       "tensor([[-0.1335,  0.4283,  0.3699,  ..., -0.3710,  0.7165, -0.5101],\n",
       "        [-0.8927,  1.3656,  0.6950,  ..., -1.0309, -0.1640, -0.0162],\n",
       "        [-0.4414, -0.3376,  2.9654,  ...,  1.0029, -0.6166,  0.1708],\n",
       "        ...,\n",
       "        [ 0.9006,  0.2762, -0.7614,  ...,  1.1360,  0.2881, -0.2464],\n",
       "        [-1.4002,  1.4269, -0.5393,  ..., -1.6091,  0.4275, -0.0564],\n",
       "        [-0.5014,  0.6323,  0.1265,  ..., -1.6008, -0.1383,  0.4430]],\n",
       "       device='cuda:0', grad_fn=<AddBackward0>)"
      ]
     },
     "execution_count": 152,
     "metadata": {},
     "output_type": "execute_result"
    }
   ],
   "source": [
    "x_embedding"
   ]
  },
  {
   "cell_type": "markdown",
   "metadata": {},
   "source": [
    "# debug connectivity"
   ]
  },
  {
   "cell_type": "code",
   "execution_count": 153,
   "metadata": {},
   "outputs": [],
   "source": [
    "def get_pen(model_iter):\n",
    "    model_name = \"model_{}_{}\".format(model, model_iter)\n",
    "    model_decode_name = \"model_{}_decode_{}\".format(model, model_iter)\n",
    "    molopt, config = load_model(args.output_dir + model_name, MolOpt, args.device)\n",
    "    molopt_decoder, config_decoder = load_model(args.output_dir + model_decode_name, MolOptDecoder, args.device)\n",
    "    x_embedding = molopt.forward(X)\n",
    "    yhat_logits = molopt_decoder.forward(x_embedding, X, Y)\n",
    "    yhat_labels = molopt_decoder.discretize_argmax(*yhat_logits)\n",
    "    # yhat_labels = molopt_decoder.discretize(*yhat_logits)\n",
    "    pred_pack = (yhat_labels, yhat_logits, Y.scope), Y \n",
    "\n",
    "    return (pen(*pred_pack, model_iter)[1].item())"
   ]
  },
  {
   "cell_type": "code",
   "execution_count": 154,
   "metadata": {
    "scrolled": true
   },
   "outputs": [
    {
     "ename": "FileNotFoundError",
     "evalue": "[Errno 2] No such file or directory: 'mol_opt/output_transformer10-onebatch/model_transformer10-onebatch-nonconstrained_1600'",
     "output_type": "error",
     "traceback": [
      "\u001b[0;31m---------------------------------------------------------------------------\u001b[0m",
      "\u001b[0;31mFileNotFoundError\u001b[0m                         Traceback (most recent call last)",
      "\u001b[0;32m<ipython-input-154-4521fb9b209a>\u001b[0m in \u001b[0;36m<module>\u001b[0;34m\u001b[0m\n\u001b[1;32m      1\u001b[0m \u001b[0;32mfor\u001b[0m \u001b[0mi\u001b[0m \u001b[0;32min\u001b[0m \u001b[0mrange\u001b[0m\u001b[0;34m(\u001b[0m\u001b[0;36m0\u001b[0m\u001b[0;34m,\u001b[0m \u001b[0;36m2000\u001b[0m\u001b[0;34m)\u001b[0m\u001b[0;34m:\u001b[0m\u001b[0;34m\u001b[0m\u001b[0;34m\u001b[0m\u001b[0m\n\u001b[0;32m----> 2\u001b[0;31m     \u001b[0mprint\u001b[0m \u001b[0;34m(\u001b[0m\u001b[0mi\u001b[0m\u001b[0;34m,\u001b[0m \u001b[0mget_pen\u001b[0m\u001b[0;34m(\u001b[0m\u001b[0;36m1600\u001b[0m\u001b[0;34m)\u001b[0m\u001b[0;34m)\u001b[0m\u001b[0;34m\u001b[0m\u001b[0;34m\u001b[0m\u001b[0m\n\u001b[0m",
      "\u001b[0;32m<ipython-input-153-a93df54ba17f>\u001b[0m in \u001b[0;36mget_pen\u001b[0;34m(model_iter)\u001b[0m\n\u001b[1;32m      2\u001b[0m     \u001b[0mmodel_name\u001b[0m \u001b[0;34m=\u001b[0m \u001b[0;34m\"model_{}_{}\"\u001b[0m\u001b[0;34m.\u001b[0m\u001b[0mformat\u001b[0m\u001b[0;34m(\u001b[0m\u001b[0mmodel\u001b[0m\u001b[0;34m,\u001b[0m \u001b[0mmodel_iter\u001b[0m\u001b[0;34m)\u001b[0m\u001b[0;34m\u001b[0m\u001b[0;34m\u001b[0m\u001b[0m\n\u001b[1;32m      3\u001b[0m     \u001b[0mmodel_decode_name\u001b[0m \u001b[0;34m=\u001b[0m \u001b[0;34m\"model_{}_decode_{}\"\u001b[0m\u001b[0;34m.\u001b[0m\u001b[0mformat\u001b[0m\u001b[0;34m(\u001b[0m\u001b[0mmodel\u001b[0m\u001b[0;34m,\u001b[0m \u001b[0mmodel_iter\u001b[0m\u001b[0;34m)\u001b[0m\u001b[0;34m\u001b[0m\u001b[0;34m\u001b[0m\u001b[0m\n\u001b[0;32m----> 4\u001b[0;31m     \u001b[0mmolopt\u001b[0m\u001b[0;34m,\u001b[0m \u001b[0mconfig\u001b[0m \u001b[0;34m=\u001b[0m \u001b[0mload_model\u001b[0m\u001b[0;34m(\u001b[0m\u001b[0margs\u001b[0m\u001b[0;34m.\u001b[0m\u001b[0moutput_dir\u001b[0m \u001b[0;34m+\u001b[0m \u001b[0mmodel_name\u001b[0m\u001b[0;34m,\u001b[0m \u001b[0mMolOpt\u001b[0m\u001b[0;34m,\u001b[0m \u001b[0margs\u001b[0m\u001b[0;34m.\u001b[0m\u001b[0mdevice\u001b[0m\u001b[0;34m)\u001b[0m\u001b[0;34m\u001b[0m\u001b[0;34m\u001b[0m\u001b[0m\n\u001b[0m\u001b[1;32m      5\u001b[0m     \u001b[0mmolopt_decoder\u001b[0m\u001b[0;34m,\u001b[0m \u001b[0mconfig_decoder\u001b[0m \u001b[0;34m=\u001b[0m \u001b[0mload_model\u001b[0m\u001b[0;34m(\u001b[0m\u001b[0margs\u001b[0m\u001b[0;34m.\u001b[0m\u001b[0moutput_dir\u001b[0m \u001b[0;34m+\u001b[0m \u001b[0mmodel_decode_name\u001b[0m\u001b[0;34m,\u001b[0m \u001b[0mMolOptDecoder\u001b[0m\u001b[0;34m,\u001b[0m \u001b[0margs\u001b[0m\u001b[0;34m.\u001b[0m\u001b[0mdevice\u001b[0m\u001b[0;34m)\u001b[0m\u001b[0;34m\u001b[0m\u001b[0;34m\u001b[0m\u001b[0m\n\u001b[1;32m      6\u001b[0m     \u001b[0mx_embedding\u001b[0m \u001b[0;34m=\u001b[0m \u001b[0mmolopt\u001b[0m\u001b[0;34m.\u001b[0m\u001b[0mforward\u001b[0m\u001b[0;34m(\u001b[0m\u001b[0mX\u001b[0m\u001b[0;34m)\u001b[0m\u001b[0;34m\u001b[0m\u001b[0;34m\u001b[0m\u001b[0m\n",
      "\u001b[0;32m~/gitrepos/tum-thesis/otgnn/utils/model_utils.py\u001b[0m in \u001b[0;36mload_model\u001b[0;34m(path, model_class, device)\u001b[0m\n\u001b[1;32m     16\u001b[0m \u001b[0;31m# Load the model along with args for the model\u001b[0m\u001b[0;34m\u001b[0m\u001b[0;34m\u001b[0m\u001b[0;34m\u001b[0m\u001b[0m\n\u001b[1;32m     17\u001b[0m \u001b[0;32mdef\u001b[0m \u001b[0mload_model\u001b[0m\u001b[0;34m(\u001b[0m\u001b[0mpath\u001b[0m\u001b[0;34m,\u001b[0m \u001b[0mmodel_class\u001b[0m\u001b[0;34m,\u001b[0m \u001b[0mdevice\u001b[0m\u001b[0;34m)\u001b[0m\u001b[0;34m:\u001b[0m\u001b[0;34m\u001b[0m\u001b[0;34m\u001b[0m\u001b[0m\n\u001b[0;32m---> 18\u001b[0;31m     \u001b[0mmodel_dict\u001b[0m \u001b[0;34m=\u001b[0m \u001b[0mtorch\u001b[0m\u001b[0;34m.\u001b[0m\u001b[0mload\u001b[0m\u001b[0;34m(\u001b[0m\u001b[0mpath\u001b[0m\u001b[0;34m)\u001b[0m\u001b[0;34m\u001b[0m\u001b[0;34m\u001b[0m\u001b[0m\n\u001b[0m\u001b[1;32m     19\u001b[0m     \u001b[0margs\u001b[0m \u001b[0;34m=\u001b[0m \u001b[0mmodel_dict\u001b[0m\u001b[0;34m[\u001b[0m\u001b[0;34m'args'\u001b[0m\u001b[0;34m]\u001b[0m\u001b[0;34m\u001b[0m\u001b[0;34m\u001b[0m\u001b[0m\n\u001b[1;32m     20\u001b[0m \u001b[0;34m\u001b[0m\u001b[0m\n",
      "\u001b[0;32m~/anaconda3/envs/mol_ot/lib/python3.6/site-packages/torch/serialization.py\u001b[0m in \u001b[0;36mload\u001b[0;34m(f, map_location, pickle_module, **pickle_load_args)\u001b[0m\n\u001b[1;32m    569\u001b[0m         \u001b[0mpickle_load_args\u001b[0m\u001b[0;34m[\u001b[0m\u001b[0;34m'encoding'\u001b[0m\u001b[0;34m]\u001b[0m \u001b[0;34m=\u001b[0m \u001b[0;34m'utf-8'\u001b[0m\u001b[0;34m\u001b[0m\u001b[0;34m\u001b[0m\u001b[0m\n\u001b[1;32m    570\u001b[0m \u001b[0;34m\u001b[0m\u001b[0m\n\u001b[0;32m--> 571\u001b[0;31m     \u001b[0;32mwith\u001b[0m \u001b[0m_open_file_like\u001b[0m\u001b[0;34m(\u001b[0m\u001b[0mf\u001b[0m\u001b[0;34m,\u001b[0m \u001b[0;34m'rb'\u001b[0m\u001b[0;34m)\u001b[0m \u001b[0;32mas\u001b[0m \u001b[0mopened_file\u001b[0m\u001b[0;34m:\u001b[0m\u001b[0;34m\u001b[0m\u001b[0;34m\u001b[0m\u001b[0m\n\u001b[0m\u001b[1;32m    572\u001b[0m         \u001b[0;32mif\u001b[0m \u001b[0m_is_zipfile\u001b[0m\u001b[0;34m(\u001b[0m\u001b[0mopened_file\u001b[0m\u001b[0;34m)\u001b[0m\u001b[0;34m:\u001b[0m\u001b[0;34m\u001b[0m\u001b[0;34m\u001b[0m\u001b[0m\n\u001b[1;32m    573\u001b[0m             \u001b[0;31m# The zipfile reader is going to advance the current file position.\u001b[0m\u001b[0;34m\u001b[0m\u001b[0;34m\u001b[0m\u001b[0;34m\u001b[0m\u001b[0m\n",
      "\u001b[0;32m~/anaconda3/envs/mol_ot/lib/python3.6/site-packages/torch/serialization.py\u001b[0m in \u001b[0;36m_open_file_like\u001b[0;34m(name_or_buffer, mode)\u001b[0m\n\u001b[1;32m    227\u001b[0m \u001b[0;32mdef\u001b[0m \u001b[0m_open_file_like\u001b[0m\u001b[0;34m(\u001b[0m\u001b[0mname_or_buffer\u001b[0m\u001b[0;34m,\u001b[0m \u001b[0mmode\u001b[0m\u001b[0;34m)\u001b[0m\u001b[0;34m:\u001b[0m\u001b[0;34m\u001b[0m\u001b[0;34m\u001b[0m\u001b[0m\n\u001b[1;32m    228\u001b[0m     \u001b[0;32mif\u001b[0m \u001b[0m_is_path\u001b[0m\u001b[0;34m(\u001b[0m\u001b[0mname_or_buffer\u001b[0m\u001b[0;34m)\u001b[0m\u001b[0;34m:\u001b[0m\u001b[0;34m\u001b[0m\u001b[0;34m\u001b[0m\u001b[0m\n\u001b[0;32m--> 229\u001b[0;31m         \u001b[0;32mreturn\u001b[0m \u001b[0m_open_file\u001b[0m\u001b[0;34m(\u001b[0m\u001b[0mname_or_buffer\u001b[0m\u001b[0;34m,\u001b[0m \u001b[0mmode\u001b[0m\u001b[0;34m)\u001b[0m\u001b[0;34m\u001b[0m\u001b[0;34m\u001b[0m\u001b[0m\n\u001b[0m\u001b[1;32m    230\u001b[0m     \u001b[0;32melse\u001b[0m\u001b[0;34m:\u001b[0m\u001b[0;34m\u001b[0m\u001b[0;34m\u001b[0m\u001b[0m\n\u001b[1;32m    231\u001b[0m         \u001b[0;32mif\u001b[0m \u001b[0;34m'w'\u001b[0m \u001b[0;32min\u001b[0m \u001b[0mmode\u001b[0m\u001b[0;34m:\u001b[0m\u001b[0;34m\u001b[0m\u001b[0;34m\u001b[0m\u001b[0m\n",
      "\u001b[0;32m~/anaconda3/envs/mol_ot/lib/python3.6/site-packages/torch/serialization.py\u001b[0m in \u001b[0;36m__init__\u001b[0;34m(self, name, mode)\u001b[0m\n\u001b[1;32m    208\u001b[0m \u001b[0;32mclass\u001b[0m \u001b[0m_open_file\u001b[0m\u001b[0;34m(\u001b[0m\u001b[0m_opener\u001b[0m\u001b[0;34m)\u001b[0m\u001b[0;34m:\u001b[0m\u001b[0;34m\u001b[0m\u001b[0;34m\u001b[0m\u001b[0m\n\u001b[1;32m    209\u001b[0m     \u001b[0;32mdef\u001b[0m \u001b[0m__init__\u001b[0m\u001b[0;34m(\u001b[0m\u001b[0mself\u001b[0m\u001b[0;34m,\u001b[0m \u001b[0mname\u001b[0m\u001b[0;34m,\u001b[0m \u001b[0mmode\u001b[0m\u001b[0;34m)\u001b[0m\u001b[0;34m:\u001b[0m\u001b[0;34m\u001b[0m\u001b[0;34m\u001b[0m\u001b[0m\n\u001b[0;32m--> 210\u001b[0;31m         \u001b[0msuper\u001b[0m\u001b[0;34m(\u001b[0m\u001b[0m_open_file\u001b[0m\u001b[0;34m,\u001b[0m \u001b[0mself\u001b[0m\u001b[0;34m)\u001b[0m\u001b[0;34m.\u001b[0m\u001b[0m__init__\u001b[0m\u001b[0;34m(\u001b[0m\u001b[0mopen\u001b[0m\u001b[0;34m(\u001b[0m\u001b[0mname\u001b[0m\u001b[0;34m,\u001b[0m \u001b[0mmode\u001b[0m\u001b[0;34m)\u001b[0m\u001b[0;34m)\u001b[0m\u001b[0;34m\u001b[0m\u001b[0;34m\u001b[0m\u001b[0m\n\u001b[0m\u001b[1;32m    211\u001b[0m \u001b[0;34m\u001b[0m\u001b[0m\n\u001b[1;32m    212\u001b[0m     \u001b[0;32mdef\u001b[0m \u001b[0m__exit__\u001b[0m\u001b[0;34m(\u001b[0m\u001b[0mself\u001b[0m\u001b[0;34m,\u001b[0m \u001b[0;34m*\u001b[0m\u001b[0margs\u001b[0m\u001b[0;34m)\u001b[0m\u001b[0;34m:\u001b[0m\u001b[0;34m\u001b[0m\u001b[0;34m\u001b[0m\u001b[0m\n",
      "\u001b[0;31mFileNotFoundError\u001b[0m: [Errno 2] No such file or directory: 'mol_opt/output_transformer10-onebatch/model_transformer10-onebatch-nonconstrained_1600'"
     ]
    }
   ],
   "source": [
    "for i in range(0, 2000):\n",
    "    print (i, get_pen(1600))"
   ]
  },
  {
   "cell_type": "code",
   "execution_count": null,
   "metadata": {},
   "outputs": [],
   "source": [
    "# adjM = pen_loss\n",
    "# N = adjM.shape[0]\n",
    "# device = adjM.device\n",
    "# # We need the laplacian otherwise\n",
    "# L = torch.diag(torch.matmul(adjM, torch.ones(N, device=device))) - adjM # Laplacian\n",
    "# L_mod = L + torch.ones_like(L, device=device) / N\n",
    "# eigenvals = torch.symeig(L_mod + 1e-06 * torch.eye(N, device=device), eigenvectors=True)[0]\n",
    "# -torch.sum(torch.log(eigenvals.clamp(max = 1e-01))) + len(eigenvals) * np.log(1e-01)"
   ]
  },
  {
   "cell_type": "code",
   "execution_count": null,
   "metadata": {},
   "outputs": [],
   "source": [
    "F.gumbel_softmax(symbols_logits, dim=1, tau=0.5)"
   ]
  },
  {
   "cell_type": "code",
   "execution_count": null,
   "metadata": {},
   "outputs": [],
   "source": []
  }
 ],
 "metadata": {
  "kernelspec": {
   "display_name": "Python 3",
   "language": "python",
   "name": "python3"
  },
  "language_info": {
   "codemirror_mode": {
    "name": "ipython",
    "version": 3
   },
   "file_extension": ".py",
   "mimetype": "text/x-python",
   "name": "python",
   "nbconvert_exporter": "python",
   "pygments_lexer": "ipython3",
   "version": "3.6.12"
  }
 },
 "nbformat": 4,
 "nbformat_minor": 4
}
