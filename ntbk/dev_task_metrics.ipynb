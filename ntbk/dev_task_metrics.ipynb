{
 "cells": [
  {
   "cell_type": "code",
   "execution_count": 1,
   "metadata": {},
   "outputs": [
    {
     "name": "stdout",
     "output_type": "stream",
     "text": [
      "/home/octav/gitrepos/tum-thesis\n"
     ]
    }
   ],
   "source": [
    "import os\n",
    "if \"ntbk\" in os.getcwd():\n",
    "    os.chdir(\"..\")\n",
    "print(os.getcwd())\n",
    "\n",
    "import sys\n",
    "sys.path.append(os.path.join(os.getcwd(), \"otgnn\"))\n",
    "sys.path.append(os.path.join(os.getcwd(), \"molgen\"))\n",
    "\n",
    "%load_ext autoreload\n",
    "%autoreload 2"
   ]
  },
  {
   "cell_type": "code",
   "execution_count": 2,
   "metadata": {},
   "outputs": [],
   "source": [
    "from otgnn.models import GCN\n",
    "# from molgen.dataloading.MolGraphBatchPreprocessor import MolGraph\n",
    "from otgnn.graph import MolGraph\n",
    "from otgnn.utils import save_model, load_model\n",
    "from otgnn.graph import SYMBOLS, FORMAL_CHARGES, BOND_TYPES\n",
    "\n",
    "\n",
    "from mol_opt.data_mol_opt import MolOptDataset\n",
    "from mol_opt.data_mol_opt import get_loader\n",
    "from mol_opt.arguments import get_args\n",
    "from mol_opt.train_mol_opt import main\n",
    "from mol_opt.mol_opt import MolOpt\n",
    "from mol_opt.decoder_mol_opt import MolOptDecoder\n",
    "from mol_opt.ot_utils import encode_target\n",
    "from mol_opt.task_metrics import props\n",
    "\n",
    "from molgen.dataloading.feat2smiles import feat2smiles\n",
    "from molgen.dataloading.mol_drawer import MolDrawer\n",
    "from molgen.metrics.Penalty import Penalty\n",
    "\n",
    "from rdkit.Chem.Draw import IPythonConsole"
   ]
  },
  {
   "cell_type": "code",
   "execution_count": 3,
   "metadata": {},
   "outputs": [
    {
     "data": {
      "text/plain": [
       "<function properties.similarity(a, b)>"
      ]
     },
     "execution_count": 3,
     "metadata": {},
     "output_type": "execute_result"
    }
   ],
   "source": [
    "props.similarity"
   ]
  },
  {
   "cell_type": "code",
   "execution_count": 4,
   "metadata": {},
   "outputs": [
    {
     "data": {
      "text/plain": [
       "<function molgen.dataloading.feat2smiles.feat2smiles(SYMBOLS, FORMAL_CHARGES, BOND_TYPES, symbols, charges, bonds, include_charge=False)>"
      ]
     },
     "execution_count": 4,
     "metadata": {},
     "output_type": "execute_result"
    }
   ],
   "source": [
    "feat2smiles"
   ]
  },
  {
   "cell_type": "markdown",
   "metadata": {},
   "source": [
    "# Get some predicted molecules from the model"
   ]
  },
  {
   "cell_type": "code",
   "execution_count": 5,
   "metadata": {},
   "outputs": [
    {
     "name": "stdout",
     "output_type": "stream",
     "text": [
      "MolOpt(\n",
      "  (GCN): GCN(\n",
      "    (W_message_i): Linear(in_features=100, out_features=50, bias=False)\n",
      "    (W_message_h): Linear(in_features=50, out_features=50, bias=False)\n",
      "    (W_message_o): Linear(in_features=143, out_features=50, bias=True)\n",
      "    (W_mol_h): Linear(in_features=50, out_features=100, bias=True)\n",
      "    (W_mol_o): Linear(in_features=100, out_features=1, bias=True)\n",
      "    (dropout_gcn): Dropout(p=0.0, inplace=False)\n",
      "    (dropout_ffn): Dropout(p=0.0, inplace=False)\n",
      "  )\n",
      "  (opt0): Linear(in_features=50, out_features=50, bias=True)\n",
      "  (opt1): Linear(in_features=50, out_features=50, bias=True)\n",
      ") Namespace(N_transformer=6, agg_func='sum', batch_norm=False, cuda=True, device='cuda:0', dim_tangent_space=40, dropout_ffn=0.0, dropout_gcn=0.0, dropout_transformer=0.1, ffn_activation='LeakyReLU', init_decoder_model='transformer2_decode', init_model='transformer2', linear_out=False, n_epochs=40, n_ffn_hidden=100, n_ffn_transformer=100, n_heads_transformer=10, n_hidden=50, n_labels=1, n_layers=5, ot_solver='emd', output_dir='mol_opt/output', pc_hidden=50, penalty_lambda=1, pred_hidden=150, sinkhorn_entropy=0.1, sinkhorn_max_it=10000)\n",
      "MolOptDecoder(\n",
      "  (fc1_SYMBOLS): Linear(in_features=50, out_features=150, bias=True)\n",
      "  (fc2_SYMBOLS): Linear(in_features=150, out_features=64, bias=True)\n",
      "  (fc1_CHARGES): Linear(in_features=50, out_features=150, bias=True)\n",
      "  (fc2_CHARGES): Linear(in_features=150, out_features=5, bias=True)\n",
      "  (fc1_BONDS): Linear(in_features=100, out_features=150, bias=True)\n",
      "  (fc2_BONDS): Linear(in_features=150, out_features=5, bias=True)\n",
      ") Namespace(N_transformer=6, agg_func='sum', batch_norm=False, cuda=True, device='cuda:0', dim_tangent_space=40, dropout_ffn=0.0, dropout_gcn=0.0, dropout_transformer=0.1, ffn_activation='LeakyReLU', init_decoder_model='transformer2_decode', init_model='transformer2', linear_out=False, n_epochs=40, n_ffn_hidden=100, n_ffn_transformer=100, n_heads_transformer=10, n_hidden=50, n_labels=1, n_layers=5, ot_solver='emd', output_dir='mol_opt/output', pc_hidden=50, penalty_lambda=1, pred_hidden=150, sinkhorn_entropy=0.1, sinkhorn_max_it=10000)\n"
     ]
    }
   ],
   "source": [
    "sys.argv = [\"\", \"-cuda\"]\n",
    "args = get_args()\n",
    "args.output_dir = \"mol_opt/output/\"\n",
    "\n",
    "model = \"transformer2\"\n",
    "model_iter = 26 \n",
    "\n",
    "model_name = \"model_{}_{}\".format(model, model_iter)\n",
    "model_decode_name = \"model_{}_decode_{}\".format(model, model_iter)\n",
    "\n",
    "molopt, config = load_model(args.output_dir + model_name, MolOpt, args.device)\n",
    "print (molopt, config)\n",
    "\n",
    "molopt_decoder, config_decoder = load_model(args.output_dir + model_decode_name, MolOptDecoder, args.device)\n",
    "print (molopt_decoder, config_decoder)"
   ]
  },
  {
   "cell_type": "code",
   "execution_count": 6,
   "metadata": {},
   "outputs": [],
   "source": [
    "train_data_loader = get_loader(\"iclr19-graph2graph/data/qed\", \"train\", 96, False)\n",
    "val_data_loader = get_loader(\"iclr19-graph2graph/data/qed\", \"val\", 96, False)\n",
    "\n",
    "for i in val_data_loader:\n",
    "    X = (MolGraph(i[0]))\n",
    "    Y = (MolGraph(i[1]))\n",
    "    break"
   ]
  },
  {
   "cell_type": "code",
   "execution_count": 7,
   "metadata": {},
   "outputs": [],
   "source": [
    "x_embedding, x_delta_hat = molopt.forward(X)\n",
    "results_logits = molopt_decoder.forward(x_embedding + x_delta_hat, Y)\n",
    "results_labels = molopt_decoder.discretize(*results_logits)\n",
    "\n",
    "symbols_logits, charges_logits, bonds_logits = results_logits\n",
    "symbols_labels, charges_labels, bonds_labels = results_labels\n",
    "\n",
    "target_symbols, target_bonds = encode_target(Y)\n",
    "target_charges = target_symbols\n",
    "target_symbols_labels, target_charges_labels, target_bonds_labels = molopt_decoder.discretize(target_symbols, target_charges, target_bonds)"
   ]
  },
  {
   "cell_type": "code",
   "execution_count": 8,
   "metadata": {},
   "outputs": [],
   "source": [
    "#preprocess\n",
    "from rdkit import Chem\n",
    "initial_smiles = [Chem.MolToSmiles(x) for x in X.rd_mols]\n",
    "target_smiles = [Chem.MolToSmiles(y) for y in Y.rd_mols]\n",
    "\n",
    "labels = (symbols_labels, charges_labels, bonds_labels)\n",
    "# labels = (target_symbols_labels, target_charges_labels, target_bonds_labels)\n",
    "prediction = (labels, None, Y.scope)"
   ]
  },
  {
   "cell_type": "code",
   "execution_count": 9,
   "metadata": {},
   "outputs": [
    {
     "data": {
      "image/png": "[encoded data removed]",
      "text/plain": [
       "<rdkit.Chem.rdchem.Mol at 0x7f6f4ff47530>"
      ]
     },
     "execution_count": 9,
     "metadata": {},
     "output_type": "execute_result"
    }
   ],
   "source": [
    "Chem.MolFromSmiles(initial_smiles[0], sanitize = False)"
   ]
  },
  {
   "cell_type": "code",
   "execution_count": 10,
   "metadata": {},
   "outputs": [
    {
     "data": {
      "image/png": "[encoded data removed]",
      "text/plain": [
       "<rdkit.Chem.rdchem.Mol at 0x7f6f4ff471c0>"
      ]
     },
     "execution_count": 10,
     "metadata": {},
     "output_type": "execute_result"
    }
   ],
   "source": [
    "Chem.MolFromSmiles(target_smiles[0], sanitize = False)"
   ]
  },
  {
   "cell_type": "code",
   "execution_count": 11,
   "metadata": {},
   "outputs": [],
   "source": [
    "bond_idx = 0\n",
    "pred_smiles = []\n",
    "for mol_idx, (st, le) in enumerate(Y.scope):\n",
    "    symbols_labels_crt = symbols_labels[st:st+le]\n",
    "    charges_labels_crt = charges_labels[st:st+le]\n",
    "    bonds_labels_crt = bonds_labels[bond_idx:bond_idx+le*le].view(le, le, -1)\n",
    "    \n",
    "    pred_smiles.append(feat2smiles(SYMBOLS, FORMAL_CHARGES, BOND_TYPES, symbols_labels_crt, charges_labels_crt, bonds_labels_crt))\n",
    "    \n",
    "    bond_idx += le * le"
   ]
  },
  {
   "cell_type": "code",
   "execution_count": 12,
   "metadata": {},
   "outputs": [
    {
     "data": {
      "image/png": "[encoded data removed]",
      "text/plain": [
       "<rdkit.Chem.rdchem.Mol at 0x7f6f42e33260>"
      ]
     },
     "execution_count": 12,
     "metadata": {},
     "output_type": "execute_result"
    }
   ],
   "source": [
    "Chem.MolFromSmiles(pred_smiles[3], sanitize = False)"
   ]
  },
  {
   "cell_type": "markdown",
   "metadata": {},
   "source": [
    "# Wengong metrics"
   ]
  },
  {
   "cell_type": "code",
   "execution_count": 29,
   "metadata": {},
   "outputs": [
    {
     "name": "stdout",
     "output_type": "stream",
     "text": [
      "Similarity scores\n",
      "Y similarity: 0.40350877192982454\n",
      "Yhat similar: 0.1\n",
      "Y-Yh similar: 0.125\n",
      "\n",
      "QED scores\n",
      "X QED score 0.795289847612256\n",
      "Y QED score 0.9010565120735919\n",
      "Yhat QED sc 0.6807624251479036\n",
      "\n",
      "Penalized LogP\n",
      "X penlogp 1.5078776205100688\n",
      "Y penlogp 1.6231857337123865\n",
      "Yhat penl 1.6572227558369357\n"
     ]
    }
   ],
   "source": [
    "idx = 3\n",
    "pmol = pred_smiles[idx]\n",
    "xmol = initial_smiles[idx]\n",
    "ymol = target_smiles[idx]\n",
    "\n",
    "print(\"Similarity scores\")\n",
    "print(\"Y similarity:\", props.similarity(ymol, xmol))\n",
    "print(\"Yhat similar:\", props.similarity(pmol, xmol))\n",
    "print(\"Y-Yh similar:\", props.similarity(pmol, ymol))\n",
    "print()\n",
    "print(\"QED scores\")\n",
    "print(\"X QED score\", props.qed(xmol))\n",
    "print(\"Y QED score\", props.qed(ymol))\n",
    "print(\"Yhat QED sc\", props.qed(pmol))\n",
    "print()\n",
    "print(\"Penalized LogP\")\n",
    "print(\"X penlogp\", props.penalized_logp(xmol))\n",
    "print(\"Y penlogp\", props.penalized_logp(ymol))\n",
    "print(\"Yhat penl\", props.penalized_logp(pmol))\n",
    "# print(\"DRD scores\")\n",
    "# print(\"X DRD score\", props.drd2(xmol))\n",
    "# print(\"Y DRD score\", props.drd2(ymol))\n",
    "# print(\"Yhat DRD sc\", props.drd2(pmol))\n",
    "\n"
   ]
  },
  {
   "cell_type": "markdown",
   "metadata": {},
   "source": [
    "# Pani metrics"
   ]
  },
  {
   "cell_type": "code",
   "execution_count": 109,
   "metadata": {},
   "outputs": [],
   "source": [
    "from molgen.metrics.mol_metrics import MolMetrics\n",
    "\n",
    "metrics = MolMetrics(SYMBOLS, FORMAL_CHARGES, BOND_TYPES, False)\n",
    "\n",
    "# Y.get_graph_outputs()"
   ]
  },
  {
   "cell_type": "code",
   "execution_count": 110,
   "metadata": {},
   "outputs": [
    {
     "data": {
      "text/plain": [
       "{'molecular_disconnected_validity': 25.0,\n",
       " 'molecular_validity': 1.0416666666666667,\n",
       " 'symbol_accuracy': 87.0136186770428,\n",
       " 'connected_components': 3.7395833333333335,\n",
       " 'invalid_valency_nodes': 8.852140077821012}"
      ]
     },
     "execution_count": 110,
     "metadata": {},
     "output_type": "execute_result"
    }
   ],
   "source": [
    "pred_pack = (results_labels, results_logits, Y.scope)\n",
    "metrics.measure_batch(pred_pack, Y.get_graph_outputs())"
   ]
  },
  {
   "cell_type": "code",
   "execution_count": 95,
   "metadata": {},
   "outputs": [
    {
     "data": {
      "image/png": "[encoded data removed]",
      "text/plain": [
       "<rdkit.Chem.rdchem.Mol at 0x7f6ecddad1c0>"
      ]
     },
     "execution_count": 95,
     "metadata": {},
     "output_type": "execute_result"
    }
   ],
   "source": [
    "for s in pred_smiles:\n",
    "    try:\n",
    "        if len(Chem.GetMolFrags(Chem.MolFromSmiles(s))) == 1:\n",
    "            break\n",
    "    except:\n",
    "        continue\n",
    "        \n",
    "Chem.MolFromSmiles(s)"
   ]
  },
  {
   "cell_type": "code",
   "execution_count": 96,
   "metadata": {
    "scrolled": true
   },
   "outputs": [
    {
     "name": "stdout",
     "output_type": "stream",
     "text": [
      "0 N/A\n",
      "1 3\n",
      "2 7\n",
      "3 4\n"
     ]
    }
   ],
   "source": [
    "for i, s in enumerate(pred_smiles):\n",
    "    try:\n",
    "        print (i, len(Chem.GetMolFrags(Chem.MolFromSmiles(s))))\n",
    "    except:\n",
    "        print (i, \"N/A\")"
   ]
  },
  {
   "cell_type": "code",
   "execution_count": 97,
   "metadata": {},
   "outputs": [],
   "source": [
    "# debug a particular molecule\n",
    "bond_idx = 0\n",
    "pred_smiles = []\n",
    "for mol_idx, (st, le) in enumerate(Y.scope):\n",
    "    symbols_labels_crt = symbols_labels[st:st+le]\n",
    "    charges_labels_crt = charges_labels[st:st+le]\n",
    "    bonds_labels_crt = bonds_labels[bond_idx:bond_idx+le*le].view(le, le, -1)\n",
    "    \n",
    "    pred_smiles.append(feat2smiles(SYMBOLS, FORMAL_CHARGES, BOND_TYPES, symbols_labels_crt, charges_labels_crt, bonds_labels_crt))\n",
    "    \n",
    "    bond_idx += le * le\n",
    "    \n",
    "    if mol_idx == idx:\n",
    "        break"
   ]
  },
  {
   "cell_type": "code",
   "execution_count": 98,
   "metadata": {},
   "outputs": [
    {
     "data": {
      "text/plain": [
       "15"
      ]
     },
     "execution_count": 98,
     "metadata": {},
     "output_type": "execute_result"
    }
   ],
   "source": [
    "metrics.sample_invalid_valency_nodes(symbols_labels_crt, charges_labels_crt, bonds_labels_crt)"
   ]
  },
  {
   "cell_type": "code",
   "execution_count": 99,
   "metadata": {},
   "outputs": [
    {
     "data": {
      "image/png": "[encoded data removed]",
      "text/plain": [
       "<rdkit.Chem.rdchem.Mol at 0x7f6ecddad260>"
      ]
     },
     "execution_count": 99,
     "metadata": {},
     "output_type": "execute_result"
    }
   ],
   "source": [
    "Chem.MolFromSmiles(pred_smiles[idx])"
   ]
  },
  {
   "cell_type": "code",
   "execution_count": 100,
   "metadata": {},
   "outputs": [
    {
     "data": {
      "text/plain": [
       "15"
      ]
     },
     "execution_count": 100,
     "metadata": {},
     "output_type": "execute_result"
    }
   ],
   "source": [
    "len(symbols_labels_crt)"
   ]
  },
  {
   "cell_type": "code",
   "execution_count": 108,
   "metadata": {},
   "outputs": [
    {
     "name": "stdout",
     "output_type": "stream",
     "text": [
      "O\n",
      "56 2\n",
      "C\n",
      "52 4\n",
      "C\n",
      "56 4\n",
      "C\n",
      "52 4\n",
      "C\n",
      "56 4\n",
      "C\n",
      "60 4\n",
      "C\n",
      "56 4\n",
      "C\n",
      "52 4\n",
      "C\n",
      "56 4\n",
      "C\n",
      "52 4\n",
      "C\n",
      "52 4\n",
      "C\n",
      "48 4\n",
      "C\n",
      "60 4\n",
      "C\n",
      "48 4\n",
      "C\n",
      "56 4\n"
     ]
    }
   ],
   "source": [
    "import torch \n",
    "\n",
    "invalid_atoms = 0\n",
    "for atom_idx, atom in enumerate(symbols_labels_crt):\n",
    "    print (metrics.SYMBOLS[atom])\n",
    "    if metrics.SYMBOLS[atom] == 'UNK':\n",
    "        invalid_atoms += 1\n",
    "        continue\n",
    "    effVal = torch.sum(bonds_labels_crt[atom_idx]).item()\n",
    "    maxVal = Chem.GetPeriodicTable().GetValenceList(metrics.SYMBOLS[atom])[-1]\n",
    "    print (effVal, maxVal)\n",
    "    if maxVal > 0 and effVal > maxVal:\n",
    "        invalid_atoms += 1"
   ]
  },
  {
   "cell_type": "code",
   "execution_count": 111,
   "metadata": {},
   "outputs": [
    {
     "data": {
      "text/plain": [
       "tensor([1.])"
      ]
     },
     "execution_count": 111,
     "metadata": {},
     "output_type": "execute_result"
    }
   ],
   "source": [
    "sum([metrics.bond_weights[x] for x in bonds_labels_crt[atom_idx]])"
   ]
  },
  {
   "cell_type": "code",
   "execution_count": 125,
   "metadata": {},
   "outputs": [],
   "source": [
    "from mol_opt.task_metrics import measure_task"
   ]
  },
  {
   "cell_type": "code",
   "execution_count": 137,
   "metadata": {},
   "outputs": [
    {
     "data": {
      "text/plain": [
       "{'X-Yh similar': 0.016314177670246437,\n",
       " 'Yhat QED': 0.16843420756360675,\n",
       " 'Yhat penlog': -75.60692417297243}"
      ]
     },
     "execution_count": 137,
     "metadata": {},
     "output_type": "execute_result"
    }
   ],
   "source": [
    "measure_task(X,pred_pack)"
   ]
  },
  {
   "cell_type": "code",
   "execution_count": null,
   "metadata": {},
   "outputs": [],
   "source": []
  }
 ],
 "metadata": {
  "kernelspec": {
   "display_name": "Python 3",
   "language": "python",
   "name": "python3"
  },
  "language_info": {
   "codemirror_mode": {
    "name": "ipython",
    "version": 3
   },
   "file_extension": ".py",
   "mimetype": "text/x-python",
   "name": "python",
   "nbconvert_exporter": "python",
   "pygments_lexer": "ipython3",
   "version": "3.6.10"
  }
 },
 "nbformat": 4,
 "nbformat_minor": 4
}
